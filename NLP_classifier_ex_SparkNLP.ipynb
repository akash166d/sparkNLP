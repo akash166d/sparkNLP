{
  "nbformat": 4,
  "nbformat_minor": 0,
  "metadata": {
    "colab": {
      "name": "NLP_classifier_ex_SparkNLP.ipynb",
      "provenance": [],
      "collapsed_sections": [],
      "toc_visible": true,
      "authorship_tag": "ABX9TyP9yJDeXRv9klljJw+faH4f",
      "include_colab_link": true
    },
    "kernelspec": {
      "name": "python3",
      "display_name": "Python 3"
    }
  },
  "cells": [
    {
      "cell_type": "markdown",
      "metadata": {
        "id": "view-in-github",
        "colab_type": "text"
      },
      "source": [
        "<a href=\"https://colab.research.google.com/github/akash166d/sparkNLP/blob/master/NLP_classifier_ex_SparkNLP.ipynb\" target=\"_parent\"><img src=\"https://colab.research.google.com/assets/colab-badge.svg\" alt=\"Open In Colab\"/></a>"
      ]
    },
    {
      "cell_type": "markdown",
      "metadata": {
        "id": "nBmc0480QLzB",
        "colab_type": "text"
      },
      "source": [
        "# Install Package/Lib"
      ]
    },
    {
      "cell_type": "markdown",
      "metadata": {
        "id": "Cwc2OqTH16VJ",
        "colab_type": "text"
      },
      "source": [
        "This is required to ensure the ubuntu related dependencies are up to date"
      ]
    },
    {
      "cell_type": "code",
      "metadata": {
        "id": "GQwcI3O3KCty",
        "colab_type": "code",
        "colab": {
          "base_uri": "https://localhost:8080/",
          "height": 1000
        },
        "outputId": "f71f8f78-db67-43b0-954b-5db4225b5ddb"
      },
      "source": [
        "! sudo apt-get update --fix-missing\n",
        "! sudo apt-get upgrade --fix-missing"
      ],
      "execution_count": 3,
      "outputs": [
        {
          "output_type": "stream",
          "text": [
            "Get:1 https://cloud.r-project.org/bin/linux/ubuntu bionic-cran35/ InRelease [3,626 B]\n",
            "Ign:2 https://developer.download.nvidia.com/compute/cuda/repos/ubuntu1804/x86_64  InRelease\n",
            "Get:3 http://security.ubuntu.com/ubuntu bionic-security InRelease [88.7 kB]\n",
            "Ign:4 https://developer.download.nvidia.com/compute/machine-learning/repos/ubuntu1804/x86_64  InRelease\n",
            "Get:5 https://developer.download.nvidia.com/compute/cuda/repos/ubuntu1804/x86_64  Release [697 B]\n",
            "Hit:6 http://ppa.launchpad.net/graphics-drivers/ppa/ubuntu bionic InRelease\n",
            "Hit:7 https://developer.download.nvidia.com/compute/machine-learning/repos/ubuntu1804/x86_64  Release\n",
            "Get:8 https://developer.download.nvidia.com/compute/cuda/repos/ubuntu1804/x86_64  Release.gpg [836 B]\n",
            "Hit:10 http://archive.ubuntu.com/ubuntu bionic InRelease\n",
            "Ign:11 https://developer.download.nvidia.com/compute/cuda/repos/ubuntu1804/x86_64  Packages\n",
            "Get:11 https://developer.download.nvidia.com/compute/cuda/repos/ubuntu1804/x86_64  Packages [255 kB]\n",
            "Get:12 http://ppa.launchpad.net/marutter/c2d4u3.5/ubuntu bionic InRelease [15.4 kB]\n",
            "Get:13 http://archive.ubuntu.com/ubuntu bionic-updates InRelease [88.7 kB]\n",
            "Get:14 http://security.ubuntu.com/ubuntu bionic-security/universe amd64 Packages [882 kB]\n",
            "Get:15 http://ppa.launchpad.net/marutter/c2d4u3.5/ubuntu bionic/main Sources [1,856 kB]\n",
            "Get:16 http://archive.ubuntu.com/ubuntu bionic-backports InRelease [74.6 kB]\n",
            "Get:17 http://archive.ubuntu.com/ubuntu bionic-updates/universe amd64 Packages [1,413 kB]\n",
            "Get:18 http://security.ubuntu.com/ubuntu bionic-security/main amd64 Packages [1,037 kB]\n",
            "Get:19 http://security.ubuntu.com/ubuntu bionic-security/multiverse amd64 Packages [9,558 B]\n",
            "Get:20 http://archive.ubuntu.com/ubuntu bionic-updates/main amd64 Packages [1,334 kB]\n",
            "Get:21 http://archive.ubuntu.com/ubuntu bionic-updates/multiverse amd64 Packages [27.1 kB]\n",
            "Get:22 http://archive.ubuntu.com/ubuntu bionic-updates/restricted amd64 Packages [116 kB]\n",
            "Get:23 http://ppa.launchpad.net/marutter/c2d4u3.5/ubuntu bionic/main amd64 Packages [896 kB]\n",
            "Fetched 8,098 kB in 5s (1,532 kB/s)\n",
            "Reading package lists... Done\n",
            "Reading package lists... Done\n",
            "Building dependency tree       \n",
            "Reading state information... Done\n",
            "Calculating upgrade... Done\n",
            "The following package was automatically installed and is no longer required:\n",
            "  libnvidia-common-440\n",
            "Use 'sudo apt autoremove' to remove it.\n",
            "The following packages have been kept back:\n",
            "  libcublas-dev libcublas10 libcudnn7 libcudnn7-dev libnccl-dev libnccl2\n",
            "  r-cran-tidyr\n",
            "The following packages will be upgraded:\n",
            "  base-files binutils binutils-common binutils-x86-64-linux-gnu bsdutils\n",
            "  cuda-compat-10-1 e2fsprogs fdisk kmod libbinutils libblkid1 libc-bin\n",
            "  libcom-err2 libext2fs2 libfdisk1 libgcrypt20 libgnutls30 libkmod2\n",
            "  libldap-2.4-2 libldap-common libmount1 libnss3 libpam-systemd libpulse0\n",
            "  libsasl2-2 libsasl2-modules-db libseccomp2 libsmartcols1 libsqlite3-0 libss2\n",
            "  libssh-gcrypt-4 libsystemd0 libudev1 linux-libc-dev module-init-tools mount\n",
            "  openssl r-cran-dplyr r-cran-dt r-cran-fs systemd systemd-sysv udev\n",
            "  util-linux\n",
            "44 upgraded, 0 newly installed, 0 to remove and 7 not upgraded.\n",
            "Need to get 22.8 MB of archives.\n",
            "After this operation, 315 kB of additional disk space will be used.\n",
            "Get:1 https://developer.download.nvidia.com/compute/cuda/repos/ubuntu1804/x86_64  cuda-compat-10-1 418.152.00-1 [5,246 kB]\n",
            "Get:2 http://ppa.launchpad.net/marutter/c2d4u3.5/ubuntu bionic/main amd64 r-cran-dplyr amd64 1.0.1-1cran1.1804.0 [1,040 kB]\n",
            "Get:3 http://archive.ubuntu.com/ubuntu bionic-updates/main amd64 base-files amd64 10.1ubuntu2.9 [59.9 kB]\n",
            "Get:4 http://archive.ubuntu.com/ubuntu bionic-updates/main amd64 bsdutils amd64 1:2.31.1-0.4ubuntu3.6 [60.3 kB]\n",
            "Get:5 http://archive.ubuntu.com/ubuntu bionic-updates/main amd64 libext2fs2 amd64 1.44.1-1ubuntu1.3 [157 kB]\n",
            "Get:6 http://archive.ubuntu.com/ubuntu bionic-updates/main amd64 e2fsprogs amd64 1.44.1-1ubuntu1.3 [391 kB]\n",
            "Get:7 http://archive.ubuntu.com/ubuntu bionic-updates/main amd64 libblkid1 amd64 2.31.1-0.4ubuntu3.6 [124 kB]\n",
            "Get:8 http://archive.ubuntu.com/ubuntu bionic-updates/main amd64 libfdisk1 amd64 2.31.1-0.4ubuntu3.6 [164 kB]\n",
            "Get:9 http://archive.ubuntu.com/ubuntu bionic-updates/main amd64 libmount1 amd64 2.31.1-0.4ubuntu3.6 [136 kB]\n",
            "Get:10 http://archive.ubuntu.com/ubuntu bionic-updates/main amd64 libsmartcols1 amd64 2.31.1-0.4ubuntu3.6 [83.7 kB]\n",
            "Get:11 http://archive.ubuntu.com/ubuntu bionic-updates/main amd64 fdisk amd64 2.31.1-0.4ubuntu3.6 [108 kB]\n",
            "Get:12 http://archive.ubuntu.com/ubuntu bionic-updates/main amd64 util-linux amd64 2.31.1-0.4ubuntu3.6 [903 kB]\n",
            "Get:13 http://ppa.launchpad.net/marutter/c2d4u3.5/ubuntu bionic/main amd64 r-cran-dt all 0.15-1cran1.1804.0 [1,199 kB]\n",
            "Get:14 http://archive.ubuntu.com/ubuntu bionic-updates/main amd64 libc-bin amd64 2.27-3ubuntu1.2 [637 kB]\n",
            "Get:15 http://archive.ubuntu.com/ubuntu bionic-updates/main amd64 systemd-sysv amd64 237-3ubuntu10.42 [15.2 kB]\n",
            "Get:16 http://archive.ubuntu.com/ubuntu bionic-updates/main amd64 libpam-systemd amd64 237-3ubuntu10.42 [107 kB]\n",
            "Get:17 http://archive.ubuntu.com/ubuntu bionic-updates/main amd64 libsystemd0 amd64 237-3ubuntu10.42 [208 kB]\n",
            "Get:18 http://archive.ubuntu.com/ubuntu bionic-updates/main amd64 systemd amd64 237-3ubuntu10.42 [2,914 kB]\n",
            "Get:19 http://archive.ubuntu.com/ubuntu bionic-updates/main amd64 udev amd64 237-3ubuntu10.42 [1,102 kB]\n",
            "Get:20 http://archive.ubuntu.com/ubuntu bionic-updates/main amd64 libudev1 amd64 237-3ubuntu10.42 [57.4 kB]\n",
            "Get:21 http://archive.ubuntu.com/ubuntu bionic-updates/main amd64 kmod amd64 24-1ubuntu3.5 [88.8 kB]\n",
            "Get:22 http://archive.ubuntu.com/ubuntu bionic-updates/main amd64 libkmod2 amd64 24-1ubuntu3.5 [40.2 kB]\n",
            "Get:23 http://archive.ubuntu.com/ubuntu bionic-updates/main amd64 mount amd64 2.31.1-0.4ubuntu3.6 [107 kB]\n",
            "Get:24 http://archive.ubuntu.com/ubuntu bionic-updates/main amd64 libcom-err2 amd64 1.44.1-1ubuntu1.3 [8,848 B]\n",
            "Get:25 http://archive.ubuntu.com/ubuntu bionic-updates/main amd64 libgcrypt20 amd64 1.8.1-4ubuntu1.2 [417 kB]\n",
            "Get:26 http://archive.ubuntu.com/ubuntu bionic-updates/main amd64 libss2 amd64 1.44.1-1ubuntu1.3 [11.1 kB]\n",
            "Get:27 http://archive.ubuntu.com/ubuntu bionic-updates/main amd64 libgnutls30 amd64 3.5.18-1ubuntu1.4 [645 kB]\n",
            "Get:28 http://archive.ubuntu.com/ubuntu bionic-updates/main amd64 libseccomp2 amd64 2.4.3-1ubuntu3.18.04.3 [42.0 kB]\n",
            "Get:29 http://archive.ubuntu.com/ubuntu bionic-updates/main amd64 libsqlite3-0 amd64 3.22.0-1ubuntu0.4 [499 kB]\n",
            "Get:30 http://archive.ubuntu.com/ubuntu bionic-updates/main amd64 openssl amd64 1.1.1-1ubuntu2.1~18.04.6 [614 kB]\n",
            "Get:31 http://archive.ubuntu.com/ubuntu bionic-updates/main amd64 binutils-x86-64-linux-gnu amd64 2.30-21ubuntu1~18.04.4 [1,839 kB]\n",
            "Get:32 http://archive.ubuntu.com/ubuntu bionic-updates/main amd64 binutils-common amd64 2.30-21ubuntu1~18.04.4 [196 kB]\n",
            "Get:33 http://archive.ubuntu.com/ubuntu bionic-updates/main amd64 binutils amd64 2.30-21ubuntu1~18.04.4 [3,392 B]\n",
            "Get:34 http://archive.ubuntu.com/ubuntu bionic-updates/main amd64 libbinutils amd64 2.30-21ubuntu1~18.04.4 [488 kB]\n",
            "Get:35 http://archive.ubuntu.com/ubuntu bionic-updates/main amd64 libsasl2-modules-db amd64 2.1.27~101-g0780600+dfsg-3ubuntu2.1 [14.8 kB]\n",
            "Get:36 http://archive.ubuntu.com/ubuntu bionic-updates/main amd64 libsasl2-2 amd64 2.1.27~101-g0780600+dfsg-3ubuntu2.1 [49.2 kB]\n",
            "Get:37 http://archive.ubuntu.com/ubuntu bionic-updates/main amd64 libldap-common all 2.4.45+dfsg-1ubuntu1.6 [17.0 kB]\n",
            "Get:38 http://archive.ubuntu.com/ubuntu bionic-updates/main amd64 libldap-2.4-2 amd64 2.4.45+dfsg-1ubuntu1.6 [155 kB]\n",
            "Get:39 http://archive.ubuntu.com/ubuntu bionic-updates/main amd64 libnss3 amd64 2:3.35-2ubuntu2.11 [1,221 kB]\n",
            "Get:40 http://archive.ubuntu.com/ubuntu bionic-updates/main amd64 libpulse0 amd64 1:11.1-1ubuntu7.10 [266 kB]\n",
            "Get:41 http://archive.ubuntu.com/ubuntu bionic-updates/main amd64 libssh-gcrypt-4 amd64 0.8.0~20170825.94fa1e38-1ubuntu0.7 [172 kB]\n",
            "Get:42 http://archive.ubuntu.com/ubuntu bionic-updates/main amd64 linux-libc-dev amd64 4.15.0-112.113 [982 kB]\n",
            "Get:43 http://archive.ubuntu.com/ubuntu bionic-updates/universe amd64 module-init-tools all 24-1ubuntu3.5 [2,516 B]\n",
            "Get:44 http://ppa.launchpad.net/marutter/c2d4u3.5/ubuntu bionic/main amd64 r-cran-fs amd64 1.5.0-1cran1.1804.0 [254 kB]\n",
            "Fetched 22.8 MB in 6s (4,042 kB/s)\n",
            "debconf: unable to initialize frontend: Dialog\n",
            "debconf: (No usable dialog-like program is installed, so the dialog based frontend cannot be used. at /usr/share/perl5/Debconf/FrontEnd/Dialog.pm line 76, <> line 44.)\n",
            "debconf: falling back to frontend: Readline\n",
            "debconf: unable to initialize frontend: Readline\n",
            "debconf: (This frontend requires a controlling tty.)\n",
            "debconf: falling back to frontend: Teletype\n",
            "dpkg-preconfigure: unable to re-open stdin: \n",
            "(Reading database ... 144487 files and directories currently installed.)\n",
            "Preparing to unpack .../base-files_10.1ubuntu2.9_amd64.deb ...\n",
            "Unpacking base-files (10.1ubuntu2.9) over (10.1ubuntu2.7) ...\n",
            "Setting up base-files (10.1ubuntu2.9) ...\n",
            "Installing new version of config file /etc/issue ...\n",
            "Installing new version of config file /etc/issue.net ...\n",
            "Installing new version of config file /etc/lsb-release ...\n",
            "(Reading database ... 144487 files and directories currently installed.)\n",
            "Preparing to unpack .../bsdutils_1%3a2.31.1-0.4ubuntu3.6_amd64.deb ...\n",
            "Unpacking bsdutils (1:2.31.1-0.4ubuntu3.6) over (1:2.31.1-0.4ubuntu3.4) ...\n",
            "Setting up bsdutils (1:2.31.1-0.4ubuntu3.6) ...\n",
            "(Reading database ... 144487 files and directories currently installed.)\n",
            "Preparing to unpack .../libext2fs2_1.44.1-1ubuntu1.3_amd64.deb ...\n",
            "Unpacking libext2fs2:amd64 (1.44.1-1ubuntu1.3) over (1.44.1-1ubuntu1.2) ...\n",
            "Setting up libext2fs2:amd64 (1.44.1-1ubuntu1.3) ...\n",
            "(Reading database ... 144487 files and directories currently installed.)\n",
            "Preparing to unpack .../e2fsprogs_1.44.1-1ubuntu1.3_amd64.deb ...\n",
            "Unpacking e2fsprogs (1.44.1-1ubuntu1.3) over (1.44.1-1ubuntu1.2) ...\n",
            "Setting up e2fsprogs (1.44.1-1ubuntu1.3) ...\n",
            "(Reading database ... 144487 files and directories currently installed.)\n",
            "Preparing to unpack .../libblkid1_2.31.1-0.4ubuntu3.6_amd64.deb ...\n",
            "Unpacking libblkid1:amd64 (2.31.1-0.4ubuntu3.6) over (2.31.1-0.4ubuntu3.4) ...\n",
            "Setting up libblkid1:amd64 (2.31.1-0.4ubuntu3.6) ...\n",
            "(Reading database ... 144487 files and directories currently installed.)\n",
            "Preparing to unpack .../libfdisk1_2.31.1-0.4ubuntu3.6_amd64.deb ...\n",
            "Unpacking libfdisk1:amd64 (2.31.1-0.4ubuntu3.6) over (2.31.1-0.4ubuntu3.4) ...\n",
            "Setting up libfdisk1:amd64 (2.31.1-0.4ubuntu3.6) ...\n",
            "(Reading database ... 144487 files and directories currently installed.)\n",
            "Preparing to unpack .../libmount1_2.31.1-0.4ubuntu3.6_amd64.deb ...\n",
            "Unpacking libmount1:amd64 (2.31.1-0.4ubuntu3.6) over (2.31.1-0.4ubuntu3.4) ...\n",
            "Setting up libmount1:amd64 (2.31.1-0.4ubuntu3.6) ...\n",
            "(Reading database ... 144487 files and directories currently installed.)\n",
            "Preparing to unpack .../libsmartcols1_2.31.1-0.4ubuntu3.6_amd64.deb ...\n",
            "Unpacking libsmartcols1:amd64 (2.31.1-0.4ubuntu3.6) over (2.31.1-0.4ubuntu3.4) ...\n",
            "Setting up libsmartcols1:amd64 (2.31.1-0.4ubuntu3.6) ...\n",
            "(Reading database ... 144487 files and directories currently installed.)\n",
            "Preparing to unpack .../fdisk_2.31.1-0.4ubuntu3.6_amd64.deb ...\n",
            "Unpacking fdisk (2.31.1-0.4ubuntu3.6) over (2.31.1-0.4ubuntu3.4) ...\n",
            "Setting up fdisk (2.31.1-0.4ubuntu3.6) ...\n",
            "(Reading database ... 144487 files and directories currently installed.)\n",
            "Preparing to unpack .../util-linux_2.31.1-0.4ubuntu3.6_amd64.deb ...\n",
            "Unpacking util-linux (2.31.1-0.4ubuntu3.6) over (2.31.1-0.4ubuntu3.4) ...\n",
            "Setting up util-linux (2.31.1-0.4ubuntu3.6) ...\n",
            "(Reading database ... 144487 files and directories currently installed.)\n",
            "Preparing to unpack .../libc-bin_2.27-3ubuntu1.2_amd64.deb ...\n",
            "Unpacking libc-bin (2.27-3ubuntu1.2) over (2.27-3ubuntu1) ...\n",
            "Setting up libc-bin (2.27-3ubuntu1.2) ...\n",
            "/sbin/ldconfig.real: /usr/local/lib/python3.6/dist-packages/ideep4py/lib/libmkldnn.so.0 is not a symbolic link\n",
            "\n",
            "(Reading database ... 144487 files and directories currently installed.)\n",
            "Preparing to unpack .../systemd-sysv_237-3ubuntu10.42_amd64.deb ...\n",
            "Unpacking systemd-sysv (237-3ubuntu10.42) over (237-3ubuntu10.41) ...\n",
            "Preparing to unpack .../libpam-systemd_237-3ubuntu10.42_amd64.deb ...\n",
            "Unpacking libpam-systemd:amd64 (237-3ubuntu10.42) over (237-3ubuntu10.41) ...\n",
            "Preparing to unpack .../libsystemd0_237-3ubuntu10.42_amd64.deb ...\n",
            "Unpacking libsystemd0:amd64 (237-3ubuntu10.42) over (237-3ubuntu10.41) ...\n",
            "Setting up libsystemd0:amd64 (237-3ubuntu10.42) ...\n",
            "(Reading database ... 144487 files and directories currently installed.)\n",
            "Preparing to unpack .../systemd_237-3ubuntu10.42_amd64.deb ...\n",
            "Unpacking systemd (237-3ubuntu10.42) over (237-3ubuntu10.41) ...\n",
            "Preparing to unpack .../udev_237-3ubuntu10.42_amd64.deb ...\n",
            "Unpacking udev (237-3ubuntu10.42) over (237-3ubuntu10.41) ...\n",
            "Preparing to unpack .../libudev1_237-3ubuntu10.42_amd64.deb ...\n",
            "Unpacking libudev1:amd64 (237-3ubuntu10.42) over (237-3ubuntu10.41) ...\n",
            "Setting up libudev1:amd64 (237-3ubuntu10.42) ...\n",
            "(Reading database ... 144487 files and directories currently installed.)\n",
            "Preparing to unpack .../kmod_24-1ubuntu3.5_amd64.deb ...\n",
            "Unpacking kmod (24-1ubuntu3.5) over (24-1ubuntu3.4) ...\n",
            "Preparing to unpack .../libkmod2_24-1ubuntu3.5_amd64.deb ...\n",
            "Unpacking libkmod2:amd64 (24-1ubuntu3.5) over (24-1ubuntu3.4) ...\n",
            "Preparing to unpack .../mount_2.31.1-0.4ubuntu3.6_amd64.deb ...\n",
            "Unpacking mount (2.31.1-0.4ubuntu3.6) over (2.31.1-0.4ubuntu3.4) ...\n",
            "Preparing to unpack .../libcom-err2_1.44.1-1ubuntu1.3_amd64.deb ...\n",
            "Unpacking libcom-err2:amd64 (1.44.1-1ubuntu1.3) over (1.44.1-1ubuntu1.2) ...\n",
            "Setting up libcom-err2:amd64 (1.44.1-1ubuntu1.3) ...\n",
            "(Reading database ... 144487 files and directories currently installed.)\n",
            "Preparing to unpack .../libgcrypt20_1.8.1-4ubuntu1.2_amd64.deb ...\n",
            "Unpacking libgcrypt20:amd64 (1.8.1-4ubuntu1.2) over (1.8.1-4ubuntu1.1) ...\n",
            "Setting up libgcrypt20:amd64 (1.8.1-4ubuntu1.2) ...\n",
            "(Reading database ... 144487 files and directories currently installed.)\n",
            "Preparing to unpack .../libss2_1.44.1-1ubuntu1.3_amd64.deb ...\n",
            "Unpacking libss2:amd64 (1.44.1-1ubuntu1.3) over (1.44.1-1ubuntu1.2) ...\n",
            "Setting up libss2:amd64 (1.44.1-1ubuntu1.3) ...\n",
            "(Reading database ... 144487 files and directories currently installed.)\n",
            "Preparing to unpack .../libgnutls30_3.5.18-1ubuntu1.4_amd64.deb ...\n",
            "Unpacking libgnutls30:amd64 (3.5.18-1ubuntu1.4) over (3.5.18-1ubuntu1.1) ...\n",
            "Setting up libgnutls30:amd64 (3.5.18-1ubuntu1.4) ...\n",
            "(Reading database ... 144487 files and directories currently installed.)\n",
            "Preparing to unpack .../libseccomp2_2.4.3-1ubuntu3.18.04.3_amd64.deb ...\n",
            "Unpacking libseccomp2:amd64 (2.4.3-1ubuntu3.18.04.3) over (2.4.1-0ubuntu0.18.04.2) ...\n",
            "Setting up libseccomp2:amd64 (2.4.3-1ubuntu3.18.04.3) ...\n",
            "(Reading database ... 144487 files and directories currently installed.)\n",
            "Preparing to unpack .../00-libsqlite3-0_3.22.0-1ubuntu0.4_amd64.deb ...\n",
            "Unpacking libsqlite3-0:amd64 (3.22.0-1ubuntu0.4) over (3.22.0-1ubuntu0.1) ...\n",
            "Preparing to unpack .../01-openssl_1.1.1-1ubuntu2.1~18.04.6_amd64.deb ...\n",
            "Unpacking openssl (1.1.1-1ubuntu2.1~18.04.6) over (1.1.1-1ubuntu2.1~18.04.5) ...\n",
            "Preparing to unpack .../02-binutils-x86-64-linux-gnu_2.30-21ubuntu1~18.04.4_amd64.deb ...\n",
            "Unpacking binutils-x86-64-linux-gnu (2.30-21ubuntu1~18.04.4) over (2.30-21ubuntu1~18.04.2) ...\n",
            "Preparing to unpack .../03-binutils-common_2.30-21ubuntu1~18.04.4_amd64.deb ...\n",
            "Unpacking binutils-common:amd64 (2.30-21ubuntu1~18.04.4) over (2.30-21ubuntu1~18.04.2) ...\n",
            "Preparing to unpack .../04-binutils_2.30-21ubuntu1~18.04.4_amd64.deb ...\n",
            "Unpacking binutils (2.30-21ubuntu1~18.04.4) over (2.30-21ubuntu1~18.04.2) ...\n",
            "Preparing to unpack .../05-libbinutils_2.30-21ubuntu1~18.04.4_amd64.deb ...\n",
            "Unpacking libbinutils:amd64 (2.30-21ubuntu1~18.04.4) over (2.30-21ubuntu1~18.04.2) ...\n",
            "Preparing to unpack .../06-cuda-compat-10-1_418.152.00-1_amd64.deb ...\n",
            "Unpacking cuda-compat-10-1 (418.152.00-1) over (418.87.01-1) ...\n",
            "Preparing to unpack .../07-libsasl2-modules-db_2.1.27~101-g0780600+dfsg-3ubuntu2.1_amd64.deb ...\n",
            "Unpacking libsasl2-modules-db:amd64 (2.1.27~101-g0780600+dfsg-3ubuntu2.1) over (2.1.27~101-g0780600+dfsg-3ubuntu2) ...\n",
            "Preparing to unpack .../08-libsasl2-2_2.1.27~101-g0780600+dfsg-3ubuntu2.1_amd64.deb ...\n",
            "Unpacking libsasl2-2:amd64 (2.1.27~101-g0780600+dfsg-3ubuntu2.1) over (2.1.27~101-g0780600+dfsg-3ubuntu2) ...\n",
            "Preparing to unpack .../09-libldap-common_2.4.45+dfsg-1ubuntu1.6_all.deb ...\n",
            "Unpacking libldap-common (2.4.45+dfsg-1ubuntu1.6) over (2.4.45+dfsg-1ubuntu1.4) ...\n",
            "Preparing to unpack .../10-libldap-2.4-2_2.4.45+dfsg-1ubuntu1.6_amd64.deb ...\n",
            "Unpacking libldap-2.4-2:amd64 (2.4.45+dfsg-1ubuntu1.6) over (2.4.45+dfsg-1ubuntu1.4) ...\n",
            "Preparing to unpack .../11-libnss3_2%3a3.35-2ubuntu2.11_amd64.deb ...\n",
            "Unpacking libnss3:amd64 (2:3.35-2ubuntu2.11) over (2:3.35-2ubuntu2.9) ...\n",
            "Preparing to unpack .../12-libpulse0_1%3a11.1-1ubuntu7.10_amd64.deb ...\n",
            "Unpacking libpulse0:amd64 (1:11.1-1ubuntu7.10) over (1:11.1-1ubuntu7.9) ...\n",
            "Preparing to unpack .../13-libssh-gcrypt-4_0.8.0~20170825.94fa1e38-1ubuntu0.7_amd64.deb ...\n",
            "Unpacking libssh-gcrypt-4:amd64 (0.8.0~20170825.94fa1e38-1ubuntu0.7) over (0.8.0~20170825.94fa1e38-1ubuntu0.6) ...\n",
            "Preparing to unpack .../14-linux-libc-dev_4.15.0-112.113_amd64.deb ...\n",
            "Unpacking linux-libc-dev:amd64 (4.15.0-112.113) over (4.15.0-72.81) ...\n",
            "Preparing to unpack .../15-module-init-tools_24-1ubuntu3.5_all.deb ...\n",
            "Unpacking module-init-tools (24-1ubuntu3.5) over (24-1ubuntu3.4) ...\n",
            "Preparing to unpack .../16-r-cran-dplyr_1.0.1-1cran1.1804.0_amd64.deb ...\n",
            "Unpacking r-cran-dplyr (1.0.1-1cran1.1804.0) over (1.0.0-1cran1.1804.0) ...\n",
            "Preparing to unpack .../17-r-cran-dt_0.15-1cran1.1804.0_all.deb ...\n",
            "Unpacking r-cran-dt (0.15-1cran1.1804.0) over (0.14-1cran1.1804.0) ...\n",
            "Preparing to unpack .../18-r-cran-fs_1.5.0-1cran1.1804.0_amd64.deb ...\n",
            "Unpacking r-cran-fs (1.5.0-1cran1.1804.0) over (1.4.2-1cran1.1804.0) ...\n",
            "Setting up libldap-common (2.4.45+dfsg-1ubuntu1.6) ...\n",
            "Setting up cuda-compat-10-1 (418.152.00-1) ...\n",
            "Setting up libssh-gcrypt-4:amd64 (0.8.0~20170825.94fa1e38-1ubuntu0.7) ...\n",
            "Setting up libsasl2-modules-db:amd64 (2.1.27~101-g0780600+dfsg-3ubuntu2.1) ...\n",
            "Setting up linux-libc-dev:amd64 (4.15.0-112.113) ...\n",
            "Setting up mount (2.31.1-0.4ubuntu3.6) ...\n",
            "Setting up libsasl2-2:amd64 (2.1.27~101-g0780600+dfsg-3ubuntu2.1) ...\n",
            "Setting up libkmod2:amd64 (24-1ubuntu3.5) ...\n",
            "Setting up libpulse0:amd64 (1:11.1-1ubuntu7.10) ...\n",
            "Setting up binutils-common:amd64 (2.30-21ubuntu1~18.04.4) ...\n",
            "Setting up r-cran-dt (0.15-1cran1.1804.0) ...\n",
            "Setting up udev (237-3ubuntu10.42) ...\n",
            "invoke-rc.d: could not determine current runlevel\n",
            "invoke-rc.d: policy-rc.d denied execution of restart.\n",
            "Setting up libldap-2.4-2:amd64 (2.4.45+dfsg-1ubuntu1.6) ...\n",
            "Setting up r-cran-fs (1.5.0-1cran1.1804.0) ...\n",
            "Setting up systemd (237-3ubuntu10.42) ...\n",
            "Setting up r-cran-dplyr (1.0.1-1cran1.1804.0) ...\n",
            "Setting up openssl (1.1.1-1ubuntu2.1~18.04.6) ...\n",
            "Setting up libsqlite3-0:amd64 (3.22.0-1ubuntu0.4) ...\n",
            "Setting up kmod (24-1ubuntu3.5) ...\n",
            "Setting up libbinutils:amd64 (2.30-21ubuntu1~18.04.4) ...\n",
            "Setting up systemd-sysv (237-3ubuntu10.42) ...\n",
            "Setting up libnss3:amd64 (2:3.35-2ubuntu2.11) ...\n",
            "Setting up module-init-tools (24-1ubuntu3.5) ...\n",
            "Setting up binutils-x86-64-linux-gnu (2.30-21ubuntu1~18.04.4) ...\n",
            "Setting up libpam-systemd:amd64 (237-3ubuntu10.42) ...\n",
            "debconf: unable to initialize frontend: Dialog\n",
            "debconf: (No usable dialog-like program is installed, so the dialog based frontend cannot be used. at /usr/share/perl5/Debconf/FrontEnd/Dialog.pm line 76.)\n",
            "debconf: falling back to frontend: Readline\n",
            "Setting up binutils (2.30-21ubuntu1~18.04.4) ...\n",
            "Processing triggers for mime-support (3.60ubuntu1) ...\n",
            "Processing triggers for libc-bin (2.27-3ubuntu1.2) ...\n",
            "/sbin/ldconfig.real: /usr/local/lib/python3.6/dist-packages/ideep4py/lib/libmkldnn.so.0 is not a symbolic link\n",
            "\n",
            "Processing triggers for man-db (2.8.3-2ubuntu0.1) ...\n",
            "Processing triggers for dbus (1.12.2-1ubuntu1.2) ...\n"
          ],
          "name": "stdout"
        }
      ]
    },
    {
      "cell_type": "code",
      "metadata": {
        "id": "2q2etGjaMgCG",
        "colab_type": "code",
        "colab": {
          "base_uri": "https://localhost:8080/",
          "height": 436
        },
        "outputId": "dc37dc7b-6820-49a6-85f5-608155fd0748"
      },
      "source": [
        "import os\n",
        "\n",
        "# Install java\n",
        "! apt-get install -y openjdk-8-jdk-headless -qq > /dev/null\n",
        "os.environ[\"JAVA_HOME\"] = \"/usr/lib/jvm/java-8-openjdk-amd64\"\n",
        "os.environ[\"PATH\"] = os.environ[\"JAVA_HOME\"] + \"/bin:\" + os.environ[\"PATH\"]\n",
        "! java -version\n",
        "\n",
        "# Install pyspark\n",
        "! pip install --ignore-installed -q pyspark==2.4.4\n",
        "\n",
        "# Install Spark NLP\n",
        "! pip install --ignore-installed -q spark-nlp==2.5.4\n",
        "\n",
        "! pip install --user -U nltk"
      ],
      "execution_count": 4,
      "outputs": [
        {
          "output_type": "stream",
          "text": [
            "openjdk version \"1.8.0_265\"\n",
            "OpenJDK Runtime Environment (build 1.8.0_265-8u265-b01-0ubuntu2~18.04-b01)\n",
            "OpenJDK 64-Bit Server VM (build 25.265-b01, mixed mode)\n",
            "\u001b[K     |████████████████████████████████| 215.7MB 64kB/s \n",
            "\u001b[K     |████████████████████████████████| 204kB 45.9MB/s \n",
            "\u001b[?25h  Building wheel for pyspark (setup.py) ... \u001b[?25l\u001b[?25hdone\n",
            "\u001b[K     |████████████████████████████████| 133kB 2.7MB/s \n",
            "\u001b[?25hCollecting nltk\n",
            "\u001b[?25l  Downloading https://files.pythonhosted.org/packages/92/75/ce35194d8e3022203cca0d2f896dbb88689f9b3fce8e9f9cff942913519d/nltk-3.5.zip (1.4MB)\n",
            "\u001b[K     |████████████████████████████████| 1.4MB 2.8MB/s \n",
            "\u001b[?25hRequirement already satisfied, skipping upgrade: click in /usr/local/lib/python3.6/dist-packages (from nltk) (7.1.2)\n",
            "Requirement already satisfied, skipping upgrade: joblib in /usr/local/lib/python3.6/dist-packages (from nltk) (0.16.0)\n",
            "Requirement already satisfied, skipping upgrade: regex in /usr/local/lib/python3.6/dist-packages (from nltk) (2019.12.20)\n",
            "Requirement already satisfied, skipping upgrade: tqdm in /usr/local/lib/python3.6/dist-packages (from nltk) (4.41.1)\n",
            "Building wheels for collected packages: nltk\n",
            "  Building wheel for nltk (setup.py) ... \u001b[?25l\u001b[?25hdone\n",
            "  Created wheel for nltk: filename=nltk-3.5-cp36-none-any.whl size=1434677 sha256=4e351e1997d0ba4e5a72e21200f3ee3c1864745426348931f3d2d660051493dc\n",
            "  Stored in directory: /root/.cache/pip/wheels/ae/8c/3f/b1fe0ba04555b08b57ab52ab7f86023639a526d8bc8d384306\n",
            "Successfully built nltk\n",
            "Installing collected packages: nltk\n",
            "\u001b[33m  WARNING: The script nltk is installed in '/root/.local/bin' which is not on PATH.\n",
            "  Consider adding this directory to PATH or, if you prefer to suppress this warning, use --no-warn-script-location.\u001b[0m\n",
            "Successfully installed nltk-3.5\n"
          ],
          "name": "stdout"
        }
      ]
    },
    {
      "cell_type": "code",
      "metadata": {
        "id": "T2RzyRTnNGjx",
        "colab_type": "code",
        "colab": {
          "base_uri": "https://localhost:8080/",
          "height": 52
        },
        "outputId": "77a744db-eab9-4f91-975c-952aa619ba1e"
      },
      "source": [
        "import sparknlp\n",
        "\n",
        "spark = sparknlp.start()\n",
        "\n",
        "print(\"Spark NLP version: \", sparknlp.version())\n",
        "print(\"Apache Spark version; \", spark.version)"
      ],
      "execution_count": 5,
      "outputs": [
        {
          "output_type": "stream",
          "text": [
            "Spark NLP version:  2.5.4\n",
            "Apache Spark version;  2.4.4\n"
          ],
          "name": "stdout"
        }
      ]
    },
    {
      "cell_type": "markdown",
      "metadata": {
        "id": "Q0yrTMJaQWqz",
        "colab_type": "text"
      },
      "source": [
        "# Mount Drive and read data"
      ]
    },
    {
      "cell_type": "code",
      "metadata": {
        "id": "NLD74i7zONK3",
        "colab_type": "code",
        "colab": {
          "base_uri": "https://localhost:8080/",
          "height": 124
        },
        "outputId": "e989d810-f63d-4d69-b110-a53e22f39b30"
      },
      "source": [
        "from google.colab import drive\n",
        "drive.mount('/content/drive/')"
      ],
      "execution_count": 6,
      "outputs": [
        {
          "output_type": "stream",
          "text": [
            "Go to this URL in a browser: https://accounts.google.com/o/oauth2/auth?client_id=947318989803-6bn6qk8qdgf4n4g3pfee6491hc0brc4i.apps.googleusercontent.com&redirect_uri=urn%3aietf%3awg%3aoauth%3a2.0%3aoob&scope=email%20https%3a%2f%2fwww.googleapis.com%2fauth%2fdocs.test%20https%3a%2f%2fwww.googleapis.com%2fauth%2fdrive%20https%3a%2f%2fwww.googleapis.com%2fauth%2fdrive.photos.readonly%20https%3a%2f%2fwww.googleapis.com%2fauth%2fpeopleapi.readonly&response_type=code\n",
            "\n",
            "Enter your authorization code:\n",
            "··········\n",
            "Mounted at /content/drive/\n"
          ],
          "name": "stdout"
        }
      ]
    },
    {
      "cell_type": "markdown",
      "metadata": {
        "id": "HS0s8wYL25E9",
        "colab_type": "text"
      },
      "source": [
        "Some of the sparkNLP annotators were having trouble reading spaces in path, hence used symbolic link to replace the path"
      ]
    },
    {
      "cell_type": "code",
      "metadata": {
        "id": "nPSDHjKbOmpJ",
        "colab_type": "code",
        "colab": {}
      },
      "source": [
        "! ln -s \"/content/drive/My Drive\" \"/content/MyDrive\""
      ],
      "execution_count": 20,
      "outputs": []
    },
    {
      "cell_type": "code",
      "metadata": {
        "id": "j7sjN-NzO1tx",
        "colab_type": "code",
        "colab": {}
      },
      "source": [
        "\n",
        "song_data = spark.read.format(\"csv\").option(\"header\", \"true\").load(\"/content/drive/My Drive/SparkNLP/song_2k.csv\")\n"
      ],
      "execution_count": 21,
      "outputs": []
    },
    {
      "cell_type": "code",
      "metadata": {
        "id": "6p--pxgIPSQz",
        "colab_type": "code",
        "colab": {
          "base_uri": "https://localhost:8080/",
          "height": 537
        },
        "outputId": "0458c8af-7aff-473b-e8af-e278b7cd8645"
      },
      "source": [
        "from pyspark.sql import functions as F\n",
        "song_data = song_data.select(['Key', 'Lyric', 'Genre']).withColumnRenamed('Lyric','text')\n",
        "\n",
        "# train, test = trainDataset.randomSplit(weights=[0.5, 0.5], seed=123)\n",
        "song_data = song_data.limit(999)\n",
        "print(song_data.count())\n",
        "\n",
        "song_data = song_data.filter(song_data.text != '')\n",
        "print(song_data.count())\n",
        "song_data = song_data.filter((song_data.Genre == 'Rock') | (song_data.Genre == 'Hip Hop') | (song_data.Genre == 'Pop')  )\n",
        "# song_data = song_data.filter(song_data.Genre != '')\n",
        "print(song_data.count())\n",
        "# song_data = song_data.filter(song_data.text != ' ')\n",
        "# print(song_data.count())\n",
        "# song_data = song_data.filter(song_data.Genre != ' ')\n",
        "# print(song_data.count())\n",
        "song_data.na.drop(subset=[\"text\"])\n",
        "print(song_data.count())\n",
        "song_data.show()"
      ],
      "execution_count": 22,
      "outputs": [
        {
          "output_type": "stream",
          "text": [
            "999\n",
            "999\n",
            "915\n",
            "915\n",
            "+--------------------+--------------------+-------+\n",
            "|                 Key|                text|  Genre|\n",
            "+--------------------+--------------------+-------+\n",
            "|10000 maniacs_Mor...|I could feel at t...|   Rock|\n",
            "|10000 maniacs_Bec...|Take me now, baby...|   Rock|\n",
            "|jamiroquai_Rock D...|And it's coming a...|    Pop|\n",
            "|10000 maniacs_The...|These are. These ...|   Rock|\n",
            "|10000 maniacs_Eve...|Trudging slowly o...|   Rock|\n",
            "|10000 maniacs_Don...|Don't talk, I wil...|   Rock|\n",
            "|black veil brides...|Have we begun to ...|   Rock|\n",
            "|lynyrd skynyrd_I ...|Ain't no need to ...|   Rock|\n",
            "|10000 maniacs_Acr...|Well they left th...|   Rock|\n",
            "|10000 maniacs_Pla...|[ music: Dennis D...|   Rock|\n",
            "|10000 maniacs_Rai...|On bended kneeI'v...|   Rock|\n",
            "|twista_Back 2 School|[Tung Twista]. ba...|Hip Hop|\n",
            "|10000 maniacs_Ant...|For whom do the b...|   Rock|\n",
            "|10000 maniacs_All...|She walks alone o...|   Rock|\n",
            "|10000 maniacs_Bac...|Jenny. Jenny you ...|   Rock|\n",
            "|cyndi lauper_True...|You with the sad ...|    Pop|\n",
            "|10000 maniacs_A R...|You were looking ...|   Rock|\n",
            "|rick astley_She M...|She makes me more...|    Pop|\n",
            "|steve earle_Nothi...|I'm the keeper of...|   Rock|\n",
            "|10000 maniacs_Mad...|\"the legs of Madd...|   Rock|\n",
            "+--------------------+--------------------+-------+\n",
            "only showing top 20 rows\n",
            "\n"
          ],
          "name": "stdout"
        }
      ]
    },
    {
      "cell_type": "code",
      "metadata": {
        "id": "pyXMOyWZP4Xb",
        "colab_type": "code",
        "colab": {
          "base_uri": "https://localhost:8080/",
          "height": 35
        },
        "outputId": "e224171e-aefa-46d8-957a-f966769d00d0"
      },
      "source": [
        "print(type(song_data))"
      ],
      "execution_count": 23,
      "outputs": [
        {
          "output_type": "stream",
          "text": [
            "<class 'pyspark.sql.dataframe.DataFrame'>\n"
          ],
          "name": "stdout"
        }
      ]
    },
    {
      "cell_type": "markdown",
      "metadata": {
        "id": "PyPdwWmc3iPz",
        "colab_type": "text"
      },
      "source": [
        "# Package Import"
      ]
    },
    {
      "cell_type": "code",
      "metadata": {
        "id": "OeBx3-P6P6Q9",
        "colab_type": "code",
        "colab": {
          "base_uri": "https://localhost:8080/",
          "height": 52
        },
        "outputId": "48ca4f3f-85c5-4082-f2e0-1f0c850780ae"
      },
      "source": [
        "from pyspark.ml import Pipeline\n",
        "\n",
        "from sparknlp.annotator import *\n",
        "from sparknlp.common import *\n",
        "from sparknlp.base import *\n",
        "from sparknlp.pretrained import PretrainedPipeline\n",
        "\n",
        "import nltk\n",
        "from nltk.corpus import stopwords\n",
        "nltk.download('stopwords')\n",
        "from pyspark.sql import functions as F"
      ],
      "execution_count": 24,
      "outputs": [
        {
          "output_type": "stream",
          "text": [
            "[nltk_data] Downloading package stopwords to /root/nltk_data...\n",
            "[nltk_data]   Package stopwords is already up-to-date!\n"
          ],
          "name": "stdout"
        }
      ]
    },
    {
      "cell_type": "markdown",
      "metadata": {
        "id": "QH_L4yv9Qc_-",
        "colab_type": "text"
      },
      "source": [
        "# Vocab Reduction"
      ]
    },
    {
      "cell_type": "markdown",
      "metadata": {
        "id": "PiHyoUe_33ci",
        "colab_type": "text"
      },
      "source": [
        "Basic Data cleaning for NLP"
      ]
    },
    {
      "cell_type": "code",
      "metadata": {
        "id": "atU2csZwRIJD",
        "colab_type": "code",
        "colab": {
          "base_uri": "https://localhost:8080/",
          "height": 121
        },
        "outputId": "3c428c8f-8757-44ca-88f4-547534cc7d15"
      },
      "source": [
        "assembler = DocumentAssembler().setInputCol('text').setOutputCol('document')\n",
        "\n",
        "sentence_detector = SentenceDetector().setInputCols([\"document\"]).setOutputCol(\"sentence\")\n",
        "\n",
        "tokenizer = Tokenizer().setInputCols(['document']).setOutputCol('token')#.setTargetPattern('/\\b(\\?You were looking)\\b/')#.setExceptionsPath('/content/MyDrive/SparkNLP/entities.txt')\n",
        "\n",
        "spell_chk = NorvigSweetingModel().pretrained().setInputCols(['token']).setOutputCol('corrected')\n",
        "\n",
        "lemmatizer = LemmatizerModel().pretrained().setInputCols(['corrected']).setOutputCol('lemma')\n",
        "\n",
        "normalizer = Normalizer().setInputCols(['lemma']).setOutputCol('normalized').setLowercase(True)\n",
        "\n",
        "stop_wrd = list( stopwords.words('english'))\n",
        "\n",
        "stop_words_cleaner = StopWordsCleaner().setInputCols([\"normalized\"]).setOutputCol(\"cleanTokens\").setCaseSensitive(False).setStopWords(stop_wrd)\n",
        "\n",
        "finisher = Finisher().setInputCols(['cleanTokens']).setOutputCols(['cleanTokens']).setOutputAsArray(True)"
      ],
      "execution_count": 51,
      "outputs": [
        {
          "output_type": "stream",
          "text": [
            "spellcheck_norvig download started this may take some time.\n",
            "Approximate size to download 4.2 MB\n",
            "[OK!]\n",
            "lemma_antbnc download started this may take some time.\n",
            "Approximate size to download 907.6 KB\n",
            "[OK!]\n"
          ],
          "name": "stdout"
        }
      ]
    },
    {
      "cell_type": "code",
      "metadata": {
        "id": "ZfOlqRGP4qnX",
        "colab_type": "code",
        "colab": {
          "base_uri": "https://localhost:8080/",
          "height": 468
        },
        "outputId": "4c93c648-51cb-477e-a02e-6be4cab0faf8"
      },
      "source": [
        "pipeline_bow = Pipeline().setStages([\n",
        "    assembler, tokenizer, spell_chk , \n",
        "    lemmatizer, normalizer,stop_words_cleaner,finisher\n",
        "])\n",
        "model_trans_tfIdf = pipeline_bow.fit(song_data)\n",
        "model_trans_tfIdf =  model_trans_tfIdf.transform(song_data)\n",
        "model_trans_tfIdf.show()"
      ],
      "execution_count": 26,
      "outputs": [
        {
          "output_type": "stream",
          "text": [
            "+--------------------+--------------------+-------+--------------------+\n",
            "|                 Key|                text|  Genre|         cleanTokens|\n",
            "+--------------------+--------------------+-------+--------------------+\n",
            "|10000 maniacs_Mor...|I could feel at t...|   Rock|[could, feel, tim...|\n",
            "|10000 maniacs_Bec...|Take me now, baby...|   Rock|[take, baby, hold...|\n",
            "|jamiroquai_Rock D...|And it's coming a...|    Pop|[come, baby, yeah...|\n",
            "|10000 maniacs_The...|These are. These ...|   Rock|[day, youll, reme...|\n",
            "|10000 maniacs_Eve...|Trudging slowly o...|   Rock|[grudge, slowly, ...|\n",
            "|10000 maniacs_Don...|Don't talk, I wil...|   Rock|[donut, talk, lis...|\n",
            "|black veil brides...|Have we begun to ...|   Rock|[begin, drift, aw...|\n",
            "|lynyrd skynyrd_I ...|Ain't no need to ...|   Rock|[aint, need, worr...|\n",
            "|10000 maniacs_Acr...|Well they left th...|   Rock|[well, leave, mor...|\n",
            "|10000 maniacs_Pla...|[ music: Dennis D...|   Rock|[music, dennis, d...|\n",
            "|10000 maniacs_Rai...|On bended kneeI'v...|   Rock|[bend, kneeive, l...|\n",
            "|twista_Back 2 School|[Tung Twista]. ba...|Hip Hop|[tung, twista, ba...|\n",
            "|10000 maniacs_Ant...|For whom do the b...|   Rock|[bell, toll, sent...|\n",
            "|10000 maniacs_All...|She walks alone o...|   Rock|[walk, alone, bri...|\n",
            "|10000 maniacs_Bac...|Jenny. Jenny you ...|   Rock|[jenny, jenny, do...|\n",
            "|cyndi lauper_True...|You with the sad ...|    Pop|[sad, eye, donut,...|\n",
            "|10000 maniacs_A R...|You were looking ...|   Rock|[look, away, west...|\n",
            "|rick astley_She M...|She makes me more...|    Pop|[make, could, eve...|\n",
            "|steve earle_Nothi...|I'm the keeper of...|   Rock|[im, keeper, hear...|\n",
            "|10000 maniacs_Mad...|\"the legs of Madd...|   Rock|[leg, maddox, kit...|\n",
            "+--------------------+--------------------+-------+--------------------+\n",
            "only showing top 20 rows\n",
            "\n"
          ],
          "name": "stdout"
        }
      ]
    },
    {
      "cell_type": "markdown",
      "metadata": {
        "id": "1EZOEwAdQheP",
        "colab_type": "text"
      },
      "source": [
        "# Vectorization"
      ]
    },
    {
      "cell_type": "markdown",
      "metadata": {
        "id": "9hFRMcLVeJTt",
        "colab_type": "text"
      },
      "source": [
        "## BoW Method"
      ]
    },
    {
      "cell_type": "code",
      "metadata": {
        "id": "-NZYQS9OPvsJ",
        "colab_type": "code",
        "colab": {
          "base_uri": "https://localhost:8080/",
          "height": 468
        },
        "outputId": "e919736d-d8ac-42d4-a87a-12aeaaa6a2f5"
      },
      "source": [
        "from pyspark.ml.feature import CountVectorizer, IDF\n",
        "\n",
        "count_vectorizer = CountVectorizer(inputCol='cleanTokens', outputCol='tf', minDF=10)\n",
        "cvmodel = count_vectorizer.fit(model_trans_tfIdf)\n",
        "idf = IDF(inputCol='tf', outputCol='features', minDocFreq=10)\n",
        "# finisher_idf = Finisher().setInputCols(['features']).setOutputCols(['tfidf']) finisher is for sparkNLP not spark ML\n",
        "bow_pipeline = Pipeline().setStages([count_vectorizer, idf])\n",
        "bow_pipeline = bow_pipeline.fit(model_trans_tfIdf)\n",
        "\n",
        "bows = bow_pipeline.transform(model_trans_tfIdf)\n",
        "bows.show()"
      ],
      "execution_count": 27,
      "outputs": [
        {
          "output_type": "stream",
          "text": [
            "+--------------------+--------------------+-------+--------------------+--------------------+--------------------+\n",
            "|                 Key|                text|  Genre|         cleanTokens|                  tf|            features|\n",
            "+--------------------+--------------------+-------+--------------------+--------------------+--------------------+\n",
            "|10000 maniacs_Mor...|I could feel at t...|   Rock|[could, feel, tim...|(887,[0,1,3,4,8,1...|(887,[0,1,3,4,8,1...|\n",
            "|10000 maniacs_Bec...|Take me now, baby...|   Rock|[take, baby, hold...|(887,[0,6,7,10,12...|(887,[0,6,7,10,12...|\n",
            "|jamiroquai_Rock D...|And it's coming a...|    Pop|[come, baby, yeah...|(887,[0,1,2,3,4,5...|(887,[0,1,2,3,4,5...|\n",
            "|10000 maniacs_The...|These are. These ...|   Rock|[day, youll, reme...|(887,[1,9,11,15,1...|(887,[1,9,11,15,1...|\n",
            "|10000 maniacs_Eve...|Trudging slowly o...|   Rock|[grudge, slowly, ...|(887,[4,12,24,80,...|(887,[4,12,24,80,...|\n",
            "|10000 maniacs_Don...|Don't talk, I wil...|   Rock|[donut, talk, lis...|(887,[0,1,3,5,9,1...|(887,[0,1,3,5,9,1...|\n",
            "|black veil brides...|Have we begun to ...|   Rock|[begin, drift, aw...|(887,[2,3,4,6,8,1...|(887,[2,3,4,6,8,1...|\n",
            "|lynyrd skynyrd_I ...|Ain't no need to ...|   Rock|[aint, need, worr...|(887,[0,1,2,3,6,7...|(887,[0,1,2,3,6,7...|\n",
            "|10000 maniacs_Acr...|Well they left th...|   Rock|[well, leave, mor...|(887,[3,7,17,20,2...|(887,[3,7,17,20,2...|\n",
            "|10000 maniacs_Pla...|[ music: Dennis D...|   Rock|[music, dennis, d...|(887,[9,11,23,44,...|(887,[9,11,23,44,...|\n",
            "|10000 maniacs_Rai...|On bended kneeI'v...|   Rock|[bend, kneeive, l...|(887,[4,7,12,22,3...|(887,[4,7,12,22,3...|\n",
            "|twista_Back 2 School|[Tung Twista]. ba...|Hip Hop|[tung, twista, ba...|(887,[0,1,2,3,4,7...|(887,[0,1,2,3,4,7...|\n",
            "|10000 maniacs_Ant...|For whom do the b...|   Rock|[bell, toll, sent...|(887,[4,9,11,16,1...|(887,[4,9,11,16,1...|\n",
            "|10000 maniacs_All...|She walks alone o...|   Rock|[walk, alone, bri...|(887,[1,3,4,7,9,1...|(887,[1,3,4,7,9,1...|\n",
            "|10000 maniacs_Bac...|Jenny. Jenny you ...|   Rock|[jenny, jenny, do...|(887,[0,1,2,5,8,9...|(887,[0,1,2,5,8,9...|\n",
            "|cyndi lauper_True...|You with the sad ...|    Pop|[sad, eye, donut,...|(887,[1,4,5,6,7,1...|(887,[1,4,5,6,7,1...|\n",
            "|10000 maniacs_A R...|You were looking ...|   Rock|[look, away, west...|(887,[0,1,8,11,12...|(887,[0,1,8,11,12...|\n",
            "|rick astley_She M...|She makes me more...|    Pop|[make, could, eve...|(887,[0,4,7,9,11,...|(887,[0,4,7,9,11,...|\n",
            "|steve earle_Nothi...|I'm the keeper of...|   Rock|[im, keeper, hear...|(887,[0,5,8,10,19...|(887,[0,5,8,10,19...|\n",
            "|10000 maniacs_Mad...|\"the legs of Madd...|   Rock|[leg, maddox, kit...|(887,[3,11,16,21,...|(887,[3,11,16,21,...|\n",
            "+--------------------+--------------------+-------+--------------------+--------------------+--------------------+\n",
            "only showing top 20 rows\n",
            "\n"
          ],
          "name": "stdout"
        }
      ]
    },
    {
      "cell_type": "markdown",
      "metadata": {
        "id": "mzpsGf77KkNn",
        "colab_type": "text"
      },
      "source": [
        "## Approach 1: Top 3 > Embeddings"
      ]
    },
    {
      "cell_type": "markdown",
      "metadata": {
        "id": "MlGaSbozA9O4",
        "colab_type": "text"
      },
      "source": [
        "Vectorization create vector column object and we need to retrieve values and indices accordingly from it unlike python array/list\n",
        "This whole para shows how we can retrieve indices and ranking from feature column in various ways by applying UDF"
      ]
    },
    {
      "cell_type": "code",
      "metadata": {
        "id": "MT5AubDo2BEH",
        "colab_type": "code",
        "colab": {
          "base_uri": "https://localhost:8080/",
          "height": 468
        },
        "outputId": "ce0d4d3f-9540-4175-8a96-d693b99f673d"
      },
      "source": [
        "from collections import Counter\n",
        "from pyspark.sql.functions import udf, explode\n",
        "from pyspark.ml.linalg import SparseVector, DenseVector\n",
        "from pyspark.sql.types import *\n",
        "# retrieve column with dict indices>TFIDF_Rank \n",
        "# @udf(\"map<long, double>\")\n",
        "# def vector_as_map(v):\n",
        "#    if isinstance(v, SparseVector):\n",
        "#        return dict(zip(v.indices.tolist(), v.values.tolist()))\n",
        "       \n",
        "#    elif isinstance(v, DenseVector):\n",
        "#       print(\"x\")\n",
        "#       return dict(zip(range(len(v)), v.values.tolist()))\n",
        "\n",
        "# bows_wrdlevel = bows.select(\"cleanTokens\", vector_as_map(\"features\").alias(\"rating\"))\n",
        "# bows_wrdlevel.show(truncate = False)\n",
        "\n",
        "# retrieve Columns with dict of only prominent word (based on rating)\n",
        " \n",
        "# schema = ArrayType(StructType([\n",
        "#     StructField(\"ind\", IntegerType(), False),\n",
        "#     StructField(\"rat\", DoubleType(), False)\n",
        "# ]))\n",
        "\n",
        "# @udf(schema)\n",
        "# def vector_as_map(v):\n",
        "#    if isinstance(v, SparseVector):\n",
        "#       K = Counter(dict(zip(v.indices.tolist(), v.values.tolist())))\n",
        "#       return K.most_common(3)\n",
        "#    elif isinstance(v, DenseVector):\n",
        "#       L =Counter(dict(zip(range(len(v)), v.values.tolist())))\n",
        "#       return L.most_common(3) \n",
        "\n",
        "# bows_wrdlevel = bows.select(\"cleanTokens\", vector_as_map(\"features\").alias(\"rating\"))\n",
        "# bows_wrdlevel.show(truncate = False)\n",
        "\n",
        "# getting top 3 indices without retaining their rank\n",
        "\n",
        "# schema = ArrayType(StructType([\n",
        "#     StructField(\"ind\", IntegerType(), False),\n",
        "#     StructField(\"rat\", DoubleType(), False)\n",
        "# ]))\n",
        "\n",
        "@udf(ArrayType(IntegerType()))\n",
        "def vector_as_map(v):\n",
        "   if isinstance(v, SparseVector):\n",
        "      K = dict(zip(v.indices.tolist(), v.values.tolist()))\n",
        "      top3 = sorted(K, key=K.get, reverse=True)[:3]\n",
        "      return top3\n",
        "   elif isinstance(v, DenseVector):\n",
        "      L =dict(zip(range(len(v)), v.values.tolist()))\n",
        "      top3 = sorted(L, key=L.get, reverse=True)[:3]\n",
        "      return top3 \n",
        "\n",
        "bows_wrdlevel = bows.select(\"Key\",'Genre', vector_as_map(\"features\").alias(\"top_ind\"))\n",
        "bows_wrdlevel.na.drop(subset=[\"top_ind\"])\n",
        "bows_wrdlevel.show(truncate = True)"
      ],
      "execution_count": 28,
      "outputs": [
        {
          "output_type": "stream",
          "text": [
            "+--------------------+-------+---------------+\n",
            "|                 Key|  Genre|        top_ind|\n",
            "+--------------------+-------+---------------+\n",
            "|10000 maniacs_Mor...|   Rock|  [70, 57, 723]|\n",
            "|10000 maniacs_Bec...|   Rock| [321, 54, 424]|\n",
            "|jamiroquai_Rock D...|    Pop|[610, 586, 249]|\n",
            "|10000 maniacs_The...|   Rock| [61, 173, 558]|\n",
            "|10000 maniacs_Eve...|   Rock|[411, 772, 683]|\n",
            "|10000 maniacs_Don...|   Rock| [106, 45, 839]|\n",
            "|black veil brides...|   Rock|  [6, 147, 337]|\n",
            "|lynyrd skynyrd_I ...|   Rock|    [41, 6, 33]|\n",
            "|10000 maniacs_Acr...|   Rock|[298, 496, 226]|\n",
            "|10000 maniacs_Pla...|   Rock|[841, 196, 727]|\n",
            "|10000 maniacs_Rai...|   Rock| [657, 147, 53]|\n",
            "|twista_Back 2 School|Hip Hop|[375, 188, 249]|\n",
            "|10000 maniacs_Ant...|   Rock|[764, 227, 733]|\n",
            "|10000 maniacs_All...|   Rock| [155, 65, 458]|\n",
            "|10000 maniacs_Bac...|   Rock|[352, 693, 370]|\n",
            "|cyndi lauper_True...|    Pop|[453, 173, 223]|\n",
            "|10000 maniacs_A R...|   Rock| [63, 251, 825]|\n",
            "|rick astley_She M...|    Pop| [30, 156, 203]|\n",
            "|steve earle_Nothi...|   Rock|  [373, 130, 0]|\n",
            "|10000 maniacs_Mad...|   Rock|[710, 368, 745]|\n",
            "+--------------------+-------+---------------+\n",
            "only showing top 20 rows\n",
            "\n"
          ],
          "name": "stdout"
        }
      ]
    },
    {
      "cell_type": "markdown",
      "metadata": {
        "id": "-2hrOM8MSdiM",
        "colab_type": "text"
      },
      "source": [
        "Convert indices to word"
      ]
    },
    {
      "cell_type": "code",
      "metadata": {
        "id": "Fnp0qvaJSc3Z",
        "colab_type": "code",
        "colab": {}
      },
      "source": [
        "from pyspark.sql import functions as F\n",
        "from operator import itemgetter\n",
        "\n",
        "vocab = cvmodel.vocabulary\n",
        "# udf_to_words = udf(get_words, ArrayType(StringType()))\n",
        "# use @udf if you have used that pattern, throughout your pynb\n",
        "@udf(ArrayType(StringType()))\n",
        "def get_words(token_in):\n",
        "    return itemgetter(*token_in)(vocab)\n",
        "    # return map(vocab.__getitem__, token_in)\n",
        "    # return vocab[token_in].tolist()\n"
      ],
      "execution_count": 29,
      "outputs": []
    },
    {
      "cell_type": "markdown",
      "metadata": {
        "id": "xQjqJsLOolsf",
        "colab_type": "text"
      },
      "source": [
        "This gives us top 3 word for each doc"
      ]
    },
    {
      "cell_type": "code",
      "metadata": {
        "id": "Cs754MWD5WeR",
        "colab_type": "code",
        "colab": {
          "base_uri": "https://localhost:8080/",
          "height": 468
        },
        "outputId": "1ed8b044-ad25-46d3-ffa4-164b8c17ec92"
      },
      "source": [
        "bow_top3_wrd = bows_wrdlevel.select('Key','Genre',get_words(F.col('top_ind')).alias('word'))\n",
        "bow_top3_wrd.na.drop(subset=[\"word\"])\n",
        "bow_top3_wrd.show()\n",
        "# bow_top5_wrd.schema\n"
      ],
      "execution_count": 30,
      "outputs": [
        {
          "output_type": "stream",
          "text": [
            "+--------------------+-------+--------------------+\n",
            "|                 Key|  Genre|                word|\n",
            "+--------------------+-------+--------------------+\n",
            "|10000 maniacs_Mor...|   Rock|[nothing, good, k...|\n",
            "|10000 maniacs_Bec...|   Rock| [top, night, lover]|\n",
            "|jamiroquai_Rock D...|    Pop|[coming, dust, rock]|\n",
            "|10000 maniacs_The...|   Rock|[youll, true, bless]|\n",
            "|10000 maniacs_Eve...|   Rock|[treat, twist, pl...|\n",
            "|10000 maniacs_Don...|   Rock|   [talk, fall, fix]|\n",
            "|black veil brides...|   Rock| [oh, save, mistake]|\n",
            "|lynyrd skynyrd_I ...|   Rock|    [baby, oh, need]|\n",
            "|10000 maniacs_Acr...|   Rock|[morning, across,...|\n",
            "|10000 maniacs_Pla...|   Rock|[lack, matter, ha...|\n",
            "|10000 maniacs_Rai...|   Rock| [tree, save, would]|\n",
            "|twista_Back 2 School|Hip Hop|[breath, everyone...|\n",
            "|10000 maniacs_Ant...|   Rock| [shed, fire, devil]|\n",
            "|10000 maniacs_All...|   Rock|[forever, hold, a...|\n",
            "|10000 maniacs_Bac...|   Rock|[angel, storm, se...|\n",
            "|cyndi lauper_True...|    Pop|[color, true, afr...|\n",
            "|10000 maniacs_A R...|   Rock| [wait, room, three]|\n",
            "|rick astley_She M...|    Pop|[give, maybe, alive]|\n",
            "|steve earle_Nothi...|   Rock|[ready, without, im]|\n",
            "|10000 maniacs_Mad...|   Rock|[disguise, doesnt...|\n",
            "+--------------------+-------+--------------------+\n",
            "only showing top 20 rows\n",
            "\n"
          ],
          "name": "stdout"
        }
      ]
    },
    {
      "cell_type": "markdown",
      "metadata": {
        "id": "NosRdofjkzdS",
        "colab_type": "text"
      },
      "source": [
        "### Embedding"
      ]
    },
    {
      "cell_type": "markdown",
      "metadata": {
        "id": "6rATK2hvD4qW",
        "colab_type": "text"
      },
      "source": [
        "embedding works on sentence as it tries to find out the relationship between words too and not just their count/occurence. "
      ]
    },
    {
      "cell_type": "code",
      "metadata": {
        "id": "HVUyMvB_6gCq",
        "colab_type": "code",
        "colab": {
          "base_uri": "https://localhost:8080/",
          "height": 468
        },
        "outputId": "547cb20d-779d-47d8-9122-fe5f78ca1197"
      },
      "source": [
        "#convert list to sentence\n",
        "@udf( StringType())\n",
        "def get_sentence(word_in):\n",
        "    return \" \".join(str(item) for item in word_in)\n",
        "\n",
        "# udf_to_doc = udf(get_sentence, StringType())\n",
        "\n",
        "bow_top_embd = bow_top3_wrd.select('Key','Genre', get_sentence(F.col('word')).alias('doc'))\n",
        "# bow_top_embd = bow_top_embd.filter((F.col('doc') != '') | F.col('doc') != ' ')\n",
        "bow_top_embd.na.drop(subset=[\"doc\"])\n",
        "from pyspark.sql.functions import trim\n",
        "bow_top_embd = bow_top_embd.withColumn(\"doc\", trim(bow_top_embd.doc))\n",
        "# bow_top_embd.filter(!(F.col('doc') == ' ')).show()\n",
        "bow_top_embd.show()"
      ],
      "execution_count": 31,
      "outputs": [
        {
          "output_type": "stream",
          "text": [
            "+--------------------+-------+--------------------+\n",
            "|                 Key|  Genre|                 doc|\n",
            "+--------------------+-------+--------------------+\n",
            "|10000 maniacs_Mor...|   Rock|  nothing good knock|\n",
            "|10000 maniacs_Bec...|   Rock|     top night lover|\n",
            "|jamiroquai_Rock D...|    Pop|    coming dust rock|\n",
            "|10000 maniacs_The...|   Rock|    youll true bless|\n",
            "|10000 maniacs_Eve...|   Rock|   treat twist plain|\n",
            "|10000 maniacs_Don...|   Rock|       talk fall fix|\n",
            "|black veil brides...|   Rock|     oh save mistake|\n",
            "|lynyrd skynyrd_I ...|   Rock|        baby oh need|\n",
            "|10000 maniacs_Acr...|   Rock| morning across part|\n",
            "|10000 maniacs_Pla...|   Rock|  lack matter handle|\n",
            "|10000 maniacs_Rai...|   Rock|     tree save would|\n",
            "|twista_Back 2 School|Hip Hop|breath everyone rock|\n",
            "|10000 maniacs_Ant...|   Rock|     shed fire devil|\n",
            "|10000 maniacs_All...|   Rock| forever hold answer|\n",
            "|10000 maniacs_Bac...|   Rock|  angel storm second|\n",
            "|cyndi lauper_True...|    Pop|   color true afraid|\n",
            "|10000 maniacs_A R...|   Rock|     wait room three|\n",
            "|rick astley_She M...|    Pop|    give maybe alive|\n",
            "|steve earle_Nothi...|   Rock|    ready without im|\n",
            "|10000 maniacs_Mad...|   Rock|disguise doesnt deal|\n",
            "+--------------------+-------+--------------------+\n",
            "only showing top 20 rows\n",
            "\n"
          ],
          "name": "stdout"
        }
      ]
    },
    {
      "cell_type": "code",
      "metadata": {
        "id": "d-xGmdch_iZy",
        "colab_type": "code",
        "colab": {
          "base_uri": "https://localhost:8080/",
          "height": 121
        },
        "outputId": "6e70acbc-d67e-4c03-8a63-e76608b63e74"
      },
      "source": [
        "bow_top_embd.printSchema()\n",
        "bow_top_embd.select('Genre').distinct().collect()"
      ],
      "execution_count": 32,
      "outputs": [
        {
          "output_type": "stream",
          "text": [
            "root\n",
            " |-- Key: string (nullable = true)\n",
            " |-- Genre: string (nullable = true)\n",
            " |-- doc: string (nullable = true)\n",
            "\n"
          ],
          "name": "stdout"
        },
        {
          "output_type": "execute_result",
          "data": {
            "text/plain": [
              "[Row(Genre='Rock'), Row(Genre='Pop'), Row(Genre='Hip Hop')]"
            ]
          },
          "metadata": {
            "tags": []
          },
          "execution_count": 32
        }
      ]
    },
    {
      "cell_type": "markdown",
      "metadata": {
        "id": "KAcowO4ga4UJ",
        "colab_type": "text"
      },
      "source": [
        "Embedding output here will be list of list 3*100 features"
      ]
    },
    {
      "cell_type": "code",
      "metadata": {
        "id": "qwKs9Ajzl0lM",
        "colab_type": "code",
        "colab": {
          "base_uri": "https://localhost:8080/",
          "height": 540
        },
        "outputId": "5fb59517-59dd-4c15-904f-6d722766fea1"
      },
      "source": [
        "assembler = DocumentAssembler().setInputCol('doc').setOutputCol(\"document\").setCleanupMode(\"shrink\")\n",
        "tokenizer = Tokenizer().setInputCols(['document']).setOutputCol('token')\n",
        "embed = WordEmbeddingsModel.pretrained().setInputCols(['document',\"token\"]).setOutputCol(\"embeddings\")\n",
        "embeddings_finisher = EmbeddingsFinisher().setInputCols([\"embeddings\"]).setOutputCols([\"embeddings\"]).setOutputAsVector(True).setCleanAnnotations(True)\n",
        "# vec_assembler = VectorAssembler().setInputCols(['embeddings']).setOutputCol('features')\n",
        "pipeline_uni = Pipeline().setStages([\n",
        "    assembler, tokenizer,embed ,embeddings_finisher\n",
        "])\n",
        "model = pipeline_uni.fit(bow_top_embd)\n",
        "model_trans =  model.transform(bow_top_embd)#.persist()\n",
        "model_trans.select('embeddings').show(truncate = False)\n"
      ],
      "execution_count": 33,
      "outputs": [
        {
          "output_type": "stream",
          "text": [
            "glove_100d download started this may take some time.\n",
            "Approximate size to download 145.3 MB\n",
            "[OK!]\n",
            "+---------------------------------------------------------------------------------------------------------------------------------------------------------------------------------------------------------------------------------------------------------------------------------------------------------------------------------------------------------------------------------------------------------------------------------------------------------------------------------------------------------------------------------------------------------------------------------------------------------------------------------------------------------------------------------------------------------------------------------------------------------------------------------------------------------------------------------------------------------------------------------------------------------------------------------------------------------------------------------------------------------------------------------------------------------------------------------------------------------------------------------------------------------------------------------------------------------------------------------------------------------------------------------------------------------------------------------------------------------------------------------------------------------------------------------------------------------------------------------------------------------------------------------------------------------------------------------------------------------------------------------------------------------------------------------------------------------------------------------------------------------------------------------------------------------------------------------------------------------------------------------------------------------------------------------------------------------------------------------------------------------------------------------------------------------------------------------------------------------------------------------------------------------------------------------------------------------------------------------------------------------------------------------------------------------------------------------------------------------------------------------------------------------------------------------------------------------------------------------------------------------------------------------------------------------------------------------------------------------------------------------------------------------------------------------------------------------------------------------------------------------------------------------------------------------------------------------------------------------------------------------------------------------------------------------------------------------------------------------------------------------------------------------------------------------------------------------------------------------------------------------------------------------------------------------------------------------------------------------------------------------------------------------------------------------------------------------------------------------------------------------------------------------------------------------------------------------------------------------------------------------------------------------------------------------------------------------------------------------------------------------------------------------------------------------------------------------------------------------------------------------------------------------------------------------------------------------------------------------------------------------------------------------------------------------------------------------------------------------------------------------------------------------------------------------------------------------------------------------------------------------------------------------------------------------------------------------------------------------------------------------------------------------------------------------------------------------------------------------------------------------------------------------------------------------------------------------------------------------------------------------------------------------------------------------------------------------------------------------------------------------------------------------------------------------------------------------------------------------------------------------------------------------------------------------------------------------------------------------------------------------------------------------------------------------------------------------------------------------------------------------------------------------------------------------------------------------------------------------------------------------------------------------------------------------------------------------------------------------------------------------------------------------------------------------------------------------------------------------------------------------------------------------------------------------------------------------------------------------------------------------------------------------------------------------------------------------------------------------------------------------------------------------------------------------------------------------------------------------------------------------------------------------------------------------------------------------------------------------------------------------------------------------------------------------------------------------------------------------------------------------------------------------------------------------------------------------------------------------------------------------------------------------------------------------------------------------------------------------------------------------------------------------+\n",
            "|embeddings                                                                                                                                                                                                                                                                                                                                                                                                                                                                                                                                                                                                                                                                                                                                                                                                                                                                                                                                                                                                                                                                                                                                                                                                                                                                                                                                                                                                                                                                                                                                                                                                                                                                                                                                                                                                                                                                                                                                                                                                                                                                                                                                                                                                                                                                                                                                                                                                                                                                                                                                                                                                                                                                                                                                                                                                                                                                                                                                                                                                                                                                                                                                                                                                                                                                                                                                                                                                                                                                                                                                                                                                                                                                                                                                                                                                                                                                                                                                                                                                                                                                                                                                                                                                                                                                                                                                                                                                                                                                                                                                                                                                                                                                                                                                                                                                                                                                                                                                                                                                                                                                                                                                                                                                                                                                                                                                                                                                                                                                                                                                                                                                                                                                                                                                                                                                                                                                                                                                                                                                                                                                                                                                                                                                                                                                       |\n",
            "+---------------------------------------------------------------------------------------------------------------------------------------------------------------------------------------------------------------------------------------------------------------------------------------------------------------------------------------------------------------------------------------------------------------------------------------------------------------------------------------------------------------------------------------------------------------------------------------------------------------------------------------------------------------------------------------------------------------------------------------------------------------------------------------------------------------------------------------------------------------------------------------------------------------------------------------------------------------------------------------------------------------------------------------------------------------------------------------------------------------------------------------------------------------------------------------------------------------------------------------------------------------------------------------------------------------------------------------------------------------------------------------------------------------------------------------------------------------------------------------------------------------------------------------------------------------------------------------------------------------------------------------------------------------------------------------------------------------------------------------------------------------------------------------------------------------------------------------------------------------------------------------------------------------------------------------------------------------------------------------------------------------------------------------------------------------------------------------------------------------------------------------------------------------------------------------------------------------------------------------------------------------------------------------------------------------------------------------------------------------------------------------------------------------------------------------------------------------------------------------------------------------------------------------------------------------------------------------------------------------------------------------------------------------------------------------------------------------------------------------------------------------------------------------------------------------------------------------------------------------------------------------------------------------------------------------------------------------------------------------------------------------------------------------------------------------------------------------------------------------------------------------------------------------------------------------------------------------------------------------------------------------------------------------------------------------------------------------------------------------------------------------------------------------------------------------------------------------------------------------------------------------------------------------------------------------------------------------------------------------------------------------------------------------------------------------------------------------------------------------------------------------------------------------------------------------------------------------------------------------------------------------------------------------------------------------------------------------------------------------------------------------------------------------------------------------------------------------------------------------------------------------------------------------------------------------------------------------------------------------------------------------------------------------------------------------------------------------------------------------------------------------------------------------------------------------------------------------------------------------------------------------------------------------------------------------------------------------------------------------------------------------------------------------------------------------------------------------------------------------------------------------------------------------------------------------------------------------------------------------------------------------------------------------------------------------------------------------------------------------------------------------------------------------------------------------------------------------------------------------------------------------------------------------------------------------------------------------------------------------------------------------------------------------------------------------------------------------------------------------------------------------------------------------------------------------------------------------------------------------------------------------------------------------------------------------------------------------------------------------------------------------------------------------------------------------------------------------------------------------------------------------------------------------------------------------------------------------------------------------------------------------------------------------------------------------------------------------------------------------------------------------------------------------------------------------------------------------------------------------------------------------------------------------------------------------------------------------------------------------------------------------------------------+\n",
            "|[[0.10903999954462051,0.26271000504493713,0.6062300205230713,-0.25146999955177307,-0.20479999482631683,0.2783699929714203,-0.08334100246429443,0.1315300017595291,0.42772001028060913,-0.21578000485897064,0.3071799874305725,0.41593000292778015,0.0852150022983551,0.08787299692630768,-0.1834000051021576,-0.1991100013256073,-0.47404998540878296,0.44345998764038086,-0.36223000288009644,0.7210599780082703,0.32030001282691956,0.22954000532627106,-0.30375000834465027,-0.9149399995803833,-0.06852299720048904,0.318450003862381,-0.508080005645752,-0.8170599937438965,0.021330999210476875,-0.46608999371528625,-0.003925899975001812,0.37049001455307007,-0.010835000313818455,-0.23419000208377838,-0.048312000930309296,0.3743700087070465,-8.990499773062766E-4,-0.0350940003991127,-0.15362000465393066,-0.27118998765945435,-0.17147000133991241,0.33092001080513,0.2515200078487396,-0.49129998683929443,-0.6729099750518799,-0.4883899986743927,0.5364300012588501,0.038763999938964844,-0.33112001419067383,-1.3105000257492065,0.5260400176048279,-0.1684499979019165,0.2526099979877472,0.9038699865341187,-0.25025999546051025,-2.327699899673462,0.08612000197172165,0.08815699815750122,1.0720000267028809,0.32701000571250916,-0.3006500005722046,0.9846600294113159,-0.6363599896430969,-0.5178999900817871,0.7911400198936462,-0.06509300321340561,0.8853800296783447,0.07925699651241302,-0.3128400146961212,-0.24873000383377075,0.11646000295877457,-0.46505001187324524,0.14549000561237335,-0.08281999826431274,0.6721500158309937,0.29760000109672546,0.007843799889087677,0.03941100090742111,-1.0551999807357788,0.5627300143241882,0.33296999335289,-0.14573000371456146,-0.4001699984073639,-0.15723000466823578,-1.4218000173568726,-0.29493001103401184,0.12676000595092773,0.06466999650001526,-0.19246000051498413,-0.28435999155044556,0.301829993724823,-0.3684700131416321,-0.02755899913609028,0.015203000046312809,-0.14271000027656555,-0.3656499981880188,-0.38997000455856323,-0.15467999875545502,-0.1339700073003769,0.5064700245857239], [-0.030768999829888344,0.11992999911308289,0.5390899777412415,-0.43696001172065735,-0.7393699884414673,-0.15344999730587006,0.08112599700689316,-0.38558998703956604,-0.687969982624054,-0.41631999611854553,-0.13183000683784485,-0.24921999871730804,0.4410000145435333,0.08591900020837784,0.20870999991893768,-0.06358200311660767,0.0622280016541481,-0.05123399943113327,-0.13398000597953796,1.141800045967102,0.03652599826455116,0.49028998613357544,-0.24567000567913055,-0.41200000047683716,0.12348999828100204,0.41335999965667725,-0.4839699864387512,-0.5424299836158752,-0.2778699994087219,-0.2601499855518341,-0.38484999537467957,0.7865599989891052,0.1023000031709671,-0.20712000131607056,0.40751001238822937,0.3202599883079529,-0.5105199813842773,0.4836199879646301,-0.009949799627065659,-0.3868499994277954,0.034974999725818634,-0.16699999570846558,0.4237000048160553,-0.5416399836540222,-0.3032299876213074,-0.36983001232147217,0.08283600211143494,-0.52538001537323,-0.06453099846839905,-1.3980000019073486,-0.14872999489307404,-0.3532699942588806,-0.11180000007152557,1.0911999940872192,0.09586399793624878,-2.8129000663757324,0.4523800015449524,0.46213001012802124,1.601199984550476,-0.20837000012397766,-0.2737700045108795,0.7119699716567993,-1.0753999948501587,-0.046973999589681625,0.6747900247573853,-0.0658390000462532,0.7582399845123291,0.3940500020980835,0.1550700068473816,-0.6471899747848511,0.3279600143432617,-0.03174800053238869,0.5289899706840515,-0.4388599991798401,0.674049973487854,0.42135998606681824,-0.11981000006198883,-0.21776999533176422,-0.2975600063800812,-0.13510000705718994,0.5989800095558167,0.46529000997543335,-0.5825799703598022,-0.023229999467730522,-1.5441999435424805,0.019009999930858612,-0.015876999124884605,0.02449899911880493,-0.5801699757575989,-0.6765900254249573,-0.04037899896502495,-0.4404299855232239,0.08329199999570847,0.20035000145435333,-0.7549899816513062,0.1691800057888031,-0.26572999358177185,-0.5287799835205078,0.17584000527858734,1.065000057220459], [-0.20965999364852905,-8.246100042015314E-4,0.5149800181388855,-0.16035999357700348,-0.42403000593185425,0.17760999500751495,-0.06390699744224548,-0.13784000277519226,-0.5824099779129028,0.02652899920940399,0.6950600147247314,-0.03629700094461441,-0.07366299629211426,0.2962400019168854,0.6887900233268738,0.21751999855041504,-0.6927099823951721,0.9549599885940552,-0.2323099970817566,0.2727000117301941,0.7585200071334839,-0.08694399893283844,0.12661999464035034,-0.16890999674797058,0.05987599864602089,-0.04206300154328346,-0.589389979839325,-0.013930000364780426,0.2429099977016449,-0.5216900110244751,-0.1354299932718277,-0.3312000036239624,0.5736600160598755,0.17985999584197998,-0.12775999307632446,-0.2833699882030487,-0.6588699817657471,-0.8285599946975708,0.0900690034031868,0.24201999604701996,-0.28949999809265137,-0.22680999338626862,-0.04116300120949745,-0.6743999719619751,0.0695199966430664,0.26006999611854553,0.08204200118780136,-0.241349995136261,-0.5319499969482422,-0.5916200280189514,-0.736519992351532,0.7375699877738953,-0.1716800034046173,0.3602199852466583,0.27156001329421997,-1.4754999876022339,-0.5209599733352661,0.3929600119590759,0.5009499788284302,0.2051199972629547,0.027867000550031662,0.387939989566803,-0.6107699871063232,0.4830699861049652,-0.25415000319480896,0.424019992351532,0.5321999788284302,0.1589300036430359,-0.7832900285720825,-0.7271999716758728,0.17026999592781067,0.011719999834895134,0.38951000571250916,-0.2775000035762787,0.30000999569892883,-0.05620099976658821,-0.638759970664978,-0.08418399840593338,0.16966000199317932,0.40751001238822937,0.5041599869728088,-0.43290001153945923,-0.2135400027036667,-0.07733500003814697,-0.9921799898147583,-0.5849900245666504,-0.04737300053238869,0.4240100085735321,-0.11241000145673752,0.30118998885154724,-0.2610599994659424,0.13864000141620636,0.10854999721050262,-0.14135000109672546,0.031140999868512154,0.01551199983805418,0.3372099995613098,0.4746899902820587,0.16478000581264496,0.2038400024175644]]          |\n",
            "|[[-0.6413900256156921,0.1658799946308136,1.0462000370025635,-0.08523300290107727,0.6407300233840942,-0.18599000573158264,0.29837000370025635,-0.38624998927116394,-0.5463200211524963,0.4193600118160248,0.9054999947547913,-0.10732000321149826,0.35530000925064087,0.4428200125694275,-0.5625799894332886,0.08802899718284607,0.31209999322891235,-0.6546900272369385,-0.27651000022888184,-0.12228000164031982,0.11083000153303146,0.12264999747276306,0.12285000085830688,0.0048421998508274555,0.29273998737335205,-0.13614000380039215,0.3592100143432617,-0.49720999598503113,0.35923999547958374,-0.3892500102519989,0.22698000073432922,0.046907998621463776,0.05742599815130234,0.13277000188827515,0.0703129991889,0.8522599935531616,-0.7586699724197388,0.4295699894428253,-0.339029997587204,0.3065800070762634,-0.28942999243736267,-0.39204999804496765,0.49891000986099243,-0.08113700151443481,0.6528699994087219,0.0979669988155365,-0.3115200102329254,-0.0997370034456253,0.034669000655412674,-0.6411899924278259,-0.37446001172065735,-0.6630300283432007,-0.8348900079727173,1.271399974822998,-0.3064599931240082,-2.491499900817871,-0.4049699902534485,0.6856499910354614,1.7480000257492065,1.0817999839782715,-0.4041300117969513,0.31755998730659485,-0.09496399760246277,0.2650899887084961,0.5732799768447876,-0.31301000714302063,0.393559992313385,1.2891000509262085,0.4651400148868561,0.19392000138759613,0.19891999661922455,-0.09439399838447571,-0.35666000843048096,0.06679599732160568,0.18401999771595,-0.05622699856758118,-0.4429500102996826,-0.4729200005531311,0.05834899842739105,-0.3536199927330017,1.5463999509811401,-0.13702000677585602,-0.3091300129890442,-0.6005399823188782,-0.8022699952125549,-0.8712800145149231,-0.2852100133895874,0.621749997138977,0.682200014591217,-0.32482001185417175,-0.2209399938583374,0.5496199727058411,-0.48598000407218933,0.1773499995470047,-0.7248299717903137,-0.220210000872612,-0.19317999482154846,-0.1656000018119812,1.3286000490188599,0.3953799903392792], [-0.13926999270915985,-0.38405999541282654,0.4847300052642822,-0.39309000968933105,-0.28216999769210815,0.8291199803352356,0.5053799748420715,1.12090003490448,-0.7150200009346008,-0.3565700054168701,0.00989570003002882,-0.444130003452301,-0.11581999808549881,-0.13613000512123108,0.27978000044822693,-0.5501300096511841,-0.06580100208520889,-0.06645099818706512,-0.4093399941921234,0.002059200080111623,0.47589001059532166,-0.38130998611450195,-0.09715600311756134,-0.1349799931049347,0.8912400007247925,0.10153999924659729,-0.13436000049114227,0.22213000059127808,0.17824000120162964,-0.04430599883198738,-0.3573800027370453,-0.20326000452041626,0.1901099979877472,0.6782900094985962,-0.08439099788665771,0.09412399679422379,-0.4754300117492676,0.06362800300121307,0.5425300002098083,-0.0087293004617095,0.1338600069284439,-0.15006999671459198,0.07481999695301056,0.17757999897003174,0.03795100003480911,-0.20253999531269073,-0.6129199862480164,-0.4614799916744232,0.506600022315979,-0.7305300235748291,-0.14841000735759735,-0.3681899905204773,0.509440004825592,1.105299949645996,-0.10847000032663345,-2.924099922180176,0.056272998452186584,0.3417699933052063,1.4352999925613403,1.1309000253677368,-0.9312599897384644,1.268399953842163,-0.10422000288963318,-0.490119993686676,0.07529299706220627,0.07922100275754929,0.5686299800872803,-0.026662999764084816,-0.460889995098114,0.02020600065588951,-0.4681699872016907,-1.1875,0.03822699934244156,-0.1991100013256073,-0.19580000638961792,0.5501599907875061,0.027458999305963516,-0.282370001077652,-0.6960999965667725,0.2515299916267395,0.2116200029850006,-0.11326000094413757,-0.23337000608444214,-0.14887000620365143,-1.1116000413894653,-0.3264999985694885,-0.1183599978685379,0.5217199921607971,-0.4080199897289276,0.2081799954175949,0.6219900250434875,-0.30939000844955444,0.19955000281333923,0.6197699904441833,-1.2067999839782715,0.24397000670433044,-0.11748000234365463,0.5728099942207336,0.6081600189208984,0.2748500108718872], [0.7130500078201294,0.2199299931526184,0.6724100112915039,0.09105099737644196,0.2898600101470947,0.8937600255012512,0.48695001006126404,-0.37839001417160034,0.48201999068260193,-0.3745799958705902,-0.4449799954891205,0.5356900095939636,0.11349999904632568,0.5169699788093567,-0.09330599755048752,0.12665000557899475,0.2616100013256073,-0.3581700026988983,-0.1832199990749359,1.3737000226974487,-0.026203999295830727,-0.32673999667167664,-0.2747200131416321,0.1445399969816208,0.6801599860191345,0.8430299758911133,-0.5388299822807312,-0.7687699794769287,0.6430100202560425,0.4185900092124939,-0.25725001096725464,0.5466600060462952,0.514240026473999,-0.2768400013446808,-0.10147999972105026,0.5989800095558167,-0.320499986410141,-0.2631799876689911,0.5438600182533264,-0.6132000088691711,0.034446001052856445,0.43285998702049255,0.30234000086784363,-0.5281999707221985,0.6494200229644775,-0.1436000019311905,-0.9046300053596497,0.006113800220191479,0.5978099703788757,0.0068927002139389515,0.16301000118255615,0.034317001700401306,0.5022600293159485,1.1926000118255615,0.10492999851703644,-1.039199948310852,-0.5477100014686584,0.39945998787879944,0.02276100032031536,0.008250400424003601,0.5982699990272522,0.5289999842643738,-0.300709992647171,-0.4149399995803833,0.5180500149726868,-0.09481000155210495,0.7812899947166443,-0.06960300356149673,0.16874000430107117,-0.14983999729156494,-0.3115200102329254,-0.10719999670982361,0.1734199970960617,-0.08342400193214417,-0.48208001255989075,-0.17244000732898712,0.31801000237464905,-0.6534199714660645,-0.17398999631404877,0.08011200278997421,-0.2056400030851364,0.6674399971961975,0.7039099931716919,-0.1406099945306778,-0.8458899855613708,-0.40163999795913696,-0.3235499858856201,0.1545100063085556,-0.20882999897003174,-0.8836600184440613,-0.06539499759674072,0.3255699872970581,1.0628000497817993,0.06398200243711472,0.09643500298261642,-0.15865999460220337,-0.6778799891471863,-0.36232998967170715,-0.2669000029563904,-0.23194999992847443]]                                                                      |\n",
            "|[[0.0667089968919754,0.2744799852371216,0.8142399787902832,-0.5254300236701965,0.2928600013256073,-0.1285800039768219,-0.069241002202034,0.13348999619483948,-0.196710005402565,-0.39552998542785645,0.20428000390529633,-0.15060999989509583,0.07643300294876099,0.1633100062608719,0.14634999632835388,-0.4485599994659424,-0.5001599788665771,0.35069000720977783,-0.3422200083732605,0.09708999842405319,0.37163999676704407,0.39129000902175903,-0.13993999361991882,0.22081999480724335,-0.026465000584721565,0.1815599948167801,-0.23736999928951263,-0.21866999566555023,0.34718000888824463,-0.27733999490737915,-0.5848199725151062,-0.18955999612808228,0.2534799873828888,-0.25235000252723694,0.06429699808359146,0.10475999861955643,-0.28606998920440674,0.08802899718284607,-0.17910000681877136,-0.1772499978542328,-0.6414399743080139,-0.15544000267982483,0.022995000705122948,0.05150499939918518,-0.051844000816345215,-0.13007000088691711,0.24252000451087952,-0.07678099721670151,0.23259000480175018,-1.1787999868392944,0.24079999327659607,-0.11954999715089798,0.05955599993467331,0.9534100294113159,-0.020090999081730843,-2.3396999835968018,-0.30559998750686646,0.1118599995970726,1.5362000465393066,0.46654999256134033,-0.47446998953819275,1.134600043296814,-0.49470001459121704,0.06511899828910828,0.4672900140285492,0.46053001284599304,-0.012622999958693981,-0.08001899719238281,-0.17816999554634094,-0.32074999809265137,0.32975998520851135,-0.2502399981021881,-0.4897899925708771,-0.7078499794006348,0.16801999509334564,0.3305099904537201,-0.23047000169754028,-0.16929000616073608,-0.4195599853992462,-0.06854499876499176,0.43566998839378357,0.19075000286102295,-0.6614099740982056,-0.08472900092601776,-1.172700047492981,-0.41168999671936035,-0.3081600069999695,-0.29704999923706055,-0.4424700140953064,-0.46799999475479126,-0.2323399931192398,0.1655299961566925,-0.2249699980020523,0.08162300288677216,-0.7521600127220154,-0.005240399856120348,0.18724000453948975,0.5061500072479248,0.5064100027084351,0.02559500001370907], [-0.7005599737167358,0.241239994764328,0.6871600151062012,-0.7643799781799316,-0.29131999611854553,0.11976999789476395,-0.3152500092983246,0.032742999494075775,-0.11558999866247177,-0.06371799856424332,0.2739099860191345,-0.48431000113487244,0.29613998532295227,0.43685001134872437,0.2842999994754791,-0.29701000452041626,0.5898200273513794,0.11897999793291092,0.4489099979400635,-0.6198999881744385,-0.5087699890136719,0.15955999493598938,-0.336899995803833,-0.12817999720573425,0.2516300082206726,0.8029199838638306,-0.3700900077819824,0.4725799858570099,-0.13609999418258667,-0.5278400182723999,0.16050000488758087,-0.8528900146484375,0.09638799726963043,0.10306999832391739,-0.6408500075340271,-0.4665699899196625,0.31240999698638916,0.04803700000047684,0.2663399875164032,0.3691200017929077,-1.2409000396728516,-0.6154400110244751,-0.9788299798965454,-0.8115000128746033,0.0412600003182888,0.08368200063705444,-0.46382999420166016,0.49088001251220703,0.4927699863910675,-0.7557399868965149,0.08610700070858002,-0.28755998611450195,-0.17705999314785004,1.0714999437332153,-0.20666000247001648,-1.030500054359436,-0.21949000656604767,0.9279699921607971,1.2782000303268433,0.551639974117279,0.5026999711990356,1.9127999544143677,-0.5844299793243408,0.43375998735427856,0.9913399815559387,0.18098999559879303,0.9942200183868408,-0.4781799912452698,0.26342999935150146,-1.3518999814987183,-0.04486599937081337,-0.31426000595092773,0.5079500079154968,0.6112300157546997,0.10870999842882156,-0.2962999939918518,0.8990799784660339,-0.7465599775314331,0.05427800118923187,0.9800199866294861,0.48093000054359436,0.5425800085067749,-0.37567999958992004,0.09062699973583221,-0.2992900013923645,-0.21844999492168427,0.5795199871063232,-0.2443999946117401,-0.32328999042510986,0.7676399946212769,0.2543500065803528,-0.3722600042819977,-0.2900199890136719,-0.22879000008106232,0.28984999656677246,-0.6995800137519836,-0.20768000185489655,0.4981899857521057,-0.39127999544143677,-0.6263300180435181], [-0.6838700175285339,0.391759991645813,0.5367000102996826,-0.3779999911785126,0.4206799864768982,0.3151000142097473,-0.1295900046825409,-0.039726998656988144,-0.38993000984191895,0.48069000244140625,0.4258899986743927,-0.05736999958753586,-0.3245700001716614,0.56809002161026,0.3200100064277649,-0.3228200078010559,0.772379994392395,-0.6314100027084351,0.1641799956560135,0.9890999794006348,0.898639976978302,0.27612999081611633,-0.3848100006580353,-0.5613899827003479,0.11241000145673752,0.42056000232696533,-0.03382899984717369,-0.21714000403881073,0.9238399863243103,0.18437999486923218,0.07516399770975113,7.723799790255725E-4,0.15978999435901642,1.1102999448776245,0.2682400047779083,-0.4003399908542633,0.05357399955391884,-0.1482899934053421,0.532800018787384,-1.0414999723434448,-0.27300000190734863,0.11073999851942062,-0.7361800074577332,0.4719200134277344,0.039466001093387604,-0.15974999964237213,-0.3488999903202057,0.23240000009536743,0.3438499867916107,-0.5100700259208679,-0.4826599955558777,-0.14806999266147614,0.39921000599861145,0.04574599862098694,-0.17110000550746918,-2.871000051498413,-0.6973900198936462,0.15571999549865723,1.4905999898910522,1.1829999685287476,0.5302600264549255,1.0778000354766846,-0.08319099992513657,0.22488999366760254,1.030900001525879,-0.2281399965286255,0.9580600261688232,-0.31578001379966736,0.1196800023317337,-1.0490000247955322,-0.39770999550819397,0.4647899866104126,-0.4727500081062317,0.6578400135040283,-0.6076400279998779,-0.6716499924659729,0.8052300214767456,-0.042941998690366745,0.6175299882888794,-0.3265500068664551,0.22756999731063843,0.13328999280929565,0.4116300046443939,-0.062334999442100525,0.0055427998304367065,0.045062001794576645,-0.2121800035238266,-0.482340008020401,-0.01940399967133999,0.5027400255203247,-0.2556599974632263,-0.529420018196106,-1.0037000179290771,0.6870700120925903,-0.1712000072002411,-0.4662899971008301,-1.3875999450683594,-0.14145000278949738,1.3114999532699585,0.3147599995136261]]                                      |\n",
            "|[[-0.5560399889945984,0.3320299983024597,-0.15695999562740326,0.08493199944496155,-0.5973100066184998,-0.14775000512599945,0.04937399923801422,-0.17757000029087067,0.545740008354187,-0.9247099757194519,-0.09569499641656876,0.39094001054763794,0.09166300296783447,-0.3709000051021576,-0.05668099969625473,-0.1251000016927719,-0.2808299958705902,0.656000018119812,-0.28960999846458435,0.08652500063180923,-0.6028800010681152,-0.09683500230312347,-0.1957399994134903,-0.4474399983882904,-0.5602200031280518,-0.11802999675273895,0.08083199709653854,-0.026101000607013702,0.38697999715805054,0.07113900035619736,0.07759299874305725,0.168830007314682,-0.08570399880409241,-0.048847001045942307,0.4278700053691864,0.34457001090049744,-0.1816900074481964,-0.2218800038099289,0.1027199998497963,0.09940200299024582,-0.09702800214290619,0.1351899951696396,0.08922900259494781,0.07797200232744217,-0.1584700047969818,0.034713998436927795,0.17956000566482544,-0.014783999882638454,0.28633999824523926,0.14494000375270844,0.36667999625205994,-0.12928999960422516,-0.08912300318479538,-0.5446199774742126,0.3145799934864044,0.7432000041007996,-0.08087199926376343,-0.18118999898433685,-0.730430006980896,-0.3613399863243103,-0.030143000185489655,-0.11726000159978867,0.010811000131070614,-0.19168999791145325,-0.29993999004364014,0.3149699866771698,-0.48157998919487,0.1143300011754036,-0.49737998843193054,-0.18081000447273254,0.03709999844431877,0.30125999450683594,-8.357000187970698E-4,0.13290999829769135,-0.2906000018119812,-0.20806999504566193,0.041218001395463943,-0.08254899829626083,0.7382400035858154,0.023103000596165657,-0.10349000245332718,-3.4450998646207154E-4,0.021689999848604202,-0.7148200273513794,0.11277999728918076,-0.18880000710487366,-0.031874001026153564,-0.1152999997138977,-0.2002200037240982,0.14568999409675598,-0.18470999598503113,0.0025595000479370356,0.11266999691724777,-0.49108999967575073,0.3138200044631958,0.03060699999332428,0.26767000555992126,0.09293899685144424,-0.528439998626709,0.31411999464035034], [0.15464000403881073,0.34523001313209534,0.7651600241661072,-0.0675090029835701,-0.22752000391483307,0.17634999752044678,0.06084899976849556,-0.7368299961090088,-0.01092899963259697,-0.15505999326705933,-0.03712699934840202,0.4412199854850769,0.49195998907089233,0.16099999845027924,0.05959400162100792,-0.34584999084472656,0.38905999064445496,0.584119975566864,-0.18401999771595,0.9190400242805481,0.16360999643802643,-0.4280799925327301,-0.41091999411582947,-0.48833000659942627,0.13149000704288483,0.48544999957084656,0.31244999170303345,-0.3275499939918518,-0.2929399907588959,0.03616100177168846,0.09394899755716324,0.22657999396324158,-0.1766200065612793,-0.420089989900589,0.3659299910068512,-0.01710600033402443,0.12171000242233276,0.4139600098133087,0.1634099930524826,-0.36570000648498535,-0.28519999980926514,0.23693999648094177,0.4526900053024292,-0.16359999775886536,-0.30904000997543335,-0.510670006275177,0.7295600175857544,0.05238499864935875,-0.4492200016975403,-0.4914099872112274,0.3543800115585327,-0.047272998839616776,0.8094900250434875,0.6498799920082092,0.2200700044631958,-2.190700054168701,0.45671001076698303,0.3374499976634979,1.3087999820709229,-0.22551999986171722,0.009121900424361229,0.7404299974441528,-0.7066400051116943,-0.5047299861907959,1.2026000022888184,0.06826400011777878,0.3713800013065338,0.08111900091171265,-0.11621999740600586,-0.1986600011587143,0.15097999572753906,0.0770149976015091,-0.11550000309944153,-0.0921579971909523,0.5142800211906433,-0.1391800045967102,0.19575999677181244,-0.6435400247573853,-0.6205899715423584,0.10805000364780426,-0.26339998841285706,0.3345800042152405,-0.36548998951911926,-0.0836620032787323,-1.0600999593734741,-0.4867900013923645,-0.10550999641418457,-0.1998399943113327,-0.1664399951696396,-0.3271600008010864,-0.23583999276161194,0.10836999863386154,0.18289999663829803,0.34428998827934265,-0.43507999181747437,-0.7754300236701965,-0.9318000078201294,-0.8006600141525269,0.07002700120210648,0.47040998935699463], [0.0954509973526001,0.6440600156784058,0.369269996881485,-0.1758500039577484,-0.3706499934196472,0.8567600250244141,-0.9551799893379211,0.5837500095367432,-0.15644000470638275,-0.6428400278091431,0.028798000887036324,-0.4853299856185913,0.2455500066280365,0.6542099714279175,0.17020000517368317,-0.5562800168991089,0.5836399793624878,0.7405800223350525,-0.6027899980545044,0.7321000099182129,0.6281700134277344,-0.7861599922180176,-0.6702200174331665,0.048020001500844955,0.2933399975299835,1.0536999702453613,-0.809149980545044,-0.01559200044721365,1.0805000066757202,3.1679001403972507E-4,0.8119400143623352,0.17238999903202057,0.8101699948310852,0.45662999153137207,-0.21476000547409058,0.10169000178575516,-0.08166799694299698,-0.08859500288963318,0.19612999260425568,-0.7990999817848206,-0.08002199977636337,0.5327200293540955,-0.04689300060272217,-0.1839900016784668,-0.22666999697685242,-0.0611330009996891,-0.20699000358581543,-0.22235000133514404,-0.7127100229263306,-0.776889979839325,-0.5138300061225891,0.857450008392334,0.33671998977661133,-0.44606998562812805,-0.7825599908828735,-0.3882499933242798,0.5061900019645691,0.02123500034213066,-0.02442000061273575,0.10684999823570251,0.2808699905872345,0.1378600001335144,-0.2899700105190277,-0.9746999740600586,-0.5621899962425232,0.42917999625205994,0.462909996509552,0.24931000173091888,0.062394000589847565,-0.9933199882507324,0.9170200228691101,0.22101999819278717,0.02342200092971325,-1.0302000045776367,0.3037700057029724,0.04016900062561035,0.2604900002479553,-0.27042001485824585,0.16413000226020813,0.10322999954223633,-0.06384299695491791,-0.5070599913597107,0.061872001737356186,1.2824000120162964,-0.7380800247192383,0.15525999665260315,-0.048280999064445496,-0.02982800081372261,0.05261300131678581,0.03118699975311756,0.003390700090676546,-0.49851998686790466,0.6964600086212158,0.08835600316524506,-0.19787999987602234,-1.0099999904632568,-0.1347000002861023,0.37323999404907227,-0.6346799731254578,0.46112000942230225]]       |\n",
            "|[[-0.3082900047302246,0.49720001220703125,-0.06670200079679489,0.49737998843193054,-0.7315599918365479,0.6684100031852722,0.06419999897480011,-0.16684000194072723,0.17425000667572021,-0.531790018081665,-0.739799976348877,-0.35760000348091125,0.49720999598503113,0.11534000188112259,0.27004000544548035,-0.018964000046253204,0.2641499936580658,-0.4295499920845032,-0.6882200241088867,0.2739500105381012,0.13660000264644623,-0.7220699787139893,-0.562720000743866,-0.18332000076770782,-0.6104199886322021,0.7038999795913696,0.09998799860477448,-0.786270022392273,0.3672100007534027,-0.20663000643253326,0.27173998951911926,0.8501600027084351,-0.07383300364017487,0.32276999950408936,0.44944000244140625,0.6330999732017517,-0.3485400080680847,0.16644999384880066,-0.16795000433921814,-0.10350000113248825,-0.06260299682617188,0.0520160011947155,-0.5555899739265442,-1.0877000093460083,-0.02338000014424324,0.6824300289154053,-0.1370999962091446,0.06307200342416763,-0.8888800144195557,-0.3114599883556366,0.20940999686717987,-0.10135000199079514,0.16355000436306,0.2429099977016449,-0.09500300139188766,-0.9612299799919128,0.11704999953508377,-0.3308199942111969,0.883840024471283,0.04622500017285347,0.166020005941391,1.0992000102996826,0.02229500003159046,-0.2680000066757202,0.18342000246047974,0.2116899937391281,0.7168999910354614,-0.0037104999646544456,0.04105899855494499,-0.7986400127410889,-0.3979499936103821,-0.4536899924278259,-0.1375100016593933,0.8011699914932251,0.6669899821281433,0.04531000182032585,-0.5751399993896484,0.1696700006723404,-0.1350799947977066,0.09971299767494202,0.8520200252532959,-0.24387000501155853,-0.48719000816345215,0.8143399953842163,-1.773900032043457,0.2567000091075897,0.12132000178098679,0.5971300005912781,-1.1627999544143677,0.17389999330043793,-0.08289500325918198,-0.12229999899864197,0.47067001461982727,-0.5276399850845337,-0.3661400079727173,0.1584399938583374,0.2302899956703186,-0.4017699956893921,0.5265300273895264,-0.3980799913406372], [0.12672999501228333,0.15320999920368195,0.36913999915122986,-0.3838900029659271,-0.15854999423027039,0.32945001125335693,0.08312100172042847,0.016645999625325203,0.1702200025320053,-0.07925699651241302,-0.46226999163627625,0.4852299988269806,-0.03711400181055069,0.4233100116252899,0.1674399971961975,0.7825199961662292,-0.33278998732566833,-0.12415999919176102,-0.03047199919819832,-0.14312000572681427,0.8838499784469604,-0.45552000403404236,-0.2693699896335602,-0.4090999960899353,0.5619000196456909,0.584559977054596,0.1867700070142746,0.0942469984292984,-0.07315400242805481,-0.5235499739646912,-0.19119000434875488,0.020858999341726303,-0.448529988527298,-0.7286999821662903,-0.6304600238800049,-0.26725998520851135,-0.09996700286865234,-0.3365199863910675,0.5812299847602844,-0.6538500189781189,0.17369000613689423,-0.2410999983549118,-0.28415998816490173,-0.6551100015640259,-0.7602400183677673,0.18336999416351318,0.20648999512195587,-0.005694999825209379,0.3253900110721588,0.10081999748945236,0.023737000301480293,0.19452999532222748,0.5007299780845642,0.7962300181388855,0.04620800167322159,-1.8468999862670898,-0.3179999887943268,0.07879500091075897,0.5038300156593323,0.09594699740409851,0.028526000678539276,0.6756899952888489,0.08948200196027756,-0.05347999930381775,0.5587000250816345,-0.7414600253105164,-0.4126499891281128,-0.05651300027966499,-0.6462000012397766,-0.20757000148296356,-0.3888300061225891,0.40191999077796936,-0.37981000542640686,0.3289499878883362,0.18842999637126923,0.25687000155448914,-0.20056000351905823,-0.27008000016212463,0.4186899960041046,-0.10414999723434448,-0.4509199857711792,-0.3784700036048889,0.250110000371933,-0.27458998560905457,-0.8310999870300293,-0.09101399779319763,-0.3921099901199341,0.14023999869823456,-0.06373099982738495,-0.6865100264549255,-0.05890600010752678,0.3979699909687042,-0.7916100025177002,-0.6406499743461609,0.20276999473571777,-0.368120014667511,-0.012581000104546547,-0.59934002161026,0.5319499969482422,0.5624099969863892], [-0.8391100168228149,0.395689994096756,0.8284000158309937,0.3096599876880646,-0.26282998919487,0.8125799894332886,0.05371199920773506,0.5727599859237671,-0.02634499967098236,0.24573999643325806,-0.12575000524520874,0.0652180016040802,-0.2415499985218048,0.16669000685214996,0.35659000277519226,0.13229000568389893,0.428600013256073,-0.7121599912643433,-0.1416199952363968,-0.07006700336933136,-0.03715100139379501,1.045300006866455,0.019168000668287277,-0.8540499806404114,-0.16323000192642212,0.027536999434232712,0.14172999560832977,-0.3991599977016449,-0.4549599885940552,-0.24010999500751495,0.46601998805999756,-0.02046000026166439,0.36504000425338745,-1.1406999826431274,0.3504199981689453,0.009016299620270729,-0.20730000734329224,0.4492399990558624,0.7735099792480469,-0.21447999775409698,0.03585200011730194,-0.6272600293159485,-0.2566699981689453,-0.22981999814510345,-0.008370500057935715,-0.2036599963903427,0.43790000677108765,0.541920006275177,0.5715100169181824,-0.21778999269008636,0.506820023059845,0.274260014295578,0.7665799856185913,0.481440007686615,-0.8929499983787537,-1.219099998474121,0.3133299946784973,0.01917400024831295,1.069599986076355,-0.735319972038269,0.127470001578331,0.5389400124549866,-0.3850100040435791,-0.43393000960350037,0.677590012550354,-0.39061999320983887,0.7455000281333923,0.0990620031952858,-0.1609400063753128,-0.47540000081062317,-0.3334699869155884,-0.06335499882698059,0.6028100252151489,-0.07380399852991104,0.5394600033760071,0.5387200117111206,0.4185299873352051,1.302899956703186,0.05869999900460243,0.2539899945259094,0.009844900108873844,0.291020005941391,-0.813510000705719,0.04062600061297417,-0.39559999108314514,-0.09305799752473831,-0.2902100086212158,-0.3365800082683563,0.6857699751853943,0.489329993724823,0.24279999732971191,-0.21240000426769257,-0.78329998254776,0.14281000196933746,-0.16152000427246094,-0.023914000019431114,-1.1748000383377075,-0.4214699864387512,0.14357000589370728,0.39465999603271484]]                                                           |\n",
            "|[[-0.07976099848747253,0.19550999999046326,0.3057900071144104,-0.21570999920368195,-0.4901700019836426,0.4634999930858612,-0.15171000361442566,-0.16001999378204346,0.1308099925518036,-0.6571800112724304,-0.11343000084161758,0.10231000185012817,0.11582999676465988,0.0020240999292582273,0.1810699999332428,-0.1826300024986267,-0.42386001348495483,0.05672600120306015,-0.3041900098323822,0.15828000009059906,-0.11819999665021896,0.18624000251293182,-0.5273100137710571,-0.5915399789810181,0.07154600322246552,0.1963299959897995,-0.049146998673677444,-0.33004000782966614,0.5048900246620178,0.5113800168037415,-0.5072600245475769,0.7925500273704529,0.17890000343322754,0.3500100076198578,-0.07201500236988068,0.8929299712181091,-0.27285999059677124,-0.5776100158691406,0.18614999949932098,-0.09848900139331818,-0.6139799952507019,0.061103999614715576,-0.3384700119495392,-0.29190000891685486,-0.7179399728775024,-0.3732900023460388,-0.3219299912452698,-0.3818399906158447,0.04900899901986122,-1.285599946975708,0.031266000121831894,0.12952999770641327,0.1139099970459938,0.6945800185203552,0.3383899927139282,-2.196500062942505,0.08463200181722641,0.07694700360298157,0.9750800132751465,0.32743000984191895,0.2866399884223938,0.7977799773216248,-0.4972899854183197,-1.1200000047683716,0.9157999753952026,0.08906400203704834,1.1377999782562256,0.3318699896335602,-0.18244999647140503,0.17541000247001648,0.0989610031247139,-0.39566001296043396,-0.41589999198913574,-0.7477700114250183,-0.4691300094127655,0.3867399990558624,0.27160999178886414,-0.015302999876439571,-0.5265300273895264,-0.20983999967575073,0.12046000361442566,-0.4066700041294098,0.2975600063800812,-0.13695000112056732,-1.384600043296814,-0.14903999865055084,-0.48938000202178955,0.7516999840736389,-0.2214300036430359,-0.5208100080490112,0.2647700011730194,0.27790001034736633,-0.41846999526023865,-0.21104000508785248,-0.7471399903297424,-0.06560900062322617,-0.263700008392334,0.20016999542713165,0.8742899894714355,0.692080020904541], [0.3264000117778778,0.5582200288772583,0.25532999634742737,-0.1081399992108345,0.046539999544620514,-0.46577000617980957,-0.1396300047636032,0.15362000465393066,-0.23483000695705414,-0.4280399978160858,0.03792399913072586,0.22894999384880066,0.18671999871730804,0.23734000325202942,0.34995999932289124,0.03728799894452095,-0.4682700037956238,0.15487000346183777,-0.1648699939250946,0.11753000319004059,0.3080900013446808,-0.2544099986553192,0.3097899854183197,0.8051000237464905,-0.09218999743461609,-0.06263499706983566,-0.3857499957084656,-0.549780011177063,0.3018999993801117,-0.5425800085067749,0.19739000499248505,-0.28999999165534973,0.09270299971103668,-0.48054999113082886,-0.48190999031066895,0.7277899980545044,0.2287600040435791,-0.456030011177063,0.03778599947690964,-0.3257099986076355,-0.4262300133705139,-0.058945998549461365,-0.5219600200653076,0.18801000714302063,0.1414099931716919,-0.20072999596595764,0.27083998918533325,-0.026133999228477478,0.13288000226020813,-1.4764000177383423,-0.05697200074791908,-0.3266200125217438,0.30493998527526855,0.7633100152015686,0.16787999868392944,-2.3559999465942383,-0.37615999579429626,-0.011489000171422958,1.982699990272522,0.36153000593185425,-0.22095000743865967,1.0824999809265137,-0.6767600178718567,0.09636899828910828,0.4856399893760681,0.20255999267101288,0.16666999459266663,-0.3591800034046173,0.13847999274730682,0.09653600305318832,0.13312000036239624,-0.06929799914360046,-0.6909499764442444,0.3556399941444397,-0.5085099935531616,-0.34940001368522644,-0.3356199860572815,0.4536300003528595,-0.2894900143146515,0.03219100087881088,0.1724800020456314,0.14749999344348907,-0.7021700143814087,-0.20280000567436218,-0.7475900053977966,-0.9659299850463867,-0.08390899747610092,-0.2869899868965149,0.11723999679088593,0.06683199852705002,0.21283000707626343,0.264710009098053,-0.04723700135946274,0.4935300052165985,-0.8061100244522095,-0.20785999298095703,0.5278300046920776,0.21441000699996948,0.3919700086116791,-0.2947700023651123], [-0.5597900152206421,0.3562699854373932,0.9701600074768066,0.124719999730587,-0.6054700016975403,-0.6523000001907349,-0.18082000315189362,0.4953700006008148,0.5843700170516968,0.6996200084686279,0.4934200048446655,0.6152799725532532,-0.2833400070667267,0.3914699852466583,-0.5779799818992615,0.3274199962615967,0.1973399966955185,-0.1918099969625473,-0.34509000182151794,-0.08503500372171402,-0.2847500145435333,-0.4818800091743469,0.2877100110054016,-0.13161000609397888,-0.07178200036287308,-0.44523000717163086,-0.7836400270462036,-0.3659299910068512,0.27504000067710876,-0.24309000372886658,0.41997000575065613,0.5748199820518494,-0.26295000314712524,-0.21527999639511108,-0.3698599934577942,0.05044500157237053,-0.7219799757003784,-0.8686000108718872,0.58024001121521,-0.08581999689340591,0.15014000236988068,0.06301099807024002,-0.2606799900531769,-0.8503199815750122,-0.9795100092887878,0.7009099721908569,-0.694350004196167,-0.34762001037597656,-0.5963199734687805,-0.9793599843978882,0.49077001214027405,0.10392999649047852,-0.2127700001001358,0.42587000131607056,-0.09485799819231033,-1.561900019645691,0.26201000809669495,0.4931600093841553,1.0424000024795532,0.46860000491142273,-0.6460099816322327,0.12304999679327011,-0.7005199790000916,0.1441500037908554,0.7201799750328064,0.3429799973964691,-0.12148000299930573,-0.2964000105857849,-0.21424999833106995,-0.8551499843597412,-0.21003000438213348,0.13752999901771545,-0.5971500277519226,-0.04849199950695038,0.6676999926567078,-0.20271000266075134,0.20217999815940857,0.19683000445365906,-0.17475000023841858,0.2809700071811676,0.23135000467300415,-0.8636900186538696,-0.19676999747753143,-0.32293999195098877,-0.9027900099754333,0.5550400018692017,-0.27623000741004944,0.38822001218795776,-1.5152000188827515,-0.08877500146627426,-0.051277000457048416,0.4837000072002411,0.03760699927806854,-0.7201099991798401,-0.025467999279499054,-0.43768998980522156,0.7057499885559082,-0.14151999354362488,0.3688499927520752,0.064969003200531]]                              |\n",
            "|[[-0.6666499972343445,0.43268999457359314,1.3134000301361084,-0.8240100145339966,-0.49118998646736145,-0.2553899884223938,0.17217999696731567,0.0964910015463829,0.7347099781036377,-0.47310999035835266,0.8429700136184692,-0.17813999950885773,0.06898999959230423,0.35398000478744507,0.799019992351532,-0.5067999958992004,-0.7342299818992615,0.43160000443458557,-0.19999000430107117,0.2844499945640564,0.617169976234436,1.101699948310852,-0.6626799702644348,0.046643998473882675,-0.2500399947166443,1.007099986076355,-0.6922699809074402,-0.5621799826622009,0.8581600189208984,-0.024464000016450882,-0.00629410007968545,0.5623999834060669,0.4464600086212158,0.391400009393692,-0.44148001074790955,-0.16391000151634216,0.28714999556541443,0.8750699758529663,0.10045000165700912,-0.8548099994659424,0.4809199869632721,0.4139699935913086,-0.5397999882698059,-1.0613000392913818,0.05325600132346153,-0.1886499971151352,-0.3143100142478943,-0.22777999937534332,0.2922999858856201,-0.1812400072813034,-0.7486799955368042,-0.0338280014693737,0.7600700259208679,0.25099998712539673,-1.7381000518798828,-0.9602299928665161,0.6681299805641174,0.8432499766349792,0.5386300086975098,-0.34751999378204346,0.00607470003888011,0.5768100023269653,-0.41686999797821045,-0.946940004825592,0.23190000653266907,0.6161400079727173,1.1121000051498413,0.9101200103759766,-1.1561000347137451,0.1125900000333786,0.16526000201702118,0.38187000155448914,-0.25310999155044556,-0.7699999809265137,0.24661999940872192,0.8677099943161011,0.4851900041103363,-0.5082399845123291,0.002380700083449483,-0.33348000049591064,0.7115399837493896,-0.022393999621272087,0.42364999651908875,-1.0358999967575073,-1.4851000308990479,-0.010789000429213047,-0.6804199814796448,-0.6385700106620789,0.06721699982881546,0.8572400212287903,-0.10915999859571457,-0.16433000564575195,-0.08636400103569031,0.8137999773025513,-0.3271700143814087,-0.2741599977016449,0.07620500028133392,-1.395799994468689,-0.24369999766349792,-0.13473999500274658], [-0.19641000032424927,0.3096599876880646,0.2473600059747696,0.07544200122356415,0.26469001173973083,0.3823699951171875,-0.6784700155258179,-0.2536799907684326,-0.26524999737739563,-0.12421999871730804,0.5247200131416321,0.2769399881362915,-0.46160000562667847,-0.5992699861526489,-0.24053999781608582,-0.27698999643325806,0.3470500111579895,0.012476000003516674,-0.6802099943161011,1.0501999855041504,0.38304001092910767,-0.05420000106096268,-0.09109599888324738,0.25108999013900757,0.4209100008010864,0.15591000020503998,-1.2056000232696533,-0.22109000384807587,0.044241998344659805,-0.3294599950313568,-0.08646800369024277,0.6808099746704102,-0.03819600120186806,-0.09766899794340134,-0.3186199963092804,-0.05093799903988838,-0.6881999969482422,0.0789330005645752,0.3159500062465668,-0.003429299918934703,-0.055132001638412476,0.1117200031876564,-0.43467000126838684,-0.09831800311803818,-0.1193000003695488,0.5221400260925293,-0.14316000044345856,-0.09243199974298477,-0.6426500082015991,-0.36458998918533325,-0.294730007648468,0.18513000011444092,-0.7769200205802917,0.9141200184822083,-0.32207000255584717,-2.1554999351501465,-0.3025999963283539,-0.10886000096797943,1.4426000118255615,0.5663700103759766,-0.0893239974975586,0.3311299979686737,-0.4281400144100189,0.17645999789237976,0.23991000652313232,0.11514999717473984,-0.03166700154542923,-0.05661400035023689,0.00180460000410676,-0.9816300272941589,0.6110399961471558,0.09905900061130524,-0.2849400043487549,-0.35179999470710754,0.8306199908256531,0.44082000851631165,-0.6323999762535095,-0.2804200053215027,-0.579800009727478,0.801110029220581,0.1531900018453598,0.4424000084400177,-0.3513300120830536,-0.06196900084614754,-1.295199990272522,0.3623400032520294,0.4445599913597107,0.2483299970626831,-0.03308499976992607,0.18443000316619873,0.2709200084209442,-0.47029998898506165,0.9108200073242188,-0.35806000232696533,-1.0095000267028809,-0.5229700207710266,0.6928600072860718,0.47238001227378845,0.06907899677753448,-0.7935699820518494], [0.0690080001950264,-0.2721700072288513,0.9742299914360046,0.20066000521183014,-0.9057000279426575,-0.0242490004748106,0.18875999748706818,-0.016589999198913574,1.016700029373169,0.1440100073814392,0.3115699887275696,0.4262000024318695,-0.1527400016784668,-0.027316000312566757,-0.16155999898910522,0.3887700140476227,-0.2782999873161316,0.4345700144767761,-0.48054999113082886,0.40518999099731445,0.22084000706672668,0.21881000697612762,-0.5272799730300903,-0.25620999932289124,-0.13662999868392944,0.1387999951839447,-0.5411499738693237,0.3340199887752533,0.5112900137901306,-0.5203099846839905,-4.726200131699443E-4,0.6057800054550171,0.4361400008201599,-0.2980700135231018,-0.2434699982404709,-0.2759599983692169,-0.8746299743652344,0.23608000576496124,0.4303100109100342,-0.2690899968147278,-0.3290500044822693,0.74822998046875,0.3489600121974945,-0.0074073998257517815,-0.38975998759269714,-0.014991999603807926,0.9474899768829346,-0.20803000032901764,-1.0968999862670898,-0.7570499777793884,0.7492300271987915,0.02239600010216236,-0.230430006980896,0.780210018157959,-0.24799999594688416,-1.6057000160217285,0.0010711000068113208,0.2894099950790405,1.0255999565124512,0.14339999854564667,-0.38345998525619507,0.11175999790430069,-0.4977000057697296,0.18014000356197357,0.5347099900245667,-0.554390013217926,0.3637399971485138,0.11524999886751175,-0.7704200148582458,-0.19926999509334564,-0.4640499949455261,-0.0013444999931380153,-0.007757499814033508,-0.1423799991607666,0.042403001338243484,0.4514400064945221,-0.08027199655771255,0.5001500248908997,-0.23740999400615692,0.8590199947357178,0.39070001244544983,-0.09991999715566635,-0.2697199881076813,-0.2743600010871887,-1.2838000059127808,-0.5913000106811523,-0.1725499927997589,-0.07907000184059143,-0.6171299815177917,-0.6731200218200684,-0.6788700222969055,-0.14993000030517578,-0.05246200039982796,0.14642000198364258,-0.39559999108314514,0.20227999985218048,0.38273999094963074,-0.31665000319480896,-0.29629001021385193,-0.033410001546144485]]                             |\n",
            "|[[0.4974699914455414,0.7133899927139282,0.5155400037765503,-0.5508700013160706,-0.4851900041103363,0.12701000273227692,0.2885800004005432,0.2554999887943268,0.3018699884414673,-0.3696399927139282,-0.022763999179005623,0.8048499822616577,0.1737000048160553,1.0707999467849731,0.6940699815750122,-0.1284399926662445,0.20925000309944153,0.36890000104904175,0.08968999981880188,0.4350399971008301,-0.33456000685691833,0.08281199634075165,-0.03586899861693382,0.2822299897670746,0.18100999295711517,1.295199990272522,-0.9170500040054321,-1.1081000566482544,-0.43735000491142273,1.1792000532150269,0.48666998744010925,0.1319500058889389,0.700439989566803,0.352400004863739,-0.0406159982085228,-0.30232998728752136,0.06123200058937073,0.3421500027179718,0.5595300197601318,-0.809939980506897,0.3523299992084503,0.015907999128103256,-0.1771399974822998,-0.8773699998855591,-0.4381200075149536,0.31898000836372375,-0.7132099866867065,0.25154000520706177,-0.30605998635292053,-0.27976998686790466,-0.4700999855995178,-0.2771899998188019,0.049268998205661774,0.94132000207901,-0.28738000988960266,-2.0085999965667725,-0.7559099793434143,0.472680002450943,0.8386899828910828,0.08068600296974182,0.7634599804878235,1.0686999559402466,0.028308000415563583,-0.05218999832868576,0.8935700058937073,0.6368499994277954,-0.05043699964880943,-0.1982100009918213,-0.3754599988460541,-0.30816999077796936,-0.014971000142395496,0.18231000006198883,-0.5315499901771545,0.2825999855995178,0.05334699898958206,1.1617000102996826,-0.2824999988079071,-0.33430999517440796,-0.1491200029850006,-0.610480010509491,0.6883999705314636,-0.3324899971485138,0.8054400086402893,0.5855600237846375,-1.530900001525879,-0.9505599737167358,0.2220900058746338,-0.5536199808120728,-0.5314199924468994,-0.053268998861312866,0.5667799711227417,0.2802000045776367,0.5666700005531311,-0.43891000747680664,-0.781029999256134,-0.29886001348495483,-0.37891000509262085,-0.03268599882721901,0.16891999542713165,-0.28492000699043274], [-0.6666499972343445,0.43268999457359314,1.3134000301361084,-0.8240100145339966,-0.49118998646736145,-0.2553899884223938,0.17217999696731567,0.0964910015463829,0.7347099781036377,-0.47310999035835266,0.8429700136184692,-0.17813999950885773,0.06898999959230423,0.35398000478744507,0.799019992351532,-0.5067999958992004,-0.7342299818992615,0.43160000443458557,-0.19999000430107117,0.2844499945640564,0.617169976234436,1.101699948310852,-0.6626799702644348,0.046643998473882675,-0.2500399947166443,1.007099986076355,-0.6922699809074402,-0.5621799826622009,0.8581600189208984,-0.024464000016450882,-0.00629410007968545,0.5623999834060669,0.4464600086212158,0.391400009393692,-0.44148001074790955,-0.16391000151634216,0.28714999556541443,0.8750699758529663,0.10045000165700912,-0.8548099994659424,0.4809199869632721,0.4139699935913086,-0.5397999882698059,-1.0613000392913818,0.05325600132346153,-0.1886499971151352,-0.3143100142478943,-0.22777999937534332,0.2922999858856201,-0.1812400072813034,-0.7486799955368042,-0.0338280014693737,0.7600700259208679,0.25099998712539673,-1.7381000518798828,-0.9602299928665161,0.6681299805641174,0.8432499766349792,0.5386300086975098,-0.34751999378204346,0.00607470003888011,0.5768100023269653,-0.41686999797821045,-0.946940004825592,0.23190000653266907,0.6161400079727173,1.1121000051498413,0.9101200103759766,-1.1561000347137451,0.1125900000333786,0.16526000201702118,0.38187000155448914,-0.25310999155044556,-0.7699999809265137,0.24661999940872192,0.8677099943161011,0.4851900041103363,-0.5082399845123291,0.002380700083449483,-0.33348000049591064,0.7115399837493896,-0.022393999621272087,0.42364999651908875,-1.0358999967575073,-1.4851000308990479,-0.010789000429213047,-0.6804199814796448,-0.6385700106620789,0.06721699982881546,0.8572400212287903,-0.10915999859571457,-0.16433000564575195,-0.08636400103569031,0.8137999773025513,-0.3271700143814087,-0.2741599977016449,0.07620500028133392,-1.395799994468689,-0.24369999766349792,-0.13473999500274658], [-0.24833999574184418,0.9081400036811829,0.3555299937725067,-0.1683100014925003,-0.5566499829292297,-0.14228999614715576,-0.6630100011825562,0.36803001165390015,0.16752000153064728,-0.2563000023365021,-0.08270499855279922,-0.1590300053358078,0.21318000555038452,0.07915399968624115,-0.09582500159740448,-0.7910000085830688,-0.015216000378131866,0.5783600211143494,-0.8771600127220154,0.07034800201654434,-0.3054800033569336,0.010262000374495983,-0.3597800135612488,-0.45298999547958374,-0.22604000568389893,0.028109999373555183,0.05406799912452698,-0.6216700077056885,0.2016099989414215,-0.05222100019454956,-0.17348000407218933,0.5178899765014648,-0.29576000571250916,0.1637600064277649,0.3340199887752533,0.36772000789642334,-0.0739390030503273,0.35295000672340393,0.18035000562667847,0.16957999765872955,-0.3180899918079376,-0.15313999354839325,0.18106000125408173,-0.7414500117301941,-0.3280799984931946,-0.11208999902009964,0.008637799881398678,-0.19705000519752502,-0.2374899983406067,-1.2252000570297241,0.06968700140714645,0.04296499863266945,-0.4687800109386444,1.0887999534606934,0.34909000992774963,-2.1558001041412354,0.4708099961280823,-0.4399999976158142,1.5799000263214111,0.24589000642299652,-0.040151000022888184,0.5671300292015076,-0.8273699879646301,-0.07058600336313248,1.2200000286102295,0.3375900089740753,0.1039699986577034,0.5146399736404419,0.052611999213695526,-0.7328199744224548,0.3462499976158142,-0.2689400017261505,-0.031332001090049744,-0.6113899946212769,0.43347999453544617,0.22755999863147736,-0.49437999725341797,0.2141299992799759,-0.6129999756813049,-0.13434000313282013,0.6880000233650208,-0.29148998856544495,-0.6589999794960022,0.028116999194025993,-1.7976000308990479,0.1696999967098236,0.44312000274658203,0.21605999767780304,-0.922510027885437,-0.38339999318122864,-0.061955999583005905,-0.03776500001549721,-0.057530999183654785,-0.7859899997711182,-0.5603200197219849,-0.21491999924182892,0.2371000051498413,-0.7029200196266174,0.691070020198822,0.6198199987411499]]                                                |\n",
            "|[[-0.21004000306129456,-0.39664000272750854,0.009013599716126919,-0.02521900087594986,-0.5801100134849548,0.39678001403808594,0.3897300064563751,1.113700032234192,-0.48502999544143677,-0.3287299871444702,0.17238999903202057,0.11755000054836273,0.385809987783432,-0.14112000167369843,0.4054499864578247,-0.6812099814414978,-0.38642001152038574,-0.7136499881744385,-0.3875199854373932,-0.38398000597953796,0.6973599791526794,-0.17573000490665436,-0.22088000178337097,0.012020999565720558,0.2715800106525421,0.24397000670433044,-0.04468299821019173,0.24435000121593475,0.04707600176334381,0.4489699900150299,-0.4157400131225586,-0.3502199947834015,-0.002840599976480007,0.38168999552726746,-0.267410010099411,0.37481001019477844,-0.13531999289989471,-0.3978100121021271,0.5907899737358093,0.07521700114011765,-0.7135199904441833,-0.6194599866867065,0.12055999785661697,0.31951001286506653,-0.14967000484466553,0.015389000065624714,-0.5435500144958496,-0.33625999093055725,0.6230700016021729,-1.3609000444412231,-0.0622589997947216,-0.20475000143051147,0.6815599799156189,0.7664899826049805,-0.32510000467300415,-2.3306000232696533,-0.7650600075721741,0.3949899971485138,2.018199920654297,0.7970499992370605,-0.5278199911117554,0.9406800270080566,-0.4497300088405609,-0.27854999899864197,-0.32534998655319214,-0.12876999378204346,0.20508000254631042,-0.08548100292682648,0.11664000153541565,0.11364000290632248,-0.7215099930763245,-0.5134400129318237,0.14902999997138977,-0.41863998770713806,-0.062199000269174576,0.9650099873542786,0.07344000041484833,0.12730999290943146,-0.6435400247573853,-0.1970600038766861,0.14744000136852264,0.049084000289440155,-0.2782999873161316,-0.13364000618457794,-0.6905900239944458,-0.6766700148582458,-0.2018599957227707,0.5901299715042114,-0.04030999913811684,0.3692399859428406,1.1999000310897827,0.18738999962806702,0.12449999898672104,0.7848700284957886,-1.2508000135421753,0.5845299959182739,0.22540999948978424,0.06454700231552124,0.4699999988079071,0.5999299883842468], [-0.16448000073432922,0.17580999433994293,0.03492800146341324,0.11489000171422958,1.1191999912261963,0.4403899908065796,-0.5973899960517883,0.6896100044250488,-0.35863998532295227,0.019362999126315117,-0.48201000690460205,0.007568900007754564,0.5980899930000305,-0.09177099913358688,0.2023800015449524,-0.20804999768733978,0.06701699644327164,0.00950200017541647,-0.9198899865150452,-0.42844000458717346,1.051900029182434,1.1464999914169312,0.9185000061988831,-0.19614000618457794,0.5432800054550171,-0.38420000672340393,0.2191700041294098,0.23021000623703003,0.013629999943077564,-0.03150400146842003,0.645359992980957,0.060499999672174454,0.7100399732589722,0.1687600016593933,0.2554999887943268,0.031683001667261124,0.13204999268054962,-0.15477000176906586,-0.032634999603033066,0.20882000029087067,-0.6016799807548523,-0.8313400149345398,-0.9298700094223022,0.040543001145124435,0.05215800181031227,0.4019800126552582,0.30121999979019165,0.3755199909210205,0.38453999161720276,-0.2655799984931946,0.22401000559329987,0.638700008392334,-0.08575300127267838,1.24399995803833,-0.021192999556660652,-2.3415000438690186,-0.10124000161886215,-0.2522999942302704,2.198499917984009,0.3446899950504303,0.04337900131940842,1.5170999765396118,0.4054200053215027,-0.298660010099411,0.12870000302791595,0.6365200281143188,-0.04365500062704086,-0.21299000084400177,0.7013900279998779,-0.06132400035858154,0.2867699861526489,-0.10357999801635742,-0.09666000306606293,-0.6132100224494934,0.3870700001716614,-0.14264999330043793,0.24122999608516693,0.16865000128746033,0.26146000623703003,0.1128000020980835,0.9690899848937988,0.47694000601768494,-0.5864099860191345,-0.17674000561237335,-0.9468399882316589,-0.09591799974441528,-0.39076000452041626,-0.4820599853992462,-0.0996830016374588,0.08411499857902527,-0.13734999299049377,0.051715999841690063,-0.6652299761772156,0.13267000019550323,-0.8005300164222717,0.2944200038909912,-0.08443199843168259,0.36904001235961914,0.7989799976348877,0.4611699879169464], [-0.3199000060558319,-0.02443300001323223,0.20789000391960144,0.16224999725818634,0.15196000039577484,0.17858000099658966,-0.1372399926185608,0.5436599850654602,0.02116999961435795,0.23395000398159027,-0.2309899926185608,-0.2455199956893921,0.1669899970293045,0.011150999926030636,-0.21811999380588531,-0.3093000054359436,0.6158599853515625,-0.1027199998497963,-0.11437000334262848,0.2089100033044815,0.322160005569458,0.10970000177621841,0.1284099966287613,-0.0949229970574379,-0.10593000054359436,-0.19763000309467316,0.08057300001382828,-0.061983998864889145,0.04245299845933914,-0.07448499649763107,-0.38931000232696533,0.3540399968624115,0.2806299924850464,-0.33087998628616333,-0.12691999971866608,0.14308999478816986,0.3615399897098541,0.4351400136947632,-0.03315500169992447,-0.12639999389648438,-0.22032999992370605,-0.09200599789619446,0.5218700170516968,0.027293000370264053,-0.03530000150203705,0.4810200035572052,0.7839000225067139,-0.25325000286102295,0.10254999995231628,-0.21910999715328217,-0.28266000747680664,0.5478299856185913,0.3843100070953369,0.7248799800872803,-0.6480100154876709,-2.9679999351501465,-0.08692499995231628,-0.7888200283050537,1.9083000421524048,0.44894999265670776,0.19247999787330627,0.9430599808692932,0.06889700144529343,0.14306999742984772,1.2094000577926636,-0.33741000294685364,0.1374099999666214,0.3981800079345703,0.19399000704288483,0.05312599986791611,0.3616900146007538,-0.45353999733924866,-0.21171000599861145,-0.012892000377178192,-0.0499580018222332,-0.09973300248384476,-0.09836100041866302,0.4521400034427643,-0.9088500142097473,0.07649999856948853,0.34953999519348145,0.2838200032711029,-0.12574000656604767,0.3278599977493286,-1.4119999408721924,0.11607000231742859,-0.40667998790740967,-0.30004000663757324,0.3698599934577942,-0.15684999525547028,-0.3378799855709076,-0.44266998767852783,-0.28022998571395874,0.31825000047683716,-0.2985199987888336,0.07511399686336517,-0.07002600282430649,-0.36155998706817627,0.6655799746513367,0.29916998744010925]]                |\n",
            "|[[0.17274999618530273,0.0689380019903183,0.3726100027561188,0.10418999940156937,-0.6122699975967407,-0.21243999898433685,-0.7897599935531616,-0.12427999824285507,0.11473999917507172,0.06129299849271774,-0.3255000114440918,0.12307000160217285,0.5375300049781799,-0.2696399986743927,0.0888189971446991,-0.38350000977516174,-0.2885900139808655,0.0965299978852272,0.16648000478744507,0.2384600043296814,-0.5288100242614746,-0.037133000791072845,0.0800739973783493,-0.6095200181007385,-0.027293000370264053,0.07159300148487091,0.2618600130081177,-0.4615499973297119,-0.16854000091552734,-0.02734299935400486,0.31516000628471375,-0.03608899936079979,-0.7126399874687195,0.026808999478816986,-0.26736000180244446,0.1940000057220459,0.5095999836921692,0.5880100131034851,-0.10287000238895416,0.6972100138664246,-0.09842099994421005,-0.07194899767637253,0.3362100124359131,0.09830500185489655,0.6308299899101257,-0.3987399935722351,0.6729000210762024,-0.20205999910831451,0.06454800069332123,-0.9747999906539917,0.38819000124931335,0.01637900061905384,-0.5269399881362915,0.9945200085639954,0.8059599995613098,-1.9239000082015991,0.4869000017642975,-0.634630024433136,1.3794000148773193,-0.2302599996328354,-0.5855500102043152,-0.11552000045776367,-0.3844299912452698,0.2708500027656555,1.0932999849319458,-0.0419749990105629,0.2906099855899811,-0.700219988822937,0.4657500088214874,-0.3734700083732605,-0.26368001103401184,0.2707499861717224,0.06996999680995941,-0.16489000618457794,0.7089200019836426,0.7374899983406067,-0.2976900041103363,0.3379000127315521,-0.8229100108146667,0.41005000472068787,0.5278199911117554,0.09402699768543243,-0.4696899950504303,0.023545000702142715,-1.9213999509811401,-0.07473400235176086,-0.11823000013828278,0.42114999890327454,-0.8323799967765808,-0.007600199896842241,0.07532300055027008,-0.39254000782966614,-0.3175800144672394,0.6298699975013733,-0.08438599854707718,0.09479600191116333,-0.563319981098175,-0.8187000155448914,0.6917799711227417,0.6169999837875366], [-0.11787000298500061,0.28946998715400696,1.0930999517440796,-0.06098499894142151,-0.25863999128341675,0.18408000469207764,-0.0946979969739914,-0.11909999698400497,0.5594499707221985,-0.11661999672651291,0.028449999168515205,0.19880999624729156,0.3196600079536438,0.003474100027233362,-0.5564299821853638,-0.5074099898338318,-0.3778199851512909,0.6108099818229675,0.010711999610066414,-0.18068000674247742,-0.22472000122070312,-0.3690299987792969,-0.2881599962711334,-0.7818899750709534,-0.1711300015449524,0.2382899969816208,0.15682999789714813,-0.2314399927854538,0.00487119983881712,0.2842999994754791,-0.20848999917507172,0.24155999720096588,0.04038599878549576,-0.4900200068950653,-0.27731001377105713,0.2775599956512451,0.02930700033903122,0.31696000695228577,-0.2188500016927719,-0.14337000250816345,-0.582040011882782,-0.427700012922287,-0.06989900022745132,-0.6012399792671204,-1.1327999830245972,-0.3584100008010864,0.29124999046325684,0.24706000089645386,-0.16335000097751617,-1.1615999937057495,1.2381999492645264,-0.5787699818611145,0.2614299952983856,0.9428899884223938,-0.3174099922180176,-1.541100025177002,0.057718999683856964,-0.07424300163984299,1.7107000350952148,0.45372000336647034,-0.2844499945640564,0.9400299787521362,-0.6379299759864807,-0.2667999863624573,1.6191999912261963,0.12409000098705292,0.5656300187110901,0.49724000692367554,-0.3932099938392639,0.07341500371694565,-0.05277099832892418,-0.6112300157546997,0.5736700296401978,-0.059487998485565186,0.4367699921131134,0.28196001052856445,-0.43338000774383545,-0.6310399770736694,-0.6984900236129761,0.39180999994277954,0.3140299916267395,0.3003099858760834,-0.1189500018954277,-0.11225999891757965,-1.247499942779541,0.18232999742031097,-0.1824900060892105,-0.09973199665546417,-0.011242999695241451,-0.5956500172615051,-0.13042999804019928,-0.3180699944496155,-0.6218400001525879,0.44585999846458435,0.17166000604629517,0.45245999097824097,-0.5744400024414062,-0.35453000664711,0.06802699714899063,0.1778700053691864], [-0.47422000765800476,0.19724999368190765,-0.19054999947547913,-0.10650999844074249,-0.4410000145435333,-0.03929400071501732,-0.76555997133255,0.03759999945759773,0.5089300274848938,0.043533001095056534,0.24508999288082123,-0.14900000393390656,0.6032400131225586,0.2323399931192398,-0.16091999411582947,-0.5174999833106995,-0.04379099979996681,0.5885900259017944,-0.15779000520706177,-0.41350001096725464,-0.09719300270080566,-0.28593000769615173,0.10204000025987625,-0.8081799745559692,-0.11254999786615372,-0.33566001057624817,-0.32589998841285706,-0.09582299739122391,0.21637000143527985,0.06840900331735611,-0.19144000113010406,0.5466300249099731,0.22970999777317047,0.09525500237941742,0.2671099901199341,0.09324900060892105,-0.04760099947452545,-0.17225000262260437,0.4380800127983093,0.05299599841237068,0.10350999981164932,-0.6920999884605408,-0.01786400005221367,-0.9194700121879578,-0.472460001707077,0.6168699860572815,0.03805899992585182,-0.7117000222206116,0.07560300081968307,-0.6178299784660339,0.25808000564575195,0.13379999995231628,0.16200999915599823,0.8526300191879272,0.372079998254776,-1.2243000268936157,0.5042099952697754,-0.12029000371694565,1.7032999992370605,0.1651100069284439,-0.20754000544548035,0.5183899998664856,-0.2729499936103821,-0.09798099845647812,0.34696000814437866,-0.34161999821662903,0.47404998540878296,0.5328900218009949,0.20428000390529633,0.30625998973846436,0.35060998797416687,-0.3019599914550781,0.120899997651577,0.14497999846935272,1.0500999689102173,-0.046025000512599945,-0.785830020904541,0.20823000371456146,0.13123999536037445,0.10773999989032745,1.186900019645691,-0.055844999849796295,-0.49904000759124756,0.3957499861717224,-1.2235000133514404,-0.13158999383449554,0.2585600018501282,0.11441999673843384,-0.5266100168228149,-0.14895999431610107,-0.023413000628352165,0.9059200286865234,-0.09411399811506271,-1.0710999965667725,0.5878499746322632,0.1141899973154068,-0.1440500020980835,0.017650999128818512,0.906220018863678,-0.14031000435352325]]                           |\n",
            "|[[-0.9500600099563599,1.187600016593933,-0.15589000284671783,-0.07402600347995758,0.5078999996185303,0.3160099983215332,-0.5489199757575989,0.06733199954032898,0.15187999606132507,-0.5512999892234802,0.23906999826431274,0.517579972743988,0.7465199828147888,0.25077998638153076,0.16725000739097595,0.6228299736976624,0.5783100128173828,0.5128499865531921,0.40373000502586365,0.28723999857902527,-0.8645700216293335,0.30834001302719116,0.5106099843978882,0.2346400022506714,0.7936400175094604,1.0949000120162964,-0.38242000341415405,-0.615339994430542,-0.3176800012588501,0.05761199817061424,-0.062233999371528625,0.23371000587940216,1.3645999431610107,0.0412679985165596,0.1613900065422058,0.5128200054168701,-0.5920900106430054,0.19984999299049377,0.8404800295829773,-0.2943499982357025,-0.6030200123786926,-0.4018999934196472,0.24934999644756317,0.11682000011205673,0.32012999057769775,0.4754199981689453,0.0658390000462532,0.8245300054550171,-0.44137001037597656,-0.25108999013900757,-0.6621900200843811,-0.8675400018692017,0.1761000007390976,1.3143999576568604,-0.11247999966144562,-1.2103999853134155,-0.3488500118255615,0.6439099907875061,1.6557999849319458,0.28512999415397644,0.36002999544143677,1.2312999963760376,-0.15331000089645386,-0.03940900042653084,0.33274000883102417,-0.39041000604629517,-0.3668400049209595,-0.5181900262832642,0.5056399703025818,-0.7832300066947937,-0.9447900056838989,0.5976899862289429,0.01119999960064888,-1.125599980354309,0.1802300065755844,-0.3454500138759613,0.7130799889564514,-0.43039000034332275,-0.45026999711990356,0.8466200232505798,0.21961000561714172,-0.3108299970626831,-0.5964099764823914,-0.5015000104904175,-0.10130999982357025,-0.25200000405311584,0.2906000018119812,-0.49658000469207764,0.42987000942230225,1.1259000301361084,-0.19292999804019928,-0.921720027923584,0.05640299990773201,0.6286699771881104,-0.926580011844635,-0.8119800090789795,-0.29264000058174133,-1.1017999649047852,0.9213200211524963,-0.35488998889923096], [-0.19641000032424927,0.3096599876880646,0.2473600059747696,0.07544200122356415,0.26469001173973083,0.3823699951171875,-0.6784700155258179,-0.2536799907684326,-0.26524999737739563,-0.12421999871730804,0.5247200131416321,0.2769399881362915,-0.46160000562667847,-0.5992699861526489,-0.24053999781608582,-0.27698999643325806,0.3470500111579895,0.012476000003516674,-0.6802099943161011,1.0501999855041504,0.38304001092910767,-0.05420000106096268,-0.09109599888324738,0.25108999013900757,0.4209100008010864,0.15591000020503998,-1.2056000232696533,-0.22109000384807587,0.044241998344659805,-0.3294599950313568,-0.08646800369024277,0.6808099746704102,-0.03819600120186806,-0.09766899794340134,-0.3186199963092804,-0.05093799903988838,-0.6881999969482422,0.0789330005645752,0.3159500062465668,-0.003429299918934703,-0.055132001638412476,0.1117200031876564,-0.43467000126838684,-0.09831800311803818,-0.1193000003695488,0.5221400260925293,-0.14316000044345856,-0.09243199974298477,-0.6426500082015991,-0.36458998918533325,-0.294730007648468,0.18513000011444092,-0.7769200205802917,0.9141200184822083,-0.32207000255584717,-2.1554999351501465,-0.3025999963283539,-0.10886000096797943,1.4426000118255615,0.5663700103759766,-0.0893239974975586,0.3311299979686737,-0.4281400144100189,0.17645999789237976,0.23991000652313232,0.11514999717473984,-0.03166700154542923,-0.05661400035023689,0.00180460000410676,-0.9816300272941589,0.6110399961471558,0.09905900061130524,-0.2849400043487549,-0.35179999470710754,0.8306199908256531,0.44082000851631165,-0.6323999762535095,-0.2804200053215027,-0.579800009727478,0.801110029220581,0.1531900018453598,0.4424000084400177,-0.3513300120830536,-0.06196900084614754,-1.295199990272522,0.3623400032520294,0.4445599913597107,0.2483299970626831,-0.03308499976992607,0.18443000316619873,0.2709200084209442,-0.47029998898506165,0.9108200073242188,-0.35806000232696533,-1.0095000267028809,-0.5229700207710266,0.6928600072860718,0.47238001227378845,0.06907899677753448,-0.7935699820518494], [0.039740998297929764,0.03505200147628784,0.3298799991607666,-0.5878999829292297,-0.25053998827934265,-0.4071899950504303,-0.1390399932861328,0.4739300012588501,0.059905000030994415,0.08999600261449814,-0.21521000564098358,0.5653300285339355,0.3009899854660034,-0.28657999634742737,-0.055730000138282776,-0.7872400283813477,0.48655998706817627,0.5832099914550781,-0.8619899749755859,0.20924000442028046,0.4674000144004822,-0.36395999789237976,0.3052600026130676,0.04218500107526779,-0.05360199883580208,-0.27202001214027405,-0.28584998846054077,-0.541700005531311,0.296779990196228,-0.4086799919605255,0.09738100320100784,0.8100100159645081,-0.208639994263649,0.18478000164031982,0.1875700056552887,0.8557999730110168,0.44071000814437866,0.2521800100803375,-0.18148000538349152,-0.19156000018119812,-0.5834500193595886,-0.2258100062608719,0.001730400021187961,-0.5086100101470947,-0.23615999519824982,-0.016889000311493874,0.4246000051498413,-0.5056599974632263,-0.14710000157356262,-1.2338999509811401,0.01257800031453371,-0.1789799928665161,0.1286199986934662,1.2898000478744507,-0.14519000053405762,-2.5557000637054443,-0.06912799924612045,-0.4791699945926666,1.8358999490737915,1.034500002861023,-0.13604000210762024,0.582360029220581,-0.4887399971485138,0.11840999871492386,1.1858999729156494,0.10033000260591507,0.2632000148296356,1.0095000267028809,-0.3478499948978424,-0.9308000206947327,0.41517001390457153,-1.17739999294281,-0.33476999402046204,-0.5250599980354309,0.047775998711586,-0.23389999568462372,-0.22856999933719635,0.31005001068115234,-1.065500020980835,0.05115099996328354,0.721589982509613,-0.5255600214004517,-0.4588199853897095,-0.16729000210762024,-1.8868999481201172,-0.4899600148200989,0.8221099972724915,0.007791699841618538,0.07231400161981583,-0.4679499864578247,-0.1335899978876114,-0.3279699981212616,-0.27505001425743103,-0.31341999769210815,-0.6776300072669983,0.01597299985587597,0.2848699986934662,-0.2613700032234192,0.5543299913406372,0.2451000064611435]]                                                     |\n",
            "|[[-0.09249799698591232,0.14620999991893768,0.5735599994659424,-0.13600000739097595,-0.28696000576019287,0.6439700126647949,-0.15610000491142273,0.23169000446796417,-0.5316699743270874,-1.063599944114685,-0.39923998713493347,0.04762599989771843,-0.25303998589515686,0.35638999938964844,0.12619000673294067,0.06515499949455261,-0.23221999406814575,0.21644000709056854,0.1941000074148178,-0.670740008354187,-0.16141000390052795,0.23845000565052032,-1.1777000427246094,-0.46724000573158264,-0.2174600064754486,0.9988499879837036,-0.6035799980163574,0.24070000648498535,1.0089999437332153,-0.07623100280761719,-0.14883999526500702,-0.2064799964427948,-0.47464001178741455,0.1280200034379959,-0.4359999895095825,-0.001079399953596294,-0.06597699970006943,0.13011999428272247,0.7883300185203552,-0.46560001373291016,0.0013479000190272927,-0.08736199885606766,0.28411999344825745,-0.7911900281906128,-0.08566399663686752,0.4690999984741211,0.17614999413490295,0.0032883998937904835,-0.18081000447273254,-0.6822699904441833,0.049821000546216965,-0.03631500154733658,-0.1944900006055832,1.0441999435424805,0.09682200103998184,-1.2034000158309937,0.16527999937534332,0.424019992351532,0.37470000982284546,-0.1351899951696396,0.8469799757003784,0.9643999934196472,-0.17876000702381134,0.3684999942779541,-0.09314700216054916,0.7212100028991699,0.717490017414093,-0.8833900094032288,0.052448999136686325,-0.5554500222206116,-0.1654299944639206,-0.020167000591754913,0.6080300211906433,0.1485300064086914,-0.30621999502182007,0.5784199833869934,-0.8420799970626831,-1.017699956893921,-0.470550000667572,-0.4708699882030487,0.2186499983072281,-0.4584999978542328,-0.6851099729537964,0.5710399746894836,-1.1784000396728516,-0.1889200061559677,0.6081200242042542,0.19771000742912292,-0.4251900017261505,0.7799999713897705,0.2895599901676178,0.15469999611377716,0.1694599986076355,0.3450700044631958,0.16263000667095184,0.8044800162315369,0.41655001044273376,-0.11494000256061554,-0.23931999504566193,0.4749099910259247], [0.05879199877381325,0.46121999621391296,0.9536100029945374,-0.3580099940299988,-0.3736700117588043,0.7426199913024902,-0.5018799901008606,0.24525000154972076,0.29580000042915344,-0.7623299956321716,0.3649199903011322,0.043526001274585724,0.34975001215934753,-0.2916100025177002,-0.10034999996423721,-0.28575000166893005,-0.3464600145816803,0.7133899927139282,-0.4353100061416626,0.586139976978302,-0.23837999999523163,0.08297500014305115,-0.3228699862957001,-1.0361000299453735,0.1985200047492981,0.19776000082492828,-0.4733799993991852,-0.5117700099945068,0.4592199921607971,-0.41784998774528503,-0.02945300005376339,0.9478800296783447,0.42048001289367676,0.10860999673604965,0.30035001039505005,0.04543299973011017,-0.08482900261878967,0.0835919976234436,0.17925000190734863,-0.5212200284004211,-0.4518499970436096,-0.08464699983596802,0.3947499990463257,-0.3999300003051758,-0.44732001423835754,-0.03185899928212166,-0.2348400056362152,0.14524999260902405,-0.11945000290870667,-1.1138999462127686,0.35322999954223633,-0.12511999905109406,-0.16362999379634857,0.7956500053405762,-0.017578000202775,-2.020900011062622,0.12223000079393387,0.0850439965724945,1.2937999963760376,0.2423900067806244,0.24685999751091003,0.827709972858429,-0.23009000718593597,-0.35879001021385193,0.4205000102519989,0.3520599901676178,0.6011599898338318,0.2115900069475174,-0.1384499967098236,0.003067400073632598,0.1434600055217743,-0.39419999718666077,0.03526400029659271,-0.2319599986076355,0.6236000061035156,0.5064399838447571,0.1400499939918518,-0.5596799850463867,-0.13078999519348145,-0.0735590010881424,0.46244001388549805,0.19203999638557434,-0.8909199833869934,-0.020627999678254128,-1.4817999601364136,-0.3641299903392792,-0.8252000212669373,-0.16377000510692596,-0.5843499898910522,-0.33535000681877136,0.22846999764442444,-0.4672999978065491,0.32534998655319214,-0.363290011882782,-0.6381700038909912,-0.05412900075316429,0.0020747000817209482,0.18594999611377716,0.07430399954319,0.9073899984359741], [-0.6838700175285339,0.391759991645813,0.5367000102996826,-0.3779999911785126,0.4206799864768982,0.3151000142097473,-0.1295900046825409,-0.039726998656988144,-0.38993000984191895,0.48069000244140625,0.4258899986743927,-0.05736999958753586,-0.3245700001716614,0.56809002161026,0.3200100064277649,-0.3228200078010559,0.772379994392395,-0.6314100027084351,0.1641799956560135,0.9890999794006348,0.898639976978302,0.27612999081611633,-0.3848100006580353,-0.5613899827003479,0.11241000145673752,0.42056000232696533,-0.03382899984717369,-0.21714000403881073,0.9238399863243103,0.18437999486923218,0.07516399770975113,7.723799790255725E-4,0.15978999435901642,1.1102999448776245,0.2682400047779083,-0.4003399908542633,0.05357399955391884,-0.1482899934053421,0.532800018787384,-1.0414999723434448,-0.27300000190734863,0.11073999851942062,-0.7361800074577332,0.4719200134277344,0.039466001093387604,-0.15974999964237213,-0.3488999903202057,0.23240000009536743,0.3438499867916107,-0.5100700259208679,-0.4826599955558777,-0.14806999266147614,0.39921000599861145,0.04574599862098694,-0.17110000550746918,-2.871000051498413,-0.6973900198936462,0.15571999549865723,1.4905999898910522,1.1829999685287476,0.5302600264549255,1.0778000354766846,-0.08319099992513657,0.22488999366760254,1.030900001525879,-0.2281399965286255,0.9580600261688232,-0.31578001379966736,0.1196800023317337,-1.0490000247955322,-0.39770999550819397,0.4647899866104126,-0.4727500081062317,0.6578400135040283,-0.6076400279998779,-0.6716499924659729,0.8052300214767456,-0.042941998690366745,0.6175299882888794,-0.3265500068664551,0.22756999731063843,0.13328999280929565,0.4116300046443939,-0.062334999442100525,0.0055427998304367065,0.045062001794576645,-0.2121800035238266,-0.482340008020401,-0.01940399967133999,0.5027400255203247,-0.2556599974632263,-0.529420018196106,-1.0037000179290771,0.6870700120925903,-0.1712000072002411,-0.4662899971008301,-1.3875999450683594,-0.14145000278949738,1.3114999532699585,0.3147599995136261]]                                                  |\n",
            "|[[0.8866099715232849,0.6692299842834473,-0.5019800066947937,0.10232999920845032,-0.45416000485420227,-0.8119099736213684,-0.3868499994277954,0.3995499908924103,0.3535099923610687,-0.011727999895811081,0.8296099901199341,0.4706999957561493,-0.06269100308418274,-0.27612999081611633,0.31224000453948975,-0.36917999386787415,0.12108000367879868,-0.18025000393390656,0.5410199761390686,0.0028727001044899225,1.121999979019165,-0.38016998767852783,0.17257000505924225,-0.30976998805999756,0.5325599908828735,-0.8593599796295166,-0.10503000020980835,-0.07295899838209152,-0.006593099795281887,-0.15871000289916992,0.21283000707626343,0.2140900045633316,-0.3646399974822998,0.22856999933719635,-0.5205000042915344,0.7156599760055542,0.6337100267410278,-0.4040299952030182,0.16760000586509705,0.17215999960899353,-0.0808970034122467,-1.031599998474121,0.0716409981250763,-0.7630500197410583,-0.058100998401641846,0.8294699788093567,0.09684400260448456,0.9724599719047546,0.314520001411438,-1.208799958229065,-0.2608200013637543,-0.128370001912117,0.4040899872779846,1.2139999866485596,-0.34571999311447144,-0.8587300181388855,-0.6088500022888184,0.016147000715136528,1.361799955368042,0.5788499712944031,0.3255099952220917,0.2795099914073944,-0.9264299869537354,0.5072199702262878,0.30167001485824585,0.3059700131416321,0.6349400281906128,0.3626500070095062,0.627240002155304,-0.15668000280857086,-0.027326000854372978,0.47481000423431396,-0.29530999064445496,0.008088800124824047,-0.2053000032901764,-0.14928999543190002,-0.022919999435544014,0.1399500072002411,-0.33052998781204224,0.538349986076355,-0.16864000260829926,0.3121500015258789,0.004768500104546547,0.4834100008010864,-0.5656399726867676,-0.263590008020401,0.22432999312877655,0.580780029296875,0.1434600055217743,1.298200011253357,-0.0200360007584095,0.03228899836540222,0.8570899963378906,-0.044238001108169556,-0.16800999641418457,-0.22206999361515045,0.14192000031471252,-0.7318000197410583,0.42816001176834106,0.4445599913597107], [-0.26872000098228455,-0.15542000532150269,-0.23565000295639038,-0.035982001572847366,-0.3990600109100342,0.5228800177574158,0.61285001039505,0.42427998781204224,0.31334999203681946,0.43689000606536865,0.3413800001144409,-0.2427700012922287,0.6137300133705139,0.3812499940395355,0.11309999972581863,-0.3360700011253357,0.0010001000482589006,0.04761499911546707,-1.2309000492095947,-0.10719999670982361,0.8227300047874451,-0.7923200130462646,0.10402999818325043,-0.5103600025177002,0.24041999876499176,0.2225400060415268,-1.0297000408172607,0.2635200023651123,-0.2876499891281128,-0.024815000593662262,-0.21041999757289886,-0.06375300139188766,-0.3151499927043915,0.5192499756813049,-0.3690600097179413,-0.878279983997345,-0.10620000213384628,-0.7007799744606018,0.987559974193573,0.23398999869823456,-0.3499999940395355,0.08374200016260147,0.15263999998569489,-0.3039799928665161,1.26419997215271,0.14856000244617462,-0.6912299990653992,0.05077400058507919,0.045134998857975006,-0.7366600036621094,0.29232001304626465,0.10271000117063522,-0.31633999943733215,1.354200005531311,0.4070200026035309,-2.3606998920440674,0.3149000108242035,-0.0686120018362999,1.6655999422073364,0.6689500212669373,0.2979399859905243,0.8534299731254578,-0.12086000293493271,0.5973600149154663,0.5268999934196472,0.14765000343322754,0.532800018787384,-0.07709699869155884,-0.04656299948692322,-0.014926999807357788,-0.2169400006532669,-0.7062699794769287,0.600130021572113,-0.5482500195503235,0.265639990568161,-0.07779400050640106,0.6268200278282166,0.29065999388694763,-1.3776999711990356,0.092009998857975,1.027500033378601,-0.1505800038576126,-0.3902899920940399,0.060717999935150146,-0.1513800024986267,-0.020819999277591705,0.0704910010099411,0.15217000246047974,0.09079000353813171,0.22191999852657318,0.7046399712562561,-0.6600800156593323,-0.6285899877548218,0.9431999921798706,-0.7567399740219116,0.35978999733924866,-0.23791000247001648,0.49344000220298767,0.7211400270462036,-0.041749000549316406], [0.2360599935054779,0.4351600110530853,0.7117099761962891,-0.49147000908851624,0.14334000647068024,0.33702000975608826,-0.008428799919784069,-0.330049991607666,-0.1887499988079071,-0.5950899720191956,-0.20079000294208527,-0.2154500037431717,0.4876599907875061,0.30799001455307007,0.5880399942398071,-0.05579100176692009,0.687969982624054,0.8184999823570251,-0.27946001291275024,0.4443899989128113,0.5425400137901306,-0.7366600036621094,-1.2242000102996826,0.013047000393271446,0.7445600032806396,1.1265000104904175,-0.5707899928092957,-0.03082999959588051,0.29135000705718994,0.3832300007343292,-0.03328699991106987,0.17678000032901764,0.24052999913692474,0.22678999602794647,-0.3949599862098694,0.21708999574184418,-1.026900053024292,0.1611199975013733,0.7728099822998047,-0.4035699963569641,0.5087500214576721,0.24743999540805817,0.1802300065755844,-0.36309000849723816,-0.20326000452041626,-0.6929699778556824,-0.2065799981355667,0.18435999751091003,0.6329500079154968,0.5084499716758728,-0.199630007147789,0.239779993891716,0.15189999341964722,0.6190199851989746,-0.7473000288009644,-1.4473999738693237,0.47134000062942505,0.46841999888420105,0.19839000701904297,0.5896900296211243,-0.4055199921131134,0.422109991312027,-0.669730007648468,-0.2841300070285797,0.4676699936389923,0.23577000200748444,0.7231699824333191,-0.153779998421669,-0.21603000164031982,-0.04513600096106529,-0.12741999328136444,-0.22745999693870544,-0.7067400217056274,0.06952899694442749,0.23544999957084656,-0.11738000065088272,-0.10610999912023544,-0.009345199912786484,0.03742599859833717,0.5684000253677368,-0.20563000440597534,0.3446600139141083,-0.6883100271224976,-0.09320200234651566,-0.7299200296401978,-0.0546719990670681,-0.15960000455379486,0.36928001046180725,0.7782300114631653,0.7836599946022034,0.008672299794852734,-0.7133299708366394,0.11429999768733978,-0.02694699913263321,-0.20603999495506287,-0.9545000195503235,-0.7954699993133545,0.06993500143289566,0.5241000056266785,-0.49588000774383545]]                                                              |\n",
            "|[[-0.02961999922990799,0.02501000091433525,0.5562800168991089,-0.4010699987411499,0.31202998757362366,0.7289800047874451,-0.16203999519348145,0.030799999833106995,0.35242000222206116,-0.6022099852561951,-0.030427999794483185,0.8610699772834778,0.7062399983406067,-0.14869000017642975,-0.2883700132369995,-0.6762999892234802,0.8030999898910522,0.7310100197792053,-0.08086799830198288,0.3576599955558777,0.22464999556541443,0.36487001180648804,0.024096999317407608,-0.00721239997074008,0.4534299969673157,0.8581699728965759,-0.21828000247478485,-0.5925800204277039,1.003100037574768,0.006334300152957439,0.5164300203323364,0.2428400069475174,-0.1377899944782257,0.04668600112199783,-0.3069700002670288,-0.037772998213768005,-0.23124000430107117,-0.7301099896430969,-0.22248999774456024,-1.1748000383377075,0.3019999861717224,0.0852309986948967,0.1752299964427948,0.028651999309659004,-0.31338000297546387,-0.2346699982881546,0.40314000844955444,0.9238799810409546,-0.24223999679088593,-1.3849999904632568,0.015852000564336777,-0.49981001019477844,0.13853999972343445,1.1617000102996826,0.3523299992084503,-1.5062999725341797,0.2845500111579895,0.6772500276565552,0.4438599944114685,0.21196000277996063,-0.13162000477313995,1.1687999963760376,-0.7486600279808044,-0.8265100121498108,0.7591999769210815,0.4924899935722351,0.7870299816131592,0.4392800033092499,-0.06396599858999252,-0.5500100255012512,0.4577000141143799,-0.15289999544620514,0.05807200074195862,0.14943000674247742,0.10822000354528427,-0.2584399878978729,0.3964399993419647,0.05096700042486191,-0.3624500036239624,-0.09429100155830383,-0.5459499955177307,-0.05931700021028519,0.220660001039505,0.7271599769592285,-0.36983001232147217,0.7110000252723694,-0.5200499892234802,-0.3729499876499176,-0.37942999601364136,0.40011000633239746,-0.6768400073051453,0.16771000623703003,0.5351200103759766,-0.07684099674224854,-0.5937399864196777,-0.1316400021314621,0.1535400003194809,-0.004301299806684256,-0.23465999960899353,0.08447899669408798], [-0.4637500047683716,0.09041900187730789,9.157399763353169E-4,0.04910200089216232,-0.04699999839067459,-0.021911999210715294,-0.5760999917984009,0.3662300109863281,-0.5143799781799316,-0.4442000091075897,-0.26715001463890076,0.5163099765777588,0.509880006313324,0.4231700003147125,-0.3991999924182892,-0.2723900079727173,-0.06961199641227722,0.2682099938392639,-0.43349000811576843,-0.2530499994754791,0.42963001132011414,-0.3677099943161011,0.2706100046634674,-0.19347000122070312,-0.23364999890327454,-0.7252600193023682,-0.40088000893592834,-0.35881999135017395,0.7364299893379211,-0.10846000164747238,0.004645800217986107,0.22057999670505524,-0.2824999988079071,0.2429099977016449,0.0787540003657341,0.3432300090789795,0.30803999304771423,-0.10463999956846237,-0.3111099898815155,0.025134000927209854,-0.334960013628006,-0.5844100117683411,0.6116700172424316,-0.9320300221443176,-0.2648000121116638,-0.4950000047683716,-0.22440999746322632,0.00506900018081069,-0.3471199870109558,-0.8767799735069275,-0.35113999247550964,-0.25828999280929565,-0.004112299997359514,1.0703999996185303,0.191430002450943,-2.2720999717712402,0.1761000007390976,-0.28369998931884766,1.8042000532150269,0.3171499967575073,-0.3384400010108948,0.4385400116443634,-0.35464999079704285,-0.28621000051498413,0.3961699903011322,0.416949987411499,0.392659991979599,0.8951399922370911,-0.022002000361680984,-0.32892999053001404,0.3029699921607971,-0.3623799979686737,0.002620300045236945,-0.32791000604629517,-0.40779000520706177,0.10769999772310257,-0.8545799851417542,-0.26497000455856323,-0.7127000093460083,-0.17576999962329865,0.8956000208854675,-0.30371999740600586,-0.4161899983882904,0.1222900003194809,-0.6262000203132629,-0.20356999337673187,0.5225499868392944,0.5619500279426575,0.5522000193595886,0.006507500074803829,-0.07067400217056274,0.087008997797966,0.1277800053358078,-0.2946299910545349,-0.5682700276374817,-0.17293000221252441,0.3958800137042999,-0.3354800045490265,0.7650799751281738,0.2849999964237213], [-0.08279599994421005,0.6776900291442871,0.8345100283622742,0.021617000922560692,-0.3980399966239929,0.29058998823165894,0.16235999763011932,0.0016077000182121992,0.5079100131988525,-0.22282999753952026,0.20148000121116638,0.23017999529838562,-0.26089000701904297,0.18467000126838684,-0.10559999942779541,-0.30302000045776367,-0.5492500066757202,0.6073499917984009,-0.8195499777793884,-0.022074999287724495,-0.2214999943971634,-0.2671099901199341,-0.5131700038909912,-0.4535500109195709,-0.15207000076770782,-0.015842000022530556,0.030969999730587006,-0.012529999949038029,0.11764000356197357,-0.24169999361038208,-0.03607499971985817,0.4149399995803833,0.26162999868392944,0.05335500091314316,0.11660999804735184,0.5268300175666809,-0.45596998929977417,-0.19232000410556793,0.38846999406814575,-0.21021999418735504,-0.47380998730659485,0.293069988489151,-0.12488000094890594,-0.5957099795341492,-0.8365700244903564,-0.35069000720977783,0.05479700118303299,-0.5840399861335754,-0.3149400055408478,-0.6758000254631042,0.7114899754524231,0.06599999964237213,0.6270999908447266,0.5818300247192383,0.023610999807715416,-1.510200023651123,0.09929200261831284,-0.1967799961566925,1.320099949836731,0.00851139985024929,-0.3297399878501892,0.31848999857902527,-0.3708699941635132,-0.7073000073432922,1.3051999807357788,-0.4783099889755249,0.2653700113296509,0.3751400113105774,-0.6786999702453613,0.07113700360059738,-0.17927999794483185,0.43869999051094055,0.02191999927163124,-0.7359200119972229,0.2551400065422058,0.39770999550819397,-0.384770005941391,-0.3657200038433075,-0.7636100053787231,-0.476610004901886,0.6025599837303162,-0.23425999283790588,-0.5278800129890442,-0.6457499861717224,-1.541100025177002,-0.40035000443458557,0.24798999726772308,0.3413099944591522,-0.25352999567985535,-0.013063999824225903,-0.014871000312268734,0.41374000906944275,0.19739000499248505,-0.008914999663829803,-0.01459799986332655,0.221110001206398,-0.13197000324726105,-0.2646400034427643,0.23845000565052032,0.6979299783706665]]                   |\n",
            "|[[0.34995999932289124,-0.2538900077342987,-0.09533999860286713,-0.11877000331878662,0.6309000253677368,0.26743000745773315,-0.19405999779701233,0.054078999906778336,-0.008949300274252892,-0.7899399995803833,0.015205999836325645,0.4356299936771393,0.006769100204110146,0.5092399716377258,0.34217000007629395,0.08765000104904175,0.1132500022649765,0.7562599778175354,0.44225001335144043,1.0032999515533447,-0.14050999283790588,-0.2697699964046478,-0.5897600054740906,0.5054200291633606,0.18411000072956085,1.2081999778747559,0.45179998874664307,-0.5150099992752075,0.46608999371528625,0.19777999818325043,0.1348000019788742,-0.01809599995613098,-0.46415001153945923,0.5358800292015076,0.06438600271940231,0.1994599997997284,-0.8355200290679932,0.38477998971939087,1.2426999807357788,-0.23339000344276428,-0.04760099947452545,-0.01068700011819601,0.5199199914932251,0.45219001173973083,0.5554500222206116,-0.3122299909591675,-0.8085700273513794,-0.04957500100135803,-0.41569000482559204,0.7242900133132935,-0.3781299889087677,0.22393999993801117,-0.028070999309420586,0.7321000099182129,-0.4341300129890442,-2.2822000980377197,-0.39618998765945435,0.9294999837875366,0.35493001341819763,1.1378999948501587,0.2754000127315521,0.6839100122451782,0.0792739987373352,-0.4228299856185913,-0.4572499990463257,-0.4104900062084198,0.24023999273777008,0.15366999804973602,0.11348000168800354,-0.39906999468803406,0.4797999858856201,-0.20066000521183014,-0.11428999900817871,-0.7966899871826172,0.17263999581336975,0.1357100009918213,-0.054910000413656235,0.24726000428199768,-0.4944399893283844,0.1454000025987625,-0.21743999421596527,0.37856999039649963,-0.6179800033569336,0.15398000180721283,-0.14374999701976776,-0.34466999769210815,-0.8314599990844727,0.7949399948120117,0.42743000388145447,-0.18220999836921692,-0.17611999809741974,-0.5811899900436401,-0.019398000091314316,0.1212799996137619,-0.35850000381469727,-0.1716099977493286,-0.3177199959754944,-0.5505599975585938,-0.5038099884986877,-0.7464699745178223], [-0.25808000564575195,-0.33142998814582825,0.3210099935531616,-0.6341500282287598,-0.38760000467300415,0.03399600088596344,0.5392400026321411,-0.2613300085067749,-0.3566800057888031,-0.11799000203609467,0.3853900134563446,-0.03542400151491165,0.25273001194000244,-0.6521199941635132,0.45770999789237976,-0.6728600263595581,-0.040780000388622284,-0.03634300082921982,-0.05108100175857544,0.5388299822807312,0.4778999984264374,0.5568100214004517,0.7673299908638,0.4231800138950348,0.12645000219345093,0.7218000292778015,-0.7377899885177612,-0.40516000986099243,-0.05218200013041496,-0.05469299852848053,0.5638999938964844,-0.566510021686554,0.2658100128173828,1.1299999952316284,-0.8173400163650513,-0.9541900157928467,-0.010130000300705433,-0.7475399971008301,0.3890100121498108,0.6481900215148926,-1.236799955368042,-0.2994000017642975,0.0903950035572052,-0.03826599940657616,1.4875999689102173,0.26385000348091125,-0.1477299928665161,-0.07621800154447556,1.1378999948501587,-0.2589299976825714,0.17704999446868896,0.4705899953842163,0.40608999133110046,0.8253600001335144,0.7061499953269958,-2.1898999214172363,0.34018999338150024,0.21856999397277832,0.9601600170135498,1.1260000467300415,-0.45739999413490295,1.6907999515533447,-0.7060199975967407,0.22785000503063202,0.4273799955844879,0.24070000648498535,-1.36080002784729,-0.19374999403953552,0.9127600193023682,-0.8203399777412415,-0.2824400067329407,-0.40648001432418823,-0.20757000148296356,-0.03834399953484535,0.7369300127029419,0.22155000269412994,0.5951200127601624,-0.06266900151968002,0.28529998660087585,0.7117499709129333,0.5874800086021423,-0.46915000677108765,-1.1431000232696533,0.23695999383926392,-0.24831999838352203,-0.3752399981021881,0.1252100020647049,0.0351249985396862,0.4472599923610687,-0.5743100047111511,1.0111000537872314,0.21966999769210815,-0.533240020275116,-0.046532001346349716,0.0392410010099411,0.16494999825954437,0.2142300009727478,0.01114100031554699,0.5684800148010254,-0.5768399834632874], [0.09453000128269196,0.010432000271975994,0.7333199977874756,0.059560999274253845,0.1668200045824051,0.13770000636577606,0.6970999836921692,0.04871800169348717,-0.5062199831008911,0.05276099964976311,0.4133099913597107,-0.01498899981379509,-0.5550299882888794,0.17576999962329865,0.08800899982452393,-0.10313999652862549,0.05228399857878685,0.06547100096940994,-0.14920000731945038,-0.15700000524520874,0.8853800296783447,-0.2658900022506714,0.3304300010204315,0.9944400191307068,0.6878299713134766,-0.488070011138916,-0.05651199817657471,-0.24771000444889069,0.46434998512268066,-0.051927998661994934,-0.8769800066947937,0.2742899954319,0.35613998770713806,0.015300000086426735,0.2279299944639206,-0.0409419983625412,-0.40467000007629395,0.7095500230789185,-0.2309200018644333,0.32607001066207886,-0.03507399931550026,-0.03771999850869179,0.7359799742698669,-0.023545999079942703,0.37549999356269836,0.2794399857521057,0.3940199911594391,-0.5576199889183044,0.19645999372005463,-0.7300099730491638,-0.39664000272750854,0.14037999510765076,-0.09071999788284302,0.9945399761199951,-0.4419400095939636,-3.276599884033203,-0.6093999743461609,0.05005799978971481,1.495300054550171,0.7415000200271606,-0.48350000381469727,0.14011000096797943,-0.07375100255012512,0.57191002368927,0.7537500262260437,-0.29214999079704285,-0.04563499987125397,0.3110499978065491,-0.23308999836444855,-0.12204000353813171,-0.3105199933052063,0.3669799864292145,-0.0947979986667633,-0.3337700068950653,0.28714001178741455,0.49206000566482544,-0.9033499956130981,-0.4585599899291992,-0.7460600137710571,-0.19033999741077423,0.3891899883747101,0.4580000042915344,-0.593500018119812,0.36090999841690063,-1.3423000574111938,-0.6077100038528442,0.24067999422550201,-0.21932999789714813,0.6526200175285339,-0.3107300102710724,-0.11197999864816666,0.08199899643659592,-0.2744399905204773,0.5025100111961365,-0.6801699995994568,-0.10242000222206116,0.23149000108242035,0.12489999830722809,0.14628000557422638,-0.5896900296211243]]                                          |\n",
            "|[[-0.525160014629364,0.4411799907684326,-0.12729999423027039,-0.28497999906539917,0.45190000534057617,0.5153300166130066,0.4032599925994873,0.01573999971151352,-0.06458300352096558,0.4450800120830536,-0.483379989862442,-0.8962299823760986,0.3908900022506714,-0.16270999610424042,0.6287599802017212,0.5651800036430359,0.22649000585079193,-0.38484999537467957,0.9576699733734131,-0.39517998695373535,-0.7706400156021118,-0.5330899953842163,0.28029000759124756,-0.10668999701738358,1.067199945449829,0.18206000328063965,0.7446100115776062,-0.28898999094963074,-0.17270000278949738,-0.7222800254821777,0.5952600240707397,0.6888300180435181,-0.694320023059845,-0.19710999727249146,0.47602999210357666,0.0106800002977252,-0.06859099864959717,0.47165998816490173,0.1607699990272522,-0.3658500015735626,0.1923699975013733,-1.2472000122070312,-0.9341199994087219,-0.10982999950647354,-0.9210699796676636,0.24106000363826752,-0.08519399911165237,0.010281000286340714,-0.2588300108909607,-1.1166000366210938,0.5857200026512146,0.08088800311088562,-0.19110000133514404,1.4046000242233276,0.06934399902820587,-1.5816999673843384,0.20448000729084015,0.7170299887657166,1.4007999897003174,-0.43415001034736633,-0.2048099935054779,1.3013999462127686,-0.5131199955940247,-0.18886999785900116,1.3586000204086304,-0.08943299949169159,0.7010599970817566,-0.8733999729156494,-0.5127800107002258,0.3883199989795685,0.08032099902629852,0.3852800130844116,0.027970999479293823,0.0068652997724711895,0.9778599739074707,0.4780299961566925,0.06359300017356873,0.018734000623226166,0.0986889973282814,-0.2578299939632416,-0.33125999569892883,-0.7614700198173523,-0.0447239987552166,0.005190200172364712,-0.7044500112533569,-0.07894700020551682,0.2997399866580963,-0.659060001373291,0.7826899886131287,0.31560999155044556,0.10802000015974045,-0.23416000604629517,-0.060642000287771225,-0.24275000393390656,-0.6998800039291382,-0.18880000710487366,-1.225000023841858,-0.8858100175857544,0.0754460021853447,0.04044700041413307], [0.15464000403881073,0.34523001313209534,0.7651600241661072,-0.0675090029835701,-0.22752000391483307,0.17634999752044678,0.06084899976849556,-0.7368299961090088,-0.01092899963259697,-0.15505999326705933,-0.03712699934840202,0.4412199854850769,0.49195998907089233,0.16099999845027924,0.05959400162100792,-0.34584999084472656,0.38905999064445496,0.584119975566864,-0.18401999771595,0.9190400242805481,0.16360999643802643,-0.4280799925327301,-0.41091999411582947,-0.48833000659942627,0.13149000704288483,0.48544999957084656,0.31244999170303345,-0.3275499939918518,-0.2929399907588959,0.03616100177168846,0.09394899755716324,0.22657999396324158,-0.1766200065612793,-0.420089989900589,0.3659299910068512,-0.01710600033402443,0.12171000242233276,0.4139600098133087,0.1634099930524826,-0.36570000648498535,-0.28519999980926514,0.23693999648094177,0.4526900053024292,-0.16359999775886536,-0.30904000997543335,-0.510670006275177,0.7295600175857544,0.05238499864935875,-0.4492200016975403,-0.4914099872112274,0.3543800115585327,-0.047272998839616776,0.8094900250434875,0.6498799920082092,0.2200700044631958,-2.190700054168701,0.45671001076698303,0.3374499976634979,1.3087999820709229,-0.22551999986171722,0.009121900424361229,0.7404299974441528,-0.7066400051116943,-0.5047299861907959,1.2026000022888184,0.06826400011777878,0.3713800013065338,0.08111900091171265,-0.11621999740600586,-0.1986600011587143,0.15097999572753906,0.0770149976015091,-0.11550000309944153,-0.0921579971909523,0.5142800211906433,-0.1391800045967102,0.19575999677181244,-0.6435400247573853,-0.6205899715423584,0.10805000364780426,-0.26339998841285706,0.3345800042152405,-0.36548998951911926,-0.0836620032787323,-1.0600999593734741,-0.4867900013923645,-0.10550999641418457,-0.1998399943113327,-0.1664399951696396,-0.3271600008010864,-0.23583999276161194,0.10836999863386154,0.18289999663829803,0.34428998827934265,-0.43507999181747437,-0.7754300236701965,-0.9318000078201294,-0.8006600141525269,0.07002700120210648,0.47040998935699463], [0.20393000543117523,0.17363999783992767,0.15057000517845154,-0.3975900113582611,-1.0631999969482422,0.6476200222969055,-1.1289000511169434,0.013639000244438648,0.983269989490509,-0.29774001240730286,0.3140200078487396,0.6821600198745728,0.47154998779296875,-0.24533000588417053,-0.23146000504493713,-0.1375100016593933,-0.38578000664711,0.33461999893188477,-0.2721399962902069,0.6122900247573853,0.14034000039100647,0.60944002866745,0.09664300084114075,-0.5954499840736389,-0.14568999409675598,0.5555999875068665,-0.12703000009059906,-0.527899980545044,0.8209400177001953,0.3582099974155426,0.030401000753045082,0.15756000578403473,0.23749999701976776,-0.038795001804828644,0.39278000593185425,0.03840800002217293,0.07389900088310242,-0.21279999613761902,0.7069000005722046,-0.14655999839305878,-0.827180027961731,0.3449699878692627,-0.07554899901151657,-0.7285500168800354,-0.2620700001716614,-0.19762000441551208,0.516730010509491,0.2840299904346466,-0.2121099978685379,-0.9456999897956848,0.24383999407291412,-0.252810001373291,-0.02455900050699711,0.6273000240325928,0.07852199673652649,-1.1289000511169434,0.5727199912071228,0.2682799994945526,0.40676000714302063,-0.1454399973154068,-0.05587799847126007,0.6787899732589722,-0.8821099996566772,-0.23226000368595123,0.7047500014305115,0.014325999654829502,0.8450599908828735,0.372189998626709,-0.4130600094795227,-0.12705999612808228,-0.006732500158250332,-0.9117000102996826,-0.21907000243663788,-0.3766399919986725,-0.2505899965763092,0.3462199866771698,0.04327400028705597,0.22970999777317047,-0.30153000354766846,-0.08296400308609009,0.256879985332489,-0.20003999769687653,-0.8505799770355225,0.3911300003528595,-1.3968000411987305,-0.4386900067329407,-0.26451000571250916,0.20321999490261078,-0.5082799792289734,-0.33928999304771423,0.28477999567985535,-0.31325000524520874,0.6402999758720398,-0.12816999852657318,-0.7479400038719177,0.1385599970817566,0.016502000391483307,0.1526699960231781,-0.1433199942111969,0.12094999849796295]]                                          |\n",
            "|[[-0.149849995970726,0.16996000707149506,0.2997699975967407,-0.3308199942111969,-0.9492499828338623,0.1065400019288063,-0.39980998635292053,0.8486300110816956,1.8898000416811556E-4,-0.7775499820709229,0.28878000378608704,0.6460599899291992,0.47391998767852783,-0.32409000396728516,0.38220998644828796,-0.5100200176239014,0.05482000112533569,0.5026599764823914,-0.1548299938440323,-0.04594999924302101,0.034407999366521835,0.13221000134944916,-0.2980000078678131,-0.19787999987602234,-0.3179900050163269,0.04585300013422966,-0.3095099925994873,-0.6836599707603455,0.6936100125312805,-0.18115000426769257,-0.6442000269889832,0.23127999901771545,-0.01613200083374977,-0.034115999937057495,0.09048199653625488,0.6740999817848206,-0.28112998604774475,-0.5866000056266785,0.8429999947547913,-0.3902199864387512,-0.3077099919319153,-0.20360000431537628,0.06758199632167816,-0.5519400238990784,-0.06728199869394302,-0.2147500067949295,-0.023621000349521637,-0.5536100268363953,0.14309999346733093,-0.8515499830245972,0.48660001158714294,-0.5135400295257568,-0.06784100085496902,0.9955599904060364,0.0790719985961914,-1.7380000352859497,-0.17073999345302582,0.04359300062060356,1.329200029373169,0.15939000248908997,-0.1781100034713745,0.6563699841499329,-0.4928700029850006,-0.4351100027561188,0.6426600217819214,0.4244000017642975,-0.11343999952077866,0.4903700053691864,-0.875029981136322,-0.3853600025177002,0.07969100028276443,-0.1599999964237213,-0.05057600140571594,-0.6341099739074707,-0.007743599824607372,0.43237000703811646,-0.4991399943828583,-0.3902300000190735,-0.04311800003051758,-0.5816199779510498,0.7914999723434448,-0.27911999821662903,-0.41666001081466675,0.06745699793100357,-1.1527999639511108,-0.11816000193357468,0.21855999529361725,-0.0987050011754036,-0.22412000596523285,-0.013086999766528606,0.2954599857330322,0.3684200048446655,0.11537999659776688,-0.43626001477241516,-0.565090000629425,0.16619999706745148,0.8737099766731262,0.6140199899673462,-0.04997299984097481,0.32936999201774597], [-0.0248429998755455,0.47766000032424927,0.32436999678611755,-0.054239001125097275,-0.4762200117111206,1.1043000221252441,0.014732999727129936,0.9241300225257874,-0.003677200060337782,-0.29596999287605286,0.547819972038269,-0.0811460018157959,-0.021779000759124756,0.5188000202178955,0.1427299976348877,-0.019756000488996506,-0.44290000200271606,0.4552600085735321,-0.344539999961853,-0.8126000165939331,-0.3535600006580353,0.01942499913275242,-0.26789000630378723,-1.0615999698638916,0.27105000615119934,-0.7029100060462952,-0.14555999636650085,-0.4666900038719177,-0.38155001401901245,-0.11217000335454941,0.14527000486850739,0.0471390001475811,0.07605099678039551,0.6483799815177917,-0.051128000020980835,1.011199951171875,-0.4083699882030487,0.3401300013065338,0.7562599778175354,-0.7070299983024597,0.23114000260829926,-1.0124000310897827,0.16596999764442444,-0.330130010843277,0.43121999502182007,0.12475000321865082,-0.8790599703788757,0.4513300061225891,0.7458900213241577,-0.5207700133323669,0.06278400123119354,-0.5537300109863281,-0.17152999341487885,1.0211999416351318,-0.020486000925302505,-3.032099962234497,-0.2637900114059448,-0.4138199985027313,1.1966999769210815,0.4578999876976013,-0.377810001373291,0.8533999919891357,0.1513500064611435,0.28586000204086304,-0.041189998388290405,-0.05705200135707855,1.3221999406814575,-0.17764000594615936,-0.2124900072813034,-0.06960199773311615,0.1700199991464615,-0.30948999524116516,0.5133200287818909,-0.2858699858188629,-0.07663100212812424,0.6681900024414062,0.11986999958753586,-0.17851999402046204,-0.0678270012140274,0.14388999342918396,-0.02403399907052517,0.057916998863220215,0.06250700354576111,-0.06776200234889984,-1.1597000360488892,-0.17699000239372253,0.6436499953269958,-0.382750004529953,-0.2868100106716156,-0.15886999666690826,0.60944002866745,-0.30858999490737915,0.6438199877738953,-0.007604300044476986,-0.2320600003004074,0.04227299988269806,0.14465999603271484,-0.22633999586105347,0.8283399939537048,0.05847200006246567], [-0.06860899925231934,0.37233999371528625,0.008263000287115574,-0.2975899875164032,0.5049700140953064,0.35530000925064087,0.39531999826431274,0.8012800216674805,-0.9297199845314026,0.03734099864959717,0.7059900164604187,0.10559000074863434,0.29725998640060425,0.7644500136375427,0.21427999436855316,-0.11708000302314758,-0.16907000541687012,-0.004569400101900101,-0.6242899894714355,0.3494899868965149,0.9153599739074707,-0.2015399932861328,0.13332000374794006,0.5489699840545654,0.7049300074577332,-0.962369978427887,-0.17228999733924866,-0.4554699957370758,-0.305510014295578,0.30406999588012695,0.14562000334262848,-0.04610000178217888,-0.19555999338626862,-0.2857699990272522,0.3745099902153015,0.26128000020980835,-0.1261100023984909,0.2581000030040741,-0.40323999524116516,0.500190019607544,-0.48304998874664307,-0.14809000492095947,0.5378699898719788,-0.11959999799728394,0.3729499876499176,0.35745999217033386,-0.07771799713373184,-0.7639300227165222,-0.17622999846935272,-0.0016575000481680036,-0.7206799983978271,-0.5310199856758118,-0.06492400169372559,1.3585000038146973,-0.07842499762773514,-2.5510001182556152,0.12289000302553177,-0.07638800144195557,1.892699956893921,1.5579999685287476,-0.7100499868392944,1.0357999801635742,0.25433000922203064,0.4290600121021271,0.3418099880218506,0.24823999404907227,0.335640013217926,0.5950300097465515,-0.0028888999950140715,0.12437000125646591,-0.4740700125694275,0.03650299832224846,-0.04999899864196777,-0.3148300051689148,0.16066999733448029,0.4547800123691559,-0.4161899983882904,-0.3570699989795685,-1.0044000148773193,-0.15895000100135803,1.111199975013733,0.31303998827934265,-0.38909000158309937,0.42517998814582825,-1.382099986076355,-0.028303999453783035,0.1542000025510788,-0.1719599962234497,0.16380999982357025,0.046066999435424805,-0.20829999446868896,0.24300000071525574,-0.658079981803894,-0.10197000205516815,-1.3277000188827515,0.14797000586986542,-0.669920027256012,0.06207500025629997,0.46643999218940735,-0.17181000113487244]]               |\n",
            "|[[-0.03760800138115883,0.15682999789714813,0.4796000123023987,-0.03853999823331833,-0.17470000684261322,0.1547500044107437,-0.3823400139808655,0.24254000186920166,-0.16832000017166138,-0.32670000195503235,-0.06425199657678604,-0.023559000343084335,-0.19514000415802002,-0.015289000235497952,-0.14977000653743744,-0.010363000445067883,0.06324999779462814,0.1894800066947937,-0.5562700033187866,0.885420024394989,0.041147999465465546,-0.5067999958992004,-0.32172998785972595,-0.11401999741792679,-0.09595400094985962,-0.12424000352621078,-0.320389986038208,-0.37202000617980957,0.34553998708724976,-0.5388699769973755,-0.010369000025093555,0.6500300168991089,-0.11294999718666077,-0.05048999935388565,-0.10818000137805939,0.4563399851322174,-0.028581999242305756,0.33934998512268066,-0.5666300058364868,-0.03507100045681,-0.23191000521183014,-0.37483999133110046,0.06939399987459183,-0.7816100120544434,-0.4810200035572052,-0.2689499855041504,-0.0034449000377207994,-0.25411999225616455,-0.20660999417304993,-0.6864200234413147,-0.16513000428676605,0.18474000692367554,-0.1815200001001358,0.7707200050354004,0.2682200074195862,-2.454900026321411,0.20531000196933746,-0.4726699888706207,1.7922999858856201,0.015615000389516354,0.07041200250387192,0.3982599973678589,-0.44113999605178833,0.12504999339580536,0.7411500215530396,0.004739800002425909,0.29137998819351196,0.9249500036239624,-0.47189000248908997,-0.48155999183654785,-0.19627000391483307,-0.30952000617980957,-0.024237999692559242,-0.9272699952125549,0.42467001080513,0.4388499855995178,-0.6160600185394287,-0.5045300126075745,-0.6895300149917603,-0.3343999981880188,0.8104599714279175,-0.3598499894142151,-0.740339994430542,-0.4234299957752228,-1.5017999410629272,0.0016398000298067927,0.43830999732017517,0.8807899951934814,0.012385999783873558,-0.2047799974679947,0.042447999119758606,-0.7469099760055542,0.07744500041007996,-0.7972099781036377,-0.7345600128173828,-0.597760021686554,-0.02476399950683117,-0.018466999754309654,0.10175000131130219,0.4120100140571594], [0.37797001004219055,0.7189199924468994,0.9050099849700928,-0.4637100100517273,-0.6705700159072876,0.3594200015068054,0.2432200014591217,0.1314300000667572,0.11197999864816666,-0.4550899863243103,0.31744998693466187,0.18548999726772308,0.020145000889897346,-0.25475001335144043,0.21131999790668488,-0.4045200049877167,-0.7695599794387817,0.36851999163627625,-0.35993000864982605,0.7746899724006653,0.07962799817323685,0.4520699977874756,-0.47947999835014343,-0.605459988117218,0.16541999578475952,0.31869998574256897,-0.2630400061607361,-0.849399983882904,0.3483099937438965,-0.36006999015808105,-0.2890099883079529,0.5823400020599365,0.3511500060558319,-0.47356998920440674,0.0031614000909030437,0.3125700056552887,-0.43588000535964966,0.06488999724388123,0.35078001022338867,-0.3890799880027771,-0.06104100123047829,-0.1726599931716919,0.04084699973464012,-0.7111200094223022,-0.8136799931526184,-0.3123599886894226,0.538320004940033,-0.30489999055862427,-0.3197300136089325,-1.1526999473571777,0.08672899752855301,-0.17406000196933746,-0.1962299942970276,0.6973999738693237,-0.21299999952316284,-1.989300012588501,0.03130599856376648,0.32155001163482666,0.8647199869155884,0.5355700254440308,-0.2092200070619583,1.4352999925613403,-0.6071299910545349,-0.20090000331401825,0.5323799848556519,0.16690999269485474,0.7056900262832642,0.2091200053691864,-0.30623000860214233,-0.06631900370121002,0.2434699982404709,-0.12037000060081482,-0.09242100268602371,-0.006556500215083361,0.2423200011253357,0.34351998567581177,0.22168000042438507,-0.11606000363826752,-0.022477999329566956,0.36427000164985657,0.29552000761032104,-0.23656000196933746,-0.6177999973297119,-0.26947999000549316,-1.0827000141143799,-0.025245999917387962,-0.01917799934744835,-0.09894999861717224,-0.5375199913978577,-0.16381999850273132,0.2184000015258789,0.02088100090622902,0.21111999452114105,-0.4900200068950653,-0.7238199710845947,-0.2569200098514557,-0.00751330005005002,0.22411000728607178,0.05903000012040138,0.4461199939250946], [-0.0055056000128388405,0.46922001242637634,0.5062500238418579,-0.54680997133255,0.4423399865627289,0.43406999111175537,0.4636799991130829,-0.4276300072669983,0.2551800012588501,-0.5680999755859375,0.617900013923645,1.0959999561309814,0.39768001437187195,0.008512900210916996,-0.5430099964141846,-0.31178998947143555,0.03475499898195267,0.036083001643419266,-0.23183999955654144,0.6330199837684631,0.01599299907684326,0.3444800078868866,0.30562999844551086,-0.07690100371837616,0.06072999909520149,0.5145599842071533,-0.3329299986362457,-0.3140299916267395,0.4972899854183197,0.538100004196167,-0.06456100195646286,-0.27616000175476074,-0.37648001313209534,0.32291001081466675,0.26295000314712524,-0.3864000141620636,-0.5397400259971619,0.09410499781370163,0.07534900307655334,-0.6458100080490112,-0.4120500087738037,0.07731900364160538,0.4398699998855591,-0.31317999958992004,0.12589000165462494,-0.3713499903678894,0.07964500039815903,0.5980499982833862,-0.02014400064945221,-0.7063300013542175,-0.1349799931049347,-0.3586699962615967,0.21333999931812286,1.4559999704360962,0.3292100131511688,-1.7197999954223633,-0.26846998929977417,-0.2043900042772293,0.5460500121116638,0.3768500089645386,-0.21552999317646027,1.1753000020980835,-0.44293999671936035,-0.4655500054359436,0.3256300091743469,0.4923799932003021,0.41741999983787537,0.34643998742103577,-0.661300003528595,-0.4522800147533417,0.3315800130367279,-0.29899999499320984,0.17329999804496765,0.06786999851465225,0.46265000104904175,0.6319000124931335,-0.07475800067186356,-0.6805599927902222,-0.6830499768257141,0.019139999523758888,-0.11061999946832657,0.37790000438690186,-0.37918001413345337,0.2769300043582916,-0.7104700207710266,-0.1377200037240982,-0.16077999770641327,0.09781599789857864,-0.7552899718284607,0.6004800200462341,0.5274099707603455,-0.2952199876308441,0.8314800262451172,0.5000399947166443,-0.9434300065040588,-0.19389000535011292,0.030750000849366188,-0.13851000368595123,-0.03793099895119667,-0.15752999484539032]]|\n",
            "|[[-0.3587599992752075,0.5815899968147278,-0.0276309996843338,-0.2527799904346466,-0.6280500292778015,-0.4251599907875061,0.2453799992799759,0.6019799709320068,0.1622599959373474,-0.043216001242399216,0.1289599984884262,-0.04521799832582474,0.43727999925613403,0.09302400052547455,-0.44828999042510986,-0.3619900047779083,0.19059999287128448,0.4819599986076355,-0.5945299863815308,-0.361160010099411,-0.1215599998831749,-0.164110004901886,0.05740800127387047,-0.45871999859809875,-0.09681200236082077,0.46577998995780945,-0.1578499972820282,-0.09729599952697754,0.7522500157356262,0.07259900122880936,-0.7155799865722656,0.29923999309539795,-0.1584700047969818,0.21900999546051025,0.9875900149345398,0.43268001079559326,0.026921000331640244,-0.28457000851631165,0.0922050029039383,-0.3022800087928772,-0.11100000143051147,-0.055727001279592514,0.5608299970626831,-0.8526600003242493,-0.07291000336408615,-0.18131999671459198,-0.25804999470710754,-0.25661998987197876,0.08422700315713882,-1.1677000522613525,0.0035248000640422106,-0.018171999603509903,0.31161999702453613,0.7328100204467773,-0.14573000371456146,-2.016700029373169,0.04378800094127655,-0.219650000333786,1.6190999746322632,0.22961999475955963,0.06104400008916855,0.7263799905776978,-0.9781100153923035,-0.07765000313520432,0.7809500098228455,0.08692300319671631,0.1098100021481514,0.7269099950790405,-0.8826799988746643,-0.44800999760627747,0.851170003414154,-0.8421199917793274,-0.6116399765014648,-0.6727700233459473,0.21991999447345734,0.3990199863910675,-0.27581000328063965,0.3659000098705292,-0.011983999982476234,-0.14904999732971191,0.7522100210189819,-0.30608001351356506,-0.583299994468689,0.3095700144767761,-0.6796600222587585,-0.37553998827934265,0.4441699981689453,0.5199999809265137,-0.39893001317977905,-0.25306999683380127,0.23551000654697418,0.3084299862384796,0.026623999699950218,-0.44868001341819763,-0.7657600045204163,0.041228998452425,0.13628999888896942,0.07741300016641617,0.5436199903488159,0.5169100165367126], [0.07134699821472168,0.01395499985665083,0.42260000109672546,-0.27191999554634094,0.02444400079548359,0.5474200248718262,-0.36910000443458557,0.10744000226259232,0.44933000206947327,-0.10870999842882156,0.3277300000190735,0.02551399916410446,0.1876000016927719,0.07146599888801575,0.4201599955558777,-0.9369099736213684,-0.18025000393390656,0.19189000129699707,-0.16659000515937805,-0.021145999431610107,-0.26291000843048096,0.39201000332832336,-0.03040499985218048,-0.2332099974155426,0.3179500102996826,0.20728999376296997,-0.5042499899864197,-0.9872300028800964,0.22798000276088715,-0.12163999676704407,0.3903700113296509,-0.03760699927806854,-0.6453700065612793,-0.5350599884986877,0.17855000495910645,-0.3332599997520447,-0.18963000178337097,-0.02795499935746193,-0.718209981918335,-0.09190099686384201,-0.21918000280857086,0.15900999307632446,0.5590699911117554,-0.18219000101089478,-0.04625599831342697,-0.4201900064945221,0.22867999970912933,-0.49948999285697937,-0.283160001039505,-0.9735000133514404,0.597320020198822,0.026561999693512917,-0.31036999821662903,1.3910000324249268,0.12274999916553497,-2.4381000995635986,0.029823999851942062,-0.3930400013923645,1.8911999464035034,0.3626199960708618,-0.3825500011444092,0.6089800000190735,-0.4823099970817566,0.04012500122189522,0.9546800255775452,0.0018179999897256494,0.6819900274276733,0.08748000115156174,-0.10826999694108963,-0.2061299979686737,-0.8050199747085571,-0.25512999296188354,0.3667300045490265,-0.8157399892807007,0.3774699866771698,0.4417699873447418,-0.27978000044822693,-0.12399999797344208,-1.0990999937057495,-0.13991999626159668,0.5449699759483337,-0.4960800111293793,-0.552839994430542,0.38242000341415405,-1.42330002784729,0.29444000124931335,0.36052998900413513,0.38297000527381897,-0.24598999321460724,-0.3732599914073944,-0.18528999388217926,-0.5352299809455872,-0.03807299956679344,-0.07334800064563751,-0.32447001338005066,0.06196700036525726,0.18508000671863556,-0.12532000243663788,0.6439300179481506,0.09403499960899353], [0.41710999608039856,-0.10175999999046326,0.05814699828624725,-0.18332000076770782,-0.44457998871803284,-0.17851999402046204,-0.3439199924468994,-0.0771469995379448,0.5852100253105164,-0.5275200009346008,1.4831000566482544,0.9531000256538391,-0.027201000601053238,-0.3174799978733063,-0.2304600030183792,-0.24083000421524048,0.22548000514507294,-0.12684999406337738,-0.17577999830245972,-0.3492400050163269,0.5167999863624573,0.868179976940155,-0.01857900060713291,1.2228000164031982,-0.5247700214385986,-0.2636899948120117,0.2592499852180481,-0.05952899903059006,0.27063000202178955,0.13036000728607178,-0.6767699718475342,0.48313000798225403,-0.16343000531196594,-0.06989900022745132,0.9284600019454956,-0.44196000695228577,-0.07875499874353409,0.5246000289916992,-0.595770001411438,-0.16590000689029694,0.35194000601768494,0.3003099858760834,-0.5071099996566772,0.29111000895500183,-0.2633199989795685,-1.052299976348877,-0.31060999631881714,-0.07715500146150589,-0.16019000113010406,0.26993998885154724,-1.104200005531311,0.1629199981689453,0.7939599752426147,-0.7713500261306763,-0.9515699744224548,-0.5599200129508972,0.6916300058364868,0.021494999527931213,0.4429199993610382,-0.6988099813461304,0.7388899922370911,-0.10639999806880951,-0.44058001041412354,0.1711599975824356,0.3910900056362152,0.0436520017683506,1.2834999561309814,0.29025998711586,0.5103700160980225,-0.19630999863147736,0.036695998162031174,-0.7401700019836426,-0.0035270999651402235,-0.5491799712181091,-0.25001999735832214,0.15852999687194824,0.7176399827003479,-0.2808299958705902,0.42291998863220215,-0.8985499739646912,0.996649980545044,-0.6518800258636475,-0.11918999999761581,-0.28617000579833984,-0.8527299761772156,0.5565599799156189,-0.23601000010967255,-0.43821999430656433,0.36316999793052673,0.4572399854660034,0.38596001267433167,0.5923299789428711,1.4355000257492065,1.4563000202178955,1.1800999641418457,0.32986998558044434,0.8499799966812134,-0.29444000124931335,-0.03911399841308594,0.3953399956226349]]                    |\n",
            "|[[-0.024792000651359558,-0.2897700071334839,0.24126000702381134,-0.2140199989080429,-0.42048001289367676,0.4440799951553345,-0.429749995470047,-0.29159000515937805,0.7275800108909607,0.4297800064086914,-0.42441999912261963,0.6045799851417542,0.3422299921512604,0.42903000116348267,0.3843599855899811,0.240229994058609,0.7617700099945068,0.8081600069999695,-0.05350600183010101,0.12588000297546387,-0.32907000184059143,-0.5311400294303894,-0.010338000021874905,-0.4267599880695343,-0.1829800009727478,0.42291998863220215,-0.8642600178718567,-0.18086999654769897,0.11229000240564346,-0.4437499940395355,-0.1066799983382225,0.014522000215947628,-1.0038000345230103,-0.5660499930381775,-0.07767800241708755,0.19208000600337982,-0.2836399972438812,-0.10871999710798264,0.40237000584602356,-0.27052000164985657,0.017017999663949013,0.18392999470233917,-0.02080100029706955,0.3148300051689148,-0.447519987821579,-0.447519987821579,0.3176800012588501,0.6026099920272827,-0.35986000299453735,-0.425929993391037,-0.2105100005865097,0.8242999911308289,0.5412600040435791,1.2279000282287598,-0.09794099628925323,-0.9472100138664246,-0.11862000077962875,-0.2898400127887726,-0.08159200102090836,-0.37992000579833984,-0.05562800168991089,0.28290000557899475,-0.2855300009250641,0.5536100268363953,0.1569499969482422,-0.17922000586986542,0.7666699886322021,-0.3292199969291687,0.02118000015616417,-0.05705299973487854,0.03136099874973297,-0.3364599943161011,-0.4265500009059906,-0.15227000415325165,0.13642999529838562,0.027005000039935112,-0.24075999855995178,-0.3122299909591675,-0.19920000433921814,0.6692299842834473,-0.1867000013589859,0.16377000510692596,-0.13089999556541443,0.14928999543190002,-1.1220999956130981,0.007110599894076586,-0.0908529981970787,0.5915200114250183,0.04098400101065636,0.1388300061225891,0.08721300214529037,0.05548299849033356,0.7931299805641174,-0.8899099826812744,0.3803499937057495,-0.45249998569488525,-0.5980700254440308,-0.18161000311374664,-0.3075700104236603,-0.3292100131511688], [-0.2475000023841858,0.28286001086235046,0.4481399953365326,-0.2228499948978424,-0.5220000147819519,-0.16892999410629272,-0.18925000727176666,0.06166600063443184,0.8341799974441528,0.05664199963212013,-0.6642100214958191,0.320279985666275,0.008687900379300117,-0.3358300030231476,-0.5929999947547913,0.30663999915122986,-0.557919979095459,1.0042999982833862,0.676859974861145,0.2601200044155121,-0.49406999349594116,-0.1065400019288063,-0.31863999366760254,-0.42289999127388,-0.1690099984407425,-0.04131300002336502,-0.5608999729156494,-0.08987700194120407,0.05116400122642517,-1.1755000352859497,-0.28345000743865967,0.6000800132751465,0.08633100241422653,0.13428999483585358,-0.3644999861717224,0.5549899935722351,0.1394599974155426,-0.433569997549057,0.10164999961853027,0.2480500042438507,0.09089700132608414,0.05770200118422508,-0.012852000072598457,0.09296099841594696,-0.3606800138950348,-0.5990599989891052,0.7044500112533569,0.15378999710083008,0.11541999876499176,-0.2048099935054779,0.0847880020737648,-0.11573000252246857,0.07633700221776962,-0.4015499949455261,0.03338899835944176,0.8682100176811218,0.3992699980735779,0.09095799922943115,-0.08906000107526779,0.33586999773979187,0.1700800061225891,0.3397499918937683,-0.7972800135612488,-0.28575000166893005,-0.18212999403476715,0.6004899740219116,-0.19625000655651093,0.4896099865436554,-0.652649998664856,-0.6792799830436707,0.2650899887084961,-0.6409599781036377,0.37452998757362366,0.46123000979423523,0.19031000137329102,-0.09632900357246399,0.26853999495506287,-0.16884000599384308,0.4512600004673004,0.17482000589370728,-0.5539100170135498,-0.07775899767875671,-0.6326299905776978,-0.1348699927330017,0.12195000052452087,-0.3018699884414673,0.4146200120449066,-0.16450999677181244,0.1966100037097931,0.10277999937534332,-0.3144800066947937,-0.2779400050640106,0.31995001435279846,-0.28929999470710754,0.7043399810791016,0.34266000986099243,0.23428000509738922,0.12709000706672668,-0.8519499897956848,0.24395999312400818], [0.5108100175857544,0.11736000329256058,0.6819599866867065,-0.04787899926304817,0.13465000689029694,-0.7940000295639038,0.18490999937057495,-0.34314000606536865,0.02051600068807602,0.05973599851131439,0.3285599946975708,0.32409000396728516,0.3627600073814392,-0.34678998589515686,-0.3552899956703186,-0.2753300070762634,0.0739860013127327,-0.3856799900531769,-0.1616699993610382,0.12671999633312225,-0.062160998582839966,-0.35295000672340393,-0.3161199986934662,0.00627289991825819,0.4254400134086609,0.03604099899530411,-0.33406001329421997,-0.01233999989926815,-0.6320099830627441,-0.35576000809669495,-0.16672000288963318,0.8894500136375427,-0.051961999386548996,-0.3356800079345703,-0.019922999665141106,0.28404998779296875,0.5999600291252136,-0.3449999988079071,-0.3907400071620941,-0.16596999764442444,0.18437999486923218,0.11102999746799469,0.3735100030899048,-0.49876999855041504,-0.4172300100326538,0.21164999902248383,-0.256089985370636,-0.09836000204086304,3.671600134111941E-4,-0.5644500255584717,0.3285900056362152,0.01076200045645237,0.23937000334262848,0.9027400016784668,0.0012562000192701817,-2.5030999183654785,-0.12213999778032303,-0.7090799808502197,1.6682000160217285,0.5825600028038025,0.053902000188827515,0.10896000266075134,-0.9960899949073792,-0.7491300106048584,0.5198500156402588,-0.01584099978208542,0.4227699935436249,0.9991899728775024,-0.5788699984550476,-0.662060022354126,0.1995999962091446,-0.7078400254249573,-0.952430009841919,-0.7056099772453308,-0.004576399922370911,-0.2213200032711029,-0.43296000361442566,-0.16703000664710999,-1.6181000471115112,0.603879988193512,0.8170499801635742,-0.2761499881744385,0.25505000352859497,0.1757899969816208,-1.3083000183105469,0.13582000136375427,0.2785800099372864,0.23307999968528748,-0.3656899929046631,-0.38993000984191895,-0.2533800005912781,-0.2939299941062927,-1.2343000173568726,-0.37213000655174255,-0.27810001373291016,0.5958700180053711,0.04260500147938728,0.6802300214767456,0.7913299798965454,0.08707399666309357]]                            |\n",
            "+---------------------------------------------------------------------------------------------------------------------------------------------------------------------------------------------------------------------------------------------------------------------------------------------------------------------------------------------------------------------------------------------------------------------------------------------------------------------------------------------------------------------------------------------------------------------------------------------------------------------------------------------------------------------------------------------------------------------------------------------------------------------------------------------------------------------------------------------------------------------------------------------------------------------------------------------------------------------------------------------------------------------------------------------------------------------------------------------------------------------------------------------------------------------------------------------------------------------------------------------------------------------------------------------------------------------------------------------------------------------------------------------------------------------------------------------------------------------------------------------------------------------------------------------------------------------------------------------------------------------------------------------------------------------------------------------------------------------------------------------------------------------------------------------------------------------------------------------------------------------------------------------------------------------------------------------------------------------------------------------------------------------------------------------------------------------------------------------------------------------------------------------------------------------------------------------------------------------------------------------------------------------------------------------------------------------------------------------------------------------------------------------------------------------------------------------------------------------------------------------------------------------------------------------------------------------------------------------------------------------------------------------------------------------------------------------------------------------------------------------------------------------------------------------------------------------------------------------------------------------------------------------------------------------------------------------------------------------------------------------------------------------------------------------------------------------------------------------------------------------------------------------------------------------------------------------------------------------------------------------------------------------------------------------------------------------------------------------------------------------------------------------------------------------------------------------------------------------------------------------------------------------------------------------------------------------------------------------------------------------------------------------------------------------------------------------------------------------------------------------------------------------------------------------------------------------------------------------------------------------------------------------------------------------------------------------------------------------------------------------------------------------------------------------------------------------------------------------------------------------------------------------------------------------------------------------------------------------------------------------------------------------------------------------------------------------------------------------------------------------------------------------------------------------------------------------------------------------------------------------------------------------------------------------------------------------------------------------------------------------------------------------------------------------------------------------------------------------------------------------------------------------------------------------------------------------------------------------------------------------------------------------------------------------------------------------------------------------------------------------------------------------------------------------------------------------------------------------------------------------------------------------------------------------------------------------------------------------------------------------------------------------------------------------------------------------------------------------------------------------------------------------------------------------------------------------------------------------------------------------------------------------------------------------------------------------------------------------------------------------------------------------------------------------------------------------------------------------------------------------------------------------------------------------------------------------------------------------------------------------------------------------------------------------------------------------------------------------------------------------------------------------------------------------------------------------------------------------------------------------------------------------------------------------------------------------------------------------------------------------------------------------------------+\n",
            "only showing top 20 rows\n",
            "\n"
          ],
          "name": "stdout"
        }
      ]
    },
    {
      "cell_type": "markdown",
      "metadata": {
        "id": "faXVlQDqa7_o",
        "colab_type": "text"
      },
      "source": [
        "String Indexer to change string categories to label for classification"
      ]
    },
    {
      "cell_type": "code",
      "metadata": {
        "id": "aZg00gXxh9Td",
        "colab_type": "code",
        "colab": {
          "base_uri": "https://localhost:8080/",
          "height": 208
        },
        "outputId": "82666363-425d-4f28-a674-924936f9a55e"
      },
      "source": [
        "from pyspark.ml import Pipeline\n",
        "from pyspark.ml.feature import OneHotEncoder, StringIndexer, VectorAssembler\n",
        "label_stringIdx = StringIndexer(inputCol = \"Genre\", outputCol = \"label\" ,)\n",
        "pipeline = Pipeline(stages=[ label_stringIdx])\n",
        "# Fit the pipeline to training documents.\n",
        "pipelineFit = pipeline.fit(model_trans)\n",
        "dataset = pipelineFit.transform(model_trans)\n",
        "selectedCols = ['embeddings','label']\n",
        "dataset = dataset.select(selectedCols)\n",
        "dataset.show(5)\n",
        "# dataset.printSchema()\n"
      ],
      "execution_count": 34,
      "outputs": [
        {
          "output_type": "stream",
          "text": [
            "+--------------------+-----+\n",
            "|          embeddings|label|\n",
            "+--------------------+-----+\n",
            "|[[-0.030768999829...|  0.0|\n",
            "|[[-0.641390025615...|  0.0|\n",
            "|[[0.0667089968919...|  1.0|\n",
            "|[[-0.556039988994...|  0.0|\n",
            "|[[-0.308290004730...|  0.0|\n",
            "+--------------------+-----+\n",
            "only showing top 5 rows\n",
            "\n"
          ],
          "name": "stdout"
        }
      ]
    },
    {
      "cell_type": "code",
      "metadata": {
        "id": "S_LJcEsc9bH5",
        "colab_type": "code",
        "colab": {
          "base_uri": "https://localhost:8080/",
          "height": 35
        },
        "outputId": "722243c5-29bb-4a2d-dcb7-aba24be1c2fa"
      },
      "source": [
        "dataset.select('label').distinct().collect()"
      ],
      "execution_count": 35,
      "outputs": [
        {
          "output_type": "execute_result",
          "data": {
            "text/plain": [
              "[Row(label=0.0), Row(label=1.0), Row(label=2.0)]"
            ]
          },
          "metadata": {
            "tags": []
          },
          "execution_count": 35
        }
      ]
    },
    {
      "cell_type": "markdown",
      "metadata": {
        "id": "mQv0R9kSCgDn",
        "colab_type": "text"
      },
      "source": [
        "Spark ML takes vector as input so need to convert our embedding output to vector. We are going to use dense vector here. "
      ]
    },
    {
      "cell_type": "code",
      "metadata": {
        "id": "yEyiQFt5z7mr",
        "colab_type": "code",
        "colab": {
          "base_uri": "https://localhost:8080/",
          "height": 468
        },
        "outputId": "a9f5779a-5259-4ecf-c7a2-18dd6f8144ec"
      },
      "source": [
        "import itertools\n",
        "import functools\n",
        "from pyspark.ml.linalg import Vectors, VectorUDT\n",
        "@udf(VectorUDT())\n",
        "# @udf(StringType())\n",
        "def get_Flatvector(embd_vec):\n",
        "  # embd_vec = list(embd_vec)\n",
        "  merged = list(itertools.chain(*embd_vec))\n",
        "  # merged = functools.reduce(operator.iconcat, embd_vec, [])\n",
        "  mer_floats = [float(np_float) for np_float in merged]\n",
        "  ver = Vectors.dense(mer_floats)\n",
        "  return ver\n",
        "  # return str(type(mer_floats[0]))\n",
        "  # return embd_vec[0].tolist()\n",
        "\n",
        "dataset_clsf = dataset.select(get_Flatvector(F.col('embeddings')).alias('features'),'label')\n",
        "dataset_clsf.na.drop(subset=[\"features\"])\n",
        "# dataset_clsf = dataset_clsf.where(\"'label' != ''\").where(\"'label' != ' '\")\n",
        "# dataset_clsf = dataset_clsf.filter(dataset_clsf.label == 0.0)\n",
        "dataset_clsf.show(truncate = True)\n",
        "\n",
        "# dataset.select(\"label\",flatten(\"embeddings\")).show(false)"
      ],
      "execution_count": 36,
      "outputs": [
        {
          "output_type": "stream",
          "text": [
            "+--------------------+-----+\n",
            "|            features|label|\n",
            "+--------------------+-----+\n",
            "|[-0.0307689998298...|  0.0|\n",
            "|[-0.6413900256156...|  0.0|\n",
            "|[0.06670899689197...|  1.0|\n",
            "|[-0.5560399889945...|  0.0|\n",
            "|[-0.3082900047302...|  0.0|\n",
            "|[-0.0797609984874...|  0.0|\n",
            "|[-0.6666499972343...|  0.0|\n",
            "|[0.49746999144554...|  0.0|\n",
            "|[-0.2100400030612...|  0.0|\n",
            "|[0.17274999618530...|  0.0|\n",
            "|[-0.9500600099563...|  0.0|\n",
            "|[-0.0924979969859...|  2.0|\n",
            "|[0.88660997152328...|  0.0|\n",
            "|[-0.0296199992299...|  0.0|\n",
            "|[0.34995999932289...|  0.0|\n",
            "|[-0.5251600146293...|  1.0|\n",
            "|[-0.1498499959707...|  0.0|\n",
            "|[-0.0376080013811...|  1.0|\n",
            "|[-0.3587599992752...|  0.0|\n",
            "|[-0.0247920006513...|  0.0|\n",
            "+--------------------+-----+\n",
            "only showing top 20 rows\n",
            "\n"
          ],
          "name": "stdout"
        }
      ]
    },
    {
      "cell_type": "markdown",
      "metadata": {
        "id": "8ZHM_xzVDLHN",
        "colab_type": "text"
      },
      "source": [
        "We need to ensure that the size of feature is 300. group by count of feature to check and remove unwanted rows. This is probably because TFIDF gave same rank to multiple words and we have more than 3 in some cases. in our case it was just one row"
      ]
    },
    {
      "cell_type": "code",
      "metadata": {
        "id": "gPzEK8Q0ODxD",
        "colab_type": "code",
        "colab": {
          "base_uri": "https://localhost:8080/",
          "height": 35
        },
        "outputId": "890146e0-f55b-4d8e-dde3-633a4fea3bfd"
      },
      "source": [
        "from pyspark.sql import functions as F\n",
        "import itertools\n",
        "import functools\n",
        "from pyspark.ml.linalg import Vectors, VectorUDT\n",
        "# @udf(VectorUDT())\n",
        "@udf(IntegerType())\n",
        "def get_Flatvector_len(embd_vec):\n",
        "  # embd_vec = list(embd_vec)\n",
        "  # merged = list(itertools.chain(*embd_vec))\n",
        "  # merged = functools.reduce(operator.iconcat, embd_vec, [])\n",
        "  # mer_floats = [float(np_float) for np_float in merged]\n",
        "  vec =Vectors.dense(embd_vec)\n",
        "  return (len(vec))\n",
        "  # return str(type(mer_floats[0]))\n",
        "  # return embd_vec[0].tolist()\n",
        "\n",
        "dataset_clsf_300 = dataset_clsf.select('features',get_Flatvector_len(F.col('features')).alias('feat_cnt'),'label')\n",
        "dataset_clsf_300.na.drop(subset=[\"feat_cnt\"])\n",
        "dataset_clsf_300.na.drop(subset=[\"features\"])\n",
        "dataset_clsf_300.na.drop(subset=[\"label\"])\n",
        "# dataset_clsf.show(truncate = True)\n",
        "# dataset_clsf = dataset_clsf.groupBy(\"features\").agg(F.count('features'))\n",
        "dataset_clsf_300 = dataset_clsf_300.filter((dataset_clsf_300.feat_cnt == 300) | (dataset_clsf_300.label != ' ') ).select('features','label')\n",
        "# dataset_clsf_300 = dataset_clsf_300.filter(dataset_clsf_300.label != ' ').select('features','label')\n",
        "# dataset_clsf_300 = dataset_clsf_300.filter(F.col('features') != ' ')\n",
        "# dataset_clsf_300.show(dataset_clsf_300.count() )\n",
        "dataset_clsf_300.repartition(1).count()\n",
        "\n",
        "# dataset_clsf_300.count()\n",
        "# dataset_clsf_300.groupBy(\"feat_cnt\").agg(F.count('feat_cnt')).show()"
      ],
      "execution_count": 37,
      "outputs": [
        {
          "output_type": "execute_result",
          "data": {
            "text/plain": [
              "914"
            ]
          },
          "metadata": {
            "tags": []
          },
          "execution_count": 37
        }
      ]
    },
    {
      "cell_type": "code",
      "metadata": {
        "id": "WU2wwXTqjHkE",
        "colab_type": "code",
        "colab": {
          "base_uri": "https://localhost:8080/",
          "height": 295
        },
        "outputId": "585b5426-dd48-4533-bd5e-4c2d052fb177"
      },
      "source": [
        "# set seed for reproducibility\n",
        "# train, test = dataset_clsf_300.randomSplit(weights=[0.6, 0.4], seed=100)\n",
        "# dataset_clsf_300 = dataset_clsf_300.where(\"'features' != ''\")\n",
        "(trainingData, testData) = dataset_clsf_300.select('features','label').randomSplit([0.7, 0.3], seed = 100)\n",
        "# print(\"Training Dataset Count: \" + str(trainingData.count()))\n",
        "# print(\"Test Dataset Count: \" + str(testData.count()))\n",
        "# train, test = dataset_clsf_300.randomSplit([0.6, 0.4], seed=100)\n",
        "trainingData.show(10)"
      ],
      "execution_count": 38,
      "outputs": [
        {
          "output_type": "stream",
          "text": [
            "+--------------------+-----+\n",
            "|            features|label|\n",
            "+--------------------+-----+\n",
            "|[-1.4458999633789...|  1.0|\n",
            "|[-1.4458999633789...|  1.0|\n",
            "|[-1.4133000373840...|  0.0|\n",
            "|[-1.4133000373840...|  1.0|\n",
            "|[-1.1246000528335...|  0.0|\n",
            "|[-1.1246000528335...|  0.0|\n",
            "|[-1.0274000167846...|  0.0|\n",
            "|[-1.0239000320434...|  1.0|\n",
            "|[-1.0221999883651...|  0.0|\n",
            "|[-1.0221999883651...|  1.0|\n",
            "+--------------------+-----+\n",
            "only showing top 10 rows\n",
            "\n"
          ],
          "name": "stdout"
        }
      ]
    },
    {
      "cell_type": "markdown",
      "metadata": {
        "id": "RUZykjGRHitl",
        "colab_type": "text"
      },
      "source": [
        "### Classification"
      ]
    },
    {
      "cell_type": "markdown",
      "metadata": {
        "id": "HAxiD5Y6_yMX",
        "colab_type": "text"
      },
      "source": [
        "### Logistic Regression"
      ]
    },
    {
      "cell_type": "code",
      "metadata": {
        "id": "LV8uISUrjS-p",
        "colab_type": "code",
        "colab": {
          "base_uri": "https://localhost:8080/",
          "height": 468
        },
        "outputId": "91a691c0-f74b-472e-80a9-094936cf3118"
      },
      "source": [
        "from pyspark.ml.classification import LogisticRegression\n",
        "lr = LogisticRegression(featuresCol = 'features', labelCol = 'label',maxIter=20, regParam=0.3, elasticNetParam=0   )\n",
        "lrModel = lr.fit(trainingData )\n",
        "predictions = lrModel.transform(testData)\n",
        "predictions.show()"
      ],
      "execution_count": 39,
      "outputs": [
        {
          "output_type": "stream",
          "text": [
            "+--------------------+-----+--------------------+--------------------+----------+\n",
            "|            features|label|       rawPrediction|         probability|prediction|\n",
            "+--------------------+-----+--------------------+--------------------+----------+\n",
            "|[-1.4133000373840...|  1.0|[0.18011826257669...|[0.20307986381041...|       1.0|\n",
            "|[-1.0450999736785...|  0.0|[1.55192936207155...|[0.82449296961378...|       0.0|\n",
            "|[-1.0450999736785...|  0.0|[1.76285783843587...|[0.86409869239263...|       0.0|\n",
            "|[-1.0274000167846...|  0.0|[1.94145810844685...|[0.88567595769158...|       0.0|\n",
            "|[-0.9553800225257...|  0.0|[1.70115928873997...|[0.84742921096153...|       0.0|\n",
            "|[-0.9553800225257...|  0.0|[1.75392762094477...|[0.78880049149050...|       0.0|\n",
            "|[-0.9500600099563...|  0.0|[1.94300759705219...|[0.88907757342817...|       0.0|\n",
            "|[-0.9112600088119...|  0.0|[1.10354640524622...|[0.63450027758745...|       0.0|\n",
            "|[-0.8597300052642...|  0.0|[2.02639715874940...|[0.90520844645175...|       0.0|\n",
            "|[-0.8597300052642...|  0.0|[2.58992430601689...|[0.94739871515421...|       0.0|\n",
            "|[-0.7604699730873...|  0.0|[1.13182260162532...|[0.66652357051389...|       0.0|\n",
            "|[-0.7462000250816...|  1.0|[1.98567116001548...|[0.83486325186074...|       0.0|\n",
            "|[-0.7205399870872...|  0.0|[1.50374869193629...|[0.77582785507855...|       0.0|\n",
            "|[-0.6838700175285...|  0.0|[1.01677285968290...|[0.62041427673427...|       0.0|\n",
            "|[-0.6812599897384...|  0.0|[1.18803536638589...|[0.74817166682115...|       0.0|\n",
            "|[-0.6721199750900...|  0.0|[1.97156172743590...|[0.90556795856142...|       0.0|\n",
            "|[-0.6666499972343...|  1.0|[0.78846806270395...|[0.39288328769061...|       1.0|\n",
            "|[-0.6666499972343...|  1.0|[1.06215867159166...|[0.53658840334059...|       0.0|\n",
            "|[-0.6666499972343...|  1.0|[1.43934971953389...|[0.62077416430663...|       0.0|\n",
            "|[-0.6666499972343...|  0.0|[1.10238868291070...|[0.48071229587290...|       1.0|\n",
            "+--------------------+-----+--------------------+--------------------+----------+\n",
            "only showing top 20 rows\n",
            "\n"
          ],
          "name": "stdout"
        }
      ]
    },
    {
      "cell_type": "code",
      "metadata": {
        "id": "TyfuQBQXWGU5",
        "colab_type": "code",
        "colab": {
          "base_uri": "https://localhost:8080/",
          "height": 35
        },
        "outputId": "21d58edd-ba40-4697-ee29-337ad861b89e"
      },
      "source": [
        "\n",
        "from pyspark.ml.evaluation import MulticlassClassificationEvaluator\n",
        "evaluator = MulticlassClassificationEvaluator(predictionCol=\"prediction\")\n",
        "evaluator.evaluate(predictions)\n",
        "# predictions.show()"
      ],
      "execution_count": 40,
      "outputs": [
        {
          "output_type": "execute_result",
          "data": {
            "text/plain": [
              "0.7389851834129001"
            ]
          },
          "metadata": {
            "tags": []
          },
          "execution_count": 40
        }
      ]
    },
    {
      "cell_type": "code",
      "metadata": {
        "id": "G2UR533PbXDJ",
        "colab_type": "code",
        "colab": {}
      },
      "source": [
        "# trainingSummary = lrModel.summary\n",
        "# roc = trainingSummary.roc.toPandas()\n",
        "# plt.plot(roc['FPR'],roc['TPR'])\n",
        "# plt.ylabel('False Positive Rate')\n",
        "# plt.xlabel('True Positive Rate')\n",
        "# plt.title('ROC Curve')\n",
        "# plt.show()\n",
        "# print('Training set areaUnderROC: ' + str(trainingSummary.areaUnderROC))"
      ],
      "execution_count": 41,
      "outputs": []
    },
    {
      "cell_type": "markdown",
      "metadata": {
        "id": "hGBCO3WODyop",
        "colab_type": "text"
      },
      "source": [
        "### Naive Bayes"
      ]
    },
    {
      "cell_type": "markdown",
      "metadata": {
        "id": "aJBCUrWuGDh9",
        "colab_type": "text"
      },
      "source": [
        "We can only use Naive Bayes for positive values, we have negative too."
      ]
    },
    {
      "cell_type": "code",
      "metadata": {
        "id": "KtpfiSjaD4Gg",
        "colab_type": "code",
        "colab": {}
      },
      "source": [
        "# from pyspark.ml.classification import NaiveBayes\n",
        "# nb = NaiveBayes(smoothing=1)\n",
        "# model = nb.fit(trainingData)\n",
        "# predictions = model.transform(testData)\n",
        "# # predictions.filter(predictions['prediction'] == 0) \\\n",
        "# #     .select(\"Descript\",\"Category\",\"probability\",\"label\",\"prediction\") \\\n",
        "# #     .orderBy(\"probability\", ascending=False) \\\n",
        "# #     .show(n = 10, truncate = 30)\n",
        "# predictions.show()"
      ],
      "execution_count": 42,
      "outputs": []
    },
    {
      "cell_type": "markdown",
      "metadata": {
        "id": "xaC8xG-oFewU",
        "colab_type": "text"
      },
      "source": [
        "### Random Forest"
      ]
    },
    {
      "cell_type": "code",
      "metadata": {
        "id": "g27o6p_mFhMa",
        "colab_type": "code",
        "colab": {
          "base_uri": "https://localhost:8080/",
          "height": 468
        },
        "outputId": "a04a7137-3c1a-481a-c766-771e35d5afc5"
      },
      "source": [
        "from pyspark.ml.classification import RandomForestClassifier\n",
        "algo = RandomForestClassifier(featuresCol='features', labelCol='label')\n",
        "model = algo.fit(trainingData)\n",
        "predictions = model.transform(testData)\n",
        "predictions.show()\n"
      ],
      "execution_count": 43,
      "outputs": [
        {
          "output_type": "stream",
          "text": [
            "+--------------------+-----+--------------------+--------------------+----------+\n",
            "|            features|label|       rawPrediction|         probability|prediction|\n",
            "+--------------------+-----+--------------------+--------------------+----------+\n",
            "|[-1.4133000373840...|  1.0|[10.6011790633411...|[0.53005895316705...|       0.0|\n",
            "|[-1.0450999736785...|  0.0|[13.3205999142761...|[0.66602999571380...|       0.0|\n",
            "|[-1.0450999736785...|  0.0|[14.6776950485847...|[0.73388475242923...|       0.0|\n",
            "|[-1.0274000167846...|  0.0|[16.2703581595259...|[0.81351790797629...|       0.0|\n",
            "|[-0.9553800225257...|  0.0|[13.1009087481838...|[0.65504543740919...|       0.0|\n",
            "|[-0.9553800225257...|  0.0|[13.7089888535221...|[0.68544944267610...|       0.0|\n",
            "|[-0.9500600099563...|  0.0|[15.9196445428366...|[0.79598222714183...|       0.0|\n",
            "|[-0.9112600088119...|  0.0|[11.5645187293729...|[0.57822593646864...|       0.0|\n",
            "|[-0.8597300052642...|  0.0|[16.4745311436146...|[0.82372655718073...|       0.0|\n",
            "|[-0.8597300052642...|  0.0|[14.5239805655378...|[0.72619902827689...|       0.0|\n",
            "|[-0.7604699730873...|  0.0|[14.2504878469847...|[0.71252439234923...|       0.0|\n",
            "|[-0.7462000250816...|  1.0|[13.7626449456956...|[0.68813224728478...|       0.0|\n",
            "|[-0.7205399870872...|  0.0|[13.2159067141599...|[0.66079533570799...|       0.0|\n",
            "|[-0.6838700175285...|  0.0|[14.3502527396741...|[0.71751263698370...|       0.0|\n",
            "|[-0.6812599897384...|  0.0|[15.3395323163028...|[0.76697661581514...|       0.0|\n",
            "|[-0.6721199750900...|  0.0|[15.9217467285347...|[0.79608733642673...|       0.0|\n",
            "|[-0.6666499972343...|  1.0|[5.93263493818921...|[0.29663174690946...|       1.0|\n",
            "|[-0.6666499972343...|  1.0|[6.89017539564112...|[0.34450876978205...|       1.0|\n",
            "|[-0.6666499972343...|  1.0|[7.39163337118759...|[0.36958166855937...|       1.0|\n",
            "|[-0.6666499972343...|  0.0|[14.4449611516902...|[0.72224805758451...|       0.0|\n",
            "+--------------------+-----+--------------------+--------------------+----------+\n",
            "only showing top 20 rows\n",
            "\n"
          ],
          "name": "stdout"
        }
      ]
    },
    {
      "cell_type": "code",
      "metadata": {
        "id": "s3XlC8QTG3tb",
        "colab_type": "code",
        "colab": {
          "base_uri": "https://localhost:8080/",
          "height": 35
        },
        "outputId": "45ccefc6-ee66-4c51-c09c-334d580289db"
      },
      "source": [
        "from pyspark.ml.evaluation import MulticlassClassificationEvaluator\n",
        "evaluator = MulticlassClassificationEvaluator(predictionCol=\"prediction\")\n",
        "accracy = evaluator.evaluate(predictions)\n",
        "accracy"
      ],
      "execution_count": 44,
      "outputs": [
        {
          "output_type": "execute_result",
          "data": {
            "text/plain": [
              "0.7118700077924542"
            ]
          },
          "metadata": {
            "tags": []
          },
          "execution_count": 44
        }
      ]
    },
    {
      "cell_type": "code",
      "metadata": {
        "id": "WfNX8oHhGrQj",
        "colab_type": "code",
        "colab": {
          "base_uri": "https://localhost:8080/",
          "height": 191
        },
        "outputId": "5279b3d5-2bc1-4ba0-fa53-b5b47159fc87"
      },
      "source": [
        "# #important: need to cast to float type, and order by prediction, else it won't work\n",
        "# preds_and_labels = predictions.select(['prediction','d']).withColumn('label', F.col('d').cast(FloatType())).orderBy('prediction')\n",
        "\n",
        "# #select only prediction and label columns\n",
        "# preds_and_labels = preds_and_labels.select(['prediction','label'])\n",
        "\n",
        "# metrics = MultiClassMetrics(preds_and_labels.rdd.map(tuple))\n",
        "\n",
        "y_true = predictions.select(['label']).collect()\n",
        "y_pred = predictions.select(['prediction']).collect()\n",
        "\n",
        "from sklearn.metrics import classification_report, confusion_matrix\n",
        "print(classification_report(y_true, y_pred))"
      ],
      "execution_count": 45,
      "outputs": [
        {
          "output_type": "stream",
          "text": [
            "              precision    recall  f1-score   support\n",
            "\n",
            "         0.0       0.78      0.99      0.87       223\n",
            "         1.0       0.60      0.06      0.10        53\n",
            "         2.0       1.00      0.07      0.12        15\n",
            "\n",
            "    accuracy                           0.77       291\n",
            "   macro avg       0.79      0.37      0.37       291\n",
            "weighted avg       0.76      0.77      0.69       291\n",
            "\n"
          ],
          "name": "stdout"
        }
      ]
    },
    {
      "cell_type": "markdown",
      "metadata": {
        "id": "P1K86GCzLAiN",
        "colab_type": "text"
      },
      "source": [
        "## Approach 2: Embeddings > Top 3"
      ]
    },
    {
      "cell_type": "markdown",
      "metadata": {
        "id": "oIepLRQ1MMAa",
        "colab_type": "text"
      },
      "source": [
        "Start with creating embeddings first"
      ]
    },
    {
      "cell_type": "code",
      "metadata": {
        "id": "mtQQZkBYrkWU",
        "colab_type": "code",
        "colab": {
          "base_uri": "https://localhost:8080/",
          "height": 451
        },
        "outputId": "2838a975-6ba9-42a2-9d2d-e77650e88243"
      },
      "source": [
        "assembler = DocumentAssembler().setInputCol('text').setOutputCol('document')\n",
        "\n",
        "sentence_detector = SentenceDetector().setInputCols([\"document\"]).setOutputCol(\"sentence\")\n",
        "\n",
        "tokenizer = Tokenizer().setInputCols(['document']).setOutputCol('token')#.setTargetPattern('/\\b(\\?You were looking)\\b/')#.setExceptionsPath('/content/MyDrive/SparkNLP/entities.txt')\n",
        "\n",
        "spell_chk = NorvigSweetingModel().pretrained().setInputCols(['token']).setOutputCol('corrected')\n",
        "\n",
        "lemmatizer = LemmatizerModel().pretrained().setInputCols(['corrected']).setOutputCol('lemma')\n",
        "\n",
        "normalizer = Normalizer().setInputCols(['lemma']).setOutputCol('normalized').setLowercase(True)\n",
        "\n",
        "stop_wrd = list( stopwords.words('english'))\n",
        "\n",
        "stop_words_cleaner = StopWordsCleaner().setInputCols([\"normalized\"]).setOutputCol(\"cleanTokens\").setCaseSensitive(False).setStopWords(stop_wrd)\n",
        "\n",
        "embed = WordEmbeddingsModel.pretrained().setInputCols(['document',\"token\"]).setOutputCol(\"embeddings\")\n",
        "embeddings_finisher = EmbeddingsFinisher().setInputCols([\"embeddings\"]).setOutputCols([\"embeddings\"]).setOutputAsVector(True).setCleanAnnotations(False)\n",
        "\n",
        "finisher = Finisher().setInputCols(['cleanTokens']).setOutputCols(['cleanTokens']).setOutputAsArray(True).setCleanAnnotations(True)\n",
        "\n",
        "pipeline_embd = Pipeline().setStages([ assembler, tokenizer, spell_chk , lemmatizer, normalizer,stop_words_cleaner,embed,embeddings_finisher,finisher ]) \n",
        "model_trans_tfIdf_2 = pipeline_embd.fit(song_data) \n",
        "model_trans_tfIdf_2 = model_trans_tfIdf_2.transform(song_data) \n",
        "model_trans_tfIdf_2.show(10)\n",
        "# model_trans_tfIdf_2.select('embeddings').show(10,truncate = False)"
      ],
      "execution_count": 56,
      "outputs": [
        {
          "output_type": "stream",
          "text": [
            "spellcheck_norvig download started this may take some time.\n",
            "Approximate size to download 4.2 MB\n",
            "[OK!]\n",
            "lemma_antbnc download started this may take some time.\n",
            "Approximate size to download 907.6 KB\n",
            "[OK!]\n",
            "glove_100d download started this may take some time.\n",
            "Approximate size to download 145.3 MB\n",
            "[OK!]\n",
            "+--------------------+--------------------+-----+--------------------+--------------------+\n",
            "|                 Key|                text|Genre|         cleanTokens|          embeddings|\n",
            "+--------------------+--------------------+-----+--------------------+--------------------+\n",
            "|10000 maniacs_Mor...|I could feel at t...| Rock|[could, feel, tim...|[[-0.046539001166...|\n",
            "|10000 maniacs_Bec...|Take me now, baby...| Rock|[take, baby, hold...|[[-0.270639985799...|\n",
            "|jamiroquai_Rock D...|And it's coming a...|  Pop|[come, baby, yeah...|[[-0.071952998638...|\n",
            "|10000 maniacs_The...|These are. These ...| Rock|[day, youll, reme...|[[-0.604569971561...|\n",
            "|10000 maniacs_Eve...|Trudging slowly o...| Rock|[grudge, slowly, ...|[[-0.136580005288...|\n",
            "|10000 maniacs_Don...|Don't talk, I wil...| Rock|[donut, talk, lis...|[[0.0,0.0,0.0,0.0...|\n",
            "|black veil brides...|Have we begun to ...| Rock|[begin, drift, aw...|[[0.1571100056171...|\n",
            "|lynyrd skynyrd_I ...|Ain't no need to ...| Rock|[aint, need, worr...|[[0.0,0.0,0.0,0.0...|\n",
            "|10000 maniacs_Acr...|Well they left th...| Rock|[well, leave, mor...|[[-0.530860006809...|\n",
            "|10000 maniacs_Pla...|[ music: Dennis D...| Rock|[music, dennis, d...|[[-0.287259995937...|\n",
            "+--------------------+--------------------+-----+--------------------+--------------------+\n",
            "only showing top 10 rows\n",
            "\n"
          ],
          "name": "stdout"
        }
      ]
    },
    {
      "cell_type": "markdown",
      "metadata": {
        "id": "EF2UIViJQbU9",
        "colab_type": "text"
      },
      "source": [
        "1. Create TFIDF\n",
        "2. pick top 3 position where rank is max\n",
        "3. pick embeddings for that top 3 position\n",
        "4. map it to original words"
      ]
    },
    {
      "cell_type": "code",
      "metadata": {
        "id": "Vs0YLwqiQeXs",
        "colab_type": "code",
        "colab": {
          "base_uri": "https://localhost:8080/",
          "height": 468
        },
        "outputId": "00063054-d24e-454d-d357-bfdba6571e81"
      },
      "source": [
        "from pyspark.ml.feature import CountVectorizer, IDF\n",
        "\n",
        "count_vectorizer = CountVectorizer(inputCol='cleanTokens', outputCol='tf', minDF=10)\n",
        "cvmodel = count_vectorizer.fit(model_trans_tfIdf_2)\n",
        "idf = IDF(inputCol='tf', outputCol='features', minDocFreq=10)\n",
        "# finisher_idf = Finisher().setInputCols(['features']).setOutputCols(['tfidf']) finisher is for sparkNLP not spark ML\n",
        "bow_pipeline_2 = Pipeline().setStages([count_vectorizer, idf])\n",
        "bow_pipeline_2 = bow_pipeline_2.fit(model_trans_tfIdf_2)\n",
        "\n",
        "bows_2 = bow_pipeline_2.transform(model_trans_tfIdf_2)\n",
        "bows_2.show()"
      ],
      "execution_count": 57,
      "outputs": [
        {
          "output_type": "stream",
          "text": [
            "+--------------------+--------------------+-------+--------------------+--------------------+--------------------+--------------------+\n",
            "|                 Key|                text|  Genre|         cleanTokens|          embeddings|                  tf|            features|\n",
            "+--------------------+--------------------+-------+--------------------+--------------------+--------------------+--------------------+\n",
            "|10000 maniacs_Mor...|I could feel at t...|   Rock|[could, feel, tim...|[[-0.046539001166...|(882,[0,1,3,4,8,1...|(882,[0,1,3,4,8,1...|\n",
            "|10000 maniacs_Bec...|Take me now, baby...|   Rock|[take, baby, hold...|[[-0.270639985799...|(882,[0,6,7,10,12...|(882,[0,6,7,10,12...|\n",
            "|jamiroquai_Rock D...|And it's coming a...|    Pop|[come, baby, yeah...|[[-0.071952998638...|(882,[0,1,2,3,4,5...|(882,[0,1,2,3,4,5...|\n",
            "|10000 maniacs_The...|These are. These ...|   Rock|[day, youll, reme...|[[-0.604569971561...|(882,[1,9,11,15,1...|(882,[1,9,11,15,1...|\n",
            "|10000 maniacs_Eve...|Trudging slowly o...|   Rock|[grudge, slowly, ...|[[-0.136580005288...|(882,[4,12,24,80,...|(882,[4,12,24,80,...|\n",
            "|10000 maniacs_Don...|Don't talk, I wil...|   Rock|[donut, talk, lis...|[[0.0,0.0,0.0,0.0...|(882,[0,1,3,5,9,1...|(882,[0,1,3,5,9,1...|\n",
            "|black veil brides...|Have we begun to ...|   Rock|[begin, drift, aw...|[[0.1571100056171...|(882,[2,3,4,6,8,1...|(882,[2,3,4,6,8,1...|\n",
            "|lynyrd skynyrd_I ...|Ain't no need to ...|   Rock|[aint, need, worr...|[[0.0,0.0,0.0,0.0...|(882,[0,1,2,3,6,7...|(882,[0,1,2,3,6,7...|\n",
            "|10000 maniacs_Acr...|Well they left th...|   Rock|[well, leave, mor...|[[-0.530860006809...|(882,[3,7,17,20,2...|(882,[3,7,17,20,2...|\n",
            "|10000 maniacs_Pla...|[ music: Dennis D...|   Rock|[music, dennis, d...|[[-0.287259995937...|(882,[9,11,23,45,...|(882,[9,11,23,45,...|\n",
            "|10000 maniacs_Rai...|On bended kneeI'v...|   Rock|[bend, kneeive, l...|[[-0.218630000948...|(882,[4,7,12,22,3...|(882,[4,7,12,22,3...|\n",
            "|twista_Back 2 School|[Tung Twista]. ba...|Hip Hop|[tung, twista, ba...|[[0.0,0.0,0.0,0.0...|(882,[0,1,2,3,4,7...|(882,[0,1,2,3,4,7...|\n",
            "|10000 maniacs_Ant...|For whom do the b...|   Rock|[bell, toll, sent...|[[-0.144010007381...|(882,[4,9,11,16,1...|(882,[4,9,11,16,1...|\n",
            "|10000 maniacs_All...|She walks alone o...|   Rock|[walk, alone, bri...|[[0.3143599927425...|(882,[1,3,4,7,9,1...|(882,[1,3,4,7,9,1...|\n",
            "|10000 maniacs_Bac...|Jenny. Jenny you ...|   Rock|[jenny, jenny, do...|[[0.2653599977493...|(882,[0,1,2,5,8,9...|(882,[0,1,2,5,8,9...|\n",
            "|cyndi lauper_True...|You with the sad ...|    Pop|[sad, eye, donut,...|[[-0.498860001564...|(882,[1,4,5,6,7,1...|(882,[1,4,5,6,7,1...|\n",
            "|10000 maniacs_A R...|You were looking ...|   Rock|[look, away, west...|[[-0.498860001564...|(882,[0,1,8,11,12...|(882,[0,1,8,11,12...|\n",
            "|rick astley_She M...|She makes me more...|    Pop|[make, could, eve...|[[0.3143599927425...|(882,[0,4,7,9,11,...|(882,[0,4,7,9,11,...|\n",
            "|steve earle_Nothi...|I'm the keeper of...|   Rock|[im, keeper, hear...|[[0.0,0.0,0.0,0.0...|(882,[0,5,8,10,19...|(882,[0,5,8,10,19...|\n",
            "|10000 maniacs_Mad...|\"the legs of Madd...|   Rock|[leg, maddox, kit...|[[-0.304569989442...|(882,[3,11,16,21,...|(882,[3,11,16,21,...|\n",
            "+--------------------+--------------------+-------+--------------------+--------------------+--------------------+--------------------+\n",
            "only showing top 20 rows\n",
            "\n"
          ],
          "name": "stdout"
        }
      ]
    },
    {
      "cell_type": "code",
      "metadata": {
        "id": "_8g1Ol6JTN2U",
        "colab_type": "code",
        "colab": {
          "base_uri": "https://localhost:8080/",
          "height": 468
        },
        "outputId": "b3596a48-0869-4a28-fe6f-edd41632d8f9"
      },
      "source": [
        "from collections import Counter\n",
        "from pyspark.sql.functions import udf, explode\n",
        "from pyspark.ml.linalg import SparseVector, DenseVector\n",
        "from pyspark.sql.types import *\n",
        "\n",
        "@udf(ArrayType(IntegerType()))\n",
        "def get_pos_top3(v):\n",
        "  #  if isinstance(v, SparseVector):\n",
        "    rank = v.values.tolist()\n",
        "    top_3_pos =sorted( sorted(range(len(rank)), key=lambda i: rank[i])[-3:])\n",
        "      # K = dict(zip(v.indices.tolist(), v.values.tolist()))\n",
        "      # top3 = sorted(K, key=K.get, reverse=True)[:3]\n",
        "    return top_3_pos\n",
        "  #  elif isinstance(v, DenseVector):\n",
        "  #     L =dict(zip(range(len(v)), v.values.tolist()))\n",
        "  #     top3 = sorted(L, key=L.get, reverse=True)[:3]\n",
        "  #     return top3 \n",
        "\n",
        "bows_wrdlevel_2 = bows_2.select(\"Key\",'Genre', get_pos_top3(\"features\").alias(\"top3_pos\"),'embeddings')\n",
        "bows_wrdlevel_2.na.drop(subset=[\"top3_pos\"])\n",
        "bows_wrdlevel_2.show()\n",
        "# bows_wrdlevel_2.select('embeddings').show(truncate = False)"
      ],
      "execution_count": 58,
      "outputs": [
        {
          "output_type": "stream",
          "text": [
            "+--------------------+-------+------------+--------------------+\n",
            "|                 Key|  Genre|    top3_pos|          embeddings|\n",
            "+--------------------+-------+------------+--------------------+\n",
            "|10000 maniacs_Mor...|   Rock|[16, 17, 28]|[[-0.046539001166...|\n",
            "|10000 maniacs_Bec...|   Rock|[13, 30, 33]|[[-0.270639985799...|\n",
            "|jamiroquai_Rock D...|    Pop|[50, 74, 75]|[[-0.071952998638...|\n",
            "|10000 maniacs_The...|   Rock| [8, 19, 33]|[[-0.604569971561...|\n",
            "|10000 maniacs_Eve...|   Rock|[11, 18, 20]|[[-0.136580005288...|\n",
            "|10000 maniacs_Don...|   Rock|[17, 34, 66]|[[0.0,0.0,0.0,0.0...|\n",
            "|black veil brides...|   Rock| [3, 16, 35]|[[0.1571100056171...|\n",
            "|lynyrd skynyrd_I ...|   Rock| [4, 16, 20]|[[0.0,0.0,0.0,0.0...|\n",
            "|10000 maniacs_Acr...|   Rock|[24, 27, 31]|[[-0.530860006809...|\n",
            "|10000 maniacs_Pla...|   Rock| [7, 19, 20]|[[-0.287259995937...|\n",
            "|10000 maniacs_Rai...|   Rock| [8, 17, 31]|[[-0.218630000948...|\n",
            "|twista_Back 2 School|Hip Hop|[45, 55, 68]|[[0.0,0.0,0.0,0.0...|\n",
            "|10000 maniacs_Ant...|   Rock|[22, 47, 52]|[[-0.144010007381...|\n",
            "|10000 maniacs_All...|   Rock|[18, 29, 47]|[[0.3143599927425...|\n",
            "|10000 maniacs_Bac...|   Rock|[58, 62, 74]|[[0.2653599977493...|\n",
            "|cyndi lauper_True...|    Pop|[26, 28, 34]|[[-0.498860001564...|\n",
            "|10000 maniacs_A R...|   Rock|[15, 26, 41]|[[-0.498860001564...|\n",
            "|rick astley_She M...|    Pop|[12, 31, 32]|[[0.3143599927425...|\n",
            "|steve earle_Nothi...|   Rock| [0, 17, 29]|[[0.0,0.0,0.0,0.0...|\n",
            "|10000 maniacs_Mad...|   Rock|[38, 58, 60]|[[-0.304569989442...|\n",
            "+--------------------+-------+------------+--------------------+\n",
            "only showing top 20 rows\n",
            "\n"
          ],
          "name": "stdout"
        }
      ]
    },
    {
      "cell_type": "markdown",
      "metadata": {
        "id": "XIiXVW-3scRz",
        "colab_type": "text"
      },
      "source": [
        "Select embeddings at those top 3 positions"
      ]
    },
    {
      "cell_type": "code",
      "metadata": {
        "id": "FKGpybZJsfk2",
        "colab_type": "code",
        "colab": {
          "base_uri": "https://localhost:8080/",
          "height": 488
        },
        "outputId": "1e730332-628b-438a-995a-e3c7c7f26494"
      },
      "source": [
        "from collections import Counter\n",
        "from pyspark.sql.functions import udf, explode\n",
        "from pyspark.sql.functions import struct, array\n",
        "from pyspark.ml.linalg import SparseVector, DenseVector\n",
        "from pyspark.sql.types import *\n",
        "from pyspark.ml.linalg import Vectors, VectorUDT\n",
        "\n",
        "# @udf(ArrayType(ArrayType(FloatType())))\n",
        "# @udf(ArrayType(IntegerType()))\n",
        "# @udf(StringType())\n",
        "# @udf(IntegerType())\n",
        "@udf(VectorUDT())\n",
        "def get_embd_top3(v):\n",
        "  \n",
        "  # merged = list(itertools.chain(*embedd))\n",
        "  # merged = functools.reduce(operator.iconcat, embd_vec, [])\n",
        "  # mer_floats = [float(np_float) for np_float in merged]\n",
        "  # ver = Vectors.dense(mer_floats)\n",
        "  #create list of list from embedding using positions\n",
        "  indices = v[0]\n",
        "  embedd = v[1]\n",
        "  embd_top3 = []\n",
        "  \n",
        "  for i in indices:\n",
        "    sublist = [float(np_float) for np_float in embedd[i]]\n",
        "    embd_top3.append(sublist)\n",
        "  \n",
        "  #flatten out the list\n",
        "  merged = list(itertools.chain(*embd_top3))\n",
        "  \n",
        "  #convert to vector and send\n",
        "  ver = Vectors.dense(merged)\n",
        "\n",
        "  # tp = type(merged[0])\n",
        "  return ver\n",
        "  # return str(tp)\n",
        "  # return len(merged) \n",
        "\n",
        "bows_embed_2 = bows_wrdlevel_2.select(\"Key\",'Genre', get_embd_top3(struct('top3_pos', 'embeddings')).alias(\"features\"))\n",
        "bows_embed_2.na.drop(subset=[\"features\"])\n",
        "bows_embed_2.show(truncate = False)\n",
        "# bows_wrdlevel_2.select('embeddings').show(truncate = False)"
      ],
      "execution_count": 87,
      "outputs": [
        {
          "output_type": "stream",
          "text": [
            "+-------------------------------------+-------+------------------------------------------------------------------------------------------------------------------------------------------------------------------------------------------------------------------------------------------------------------------------------------------------------------------------------------------------------------------------------------------------------------------------------------------------------------------------------------------------------------------------------------------------------------------------------------------------------------------------------------------------------------------------------------------------------------------------------------------------------------------------------------------------------------------------------------------------------------------------------------------------------------------------------------------------------------------------------------------------------------------------------------------------------------------------------------------------------------------------------------------------------------------------------------------------------------------------------------------------------------------------------------------------------------------------------------------------------------------------------------------------------------------------------------------------------------------------------------------------------------------------------------------------------------------------------------------------------------------------------------------------------------------------------------------------------------------------------------------------------------------------------------------------------------------------------------------------------------------------------------------------------------------------------------------------------------------------------------------------------------------------------------------------------------------------------------------------------------------------------------------------------------------------------------------------------------------------------------------------------------------------------------------------------------------------------------------------------------------------------------------------------------------------------------------------------------------------------------------------------------------------------------------------------------------------------------------------------------------------------------------------------------------------------------------------------------------------------------------------------------------------------------------------------------------------------------------------------------------------------------------------------------------------------------------------------------------------------------------------------------------------------------------------------------------------------------------------------------------------------------------------------------------------------------------------------------------------------------------------------------------------------------------------------------------------------------------------------------------------------------------------------------------------------------------------------------------------------------------------------------------------------------------------------------------------------------------------------------------------------------------------------------------------------------------------------------------------------------------------------------------------------------------------------------------------------------------------------------------------------------------------------------------------------------------------------------------------------------------------------------------------------------------------------------------------------------------------------------------------------------------------------------------------------------------------------------------------------------------------------------------------------------------------------------------------------------------------------------------------------------------------------------------------------------------------------------------------------------------------------------------------------------------------------------------------------------------------------------------------------------------------------------------------------------------------------------------------------------------------------------------------------------------------------------------------------------------------------------------------------------------------------------------------------------------------------------------------------------------------------------------------------------------------------------------------------------------------------------------------------------------------------------------------------------------------------------------------------------------------------------------------------------------------------------------------------------------------------------------------------------------------------------------------------------------------------------------------------------------------------------------------------------------------------------------------------------------------------------------------------------------------------------------------------------------------------------------------------------------------------------------------------------------------------------------------------------------------------------------------------------------------------------------------------------------------------------------------------------------------------------------------------------------------------------------------------------------------------------------------------------------------------------------------------------------------------------------------------------------------------+\n",
            "|Key                                  |Genre  |features                                                                                                                                                                                                                                                                                                                                                                                                                                                                                                                                                                                                                                                                                                                                                                                                                                                                                                                                                                                                                                                                                                                                                                                                                                                                                                                                                                                                                                                                                                                                                                                                                                                                                                                                                                                                                                                                                                                                                                                                                                                                                                                                                                                                                                                                                                                                                                                                                                                                                                                                                                                                                                                                                                                                                                                                                                                                                                                                                                                                                                                                                                                                                                                                                                                                                                                                                                                                                                                                                                                                                                                                                                                                                                                                                                                                                                                                                                                                                                                                                                                                                                                                                                                                                                                                                                                                                                                                                                                                                                                                                                                                                                                                                                                                                                                                                                                                                                                                                                                                                                                                                                                                                                                                                                                                                                                                                                                                                                                                                                                                                                                                                                                                                                                                                                                                                                                                                                                                                                                                                                                                                                                                                                                                                                              |\n",
            "+-------------------------------------+-------+------------------------------------------------------------------------------------------------------------------------------------------------------------------------------------------------------------------------------------------------------------------------------------------------------------------------------------------------------------------------------------------------------------------------------------------------------------------------------------------------------------------------------------------------------------------------------------------------------------------------------------------------------------------------------------------------------------------------------------------------------------------------------------------------------------------------------------------------------------------------------------------------------------------------------------------------------------------------------------------------------------------------------------------------------------------------------------------------------------------------------------------------------------------------------------------------------------------------------------------------------------------------------------------------------------------------------------------------------------------------------------------------------------------------------------------------------------------------------------------------------------------------------------------------------------------------------------------------------------------------------------------------------------------------------------------------------------------------------------------------------------------------------------------------------------------------------------------------------------------------------------------------------------------------------------------------------------------------------------------------------------------------------------------------------------------------------------------------------------------------------------------------------------------------------------------------------------------------------------------------------------------------------------------------------------------------------------------------------------------------------------------------------------------------------------------------------------------------------------------------------------------------------------------------------------------------------------------------------------------------------------------------------------------------------------------------------------------------------------------------------------------------------------------------------------------------------------------------------------------------------------------------------------------------------------------------------------------------------------------------------------------------------------------------------------------------------------------------------------------------------------------------------------------------------------------------------------------------------------------------------------------------------------------------------------------------------------------------------------------------------------------------------------------------------------------------------------------------------------------------------------------------------------------------------------------------------------------------------------------------------------------------------------------------------------------------------------------------------------------------------------------------------------------------------------------------------------------------------------------------------------------------------------------------------------------------------------------------------------------------------------------------------------------------------------------------------------------------------------------------------------------------------------------------------------------------------------------------------------------------------------------------------------------------------------------------------------------------------------------------------------------------------------------------------------------------------------------------------------------------------------------------------------------------------------------------------------------------------------------------------------------------------------------------------------------------------------------------------------------------------------------------------------------------------------------------------------------------------------------------------------------------------------------------------------------------------------------------------------------------------------------------------------------------------------------------------------------------------------------------------------------------------------------------------------------------------------------------------------------------------------------------------------------------------------------------------------------------------------------------------------------------------------------------------------------------------------------------------------------------------------------------------------------------------------------------------------------------------------------------------------------------------------------------------------------------------------------------------------------------------------------------------------------------------------------------------------------------------------------------------------------------------------------------------------------------------------------------------------------------------------------------------------------------------------------------------------------------------------------------------------------------------------------------------------------------------------------------------------------------------+\n",
            "|10000 maniacs_More Than This         |Rock   |[0.08570300042629242,-0.22201000154018402,0.16569000482559204,0.1337299942970276,0.38238999247550964,0.3540099859237671,0.01286999974399805,0.22461000084877014,-0.4381699860095978,0.5016400218009949,-0.3587400019168854,-0.3498300015926361,0.05515599995851517,0.6964799761772156,-0.17958000302314758,0.06792599707841873,0.39100998640060425,0.1603900045156479,-0.26635000109672546,-0.2113800048828125,0.5369799733161926,0.49379000067710876,0.9366000294685364,0.6690199971199036,0.21793000400066376,-0.4664199948310852,0.22382999956607819,-0.3620400130748749,-0.17655999958515167,0.17479999363422394,-0.20366999506950378,0.13931000232696533,0.019832000136375427,-0.10412999987602234,-0.20243999361991882,0.550029993057251,-0.15459999442100525,0.986549973487854,-0.2686299979686737,-0.29089999198913574,-0.3286600112915039,-0.3418799936771393,-0.16943000257015228,-0.4200100004673004,-0.046727001667022705,-0.1632699966430664,0.7082399725914001,-0.7491099834442139,-0.09155900031328201,-0.9617800116539001,-0.19746999442577362,0.1028200015425682,0.5522099733352661,1.381600022315979,-0.6563599705696106,-3.250200033187866,-0.3155600130558014,-1.2055000066757202,1.770900011062622,0.4025999903678894,-0.7982699871063232,1.1597000360488892,-0.33041998744010925,0.3138200044631958,0.773859977722168,0.22595000267028809,0.5247099995613098,-0.034053001552820206,0.32047998905181885,0.07994800060987473,0.1775200068950653,-0.4942600131034851,-0.7004500031471252,-0.44569000601768494,0.17244000732898712,0.20277999341487885,0.023291999474167824,-0.20677000284194946,-1.0157999992370605,0.18324999511241913,0.567520022392273,0.31821000576019287,-0.6501100063323975,0.6827700138092041,-0.8658499717712402,-0.05939200147986412,-0.29264000058174133,-0.5566800236701965,-0.3470500111579895,-0.3289499878883362,0.4021500051021576,-0.12746000289916992,-0.20227999985218048,0.8736799955368042,-0.5450000166893005,0.7920500040054321,-0.20694999396800995,-0.0742729976773262,0.758080005645752,-0.3424299955368042,-0.03819400072097778,-0.24487000703811646,0.7281200289726257,-0.3996100127696991,0.08317200094461441,0.043953001499176025,-0.3914099931716919,0.3343999981880188,-0.5754500031471252,0.08745899796485901,0.28786998987197876,-0.06730999797582626,0.3090600073337555,-0.263839989900589,-0.13231000304222107,-0.20757000148296356,0.333950012922287,-0.33847999572753906,-0.3174299895763397,-0.4833599925041199,0.14640000462532043,-0.37303999066352844,0.345770001411438,0.05204100161790848,0.4494599997997284,-0.46970999240875244,0.026280000805854797,-0.5415499806404114,-0.15518000721931458,-0.14106999337673187,-0.03972199931740761,0.2827700078487396,0.14393000304698944,0.2346400022506714,-0.3102099895477295,0.08617299795150757,0.20397000014781952,0.5262399911880493,0.17163999378681183,-0.08237800002098083,-0.7178699970245361,-0.41530999541282654,0.2033499926328659,-0.12762999534606934,0.41367000341415405,0.5518699884414673,0.5790799856185913,-0.33476999402046204,-0.36559000611305237,-0.5485699772834778,-0.06289199739694595,0.26583999395370483,0.30204999446868896,0.9977499842643738,-0.8048099875450134,-3.0243000984191895,0.012539999559521675,-0.36941999197006226,2.2167000770568848,0.7220100164413452,-0.24977999925613403,0.9213600158691406,0.03451399877667427,0.46744999289512634,1.1079000234603882,-0.1935800015926361,-0.07457499951124191,0.23352999985218048,-0.05206200107932091,-0.22044000029563904,0.057162001729011536,-0.1580599993467331,-0.3079800009727478,-0.41624999046325684,0.379720002412796,0.1500599980354309,-0.5321199893951416,-0.20550000667572021,-1.2525999546051025,0.07162400335073471,0.7056499719619751,0.49744001030921936,-0.42063000798225403,0.2614800035953522,-1.5379999876022339,-0.30223000049591064,-0.07343800365924835,-0.2831200063228607,0.3710399866104126,-0.25216999650001526,0.016215000301599503,-0.01709900051355362,-0.3898400068283081,0.874239981174469,-0.7256900072097778,-0.5105800032615662,-0.5202800035476685,-0.14589999616146088,0.8277999758720398,0.2706199884414673,0.16056999564170837,0.13030000030994415,0.07715000212192535,-0.6942700147628784,0.4951399862766266,0.46281999349594116,0.3143799901008606,-0.010989000089466572,-0.18431000411510468,-0.2787100076675415,0.2034599930047989,0.22696000337600708,0.043522998690605164,-0.09361399710178375,0.4347800016403198,0.2612200081348419,0.35743001103401184,-0.10840000212192535,-0.7199100255966187,-0.5455099940299988,0.13280999660491943,0.27250999212265015,0.10817000269889832,0.007680300157517195,0.33750998973846436,0.21585999429225922,-0.2957899868488312,-0.6892499923706055,0.1080700010061264,0.07516200095415115,-0.29155001044273376,1.3457000255584717,-0.18036000430583954,0.08542100340127945,0.9646300077438354,-0.12585000693798065,-0.08517800271511078,0.6034899950027466,-0.7753900289535522,-0.2592799961566925,-0.23714999854564667,0.07293900102376938,0.17342999577522278,-0.15102000534534454,0.03324100002646446,-0.7026799917221069,-0.32607001066207886,-0.48482000827789307,0.45781999826431274,-0.10717999935150146,0.2177799940109253,0.5523300170898438,-0.6601300239562988,0.052083998918533325,-0.19623999297618866,-2.2202999591827393,0.12812000513076782,-0.2102299928665161,2.727799892425537,0.016714999452233315,-0.19847999513149261,0.0966930016875267,-0.5912299752235413,-0.5620399713516235,0.9022899866104126,-0.020339999347925186,0.6628000140190125,-0.4154199957847595,0.04577900096774101,-0.8063399791717529,-0.14746999740600586,-0.5370200276374817,0.24233999848365784,-0.2962000072002411,0.1439799964427948,0.1990399956703186,-0.40790000557899475,-0.18095000088214874,-0.9312199950218201,-0.6701899766921997,0.9094099998474121,0.28534001111984253,-0.2845799922943115,0.15275000035762787,-1.0397000312805176,0.6190000176429749,0.4194999933242798,0.43748000264167786,-0.059606000781059265,-0.36274001002311707,-0.12815000116825104,-0.49595001339912415,-0.15263999998569489,-0.26980000734329224,-0.9065899848937988,-0.45837000012397766,0.4824100136756897,0.0218959990888834,0.670490026473999,0.030470000579953194]|\n",
            "|10000 maniacs_Because The Night      |Rock   |[0.16274000704288483,0.11311999708414078,0.18291999399662018,0.47503000497817993,0.13765999674797058,-0.3559800088405609,-0.219760000705719,0.0655289962887764,-0.2980799973011017,-0.10717999935150146,0.2832599878311157,0.09245000034570694,0.35833001136779785,-0.2808600068092346,0.2999500036239624,-0.6086199879646301,-0.11749999970197678,-0.8461800217628479,-0.40233999490737915,0.6275200247764587,0.8082200288772583,0.36594000458717346,0.2198300063610077,-0.11017999798059464,0.3700999915599823,-0.40097999572753906,-0.2732599973678589,-0.469870001077652,0.3326300084590912,0.054405998438596725,0.026774000376462936,0.02793099917471409,0.3579399883747101,0.0962740033864975,0.43727999925613403,0.20016999542713165,0.3552500009536743,-0.39315998554229736,-0.10045000165700912,0.3843800127506256,-0.07032900303602219,-0.7765700221061707,0.3578000068664551,-0.20942999422550201,-0.3228299915790558,0.04554799944162369,0.14435000717639923,0.44530001282691956,-0.0685259997844696,-1.2348999977111816,0.2929700016975403,-0.5110999941825867,0.4533100128173828,1.2063000202178955,-0.5378400087356567,-2.509399890899658,-0.5221800208091736,-0.3432900011539459,1.676200032234192,0.6187599897384644,-0.2737399935722351,0.4239000082015991,-0.3209899961948395,0.305759996175766,0.06624600291252136,-0.1637900024652481,0.3275099992752075,0.35787999629974365,0.3102400004863739,0.33199000358581543,-0.44481000304222107,-0.016519999131560326,0.20545999705791473,-0.9674400091171265,-0.0779229998588562,-0.5824900269508362,-0.22703999280929565,-0.25731000304222107,-0.5663999915122986,0.31742000579833984,0.25824999809265137,0.509090006351471,-0.33379000425338745,-0.28744998574256897,-1.0428999662399292,0.0801519975066185,0.2660199999809265,1.0223000049591064,0.13638000190258026,-0.16270999610424042,0.20141999423503876,0.7279099822044373,0.03811100125312805,0.12525999546051025,-0.875469982624054,0.07955600321292877,-0.13923999667167664,-0.17339999973773956,0.047240000218153,0.10525999963283539,-0.542639970779419,0.4147599935531616,1.0321999788284302,-0.40244001150131226,0.4669100046157837,0.2181600034236908,-0.07486400008201599,0.47332000732421875,0.08099599927663803,-0.22078999876976013,-0.12807999551296234,-0.1143999993801117,0.5089100003242493,0.11568000167608261,0.028210999444127083,-0.3628000020980835,0.4382300078868866,0.04751100018620491,0.20282000303268433,0.4985699951648712,-0.10068000108003616,0.13268999755382538,0.16971999406814575,0.11653000116348267,0.3135499954223633,0.2571299970149994,0.09278299659490585,-0.5682600140571594,-0.5297499895095825,-0.05145600065588951,-0.673259973526001,0.9253299832344055,0.26930001378059387,0.2273399978876114,0.6636499762535095,0.26221001148223877,0.19719000160694122,0.26089999079704285,0.1877399981021881,-0.34540000557899475,-0.4263499975204468,0.13975000381469727,0.5633800029754639,-0.5690699815750122,0.12398000061511993,-0.12894000113010406,0.724839985370636,-0.2610499858856201,-0.2631399929523468,-0.4360499978065491,0.07890799641609192,-0.8414599895477295,0.5159500241279602,1.3997000455856323,-0.7645999789237976,-3.1452999114990234,-0.2920199930667877,-0.3124699890613556,1.5128999948501587,0.5243499875068665,0.21456000208854675,0.42451998591423035,-0.08841100335121155,-0.1780499964952469,1.187600016593933,0.10578999668359756,0.7657099962234497,0.21913999319076538,0.358240008354187,-0.11636000126600266,0.0932610034942627,-0.6248300075531006,-0.21897999942302704,0.21796000003814697,0.740559995174408,-0.43735000491142273,0.14342999458312988,0.14719000458717346,-1.1605000495910645,-0.05050799995660782,0.1267700046300888,-0.014395000413060188,-0.9867600202560425,-0.09129700064659119,-1.205399990081787,-0.11974000185728073,0.047846999019384384,-0.5400099754333496,0.5245699882507324,-0.709630012512207,-0.32528001070022583,-0.13459999859333038,-0.4131399989128113,0.33434998989105225,-0.007241200190037489,0.32253000140190125,-0.0442189984023571,-1.2969000339508057,0.7621700167655945,0.46349000930786133,-0.21863000094890594,-0.42664000391960144,0.519599974155426,0.00431030010804534,0.5804499983787537,-0.1087300032377243,-0.3772599995136261,0.45660001039505005,-0.6062700152397156,-0.07577300071716309,0.11305999755859375,0.17702999711036682,0.16050000488758087,0.0745140016078949,0.636489987373352,-0.07885199785232544,0.7526800036430359,-0.2496200054883957,-0.5162799954414368,-0.33348000049591064,0.6675400137901306,-0.34182998538017273,0.6131600141525269,0.31668001413345337,0.6484599709510803,-0.07931199669837952,-0.06521899998188019,-0.17718000710010529,-0.3243899941444397,0.5186799764633179,-0.23423999547958374,0.34380999207496643,0.04685100167989731,0.7402499914169312,-0.47005000710487366,0.5368499755859375,-0.3554899990558624,0.407370001077652,-0.09342099726200104,-0.1343899965286255,-0.41969001293182373,-0.3004100024700165,0.2864600121974945,0.37419000267982483,-0.4605399966239929,-0.3070000112056732,-0.38580000400543213,-0.6931700110435486,-9.246100089512765E-4,-0.6198400259017944,0.11977999657392502,0.14949999749660492,0.17833000421524048,1.5312999486923218,-0.9244499802589417,-3.042799949645996,0.030760999768972397,-0.643589973449707,2.3824000358581543,0.5621899962425232,-0.5602099895477295,1.0263999700546265,-0.45142999291419983,0.14116999506950378,0.6594399809837341,0.37571999430656433,0.09833399951457977,0.38304001092910767,-0.07688199728727341,-0.2178100049495697,-0.29892000555992126,-0.4945800006389618,0.09523899853229523,-0.63059002161026,-0.06131099909543991,0.17767000198364258,-0.14050999283790588,0.47181999683380127,-0.9589099884033203,0.04533400014042854,0.8080000281333923,-0.02686700038611889,-0.27483001351356506,0.35541000962257385,-0.8289600014686584,-0.7883800268173218,-0.0797320008277893,0.22940999269485474,-0.45012998580932617,-0.3003999888896942,-0.5271599888801575,0.11358000338077545,-0.4990600049495697,0.8270000219345093,-0.5699099898338318,0.2514300048351288,-0.4026600122451782,-0.2914600074291229,1.381600022315979,0.18084000051021576]                                     |\n",
            "|jamiroquai_Rock Dust Light Star      |Pop    |[0.25975000858306885,0.5583299994468689,0.5798599720001221,-0.2136099934577942,0.130840003490448,0.9438499808311462,-0.42816999554634094,-0.3741999864578247,-0.09449899941682816,-0.4334399998188019,-0.20937000215053558,0.3470200002193451,0.08251599967479706,0.7973499894142151,0.16606000065803528,-0.268779993057251,0.5882999897003174,0.6739699840545654,-0.4996500015258789,1.4764000177383423,0.5526099801063538,0.02529500052332878,-0.16067999601364136,-0.13877999782562256,0.4868600070476532,1.1419999599456787,0.05619499832391739,-0.7330600023269653,0.8693199753761292,-0.35892000794410706,-0.5187699794769287,0.9040200114250183,0.4924899935722351,-0.14914999902248383,0.048493001610040665,0.26096001267433167,0.11351999640464783,0.4127500057220459,0.5380300283432007,-0.4494999945163727,0.08573299646377563,0.09118399769067764,0.0050177001394331455,-0.34645000100135803,-0.11057999730110168,-0.22235000133514404,-0.652899980545044,-0.05183799937367439,0.537909984588623,-0.8104000091552734,-0.1825300008058548,0.24194000661373138,0.548550009727478,0.8773099780082703,0.22165000438690186,-2.712399959564209,0.494049996137619,0.4470300078392029,0.5588200092315674,0.26076000928878784,0.23759999871253967,1.0667999982833862,-0.5697100162506104,-0.6496000289916992,0.33511000871658325,0.3460899889469147,1.1032999753952026,0.08526100218296051,0.02484700083732605,-0.4545300006866455,0.07701200246810913,0.21321000158786774,0.10444000363349915,0.06715700030326843,-0.3426100015640259,0.8553400039672852,0.13360999524593353,-0.43296000361442566,-0.5672600269317627,-0.21347999572753906,-0.3327699899673462,0.3435100018978119,0.3216400146484375,0.44527000188827515,-1.3207999467849731,-0.13269999623298645,-0.7081999778747559,-0.48471999168395996,-0.6939600110054016,-0.26080000400543213,-0.47099000215530396,-0.05749199911952019,0.0935870036482811,0.4000599980354309,-0.4341900050640106,-0.2736400067806244,-0.7701699733734131,-0.8402799963951111,-0.0015620000194758177,0.6222299933433533,0.007676700130105019,0.2577199935913086,0.2938700020313263,-0.41822001338005066,0.04647500067949295,0.3243600130081177,0.43424999713897705,0.5831199884414673,-0.08875799924135208,0.0893549993634224,-0.03361700102686882,0.5921599864959717,0.49904999136924744,0.5367699861526489,0.28266000747680664,0.14530999958515167,0.6903700232505798,-0.33177998661994934,-0.6680999994277954,0.41225001215934753,0.21528999507427216,0.2976599931716919,0.5562599897384644,0.11195000261068344,-0.0022160999942570925,-0.16152000427246094,0.42419999837875366,-0.4709100127220154,-0.40382999181747437,0.31536999344825745,0.7491300106048584,0.07358799874782562,-0.2302899956703186,0.27952998876571655,0.7210699915885925,-0.17583000659942627,0.0885310024023056,0.33531999588012695,0.2633900046348572,0.025603000074625015,-0.822130024433136,-0.38113999366760254,0.11630000174045563,-0.32468000054359436,0.1773100048303604,0.33131998777389526,0.23633000254631042,0.1089399978518486,-0.23348000645637512,-0.3633599877357483,0.6761999726295471,-0.07202400267124176,0.08886899799108505,0.8256800174713135,-0.6067900061607361,-2.0092999935150146,-0.9836500287055969,-0.7244600057601929,1.4737000465393066,0.7888500094413757,-0.2678700089454651,1.3380999565124512,0.26451998949050903,0.5315300226211548,0.8167799711227417,0.020476000383496284,0.6397600173950195,-0.044943999499082565,0.10130999982357025,-0.07023800164461136,-0.19989000260829926,0.24873000383377075,0.7217699885368347,0.04648600146174431,-1.2982999578525778E-5,-0.0337739996612072,0.11744000017642975,-0.15429000556468964,-1.1241999864578247,0.2698200047016144,0.3764199912548065,0.43342000246047974,-0.8146200180053711,-0.24209000170230865,-1.1008000373840332,-0.8519799709320068,0.6408600211143494,-0.3143799901008606,-0.8560199737548828,0.1667100042104721,0.09518399834632874,-0.5997200012207031,0.17708000540733337,0.10915999859571457,-0.2873300015926361,0.1612900048494339,-0.8450499773025513,-0.9745000004768372,0.46233999729156494,-0.40303000807762146,-0.03819400072097778,-0.24487000703811646,0.7281200289726257,-0.3996100127696991,0.08317200094461441,0.043953001499176025,-0.3914099931716919,0.3343999981880188,-0.5754500031471252,0.08745899796485901,0.28786998987197876,-0.06730999797582626,0.3090600073337555,-0.263839989900589,-0.13231000304222107,-0.20757000148296356,0.333950012922287,-0.33847999572753906,-0.3174299895763397,-0.4833599925041199,0.14640000462532043,-0.37303999066352844,0.345770001411438,0.05204100161790848,0.4494599997997284,-0.46970999240875244,0.026280000805854797,-0.5415499806404114,-0.15518000721931458,-0.14106999337673187,-0.03972199931740761,0.2827700078487396,0.14393000304698944,0.2346400022506714,-0.3102099895477295,0.08617299795150757,0.20397000014781952,0.5262399911880493,0.17163999378681183,-0.08237800002098083,-0.7178699970245361,-0.41530999541282654,0.2033499926328659,-0.12762999534606934,0.41367000341415405,0.5518699884414673,0.5790799856185913,-0.33476999402046204,-0.36559000611305237,-0.5485699772834778,-0.06289199739694595,0.26583999395370483,0.30204999446868896,0.9977499842643738,-0.8048099875450134,-3.0243000984191895,0.012539999559521675,-0.36941999197006226,2.2167000770568848,0.7220100164413452,-0.24977999925613403,0.9213600158691406,0.03451399877667427,0.46744999289512634,1.1079000234603882,-0.1935800015926361,-0.07457499951124191,0.23352999985218048,-0.05206200107932091,-0.22044000029563904,0.057162001729011536,-0.1580599993467331,-0.3079800009727478,-0.41624999046325684,0.379720002412796,0.1500599980354309,-0.5321199893951416,-0.20550000667572021,-1.2525999546051025,0.07162400335073471,0.7056499719619751,0.49744001030921936,-0.42063000798225403,0.2614800035953522,-1.5379999876022339,-0.30223000049591064,-0.07343800365924835,-0.2831200063228607,0.3710399866104126,-0.25216999650001526,0.016215000301599503,-0.01709900051355362,-0.3898400068283081,0.874239981174469,-0.7256900072097778,-0.5105800032615662,-0.5202800035476685,-0.14589999616146088,0.8277999758720398,0.2706199884414673]                   |\n",
            "|10000 maniacs_These Are Days         |Rock   |[-0.3397899866104126,0.20940999686717987,0.46347999572753906,-0.6479200124740601,-0.3837699890136719,0.038033999502658844,0.1712699979543686,0.15977999567985535,0.46619001030921936,-0.019169000908732414,0.41479000449180603,-0.34349000453948975,0.26872000098228455,0.04464000090956688,0.4213100075721741,-0.4103200137615204,0.15458999574184418,0.022238999605178833,-0.6465299725532532,0.25255998969078064,0.043136000633239746,-0.1944500058889389,0.4651600122451782,0.4565100073814392,0.6858800053596497,0.09129499644041061,0.21875,-0.7035099864006042,0.16785000264644623,-0.35078999400138855,-0.12634000182151794,0.6638399958610535,-0.2581999897956848,0.03654199838638306,-0.1360500007867813,0.4025300145149231,0.14289000630378723,0.3813199996948242,-0.12283000349998474,-0.45886000990867615,-0.2528199851512909,-0.30432000756263733,-0.11214999854564667,-0.261819988489151,-0.22482000291347504,-0.44554001092910767,0.29910001158714294,-0.8561199903488159,-0.14503000676631927,-0.4908599853515625,0.008297299966216087,-0.17490999400615692,0.2752400040626526,1.4400999546051025,-0.2123900055885315,-2.8434998989105225,-0.2795799970626831,-0.4572199881076813,1.6385999917984009,0.7880799770355225,-0.552619993686676,0.6499999761581421,0.08642599731683731,0.3901199996471405,1.0631999969482422,-0.3537899851799011,0.4832800030708313,0.34599998593330383,0.8417400121688843,0.09870699793100357,-0.24212999641895294,-0.27052998542785645,0.04528699815273285,-0.40147000551223755,0.11394999921321869,0.006222600117325783,0.03667299821972847,0.018518000841140747,-1.021299958229065,-0.20805999636650085,0.640720009803772,-0.06876300275325775,-0.5863500237464905,0.33476001024246216,-1.1432000398635864,-0.11479999870061874,-0.2509100139141083,-0.45906999707221985,-0.09681899845600128,-0.17946000397205353,-0.06335099786520004,-0.6741200089454651,-0.06889499723911285,0.5360400080680847,-0.8777300119400024,0.3180199861526489,-0.3924199938774109,-0.2339400053024292,0.47297999262809753,-0.02880300022661686,-0.2670300006866455,0.4491100013256073,0.5547800064086914,-0.6900299787521362,0.046174999326467514,-0.4304400086402893,-0.2934800088405609,1.0148999691009521,-0.3375700116157532,-0.09638799726963043,-0.28176000714302063,0.4182800054550171,0.5835700035095215,-0.07878799736499786,-0.23510999977588654,-0.7417399883270264,0.682420015335083,0.7715200185775757,-0.8069800138473511,0.13537000119686127,0.1915699988603592,-0.5176600217819214,0.3076399862766266,0.686240017414093,0.15602999925613403,-0.13725000619888306,0.06421499699354172,-0.2531900107860565,0.333050012588501,-0.6133599877357483,-0.6091799736022949,0.7231600284576416,-0.29642000794410706,0.34351998567581177,0.3623400032520294,0.7416200041770935,0.30483999848365784,0.41837000846862793,-0.351639986038208,-0.4167500138282776,-0.32864999771118164,-0.5672900080680847,-0.11948999762535095,-0.7070299983024597,-0.2091600000858307,0.050620999187231064,0.05707800015807152,-0.5636299848556519,0.032940998673439026,-1.1897000074386597,0.04670000076293945,-0.4823499917984009,-0.12547999620437622,1.0880000591278076,0.0952330008149147,-2.526400089263916,-0.155689999461174,-0.08178699761629105,1.9322999715805054,0.7541300058364868,-0.2112099975347519,0.777899980545044,-0.41152000427246094,-0.01998800039291382,0.8328499794006348,0.45991000533103943,0.19577999413013458,1.1234999895095825,-0.21462999284267426,-1.0439000129699707,0.6465299725532532,-1.0830999612808228,-0.4731599986553192,-0.7650899887084961,0.22127999365329742,-0.3860900104045868,-0.24266000092029572,0.28376999497413635,-0.8266000151634216,-0.022102000191807747,0.9438999891281128,-0.4006899893283844,-0.653219997882843,-0.053925998508930206,-1.643399953842163,-0.5715799927711487,0.5072500109672546,0.24536000192165375,0.3271999955177307,-0.5395299792289734,-0.1252100020647049,0.07123400270938873,-0.1423500031232834,-0.4136500060558319,-0.6828799843788147,0.22851000726222992,0.5605599880218506,-0.8724700212478638,0.8382800221443176,0.4650000035762787,0.0,0.0,0.0,0.0,0.0,0.0,0.0,0.0,0.0,0.0,0.0,0.0,0.0,0.0,0.0,0.0,0.0,0.0,0.0,0.0,0.0,0.0,0.0,0.0,0.0,0.0,0.0,0.0,0.0,0.0,0.0,0.0,0.0,0.0,0.0,0.0,0.0,0.0,0.0,0.0,0.0,0.0,0.0,0.0,0.0,0.0,0.0,0.0,0.0,0.0,0.0,0.0,0.0,0.0,0.0,0.0,0.0,0.0,0.0,0.0,0.0,0.0,0.0,0.0,0.0,0.0,0.0,0.0,0.0,0.0,0.0,0.0,0.0,0.0,0.0,0.0,0.0,0.0,0.0,0.0,0.0,0.0,0.0,0.0,0.0,0.0,0.0,0.0,0.0,0.0,0.0,0.0,0.0,0.0,0.0,0.0,0.0,0.0,0.0,0.0]                                                                                                                                                                                                                                                                                                                                                                                                                                                                                                                                                                                                                                                                                                                                                                                                                                                                                                                                                                                                                                                                                                                                                                                                                                                                                                                                                                                                                                                                                                                                                                                                                                                                                          |\n",
            "|10000 maniacs_Everyday Is Like Sunday|Rock   |[-0.5718399882316589,0.046348001807928085,0.8673200011253357,-0.5903499722480774,-0.6493200063705444,0.6588000059127808,-0.8278999924659729,0.22565999627113342,-0.019818000495433807,0.2121800035238266,0.3752700090408325,0.17482000589370728,0.2858799993991852,0.22922000288963318,-0.10478000342845917,-0.36858001351356506,-0.09760499745607376,0.5298900008201599,-0.023984000086784363,0.41082000732421875,-0.680679976940155,-0.11251000314950943,-0.3501499891281128,-0.29451000690460205,0.38231000304222107,0.9397600293159485,-0.736299991607666,-1.01419997215271,0.6060699820518494,-0.4646399915218353,0.8398399949073792,1.2551000118255615,0.499889999628067,0.041839998215436935,-0.3124600052833557,0.3882499933242798,-0.66211998462677,0.0026328000240027905,0.625190019607544,-0.7409999966621399,0.5718500018119812,-0.3599199950695038,0.21821999549865723,-0.7800700068473816,-0.7754799723625183,0.1330299973487854,-0.9259700179100037,-0.32256999611854553,-0.025227999314665794,-1.3961000442504883,0.22933000326156616,0.2695100009441376,-0.16118000447750092,0.8521400094032288,-0.0785679966211319,-2.285900115966797,0.8718600273132324,0.296970009803772,2.380000114440918,-0.19922000169754028,0.5503900051116943,1.6426000595092773,-0.31060001254081726,-0.029347000643610954,0.9393500089645386,0.5701799988746643,0.5862100124359131,-0.25936999917030334,0.3896600008010864,-0.5606200098991394,0.09914799779653549,0.46786001324653625,0.5448200106620789,-0.9599300026893616,0.6297299861907959,0.4391399919986725,-0.2858099937438965,-0.48357000946998596,-0.415149986743927,0.1803400069475174,0.4331800043582916,0.5131000280380249,-0.37042999267578125,-0.1584700047969818,-1.5992000102996826,-0.21375000476837158,-0.14180000126361847,-0.1423099935054779,-0.12466000020503998,-0.05291200056672096,-0.6273599863052368,0.8597599864006042,1.2702000141143799,0.045308999717235565,-0.544700026512146,-0.5543000102043152,0.25635001063346863,-0.3566499948501587,0.9292500019073486,0.8995299935340881,-0.2708599865436554,0.04400600120425224,-0.020260000601410866,-0.17395000159740448,0.6444000005722046,0.7121300101280212,0.35510000586509705,0.47137999534606934,-0.2963699996471405,0.5442699790000916,-0.7229400277137756,-0.0047611999325454235,0.04061099886894226,0.04323599860072136,0.29728999733924866,0.10724999755620956,0.4015600085258484,-0.536620020866394,0.03338199853897095,0.06739600002765656,0.6455600261688232,-0.08552300184965134,0.14102999866008759,0.09453900158405304,0.7494699954986572,-0.1940000057220459,-0.6873900294303894,-0.4174099862575531,-0.22807000577449799,0.11999999731779099,-0.4899899959564209,0.8094499707221985,0.045138001441955566,-0.11897999793291092,0.2016099989414215,0.3927600085735321,-0.20121000707149506,0.3135400116443634,0.7530400156974792,0.2590700089931488,-0.11565999686717987,-0.029318999499082565,0.9349899888038635,-0.3606700003147125,0.5242000222206116,0.23705999553203583,0.5271499752998352,0.2286899983882904,-0.5195800065994263,-0.7934899926185608,-0.20367999374866486,-0.5018699765205383,0.18748000264167786,0.9428200125694275,-0.4483399987220764,-3.6791999340057373,0.044183000922203064,-0.26750999689102173,2.199700117111206,0.2409999966621399,-0.03342499956488609,0.6955299973487854,-0.6447200179100037,-0.00722770020365715,0.8957499861717224,0.2001499980688095,0.46492999792099,0.6193299889564514,-0.10660000145435333,0.08691000193357468,-0.46230000257492065,0.18262000381946564,-0.15849000215530396,0.02079099975526333,0.19372999668121338,0.06342600286006927,-0.31672999262809753,-0.48177000880241394,-1.3847999572753906,0.13669000566005707,0.9685900211334229,0.04996500164270401,-0.27379998564720154,-0.03568600118160248,-1.0577000379562378,-0.24467000365257263,0.903659999370575,-0.12442000210285187,0.08077599853277206,-0.8340100049972534,0.5720099806785583,0.08894500136375427,-0.42531999945640564,-0.01825300045311451,-0.07999499887228012,-0.2858099937438965,-0.010889999568462372,-0.49230000376701355,0.6368700265884399,0.23642000555992126,-0.2926500141620636,-0.2775700092315674,0.15560999512672424,-0.014442999847233295,-0.2343199998140335,0.9468200206756592,-0.4469499886035919,0.7144799828529358,0.4652499854564667,0.0301900003105402,-0.5812100172042847,-0.34793001413345337,0.5810199975967407,0.05504100024700165,0.6676099896430969,-0.6065700054168701,1.1562000513076782,-0.5660600066184998,-0.66566002368927,0.8366600275039673,1.0426000356674194,0.5650500059127808,0.6630600094795227,-0.43059998750686646,-1.0334999561309814,-0.927869975566864,-0.3468100130558014,-0.507889986038208,-0.6927199959754944,-0.39998000860214233,-0.30733999609947205,-0.4608300030231476,0.8611800074577332,0.008894000202417374,0.3529700040817261,-0.506820023059845,-0.07495799660682678,0.11924999952316284,0.32405000925064087,-0.08727599680423737,-0.38312000036239624,-0.6322299838066101,0.29350000619888306,-0.5849599838256836,0.410290002822876,0.3149299919605255,0.45006000995635986,0.04478200152516365,0.34014999866485596,0.28268998861312866,-0.7741900086402893,-0.009248300455510616,0.39342001080513,1.108199954032898,-0.7921199798583984,-2.5952999591827393,-1.3451999425888062,-0.8467100262641907,0.7845100164413452,0.2956100106239319,0.4183200001716614,0.9153599739074707,-0.36899998784065247,-0.060607001185417175,0.6922900080680847,-0.20287999510765076,0.39737001061439514,-0.3052999973297119,-0.2336300015449524,0.14347000420093536,-0.08212000131607056,-0.5582900047302246,-0.03761199861764908,-0.7452399730682373,0.3539299964904785,0.0071078999899327755,0.9922900199890137,0.33643999695777893,-0.8270999789237976,0.0633779987692833,-0.09297700226306915,0.44398999214172363,-0.42726001143455505,-0.001263099955394864,-0.4864400029182434,0.39761999249458313,-0.5314499735832214,-0.6537700295448303,0.9187399744987488,-0.11665999889373779,0.8742799758911133,0.012966999784111977,-0.1448799967765808,0.6755200028419495,-1.301900029182434,0.402319997549057,-0.10261999815702438,0.9729800224304199,1.0123000144958496,0.2982900142669678]                                        |\n",
            "|10000 maniacs_Don't Talk             |Rock   |[-0.3549099862575531,0.4366700053215027,0.06243100017309189,0.004122499842196703,0.15368999540805817,0.5590800046920776,-0.4225499927997589,0.025710999965667725,0.1988700032234192,0.008506599813699722,-0.2773900032043457,-0.08204399794340134,0.3891800045967102,-0.17357000708580017,0.04213299974799156,-0.691510021686554,-0.21618999540805817,0.27285000681877136,0.028555000200867653,0.058382000774145126,0.27338001132011414,-0.07260800153017044,-0.020035000517964363,-0.6168199777603149,0.05409900099039078,0.07499200105667114,-0.4654400050640106,-0.4875200092792511,0.0070663997903466225,0.027039000764489174,-0.0122060002759099,0.49448999762535095,-0.6491199731826782,-0.8048800230026245,0.3865399956703186,0.3859100043773651,0.11321000009775162,-0.32818999886512756,-0.25887998938560486,-0.3210600018501282,-0.06303399801254272,-0.12529000639915466,-0.0015947000356391072,-0.04648200049996376,-0.48864999413490295,-0.37803998589515686,0.4218200147151947,0.23712000250816345,-0.4503600001335144,-1.044700026512146,0.40667998790740967,-0.13394999504089355,0.13449999690055847,1.4804999828338623,0.091109998524189,-2.1733999252319336,0.2535400092601776,-0.3785499930381775,1.562399983406067,0.1275400072336197,-0.1114799976348877,0.6939200162887573,-0.18887999653816223,-0.10758999735116959,0.9509099721908569,-0.17635999619960785,0.39375999569892883,0.04868000000715256,0.12022999674081802,-0.2860899865627289,-0.35451000928878784,-0.34718000888824463,0.12393999844789505,-0.3511500060558319,0.12680000066757202,-0.12365999817848206,-0.24838000535964966,0.07408999651670456,-0.29412001371383667,-0.01759199984371662,0.1496800035238266,0.1719599962234497,-0.6787099838256836,-2.0728999515995383E-4,-1.589900016784668,-0.06645400077104568,-0.05205100029706955,-0.08183600008487701,-0.05231500044465065,-0.4164600074291229,-0.2626599967479706,-0.22099000215530396,-0.0028210000600665808,-0.10914000123739243,-0.12907999753952026,-0.2568100094795227,-0.2759000062942505,-0.54544997215271,0.6297199726104736,0.06205900013446808,-0.20362000167369843,0.18005000054836273,0.3849700093269348,-0.25075000524520874,-0.5789700150489807,0.7437400221824646,-0.5034800171852112,0.12916000187397003,0.2145799994468689,-0.48993000388145447,0.4481399953365326,0.2617399990558624,0.23130999505519867,0.045441001653671265,-0.3698199987411499,-0.08006399869918823,-0.044103000313043594,0.8707200288772583,-0.8646900057792664,0.43456000089645386,0.18318000435829163,-0.35293999314308167,-0.14719000458717346,-0.4828900098800659,0.01311499997973442,0.5119600296020508,-0.4988900125026703,-0.6147900223731995,0.9929100275039673,-0.4829300045967102,-0.1706099957227707,0.9025899767875671,0.03516799956560135,0.2218099981546402,-0.2639400064945221,0.4299300014972687,0.21877999603748322,0.09192399680614471,0.5386499762535095,-0.48249998688697815,-0.2777999937534332,-0.4868299961090088,-0.22235000133514404,-0.6721000075340271,-0.27518999576568604,-0.18504999577999115,-0.36118000745773315,0.026089999824762344,-0.10414999723434448,-0.9132999777793884,0.025848999619483948,0.12714999914169312,-0.09761200100183487,0.8769000172615051,0.09350299835205078,-2.0272998809814453,0.001088000019080937,0.31025999784469604,1.7510000467300415,0.2344300001859665,-0.04854699969291687,0.4238300025463104,-0.7230899930000305,-0.2888700067996979,1.3560999631881714,0.6166099905967712,0.76555997133255,0.888159990310669,-0.440530002117157,-0.25352001190185547,-0.02460700087249279,-0.13555000722408295,-0.08532000333070755,-0.5457500219345093,0.18199999630451202,0.0998070016503334,-0.20788000524044037,-0.17558999359607697,0.14319999516010284,0.048229001462459564,0.744949996471405,-0.5962399840354919,-0.7297000288963318,-0.05309399962425232,-1.356600046157837,-0.06252899765968323,0.021609999239444733,0.4043799936771393,-0.06387999653816223,-0.17330999672412872,-0.34602001309394836,0.19518999755382538,-0.10340999811887741,-0.6171299815177917,-0.47012001276016235,-0.47863999009132385,0.19383999705314636,0.19208000600337982,-0.143669992685318,0.29043999314308167,0.0,0.0,0.0,0.0,0.0,0.0,0.0,0.0,0.0,0.0,0.0,0.0,0.0,0.0,0.0,0.0,0.0,0.0,0.0,0.0,0.0,0.0,0.0,0.0,0.0,0.0,0.0,0.0,0.0,0.0,0.0,0.0,0.0,0.0,0.0,0.0,0.0,0.0,0.0,0.0,0.0,0.0,0.0,0.0,0.0,0.0,0.0,0.0,0.0,0.0,0.0,0.0,0.0,0.0,0.0,0.0,0.0,0.0,0.0,0.0,0.0,0.0,0.0,0.0,0.0,0.0,0.0,0.0,0.0,0.0,0.0,0.0,0.0,0.0,0.0,0.0,0.0,0.0,0.0,0.0,0.0,0.0,0.0,0.0,0.0,0.0,0.0,0.0,0.0,0.0,0.0,0.0,0.0,0.0,0.0,0.0,0.0,0.0,0.0,0.0]                                                                                                                                                                                                                                                                                                                                                                                                                                                                                                                                                                                                                                                                                                                                                                                                                                                                                                                                                                                                                                                                                                                                                                                                                                                                                                                                                                                                                                                                                                                                                                                                                                        |\n",
            "|black veil brides_Our Destiny        |Rock   |[-0.18970000743865967,0.05002399906516075,0.1908400058746338,-0.04918399825692177,-0.08973699808120728,0.2100600004196167,-0.5495200157165527,0.09837699681520462,-0.20135000348091125,0.34240999817848206,-0.09267699718475342,0.16099999845027924,-0.1326799988746643,-0.2815999984741211,0.18737000226974487,-0.42958998680114746,0.9603899717330933,0.13971999287605286,-1.0780999660491943,0.4051800072193146,0.5053899884223938,-0.5506399869918823,0.4844000041484833,0.38043999671936035,-0.0029054998885840178,-0.3494200110435486,-0.09969600290060043,-0.7836800217628479,1.0362999439239502,-0.2313999980688095,-0.4712100028991699,0.5712599754333496,-0.2145400047302246,0.35958001017570496,-0.48319000005722046,1.087499976158142,0.2852399945259094,0.12447000294923782,-0.03924800083041191,-0.07673200219869614,-0.7634299993515015,-0.32409000396728516,-0.5748999714851379,-1.0893000364303589,-0.4181100130081177,0.451200008392334,0.12111999839544296,-0.513670027256012,-0.13348999619483948,-1.1377999782562256,-0.2876800000667572,0.16774000227451324,0.5580400228500366,1.538699984550476,0.018859000876545906,-2.972100019454956,-0.24216000735759735,-0.9249500036239624,2.199199914932251,0.28233999013900757,-0.34779998660087585,0.5162100195884705,-0.43386998772621155,0.36851999163627625,0.7457299828529358,0.07210200279951096,0.2793099880218506,0.9256899952888489,-0.050335999578237534,-0.8585600256919861,-0.13580000400543213,-0.9255099892616272,-0.33991000056266785,-1.0393999814987183,-0.06720300018787384,-0.21378999948501587,-0.47690001130104065,0.21377000212669373,-0.8400800228118896,0.052535999566316605,0.5929800271987915,0.29603999853134155,-0.6764400005340576,0.13916000723838806,-1.5504000186920166,-0.20765000581741333,0.7221999764442444,0.5205600261688232,-0.07622099667787552,-0.1519400030374527,-0.13133999705314636,0.0586169995367527,-0.3186900019645691,-0.6141899824142456,-0.6239299774169922,-0.41547998785972595,-0.03817500174045563,-0.3980399966239929,0.4764699935913086,-0.1598300039768219,-0.2670300006866455,0.4491100013256073,0.5547800064086914,-0.6900299787521362,0.046174999326467514,-0.4304400086402893,-0.2934800088405609,1.0148999691009521,-0.3375700116157532,-0.09638799726963043,-0.28176000714302063,0.4182800054550171,0.5835700035095215,-0.07878799736499786,-0.23510999977588654,-0.7417399883270264,0.682420015335083,0.7715200185775757,-0.8069800138473511,0.13537000119686127,0.1915699988603592,-0.5176600217819214,0.3076399862766266,0.686240017414093,0.15602999925613403,-0.13725000619888306,0.06421499699354172,-0.2531900107860565,0.333050012588501,-0.6133599877357483,-0.6091799736022949,0.7231600284576416,-0.29642000794410706,0.34351998567581177,0.3623400032520294,0.7416200041770935,0.30483999848365784,0.41837000846862793,-0.351639986038208,-0.4167500138282776,-0.32864999771118164,-0.5672900080680847,-0.11948999762535095,-0.7070299983024597,-0.2091600000858307,0.050620999187231064,0.05707800015807152,-0.5636299848556519,0.032940998673439026,-1.1897000074386597,0.04670000076293945,-0.4823499917984009,-0.12547999620437622,1.0880000591278076,0.0952330008149147,-2.526400089263916,-0.155689999461174,-0.08178699761629105,1.9322999715805054,0.7541300058364868,-0.2112099975347519,0.777899980545044,-0.41152000427246094,-0.01998800039291382,0.8328499794006348,0.45991000533103943,0.19577999413013458,1.1234999895095825,-0.21462999284267426,-1.0439000129699707,0.6465299725532532,-1.0830999612808228,-0.4731599986553192,-0.7650899887084961,0.22127999365329742,-0.3860900104045868,-0.24266000092029572,0.28376999497413635,-0.8266000151634216,-0.022102000191807747,0.9438999891281128,-0.4006899893283844,-0.653219997882843,-0.053925998508930206,-1.643399953842163,-0.5715799927711487,0.5072500109672546,0.24536000192165375,0.3271999955177307,-0.5395299792289734,-0.1252100020647049,0.07123400270938873,-0.1423500031232834,-0.4136500060558319,-0.6828799843788147,0.22851000726222992,0.5605599880218506,-0.8724700212478638,0.8382800221443176,0.4650000035762787,-0.08546199649572372,0.11467999964952469,0.6330500245094299,-0.2994900047779083,-0.751230001449585,-0.0190069992095232,-0.7186300158500671,-0.08671600371599197,-0.3206300139427185,0.3245899975299835,-0.1915999948978424,0.09940599650144577,0.46355998516082764,-0.04095799848437309,-0.578249990940094,-0.718529999256134,-0.24164000153541565,0.7469800114631653,-0.7697299718856812,0.2719700038433075,-0.08212599903345108,-0.05785999819636345,-0.034237999469041824,-0.28306999802589417,0.06690400093793869,0.416049987077713,-0.18862000107765198,-0.5699300169944763,0.3642500042915344,-0.14169000089168549,0.46529000997543335,0.62677001953125,0.17222000658512115,-0.11196000128984451,-0.21784000098705292,0.21153999865055084,-0.34793999791145325,0.37863001227378845,-0.08713799715042114,-0.5942100286483765,-0.2669700086116791,-0.37404000759124756,0.7440099716186523,0.29701000452041626,-0.09031199663877487,0.23096999526023865,-0.1941000074148178,-0.008968999609351158,-0.5439500212669373,-1.1504000425338745,-0.017916999757289886,0.24749000370502472,-0.5619699954986572,1.2863999605178833,0.03742299973964691,-2.471299886703491,0.9991199970245361,-0.02281400002539158,2.349100112915039,-0.15643000602722168,-2.3417000193148851E-4,1.1816999912261963,-0.2556599974632263,-0.35203999280929565,0.7824100255966187,0.515779972076416,0.25209999084472656,0.3166100084781647,0.38381001353263855,-0.5121300220489502,0.9715399742126465,-0.02864300087094307,0.5733100175857544,-1.4127000570297241,0.9189299941062927,0.15042999386787415,-0.3802900016307831,-0.3169800043106079,-1.1369999647140503,0.29611000418663025,0.5541800260543823,0.8674100041389465,-0.398389995098114,0.6021699905395508,-1.7684999704360962,-0.17746999859809875,-0.32732999324798584,-0.19191999733448029,-0.33403998613357544,-0.3059599995613098,-0.20281000435352325,0.33781999349594116,0.41470998525619507,0.17372000217437744,-0.7439799904823303,-0.3816800117492676,-0.358379989862442,-0.2577199935913086,0.573989987373352,1.478700041770935]                     |\n",
            "|lynyrd skynyrd_I Need You            |Rock   |[-0.0029325000941753387,0.6303600072860718,0.5148199796676636,-0.4327299892902374,-0.9035699963569641,-0.1319199949502945,-1.1771999597549438,-0.6497799754142761,0.6100199818611145,-0.4728200137615204,-0.468639999628067,0.39013001322746277,0.058699000626802444,-0.2221599966287613,-0.3771800100803375,-0.27469000220298767,-0.6229599714279175,0.44258999824523926,0.03438200056552887,0.21070000529289246,-0.1441500037908554,0.6522600054740906,-0.36640000343322754,-0.29861998558044434,-0.35293999314308167,0.28575998544692993,-0.16877999901771545,-0.4194999933242798,0.35133999586105347,-0.12189999967813492,-0.10790000110864639,0.1501699984073639,0.1151600033044815,-0.15086999535560608,-0.3355399966239929,0.12564000487327576,-0.014840999618172646,0.30037999153137207,0.6126199960708618,-0.23478999733924866,-0.562279999256134,-0.1308699995279312,0.040341999381780624,-0.6526100039482117,0.07711199671030045,-0.4096499979496002,0.708840012550354,0.030981000512838364,-0.3377299904823303,-1.267799973487854,0.5468599796295166,-0.01568800024688244,-0.6889899969100952,0.5028600096702576,0.2862800061702728,-1.4889999628067017,0.3470099866390228,-0.2229200005531311,0.5944700241088867,0.21539999544620514,-0.07255899906158447,0.6772099733352661,-0.11020000278949738,-0.14350999891757965,0.5775200128555298,0.7322800159454346,0.5301399827003479,0.0626939982175827,0.008291900157928467,-0.1809999942779541,0.08220800012350082,-0.16116000711917877,-0.39684998989105225,-0.3645800054073334,-0.33048000931739807,0.4021199941635132,0.18279999494552612,0.05381600186228752,-0.5047799944877625,0.2295600026845932,0.5371699929237366,-0.5051699876785278,-0.6229199767112732,-0.1736000031232834,-1.3875000476837158,-0.4415299892425537,-0.3748700022697449,0.3289099931716919,-0.7161999940872192,-0.3212999999523163,-0.04893999919295311,0.0921040028333664,-0.0981609970331192,-0.6409800052642822,-0.6834999918937683,0.1474599987268448,0.3243499994277954,-0.15467000007629395,0.24526000022888184,0.2935299873352051,-0.18102000653743744,-0.7210599780082703,0.41297999024391174,0.08614999800920486,-0.24945999681949615,-0.017868999391794205,0.2388100028038025,-0.017890000715851784,0.09776999801397324,-0.3914799988269806,0.2668299973011017,0.15986000001430511,0.5623400211334229,1.0410000085830688,-0.4562700092792511,-0.19426000118255615,0.20597000420093536,0.9892200231552124,0.5100700259208679,0.625,0.28185001015663147,0.8490899801254272,0.5609400272369385,0.23479999601840973,-0.40191999077796936,0.7536799907684326,-0.47400999069213867,-0.09183699637651443,0.38262999057769775,-0.5873600244522095,-0.5299599766731262,-0.3848699927330017,1.0398999452590942,1.0855000019073486,0.06516300141811371,-0.27625998854637146,-0.20784999430179596,0.05205399915575981,1.1502000093460083,-0.7669000029563904,1.1051000356674194,0.358379989862442,0.3500699996948242,0.2600800096988678,-0.2760399878025055,-0.2637900114059448,-0.1885399967432022,0.35561999678611755,0.977840006351471,0.12021999806165695,-0.3240000009536743,0.27518999576568604,0.19169999659061432,-0.05164400115609169,-1.3198000192642212,0.32534000277519226,0.6776999831199646,1.3961000442504883,0.20307999849319458,-0.6288700103759766,0.48385998606681824,0.647159993648529,-1.031599998474121,-0.4398399889469147,-0.5694500207901001,0.35163000226020813,-0.29809001088142395,-0.15918000042438507,-0.3692600131034851,-0.6432300209999084,0.46202999353408813,0.3518100082874298,-0.014655999839305878,-0.5426599979400635,0.20868000388145447,0.7877500057220459,0.08949299901723862,-0.0792739987373352,0.17133000493049622,-0.8774799704551697,-0.7446100115776062,0.2927600145339966,-1.152400016784668,-0.6386399865150452,-0.4059999883174896,-0.23288999497890472,-0.328000009059906,-0.21108999848365784,-0.3205200135707855,0.5684800148010254,-0.43112000823020935,0.058288998901844025,0.08138000220060349,-0.023271000012755394,1.0403000116348267,-0.5021100044250488,0.544160008430481,0.9025499820709229,0.39945998787879944,0.3451699912548065,-0.3397899866104126,0.20940999686717987,0.46347999572753906,-0.6479200124740601,-0.3837699890136719,0.038033999502658844,0.1712699979543686,0.15977999567985535,0.46619001030921936,-0.019169000908732414,0.41479000449180603,-0.34349000453948975,0.26872000098228455,0.04464000090956688,0.4213100075721741,-0.4103200137615204,0.15458999574184418,0.022238999605178833,-0.6465299725532532,0.25255998969078064,0.043136000633239746,-0.1944500058889389,0.4651600122451782,0.4565100073814392,0.6858800053596497,0.09129499644041061,0.21875,-0.7035099864006042,0.16785000264644623,-0.35078999400138855,-0.12634000182151794,0.6638399958610535,-0.2581999897956848,0.03654199838638306,-0.1360500007867813,0.4025300145149231,0.14289000630378723,0.3813199996948242,-0.12283000349998474,-0.45886000990867615,-0.2528199851512909,-0.30432000756263733,-0.11214999854564667,-0.261819988489151,-0.22482000291347504,-0.44554001092910767,0.29910001158714294,-0.8561199903488159,-0.14503000676631927,-0.4908599853515625,0.008297299966216087,-0.17490999400615692,0.2752400040626526,1.4400999546051025,-0.2123900055885315,-2.8434998989105225,-0.2795799970626831,-0.4572199881076813,1.6385999917984009,0.7880799770355225,-0.552619993686676,0.6499999761581421,0.08642599731683731,0.3901199996471405,1.0631999969482422,-0.3537899851799011,0.4832800030708313,0.34599998593330383,0.8417400121688843,0.09870699793100357,-0.24212999641895294,-0.27052998542785645,0.04528699815273285,-0.40147000551223755,0.11394999921321869,0.006222600117325783,0.03667299821972847,0.018518000841140747,-1.021299958229065,-0.20805999636650085,0.640720009803772,-0.06876300275325775,-0.5863500237464905,0.33476001024246216,-1.1432000398635864,-0.11479999870061874,-0.2509100139141083,-0.45906999707221985,-0.09681899845600128,-0.17946000397205353,-0.06335099786520004,-0.6741200089454651,-0.06889499723911285,0.5360400080680847,-0.8777300119400024,0.3180199861526489,-0.3924199938774109,-0.2339400053024292,0.47297999262809753,-0.02880300022661686]                                       |\n",
            "|10000 maniacs_Across The Fields      |Rock   |[-0.21004000306129456,-0.39664000272750854,0.009013599716126919,-0.02521900087594986,-0.5801100134849548,0.39678001403808594,0.3897300064563751,1.113700032234192,-0.48502999544143677,-0.3287299871444702,0.17238999903202057,0.11755000054836273,0.385809987783432,-0.14112000167369843,0.4054499864578247,-0.6812099814414978,-0.38642001152038574,-0.7136499881744385,-0.3875199854373932,-0.38398000597953796,0.6973599791526794,-0.17573000490665436,-0.22088000178337097,0.012020999565720558,0.2715800106525421,0.24397000670433044,-0.04468299821019173,0.24435000121593475,0.04707600176334381,0.4489699900150299,-0.4157400131225586,-0.3502199947834015,-0.002840599976480007,0.38168999552726746,-0.267410010099411,0.37481001019477844,-0.13531999289989471,-0.3978100121021271,0.5907899737358093,0.07521700114011765,-0.7135199904441833,-0.6194599866867065,0.12055999785661697,0.31951001286506653,-0.14967000484466553,0.015389000065624714,-0.5435500144958496,-0.33625999093055725,0.6230700016021729,-1.3609000444412231,-0.0622589997947216,-0.20475000143051147,0.6815599799156189,0.7664899826049805,-0.32510000467300415,-2.3306000232696533,-0.7650600075721741,0.3949899971485138,2.018199920654297,0.7970499992370605,-0.5278199911117554,0.9406800270080566,-0.4497300088405609,-0.27854999899864197,-0.32534998655319214,-0.12876999378204346,0.20508000254631042,-0.08548100292682648,0.11664000153541565,0.11364000290632248,-0.7215099930763245,-0.5134400129318237,0.14902999997138977,-0.41863998770713806,-0.062199000269174576,0.9650099873542786,0.07344000041484833,0.12730999290943146,-0.6435400247573853,-0.1970600038766861,0.14744000136852264,0.049084000289440155,-0.2782999873161316,-0.13364000618457794,-0.6905900239944458,-0.6766700148582458,-0.2018599957227707,0.5901299715042114,-0.04030999913811684,0.3692399859428406,1.1999000310897827,0.18738999962806702,0.12449999898672104,0.7848700284957886,-1.2508000135421753,0.5845299959182739,0.22540999948978424,0.06454700231552124,0.4699999988079071,0.5999299883842468,-0.07027299702167511,0.39570000767707825,0.5013200044631958,-0.33858001232147217,-0.24030999839305878,0.16798999905586243,0.34926000237464905,0.30972999334335327,-0.3009200096130371,-0.5947399735450745,0.2146099954843521,0.23191000521183014,0.16801999509334564,-0.17396000027656555,0.11016999930143356,-0.10937000066041946,-0.3245700001716614,0.4605900049209595,0.037429001182317734,-0.3763499855995178,0.21633000671863556,0.6593899726867676,0.12166000157594681,-0.49254000186920166,0.2264699935913086,-0.16527999937534332,-0.18059000372886658,-0.6386600136756897,-0.21604999899864197,-0.21671000123023987,0.033222999423742294,0.24347999691963196,-0.21565000712871552,0.18994000554084778,0.6946300268173218,-0.055684998631477356,-0.42089998722076416,0.10171999782323837,0.23991000652313232,0.23592999577522278,-0.18637999892234802,-0.5018200278282166,0.33522000908851624,-0.3485400080680847,-0.19606000185012817,-0.16323000192642212,0.365119993686676,1.0291999578475952,0.5520600080490112,-0.9842299818992615,0.47220999002456665,-0.3966499865055084,0.20182999968528748,0.985319972038269,-0.2170799970626831,-2.183799982070923,-0.4466400146484375,0.2994900047779083,0.4753200113773346,0.57396000623703,-0.2200399935245514,1.1445000171661377,-0.6340100169181824,0.18887999653816223,-0.13531999289989471,0.040716998279094696,0.3471600115299225,0.3092299997806549,-0.622219979763031,0.20999999344348907,0.4946799874305725,-0.014984999783337116,0.12133999913930893,-0.569890022277832,0.3277300000190735,0.11873999983072281,-0.30720001459121704,0.17143000662326813,0.06906499713659286,-0.23904000222682953,0.5095199942588806,0.2828199863433838,-0.48034998774528503,-0.20653000473976135,-1.4313000440597534,-1.3575999736785889,0.04404599964618683,-0.15971000492572784,-0.8624699711799622,-0.17475000023841858,0.3752799928188324,-0.38324999809265137,-0.05214099958539009,-0.036125000566244125,-0.546779990196228,0.04024500027298927,-0.5127900242805481,0.2354000061750412,-0.29337000846862793,0.20182999968528748,0.08570300042629242,-0.22201000154018402,0.16569000482559204,0.1337299942970276,0.38238999247550964,0.3540099859237671,0.01286999974399805,0.22461000084877014,-0.4381699860095978,0.5016400218009949,-0.3587400019168854,-0.3498300015926361,0.05515599995851517,0.6964799761772156,-0.17958000302314758,0.06792599707841873,0.39100998640060425,0.1603900045156479,-0.26635000109672546,-0.2113800048828125,0.5369799733161926,0.49379000067710876,0.9366000294685364,0.6690199971199036,0.21793000400066376,-0.4664199948310852,0.22382999956607819,-0.3620400130748749,-0.17655999958515167,0.17479999363422394,-0.20366999506950378,0.13931000232696533,0.019832000136375427,-0.10412999987602234,-0.20243999361991882,0.550029993057251,-0.15459999442100525,0.986549973487854,-0.2686299979686737,-0.29089999198913574,-0.3286600112915039,-0.3418799936771393,-0.16943000257015228,-0.4200100004673004,-0.046727001667022705,-0.1632699966430664,0.7082399725914001,-0.7491099834442139,-0.09155900031328201,-0.9617800116539001,-0.19746999442577362,0.1028200015425682,0.5522099733352661,1.381600022315979,-0.6563599705696106,-3.250200033187866,-0.3155600130558014,-1.2055000066757202,1.770900011062622,0.4025999903678894,-0.7982699871063232,1.1597000360488892,-0.33041998744010925,0.3138200044631958,0.773859977722168,0.22595000267028809,0.5247099995613098,-0.034053001552820206,0.32047998905181885,0.07994800060987473,0.1775200068950653,-0.4942600131034851,-0.7004500031471252,-0.44569000601768494,0.17244000732898712,0.20277999341487885,0.023291999474167824,-0.20677000284194946,-1.0157999992370605,0.18324999511241913,0.567520022392273,0.31821000576019287,-0.6501100063323975,0.6827700138092041,-0.8658499717712402,-0.05939200147986412,-0.29264000058174133,-0.5566800236701965,-0.3470500111579895,-0.3289499878883362,0.4021500051021576,-0.12746000289916992,-0.20227999985218048,0.8736799955368042,-0.5450000166893005,0.7920500040054321,-0.20694999396800995,-0.0742729976773262,0.758080005645752,-0.3424299955368042]       |\n",
            "|10000 maniacs_Planned Obsolescence   |Rock   |[0.27656999230384827,0.25992000102996826,-0.33855998516082764,-0.676609992980957,0.1069599986076355,-0.3945100009441376,-0.06242699921131134,-0.9394000172615051,-0.06467500329017639,0.2105800062417984,0.13944999873638153,-0.2400600016117096,0.22628000378608704,0.1268399953842163,-0.8047599792480469,-0.6517900228500366,0.37606000900268555,-0.66007000207901,-0.3604399859905243,0.5807300209999084,0.23555000126361847,-0.09120900183916092,0.5784400105476379,-1.192199945449829,0.45691999793052673,0.09508799761533737,-1.3250999450683594,-0.2877799868583679,0.30267998576164246,0.3826499879360199,-0.39351001381874084,0.31527000665664673,-0.2682099938392639,-1.354699969291687,0.154789999127388,-0.24602000415325165,0.19151000678539276,0.13436000049114227,0.6492000222206116,-0.4326399862766266,0.25143998861312866,-0.6739299893379211,0.11761000007390976,0.3306399881839752,1.0546000003814697,-0.1398400068283081,-0.2761499881744385,-0.24466000497341156,0.4234899878501892,0.6405900120735168,-0.43004000186920166,0.5804100036621094,0.3827899992465973,0.1350499987602234,-0.7965099811553955,-0.44075000286102295,-1.6050000190734863,-0.909030020236969,1.0872999429702759,0.6056100130081177,-0.2056100070476532,-0.04600699990987778,-0.16384999454021454,0.4477599859237671,-0.30035001039505005,-0.41308000683784485,-0.025577999651432037,0.41519999504089355,0.5371599793434143,-0.07023999840021133,-0.32420000433921814,-0.19475999474525452,0.2821800112724304,-0.6725999712944031,0.15185999870300293,-0.12234999984502792,-0.0011756999883800745,-0.3236300051212311,-0.9649999737739563,-0.23315000534057617,0.6524099707603455,0.2249400019645691,0.25582000613212585,1.2209999561309814,-0.23051999509334564,-0.8432499766349792,-0.11309000104665756,-1.3594000339508057,0.37634000182151794,-0.9775800108909607,-0.13986000418663025,-0.22914999723434448,1.100100040435791,-0.7752599716186523,-0.2927899956703186,0.2690199911594391,-0.1424800008535385,-0.11823000013828278,-0.1318099945783615,-0.14482000470161438,0.38767001032829285,0.5266600251197815,0.32148000597953796,-0.059078000485897064,0.014547999948263168,1.2165000438690186,-0.2881999909877777,-0.9839299917221069,0.5709999799728394,0.5029600262641907,-0.8572800159454346,-0.012365000322461128,0.5252699851989746,0.635420024394989,-0.08652299642562866,-0.6421999931335449,0.5156800150871277,0.1707099974155426,-1.4124000072479248,0.4157400131225586,0.07729800045490265,-0.47172999382019043,0.16752000153064728,0.10463999956846237,0.28657999634742737,-0.24440999329090118,0.40884000062942505,-0.5944200158119202,-0.2098899930715561,0.1183599978685379,-0.45124998688697815,0.637220025062561,-0.47512000799179077,-0.10123000293970108,-0.4292699992656708,-0.0843140035867691,-0.05714299902319908,0.6424800157546997,-0.5321699976921082,-0.030254999175667763,-1.61489999294281,0.16909000277519226,0.05036399886012077,-0.1231599971652031,-1.166200041770935,-1.4332000017166138,0.40661999583244324,0.7139400243759155,-0.5351099967956543,-0.9419500231742859,0.6392099857330322,0.8520399928092957,0.11756999790668488,0.2793999910354614,-0.37898001074790955,-1.4048999547958374,0.641290009021759,0.0777520015835762,1.4300999641418457,0.036430999636650085,0.060694001615047455,-0.001116400002501905,0.22120000422000885,-1.1700999736785889,0.8797900080680847,0.2776699960231781,0.5812699794769287,-0.6031799912452698,0.48539999127388,0.3761399984359741,-0.12392999976873398,0.1530199944972992,0.489300012588501,0.5434600114822388,-0.3926199972629547,-0.2671999931335449,-0.7006099820137024,-0.37828999757766724,-0.7979999780654907,-0.24582000076770782,-0.8555799722671509,-0.0410350002348423,-0.21130000054836273,0.18788999319076538,-0.5372800230979919,0.47110000252723694,-0.7328699827194214,-0.4619700014591217,0.46724000573158264,-0.34757000207901,-0.28271999955177307,-0.6421999931335449,0.43476998805999756,0.28995999693870544,-0.4364199936389923,-0.6923999786376953,-0.5175700187683105,-1.0257999897003174,0.5870699882507324,0.6618199944496155,0.3264000117778778,0.5582200288772583,0.25532999634742737,-0.1081399992108345,0.046539999544620514,-0.46577000617980957,-0.1396300047636032,0.15362000465393066,-0.23483000695705414,-0.4280399978160858,0.03792399913072586,0.22894999384880066,0.18671999871730804,0.23734000325202942,0.34995999932289124,0.03728799894452095,-0.4682700037956238,0.15487000346183777,-0.1648699939250946,0.11753000319004059,0.3080900013446808,-0.2544099986553192,0.3097899854183197,0.8051000237464905,-0.09218999743461609,-0.06263499706983566,-0.3857499957084656,-0.549780011177063,0.3018999993801117,-0.5425800085067749,0.19739000499248505,-0.28999999165534973,0.09270299971103668,-0.48054999113082886,-0.48190999031066895,0.7277899980545044,0.2287600040435791,-0.456030011177063,0.03778599947690964,-0.3257099986076355,-0.4262300133705139,-0.058945998549461365,-0.5219600200653076,0.18801000714302063,0.1414099931716919,-0.20072999596595764,0.27083998918533325,-0.026133999228477478,0.13288000226020813,-1.4764000177383423,-0.05697200074791908,-0.3266200125217438,0.30493998527526855,0.7633100152015686,0.16787999868392944,-2.3559999465942383,-0.37615999579429626,-0.011489000171422958,1.982699990272522,0.36153000593185425,-0.22095000743865967,1.0824999809265137,-0.6767600178718567,0.09636899828910828,0.4856399893760681,0.20255999267101288,0.16666999459266663,-0.3591800034046173,0.13847999274730682,0.09653600305318832,0.13312000036239624,-0.06929799914360046,-0.6909499764442444,0.3556399941444397,-0.5085099935531616,-0.34940001368522644,-0.3356199860572815,0.4536300003528595,-0.2894900143146515,0.03219100087881088,0.1724800020456314,0.14749999344348907,-0.7021700143814087,-0.20280000567436218,-0.7475900053977966,-0.9659299850463867,-0.08390899747610092,-0.2869899868965149,0.11723999679088593,0.06683199852705002,0.21283000707626343,0.264710009098053,-0.04723700135946274,0.4935300052165985,-0.8061100244522095,-0.20785999298095703,0.5278300046920776,0.21441000699996948,0.3919700086116791,-0.2947700023651123]                         |\n",
            "|10000 maniacs_Rainy Day              |Rock   |[0.0,0.0,0.0,0.0,0.0,0.0,0.0,0.0,0.0,0.0,0.0,0.0,0.0,0.0,0.0,0.0,0.0,0.0,0.0,0.0,0.0,0.0,0.0,0.0,0.0,0.0,0.0,0.0,0.0,0.0,0.0,0.0,0.0,0.0,0.0,0.0,0.0,0.0,0.0,0.0,0.0,0.0,0.0,0.0,0.0,0.0,0.0,0.0,0.0,0.0,0.0,0.0,0.0,0.0,0.0,0.0,0.0,0.0,0.0,0.0,0.0,0.0,0.0,0.0,0.0,0.0,0.0,0.0,0.0,0.0,0.0,0.0,0.0,0.0,0.0,0.0,0.0,0.0,0.0,0.0,0.0,0.0,0.0,0.0,0.0,0.0,0.0,0.0,0.0,0.0,0.0,0.0,0.0,0.0,0.0,0.0,0.0,0.0,0.0,0.0,-0.366890013217926,0.4153999984264374,0.13478000462055206,-0.17840999364852905,-0.40049999952316284,0.20646999776363373,0.4274199903011322,1.128999948501587,-0.8398100137710571,-0.47955000400543213,0.021114999428391457,-0.1831900030374527,0.24587999284267426,-0.029047999531030655,0.2968299984931946,-0.44613000750541687,0.17493000626564026,-0.1661899983882904,-0.4957300126552582,-0.02654699981212616,0.7636899948120117,-0.20810000598430634,0.2649399936199188,0.3308500051498413,0.570389986038208,0.12831999361515045,-0.2832399904727936,0.07865200191736221,0.3833000063896179,-0.07401199638843536,-0.5672500133514404,-0.25826001167297363,0.14012999832630157,0.11077000200748444,-0.21628999710083008,0.40637001395225525,-0.45739999413490295,0.27935999631881714,0.16717000305652618,-0.16388000547885895,-0.6918399930000305,-0.3149299919605255,0.6559200286865234,-0.002242600079625845,-0.016975000500679016,0.10777000337839127,-0.18928000330924988,-0.7707899808883667,0.2433300018310547,-1.1467000246047974,0.1293099969625473,-0.5966799855232239,0.5235000252723694,1.0476000308990479,-0.8351699709892273,-2.626800060272217,-0.32837000489234924,0.2476699948310852,2.1535000801086426,0.6056100130081177,-0.5401899814605713,0.9973700046539307,-0.18483999371528625,-0.47044000029563904,-0.01926499977707863,0.341949999332428,0.3100599944591522,-0.31499001383781433,0.29989999532699585,-0.37646999955177307,-0.10040999948978424,-0.4837299883365631,-0.38982000946998596,-0.3442400097846985,-0.12195000052452087,0.5894500017166138,-0.15674999356269836,-0.3377400040626526,-1.044600009918213,-0.03792700171470642,0.3823699951171875,-0.06373299658298492,-0.1298999935388565,0.12898999452590942,-1.462499976158142,-0.22875000536441803,-0.36410000920295715,-0.10337000340223312,0.23736999928951263,-0.2349800020456314,0.15801000595092773,0.038339000195264816,0.013423999771475792,0.32534998655319214,-1.1755000352859497,0.04969500005245209,0.5722699761390686,0.024380000308156013,0.22105999290943146,0.4316900074481964,0.0,0.0,0.0,0.0,0.0,0.0,0.0,0.0,0.0,0.0,0.0,0.0,0.0,0.0,0.0,0.0,0.0,0.0,0.0,0.0,0.0,0.0,0.0,0.0,0.0,0.0,0.0,0.0,0.0,0.0,0.0,0.0,0.0,0.0,0.0,0.0,0.0,0.0,0.0,0.0,0.0,0.0,0.0,0.0,0.0,0.0,0.0,0.0,0.0,0.0,0.0,0.0,0.0,0.0,0.0,0.0,0.0,0.0,0.0,0.0,0.0,0.0,0.0,0.0,0.0,0.0,0.0,0.0,0.0,0.0,0.0,0.0,0.0,0.0,0.0,0.0,0.0,0.0,0.0,0.0,0.0,0.0,0.0,0.0,0.0,0.0,0.0,0.0,0.0,0.0,0.0,0.0,0.0,0.0,0.0,0.0,0.0,0.0,0.0,0.0]                                                                                                                                                                                                                                                                                                                                                                                                                                                                                                                                                                                                                                                                                                                                                                                                                                                                                                                                                                                                                                                                                                                                                                                                                                                                                                                                                                                                                                                                                                                                                                                                                                                                                                                                                                                                                                                                                                                                                                                                                                                                                                                                                                                                                                                                                                                                                                                                                                                                                                                                                                                                                                                                                                                                                                                                                                                                                                                                                                                                                                                                                                                                                                                                                                                                                                                               |\n",
            "|twista_Back 2 School                 |Hip Hop|[-0.03819400072097778,-0.24487000703811646,0.7281200289726257,-0.3996100127696991,0.08317200094461441,0.043953001499176025,-0.3914099931716919,0.3343999981880188,-0.5754500031471252,0.08745899796485901,0.28786998987197876,-0.06730999797582626,0.3090600073337555,-0.263839989900589,-0.13231000304222107,-0.20757000148296356,0.333950012922287,-0.33847999572753906,-0.3174299895763397,-0.4833599925041199,0.14640000462532043,-0.37303999066352844,0.345770001411438,0.05204100161790848,0.4494599997997284,-0.46970999240875244,0.026280000805854797,-0.5415499806404114,-0.15518000721931458,-0.14106999337673187,-0.03972199931740761,0.2827700078487396,0.14393000304698944,0.2346400022506714,-0.3102099895477295,0.08617299795150757,0.20397000014781952,0.5262399911880493,0.17163999378681183,-0.08237800002098083,-0.7178699970245361,-0.41530999541282654,0.2033499926328659,-0.12762999534606934,0.41367000341415405,0.5518699884414673,0.5790799856185913,-0.33476999402046204,-0.36559000611305237,-0.5485699772834778,-0.06289199739694595,0.26583999395370483,0.30204999446868896,0.9977499842643738,-0.8048099875450134,-3.0243000984191895,0.012539999559521675,-0.36941999197006226,2.2167000770568848,0.7220100164413452,-0.24977999925613403,0.9213600158691406,0.03451399877667427,0.46744999289512634,1.1079000234603882,-0.1935800015926361,-0.07457499951124191,0.23352999985218048,-0.05206200107932091,-0.22044000029563904,0.057162001729011536,-0.1580599993467331,-0.3079800009727478,-0.41624999046325684,0.379720002412796,0.1500599980354309,-0.5321199893951416,-0.20550000667572021,-1.2525999546051025,0.07162400335073471,0.7056499719619751,0.49744001030921936,-0.42063000798225403,0.2614800035953522,-1.5379999876022339,-0.30223000049591064,-0.07343800365924835,-0.2831200063228607,0.3710399866104126,-0.25216999650001526,0.016215000301599503,-0.01709900051355362,-0.3898400068283081,0.874239981174469,-0.7256900072097778,-0.5105800032615662,-0.5202800035476685,-0.14589999616146088,0.8277999758720398,0.2706199884414673,0.1040399968624115,0.7642199993133545,-0.44189000129699707,0.5649499893188477,0.02649799920618534,-0.2505300045013428,0.23907999694347382,0.46663999557495117,-0.5839899778366089,0.13707999885082245,-0.35436999797821045,-0.08444499969482422,0.08686999976634979,0.3853699862957001,0.1342799961566925,0.12988999485969543,0.3090600073337555,-0.14013999700546265,-0.2559399902820587,0.14428000152111053,-0.5337200164794922,-0.2513299882411957,-0.43827998638153076,0.18881000578403473,-0.588949978351593,-0.5545700192451477,0.1494400054216385,-0.8272500038146973,-0.5149499773979187,0.013098999857902527,-0.9697499871253967,0.3270399868488312,-0.44484999775886536,0.3594000041484833,-0.5508099794387817,0.17645999789237976,-0.16309000551700592,0.6468499898910522,-0.1499200016260147,0.14486999809741974,-1.2577999830245972,0.06178800016641617,-0.9205999970436096,-0.2029300034046173,-0.4788599908351898,-0.03832000121474266,0.27542001008987427,-0.0911640003323555,-0.4732300043106079,-0.33709999918937683,0.9427099823951721,-0.45061999559402466,-0.1327199935913086,0.5008599758148193,-0.23059000074863434,-2.2808001041412354,0.014948000200092793,-0.6359599828720093,1.6579999923706055,0.3471300005912781,-0.14632999897003174,0.8294900059700012,0.688759982585907,-0.5322800278663635,0.8652600049972534,0.4328800141811371,-0.3402700126171112,0.4654799997806549,0.7052099704742432,0.1866600066423416,0.3591800034046173,0.5583500266075134,0.541920006275177,0.278219997882843,-1.0125999450683594,-0.21313999593257904,-0.03605800122022629,-0.2843100130558014,-1.0312999486923218,-0.7566199898719788,0.29315999150276184,0.6693999767303467,-0.49838000535964966,0.13956999778747559,-1.8071999549865723,-0.036577001214027405,0.7238199710845947,-0.6568800210952759,-0.6343500018119812,0.08245699852705002,0.34797999262809753,-0.46783000230789185,0.14910000562667847,-0.06067200005054474,0.027715999633073807,0.5099899768829346,-0.5329999923706055,-0.9244700074195862,0.3228999972343445,-0.04236600175499916,-0.03819400072097778,-0.24487000703811646,0.7281200289726257,-0.3996100127696991,0.08317200094461441,0.043953001499176025,-0.3914099931716919,0.3343999981880188,-0.5754500031471252,0.08745899796485901,0.28786998987197876,-0.06730999797582626,0.3090600073337555,-0.263839989900589,-0.13231000304222107,-0.20757000148296356,0.333950012922287,-0.33847999572753906,-0.3174299895763397,-0.4833599925041199,0.14640000462532043,-0.37303999066352844,0.345770001411438,0.05204100161790848,0.4494599997997284,-0.46970999240875244,0.026280000805854797,-0.5415499806404114,-0.15518000721931458,-0.14106999337673187,-0.03972199931740761,0.2827700078487396,0.14393000304698944,0.2346400022506714,-0.3102099895477295,0.08617299795150757,0.20397000014781952,0.5262399911880493,0.17163999378681183,-0.08237800002098083,-0.7178699970245361,-0.41530999541282654,0.2033499926328659,-0.12762999534606934,0.41367000341415405,0.5518699884414673,0.5790799856185913,-0.33476999402046204,-0.36559000611305237,-0.5485699772834778,-0.06289199739694595,0.26583999395370483,0.30204999446868896,0.9977499842643738,-0.8048099875450134,-3.0243000984191895,0.012539999559521675,-0.36941999197006226,2.2167000770568848,0.7220100164413452,-0.24977999925613403,0.9213600158691406,0.03451399877667427,0.46744999289512634,1.1079000234603882,-0.1935800015926361,-0.07457499951124191,0.23352999985218048,-0.05206200107932091,-0.22044000029563904,0.057162001729011536,-0.1580599993467331,-0.3079800009727478,-0.41624999046325684,0.379720002412796,0.1500599980354309,-0.5321199893951416,-0.20550000667572021,-1.2525999546051025,0.07162400335073471,0.7056499719619751,0.49744001030921936,-0.42063000798225403,0.2614800035953522,-1.5379999876022339,-0.30223000049591064,-0.07343800365924835,-0.2831200063228607,0.3710399866104126,-0.25216999650001526,0.016215000301599503,-0.01709900051355362,-0.3898400068283081,0.874239981174469,-0.7256900072097778,-0.5105800032615662,-0.5202800035476685,-0.14589999616146088,0.8277999758720398,0.2706199884414673]     |\n",
            "|10000 maniacs_Anthem For Doomed Youth|Rock   |[-0.1767899990081787,0.11124999821186066,0.5670999884605408,-0.18619999289512634,-0.01830199919641018,1.0235999822616577,0.09559699892997742,0.25644001364707947,0.6139000058174133,0.36410999298095703,0.19633999466896057,-0.27623000741004944,-0.364329993724823,-0.4516800045967102,0.29767999053001404,1.0250999927520752,0.11146999895572662,0.719760000705719,0.13308000564575195,-0.29082000255584717,0.881380021572113,-0.20035000145435333,0.10499999672174454,-0.10971999913454056,0.6807500123977661,0.11739999800920486,-0.6767299771308899,-0.09829899668693542,-0.16364000737667084,-0.039751000702381134,0.6623299717903137,-0.870389997959137,-0.1809699982404709,-0.461870014667511,-0.4636699855327606,0.18905000388622284,-0.352649986743927,-0.2213899940252304,0.6318699717521667,0.3932499885559082,0.1333799958229065,1.0583000183105469,0.09892299771308899,-0.09029299765825272,0.1945600062608719,0.16890999674797058,0.5543000102043152,0.2924000024795532,-0.5078099966049194,0.3262600004673004,0.15477000176906586,0.5508999824523926,0.5672000050544739,0.06436699628829956,0.024619000032544136,-0.3374300003051758,1.1102999448776245,0.6865599751472473,-0.05316599830985069,0.22516000270843506,-0.4536600112915039,0.33768001198768616,-0.9330899715423584,-0.2537600100040436,0.6008399724960327,-0.2229900062084198,-0.19085000455379486,-0.1923699975013733,0.4143800139427185,-0.2515999972820282,0.24010999500751495,-0.47328999638557434,-0.16571000218391418,0.2562499940395355,0.038683000952005386,0.18352000415325165,-0.6132400035858154,0.07844799757003784,-0.23080000281333923,0.6313400268554688,0.3551200032234192,0.5687999725341797,0.01918100006878376,0.8241599798202515,-0.2987399995326996,-0.3980199992656708,0.11045999825000763,-1.2188999652862549,-0.15647999942302704,-0.12262000143527985,0.06218399852514267,0.3086400032043457,0.21455000340938568,-0.19585999846458435,0.618690013885498,-0.5043799877166748,-0.4881399869918823,-0.5019699931144714,0.20009000599384308,-0.5545399785041809,0.0,0.0,0.0,0.0,0.0,0.0,0.0,0.0,0.0,0.0,0.0,0.0,0.0,0.0,0.0,0.0,0.0,0.0,0.0,0.0,0.0,0.0,0.0,0.0,0.0,0.0,0.0,0.0,0.0,0.0,0.0,0.0,0.0,0.0,0.0,0.0,0.0,0.0,0.0,0.0,0.0,0.0,0.0,0.0,0.0,0.0,0.0,0.0,0.0,0.0,0.0,0.0,0.0,0.0,0.0,0.0,0.0,0.0,0.0,0.0,0.0,0.0,0.0,0.0,0.0,0.0,0.0,0.0,0.0,0.0,0.0,0.0,0.0,0.0,0.0,0.0,0.0,0.0,0.0,0.0,0.0,0.0,0.0,0.0,0.0,0.0,0.0,0.0,0.0,0.0,0.0,0.0,0.0,0.0,0.0,0.0,0.0,0.0,0.0,0.0,0.0,0.0,0.0,0.0,0.0,0.0,0.0,0.0,0.0,0.0,0.0,0.0,0.0,0.0,0.0,0.0,0.0,0.0,0.0,0.0,0.0,0.0,0.0,0.0,0.0,0.0,0.0,0.0,0.0,0.0,0.0,0.0,0.0,0.0,0.0,0.0,0.0,0.0,0.0,0.0,0.0,0.0,0.0,0.0,0.0,0.0,0.0,0.0,0.0,0.0,0.0,0.0,0.0,0.0,0.0,0.0,0.0,0.0,0.0,0.0,0.0,0.0,0.0,0.0,0.0,0.0,0.0,0.0,0.0,0.0,0.0,0.0,0.0,0.0,0.0,0.0,0.0,0.0,0.0,0.0,0.0,0.0,0.0,0.0,0.0,0.0,0.0,0.0,0.0,0.0,0.0,0.0,0.0,0.0,0.0,0.0,0.0,0.0,0.0,0.0]                                                                                                                                                                                                                                                                                                                                                                                                                                                                                                                                                                                                                                                                                                                                                                                                                                                                                                                                                                                                                                                                                                                                                                                                                                                                                                                                                                                                                                                                                                                                                                                                                                                                                                                                                                                                                                                                                                                                                                                                                                                                                                                                                                                                                                                                                                                                                                                                                                                                                                                                                                                                                                                                                                                                                                                                                                                                                                                                                                                                                                                                                                                                                                                                                                                                                                                                                    |\n",
            "|10000 maniacs_All That Never Happens |Rock   |[-0.02961999922990799,0.02501000091433525,0.5562800168991089,-0.4010699987411499,0.31202998757362366,0.7289800047874451,-0.16203999519348145,0.030799999833106995,0.35242000222206116,-0.6022099852561951,-0.030427999794483185,0.8610699772834778,0.7062399983406067,-0.14869000017642975,-0.2883700132369995,-0.6762999892234802,0.8030999898910522,0.7310100197792053,-0.08086799830198288,0.3576599955558777,0.22464999556541443,0.36487001180648804,0.024096999317407608,-0.00721239997074008,0.4534299969673157,0.8581699728965759,-0.21828000247478485,-0.5925800204277039,1.003100037574768,0.006334300152957439,0.5164300203323364,0.2428400069475174,-0.1377899944782257,0.04668600112199783,-0.3069700002670288,-0.037772998213768005,-0.23124000430107117,-0.7301099896430969,-0.22248999774456024,-1.1748000383377075,0.3019999861717224,0.0852309986948967,0.1752299964427948,0.028651999309659004,-0.31338000297546387,-0.2346699982881546,0.40314000844955444,0.9238799810409546,-0.24223999679088593,-1.3849999904632568,0.015852000564336777,-0.49981001019477844,0.13853999972343445,1.1617000102996826,0.3523299992084503,-1.5062999725341797,0.2845500111579895,0.6772500276565552,0.4438599944114685,0.21196000277996063,-0.13162000477313995,1.1687999963760376,-0.7486600279808044,-0.8265100121498108,0.7591999769210815,0.4924899935722351,0.7870299816131592,0.4392800033092499,-0.06396599858999252,-0.5500100255012512,0.4577000141143799,-0.15289999544620514,0.05807200074195862,0.14943000674247742,0.10822000354528427,-0.2584399878978729,0.3964399993419647,0.05096700042486191,-0.3624500036239624,-0.09429100155830383,-0.5459499955177307,-0.05931700021028519,0.220660001039505,0.7271599769592285,-0.36983001232147217,0.7110000252723694,-0.5200499892234802,-0.3729499876499176,-0.37942999601364136,0.40011000633239746,-0.6768400073051453,0.16771000623703003,0.5351200103759766,-0.07684099674224854,-0.5937399864196777,-0.1316400021314621,0.1535400003194809,-0.004301299806684256,-0.23465999960899353,0.08447899669408798,-0.18970000743865967,0.05002399906516075,0.1908400058746338,-0.04918399825692177,-0.08973699808120728,0.2100600004196167,-0.5495200157165527,0.09837699681520462,-0.20135000348091125,0.34240999817848206,-0.09267699718475342,0.16099999845027924,-0.1326799988746643,-0.2815999984741211,0.18737000226974487,-0.42958998680114746,0.9603899717330933,0.13971999287605286,-1.0780999660491943,0.4051800072193146,0.5053899884223938,-0.5506399869918823,0.4844000041484833,0.38043999671936035,-0.0029054998885840178,-0.3494200110435486,-0.09969600290060043,-0.7836800217628479,1.0362999439239502,-0.2313999980688095,-0.4712100028991699,0.5712599754333496,-0.2145400047302246,0.35958001017570496,-0.48319000005722046,1.087499976158142,0.2852399945259094,0.12447000294923782,-0.03924800083041191,-0.07673200219869614,-0.7634299993515015,-0.32409000396728516,-0.5748999714851379,-1.0893000364303589,-0.4181100130081177,0.451200008392334,0.12111999839544296,-0.513670027256012,-0.13348999619483948,-1.1377999782562256,-0.2876800000667572,0.16774000227451324,0.5580400228500366,1.538699984550476,0.018859000876545906,-2.972100019454956,-0.24216000735759735,-0.9249500036239624,2.199199914932251,0.28233999013900757,-0.34779998660087585,0.5162100195884705,-0.43386998772621155,0.36851999163627625,0.7457299828529358,0.07210200279951096,0.2793099880218506,0.9256899952888489,-0.050335999578237534,-0.8585600256919861,-0.13580000400543213,-0.9255099892616272,-0.33991000056266785,-1.0393999814987183,-0.06720300018787384,-0.21378999948501587,-0.47690001130104065,0.21377000212669373,-0.8400800228118896,0.052535999566316605,0.5929800271987915,0.29603999853134155,-0.6764400005340576,0.13916000723838806,-1.5504000186920166,-0.20765000581741333,0.7221999764442444,0.5205600261688232,-0.07622099667787552,-0.1519400030374527,-0.13133999705314636,0.0586169995367527,-0.3186900019645691,-0.6141899824142456,-0.6239299774169922,-0.41547998785972595,-0.03817500174045563,-0.3980399966239929,0.4764699935913086,-0.1598300039768219,0.07324200123548508,0.1113400012254715,0.6228100061416626,-0.3590500056743622,-0.7073100209236145,0.43755999207496643,0.12818999588489532,0.13478000462055206,0.3428199887275696,-0.3166100084781647,0.5836300253868103,-0.09365899860858917,0.5544000267982483,-0.03873300179839134,0.6264100074768066,-0.5107100009918213,-0.03893300145864487,0.026204999536275864,-0.4900600016117096,-0.1780100017786026,0.1497499942779541,-0.225600004196167,0.37801000475883484,0.21709999442100525,0.7532899975776672,0.19315999746322632,-0.5532799959182739,-0.7361999750137329,0.3333899974822998,-0.23333999514579773,-0.09859199821949005,0.8544999957084656,-0.0755700021982193,-0.008197399787604809,-0.4941900074481964,-0.07541599869728088,-0.13138000667095184,0.12208999693393707,0.034605998545885086,-0.40880000591278076,-0.6989200115203857,-0.4964199960231781,0.516979992389679,-0.1421400010585785,0.0413069985806942,0.29190000891685486,0.2127700001001358,-0.6299300193786621,0.35931000113487244,-0.7140499949455261,-0.1882999986410141,-0.003462200053036213,0.39228999614715576,1.4246000051498413,-0.16196000576019287,-2.8914999961853027,-0.536109983921051,0.08630699664354324,1.624899983406067,0.7756699919700623,-0.25685998797416687,1.0326999425888062,0.15666000545024872,0.4745100140571594,0.7219399809837341,-0.22697000205516815,0.5329499840736389,0.2646099925041199,0.29596999287605286,0.3363800048828125,-0.14925000071525574,-0.4457800090312958,0.18480999767780304,-0.5215499997138977,-0.2252500057220459,0.17517000436782837,0.05383199825882912,-0.4676400125026703,-1.0003000497817993,-0.16030000150203705,0.6985999941825867,-0.12426000088453293,-0.6952599883079529,0.08197300136089325,-1.376099944114685,-0.49588000774383545,0.05999400094151497,-0.23035000264644623,-0.5709999799728394,-0.6168199777603149,-0.04161800071597099,-0.6317700147628784,-0.31650999188423157,0.5441100001335144,-0.8165599703788757,0.008947299793362617,0.03331900015473366,0.5341699719429016,-0.16459999978542328,-0.275160014629364]           |\n",
            "|10000 maniacs_Back O' The Moon       |Rock   |[0.004880399908870459,0.3146899938583374,0.19325000047683716,-0.04778899997472763,-0.22479000687599182,0.43022000789642334,-0.058097999542951584,0.5598899722099304,0.15602000057697296,-0.23510000109672546,-0.019021999090909958,-0.33302998542785645,0.33849000930786133,-0.03793900087475777,0.38062000274658203,0.4131399989128113,-0.4768500030040741,0.11811000108718872,0.37950000166893005,0.41484999656677246,0.838670015335083,0.5211300253868103,0.18877999484539032,-1.0175000429153442,0.35267001390457153,-0.2790200114250183,0.16301000118255615,0.256989985704422,0.05056599900126457,-0.39142000675201416,-0.3829500079154968,0.3077400028705597,-0.2074200063943863,-0.9464899897575378,-0.5303599834442139,-0.08310700207948685,-0.4753499925136566,-0.0492670014500618,0.5252299904823303,-0.7156199812889099,0.4556800127029419,0.25534000992774963,0.17659999430179596,-0.32326000928878784,-0.5944700241088867,-0.1981000006198883,0.11952000111341476,0.5905900001525879,-0.1876700073480606,-0.1462000012397766,0.5131300091743469,-0.6475499868392944,0.503790020942688,0.42785999178886414,-0.012280000373721123,-1.7156000137329102,0.40709999203681946,0.36305999755859375,0.4309000074863434,0.26985999941825867,-0.1768999993801117,0.6868399977684021,-0.0976099967956543,0.1377899944782257,0.8963199853897095,-0.3662300109863281,0.4856399893760681,-0.14347000420093536,0.14562000334262848,-0.1820800006389618,-0.5590699911117554,-0.3061099946498871,-0.20316000282764435,-0.26548001170158386,0.3664500117301941,0.4338400065898895,-0.004328299779444933,-0.9024800062179565,0.014436000026762486,0.07666199654340744,-0.24769000709056854,-0.21782000362873077,0.072502002120018,-0.4711199998855591,-0.8100399971008301,-0.08935999870300293,0.2780799865722656,-0.492139995098114,-0.5678099989891052,-0.6693599820137024,-0.40281999111175537,0.480569988489151,-0.008194499649107456,-0.3560299873352051,-0.35954999923706055,-0.27118000388145447,-0.9640600085258484,-0.3154999911785126,-0.1939699947834015,-0.16293999552726746,-0.3397899866104126,0.20940999686717987,0.46347999572753906,-0.6479200124740601,-0.3837699890136719,0.038033999502658844,0.1712699979543686,0.15977999567985535,0.46619001030921936,-0.019169000908732414,0.41479000449180603,-0.34349000453948975,0.26872000098228455,0.04464000090956688,0.4213100075721741,-0.4103200137615204,0.15458999574184418,0.022238999605178833,-0.6465299725532532,0.25255998969078064,0.043136000633239746,-0.1944500058889389,0.4651600122451782,0.4565100073814392,0.6858800053596497,0.09129499644041061,0.21875,-0.7035099864006042,0.16785000264644623,-0.35078999400138855,-0.12634000182151794,0.6638399958610535,-0.2581999897956848,0.03654199838638306,-0.1360500007867813,0.4025300145149231,0.14289000630378723,0.3813199996948242,-0.12283000349998474,-0.45886000990867615,-0.2528199851512909,-0.30432000756263733,-0.11214999854564667,-0.261819988489151,-0.22482000291347504,-0.44554001092910767,0.29910001158714294,-0.8561199903488159,-0.14503000676631927,-0.4908599853515625,0.008297299966216087,-0.17490999400615692,0.2752400040626526,1.4400999546051025,-0.2123900055885315,-2.8434998989105225,-0.2795799970626831,-0.4572199881076813,1.6385999917984009,0.7880799770355225,-0.552619993686676,0.6499999761581421,0.08642599731683731,0.3901199996471405,1.0631999969482422,-0.3537899851799011,0.4832800030708313,0.34599998593330383,0.8417400121688843,0.09870699793100357,-0.24212999641895294,-0.27052998542785645,0.04528699815273285,-0.40147000551223755,0.11394999921321869,0.006222600117325783,0.03667299821972847,0.018518000841140747,-1.021299958229065,-0.20805999636650085,0.640720009803772,-0.06876300275325775,-0.5863500237464905,0.33476001024246216,-1.1432000398635864,-0.11479999870061874,-0.2509100139141083,-0.45906999707221985,-0.09681899845600128,-0.17946000397205353,-0.06335099786520004,-0.6741200089454651,-0.06889499723911285,0.5360400080680847,-0.8777300119400024,0.3180199861526489,-0.3924199938774109,-0.2339400053024292,0.47297999262809753,-0.02880300022661686,-0.03819400072097778,-0.24487000703811646,0.7281200289726257,-0.3996100127696991,0.08317200094461441,0.043953001499176025,-0.3914099931716919,0.3343999981880188,-0.5754500031471252,0.08745899796485901,0.28786998987197876,-0.06730999797582626,0.3090600073337555,-0.263839989900589,-0.13231000304222107,-0.20757000148296356,0.333950012922287,-0.33847999572753906,-0.3174299895763397,-0.4833599925041199,0.14640000462532043,-0.37303999066352844,0.345770001411438,0.05204100161790848,0.4494599997997284,-0.46970999240875244,0.026280000805854797,-0.5415499806404114,-0.15518000721931458,-0.14106999337673187,-0.03972199931740761,0.2827700078487396,0.14393000304698944,0.2346400022506714,-0.3102099895477295,0.08617299795150757,0.20397000014781952,0.5262399911880493,0.17163999378681183,-0.08237800002098083,-0.7178699970245361,-0.41530999541282654,0.2033499926328659,-0.12762999534606934,0.41367000341415405,0.5518699884414673,0.5790799856185913,-0.33476999402046204,-0.36559000611305237,-0.5485699772834778,-0.06289199739694595,0.26583999395370483,0.30204999446868896,0.9977499842643738,-0.8048099875450134,-3.0243000984191895,0.012539999559521675,-0.36941999197006226,2.2167000770568848,0.7220100164413452,-0.24977999925613403,0.9213600158691406,0.03451399877667427,0.46744999289512634,1.1079000234603882,-0.1935800015926361,-0.07457499951124191,0.23352999985218048,-0.05206200107932091,-0.22044000029563904,0.057162001729011536,-0.1580599993467331,-0.3079800009727478,-0.41624999046325684,0.379720002412796,0.1500599980354309,-0.5321199893951416,-0.20550000667572021,-1.2525999546051025,0.07162400335073471,0.7056499719619751,0.49744001030921936,-0.42063000798225403,0.2614800035953522,-1.5379999876022339,-0.30223000049591064,-0.07343800365924835,-0.2831200063228607,0.3710399866104126,-0.25216999650001526,0.016215000301599503,-0.01709900051355362,-0.3898400068283081,0.874239981174469,-0.7256900072097778,-0.5105800032615662,-0.5202800035476685,-0.14589999616146088,0.8277999758720398,0.2706199884414673]   |\n",
            "|cyndi lauper_True Colors             |Pop    |[-0.4988600015640259,0.7660199999809265,0.8975099921226501,-0.7854700088500977,-0.6855000257492065,0.6260899901390076,-0.3965499997138977,0.3491300046443939,0.33333998918533325,-0.45232999324798584,0.6122300028800964,0.07594799995422363,0.22530999779701233,0.1636500060558319,0.28095000982284546,-0.24758000671863556,0.009900899603962898,0.711080014705658,-0.7585899829864502,0.8742300271987915,0.003104100003838539,0.3579599857330322,-0.3523299992084503,-0.6650000214576721,0.38446998596191406,0.62677001953125,-0.5154299736022949,-0.9665300250053406,0.6151700019836426,-0.7545499801635742,-0.01235899981111288,1.1188000440597534,0.35719001293182373,0.007176899816840887,0.2025499939918518,0.5011000037193298,-0.4404599964618683,0.1066100001335144,0.793910026550293,-0.8094800114631653,-0.015600999817252159,-0.22888000309467316,-0.3419800102710724,-1.006500005722046,-0.8762999773025513,0.15164999663829803,-0.0853390023112297,-0.6464999914169312,-0.16732999682426453,-1.4499000310897827,-0.006590500008314848,0.004811299964785576,-0.012445000000298023,1.0473999977111816,-0.19381000101566315,-2.599100112915039,0.4052799940109253,0.4380300045013428,1.9332000017166138,0.45813998579978943,-0.04881900176405907,1.430799961090088,-0.7863900065422058,-0.20791999995708466,1.090000033378601,0.2481600046157837,1.1486999988555908,0.5148100256919861,-0.21831999719142914,-0.45719999074935913,0.13887999951839447,-0.2636899948120117,0.1364700049161911,-0.6053900122642517,0.09958600252866745,0.23343999683856964,0.1364700049161911,-0.18459999561309814,-0.04773399978876114,-0.1839199960231781,0.5271900296211243,-0.28850001096725464,-1.0742000341415405,-0.04670000076293945,-1.830199956893921,-0.2119700014591217,0.02979999966919422,-0.30963999032974243,-0.43386000394821167,-0.3646300137042999,-0.3273800015449524,-0.009342700242996216,0.4720500111579895,-0.5169100165367126,-0.591759979724884,-0.32343000173568726,0.20051999390125275,-0.41179001331329346,0.4053899943828583,0.785040020942688,0.3589000105857849,0.35861000418663025,0.7196699976921082,-0.2628999948501587,-0.7257900238037109,-0.017232000827789307,-0.34935998916625977,0.22022999823093414,0.1739100068807602,-0.5601300001144409,-0.15136000514030457,0.39351001381874084,-0.16594000160694122,-0.22383999824523926,-0.35776999592781067,-0.7806100249290466,-0.2847000062465668,0.49685999751091003,0.1554100066423416,1.0049999952316284,0.5485299825668335,0.09740100055932999,-0.010439000092446804,0.011254999786615372,0.12496999651193619,-0.2277200073003769,-0.030539000406861305,-0.7632399797439575,0.9258800148963928,-0.7216799855232239,0.08456899970769882,0.9846600294113159,-0.25209999084472656,-0.5336099863052368,-0.2021300047636032,-0.20666000247001648,-0.5944100022315979,0.42520999908447266,-0.1820099949836731,0.21557000279426575,0.11743000149726868,-0.6723499894142151,0.2322400063276291,-1.0226000547409058,-0.14977000653743744,-0.037032999098300934,0.5647100210189819,-0.027685999870300293,-0.1611499935388565,-1.2288000583648682,-0.11083000153303146,0.09033899754285812,-0.34035998582839966,0.9973999857902527,0.7545999884605408,-1.6833000183105469,0.45732998847961426,-0.12419000267982483,1.1877000331878662,0.26952001452445984,-0.1492300033569336,0.27904999256134033,-0.7980800271034241,-0.10621999949216843,0.6716799736022949,0.5102099776268005,0.35436001420021057,0.6707900166511536,-0.071601003408432,-0.2966099977493286,0.10467000305652618,-0.037390001118183136,-0.00845389999449253,-0.04155300185084343,0.03826599940657616,-0.09843599796295166,-0.8084200024604797,-0.3172000050544739,-0.32736000418663025,0.4416399896144867,0.29886001348495483,-0.21819999814033508,-0.8292999863624573,-0.048583999276161194,-0.9424899816513062,-0.4407300055027008,0.14205999672412872,0.40487000346183777,-0.2184000015258789,0.24990999698638916,-0.025707999244332314,0.04406899958848953,0.6652799844741821,-0.07996699959039688,-0.710860013961792,-0.014053000137209892,0.6242300271987915,0.3803600072860718,0.5095099806785583,0.07848899811506271,-0.07195299863815308,0.23127000033855438,0.02373100072145462,-0.506380021572113,0.3392300009727478,0.19589999318122864,-0.3294300138950348,0.1836400032043457,-0.18057000637054443,0.2896299958229065,0.20448000729084015,-0.5496000051498413,0.2739900052547455,0.5832700133323669,0.20467999577522278,-0.4922800064086914,0.1997399926185608,-0.07023700326681137,-0.8804900050163269,0.2948499917984009,0.1407099962234497,-0.10090000182390213,0.9944900274276733,0.36972999572753906,0.44554001092910767,0.2899799942970276,-0.13760000467300415,-0.5636500120162964,-0.029364999383687973,-0.412200003862381,-0.25268998742103577,0.6318100094795227,-0.44767001271247864,0.24363000690937042,-0.10813000053167343,0.2516399919986725,0.46966999769210815,0.37549999356269836,-0.2361299991607666,-0.14128999412059784,-0.44536998867988586,-0.6573699712753296,-0.042420998215675354,-0.2863599956035614,-0.28810998797416687,0.0637660026550293,0.20281000435352325,-0.5354200005531311,0.4130699932575226,-0.5972200036048889,-0.38613998889923096,0.19389000535011292,-0.17809000611305237,1.6618000268936157,-0.011819000355899334,-2.373699903488159,0.05842699855566025,-0.26980000734329224,1.2822999954223633,0.8192499876022339,-0.22322000563144684,0.7293199896812439,-0.05321099981665611,0.4350700080394745,0.8501099944114685,-0.42934998869895935,0.926639974117279,0.3905099928379059,1.058500051498413,-0.24560999870300293,-0.18264999985694885,-0.532800018787384,0.0595179982483387,-0.6601899862289429,0.18990999460220337,0.28835999965667725,-0.2433999925851822,0.5278400182723999,-0.6576200127601624,-0.14080999791622162,1.0491000413894653,0.5134000182151794,-0.23815999925136566,0.6989499926567078,-1.4812999963760376,-0.24869999289512634,-0.17936000227928162,-0.059137001633644104,-0.08055999875068665,-0.48781999945640564,0.014487000182271004,-0.6258999705314636,-0.32366999983787537,0.4186199903488159,-1.0807000398635864,0.4674200117588043,-0.4993099868297577,-0.7189499735832214,0.868939995765686,0.1953900009393692]       |\n",
            "|10000 maniacs_A Room For Everything  |Rock   |[0.23494000732898712,0.1521500051021576,0.1735299974679947,-1.0908000469207764,0.6519100069999695,0.3013699948787689,0.1009799987077713,0.4652999937534332,-0.2557699978351593,-0.25442999601364136,0.1937599927186966,0.30125001072883606,0.3269599974155426,-0.12206000089645386,-0.05889900028705597,-0.6081799864768982,-0.167930006980896,0.3409999907016754,0.024914000183343887,-0.3580799996852875,0.29280000925064087,0.8180999755859375,0.5303500294685364,-0.26100000739097595,0.07477699965238571,-0.0260390006005764,-0.8331000208854675,-0.1930599957704544,0.15222999453544617,0.5276700258255005,-0.2358500063419342,0.3233500123023987,0.2629700005054474,-0.19156000018119812,0.3356100022792816,0.39173999428749084,-0.48096001148223877,-0.009860699996352196,0.08606799691915512,0.8557299971580505,0.09233900159597397,-0.1227400004863739,0.16558000445365906,-0.2581700086593628,-0.3055500090122223,0.16806000471115112,0.2267100065946579,-0.9250500202178955,0.13042999804019928,-0.3468799889087677,0.09296099841594696,0.32561999559402466,0.07794400304555893,1.236199975013733,0.3093299865722656,-2.6561999320983887,-0.013964000158011913,0.4263499975204468,1.327299952507019,0.20381000638008118,-0.4048900008201599,0.11236000061035156,0.15758000314235687,0.4148299992084503,0.991100013256073,0.7153499722480774,1.0091999769210815,-0.2154799997806549,0.25525999069213867,0.9856600165367126,-0.04600999876856804,-0.04827199876308441,-0.206619992852211,-0.041391998529434204,0.014035999774932861,-0.04497599974274635,-0.2145099937915802,0.7717900276184082,-0.09334100037813187,-0.35040000081062317,0.5338600277900696,0.15011000633239746,-0.5803200006484985,0.0944880023598671,-1.1607999801635742,0.17935000360012054,-0.07176800072193146,0.06550099700689316,0.06666299700737,-0.40643998980522156,-0.2690899968147278,0.2845099866390228,-0.47890999913215637,0.1755100041627884,-0.44971999526023865,-0.28143998980522156,0.09896299988031387,0.3375700116157532,1.3487000465393066,0.27414000034332275,0.1155799999833107,1.0311000347137451,0.5298799872398376,-0.42673999071121216,0.7847200036048889,0.7602099776268005,-1.0286999940872192,-0.6521499752998352,-0.11088000237941742,-0.6055499911308289,-0.5360299944877625,-0.151309996843338,-0.32714998722076416,0.422650009393692,-0.026265999302268028,-0.010417000390589237,-0.8023800253868103,0.35721999406814575,-0.12756000459194183,0.5468599796295166,0.09260399639606476,-0.0932060033082962,0.18982000648975372,-0.663860023021698,0.44266998767852783,-0.1128700003027916,0.16338999569416046,0.7183799743652344,0.7554500102996826,0.7864199876785278,0.5015100240707397,0.03275499865412712,-0.21246999502182007,0.4133000075817108,-0.14665000140666962,-0.31915000081062317,0.3853299915790558,0.2985199987888336,0.5276600122451782,-0.14086000621318817,-0.7475900053977966,0.132860004901886,-0.39656001329421997,0.5751399993896484,0.20458999276161194,-0.6963499784469604,-0.3526400029659271,-0.47936001420021057,0.034384001046419144,-0.49362999200820923,-0.2454099953174591,0.098021000623703,0.20545999705791473,0.5134000182151794,0.6527299880981445,-1.301200032234192,0.7290300130844116,-0.14079000055789948,0.09772799909114838,0.23767000436782837,0.3964099884033203,1.0369999408721924,-0.1576700061559677,-0.29548999667167664,0.31720998883247375,-0.14484000205993652,0.5036299824714661,0.15971000492572784,0.010919000022113323,-0.40397000312805176,0.7243599891662598,0.14071999490261078,-0.330020010471344,-0.9341999888420105,0.2462099939584732,0.27423998713493347,-0.0756400004029274,-0.3001300096511841,-0.05819199979305267,-0.7874799966812134,-0.18628999590873718,-0.6073899865150452,0.23291000723838806,0.267630010843277,-1.5393999814987183,-0.11681000143289566,-0.07573699951171875,0.3899900019168854,0.2859799861907959,0.22663000226020813,0.14080999791622162,0.13134999573230743,-0.30943000316619873,-0.001227900036610663,-0.32491999864578247,0.25165000557899475,-1.1618000268936157,-0.582069993019104,0.6089100241661072,0.34046998620033264,0.17659999430179596,0.0938510000705719,0.24350999295711517,0.4431299865245819,-0.3903700113296509,0.1252399981021881,-0.199180006980896,0.598550021648407,-0.8203499913215637,0.2800599932670593,0.5423099994659424,0.023079000413417816,0.128370001912117,-0.044488999992609024,0.38370001316070557,-0.7565900087356567,0.402539998292923,-0.44620001316070557,-0.8159899711608887,-0.00915130041539669,0.6521900296211243,-0.04365599900484085,0.5491899847984314,-0.1669600009918213,0.7302799820899963,-0.20702999830245972,-0.06986299902200699,-0.31259000301361084,0.27226001024246216,0.0849049985408783,-0.6049799919128418,0.4282599985599518,0.6013399958610535,0.5095300078392029,-0.39072999358177185,0.4460799992084503,-0.3633100092411041,0.5085800290107727,-0.20307999849319458,-0.4350300133228302,-0.08682700246572495,-0.865809977054596,-1.0151000022888184,-0.35725000500679016,-0.12993000447750092,0.33239999413490295,0.3025999963283539,0.06727699935436249,-0.52947998046875,-0.8122299909591675,0.3956199884414673,-0.7953699827194214,0.24331000447273254,1.250599980354309,-1.0168999433517456,-3.339099884033203,-0.7969099879264832,-0.3387700021266937,1.3660000562667847,0.8751299977302551,-0.6370099782943726,0.6838099956512451,-0.05743199959397316,0.12541000545024872,-0.8258000016212463,-0.5611699819564819,0.30807000398635864,0.15449999272823334,0.6147300004959106,0.6740300059318542,-0.6083300113677979,-0.2591100037097931,-0.3561899960041046,-0.7118899822235107,-0.31207001209259033,0.03523800149559975,0.22487999498844147,-0.3349199891090393,-1.1585999727249146,-0.1737300008535385,0.9593700170516968,0.2447900027036667,-0.4620499908924103,-0.07594099640846252,-1.0844000577926636,0.09367600083351135,0.4854600131511688,0.13007999956607819,0.23454999923706055,-0.27963998913764954,-0.24481000006198883,-0.01621299982070923,0.463019996881485,1.029099941253662,-0.8181700110435486,0.17521999776363373,0.06797000020742416,0.05630499869585037,1.2311999797821045,0.4069499969482422]                                                       |\n",
            "|rick astley_She Makes Me             |Pop    |[0.05671900138258934,0.13333000242710114,0.7268999814987183,-0.4633600115776062,-0.5933399796485901,0.7174599766731262,-0.11794999986886978,0.2161400020122528,0.43035998940467834,-0.6705300211906433,0.5748000144958496,0.26826998591423035,0.02465900033712387,0.1606599986553192,0.20399999618530273,-0.3924599885940552,-0.6329399943351746,0.6291499733924866,-0.7634000182151794,1.1581000089645386,0.3621799945831299,0.3193199932575226,-0.6561300158500671,-0.4779700040817261,0.29884999990463257,0.6243500113487244,-0.46059998869895935,-0.9627599716186523,1.2214000225067139,-0.23151999711990356,-0.06888899952173233,0.6351900100708008,0.7754600048065186,0.331279993057251,-0.3522000014781952,0.74235999584198,-0.6670299768447876,0.32260000705718994,0.4348999857902527,-0.6015400290489197,-0.4206700026988983,0.021990999579429626,0.16378000378608704,-0.956820011138916,-0.6446400284767151,-0.09411100298166275,-0.27105000615119934,-0.23311999440193176,-0.3845300078392029,-1.2664999961853027,-0.18288999795913696,0.5043200254440308,-0.054260000586509705,1.1871999502182007,-0.4714300036430359,-2.6561999320983887,0.44916999340057373,0.6721799969673157,1.4074000120162964,0.001917900051921606,0.40658000111579895,1.4286999702453613,-1.063099980354309,-0.21713000535964966,0.4779999852180481,0.13169999420642853,1.249400019645691,0.7297999858856201,-0.20880000293254852,0.2544899880886078,0.12296999990940094,0.34922000765800476,0.2405100017786026,-0.810230016708374,0.5204700231552124,0.6880099773406982,0.06778399646282196,-0.2213200032711029,-0.12176000326871872,-0.16237999498844147,0.5318899750709534,-0.3294300138950348,-0.5381799936294556,-0.22957000136375427,-1.4103000164031982,0.01649400033056736,-0.1349399983882904,-0.036251001060009,-0.7738500237464905,-0.3517799973487854,-0.11230000108480453,-0.37400001287460327,0.5513899922370911,-0.19572000205516815,-0.08704999834299088,-0.3146899938583374,-0.42256999015808105,-0.03528600186109543,-0.024910999462008476,0.6213099956512451,0.31435999274253845,0.1531199961900711,0.18258999288082123,-0.09589000046253204,0.1319500058889389,0.4428200125694275,-0.14013999700546265,0.8487899899482727,0.5705400109291077,0.20212000608444214,0.3575200140476227,0.2790200114250183,0.2424200028181076,0.5928599834442139,0.0709109976887703,-0.223580002784729,0.2904700040817261,0.2583700120449066,-0.5238800048828125,0.20739999413490295,-0.19031000137329102,0.07852300256490707,0.37389999628067017,0.13412000238895416,0.6006699800491333,0.7033200263977051,-0.538100004196167,-1.517799973487854,0.49623000621795654,-0.3138900101184845,-0.4069100022315979,1.1136000156402588,0.4727799892425537,0.3202599883079529,-0.07738400250673294,0.2922700047492981,-0.28672000765800476,0.13303999602794647,0.10367999970912933,-0.2659200131893158,-1.0749000310897827,-0.1974100023508072,0.1175599992275238,-0.5535500049591064,-0.269679993391037,-0.06938199698925018,-0.08730000257492065,-0.6108599901199341,0.7916899919509888,-0.45728999376296997,-0.2103700041770935,-0.44648998975753784,1.0217000246047974,1.4455000162124634,-0.15591999888420105,-2.902899980545044,-0.14452999830245972,-0.2266799956560135,0.8571500182151794,1.1398999691009521,0.18196000158786774,1.0707000494003296,-0.35308000445365906,0.1441500037908554,0.6391599774360657,-0.3527500033378601,0.7269200086593628,0.30608999729156494,0.26229000091552734,0.43191999197006226,0.13708999752998352,-0.12223999947309494,0.11473000049591064,0.21212999522686005,0.22664999961853027,0.8510000109672546,-0.10736999660730362,-0.4954499900341034,-0.8858399987220764,-0.5438699722290039,0.17201000452041626,-0.02536899968981743,-0.08052700012922287,0.33842000365257263,-1.9701000452041626,-1.4076000452041626,-0.07444299757480621,-0.21232999861240387,-0.659060001373291,-0.6036400198936462,0.012477000243961811,-0.7422999739646912,0.9570299983024597,0.4105699956417084,-0.533519983291626,0.6574699878692627,-0.5649200081825256,-0.04272500053048134,0.06096699833869934,0.7434499859809875,-0.1388300061225891,0.43858999013900757,0.9073600172996521,0.1899300068616867,0.16446000337600708,0.09245699644088745,-0.597599983215332,0.20403000712394714,-0.08784300088882446,-0.6982499957084656,0.006429600063711405,-0.43000999093055725,-0.12532000243663788,0.09502600133419037,0.04954500123858452,0.4409399926662445,-0.13620999455451965,-0.06487400084733963,0.14593000710010529,1.1466000080108643,-0.3032299876213074,-0.6633300185203552,-0.38029998540878296,-0.29888999462127686,0.18086999654769897,0.10118000209331512,-0.3687700033187866,-0.4191800057888031,-0.17770999670028687,-0.7176600098609924,0.0117419995367527,1.0009000301361084,-0.15575000643730164,-0.20709000527858734,-0.02082199975848198,0.2116200029850006,0.11556000262498856,0.17919999361038208,-0.29837000370025635,-0.10589999705553055,-0.1328900009393692,-0.3333899974822998,0.4085400104522705,-0.4952000081539154,-0.37035998702049255,-0.42285001277923584,-0.3078700006008148,-0.11210999637842178,0.0552310012280941,-0.03494099900126457,0.09574499726295471,-0.04056299850344658,0.048478998243808746,0.8327599763870239,0.21601000428199768,-2.4077000617980957,0.10074999928474426,-0.3937399983406067,1.1638000011444092,-0.0930429995059967,0.3934299945831299,0.2923699915409088,0.09410899877548218,-0.0737679973244667,0.5872700214385986,0.1316699981689453,0.12323000282049179,0.14800000190734863,-0.11620000004768372,0.13101999461650848,0.09276100248098373,-0.18945999443531036,0.05798099935054779,-0.11184000223875046,0.8268799781799316,0.2981399893760681,-0.09051299840211868,-0.7773799896240234,-0.7230899930000305,-0.3320600092411041,0.3080900013446808,-0.262719988822937,-0.7958099842071533,-0.5323600172996521,-0.8766899704933167,0.10199999809265137,0.1653899997472763,-0.004721200093626976,0.5970399975776672,-0.20595000684261322,0.03460099920630455,-0.3464600145816803,0.1512400060892105,-0.5808600187301636,-0.06005199998617172,-0.18331000208854675,-0.0644799992442131,-0.34869998693466187,-0.05500299856066704,0.6904399991035461]                                |\n",
            "|steve earle_Nothin' Without You      |Rock   |[0.0,0.0,0.0,0.0,0.0,0.0,0.0,0.0,0.0,0.0,0.0,0.0,0.0,0.0,0.0,0.0,0.0,0.0,0.0,0.0,0.0,0.0,0.0,0.0,0.0,0.0,0.0,0.0,0.0,0.0,0.0,0.0,0.0,0.0,0.0,0.0,0.0,0.0,0.0,0.0,0.0,0.0,0.0,0.0,0.0,0.0,0.0,0.0,0.0,0.0,0.0,0.0,0.0,0.0,0.0,0.0,0.0,0.0,0.0,0.0,0.0,0.0,0.0,0.0,0.0,0.0,0.0,0.0,0.0,0.0,0.0,0.0,0.0,0.0,0.0,0.0,0.0,0.0,0.0,0.0,0.0,0.0,0.0,0.0,0.0,0.0,0.0,0.0,0.0,0.0,0.0,0.0,0.0,0.0,0.0,0.0,0.0,0.0,0.0,0.0,0.7130500078201294,0.2199299931526184,0.6724100112915039,0.09105099737644196,0.2898600101470947,0.8937600255012512,0.48695001006126404,-0.37839001417160034,0.48201999068260193,-0.3745799958705902,-0.4449799954891205,0.5356900095939636,0.11349999904632568,0.5169699788093567,-0.09330599755048752,0.12665000557899475,0.2616100013256073,-0.3581700026988983,-0.1832199990749359,1.3737000226974487,-0.026203999295830727,-0.32673999667167664,-0.2747200131416321,0.1445399969816208,0.6801599860191345,0.8430299758911133,-0.5388299822807312,-0.7687699794769287,0.6430100202560425,0.4185900092124939,-0.25725001096725464,0.5466600060462952,0.514240026473999,-0.2768400013446808,-0.10147999972105026,0.5989800095558167,-0.320499986410141,-0.2631799876689911,0.5438600182533264,-0.6132000088691711,0.034446001052856445,0.43285998702049255,0.30234000086784363,-0.5281999707221985,0.6494200229644775,-0.1436000019311905,-0.9046300053596497,0.006113800220191479,0.5978099703788757,0.0068927002139389515,0.16301000118255615,0.034317001700401306,0.5022600293159485,1.1926000118255615,0.10492999851703644,-1.039199948310852,-0.5477100014686584,0.39945998787879944,0.02276100032031536,0.008250400424003601,0.5982699990272522,0.5289999842643738,-0.300709992647171,-0.4149399995803833,0.5180500149726868,-0.09481000155210495,0.7812899947166443,-0.06960300356149673,0.16874000430107117,-0.14983999729156494,-0.3115200102329254,-0.10719999670982361,0.1734199970960617,-0.08342400193214417,-0.48208001255989075,-0.17244000732898712,0.31801000237464905,-0.6534199714660645,-0.17398999631404877,0.08011200278997421,-0.2056400030851364,0.6674399971961975,0.7039099931716919,-0.1406099945306778,-0.8458899855613708,-0.40163999795913696,-0.3235499858856201,0.1545100063085556,-0.20882999897003174,-0.8836600184440613,-0.06539499759674072,0.3255699872970581,1.0628000497817993,0.06398200243711472,0.09643500298261642,-0.15865999460220337,-0.6778799891471863,-0.36232998967170715,-0.2669000029563904,-0.23194999992847443,0.0,0.0,0.0,0.0,0.0,0.0,0.0,0.0,0.0,0.0,0.0,0.0,0.0,0.0,0.0,0.0,0.0,0.0,0.0,0.0,0.0,0.0,0.0,0.0,0.0,0.0,0.0,0.0,0.0,0.0,0.0,0.0,0.0,0.0,0.0,0.0,0.0,0.0,0.0,0.0,0.0,0.0,0.0,0.0,0.0,0.0,0.0,0.0,0.0,0.0,0.0,0.0,0.0,0.0,0.0,0.0,0.0,0.0,0.0,0.0,0.0,0.0,0.0,0.0,0.0,0.0,0.0,0.0,0.0,0.0,0.0,0.0,0.0,0.0,0.0,0.0,0.0,0.0,0.0,0.0,0.0,0.0,0.0,0.0,0.0,0.0,0.0,0.0,0.0,0.0,0.0,0.0,0.0,0.0,0.0,0.0,0.0,0.0,0.0,0.0]                                                                                                                                                                                                                                                                                                                                                                                                                                                                                                                                                                                                                                                                                                                                                                                                                                                                                                                                                                                                                                                                                                                                                                                                                                                                                                                                                                                                                                                                                                                                                                                                                                                                                                                                                                                                                                                                                                                                                                                                                                                                                                                                                                                                                                                                                                                                                                                                                                                                                                                                                                                                                                                                                                                                                                                                                                                                                                                                                                                                                                                                                                                                                                                                                                                                                                                                              |\n",
            "|10000 maniacs_Maddox Table           |Rock   |[-0.05861400067806244,0.22189000248908997,0.4149799942970276,-0.7106900215148926,-0.5069500207901001,1.2100000381469727,-0.5771700143814087,0.3474099934101105,0.2652899920940399,-0.35896000266075134,0.2650499939918518,-0.382750004529953,-0.5504800081253052,0.39215999841690063,0.3930799961090088,-0.13043999671936035,-1.3479000329971313,-0.15261000394821167,0.3735800087451935,0.09039399772882462,0.5122799873352051,0.07440000027418137,0.13887999951839447,-1.0097999572753906,0.36629998683929443,0.4075799882411957,-0.923259973526001,1.1414999961853027,0.7813599705696106,0.5113499760627747,-0.27129000425338745,-0.12936000525951385,0.7380300164222717,0.5827699899673462,-0.09193400293588638,-0.12404000014066696,0.20573000609874725,-0.3201499879360199,0.7160000205039978,0.008930300362408161,0.35964998602867126,0.20085999369621277,-0.572160005569458,-0.11163000017404556,-0.16669000685214996,-0.6261900067329407,0.5802199840545654,0.623170018196106,0.21940000355243683,-1.0765999555587769,0.14112000167369843,-0.3022800087928772,0.2595899999141693,-0.09774100035429001,0.11540000140666962,-1.107300043106079,0.5402399897575378,0.4332599937915802,0.767579972743988,0.023111000657081604,0.3082599937915802,1.0607999563217163,-0.4306100010871887,0.048277001827955246,0.1548600047826767,-0.31850001215934753,0.9415299892425537,-0.556850016117096,-0.29693999886512756,-0.31057000160217285,0.19405999779701233,-0.08586899936199188,0.2574000060558319,-0.782829999923706,0.12323000282049179,0.7418000102043152,0.1604200005531311,-0.8727099895477295,-0.46042999625205994,-0.2881700098514557,0.769760012626648,-1.1591999530792236,0.09718500077724457,-0.3555600047111511,-1.2791999578475952,-0.44701001048088074,-0.017806999385356903,-0.36076000332832336,-0.31439998745918274,-0.009110099636018276,1.0513999462127686,0.23928000032901764,-0.811269998550415,0.2850399911403656,0.14470000565052032,0.25690001249313354,-1.5187000036239624,0.2410999983549118,0.27483001351356506,0.06840399652719498,-0.3397899866104126,0.20940999686717987,0.46347999572753906,-0.6479200124740601,-0.3837699890136719,0.038033999502658844,0.1712699979543686,0.15977999567985535,0.46619001030921936,-0.019169000908732414,0.41479000449180603,-0.34349000453948975,0.26872000098228455,0.04464000090956688,0.4213100075721741,-0.4103200137615204,0.15458999574184418,0.022238999605178833,-0.6465299725532532,0.25255998969078064,0.043136000633239746,-0.1944500058889389,0.4651600122451782,0.4565100073814392,0.6858800053596497,0.09129499644041061,0.21875,-0.7035099864006042,0.16785000264644623,-0.35078999400138855,-0.12634000182151794,0.6638399958610535,-0.2581999897956848,0.03654199838638306,-0.1360500007867813,0.4025300145149231,0.14289000630378723,0.3813199996948242,-0.12283000349998474,-0.45886000990867615,-0.2528199851512909,-0.30432000756263733,-0.11214999854564667,-0.261819988489151,-0.22482000291347504,-0.44554001092910767,0.29910001158714294,-0.8561199903488159,-0.14503000676631927,-0.4908599853515625,0.008297299966216087,-0.17490999400615692,0.2752400040626526,1.4400999546051025,-0.2123900055885315,-2.8434998989105225,-0.2795799970626831,-0.4572199881076813,1.6385999917984009,0.7880799770355225,-0.552619993686676,0.6499999761581421,0.08642599731683731,0.3901199996471405,1.0631999969482422,-0.3537899851799011,0.4832800030708313,0.34599998593330383,0.8417400121688843,0.09870699793100357,-0.24212999641895294,-0.27052998542785645,0.04528699815273285,-0.40147000551223755,0.11394999921321869,0.006222600117325783,0.03667299821972847,0.018518000841140747,-1.021299958229065,-0.20805999636650085,0.640720009803772,-0.06876300275325775,-0.5863500237464905,0.33476001024246216,-1.1432000398635864,-0.11479999870061874,-0.2509100139141083,-0.45906999707221985,-0.09681899845600128,-0.17946000397205353,-0.06335099786520004,-0.6741200089454651,-0.06889499723911285,0.5360400080680847,-0.8777300119400024,0.3180199861526489,-0.3924199938774109,-0.2339400053024292,0.47297999262809753,-0.02880300022661686,0.08570300042629242,-0.22201000154018402,0.16569000482559204,0.1337299942970276,0.38238999247550964,0.3540099859237671,0.01286999974399805,0.22461000084877014,-0.4381699860095978,0.5016400218009949,-0.3587400019168854,-0.3498300015926361,0.05515599995851517,0.6964799761772156,-0.17958000302314758,0.06792599707841873,0.39100998640060425,0.1603900045156479,-0.26635000109672546,-0.2113800048828125,0.5369799733161926,0.49379000067710876,0.9366000294685364,0.6690199971199036,0.21793000400066376,-0.4664199948310852,0.22382999956607819,-0.3620400130748749,-0.17655999958515167,0.17479999363422394,-0.20366999506950378,0.13931000232696533,0.019832000136375427,-0.10412999987602234,-0.20243999361991882,0.550029993057251,-0.15459999442100525,0.986549973487854,-0.2686299979686737,-0.29089999198913574,-0.3286600112915039,-0.3418799936771393,-0.16943000257015228,-0.4200100004673004,-0.046727001667022705,-0.1632699966430664,0.7082399725914001,-0.7491099834442139,-0.09155900031328201,-0.9617800116539001,-0.19746999442577362,0.1028200015425682,0.5522099733352661,1.381600022315979,-0.6563599705696106,-3.250200033187866,-0.3155600130558014,-1.2055000066757202,1.770900011062622,0.4025999903678894,-0.7982699871063232,1.1597000360488892,-0.33041998744010925,0.3138200044631958,0.773859977722168,0.22595000267028809,0.5247099995613098,-0.034053001552820206,0.32047998905181885,0.07994800060987473,0.1775200068950653,-0.4942600131034851,-0.7004500031471252,-0.44569000601768494,0.17244000732898712,0.20277999341487885,0.023291999474167824,-0.20677000284194946,-1.0157999992370605,0.18324999511241913,0.567520022392273,0.31821000576019287,-0.6501100063323975,0.6827700138092041,-0.8658499717712402,-0.05939200147986412,-0.29264000058174133,-0.5566800236701965,-0.3470500111579895,-0.3289499878883362,0.4021500051021576,-0.12746000289916992,-0.20227999985218048,0.8736799955368042,-0.5450000166893005,0.7920500040054321,-0.20694999396800995,-0.0742729976773262,0.758080005645752,-0.3424299955368042]                                   |\n",
            "+-------------------------------------+-------+------------------------------------------------------------------------------------------------------------------------------------------------------------------------------------------------------------------------------------------------------------------------------------------------------------------------------------------------------------------------------------------------------------------------------------------------------------------------------------------------------------------------------------------------------------------------------------------------------------------------------------------------------------------------------------------------------------------------------------------------------------------------------------------------------------------------------------------------------------------------------------------------------------------------------------------------------------------------------------------------------------------------------------------------------------------------------------------------------------------------------------------------------------------------------------------------------------------------------------------------------------------------------------------------------------------------------------------------------------------------------------------------------------------------------------------------------------------------------------------------------------------------------------------------------------------------------------------------------------------------------------------------------------------------------------------------------------------------------------------------------------------------------------------------------------------------------------------------------------------------------------------------------------------------------------------------------------------------------------------------------------------------------------------------------------------------------------------------------------------------------------------------------------------------------------------------------------------------------------------------------------------------------------------------------------------------------------------------------------------------------------------------------------------------------------------------------------------------------------------------------------------------------------------------------------------------------------------------------------------------------------------------------------------------------------------------------------------------------------------------------------------------------------------------------------------------------------------------------------------------------------------------------------------------------------------------------------------------------------------------------------------------------------------------------------------------------------------------------------------------------------------------------------------------------------------------------------------------------------------------------------------------------------------------------------------------------------------------------------------------------------------------------------------------------------------------------------------------------------------------------------------------------------------------------------------------------------------------------------------------------------------------------------------------------------------------------------------------------------------------------------------------------------------------------------------------------------------------------------------------------------------------------------------------------------------------------------------------------------------------------------------------------------------------------------------------------------------------------------------------------------------------------------------------------------------------------------------------------------------------------------------------------------------------------------------------------------------------------------------------------------------------------------------------------------------------------------------------------------------------------------------------------------------------------------------------------------------------------------------------------------------------------------------------------------------------------------------------------------------------------------------------------------------------------------------------------------------------------------------------------------------------------------------------------------------------------------------------------------------------------------------------------------------------------------------------------------------------------------------------------------------------------------------------------------------------------------------------------------------------------------------------------------------------------------------------------------------------------------------------------------------------------------------------------------------------------------------------------------------------------------------------------------------------------------------------------------------------------------------------------------------------------------------------------------------------------------------------------------------------------------------------------------------------------------------------------------------------------------------------------------------------------------------------------------------------------------------------------------------------------------------------------------------------------------------------------------------------------------------------------------------------------------------------------------------------------------------------------------------------------+\n",
            "only showing top 20 rows\n",
            "\n"
          ],
          "name": "stdout"
        }
      ]
    },
    {
      "cell_type": "markdown",
      "metadata": {
        "id": "L6wMl9Jcb5P9",
        "colab_type": "text"
      },
      "source": [
        "1. filter out column != 300\n",
        "2. stringlabel indexer"
      ]
    },
    {
      "cell_type": "code",
      "metadata": {
        "id": "7CxcmRrqb4u8",
        "colab_type": "code",
        "colab": {
          "base_uri": "https://localhost:8080/",
          "height": 468
        },
        "outputId": "fb90fe4a-de16-4bce-a722-decb2e273a29"
      },
      "source": [
        "from pyspark.sql import functions as F\n",
        "import itertools\n",
        "import functools\n",
        "from pyspark.ml.linalg import Vectors, VectorUDT\n",
        "# @udf(VectorUDT())\n",
        "@udf(IntegerType())\n",
        "def get_Flatvector_len_2(embd_vec):\n",
        "  # embd_vec = list(embd_vec)\n",
        "  # merged = list(itertools.chain(*embd_vec))\n",
        "  # merged = functools.reduce(operator.iconcat, embd_vec, [])\n",
        "  # mer_floats = [float(np_float) for np_float in merged]\n",
        "  vec =Vectors.dense(embd_vec)\n",
        "  return (len(vec))\n",
        "  # return str(type(mer_floats[0]))\n",
        "  # return embd_vec[0].tolist()\n",
        "\n",
        "dataset_clsf_300_2 = bows_embed_2.select('features',get_Flatvector_len_2(F.col('features')).alias('feat_cnt'),'Genre')\n",
        "dataset_clsf_300_2.na.drop(subset=[\"feat_cnt\"])\n",
        "dataset_clsf_300_2.na.drop(subset=[\"features\"])\n",
        "# dataset_clsf_300.na.drop(subset=[\"label\"])\n",
        "# dataset_clsf.show(truncate = True)\n",
        "# dataset_clsf = dataset_clsf.groupBy(\"features\").agg(F.count('features'))\n",
        "dataset_clsf_300_2 = dataset_clsf_300_2.filter((dataset_clsf_300_2.feat_cnt == 300) | (dataset_clsf_300_2.Genre != ' ') ).select('features','Genre')\n",
        "# dataset_clsf_300 = dataset_clsf_300.filter(dataset_clsf_300.label != ' ').select('features','label')\n",
        "# dataset_clsf_300 = dataset_clsf_300.filter(F.col('features') != ' ')\n",
        "# dataset_clsf_300.show(dataset_clsf_300.count() )\n",
        "# dataset_clsf_300.repartition(1).count()\n",
        "\n",
        "dataset_clsf_300_2.show()\n",
        "# dataset_clsf_300.groupBy(\"feat_cnt\").agg(F.count('feat_cnt')).show()"
      ],
      "execution_count": 90,
      "outputs": [
        {
          "output_type": "stream",
          "text": [
            "+--------------------+-------+\n",
            "|            features|  Genre|\n",
            "+--------------------+-------+\n",
            "|[0.08570300042629...|   Rock|\n",
            "|[0.16274000704288...|   Rock|\n",
            "|[0.25975000858306...|    Pop|\n",
            "|[-0.3397899866104...|   Rock|\n",
            "|[-0.5718399882316...|   Rock|\n",
            "|[-0.3549099862575...|   Rock|\n",
            "|[-0.1897000074386...|   Rock|\n",
            "|[-0.0029325000941...|   Rock|\n",
            "|[-0.2100400030612...|   Rock|\n",
            "|[0.27656999230384...|   Rock|\n",
            "|[0.0,0.0,0.0,0.0,...|   Rock|\n",
            "|[-0.0381940007209...|Hip Hop|\n",
            "|[-0.1767899990081...|   Rock|\n",
            "|[-0.0296199992299...|   Rock|\n",
            "|[0.00488039990887...|   Rock|\n",
            "|[-0.3397899866104...|    Pop|\n",
            "|[0.23494000732898...|   Rock|\n",
            "|[0.05671900138258...|    Pop|\n",
            "|[0.0,0.0,0.0,0.0,...|   Rock|\n",
            "|[-0.0586140006780...|   Rock|\n",
            "+--------------------+-------+\n",
            "only showing top 20 rows\n",
            "\n"
          ],
          "name": "stdout"
        }
      ]
    },
    {
      "cell_type": "code",
      "metadata": {
        "id": "y-FW5vXljN77",
        "colab_type": "code",
        "colab": {
          "base_uri": "https://localhost:8080/",
          "height": 225
        },
        "outputId": "a5369d3f-7963-4725-a28d-db3730fb4021"
      },
      "source": [
        "from pyspark.ml import Pipeline\n",
        "from pyspark.ml.feature import OneHotEncoder, StringIndexer, VectorAssembler\n",
        "label_stringIdx = StringIndexer(inputCol = \"Genre\", outputCol = \"label\" ,)\n",
        "pipeline = Pipeline(stages=[ label_stringIdx])\n",
        "# Fit the pipeline to training documents.\n",
        "pipelineFit = pipeline.fit(dataset_clsf_300_2)\n",
        "dataset = pipelineFit.transform(dataset_clsf_300_2)\n",
        "selectedCols = ['features','label']\n",
        "dataset = dataset.select(selectedCols)\n",
        "dataset.show(5)\n",
        "dataset.select('label').distinct().collect()"
      ],
      "execution_count": 92,
      "outputs": [
        {
          "output_type": "stream",
          "text": [
            "+--------------------+-----+\n",
            "|            features|label|\n",
            "+--------------------+-----+\n",
            "|[0.08570300042629...|  0.0|\n",
            "|[0.16274000704288...|  0.0|\n",
            "|[0.08570300042629...|  1.0|\n",
            "|[-0.3397899866104...|  0.0|\n",
            "|[-0.5718399882316...|  0.0|\n",
            "+--------------------+-----+\n",
            "only showing top 5 rows\n",
            "\n"
          ],
          "name": "stdout"
        },
        {
          "output_type": "execute_result",
          "data": {
            "text/plain": [
              "[Row(label=0.0), Row(label=1.0), Row(label=2.0)]"
            ]
          },
          "metadata": {
            "tags": []
          },
          "execution_count": 92
        }
      ]
    },
    {
      "cell_type": "markdown",
      "metadata": {
        "id": "Br5RBPtrkaMp",
        "colab_type": "text"
      },
      "source": [
        "continue classification from here............................."
      ]
    }
  ]
}