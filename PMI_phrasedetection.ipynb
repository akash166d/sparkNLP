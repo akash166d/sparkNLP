{
  "nbformat": 4,
  "nbformat_minor": 0,
  "metadata": {
    "colab": {
      "name": "PMI_phrasedetection.ipynb",
      "provenance": [],
      "collapsed_sections": [],
      "toc_visible": true,
      "authorship_tag": "ABX9TyNr6DZrMC0MvniwKTz5Z0EQ",
      "include_colab_link": true
    },
    "kernelspec": {
      "name": "python3",
      "display_name": "Python 3"
    }
  },
  "cells": [
    {
      "cell_type": "markdown",
      "metadata": {
        "id": "view-in-github",
        "colab_type": "text"
      },
      "source": [
        "<a href=\"https://colab.research.google.com/github/akash166d/sparkNLP/blob/master/PMI_phrasedetection.ipynb\" target=\"_parent\"><img src=\"https://colab.research.google.com/assets/colab-badge.svg\" alt=\"Open In Colab\"/></a>"
      ]
    },
    {
      "cell_type": "markdown",
      "metadata": {
        "id": "nBmc0480QLzB"
      },
      "source": [
        "# Install Package/Lib"
      ]
    },
    {
      "cell_type": "markdown",
      "metadata": {
        "id": "Cwc2OqTH16VJ"
      },
      "source": [
        "This is required to ensure the ubuntu related dependencies are up to date"
      ]
    },
    {
      "cell_type": "code",
      "metadata": {
        "id": "GQwcI3O3KCty",
        "colab": {
          "base_uri": "https://localhost:8080/"
        },
        "outputId": "4375f816-0927-4f77-a540-931f16ad8aff"
      },
      "source": [
        "! sudo apt-get update --fix-missing\n",
        "! sudo apt-get upgrade --fix-missing"
      ],
      "execution_count": 1,
      "outputs": [
        {
          "output_type": "stream",
          "text": [
            "\r0% [Working]\r            \rGet:1 http://ppa.launchpad.net/c2d4u.team/c2d4u4.0+/ubuntu bionic InRelease [15.9 kB]\n",
            "\r0% [Connecting to archive.ubuntu.com (91.189.88.152)] [Connecting to security.u\r0% [Waiting for headers] [Connecting to security.ubuntu.com (91.189.91.38)] [Co\r                                                                               \rHit:2 http://archive.ubuntu.com/ubuntu bionic InRelease\n",
            "\r0% [Waiting for headers] [Connecting to security.ubuntu.com (91.189.91.38)] [Co\r0% [1 InRelease gpgv 15.9 kB] [Waiting for headers] [Connecting to security.ubu\r                                                                               \rGet:3 http://archive.ubuntu.com/ubuntu bionic-updates InRelease [88.7 kB]\n",
            "\r0% [1 InRelease gpgv 15.9 kB] [3 InRelease 14.2 kB/88.7 kB 16%] [Connecting to \r                                                                               \rHit:4 http://ppa.launchpad.net/cran/libgit2/ubuntu bionic InRelease\n",
            "\r0% [1 InRelease gpgv 15.9 kB] [3 InRelease 15.6 kB/88.7 kB 18%] [Connecting to \r0% [1 InRelease gpgv 15.9 kB] [Waiting for headers] [Connecting to security.ubu\r                                                                               \rHit:5 http://ppa.launchpad.net/deadsnakes/ppa/ubuntu bionic InRelease\n",
            "\r0% [1 InRelease gpgv 15.9 kB] [Waiting for headers] [Connecting to security.ubu\r                                                                               \rGet:6 http://archive.ubuntu.com/ubuntu bionic-backports InRelease [74.6 kB]\n",
            "\r0% [1 InRelease gpgv 15.9 kB] [6 InRelease 8,393 B/74.6 kB 11%] [Connecting to \r0% [1 InRelease gpgv 15.9 kB] [Connecting to security.ubuntu.com (91.189.91.38)\r                                                                               \rGet:7 http://ppa.launchpad.net/graphics-drivers/ppa/ubuntu bionic InRelease [21.3 kB]\n",
            "\r0% [1 InRelease gpgv 15.9 kB] [Waiting for headers] [Connected to cloud.r-proje\r0% [1 InRelease gpgv 15.9 kB] [Waiting for headers] [Waiting for headers] [Wait\r                                                                               \rGet:8 https://cloud.r-project.org/bin/linux/ubuntu bionic-cran40/ InRelease [3,626 B]\n",
            "Get:9 http://security.ubuntu.com/ubuntu bionic-security InRelease [88.7 kB]\n",
            "Ign:10 https://developer.download.nvidia.com/compute/cuda/repos/ubuntu1804/x86_64  InRelease\n",
            "Get:11 http://ppa.launchpad.net/c2d4u.team/c2d4u4.0+/ubuntu bionic/main Sources [1,770 kB]\n",
            "Get:12 http://ppa.launchpad.net/c2d4u.team/c2d4u4.0+/ubuntu bionic/main amd64 Packages [906 kB]\n",
            "Ign:13 https://developer.download.nvidia.com/compute/machine-learning/repos/ubuntu1804/x86_64  InRelease\n",
            "Get:14 https://developer.download.nvidia.com/compute/cuda/repos/ubuntu1804/x86_64  Release [697 B]\n",
            "Hit:15 https://developer.download.nvidia.com/compute/machine-learning/repos/ubuntu1804/x86_64  Release\n",
            "Get:16 https://developer.download.nvidia.com/compute/cuda/repos/ubuntu1804/x86_64  Release.gpg [836 B]\n",
            "Get:17 http://archive.ubuntu.com/ubuntu bionic-updates/main amd64 Packages [2,584 kB]\n",
            "Get:18 http://archive.ubuntu.com/ubuntu bionic-updates/universe amd64 Packages [2,184 kB]\n",
            "Get:19 http://archive.ubuntu.com/ubuntu bionic-updates/restricted amd64 Packages [452 kB]\n",
            "Get:20 http://ppa.launchpad.net/graphics-drivers/ppa/ubuntu bionic/main amd64 Packages [41.5 kB]\n",
            "Get:21 https://cloud.r-project.org/bin/linux/ubuntu bionic-cran40/ Packages [60.9 kB]\n",
            "Ign:23 https://developer.download.nvidia.com/compute/cuda/repos/ubuntu1804/x86_64  Packages\n",
            "Get:23 https://developer.download.nvidia.com/compute/cuda/repos/ubuntu1804/x86_64  Packages [798 kB]\n",
            "Get:24 http://security.ubuntu.com/ubuntu bionic-security/main amd64 Packages [2,152 kB]\n",
            "Get:25 http://security.ubuntu.com/ubuntu bionic-security/universe amd64 Packages [1,413 kB]\n",
            "Get:26 http://security.ubuntu.com/ubuntu bionic-security/restricted amd64 Packages [423 kB]\n",
            "Fetched 13.1 MB in 2s (6,755 kB/s)\n",
            "Reading package lists... Done\n",
            "Reading package lists... Done\n",
            "Building dependency tree       \n",
            "Reading state information... Done\n",
            "Calculating upgrade... Done\n",
            "The following package was automatically installed and is no longer required:\n",
            "  libnvidia-common-460\n",
            "Use 'sudo apt autoremove' to remove it.\n",
            "The following packages have been kept back:\n",
            "  libcudnn8 libcudnn8-dev libnccl-dev libnccl2 libnvidia-common-460\n",
            "  libnvidia-common-465 linux-headers-generic\n",
            "The following packages will be upgraded:\n",
            "  binutils binutils-common binutils-x86-64-linux-gnu cuda-compat-11-0 gnupg2\n",
            "  libaudit-common libaudit1 libbinutils libc-bin libcublas-dev libcublas10\n",
            "  libcudnn7 libcudnn7-dev libhogweed4 libldap-2.4-2 libldap-common liblz4-1\n",
            "  libmysqlclient-dev libmysqlclient20 libnettle6 libnvidia-cfg1-465\n",
            "  libnvidia-compute-465 libnvidia-decode-465 libnvidia-encode-465\n",
            "  libnvidia-extra-465 libnvidia-fbc1-465 libnvidia-gl-465 libnvidia-ifr1-465\n",
            "  libp11-kit0 libpam-modules libpam-modules-bin libpam-runtime libpam0g\n",
            "  libperl5.26 libsasl2-2 libsasl2-modules-db libseccomp2 libx11-6 libx11-data\n",
            "  libx11-dev libx11-xcb-dev libx11-xcb1 libzstd1 linux-libc-dev\n",
            "  nvidia-compute-utils-465 nvidia-dkms-465 nvidia-driver-465\n",
            "  nvidia-kernel-common-465 nvidia-kernel-source-465 nvidia-utils-465 openssl\n",
            "  perl perl-base perl-modules-5.26 r-base r-base-core r-base-dev r-cran-cachem\n",
            "  r-cran-class r-cran-devtools r-cran-dplyr r-cran-fansi r-cran-ggplot2\n",
            "  r-cran-hms r-cran-lattice r-cran-mass r-cran-matrix r-cran-nnet\n",
            "  r-cran-pillar r-cran-rmarkdown r-cran-rversions r-cran-stringi\n",
            "  r-cran-systemfonts r-cran-tibble r-cran-tinytex r-cran-xfun r-recommended\n",
            "  tar ubuntu-keyring xserver-xorg-video-nvidia-465\n",
            "80 upgraded, 0 newly installed, 0 to remove and 7 not upgraded.\n",
            "Need to get 696 MB of archives.\n",
            "After this operation, 91.1 MB of additional disk space will be used.\n",
            "Get:1 http://ppa.launchpad.net/graphics-drivers/ppa/ubuntu bionic/main amd64 nvidia-driver-465 amd64 465.27-0ubuntu0.18.04.2 [435 kB]\n",
            "Get:2 http://archive.ubuntu.com/ubuntu bionic-updates/main amd64 libperl5.26 amd64 5.26.1-6ubuntu0.5 [3,534 kB]\n",
            "Get:3 https://developer.download.nvidia.com/compute/cuda/repos/ubuntu1804/x86_64  cuda-compat-11-0 450.119.04-1 [6,712 kB]\n",
            "Get:4 http://ppa.launchpad.net/graphics-drivers/ppa/ubuntu bionic/main amd64 libnvidia-gl-465 amd64 465.27-0ubuntu0.18.04.2 [118 MB]\n",
            "Get:5 http://archive.ubuntu.com/ubuntu bionic-updates/main amd64 perl amd64 5.26.1-6ubuntu0.5 [201 kB]\n",
            "Get:6 http://archive.ubuntu.com/ubuntu bionic-updates/main amd64 perl-base amd64 5.26.1-6ubuntu0.5 [1,391 kB]\n",
            "Get:7 http://archive.ubuntu.com/ubuntu bionic-updates/main amd64 perl-modules-5.26 all 5.26.1-6ubuntu0.5 [2,762 kB]\n",
            "Get:8 https://cloud.r-project.org/bin/linux/ubuntu bionic-cran40/ r-base-core 4.1.0-1.1804.0 [25.8 MB]\n",
            "Get:9 https://developer.download.nvidia.com/compute/cuda/repos/ubuntu1804/x86_64  libcublas10 10.2.3.254-1 [43.1 MB]\n",
            "Get:10 http://archive.ubuntu.com/ubuntu bionic-updates/main amd64 tar amd64 1.29b-2ubuntu0.2 [234 kB]\n",
            "Get:11 http://archive.ubuntu.com/ubuntu bionic-updates/main amd64 libc-bin amd64 2.27-3ubuntu1.4 [643 kB]\n",
            "Get:12 http://archive.ubuntu.com/ubuntu bionic-updates/main amd64 libaudit-common all 1:2.8.2-1ubuntu1.1 [4,068 B]\n",
            "Get:13 http://archive.ubuntu.com/ubuntu bionic-updates/main amd64 libaudit1 amd64 1:2.8.2-1ubuntu1.1 [38.7 kB]\n",
            "Get:14 http://archive.ubuntu.com/ubuntu bionic-updates/main amd64 libpam0g amd64 1.1.8-3.6ubuntu2.18.04.3 [55.0 kB]\n",
            "Get:15 http://archive.ubuntu.com/ubuntu bionic-updates/main amd64 libpam-modules-bin amd64 1.1.8-3.6ubuntu2.18.04.3 [40.3 kB]\n",
            "Get:16 http://archive.ubuntu.com/ubuntu bionic-updates/main amd64 libpam-modules amd64 1.1.8-3.6ubuntu2.18.04.3 [252 kB]\n",
            "Get:17 http://archive.ubuntu.com/ubuntu bionic-updates/main amd64 liblz4-1 amd64 0.0~r131-2ubuntu3.1 [48.5 kB]\n",
            "Get:18 http://archive.ubuntu.com/ubuntu bionic-updates/main amd64 libpam-runtime all 1.1.8-3.6ubuntu2.18.04.3 [37.1 kB]\n",
            "Get:19 http://archive.ubuntu.com/ubuntu bionic-updates/main amd64 libzstd1 amd64 1.3.3+dfsg-2ubuntu1.2 [189 kB]\n",
            "Get:20 http://archive.ubuntu.com/ubuntu bionic-updates/main amd64 libnettle6 amd64 3.4-1ubuntu0.1 [110 kB]\n",
            "Get:21 http://archive.ubuntu.com/ubuntu bionic-updates/main amd64 libhogweed4 amd64 3.4-1ubuntu0.1 [137 kB]\n",
            "Get:22 http://archive.ubuntu.com/ubuntu bionic-updates/main amd64 libp11-kit0 amd64 0.23.9-2ubuntu0.1 [187 kB]\n",
            "Get:23 http://archive.ubuntu.com/ubuntu bionic-updates/main amd64 libseccomp2 amd64 2.5.1-1ubuntu1~18.04.1 [43.1 kB]\n",
            "Get:24 http://archive.ubuntu.com/ubuntu bionic-updates/main amd64 ubuntu-keyring all 2018.09.18.1~18.04.2 [22.3 kB]\n",
            "Get:25 http://archive.ubuntu.com/ubuntu bionic-updates/main amd64 openssl amd64 1.1.1-1ubuntu2.1~18.04.9 [614 kB]\n",
            "Get:26 http://archive.ubuntu.com/ubuntu bionic-updates/main amd64 libx11-dev amd64 2:1.6.4-3ubuntu0.4 [641 kB]\n",
            "Get:27 http://archive.ubuntu.com/ubuntu bionic-updates/main amd64 libx11-data all 2:1.6.4-3ubuntu0.4 [114 kB]\n",
            "Get:28 http://archive.ubuntu.com/ubuntu bionic-updates/main amd64 libx11-6 amd64 2:1.6.4-3ubuntu0.4 [572 kB]\n",
            "Get:29 http://archive.ubuntu.com/ubuntu bionic-updates/main amd64 binutils-x86-64-linux-gnu amd64 2.30-21ubuntu1~18.04.5 [1,839 kB]\n",
            "Get:30 http://archive.ubuntu.com/ubuntu bionic-updates/main amd64 binutils-common amd64 2.30-21ubuntu1~18.04.5 [197 kB]\n",
            "Get:31 http://archive.ubuntu.com/ubuntu bionic-updates/main amd64 binutils amd64 2.30-21ubuntu1~18.04.5 [3,388 B]\n",
            "Get:32 http://archive.ubuntu.com/ubuntu bionic-updates/main amd64 libbinutils amd64 2.30-21ubuntu1~18.04.5 [489 kB]\n",
            "Get:33 http://archive.ubuntu.com/ubuntu bionic-updates/main amd64 libsasl2-modules-db amd64 2.1.27~101-g0780600+dfsg-3ubuntu2.3 [15.0 kB]\n",
            "Get:34 http://archive.ubuntu.com/ubuntu bionic-updates/main amd64 libsasl2-2 amd64 2.1.27~101-g0780600+dfsg-3ubuntu2.3 [49.2 kB]\n",
            "Get:35 http://archive.ubuntu.com/ubuntu bionic-updates/main amd64 libldap-common all 2.4.45+dfsg-1ubuntu1.10 [15.8 kB]\n",
            "Get:36 http://archive.ubuntu.com/ubuntu bionic-updates/main amd64 libldap-2.4-2 amd64 2.4.45+dfsg-1ubuntu1.10 [154 kB]\n",
            "Get:37 http://archive.ubuntu.com/ubuntu bionic-updates/main amd64 libmysqlclient-dev amd64 5.7.34-0ubuntu0.18.04.1 [1,016 kB]\n",
            "Get:38 http://archive.ubuntu.com/ubuntu bionic-updates/main amd64 libmysqlclient20 amd64 5.7.34-0ubuntu0.18.04.1 [689 kB]\n",
            "Get:39 http://archive.ubuntu.com/ubuntu bionic-updates/main amd64 libx11-xcb-dev amd64 2:1.6.4-3ubuntu0.4 [9,764 B]\n",
            "Get:40 http://archive.ubuntu.com/ubuntu bionic-updates/main amd64 libx11-xcb1 amd64 2:1.6.4-3ubuntu0.4 [9,720 B]\n",
            "Get:41 http://archive.ubuntu.com/ubuntu bionic-updates/main amd64 linux-libc-dev amd64 4.15.0-143.147 [994 kB]\n",
            "Get:42 http://archive.ubuntu.com/ubuntu bionic-updates/universe amd64 gnupg2 all 2.2.4-1ubuntu1.4 [5,292 B]\n",
            "Get:43 https://cloud.r-project.org/bin/linux/ubuntu bionic-cran40/ r-cran-lattice 0.20-44-2cran1.1804.0 [1,185 kB]\n",
            "Get:44 https://cloud.r-project.org/bin/linux/ubuntu bionic-cran40/ r-cran-mass 7.3-54-1.1804.0 [1,115 kB]\n",
            "Get:45 https://cloud.r-project.org/bin/linux/ubuntu bionic-cran40/ r-cran-class 7.3-19-1.1804.0 [87.8 kB]\n",
            "Get:46 https://cloud.r-project.org/bin/linux/ubuntu bionic-cran40/ r-cran-nnet 7.3-16-1.1804.0 [112 kB]\n",
            "Get:47 https://developer.download.nvidia.com/compute/cuda/repos/ubuntu1804/x86_64  libcublas-dev 10.2.3.254-1 [42.4 MB]\n",
            "Get:48 https://cloud.r-project.org/bin/linux/ubuntu bionic-cran40/ r-cran-matrix 1.3-3-1.1804.0 [3,574 kB]\n",
            "Get:49 https://cloud.r-project.org/bin/linux/ubuntu bionic-cran40/ r-base 4.1.0-1.1804.0 [44.3 kB]\n",
            "Get:50 https://cloud.r-project.org/bin/linux/ubuntu bionic-cran40/ r-recommended 4.1.0-1.1804.0 [2,776 B]\n",
            "Get:51 https://cloud.r-project.org/bin/linux/ubuntu bionic-cran40/ r-base-dev 4.1.0-1.1804.0 [4,480 B]\n",
            "Get:52 http://ppa.launchpad.net/graphics-drivers/ppa/ubuntu bionic/main amd64 nvidia-dkms-465 amd64 465.27-0ubuntu0.18.04.2 [28.4 kB]\n",
            "Get:53 http://ppa.launchpad.net/graphics-drivers/ppa/ubuntu bionic/main amd64 nvidia-kernel-source-465 amd64 465.27-0ubuntu0.18.04.2 [24.9 MB]\n",
            "Get:54 https://developer.download.nvidia.com/compute/machine-learning/repos/ubuntu1804/x86_64  libcudnn7-dev 7.6.5.32-1+cuda10.2 [165 MB]\n",
            "Get:55 http://ppa.launchpad.net/graphics-drivers/ppa/ubuntu bionic/main amd64 nvidia-kernel-common-465 amd64 465.27-0ubuntu0.18.04.2 [17.9 MB]\n",
            "Get:56 http://ppa.launchpad.net/graphics-drivers/ppa/ubuntu bionic/main amd64 libnvidia-decode-465 amd64 465.27-0ubuntu0.18.04.2 [1,312 kB]\n",
            "Get:57 http://ppa.launchpad.net/graphics-drivers/ppa/ubuntu bionic/main amd64 libnvidia-compute-465 amd64 465.27-0ubuntu0.18.04.2 [23.5 MB]\n",
            "Get:58 http://ppa.launchpad.net/graphics-drivers/ppa/ubuntu bionic/main amd64 libnvidia-extra-465 amd64 465.27-0ubuntu0.18.04.2 [42.4 kB]\n",
            "Get:59 http://ppa.launchpad.net/graphics-drivers/ppa/ubuntu bionic/main amd64 nvidia-compute-utils-465 amd64 465.27-0ubuntu0.18.04.2 [105 kB]\n",
            "Get:60 http://ppa.launchpad.net/graphics-drivers/ppa/ubuntu bionic/main amd64 libnvidia-encode-465 amd64 465.27-0ubuntu0.18.04.2 [40.1 kB]\n",
            "Get:61 http://ppa.launchpad.net/graphics-drivers/ppa/ubuntu bionic/main amd64 nvidia-utils-465 amd64 465.27-0ubuntu0.18.04.2 [367 kB]\n",
            "Get:62 http://ppa.launchpad.net/graphics-drivers/ppa/ubuntu bionic/main amd64 xserver-xorg-video-nvidia-465 amd64 465.27-0ubuntu0.18.04.2 [1,552 kB]\n",
            "Get:63 http://ppa.launchpad.net/graphics-drivers/ppa/ubuntu bionic/main amd64 libnvidia-ifr1-465 amd64 465.27-0ubuntu0.18.04.2 [67.8 kB]\n",
            "Get:64 http://ppa.launchpad.net/graphics-drivers/ppa/ubuntu bionic/main amd64 libnvidia-fbc1-465 amd64 465.27-0ubuntu0.18.04.2 [45.6 kB]\n",
            "Get:65 http://ppa.launchpad.net/graphics-drivers/ppa/ubuntu bionic/main amd64 libnvidia-cfg1-465 amd64 465.27-0ubuntu0.18.04.2 [77.4 kB]\n",
            "Get:66 http://ppa.launchpad.net/c2d4u.team/c2d4u4.0+/ubuntu bionic/main amd64 r-cran-cachem amd64 1.0.5-1cran1.1804.0 [64.9 kB]\n",
            "Get:67 http://ppa.launchpad.net/c2d4u.team/c2d4u4.0+/ubuntu bionic/main amd64 r-cran-rversions all 2.1.0-1cran1.1804.0 [65.8 kB]\n",
            "Get:68 http://ppa.launchpad.net/c2d4u.team/c2d4u4.0+/ubuntu bionic/main amd64 r-cran-devtools all 2.4.1-1cran1.1804.0 [378 kB]\n",
            "Get:69 http://ppa.launchpad.net/c2d4u.team/c2d4u4.0+/ubuntu bionic/main amd64 r-cran-fansi amd64 0.5.0-1cran1.1804.0 [194 kB]\n",
            "Get:70 http://ppa.launchpad.net/c2d4u.team/c2d4u4.0+/ubuntu bionic/main amd64 r-cran-pillar all 1.6.1-1cran1.1804.0 [882 kB]\n",
            "Get:71 http://ppa.launchpad.net/c2d4u.team/c2d4u4.0+/ubuntu bionic/main amd64 r-cran-tibble amd64 3.1.2-1cran1.1804.0 [667 kB]\n",
            "Get:72 http://ppa.launchpad.net/c2d4u.team/c2d4u4.0+/ubuntu bionic/main amd64 r-cran-dplyr amd64 1.0.6-1cran1.1804.0 [1,065 kB]\n",
            "Get:73 http://ppa.launchpad.net/c2d4u.team/c2d4u4.0+/ubuntu bionic/main amd64 r-cran-ggplot2 all 3.3.3-1cran2.1804.0 [3,886 kB]\n",
            "Get:74 http://ppa.launchpad.net/c2d4u.team/c2d4u4.0+/ubuntu bionic/main amd64 r-cran-hms all 1.1.0-1cran1.1804.0 [98.7 kB]\n",
            "Get:75 http://ppa.launchpad.net/c2d4u.team/c2d4u4.0+/ubuntu bionic/main amd64 r-cran-xfun amd64 0.23-1cran1.1804.0 [316 kB]\n",
            "Get:76 http://ppa.launchpad.net/c2d4u.team/c2d4u4.0+/ubuntu bionic/main amd64 r-cran-tinytex all 0.32-1cran1.1804.0 [122 kB]\n",
            "Get:77 http://ppa.launchpad.net/c2d4u.team/c2d4u4.0+/ubuntu bionic/main amd64 r-cran-rmarkdown all 2.8-1cran1.1804.0 [2,676 kB]\n",
            "Get:78 http://ppa.launchpad.net/c2d4u.team/c2d4u4.0+/ubuntu bionic/main amd64 r-cran-stringi amd64 1.6.2-1cran1.1804.0 [755 kB]\n",
            "Get:79 http://ppa.launchpad.net/c2d4u.team/c2d4u4.0+/ubuntu bionic/main amd64 r-cran-systemfonts amd64 1.0.2-1cran1.1804.0 [244 kB]\n",
            "Get:80 https://developer.download.nvidia.com/compute/machine-learning/repos/ubuntu1804/x86_64  libcudnn7 7.6.5.32-1+cuda10.2 [189 MB]\n",
            "Fetched 696 MB in 9s (75.4 MB/s)\n",
            "debconf: unable to initialize frontend: Dialog\n",
            "debconf: (No usable dialog-like program is installed, so the dialog based frontend cannot be used. at /usr/share/perl5/Debconf/FrontEnd/Dialog.pm line 76, <> line 80.)\n",
            "debconf: falling back to frontend: Readline\n",
            "debconf: unable to initialize frontend: Readline\n",
            "debconf: (This frontend requires a controlling tty.)\n",
            "debconf: falling back to frontend: Teletype\n",
            "dpkg-preconfigure: unable to re-open stdin: \n",
            "(Reading database ... 160706 files and directories currently installed.)\n",
            "Preparing to unpack .../libperl5.26_5.26.1-6ubuntu0.5_amd64.deb ...\n",
            "Unpacking libperl5.26:amd64 (5.26.1-6ubuntu0.5) over (5.26.1-6ubuntu0.3) ...\n",
            "Preparing to unpack .../perl_5.26.1-6ubuntu0.5_amd64.deb ...\n",
            "Unpacking perl (5.26.1-6ubuntu0.5) over (5.26.1-6ubuntu0.3) ...\n",
            "Preparing to unpack .../perl-base_5.26.1-6ubuntu0.5_amd64.deb ...\n",
            "Unpacking perl-base (5.26.1-6ubuntu0.5) over (5.26.1-6ubuntu0.3) ...\n",
            "Setting up perl-base (5.26.1-6ubuntu0.5) ...\n",
            "(Reading database ... 160706 files and directories currently installed.)\n",
            "Preparing to unpack .../perl-modules-5.26_5.26.1-6ubuntu0.5_all.deb ...\n",
            "Unpacking perl-modules-5.26 (5.26.1-6ubuntu0.5) over (5.26.1-6ubuntu0.3) ...\n",
            "Preparing to unpack .../tar_1.29b-2ubuntu0.2_amd64.deb ...\n",
            "Unpacking tar (1.29b-2ubuntu0.2) over (1.29b-2ubuntu0.1) ...\n",
            "Setting up tar (1.29b-2ubuntu0.2) ...\n",
            "update-alternatives: warning: forcing reinstallation of alternative /usr/sbin/rmt-tar because link group rmt is broken\n",
            "(Reading database ... 160706 files and directories currently installed.)\n",
            "Preparing to unpack .../libc-bin_2.27-3ubuntu1.4_amd64.deb ...\n",
            "Unpacking libc-bin (2.27-3ubuntu1.4) over (2.27-3ubuntu1.2) ...\n",
            "Setting up libc-bin (2.27-3ubuntu1.4) ...\n",
            "/sbin/ldconfig.real: /usr/local/lib/python3.7/dist-packages/ideep4py/lib/libmkldnn.so.0 is not a symbolic link\n",
            "\n",
            "(Reading database ... 160706 files and directories currently installed.)\n",
            "Preparing to unpack .../libaudit-common_1%3a2.8.2-1ubuntu1.1_all.deb ...\n",
            "Unpacking libaudit-common (1:2.8.2-1ubuntu1.1) over (1:2.8.2-1ubuntu1) ...\n",
            "Setting up libaudit-common (1:2.8.2-1ubuntu1.1) ...\n",
            "(Reading database ... 160706 files and directories currently installed.)\n",
            "Preparing to unpack .../libaudit1_1%3a2.8.2-1ubuntu1.1_amd64.deb ...\n",
            "Unpacking libaudit1:amd64 (1:2.8.2-1ubuntu1.1) over (1:2.8.2-1ubuntu1) ...\n",
            "Setting up libaudit1:amd64 (1:2.8.2-1ubuntu1.1) ...\n",
            "(Reading database ... 160706 files and directories currently installed.)\n",
            "Preparing to unpack .../libpam0g_1.1.8-3.6ubuntu2.18.04.3_amd64.deb ...\n",
            "Unpacking libpam0g:amd64 (1.1.8-3.6ubuntu2.18.04.3) over (1.1.8-3.6ubuntu2.18.04.2) ...\n",
            "Setting up libpam0g:amd64 (1.1.8-3.6ubuntu2.18.04.3) ...\n",
            "debconf: unable to initialize frontend: Dialog\n",
            "debconf: (No usable dialog-like program is installed, so the dialog based frontend cannot be used. at /usr/share/perl5/Debconf/FrontEnd/Dialog.pm line 76.)\n",
            "debconf: falling back to frontend: Readline\n",
            "(Reading database ... 160706 files and directories currently installed.)\n",
            "Preparing to unpack .../libpam-modules-bin_1.1.8-3.6ubuntu2.18.04.3_amd64.deb ...\n",
            "Unpacking libpam-modules-bin (1.1.8-3.6ubuntu2.18.04.3) over (1.1.8-3.6ubuntu2.18.04.2) ...\n",
            "Setting up libpam-modules-bin (1.1.8-3.6ubuntu2.18.04.3) ...\n",
            "(Reading database ... 160708 files and directories currently installed.)\n",
            "Preparing to unpack .../libpam-modules_1.1.8-3.6ubuntu2.18.04.3_amd64.deb ...\n",
            "debconf: unable to initialize frontend: Dialog\n",
            "debconf: (No usable dialog-like program is installed, so the dialog based frontend cannot be used. at /usr/share/perl5/Debconf/FrontEnd/Dialog.pm line 76.)\n",
            "debconf: falling back to frontend: Readline\n",
            "Unpacking libpam-modules:amd64 (1.1.8-3.6ubuntu2.18.04.3) over (1.1.8-3.6ubuntu2.18.04.2) ...\n",
            "Setting up libpam-modules:amd64 (1.1.8-3.6ubuntu2.18.04.3) ...\n",
            "(Reading database ... 160712 files and directories currently installed.)\n",
            "Preparing to unpack .../liblz4-1_0.0~r131-2ubuntu3.1_amd64.deb ...\n",
            "Unpacking liblz4-1:amd64 (0.0~r131-2ubuntu3.1) over (0.0~r131-2ubuntu3) ...\n",
            "Setting up liblz4-1:amd64 (0.0~r131-2ubuntu3.1) ...\n",
            "(Reading database ... 160712 files and directories currently installed.)\n",
            "Preparing to unpack .../libpam-runtime_1.1.8-3.6ubuntu2.18.04.3_all.deb ...\n",
            "Unpacking libpam-runtime (1.1.8-3.6ubuntu2.18.04.3) over (1.1.8-3.6ubuntu2.18.04.2) ...\n",
            "Setting up libpam-runtime (1.1.8-3.6ubuntu2.18.04.3) ...\n",
            "debconf: unable to initialize frontend: Dialog\n",
            "debconf: (No usable dialog-like program is installed, so the dialog based frontend cannot be used. at /usr/share/perl5/Debconf/FrontEnd/Dialog.pm line 76.)\n",
            "debconf: falling back to frontend: Readline\n",
            "(Reading database ... 160712 files and directories currently installed.)\n",
            "Preparing to unpack .../libzstd1_1.3.3+dfsg-2ubuntu1.2_amd64.deb ...\n",
            "Unpacking libzstd1:amd64 (1.3.3+dfsg-2ubuntu1.2) over (1.3.3+dfsg-2ubuntu1.1) ...\n",
            "Setting up libzstd1:amd64 (1.3.3+dfsg-2ubuntu1.2) ...\n",
            "(Reading database ... 160712 files and directories currently installed.)\n",
            "Preparing to unpack .../libnettle6_3.4-1ubuntu0.1_amd64.deb ...\n",
            "Unpacking libnettle6:amd64 (3.4-1ubuntu0.1) over (3.4-1) ...\n",
            "Setting up libnettle6:amd64 (3.4-1ubuntu0.1) ...\n",
            "(Reading database ... 160712 files and directories currently installed.)\n",
            "Preparing to unpack .../libhogweed4_3.4-1ubuntu0.1_amd64.deb ...\n",
            "Unpacking libhogweed4:amd64 (3.4-1ubuntu0.1) over (3.4-1) ...\n",
            "Setting up libhogweed4:amd64 (3.4-1ubuntu0.1) ...\n",
            "(Reading database ... 160712 files and directories currently installed.)\n",
            "Preparing to unpack .../libp11-kit0_0.23.9-2ubuntu0.1_amd64.deb ...\n",
            "Unpacking libp11-kit0:amd64 (0.23.9-2ubuntu0.1) over (0.23.9-2) ...\n",
            "Setting up libp11-kit0:amd64 (0.23.9-2ubuntu0.1) ...\n",
            "(Reading database ... 160712 files and directories currently installed.)\n",
            "Preparing to unpack .../libseccomp2_2.5.1-1ubuntu1~18.04.1_amd64.deb ...\n",
            "Unpacking libseccomp2:amd64 (2.5.1-1ubuntu1~18.04.1) over (2.4.3-1ubuntu3.18.04.3) ...\n",
            "Setting up libseccomp2:amd64 (2.5.1-1ubuntu1~18.04.1) ...\n",
            "(Reading database ... 160712 files and directories currently installed.)\n",
            "Preparing to unpack .../ubuntu-keyring_2018.09.18.1~18.04.2_all.deb ...\n",
            "Unpacking ubuntu-keyring (2018.09.18.1~18.04.2) over (2018.09.18.1~18.04.0) ...\n",
            "Setting up ubuntu-keyring (2018.09.18.1~18.04.2) ...\n",
            "(Reading database ... 160712 files and directories currently installed.)\n",
            "Preparing to unpack .../00-openssl_1.1.1-1ubuntu2.1~18.04.9_amd64.deb ...\n",
            "Unpacking openssl (1.1.1-1ubuntu2.1~18.04.9) over (1.1.1-1ubuntu2.1~18.04.6) ...\n",
            "Preparing to unpack .../01-libx11-dev_2%3a1.6.4-3ubuntu0.4_amd64.deb ...\n",
            "Unpacking libx11-dev:amd64 (2:1.6.4-3ubuntu0.4) over (2:1.6.4-3ubuntu0.3) ...\n",
            "Preparing to unpack .../02-libx11-data_2%3a1.6.4-3ubuntu0.4_all.deb ...\n",
            "Unpacking libx11-data (2:1.6.4-3ubuntu0.4) over (2:1.6.4-3ubuntu0.3) ...\n",
            "Preparing to unpack .../03-libx11-6_2%3a1.6.4-3ubuntu0.4_amd64.deb ...\n",
            "Unpacking libx11-6:amd64 (2:1.6.4-3ubuntu0.4) over (2:1.6.4-3ubuntu0.3) ...\n",
            "Preparing to unpack .../04-binutils-x86-64-linux-gnu_2.30-21ubuntu1~18.04.5_amd64.deb ...\n",
            "Unpacking binutils-x86-64-linux-gnu (2.30-21ubuntu1~18.04.5) over (2.30-21ubuntu1~18.04.4) ...\n",
            "Preparing to unpack .../05-binutils-common_2.30-21ubuntu1~18.04.5_amd64.deb ...\n",
            "Unpacking binutils-common:amd64 (2.30-21ubuntu1~18.04.5) over (2.30-21ubuntu1~18.04.4) ...\n",
            "Preparing to unpack .../06-binutils_2.30-21ubuntu1~18.04.5_amd64.deb ...\n",
            "Unpacking binutils (2.30-21ubuntu1~18.04.5) over (2.30-21ubuntu1~18.04.4) ...\n",
            "Preparing to unpack .../07-libbinutils_2.30-21ubuntu1~18.04.5_amd64.deb ...\n",
            "Unpacking libbinutils:amd64 (2.30-21ubuntu1~18.04.5) over (2.30-21ubuntu1~18.04.4) ...\n",
            "Preparing to unpack .../08-cuda-compat-11-0_450.119.04-1_amd64.deb ...\n",
            "Unpacking cuda-compat-11-0 (450.119.04-1) over (450.80.02-1) ...\n",
            "Preparing to unpack .../09-libcublas10_10.2.3.254-1_amd64.deb ...\n",
            "Unpacking libcublas10 (10.2.3.254-1) over (10.2.1.243-1) ...\n",
            "Preparing to unpack .../10-libcublas-dev_10.2.3.254-1_amd64.deb ...\n",
            "Unpacking libcublas-dev (10.2.3.254-1) over (10.2.1.243-1) ...\n",
            "Preparing to unpack .../11-libcudnn7-dev_7.6.5.32-1+cuda10.2_amd64.deb ...\n",
            "update-alternatives: removing manually selected alternative - switching libcudnn to auto mode\n",
            "update-alternatives: using /usr/include/x86_64-linux-gnu/cudnn_v8.h to provide /usr/include/cudnn.h (libcudnn) in auto mode\n",
            "Unpacking libcudnn7-dev (7.6.5.32-1+cuda10.2) over (7.6.5.32-1+cuda10.1) ...\n",
            "Preparing to unpack .../12-libcudnn7_7.6.5.32-1+cuda10.2_amd64.deb ...\n",
            "Unpacking libcudnn7 (7.6.5.32-1+cuda10.2) over (7.6.5.32-1+cuda10.1) ...\n",
            "Preparing to unpack .../13-libsasl2-modules-db_2.1.27~101-g0780600+dfsg-3ubuntu2.3_amd64.deb ...\n",
            "Unpacking libsasl2-modules-db:amd64 (2.1.27~101-g0780600+dfsg-3ubuntu2.3) over (2.1.27~101-g0780600+dfsg-3ubuntu2.1) ...\n",
            "Preparing to unpack .../14-libsasl2-2_2.1.27~101-g0780600+dfsg-3ubuntu2.3_amd64.deb ...\n",
            "Unpacking libsasl2-2:amd64 (2.1.27~101-g0780600+dfsg-3ubuntu2.3) over (2.1.27~101-g0780600+dfsg-3ubuntu2.1) ...\n",
            "Preparing to unpack .../15-libldap-common_2.4.45+dfsg-1ubuntu1.10_all.deb ...\n",
            "Unpacking libldap-common (2.4.45+dfsg-1ubuntu1.10) over (2.4.45+dfsg-1ubuntu1.6) ...\n",
            "Preparing to unpack .../16-libldap-2.4-2_2.4.45+dfsg-1ubuntu1.10_amd64.deb ...\n",
            "Unpacking libldap-2.4-2:amd64 (2.4.45+dfsg-1ubuntu1.10) over (2.4.45+dfsg-1ubuntu1.6) ...\n",
            "Preparing to unpack .../17-libmysqlclient-dev_5.7.34-0ubuntu0.18.04.1_amd64.deb ...\n",
            "Unpacking libmysqlclient-dev (5.7.34-0ubuntu0.18.04.1) over (5.7.33-0ubuntu0.18.04.1) ...\n",
            "Preparing to unpack .../18-libmysqlclient20_5.7.34-0ubuntu0.18.04.1_amd64.deb ...\n",
            "Unpacking libmysqlclient20:amd64 (5.7.34-0ubuntu0.18.04.1) over (5.7.33-0ubuntu0.18.04.1) ...\n",
            "Preparing to unpack .../19-nvidia-driver-465_465.27-0ubuntu0.18.04.2_amd64.deb ...\n",
            "Unpacking nvidia-driver-465 (465.27-0ubuntu0.18.04.2) over (465.19.01-0ubuntu1) ...\n",
            "Preparing to unpack .../20-libnvidia-gl-465_465.27-0ubuntu0.18.04.2_amd64.deb ...\n",
            "Unpacking libnvidia-gl-465:amd64 (465.27-0ubuntu0.18.04.2) over (465.19.01-0ubuntu1) ...\n",
            "Preparing to unpack .../21-nvidia-dkms-465_465.27-0ubuntu0.18.04.2_amd64.deb ...\n",
            "Removing all DKMS Modules\n",
            "Done.\n",
            "Unpacking nvidia-dkms-465 (465.27-0ubuntu0.18.04.2) over (465.19.01-0ubuntu1) ...\n",
            "Preparing to unpack .../22-nvidia-kernel-source-465_465.27-0ubuntu0.18.04.2_amd64.deb ...\n",
            "Unpacking nvidia-kernel-source-465 (465.27-0ubuntu0.18.04.2) over (465.19.01-0ubuntu1) ...\n",
            "Preparing to unpack .../23-nvidia-kernel-common-465_465.27-0ubuntu0.18.04.2_amd64.deb ...\n",
            "Unpacking nvidia-kernel-common-465 (465.27-0ubuntu0.18.04.2) over (465.19.01-0ubuntu1) ...\n",
            "Preparing to unpack .../24-libnvidia-decode-465_465.27-0ubuntu0.18.04.2_amd64.deb ...\n",
            "Unpacking libnvidia-decode-465:amd64 (465.27-0ubuntu0.18.04.2) over (465.19.01-0ubuntu1) ...\n",
            "Preparing to unpack .../25-libnvidia-compute-465_465.27-0ubuntu0.18.04.2_amd64.deb ...\n",
            "Unpacking libnvidia-compute-465:amd64 (465.27-0ubuntu0.18.04.2) over (465.19.01-0ubuntu1) ...\n",
            "Preparing to unpack .../26-libnvidia-extra-465_465.27-0ubuntu0.18.04.2_amd64.deb ...\n",
            "Unpacking libnvidia-extra-465:amd64 (465.27-0ubuntu0.18.04.2) over (465.19.01-0ubuntu1) ...\n",
            "Preparing to unpack .../27-nvidia-compute-utils-465_465.27-0ubuntu0.18.04.2_amd64.deb ...\n",
            "System has not been booted with systemd as init system (PID 1). Can't operate.\n",
            "System has not been booted with systemd as init system (PID 1). Can't operate.\n",
            "Unpacking nvidia-compute-utils-465 (465.27-0ubuntu0.18.04.2) over (465.19.01-0ubuntu1) ...\n",
            "Preparing to unpack .../28-libnvidia-encode-465_465.27-0ubuntu0.18.04.2_amd64.deb ...\n",
            "Unpacking libnvidia-encode-465:amd64 (465.27-0ubuntu0.18.04.2) over (465.19.01-0ubuntu1) ...\n",
            "Preparing to unpack .../29-nvidia-utils-465_465.27-0ubuntu0.18.04.2_amd64.deb ...\n",
            "Unpacking nvidia-utils-465 (465.27-0ubuntu0.18.04.2) over (465.19.01-0ubuntu1) ...\n",
            "Preparing to unpack .../30-xserver-xorg-video-nvidia-465_465.27-0ubuntu0.18.04.2_amd64.deb ...\n",
            "Unpacking xserver-xorg-video-nvidia-465 (465.27-0ubuntu0.18.04.2) over (465.19.01-0ubuntu1) ...\n",
            "Preparing to unpack .../31-libnvidia-ifr1-465_465.27-0ubuntu0.18.04.2_amd64.deb ...\n",
            "Unpacking libnvidia-ifr1-465:amd64 (465.27-0ubuntu0.18.04.2) over (465.19.01-0ubuntu1) ...\n",
            "Preparing to unpack .../32-libnvidia-fbc1-465_465.27-0ubuntu0.18.04.2_amd64.deb ...\n",
            "Unpacking libnvidia-fbc1-465:amd64 (465.27-0ubuntu0.18.04.2) over (465.19.01-0ubuntu1) ...\n",
            "Preparing to unpack .../33-libnvidia-cfg1-465_465.27-0ubuntu0.18.04.2_amd64.deb ...\n",
            "Unpacking libnvidia-cfg1-465:amd64 (465.27-0ubuntu0.18.04.2) over (465.19.01-0ubuntu1) ...\n",
            "Preparing to unpack .../34-libx11-xcb-dev_2%3a1.6.4-3ubuntu0.4_amd64.deb ...\n",
            "Unpacking libx11-xcb-dev:amd64 (2:1.6.4-3ubuntu0.4) over (2:1.6.4-3ubuntu0.3) ...\n",
            "Preparing to unpack .../35-libx11-xcb1_2%3a1.6.4-3ubuntu0.4_amd64.deb ...\n",
            "Unpacking libx11-xcb1:amd64 (2:1.6.4-3ubuntu0.4) over (2:1.6.4-3ubuntu0.3) ...\n",
            "Preparing to unpack .../36-linux-libc-dev_4.15.0-143.147_amd64.deb ...\n",
            "Preparing to unpack .../38-r-cran-lattice_0.20-44-2cran1.1804.0_amd64.deb ...\n",
            "Unpacking r-cran-lattice (0.20-44-2cran1.1804.0) over (0.20-44-1cran1.1804.0) ...\n",
            "Preparing to unpack .../39-r-cran-mass_7.3-54-1.1804.0_amd64.deb ...\n",
            "Unpacking r-cran-mass (7.3-54-1.1804.0) over (7.3-54-1cran1.1804.0) ...\n",
            "Preparing to unpack .../40-r-cran-class_7.3-19-1.1804.0_amd64.deb ...\n",
            "Unpacking r-cran-class (7.3-19-1.1804.0) over (7.3-19-1cran1.1804.0) ...\n",
            "Preparing to unpack .../41-r-cran-nnet_7.3-16-1.1804.0_amd64.deb ...\n",
            "Unpacking r-cran-nnet (7.3-16-1.1804.0) over (7.3-16-1cran1.1804.0) ...\n",
            "Preparing to unpack .../42-r-cran-matrix_1.3-3-1.1804.0_amd64.deb ...\n",
            "Unpacking r-cran-matrix (1.3-3-1.1804.0) over (1.3-3-1cran1.1804.0) ...\n",
            "Preparing to unpack .../43-r-base_4.1.0-1.1804.0_all.deb ...\n",
            "Unpacking r-base (4.1.0-1.1804.0) over (4.0.5-1.1804.0) ...\n",
            "Preparing to unpack .../44-r-recommended_4.1.0-1.1804.0_all.deb ...\n",
            "Unpacking r-recommended (4.1.0-1.1804.0) over (4.0.5-1.1804.0) ...\n",
            "Preparing to unpack .../45-r-base-dev_4.1.0-1.1804.0_all.deb ...\n",
            "Unpacking r-base-dev (4.1.0-1.1804.0) over (4.0.5-1.1804.0) ...\n",
            "Preparing to unpack .../46-r-cran-cachem_1.0.5-1cran1.1804.0_amd64.deb ...\n",
            "Unpacking r-cran-cachem (1.0.5-1cran1.1804.0) over (1.0.4-1cran1.1804.0) ...\n",
            "Preparing to unpack .../47-r-cran-rversions_2.1.0-1cran1.1804.0_all.deb ...\n",
            "Unpacking r-cran-rversions (2.1.0-1cran1.1804.0) over (2.0.2-1cran1.1804.0) ...\n",
            "Preparing to unpack .../48-r-cran-devtools_2.4.1-1cran1.1804.0_all.deb ...\n",
            "Unpacking r-cran-devtools (2.4.1-1cran1.1804.0) over (2.4.0-1cran1.1804.0) ...\n",
            "Preparing to unpack .../49-r-cran-fansi_0.5.0-1cran1.1804.0_amd64.deb ...\n",
            "Unpacking r-cran-fansi (0.5.0-1cran1.1804.0) over (0.4.2-1cran1.1804.0) ...\n",
            "Preparing to unpack .../50-r-cran-pillar_1.6.1-1cran1.1804.0_all.deb ...\n",
            "Unpacking r-cran-pillar (1.6.1-1cran1.1804.0) over (1.6.0-1cran1.1804.0) ...\n",
            "Preparing to unpack .../51-r-cran-tibble_3.1.2-1cran1.1804.0_amd64.deb ...\n",
            "Unpacking r-cran-tibble (3.1.2-1cran1.1804.0) over (3.1.1-1cran1.1804.0) ...\n",
            "Preparing to unpack .../52-r-cran-dplyr_1.0.6-1cran1.1804.0_amd64.deb ...\n",
            "Unpacking r-cran-dplyr (1.0.6-1cran1.1804.0) over (1.0.5-1cran1.1804.0) ...\n",
            "Preparing to unpack .../53-r-cran-ggplot2_3.3.3-1cran2.1804.0_all.deb ...\n",
            "Unpacking r-cran-ggplot2 (3.3.3-1cran2.1804.0) over (3.3.3-1cran1.1804.0) ...\n",
            "Preparing to unpack .../54-r-cran-hms_1.1.0-1cran1.1804.0_all.deb ...\n",
            "Unpacking r-cran-hms (1.1.0-1cran1.1804.0) over (1.0.0-1cran1.1804.0) ...\n",
            "Preparing to unpack .../55-r-cran-xfun_0.23-1cran1.1804.0_amd64.deb ...\n",
            "Unpacking r-cran-xfun (0.23-1cran1.1804.0) over (0.22-1cran1.1804.0) ...\n",
            "Preparing to unpack .../56-r-cran-tinytex_0.32-1cran1.1804.0_all.deb ...\n",
            "Unpacking r-cran-tinytex (0.32-1cran1.1804.0) over (0.31-1cran1.1804.0) ...\n",
            "Preparing to unpack .../57-r-cran-rmarkdown_2.8-1cran1.1804.0_all.deb ...\n",
            "Unpacking r-cran-rmarkdown (2.8-1cran1.1804.0) over (2.7-1cran1.1804.0) ...\n",
            "Preparing to unpack .../58-r-cran-stringi_1.6.2-1cran1.1804.0_amd64.deb ...\n",
            "Unpacking r-cran-stringi (1.6.2-1cran1.1804.0) over (1.5.3-1cran1.1804.0) ...\n",
            "Preparing to unpack .../59-r-cran-systemfonts_1.0.2-1cran1.1804.0_amd64.deb ...\n",
            "Unpacking r-cran-systemfonts (1.0.2-1cran1.1804.0) over (1.0.1-1cran1.1804.0) ...\n",
            "Preparing to unpack .../60-gnupg2_2.2.4-1ubuntu1.4_all.deb ...\n",
            "Unpacking gnupg2 (2.2.4-1ubuntu1.4) over (2.2.4-1ubuntu1.3) ...\n",
            "Setting up libcudnn7 (7.6.5.32-1+cuda10.2) ...\n",
            "Setting up libldap-common (2.4.45+dfsg-1ubuntu1.10) ...\n",
            "Setting up cuda-compat-11-0 (450.119.04-1) ...\n",
            "Setting up nvidia-kernel-common-465 (465.27-0ubuntu0.18.04.2) ...\n",
            "Created symlink /etc/systemd/system/systemd-hibernate.service.requires/nvidia-hibernate.service → /lib/systemd/system/nvidia-hibernate.service.\n",
            "Created symlink /etc/systemd/system/systemd-suspend.service.requires/nvidia-resume.service → /lib/systemd/system/nvidia-resume.service.\n",
            "Created symlink /etc/systemd/system/systemd-hibernate.service.requires/nvidia-resume.service → /lib/systemd/system/nvidia-resume.service.\n",
            "Created symlink /etc/systemd/system/systemd-suspend.service.requires/nvidia-suspend.service → /lib/systemd/system/nvidia-suspend.service.\n",
            "Setting up libnvidia-cfg1-465:amd64 (465.27-0ubuntu0.18.04.2) ...\n",
            "Setting up libsasl2-modules-db:amd64 (2.1.27~101-g0780600+dfsg-3ubuntu2.3) ...\n",
            "Setting up linux-libc-dev:amd64 (4.15.0-143.147) ...\n",
            "Setting up libsasl2-2:amd64 (2.1.27~101-g0780600+dfsg-3ubuntu2.3) ...\n",
            "Setting up libcudnn7-dev (7.6.5.32-1+cuda10.2) ...\n",
            "update-alternatives: using /usr/include/x86_64-linux-gnu/cudnn_v7.h to provide /usr/include/cudnn.h (libcudnn) in manual mode\n",
            "Setting up perl-modules-5.26 (5.26.1-6ubuntu0.5) ...\n",
            "Setting up binutils-common:amd64 (2.30-21ubuntu1~18.04.5) ...\n",
            "Setting up gnupg2 (2.2.4-1ubuntu1.4) ...\n",
            "Setting up libx11-xcb1:amd64 (2:1.6.4-3ubuntu0.4) ...\n",
            "Setting up nvidia-kernel-source-465 (465.27-0ubuntu0.18.04.2) ...\n",
            "Setting up libcublas10 (10.2.3.254-1) ...\n",
            "Setting up libcublas-dev (10.2.3.254-1) ...\n",
            "Setting up libperl5.26:amd64 (5.26.1-6ubuntu0.5) ...\n",
            "Setting up libldap-2.4-2:amd64 (2.4.45+dfsg-1ubuntu1.10) ...\n",
            "Setting up openssl (1.1.1-1ubuntu2.1~18.04.9) ...\n",
            "Setting up libnvidia-compute-465:amd64 (465.27-0ubuntu0.18.04.2) ...\n",
            "Setting up libmysqlclient20:amd64 (5.7.34-0ubuntu0.18.04.1) ...\n",
            "Setting up xserver-xorg-video-nvidia-465 (465.27-0ubuntu0.18.04.2) ...\n",
            "Setting up libx11-data (2:1.6.4-3ubuntu0.4) ...\n",
            "Setting up libnvidia-extra-465:amd64 (465.27-0ubuntu0.18.04.2) ...\n",
            "Setting up libmysqlclient-dev (5.7.34-0ubuntu0.18.04.1) ...\n",
            "Setting up libbinutils:amd64 (2.30-21ubuntu1~18.04.5) ...\n",
            "Setting up nvidia-utils-465 (465.27-0ubuntu0.18.04.2) ...\n",
            "Setting up nvidia-dkms-465 (465.27-0ubuntu0.18.04.2) ...\n",
            "debconf: unable to initialize frontend: Dialog\n",
            "debconf: (No usable dialog-like program is installed, so the dialog based frontend cannot be used. at /usr/share/perl5/Debconf/FrontEnd/Dialog.pm line 76.)\n",
            "debconf: falling back to frontend: Readline\n",
            "Loading new nvidia-465.27 DKMS files...\n",
            "It is likely that 5.4.109+ belongs to a chroot's host\n",
            "Building for 4.15.0-142-generic\n",
            "Building for architecture x86_64\n",
            "Building initial module for 4.15.0-142-generic\n",
            "Done.\n",
            "\n",
            "nvidia:\n",
            "Running module version sanity check.\n",
            " - Original module\n",
            "   - No original module exists within this kernel\n",
            " - Installation\n",
            "   - Installing to /lib/modules/4.15.0-142-generic/updates/dkms/\n",
            "\n",
            "nvidia-modeset.ko:\n",
            "Running module version sanity check.\n",
            " - Original module\n",
            "   - No original module exists within this kernel\n",
            " - Installation\n",
            "   - Installing to /lib/modules/4.15.0-142-generic/updates/dkms/\n",
            "\n",
            "nvidia-drm.ko:\n",
            "Running module version sanity check.\n",
            " - Original module\n",
            "   - No original module exists within this kernel\n",
            " - Installation\n",
            "   - Installing to /lib/modules/4.15.0-142-generic/updates/dkms/\n",
            "\n",
            "nvidia-uvm.ko:\n",
            "Running module version sanity check.\n",
            " - Original module\n",
            "   - No original module exists within this kernel\n",
            " - Installation\n",
            "   - Installing to /lib/modules/4.15.0-142-generic/updates/dkms/\n",
            "\n",
            "nvidia-peermem.ko:\n",
            "Running module version sanity check.\n",
            " - Original module\n",
            "   - No original module exists within this kernel\n",
            " - Installation\n",
            "   - Installing to /lib/modules/4.15.0-142-generic/updates/dkms/\n",
            "\n",
            "depmod...\n",
            "\n",
            "DKMS: install completed.\n",
            "Setting up libx11-6:amd64 (2:1.6.4-3ubuntu0.4) ...\n",
            "Setting up libnvidia-decode-465:amd64 (465.27-0ubuntu0.18.04.2) ...\n",
            "Setting up nvidia-compute-utils-465 (465.27-0ubuntu0.18.04.2) ...\n",
            "Setting up perl (5.26.1-6ubuntu0.5) ...\n",
            "Setting up libnvidia-gl-465:amd64 (465.27-0ubuntu0.18.04.2) ...\n",
            "Setting up libnvidia-encode-465:amd64 (465.27-0ubuntu0.18.04.2) ...\n",
            "Setting up libx11-dev:amd64 (2:1.6.4-3ubuntu0.4) ...\n",
            "Setting up libnvidia-fbc1-465:amd64 (465.27-0ubuntu0.18.04.2) ...\n",
            "Setting up binutils-x86-64-linux-gnu (2.30-21ubuntu1~18.04.5) ...\n",
            "Setting up libx11-xcb-dev:amd64 (2:1.6.4-3ubuntu0.4) ...\n",
            "Setting up libnvidia-ifr1-465:amd64 (465.27-0ubuntu0.18.04.2) ...\n",
            "Setting up r-base-core (4.1.0-1.1804.0) ...\n",
            "Installing new version of config file /etc/R/Makeconf ...\n",
            "Installing new version of config file /etc/R/repositories ...\n",
            "debconf: unable to initialize frontend: Dialog\n",
            "debconf: (No usable dialog-like program is installed, so the dialog based frontend cannot be used. at /usr/share/perl5/Debconf/FrontEnd/Dialog.pm line 76.)\n",
            "debconf: falling back to frontend: Readline\n",
            "Replacing config file /etc/R/Renviron with new version\n",
            "Setting up r-cran-fansi (0.5.0-1cran1.1804.0) ...\n",
            "Setting up r-cran-nnet (7.3-16-1.1804.0) ...\n",
            "Setting up r-cran-systemfonts (1.0.2-1cran1.1804.0) ...\n",
            "Setting up r-base-dev (4.1.0-1.1804.0) ...\n",
            "Setting up r-cran-cachem (1.0.5-1cran1.1804.0) ...\n",
            "Setting up r-cran-xfun (0.23-1cran1.1804.0) ...\n",
            "Setting up r-cran-hms (1.1.0-1cran1.1804.0) ...\n",
            "Setting up r-cran-stringi (1.6.2-1cran1.1804.0) ...\n",
            "Setting up r-cran-rversions (2.1.0-1cran1.1804.0) ...\n",
            "Setting up r-cran-pillar (1.6.1-1cran1.1804.0) ...\n",
            "Setting up binutils (2.30-21ubuntu1~18.04.5) ...\n",
            "Setting up r-cran-mass (7.3-54-1.1804.0) ...\n",
            "Setting up nvidia-driver-465 (465.27-0ubuntu0.18.04.2) ...\n",
            "Setting up r-cran-tinytex (0.32-1cran1.1804.0) ...\n",
            "Setting up r-cran-tibble (3.1.2-1cran1.1804.0) ...\n",
            "Setting up r-cran-devtools (2.4.1-1cran1.1804.0) ...\n",
            "Setting up r-cran-lattice (0.20-44-2cran1.1804.0) ...\n",
            "Setting up r-cran-class (7.3-19-1.1804.0) ...\n",
            "Setting up r-cran-dplyr (1.0.6-1cran1.1804.0) ...\n",
            "Setting up r-cran-ggplot2 (3.3.3-1cran2.1804.0) ...\n",
            "Setting up r-cran-rmarkdown (2.8-1cran1.1804.0) ...\n",
            "Setting up r-cran-matrix (1.3-3-1.1804.0) ...\n",
            "Setting up r-recommended (4.1.0-1.1804.0) ...\n",
            "Setting up r-base (4.1.0-1.1804.0) ...\n",
            "Processing triggers for hicolor-icon-theme (0.17-2) ...\n",
            "Processing triggers for mime-support (3.60ubuntu1) ...\n",
            "Processing triggers for libc-bin (2.27-3ubuntu1.4) ...\n",
            "/sbin/ldconfig.real: /usr/local/lib/python3.7/dist-packages/ideep4py/lib/libmkldnn.so.0 is not a symbolic link\n",
            "\n",
            "Processing triggers for man-db (2.8.3-2ubuntu0.1) ...\n"
          ],
          "name": "stdout"
        }
      ]
    },
    {
      "cell_type": "code",
      "metadata": {
        "id": "2q2etGjaMgCG",
        "colab": {
          "base_uri": "https://localhost:8080/"
        },
        "outputId": "f499870c-4c79-403e-908c-70437cb4d485"
      },
      "source": [
        "import os\n",
        "\n",
        "# Install java\n",
        "! apt-get install -y openjdk-8-jdk-headless -qq > /dev/null\n",
        "os.environ[\"JAVA_HOME\"] = \"/usr/lib/jvm/java-8-openjdk-amd64\"\n",
        "os.environ[\"PATH\"] = os.environ[\"JAVA_HOME\"] + \"/bin:\" + os.environ[\"PATH\"]\n",
        "! java -version\n",
        "\n",
        "# Install pyspark\n",
        "! pip install --ignore-installed -q pyspark==2.4.4\n",
        "\n",
        "# Install Spark NLP\n",
        "! pip install --ignore-installed -q spark-nlp==2.5.4\n",
        "\n",
        "! pip install --user -U nltk"
      ],
      "execution_count": 2,
      "outputs": [
        {
          "output_type": "stream",
          "text": [
            "openjdk version \"1.8.0_292\"\n",
            "OpenJDK Runtime Environment (build 1.8.0_292-8u292-b10-0ubuntu1~18.04-b10)\n",
            "OpenJDK 64-Bit Server VM (build 25.292-b10, mixed mode)\n",
            "\u001b[K     |████████████████████████████████| 215.7MB 74kB/s \n",
            "\u001b[K     |████████████████████████████████| 204kB 21.0MB/s \n",
            "\u001b[?25h  Building wheel for pyspark (setup.py) ... \u001b[?25l\u001b[?25hdone\n",
            "\u001b[K     |████████████████████████████████| 133kB 13.5MB/s \n",
            "\u001b[?25hCollecting nltk\n",
            "\u001b[?25l  Downloading https://files.pythonhosted.org/packages/5e/37/9532ddd4b1bbb619333d5708aaad9bf1742f051a664c3c6fa6632a105fd8/nltk-3.6.2-py3-none-any.whl (1.5MB)\n",
            "\u001b[K     |████████████████████████████████| 1.5MB 14.9MB/s \n",
            "\u001b[?25hRequirement already satisfied, skipping upgrade: regex in /usr/local/lib/python3.7/dist-packages (from nltk) (2019.12.20)\n",
            "Requirement already satisfied, skipping upgrade: tqdm in /usr/local/lib/python3.7/dist-packages (from nltk) (4.41.1)\n",
            "Requirement already satisfied, skipping upgrade: click in /usr/local/lib/python3.7/dist-packages (from nltk) (7.1.2)\n",
            "Requirement already satisfied, skipping upgrade: joblib in /usr/local/lib/python3.7/dist-packages (from nltk) (1.0.1)\n",
            "Installing collected packages: nltk\n",
            "\u001b[33m  WARNING: The script nltk is installed in '/root/.local/bin' which is not on PATH.\n",
            "  Consider adding this directory to PATH or, if you prefer to suppress this warning, use --no-warn-script-location.\u001b[0m\n",
            "Successfully installed nltk-3.6.2\n"
          ],
          "name": "stdout"
        }
      ]
    },
    {
      "cell_type": "code",
      "metadata": {
        "id": "T2RzyRTnNGjx",
        "colab": {
          "base_uri": "https://localhost:8080/"
        },
        "outputId": "e464b3d5-ab0b-4d31-b291-4257160b7a6a"
      },
      "source": [
        "import sparknlp\n",
        "\n",
        "spark = sparknlp.start()\n",
        "\n",
        "print(\"Spark NLP version: \", sparknlp.version())\n",
        "print(\"Apache Spark version; \", spark.version)"
      ],
      "execution_count": 3,
      "outputs": [
        {
          "output_type": "stream",
          "text": [
            "Spark NLP version:  2.5.4\n",
            "Apache Spark version;  2.4.4\n"
          ],
          "name": "stdout"
        }
      ]
    },
    {
      "cell_type": "markdown",
      "metadata": {
        "id": "Q0yrTMJaQWqz"
      },
      "source": [
        "# Mount Drive and read data"
      ]
    },
    {
      "cell_type": "code",
      "metadata": {
        "id": "NLD74i7zONK3",
        "colab": {
          "base_uri": "https://localhost:8080/"
        },
        "outputId": "cbf33000-2571-4e9c-a86c-12c9110b2ee3"
      },
      "source": [
        "from google.colab import drive\n",
        "drive.mount('/content/drive/')"
      ],
      "execution_count": 4,
      "outputs": [
        {
          "output_type": "stream",
          "text": [
            "Mounted at /content/drive/\n"
          ],
          "name": "stdout"
        }
      ]
    },
    {
      "cell_type": "markdown",
      "metadata": {
        "id": "HS0s8wYL25E9"
      },
      "source": [
        "Some of the sparkNLP annotators were having trouble reading spaces in path, hence used symbolic link to replace the path"
      ]
    },
    {
      "cell_type": "code",
      "metadata": {
        "id": "nPSDHjKbOmpJ"
      },
      "source": [
        "! ln -s \"/content/drive/My Drive\" \"/content/MyDrive\""
      ],
      "execution_count": 5,
      "outputs": []
    },
    {
      "cell_type": "code",
      "metadata": {
        "id": "j7sjN-NzO1tx"
      },
      "source": [
        "\n",
        "song_data = spark.read.format(\"csv\").option(\"header\", \"true\").load(\"/content/drive/My Drive/SparkNLP/song_2k.csv\")\n"
      ],
      "execution_count": 6,
      "outputs": []
    },
    {
      "cell_type": "code",
      "metadata": {
        "id": "6p--pxgIPSQz",
        "colab": {
          "base_uri": "https://localhost:8080/"
        },
        "outputId": "187c17f5-faa7-4477-ddd7-8c4d469a2407"
      },
      "source": [
        "from pyspark.sql import functions as F\n",
        "song_data = song_data.select(['Key', 'Lyric', 'Genre']).withColumnRenamed('Lyric','text')\n",
        "\n",
        "# train, test = trainDataset.randomSplit(weights=[0.5, 0.5], seed=123)\n",
        "song_data = song_data.limit(999)\n",
        "print(song_data.count())\n",
        "\n",
        "song_data = song_data.filter(song_data.text != '')\n",
        "print(song_data.count())\n",
        "song_data = song_data.filter((song_data.Genre == 'Rock') | (song_data.Genre == 'Hip Hop') | (song_data.Genre == 'Pop')  )\n",
        "# song_data = song_data.filter(song_data.Genre != '')\n",
        "print(song_data.count())\n",
        "# song_data = song_data.filter(song_data.text != ' ')\n",
        "# print(song_data.count())\n",
        "# song_data = song_data.filter(song_data.Genre != ' ')\n",
        "# print(song_data.count())\n",
        "song_data.na.drop(subset=[\"text\"])\n",
        "print(song_data.count())\n",
        "song_data.show()"
      ],
      "execution_count": 7,
      "outputs": [
        {
          "output_type": "stream",
          "text": [
            "999\n",
            "999\n",
            "915\n",
            "915\n",
            "+--------------------+--------------------+-------+\n",
            "|                 Key|                text|  Genre|\n",
            "+--------------------+--------------------+-------+\n",
            "|10000 maniacs_Mor...|I could feel at t...|   Rock|\n",
            "|10000 maniacs_Bec...|Take me now, baby...|   Rock|\n",
            "|jamiroquai_Rock D...|And it's coming a...|    Pop|\n",
            "|10000 maniacs_The...|These are. These ...|   Rock|\n",
            "|10000 maniacs_Eve...|Trudging slowly o...|   Rock|\n",
            "|10000 maniacs_Don...|Don't talk, I wil...|   Rock|\n",
            "|black veil brides...|Have we begun to ...|   Rock|\n",
            "|lynyrd skynyrd_I ...|Ain't no need to ...|   Rock|\n",
            "|10000 maniacs_Acr...|Well they left th...|   Rock|\n",
            "|10000 maniacs_Pla...|[ music: Dennis D...|   Rock|\n",
            "|10000 maniacs_Rai...|On bended kneeI'v...|   Rock|\n",
            "|twista_Back 2 School|[Tung Twista]. ba...|Hip Hop|\n",
            "|10000 maniacs_Ant...|For whom do the b...|   Rock|\n",
            "|10000 maniacs_All...|She walks alone o...|   Rock|\n",
            "|10000 maniacs_Bac...|Jenny. Jenny you ...|   Rock|\n",
            "|cyndi lauper_True...|You with the sad ...|    Pop|\n",
            "|10000 maniacs_A R...|You were looking ...|   Rock|\n",
            "|rick astley_She M...|She makes me more...|    Pop|\n",
            "|steve earle_Nothi...|I'm the keeper of...|   Rock|\n",
            "|10000 maniacs_Mad...|\"the legs of Madd...|   Rock|\n",
            "+--------------------+--------------------+-------+\n",
            "only showing top 20 rows\n",
            "\n"
          ],
          "name": "stdout"
        }
      ]
    },
    {
      "cell_type": "code",
      "metadata": {
        "id": "pyXMOyWZP4Xb",
        "colab": {
          "base_uri": "https://localhost:8080/"
        },
        "outputId": "7e528eef-271b-4355-f4cb-fb0239fc14b2"
      },
      "source": [
        "print(type(song_data))"
      ],
      "execution_count": 8,
      "outputs": [
        {
          "output_type": "stream",
          "text": [
            "<class 'pyspark.sql.dataframe.DataFrame'>\n"
          ],
          "name": "stdout"
        }
      ]
    },
    {
      "cell_type": "markdown",
      "metadata": {
        "id": "PyPdwWmc3iPz"
      },
      "source": [
        "# Package Import"
      ]
    },
    {
      "cell_type": "code",
      "metadata": {
        "id": "OeBx3-P6P6Q9",
        "colab": {
          "base_uri": "https://localhost:8080/"
        },
        "outputId": "917afeb5-ff6a-4c73-a427-a490a05f3896"
      },
      "source": [
        "from pyspark.ml import Pipeline\n",
        "\n",
        "from sparknlp.annotator import *\n",
        "from sparknlp.common import *\n",
        "from sparknlp.base import *\n",
        "from sparknlp.pretrained import PretrainedPipeline\n",
        "\n",
        "import nltk\n",
        "from nltk.corpus import stopwords\n",
        "nltk.download('stopwords')\n",
        "from pyspark.sql import functions as F"
      ],
      "execution_count": 10,
      "outputs": [
        {
          "output_type": "stream",
          "text": [
            "[nltk_data] Downloading package stopwords to /root/nltk_data...\n",
            "[nltk_data]   Package stopwords is already up-to-date!\n"
          ],
          "name": "stdout"
        }
      ]
    },
    {
      "cell_type": "markdown",
      "metadata": {
        "id": "QH_L4yv9Qc_-"
      },
      "source": [
        "# Vocab Reduction"
      ]
    },
    {
      "cell_type": "markdown",
      "metadata": {
        "id": "PiHyoUe_33ci"
      },
      "source": [
        "Basic Data cleaning for NLP"
      ]
    },
    {
      "cell_type": "markdown",
      "metadata": {
        "id": "4RTztX11Uh5h"
      },
      "source": [
        "include NER and filter out person and other such tag"
      ]
    },
    {
      "cell_type": "code",
      "metadata": {
        "id": "atU2csZwRIJD",
        "colab": {
          "base_uri": "https://localhost:8080/"
        },
        "outputId": "08397aa3-19be-4172-d7f2-4ea0ca8d5a64"
      },
      "source": [
        "assembler = DocumentAssembler().setInputCol('text').setOutputCol('document')\n",
        "\n",
        "sentence_detector = SentenceDetector().setInputCols([\"document\"]).setOutputCol(\"sentence\")\n",
        "\n",
        "tokenizer = Tokenizer().setInputCols(['document']).setOutputCol('token')#.setTargetPattern('/\\b(\\?You were looking)\\b/')#.setExceptionsPath('/content/MyDrive/SparkNLP/entities.txt')\n",
        "\n",
        "spell_chk = NorvigSweetingModel().pretrained().setInputCols(['token']).setOutputCol('corrected')\n",
        "\n",
        "lemmatizer = LemmatizerModel().pretrained().setInputCols(['corrected']).setOutputCol('lemma')\n",
        "\n",
        "normalizer = Normalizer().setInputCols(['lemma']).setOutputCol('normalized').setLowercase(True)\n",
        "\n",
        "stop_wrd = list( stopwords.words('english'))\n",
        "\n",
        "stop_words_cleaner = StopWordsCleaner().setInputCols([\"normalized\"]).setOutputCol(\"cleanTokens\").setCaseSensitive(False).setStopWords(stop_wrd)\n",
        "bigram = NGramGenerator().setInputCols([\"cleanTokens\"]).setOutputCol(\"bigram\").setN(2).setEnableCumulative(False)\n",
        "trigram = NGramGenerator().setInputCols([\"cleanTokens\"]).setOutputCol(\"trigram\").setN(3).setEnableCumulative(False) \n",
        "\n",
        "finisher = Finisher().setInputCols(['cleanTokens','bigram','trigram']).setOutputCols(['uni','bi','tri']).setOutputAsArray(True)"
      ],
      "execution_count": 11,
      "outputs": [
        {
          "output_type": "stream",
          "text": [
            "spellcheck_norvig download started this may take some time.\n",
            "Approximate size to download 4.2 MB\n",
            "[OK!]\n",
            "lemma_antbnc download started this may take some time.\n",
            "Approximate size to download 907.6 KB\n",
            "[OK!]\n"
          ],
          "name": "stdout"
        }
      ]
    },
    {
      "cell_type": "code",
      "metadata": {
        "id": "ZfOlqRGP4qnX",
        "colab": {
          "base_uri": "https://localhost:8080/"
        },
        "outputId": "8541b9a0-f21d-44b5-cb24-f730e1eab37e"
      },
      "source": [
        "pipeline_bow = Pipeline().setStages([\n",
        "    assembler, tokenizer, spell_chk , \n",
        "    lemmatizer, normalizer,stop_words_cleaner,bigram,trigram,finisher\n",
        "])\n",
        "model_trans_tfIdf = pipeline_bow.fit(song_data)\n",
        "model_trans_tfIdf =  model_trans_tfIdf.transform(song_data)\n",
        "model_trans_tfIdf.show()"
      ],
      "execution_count": 29,
      "outputs": [
        {
          "output_type": "stream",
          "text": [
            "+--------------------+--------------------+-------+--------------------+--------------------+--------------------+\n",
            "|                 Key|                text|  Genre|                 uni|                  bi|                 tri|\n",
            "+--------------------+--------------------+-------+--------------------+--------------------+--------------------+\n",
            "|10000 maniacs_Mor...|I could feel at t...|   Rock|[could, feel, tim...|[could feel, feel...|[could feel time,...|\n",
            "|10000 maniacs_Bec...|Take me now, baby...|   Rock|[take, baby, hold...|[take baby, baby ...|[take baby hold, ...|\n",
            "|jamiroquai_Rock D...|And it's coming a...|    Pop|[come, baby, yeah...|[come baby, baby ...|[come baby yeah, ...|\n",
            "|10000 maniacs_The...|These are. These ...|   Rock|[day, youll, reme...|[day youll, youll...|[day youll rememb...|\n",
            "|10000 maniacs_Eve...|Trudging slowly o...|   Rock|[grudge, slowly, ...|[grudge slowly, s...|[grudge slowly we...|\n",
            "|10000 maniacs_Don...|Don't talk, I wil...|   Rock|[donut, talk, lis...|[donut talk, talk...|[donut talk liste...|\n",
            "|black veil brides...|Have we begun to ...|   Rock|[begin, drift, aw...|[begin drift, dri...|[begin drift away...|\n",
            "|lynyrd skynyrd_I ...|Ain't no need to ...|   Rock|[aint, need, worr...|[aint need, need ...|[aint need worry,...|\n",
            "|10000 maniacs_Acr...|Well they left th...|   Rock|[well, leave, mor...|[well leave, leav...|[well leave morni...|\n",
            "|10000 maniacs_Pla...|[ music: Dennis D...|   Rock|[music, dennis, d...|[music dennis, de...|[music dennis dre...|\n",
            "|10000 maniacs_Rai...|On bended kneeI'v...|   Rock|[bend, kneeive, l...|[bend kneeive, kn...|[bend kneeive loo...|\n",
            "|twista_Back 2 School|[Tung Twista]. ba...|Hip Hop|[tung, twista, ba...|[tung twista, twi...|[tung twista back...|\n",
            "|10000 maniacs_Ant...|For whom do the b...|   Rock|[bell, toll, sent...|[bell toll, toll ...|[bell toll senten...|\n",
            "|10000 maniacs_All...|She walks alone o...|   Rock|[walk, alone, bri...|[walk alone, alon...|[walk alone brick...|\n",
            "|10000 maniacs_Bac...|Jenny. Jenny you ...|   Rock|[jenny, jenny, do...|[jenny jenny, jen...|[jenny jenny dont...|\n",
            "|cyndi lauper_True...|You with the sad ...|    Pop|[sad, eye, donut,...|[sad eye, eye don...|[sad eye donut, e...|\n",
            "|10000 maniacs_A R...|You were looking ...|   Rock|[look, away, west...|[look away, away ...|[look away wester...|\n",
            "|rick astley_She M...|She makes me more...|    Pop|[make, could, eve...|[make could, coul...|[make could ever,...|\n",
            "|steve earle_Nothi...|I'm the keeper of...|   Rock|[im, keeper, hear...|[im keeper, keepe...|[im keeper heart,...|\n",
            "|10000 maniacs_Mad...|\"the legs of Madd...|   Rock|[leg, maddox, kit...|[leg maddox, madd...|[leg maddox kitch...|\n",
            "+--------------------+--------------------+-------+--------------------+--------------------+--------------------+\n",
            "only showing top 20 rows\n",
            "\n"
          ],
          "name": "stdout"
        }
      ]
    },
    {
      "cell_type": "code",
      "metadata": {
        "id": "_hPf6OEcZI9L",
        "colab": {
          "base_uri": "https://localhost:8080/"
        },
        "outputId": "6394e165-c55c-4557-aa77-df0d222be09b"
      },
      "source": [
        "# from pyspark.sql.functions import udf, explode\n",
        "# from pyspark.ml.linalg import SparseVector, DenseVector\n",
        "# from pyspark.sql.types import *\n",
        "\n",
        "# @udf(ArrayType(StringType()))\n",
        "# def concat_uni_bi_tri(uni,bi,tri):\n",
        "#     join1 = uni + list(set(bi) - set(uni))\n",
        "#     join2 = join1 + list(set(tri) - set(join1))\n",
        "#     return join2\n",
        "\n",
        "# model_trans_tfIdf = model_trans_tfIdf.select(\"text\", concat_uni_bi_tri(\"uni\",\"bi\", \"tri\").alias(\"cleanTokens\"))\n",
        "# model_trans_tfIdf.show(10,truncate = False)\n"
      ],
      "execution_count": null,
      "outputs": [
        {
          "output_type": "stream",
          "text": [
            "+-----------------------------------------------------------------------------------------------------------------------------------------------------------------------------------------------------------------------------------------------------------------------------------------------------------------------------------------------------------------------------------------------------------------------------------------------------------------------------------------------------------------------------------------------------------------------------------------------------------------------------------------------------------------------------------------------------------------------------------------------------------------------------------------------------------------------------------------------------------------------------------------------------------------------------------------------------------------------------------------------------------------------------------------------------------------------------------------------------------------------------------------------------------------------------------------------------------------------------------------------------------------------------------------------------------------------------------------------------------------------------------------------------------------------------------------------------------------------------------------------------------------------------------------------------------------------------------------------------------------------------------------------------------------------------------------------------------------------------------------------------------------------------------------------------------------------------------------------+--------------------------------------------------------------------------------------------------------------------------------------------------------------------------------------------------------------------------------------------------------------------------------------------------------------------------------------------------------------------------------------------------------------------------------------------------------------------------------------------------------------------------------------------------------------------------------------------------------------------------------------------------------------------------------------------------------------------------------------------------------------------------------------------------------------------------------------------------------------------------------------------------------------------------------------------------------------------------------------------------------------------------------------------------------------------------------------------------------------------------------------------------------------------------------------------------------------------------------------------------------------------------------------------------------------------------------------------------------------------------------------------------------------------------------------------------------------------------------------------------------------------------------------------------------------------------------------------------------------------------------------------------------------------------------------------------------------------------------------------------------------------------------------------------------------------------------------------------------------------------------------------------------------------------------------------------------------------------------------------------------------------------------------------------------------------------------------------------------------------------------------------------------------------------------------------------------------------------------------------------------------------------------------------------------------------------------------------------------------------------------------------------------------------------------------------------------------------------------------------------------------------------------------------------------------------------------------------------------------------------------------------------------------------------------------------------------------------------------------------------------------------------------------------------------------------------------------------------------------------------------------------------------------------------------------------------------------------------------------------------------------------------------------------------------------------------------------------------------------------------------------------------------------------------------------------------------------------------------------------------------------------------------------------------------------------------------------------------------------------------------------------------------------------------------------------------------------------------------------------------------------------------------------------------------------------------------------------------------------------------------------------------------------------------------------------------------------------------------------------------------------------------------------------------------------------------------------------------------------------------------------------------------------------------------------------------------------------------------------------------------------------------------------------------------------------------------------------------------------------------------------------------------------------------------------------------------------------------------------------------------------------------------------------------------------------------------------------------------------------------------------------------------------------------------------------------------------------------------------------------------------------------------------------------------------------------------------------------------------------------------------------------------------------------------------------------------------------------------------------------------------------------------------------------------------------------------------------------------------------------------------------------------------------------------------------------------------------------------------------------------------------------------------------------------------------------------------------------------------------------------------------------------------------------------------------------------------------------------------------------------------------------------------------------------------------------------------------------------------------------------------------------------------------------------+\n",
            "|text                                                                                                                                                                                                                                                                                                                                                                                                                                                                                                                                                                                                                                                                                                                                                                                                                                                                                                                                                                                                                                                                                                                                                                                                                                                                                                                                                                                                                                                                                                                                                                                                                                                                                                                                                                                                                                           |cleanTokens                                                                                                                                                                                                                                                                                                                                                                                                                                                                                                                                                                                                                                                                                                                                                                                                                                                                                                                                                                                                                                                                                                                                                                                                                                                                                                                                                                                                                                                                                                                                                                                                                                                                                                                                                                                                                                                                                                                                                                                                                                                                                                                                                                                                                                                                                                                                                                                                                                                                                                                                                                                                                                                                                                                                                                                                                                                                                                                                                                                                                                                                                                                                                                                                                                                                                                                                                                                                                                                                                                                                                                                                                                                                                                                                                                                                                                                                                                                                                                                                                                                                                                                                                                                                                                                                                                                                                                                                                                                                                                                                                                                                                                                                                                                                                                                                                                                                                                                                                                                                                                                                                                                                                                                                                                                                                                                                                                                                                     |\n",
            "+-----------------------------------------------------------------------------------------------------------------------------------------------------------------------------------------------------------------------------------------------------------------------------------------------------------------------------------------------------------------------------------------------------------------------------------------------------------------------------------------------------------------------------------------------------------------------------------------------------------------------------------------------------------------------------------------------------------------------------------------------------------------------------------------------------------------------------------------------------------------------------------------------------------------------------------------------------------------------------------------------------------------------------------------------------------------------------------------------------------------------------------------------------------------------------------------------------------------------------------------------------------------------------------------------------------------------------------------------------------------------------------------------------------------------------------------------------------------------------------------------------------------------------------------------------------------------------------------------------------------------------------------------------------------------------------------------------------------------------------------------------------------------------------------------------------------------------------------------+--------------------------------------------------------------------------------------------------------------------------------------------------------------------------------------------------------------------------------------------------------------------------------------------------------------------------------------------------------------------------------------------------------------------------------------------------------------------------------------------------------------------------------------------------------------------------------------------------------------------------------------------------------------------------------------------------------------------------------------------------------------------------------------------------------------------------------------------------------------------------------------------------------------------------------------------------------------------------------------------------------------------------------------------------------------------------------------------------------------------------------------------------------------------------------------------------------------------------------------------------------------------------------------------------------------------------------------------------------------------------------------------------------------------------------------------------------------------------------------------------------------------------------------------------------------------------------------------------------------------------------------------------------------------------------------------------------------------------------------------------------------------------------------------------------------------------------------------------------------------------------------------------------------------------------------------------------------------------------------------------------------------------------------------------------------------------------------------------------------------------------------------------------------------------------------------------------------------------------------------------------------------------------------------------------------------------------------------------------------------------------------------------------------------------------------------------------------------------------------------------------------------------------------------------------------------------------------------------------------------------------------------------------------------------------------------------------------------------------------------------------------------------------------------------------------------------------------------------------------------------------------------------------------------------------------------------------------------------------------------------------------------------------------------------------------------------------------------------------------------------------------------------------------------------------------------------------------------------------------------------------------------------------------------------------------------------------------------------------------------------------------------------------------------------------------------------------------------------------------------------------------------------------------------------------------------------------------------------------------------------------------------------------------------------------------------------------------------------------------------------------------------------------------------------------------------------------------------------------------------------------------------------------------------------------------------------------------------------------------------------------------------------------------------------------------------------------------------------------------------------------------------------------------------------------------------------------------------------------------------------------------------------------------------------------------------------------------------------------------------------------------------------------------------------------------------------------------------------------------------------------------------------------------------------------------------------------------------------------------------------------------------------------------------------------------------------------------------------------------------------------------------------------------------------------------------------------------------------------------------------------------------------------------------------------------------------------------------------------------------------------------------------------------------------------------------------------------------------------------------------------------------------------------------------------------------------------------------------------------------------------------------------------------------------------------------------------------------------------------------------------------------------------------------------------+\n",
            "|I could feel at the time. There was no way of knowing. Fallen leaves in the night. Who can say where they're blowing. As free as the wind. Hopefully learning. Why the sea on the tide. Has no way of turning. More than this. You know there's nothing. More than this. Tell me one thing. More than this. You know there's nothing. It was fun for a while. There was no way of knowing. Like a dream in the night. Who can say where we're going. No care in the world. Maybe I'm learning. Why the sea on the tide. Has no way of turning. More than this. You know there's nothing. More than this. Tell me one thing. More than this. You know there's nothing. More than this. You know there's nothing. More than this. Tell me one thing. More than this. There's nothing.                                                                                                                                                                                                                                                                                                                                                                                                                                                                                                                                                                                                                                                                                                                                                                                                                                                                                                                                                                                                                                                            |[could, feel, time, way, know, fallen, leave, night, say, theyre, blow, free, wind, hopefully, learn, sea, tide, way, turn, know, theres, nothing, tell, one, thing, know, theres, nothing, fun, way, know, like, dream, night, say, go, care, world, maybe, im, learn, sea, tide, way, turn, know, theres, nothing, tell, one, thing, know, theres, nothing, know, theres, nothing, tell, one, thing, theres, nothing, hopefully learn, free wind, feel time, turn know, maybe im, im learn, fallen leave, way know, world maybe, way turn, blow free, nothing fun, one thing, nothing tell, sea tide, time way, nothing know, like dream, know theres, know fallen, dream night, go care, theyre blow, fun way, learn sea, leave night, could feel, say theyre, theres nothing, thing theres, know like, tide way, thing know, say go, night say, tell one, wind hopefully, care world, know theres nothing, theres nothing tell, im learn sea, theres nothing fun, night say go, say go care, fun way know, dream night say, know fallen leave, world maybe im, maybe im learn, nothing tell one, thing know theres, night say theyre, say theyre blow, turn know theres, feel time way, go care world, tide way turn, one thing know, nothing fun way, way know like, like dream night, hopefully learn sea, way know fallen, leave night say, way turn know, sea tide way, thing theres nothing, one thing theres, fallen leave night, nothing know theres, wind hopefully learn, tell one thing, know like dream, could feel time, time way know, theres nothing know, theyre blow free, learn sea tide, blow free wind, care world maybe, free wind hopefully]                                                                                                                                                                                                                                                                                                                                                                                                                                                                                                                                                                                                                                                                                                                                                                                                                                                                                                                                                                                                                                                                                                                                                                                                                                                                                                                                                                                                                                                                                                                                                                                                                                                                                                                                                                                                                                                                                                                                                                                                                                                                                                                                                                                                                                                                                                                                                                                                                                                                                                                                                                                                                                                                                                                                                                                                                                                                                                                                                                                                                                                                                                                                                                                                                                                                                                                                                                                                                                                                                                                                                                                                                                                                                                                                                           |\n",
            "|Take me now, baby, here as I am. Hold me close, and try and understand. Desire is hunger is the fire I breathe. Love is a banquet on which we feed. Come on now, try and understand. The way I feel under your command. Take my hand, as the sun descends. They can't hurt you now can't hurt you now, can't hurt you now. Because the night belongs to lovers. Because the night belongs to us. Because the night belongs to lovers. Cause the night belongs to us. Have I a doubt, baby, when I'm alone. Love is a ring a telephone. Love is an angel, disguised as lust. Here in our bed 'til the morning comes. Come on now, try and understand. The way I feel under your command. Take my hand, as the sun descends. They can't hurt you now, can't hurt you now, can't hurt you now. Because the night belongs to lovers. Because the night belongs to us. Because the night belongs to lovers. Because the night belongs to us. With love we sleep,. with doubt the vicious circle turns, and burns. Without you, oh I cannot live,. forgive the yearning burning. I believe it's time to heal to feel,. so take me now, take me now, take me now. Because the night belongs to lovers. Because the night belongs to us. Because the night belongs to lovers. Because the night belongs to us                                                                                                                                                                                                                                                                                                                                                                                                                                                                                                                                          |[take, baby, hold, close, try, understand, desire, hunger, fire, breathe, love, banquet, feed, come, try, understand, way, feel, command, take, hand, sun, descend, cant, hurt, cant, hurt, cant, hurt, night, belong, lover, night, belong, night, belong, lover, cause, night, belong, doubt, baby, im, alone, love, ring, telephone, love, angel, disguise, lust, bed, til, morning, come, come, try, understand, way, feel, command, take, hand, sun, descend, cant, hurt, cant, hurt, cant, hurt, night, belong, lover, night, belong, night, belong, lover, night, belong, love, sleep, doubt, vicious, circle, turn, burn, without, oh, cannot, live, forgive, yearn, burn, believe, time, heal, feel, take, take, take, night, belong, lover, night, belong, night, belong, lover, night, belong, disguise lust, take take, belong lover, command take, hurt night, burn believe, desire hunger, ring telephone, bed til, baby hold, cannot live, doubt baby, yearn burn, feel take, take night, come try, lover night, time heal, love sleep, baby im, im alone, hold close, banquet feed, doubt vicious, take hand, love ring, morning come, try understand, til morning, come come, sleep doubt, belong doubt, breathe love, hand sun, understand way, believe time, descend cant, belong love, sun descend, understand desire, oh cannot, way feel, close try, love angel, lust bed, lover cause, belong night, hunger fire, vicious circle, heal feel, take baby, cant hurt, without oh, feed come, hurt cant, forgive yearn, burn without, fire breathe, feel command, cause night, turn burn, alone love, angel disguise, live forgive, telephone love, circle turn, night belong, love banquet, cant hurt cant, vicious circle turn, yearn burn believe, close try understand, love sleep doubt, command take hand, forgive yearn burn, breathe love banquet, disguise lust bed, time heal feel, sun descend cant, hand sun descend, take night belong, try understand way, take hand sun, night belong love, doubt baby im, telephone love angel, belong lover cause, try understand desire, take take night, burn believe time, feed come try, fire breathe love, feel command take, live forgive yearn, cannot live forgive, baby hold close, cause night belong, hunger fire breathe, morning come come, turn burn without, belong doubt baby, descend cant hurt, belong love sleep, lover night belong, night belong night, til morning come, come come try, doubt vicious circle, desire hunger fire, take baby hold, ring telephone love, sleep doubt vicious, believe time heal, feel take take, come try understand, without oh cannot, banquet feed come, oh cannot live, hold close try, take take take, lust bed til, heal feel take, im alone love, angel disguise lust, lover cause night, hurt night belong, night belong lover, belong lover night, hurt cant hurt, night belong doubt, baby im alone, belong night belong, alone love ring, cant hurt night, understand way feel, circle turn burn, love ring telephone, way feel command, bed til morning, burn without oh, love angel disguise, love banquet feed, understand desire hunger]                                                                                                                                                                                                                                                                                                                                                                                                                                                                                                                                                                                                                                                                                                                                                                                                                                                                                                                                                                                                                                                                                                                                                                                                                                                                                                                                                                                                                                                                                                                                                                                                                                                                                                                                                                                                                                                                                                                                                                                                                                                                                                                                                                                                                                                 |\n",
            "|And it's coming at you baby yeah. Coming at you baby. I'm a man on the moon. Hoping I come back to soon. Am I the only one to see light. No use to getting down. Pull your knees tonight. So dumped in love. Because I got no faith. I've seen those truths and lies. Through that and through my face. I found the crazy clutches. All the human race. Must be alone. How could it be. You're near to me. The sounds all up in the auxiliary. There's nothing about your war. You can call it what you like. I know where I'm from. And it's cold and dark. Cuz all the sinners. Are just sage without the sparks. Heaven took off. Telling them apart. Oh yeah. Coming at you,. Rock Dust Light Star. Coming at you baby,. 36,000 miles away. Rock Dust Light Star. What you made. And what you are. Can't you see. The stars for you and me. Waiting like silent candles in the night. Atomic Nation. You can make a fight. You never fight. I never felt. I never prayed. I don't have to join in. With the other slaves. I'm not the only one. Who feels betrayed. Oh yeah. Baby Rock Your Body. I'm going against the fade. I won't be born again. Salvation coming from us high. Coming at you baby. Coming higher. Rock Dust Light Star. Coming at you,. Rock Dust Light Star. Coming at you baby,. 36,000 miles away. Rock Dust Light Star,. Coming at you baby,. What you made. And what you are. Rock. Dust. Light. Star. Rock. Dust. Light. Star. I'm square big. In a round hole. Baby there's no place left for my wounded soul. Maybe the King of Kings. Finally lost control of theirs. Coming at you baby. Rock Dust Light Star. Coming at you baby,. Rock Dust Light Star. Coming at you baby,. 36,000 miles away. Rock Dust Light Star,. Coming at you baby,. What you made. And what you are                               |[come, baby, yeah, coming, baby, im, man, moon, hoping, come, back, soon, one, see, light, use, get, pull, knee, tonight, dump, love, get, faith, ive, see, truth, lie, face, find, crazy, clutch, human, race, must, alone, could, youre, near, sound, auxiliary, wheres, nothing, war, call, like, know, im, cold, dark, cuz, sinner, sage, without, spark, heaven, take, telling, apart, oh, yeah, coming, rock, dust, light, star, coming, baby, mile, away, rock, dust, light, star, make, hant, see, star, waiting, like, silent, candle, night, atomic, nation, make, fight, never, fight, never, feel, never, pray, dont, join, slave, im, one, feel, betray, oh, yeah, baby, rock, body, im, go, fade, wont, bear, salvation, come, high, coming, baby, coming, high, rock, dust, light, star, coming, rock, dust, light, star, coming, baby, mile, away, rock, dust, light, star, coming, baby, make, rock, dust, light, star, rock, dust, light, star, im, square, big, round, hole, baby, theres, place, leave, wounded, soul, maybe, king, kings, finally, lose, control, coming, baby, rock, dust, light, star, coming, baby, rock, dust, light, star, coming, baby, mile, away, rock, dust, light, star, coming, baby, make, leave wounded, oh yeah, yeah coming, kings finally, telling apart, atomic nation, sinner sage, night atomic, feel never, maybe king, baby im, find crazy, high coming, human race, silent candle, yeah baby, one see, auxiliary wheres, cant see, baby coming, never pray, bear salvation, see truth, war call, moon hoping, betray oh, slave im, coming rock, star coming, pull knee, im square, wont bear, near sound, star waiting, baby mile, candle night, baby theres, nation make, control coming, alone could, soul maybe, join slave, like know, finally lose, wheres nothing, tonight dump, baby yeah, fight never, get faith, make fight, salvation come, wounded soul, im go, feel betray, cold dark, big round, must alone, without spark, star make, soon one, ive see, pray dont, king kings, baby make, hole baby, clutch human, spark heaven, im one, away rock, coming high, make rock, light star, waiting like, star im, crazy clutch, lie face, dark cuz, get pull, come high, im cold, coming baby, back soon, hoping come, call like, round hole, dump love, make cant, light use, lose control, knee tonight, theres place, face find, see light, come baby, truth lie, square big, rock dust, place leave, dust light, baby rock, body im, nothing war, youre near, like silent, fade wont, use get, one feel, never fight, love get, man moon, race must, see star, never feel, high rock, take telling, faith ive, could youre, apart oh, star rock, heaven take, sound auxiliary, cuz sinner, go fade, sage without, mile away, rock body, know im, come back, im man, dont join, make fight never, rock dust light, see star waiting, star coming rock, without spark heaven, star coming baby, war call like, fade wont bear, feel never pray, ive see truth, sage without spark, coming baby rock, come back soon, round hole baby, coming high rock, light star coming, im cold dark, night atomic nation, light star make, pray dont join, get faith ive, kings finally lose, im go fade, square big round, like silent candle, mile away rock, apart oh yeah, coming baby coming, moon hoping come, never feel never, im man moon, wheres nothing war, hole baby theres, place leave wounded, betray oh yeah, pull knee tonight, join slave im, baby yeah coming, atomic nation make, cuz sinner sage, light use get, face find crazy, take telling apart, cold dark cuz, light star rock, star make cant, oh yeah coming, coming baby make, dust light star, come high coming, body im go, leave wounded soul, never pray dont, yeah coming rock, salvation come high, make rock dust, baby mile away, human race must, away rock dust, candle night atomic, wont bear salvation, baby im man, im square big, like know im, faith ive see, baby coming high, back soon one, maybe king kings, baby theres place, one feel betray, baby rock dust, go fade wont, fight never fight, man moon hoping, get pull knee, call like know, spark heaven take, could youre near, dump love get, must alone could, see light use, crazy clutch human, control coming baby, love get faith, king kings finally, fight never feel, star rock dust, heaven take telling, soul maybe king, sinner sage without, bear salvation come, truth lie face, use get pull, im one feel, knee tonight dump, near sound auxiliary, star waiting like, lie face find, waiting like silent, baby make rock, know im cold, star im square, see truth lie, race must alone, soon one see, big round hole, yeah coming baby, finally lose control, rock body im, one see light, sound auxiliary wheres, nothing war call, never fight never, dont join slave, silent candle night, slave im one, hoping come back, youre near sound, find crazy clutch, coming rock dust, dark cuz sinner, nation make fight, auxiliary wheres nothing, light star im, yeah baby rock, baby rock body, high rock dust, telling apart oh, tonight dump love, alone could youre, lose control coming, clutch human race, feel betray oh, cant see star, theres place leave, oh yeah baby, come baby yeah, coming baby im, make cant see, wounded soul maybe, coming baby mile, high coming baby]|\n",
            "|These are. These are days you'll remember. Never before and never since, I promise. Will the whole world be warm as this. And as you feel it,. You'll know it's true. That you - you are blessed and lucky. It's true - that you. Are touched by something. That will grow and bloom in you. These are days you'll remember. When May is rushing over you. With desire to be part of the miracles. You see in every hour. You'll know it's true. That you are blessed and lucky. It's true that you are touched. By something that will grow and bloom in you. These are days. These are the days you might fill. With laughter until you break. These days you might feel. A shaft of light. Make its way across your face. And when you do. You'll know how it was meant to be. See the signs and know their meaning. You'll know how it was meant to be. Hear the signs and know they're speaking. To you, to you                                                                                                                                                                                                                                                                                                                                                                                                                                                                                                                                                                                                                                                                                                                                                                                                                                                                                                                           |[day, youll, remember, never, never, since, promise, whole, world, warm, feel, youll, know, true, bless, lucky, dts, true, touch, something, grow, bloom, day, youll, remember, may, rush, desire, part, miracle, see, every, hour, youll, know, true, bless, lucky, itys, true, touch, something, grow, bloom, day, day, might, fill, laughter, break, day, might, feel, shaft, light, make, way, across, face, youll, know, mean, see, sign, know, mean, youll, know, mean, hear, sign, know, theyre, speak, feel youll, touch something, every hour, lucky true, never since, see sign, laughter break, true bless, might fill, light make, fill laughter, itys true, bloom day, part miracle, remember never, bless lucky, lucky itys, might feel, youll know, promise whole, desire part, grow bloom, day might, know true, since promise, day youll, miracle see, sign know, know theyre, something grow, see every, shaft light, mean hear, across face, may rush, youll remember, day day, mean see, hour youll, break day, feel shaft, know mean, make way, rush desire, mean youll, theyre speak, way across, whole world, never never, warm feel, world warm, face youll, true touch, hear sign, remember may, youll know mean, might fill laughter, miracle see every, shaft light make, sign know theyre, youll remember never, lucky itys true, know true bless, something grow bloom, promise whole world, true touch something, itys true touch, see sign know, day might fill, fill laughter break, day day might, warm feel youll, never since promise, face youll know, make way across, remember may rush, bloom day day, might feel shaft, know mean see, mean youll know, day might feel, never never since, feel youll know, bless lucky itys, mean see sign, see every hour, day youll remember, true bless lucky, lucky dts true, touch something grow, know mean youll, every hour youll, remember never never, whole world warm, mean hear sign, grow bloom day, rush desire part, part miracle see, may rush desire, know mean hear, hear sign know, laughter break day, since promise whole, across face youll, hour youll know, dts true touch, bloom day youll, youll know true, feel shaft light, youll remember may, sign know mean, know theyre speak, break day might, world warm feel, bless lucky dts, desire part miracle, light make way, way across face]                                                                                                                                                                                                                                                                                                                                                                                                                                                                                                                                                                                                                                                                                                                                                                                                                                                                                                                                                                                                                                                                                                                                                                                                                                                                                                                                                                                                                                                                                                                                                                                                                                                                                                                                                                                                                                                                                                                                                                                                                                                                                                                                                                                                                                                                                                                                                                                                                                                                                                                                                                                                                                                                                                                                                                                                                                                                                                                                                                                                                               |\n",
            "|Trudging slowly over wet sand. Back to the bench where your clothes were stolen. This is a coastal town. That they forgot to close down. Armagedon - come armagedon come armagedon come. Everyday is like sunday. Everyday is silent and grey. Hide on a promanade. Etch on a post card:. How I dearly wish I was not here. In the seaside town. That they forgot to bomb. Come, come nuclear bomb!. Everyday is like sunday. Everyday is silent and grey. Trudging back over pebbles and sand. And a strange dust lands on your hands. (and on your face). Everyday is like sunday. Win yourself a cheap tray. Share some grease tea with me. Everyday is silent and grey                                                                                                                                                                                                                                                                                                                                                                                                                                                                                                                                                                                                                                                                                                                                                                                                                                                                                                                                                                                                                                                                                                                                                                     |[grudge, slowly, wet, sand, back, bench, clothes, steal, coastal, town, forget, close, armageddon, come, armagedon, come, armagedon, come, everyday, like, sundae, everyday, silent, grey, hoda, promenade, post, card, dearly, wish, seaside, town, forget, bomb, come, come, nuclear, bomb, everyday, like, sundae, everyday, silent, grey, grudge, back, pebble, sand, strange, dust, land, hand, face, everyday, like, sunway, win, cheap, tray, share, grease, tea, everyday, silent, grey, wet sand, like sundae, like sunway, come everyday, card dearly, everyday like, wish seaside, strange dust, forget close, bomb everyday, sand strange, share grease, grudge slowly, land hand, seaside town, face everyday, town forget, win cheap, grudge back, sunway everyday, sand back, back bench, dearly wish, sundar win, tray share, come come, grease tea, like sundar, silent grey, steal coastal, come nuclear, cheap tray, tea everyday, promenade post, slowly wet, coastal town, dust land, bench clothes, nuclear bomb, bomb come, sundae everyday, pebble sand, grey hoda, close armageddon, clothes steal, armageddon come, hand face, post card, back pebble, hoda promenade, forget bomb, grey grudge, come armagedon, armagedon come, everyday silent, bomb come come, slowly wet sand, clothes steal coastal, face everyday like, promenade post card, armageddon come armagedon, sand strange dust, tea everyday silent, town forget bomb, like sundae everyday, win cheap tray, hoda promenade post, sundry everyday silent, close armageddon come, silent grey hoda, grey grudge back, everyday like sundae, share grease tea, wet sand back, bomb everyday like, sand back bench, dearly wish seaside, bench clothes steal, armagedon come everyday, sundae everyday silent, forget close armageddon, grudge back pebble, wish seaside town, come everyday like, dust land hand, armagedon come armagedon, back bench clothes, grey hoda promenade, post card dearly, hand face everyday, nuclear bomb everyday, coastal town forget, come nuclear bomb, like sundry everyday, forget bomb come, town forget close, steal coastal town, land hand face, like sunway win, seaside town forget, come come nuclear, everyday silent grey, everyday like sundry, grudge slowly wet, strange dust land, tray share grease, everyday like sunway, pebble sand strange, come armagedon come, card dearly wish, back pebble sand, cheap tray share, grease tea everyday, sunway win cheap, silent grey grudge]                                                                                                                                                                                                                                                                                                                                                                                                                                                                                                                                                                                                                                                                                                                                                                                                                                                                                                                                                                                                                                                                                                                                                                                                                                                                                                                                                                                                                                                                                                                                                                                                                                                                                                                                                                                                                                                                                                                                                                                                                                                                                                                                                                                                                                                                                                                                                                                                                                                                                                                                                                                                                                                                                                                                                                                                                                                                                                |\n",
            "|Don't talk, I will listen. Don't talk, you keep your distance. For I'd rather hear some truth tonight. Than entertain your lies,. So take you poison silently. Let me be let me close my eyes. Don't talk, I'll believe it. Don't talk, listen to me instead,. I know that if you think of it,. Both long enough and hard. The drink you drown your troubles. In is the trouble you're in now. Talk talk talk about it,. If you talk as if you care. But when your talk is over. Tilt that bottle in the air,. Tossing back more than your share. Don't talk, I can guess it. Don't talk, well now your restless. And you need somewhere to put the blame. For how you feel inside. You'll look for a close. And easy mark and you'll see me as fair game. Talk talk talk about it,. Talk as if you care. But when your talk is over tilt. That bottle in the air. Tossing back more than your share. You talk talk talk about it,. You talk as if you care. I'm marking every word. And can tell this time for sure,. Your talk is the finest I have heard. So don't talk, I'll be sleeping,. Let me go on dreaming. How your eyes they glow so fiercely. I can tell your inspired. By the name you just chose for me. Now what was it?. O, never mind it. We will talk talk. Talk about this when your head is clear. I'll discuss this in the morning,. But until then you may talk but I won't hear                                                                                                                                                                                                                                                                                                                                                                                                                                        |[donut, talk, listen, donut, talk, keep, distance, id, rather, hear, truth, tonight, entertain, lie, take, poison, silently, let, let, close, eye, donut, talk, ill, believe, donut, talk, listen, instead, know, think, long, enough, hard, drink, drown, trouble, trouble, youre, talk, talk, talk, talk, care, talk, till, bottle, air, tossing, back, share, donut, talk, guess, donut, talk, well, restless, need, somewhere, put, blame, feel, inside, youll, look, close, easy, mark, youll, see, fair, game, talk, talk, talk, talk, care, talk, tilt, bottle, air, tossing, back, share, talk, talk, talk, talk, care, im, mark, every, word, tell, time, sure, talk, fine, hear, dont, talk, ill, sleep, let, go, dream, eye, glow, fiercely, tell, inspire, name, choose, never, mind, talk, talk, talk, head, clear, ill, discuss, morning, may, talk, wont, hear, let close, well restless, care im, easy mark, may talk, talk keep, entertain lie, youre talk, tell time, go dream, inside youll, mind talk, morning may, long enough, ill discuss, glow fiercely, game talk, never mind, fine hear, rather hear, eye glow, wont hear, dream eye, talk ill, keep distance, feel inside, ill believe, know think, need somewhere, let let, sleep let, discuss morning, drown trouble, share donut, head clear, distance id, think long, lie take, hear truth, ill sleep, time sure, close eye, talk tilt, close easy, blame feel, youll see, poison silently, mark every, talk guess, clear ill, fiercely tell, bottle air, believe donut, youll look, listen donut, somewhere put, im mark, instead know, drink drown, inspire name, talk care, look close, truth tonight, talk listen, silently let, enough hard, talk fine, choose never, name choose, let go, talk talk, care talk, share talk, till bottle, hard drink, hear dont, tossing back, listen instead, tilt bottle, tonight entertain, guess donut, air tossing, trouble trouble, eye donut, word tell, back share, talk till, tell inspire, trouble youre, id rather, talk head, every word, take poison, dont talk, mark youll, put blame, donut talk, talk wont, restless need, sure talk, talk well, fair game, see fair, inspire name choose, talk listen instead, talk head clear, game talk talk, trouble youre talk, donut talk keep, donut talk guess, talk care im, glow fiercely tell, back share talk, mind talk talk, enough hard drink, go dream eye, head clear ill, never mind talk, instead know think, talk care talk, long enough hard, mark youll see, put blame feel, talk listen donut, somewhere put blame, talk ill believe, fine hear dont, sure talk fine, talk tilt bottle, back share donut, fiercely tell inspire, name choose never, time sure talk, ill believe donut, eye donut talk, talk talk head, restless need somewhere, poison silently let, care talk till, talk till bottle, donut talk well, youll see fair, tossing back share, talk wont hear, share donut talk, listen instead know, every word tell, feel inside youll, dont talk ill, id rather hear, hear truth tonight, let let close, clear ill discuss, talk well restless, rather hear truth, word tell time, tilt bottle air, guess donut talk, think long enough, inside youll look, tell time sure, donut talk ill, talk guess donut, care im mark, look close easy, bottle air tossing, believe donut talk, easy mark youll, hard drink drown, air tossing back, lie take poison, youll look close, hear dont talk, entertain lie take, talk talk care, talk talk talk, talk ill sleep, truth tonight entertain, fair game talk, blame feel inside, tell inspire name, donut talk listen, sleep let go, till bottle air, eye glow fiercely, listen donut talk, ill discuss morning, drown trouble trouble, need somewhere put, youre talk talk, care talk tilt, trouble trouble youre, close eye donut, talk keep distance, may talk wont, morning may talk, discuss morning may, im mark every, share talk talk, tonight entertain lie, mark every word, talk fine hear, let go dream, know think long, silently let let, well restless need, let close eye, distance id rather, ill sleep let, dream eye glow, keep distance id, drink drown trouble, see fair game, choose never mind, close easy mark, take poison silently]                                                                                                                                                                                                                                                                                                                                                                                                                                                                                                                                                                                                                                                                                                                                                                                                                                                                                                                                                                                                                                                                                                            |\n",
            "|Have we begun to drift away. Have we learned from our mistakes. Who will be the one to save our destiny. All the lights have hit our eyes. And we said our last goodbyes. Who will be the one to save our destiny. Oh, woah, woah, woah, oh, oh. Oh, woah, woah, woah, oh, oh. Who will save. Oh, woah, woah, woah, oh, oh. Oh, woah, woah, woah, oh, oh. The king is dead. In our town of broken dreams. The rivers red. Are we breaking at the seams. Bleeding out. Fire spreads like kerosene. We're going down. We're going down in tragedy. Singing. Oh, woah, woah, woah, oh, oh. Oh, woah, woah, woah, oh, oh. Have we begun to drift away. Have we learned from our mistakes. Who will be the one to save our destiny. All the lights have hit our eyes. And we said our last goodbyes. Who will be the one to save our destiny. Sound the bells. From the dark and hallow hills. Hounds from hell. Yeah, we're goin' in for the kill. No defense. We've got nothin' left to lose. But our revenge. We'll remind them of our truth. Singing. Oh, woah, woah, woah, oh, oh. Oh, woah, woah, woah, oh, oh. Have we begun to drift away. Have we learned from our mistakes. Who will be the one to save our destiny. All the lights have hit our eyes. And we said our last goodbyes. Who will be the one to save our destiny. Oh, woah, woah, woah, oh, oh. Oh, woah, woah, woah, oh, oh. Oh, woah, woah, woah, oh, oh. Oh, woah, woah, woah, oh, oh. Have we begun to drift away. Have we learned from our mistakes. Who will be the one to save our destiny. All the lights have hit our eyes. And we said our last goodbyes. Who will be the one to save our destiny. Oh, woah, woah, woah, oh, oh. Oh, woah, woah, woah, oh, oh. Who will save. Oh, woah, woah, woah, oh, oh. Oh, woah, woah, woah, oh, oh. Who will save our destiny|[begin, drift, away, learn, mistake, one, save, destiny, light, hit, eye, say, last, goodbye, one, save, destiny, oh, woad, woak, woak, oh, oh, oh, woak, woan, woan, oh, oh, save, oh, woak, woad, woan, oh, oh, oh, woad, woan, woad, oh, oh, king, dead, town, break, dream, river, red, break, seam, bleed, fire, spread, like, kerosene, go, weare, go, tragedy, singing, oh, woak, woan, woak, oh, oh, oh, woak, woan, woan, oh, oh, begin, drift, away, learn, mistake, one, save, destiny, light, hit, eye, say, last, goodbye, one, save, destiny, sound, bell, dark, hallow, hill, pound, hell, yeah, goin, kill, defense, weve, get, nothin, leave, lose, revenge, well, remind, truth, singing, oh, woad, woan, woad, oh, oh, oh, woad, woan, woad, oh, oh, begin, drift, away, learn, mistake, one, save, destiny, light, hit, eye, say, last, goodbye, one, save, destiny, oh, woad, woak, woak, oh, oh, oh, woad, woak, woad, oh, oh, oh, woan, woak, woak, oh, oh, oh, woad, woad, woak, oh, oh, begin, drift, away, learn, mistake, one, save, destiny, light, hit, eye, say, last, goodbye, one, save, destiny, oh, woan, woad, woan, oh, oh, oh, woad, woad, woad, oh, oh, save, oh, woan, woad, woan, oh, oh, oh, woak, woad, woak, oh, oh, save, destiny, seam bleed, sound bell, kerosene go, break seam, hill pound, lose revenge, destiny oh, goin kill, learn mistake, king dead, woak woak, red break, drift away, oh begin, oh woan, truth singing, well remind, last goodbye, dream river, destiny light, away learn, oh woad, one save, say last, woad woan, woan woak, woan woad, woad woak, oh oh, go go, town break, bell dark, pound hell, leave lose, woak woad, singing oh, oh king, remind truth, get nothin, save oh, bleed fire, river red, woak woan, break dream, go tragedy, dark hallow, defense weve, hallow hill, woad oh, woad woad, nothin leave, woak oh, kill defense, save destiny, weve get, mistake one, woan oh, goodbye one, spread like, eye say, tragedy singing, oh woak, woan woan, dead town, destiny sound, oh save, like kerosene, yeah goin, revenge well, begin drift, light hit, hit eye, fire spread, hell yeah, save destiny sound, king dead town, red break seam, break seam bleed, woad woad oh, woad woad woan, woan woad woad, well remind truth, woak woan oh, revenge well remind, nothin leave lose, oh oh woak, go tragedy singing, woan woak woak, light hit eye, woan woak woan, tragedy singing oh, save destiny oh, say last goodbye, break dream river, save destiny light, dream river red, woad woak oh, woan woad woan, oh woan woan, weare go weare, yeah goin kill, remind truth singing, hell yeah goin, hallow hill pound, woak woad woak, woan woak woad, woad woak woan, woan woak oh, oh oh woan, pound hell yeah, eye say last, defense weve get, dark hallow hill, drift away learn, get nothin leave, begin drift away, destiny sound bell, woan woan oh, spread like kerosene, save oh woan, sound bell dark, town break dream, last goodbye one, woan woad oh, away learn mistake, woan woan woad, save oh woad, kill defense weve, kerosene weare go, hit eye say, fire spread like, oh oh king, destiny oh woan, like kerosene weare, seam bleed fire, oh oh begin, woak woad woad, goodbye one save, mistake one save, oh woak woad, dead town break, woak woad oh, oh oh save, destiny light hit, go weare go, oh begin drift, oh woan woak, woan woad woak, truth singing oh, hill pound hell, oh king dead, bleed fire spread, destiny oh woad, woan woan woan, woan woan woak, one save destiny, oh save destiny, oh save oh, oh oh oh, leave lose revenge, learn mistake one, woad oh oh, oh woad woad, oh woan woad, woak oh oh, woad woan oh, weare go tragedy, singing oh woan, weve get nothin, lose revenge well, goin kill defense, woak woak oh, oh woad woak, woan oh oh, river red break, bell dark hallow]                                                                                                                                                                                                                                                                                                                                                                                                                                                                                                                                                                                                                                                                                                                                                                                                                                                                                                                                                                                                                                                                                                                                                                                                                                                                                                                                                                                                                                                                                                      |\n",
            "|Ain't no need to worry. Ain't no use to cry. 'Cause I'll be comin' home soon. To keep you satisfied. You know I get so lonely. That I feel I can't go on. And it feels so good inside, baby. Just to call you on the telephone. I said. Oh baby, I love you. What more can I say. Oh baby, I need you. I miss you more everyday. I woke up early this morning. And sun came shining down. And it found me wishin' and hopin'. Mama, you could be around. Well, you know that I need you. More than the air that I breathe. And I guess I'm just trying to tell you woman. Oh, what you mean to me. I'm trying to tell you I love you. In each and every way. I'm trying to tell you I need you. Much more than a piece of leg. Oh baby, I love you. What more can I say. Oh baby I need your sweet lovin. I miss you more every day                                                                                                                                                                                                                                                                                                                                                                                                                                                                                                                                                                                                                                                                                                                                                                                                                                                                                                                                                                                                            |[aint, need, worry, aint, use, cry, cause, ill, comin, home, soon, keep, satisfied, know, get, lonely, feel, cant, go, feel, good, inside, baby, call, telephone, say, oh, baby, love, say, oh, baby, need, miss, everyday, wake, early, morning, sun, come, shine, find, within, hope, mama, could, around, well, know, need, air, breathe, guess, im, try, tell, woman, oh, mean, im, try, tell, love, every, way, im, try, tell, need, much, piece, leg, oh, baby, love, say, oh, baby, need, sweet, love, miss, every, day, good inside, baby need, sweet love, every way, find within, go feel, aint use, worry aint, try tell, get lonely, tell love, cry cause, soon keep, call telephone, air breathe, much piece, woman oh, could around, hope mama, early morning, miss everyday, home soon, need worry, baby love, feel cant, keep satisfied, say oh, oh baby, tell woman, know need, telephone say, cant go, everyday wake, love miss, every day, love every, aint need, need much, piece leg, need air, love say, need miss, need sweet, mama could, oh mean, comin home, baby call, morning sun, within hope, well know, guess im, leg oh, use cry, know get, feel good, cause ill, wake early, ill comin, miss every, breathe guess, way im, lonely feel, around well, im try, mean im, satisfied know, inside baby, shine find, sun come, tell need, come shine, love miss every, early morning sun, try tell need, sun come shine, cry cause ill, tell need much, love say oh, find within hope, guess im try, piece leg oh, way im try, well know need, miss everyday wake, mama could around, baby need sweet, much piece leg, cause ill comin, say oh baby, im try tell, sweet love miss, feel good inside, know get lonely, soon keep satisfied, need sweet love, oh mean im, every way im, try tell woman, baby need miss, around well know, oh baby need, inside baby call, get lonely feel, baby love say, baby call telephone, mean im try, tell love every, feel cant go, aint need worry, need worry aint, oh baby love, need air breathe, miss every day, come shine find, cant go feel, home soon keep, wake early morning, use cry cause, keep satisfied know, shine find within, within hope mama, could around well, aint use cry, need miss everyday, worry aint use, satisfied know get, everyday wake early, ill comin home, tell woman oh, woman oh mean, go feel good, hope mama could, air breathe guess, breathe guess im, try tell love, love every way, good inside baby, telephone say oh, know need air, call telephone say, comin home soon, need much piece, morning sun come, leg oh baby, lonely feel cant]                                                                                                                                                                                                                                                                                                                                                                                                                                                                                                                                                                                                                                                                                                                                                                                                                                                                                                                                                                                                                                                                                                                                                                                                                                                                                                                                                                                                                                                                                                                                                                                                                                                                                                                                                                                                                                                                                                                                                                                                                                                                                                                                                                                                                                                                                                                                                                                                                                                                                                                                                                                                                                                                                                                                                                      |\n",
            "|Well they left then in the morning, a hundred pairs of wings. In the light moved together in the colors of the morning. I looked to the clouds in the cirrus sky and they'd gone.. Across the marshes, across the fields below.. I fell through the vines and I hoped they would catch me below.. If only to take me with them there,. Tell me the part that shinesIn your heart on the wind.. And the reeds blew in the morning.. Take me along to the places. You've gone when my eyes looked away.. Tell me the song that you sing in the trees in the dawning.. Tell me the part that shines in your heart. And the rays of love forever,. Please take me there..                                                                                                                                                                                                                                                                                                                                                                                                                                                                                                                                                                                                                                                                                                                                                                                                                                                                                                                                                                                                                                                                                                                                                                          |[well, leave, morning, hundred, pair, wing, light, move, together, color, morning, look, cloud, cirrus, sky, theyd, go, across, marsh, across, field, fall, vine, hope, would, catch, take, tell, part, shinesin, heart, wind, reed, blow, morning, take, along, place, youve, go, eye, look, away, tell, song, sing, tree, dawn, tell, part, shine, heart, ray, love, forever, please, take, marsh across, catch take, forever please, please take, sky theyd, pair wing, love forever, shinesin heart, go eye, take tell, cirrus sky, across marsh, look away, place youve, sing tree, morning take, look cloud, fall vine, wing light, go across, take along, would catch, vine hope, hundred pair, reed blow, morning hundred, eye look, heart ray, part shinesin, cloud cirrus, light move, song sing, away tell, theyd go, leave morning, across field, ray love, wind reed, color morning, field fall, along place, heart wind, hope would, tree dawn, well leave, dawn tell, morning look, move together, together color, part shine, tell part, blow morning, youve go, shine heart, tell song, heart ray love, catch take tell, reed blow morning, place youve go, sky theyd go, wing light move, fall vine hope, hope would catch, theyd go across, wind reed blow, tell part shine, forever please take, take along place, tree dawn tell, heart wind reed, part shinesin heart, blow morning take, take tell part, shine heart ray, ray love forever, eye look away, look cloud cirrus, go eye look, dawn tell part, field fall vine, cirrus sky theyd, move together color, pair wing light, color morning look, go across marsh, leave morning hundred, across field fall, youve go eye, part shine heart, marsh across field, along place youve, across marsh across, away tell song, tell part shinesin, look away tell, light move together, tell song sing, song sing tree, cloud cirrus sky, would catch take, morning look cloud, hundred pair wing, vine hope would, well leave morning, together color morning, sing tree dawn, morning take along, shinesin heart wind, love forever please, morning hundred pair]                                                                                                                                                                                                                                                                                                                                                                                                                                                                                                                                                                                                                                                                                                                                                                                                                                                                                                                                                                                                                                                                                                                                                                                                                                                                                                                                                                                                                                                                                                                                                                                                                                                                                                                                                                                                                                                                                                                                                                                                                                                                                                                                                                                                                                                                                                                                                                                                                                                                                                                                                                                                                                                                                                                                                                                                                                                                                                                                                                                                                                                                                                                                                                                                                                                                                      |\n",
            "|[ music: Dennis Drew/lyric: Natalie Merchant ]. . science. is truth for life. watch religion fall obsolete. science. will be truth for life. technology as nature. science. truth for life. in fortran tongue the. answer. with wealth and prominence. man so near perfection. possession. it's an absence of interim. secure no demurrer. defense against divine. defense against his true. image. human conflict number five. discovery. dissolved all illusion. mystery. destroyed with conclusion. and illusion never restored. any modern man can see. that religion is. obsolete. piety. obsolete. ritual. obsolete. martyrdom. obsolete. prophetic vision. obsolete. mysticism. obsolete. commitment. obsolete. sacrament. obsolete. revelation. obsolete.                                                                                                                                                                                                                                                                                                                                                                                                                                                                                                                                                                                                                                                                                                                                                                                                                                                                                                                                                                                                                                                                              |[music, dennis, drewlyric, natalie, merchant, science, truth, life, watch, religion, fall, obsolete, science, truth, life, technology, nature, science, truth, life, foreran, tongue, answer, wealth, prominence, man, near, perfection, possession, absence, interim, secure, demurrer, defense, divine, defense, true, image, human, conflict, number, five, discovery, dissolve, illusion, mystery, destroy, conclusion, illusion, never, restore, modern, man, see, religion, obsolete, piety, obsolete, ritual, obsolete, martyrdom, obsolete, prophetic, vision, obsolete, mysticism, obsolete, commitment, obsolete, sacrament, obsolete, revelation, obsolete, destroy conclusion, conflict number, technology nature, mysticism obsolete, ritual obsolete, science truth, dennis drewlyric, divine defense, merchant science, obsolete commitment, obsolete sacrament, demurrer defense, image human, revelation obsolete, obsolete prophetic, illusion never, truth life, drewlyric natalie, tongue answer, prominence man, life technology, secure demurrer, true image, never restore, life foreran, interim secure, prophetic vision, human conflict, dissolve illusion, defense divine, absence interim, perfection possession, number five, illusion mystery, man see, watch religion, obsolete ritual, commitment obsolete, vision obsolete, foreran tongue, life watch, restore modern, obsolete piety, modern man, discovery dissolve, conclusion illusion, near perfection, obsolete science, see religion, obsolete revelation, martyrdom obsolete, religion fall, music dennis, natalie merchant, possession absence, defense true, five discovery, religion obsolete, obsolete martyrdom, obsolete mysticism, mystery destroy, fall obsolete, man near, answer wealth, piety obsolete, sacrament obsolete, nature science, wealth prominence, obsolete ritual obsolete, natalie merchant science, martyrdom obsolete prophetic, illusion never restore, modern man see, defense true image, obsolete mysticism obsolete, religion obsolete piety, watch religion fall, religion fall obsolete, fortranh tongue answer, mystery destroy conclusion, conclusion illusion never, possession absence interim, obsolete commitment obsolete, see religion obsolete, mysticism obsolete commitment, answer wealth prominence, never restore modern, absence interim secure, dissolve illusion mystery, man see religion, obsolete prophetic vision, truth life fortranh, interim secure demurrer, secure demurrer defense, demurrer defense divine, obsolete martyrdom obsolete, vision obsolete mysticism, commitment obsolete sacrament, divine defense true, drewlyric natalie merchant, five discovery dissolve, truth life watch, prophetic vision obsolete, music dennis drewlyric, science truth life, prominence man near, man near perfection, number five discovery, true image human, near perfection possession, defense divine defense, ritual obsolete martyrdom, life technology nature, obsolete revelation obsolete, image human conflict, merchant science truth, obsolete piety obsolete, piety obsolete ritual, human conflict number, destroy conclusion illusion, conflict number five, illusion mystery destroy, sacrament obsolete revelation, fall obsolete science, obsolete sacrament obsolete, discovery dissolve illusion, dennis drewlyric natalie, tongue answer wealth, truth life technology, nature science truth, obsolete science truth, perfection possession absence, technology nature science, wealth prominence man, life fortranh tongue, life watch religion, restore modern man]                                                                                                                                                                                                                                                                                                                                                                                                                                                                                                                                                                                                                                                                                                                                                                                                                                                                                                                                                                                                                                                                                                                                                                                                                                                                                                                                                                                                                                                                                                                                                                                                                                                                                                                                                                                    |\n",
            "+-----------------------------------------------------------------------------------------------------------------------------------------------------------------------------------------------------------------------------------------------------------------------------------------------------------------------------------------------------------------------------------------------------------------------------------------------------------------------------------------------------------------------------------------------------------------------------------------------------------------------------------------------------------------------------------------------------------------------------------------------------------------------------------------------------------------------------------------------------------------------------------------------------------------------------------------------------------------------------------------------------------------------------------------------------------------------------------------------------------------------------------------------------------------------------------------------------------------------------------------------------------------------------------------------------------------------------------------------------------------------------------------------------------------------------------------------------------------------------------------------------------------------------------------------------------------------------------------------------------------------------------------------------------------------------------------------------------------------------------------------------------------------------------------------------------------------------------------------+--------------------------------------------------------------------------------------------------------------------------------------------------------------------------------------------------------------------------------------------------------------------------------------------------------------------------------------------------------------------------------------------------------------------------------------------------------------------------------------------------------------------------------------------------------------------------------------------------------------------------------------------------------------------------------------------------------------------------------------------------------------------------------------------------------------------------------------------------------------------------------------------------------------------------------------------------------------------------------------------------------------------------------------------------------------------------------------------------------------------------------------------------------------------------------------------------------------------------------------------------------------------------------------------------------------------------------------------------------------------------------------------------------------------------------------------------------------------------------------------------------------------------------------------------------------------------------------------------------------------------------------------------------------------------------------------------------------------------------------------------------------------------------------------------------------------------------------------------------------------------------------------------------------------------------------------------------------------------------------------------------------------------------------------------------------------------------------------------------------------------------------------------------------------------------------------------------------------------------------------------------------------------------------------------------------------------------------------------------------------------------------------------------------------------------------------------------------------------------------------------------------------------------------------------------------------------------------------------------------------------------------------------------------------------------------------------------------------------------------------------------------------------------------------------------------------------------------------------------------------------------------------------------------------------------------------------------------------------------------------------------------------------------------------------------------------------------------------------------------------------------------------------------------------------------------------------------------------------------------------------------------------------------------------------------------------------------------------------------------------------------------------------------------------------------------------------------------------------------------------------------------------------------------------------------------------------------------------------------------------------------------------------------------------------------------------------------------------------------------------------------------------------------------------------------------------------------------------------------------------------------------------------------------------------------------------------------------------------------------------------------------------------------------------------------------------------------------------------------------------------------------------------------------------------------------------------------------------------------------------------------------------------------------------------------------------------------------------------------------------------------------------------------------------------------------------------------------------------------------------------------------------------------------------------------------------------------------------------------------------------------------------------------------------------------------------------------------------------------------------------------------------------------------------------------------------------------------------------------------------------------------------------------------------------------------------------------------------------------------------------------------------------------------------------------------------------------------------------------------------------------------------------------------------------------------------------------------------------------------------------------------------------------------------------------------------------------------------------------------------------------------------------------------------------------+\n",
            "only showing top 10 rows\n",
            "\n"
          ],
          "name": "stdout"
        }
      ]
    },
    {
      "cell_type": "markdown",
      "metadata": {
        "id": "JbnQuGjPYGyE"
      },
      "source": [
        "## BI"
      ]
    },
    {
      "cell_type": "code",
      "metadata": {
        "id": "8QVbkj5mZybO",
        "colab": {
          "base_uri": "https://localhost:8080/"
        },
        "outputId": "28a20665-84cd-4f51-ecdc-29c538eb6dcd"
      },
      "source": [
        "model_trans_onedoc = model_trans_tfIdf.groupby().agg(F.collect_list('bi').alias(\"doc\")).select('doc').withColumnRenamed('doc', 'bi')\n",
        "\n",
        "from pyspark.sql.functions import udf, explode\n",
        "from pyspark.ml.linalg import SparseVector, DenseVector\n",
        "from pyspark.sql.types import *\n",
        "\n",
        "@udf(ArrayType(StringType()))\n",
        "def oneDList(tf):\n",
        "      flat_list = [item for sublist in tf for item in sublist]\n",
        "      return flat_list\n",
        "model_trans_onedoc=model_trans_onedoc.select(oneDList('bi').alias('bi'))\n",
        "\n",
        "model_trans_onedoc.show()\n",
        "\n",
        "from pyspark.ml.feature import CountVectorizer, IDF\n",
        "\n",
        "count_vectorizer = CountVectorizer(inputCol='bi', outputCol='tf', minDF=10)\n",
        "cvmodel = count_vectorizer.fit(model_trans_tfIdf)\n",
        "# idf = IDF(inputCol='tf', outputCol='idf')\n",
        "\n",
        "# finisher_idf = Finisher().setInputCols(['features']).setOutputCols(['tfidf']) finisher is for sparkNLP not spark ML\n",
        "# 'bow_pipeline = Pipeline().setStages([count_vectorizer])\n",
        "# 'bow_pipeline = bow_pipeline.fit(model_trans_tfIdf)\n",
        "\n",
        "\n",
        "\n",
        "bows_bi = cvmodel.transform(model_trans_onedoc)\n",
        "bows_bi.show(10)"
      ],
      "execution_count": 123,
      "outputs": [
        {
          "output_type": "stream",
          "text": [
            "+--------------------+\n",
            "|                  bi|\n",
            "+--------------------+\n",
            "|[could feel, feel...|\n",
            "+--------------------+\n",
            "\n",
            "+--------------------+--------------------+\n",
            "|                  bi|                  tf|\n",
            "+--------------------+--------------------+\n",
            "|[could feel, feel...|(313,[0,1,2,3,4,5...|\n",
            "+--------------------+--------------------+\n",
            "\n"
          ],
          "name": "stdout"
        }
      ]
    },
    {
      "cell_type": "code",
      "metadata": {
        "colab": {
          "base_uri": "https://localhost:8080/",
          "height": 35
        },
        "id": "cUWd4bfjaKG8",
        "outputId": "a5064705-554b-4c79-8ce7-d6046bd9e22a"
      },
      "source": [
        "k=cvmodel.vocabulary\n",
        "k[0]"
      ],
      "execution_count": 96,
      "outputs": [
        {
          "output_type": "execute_result",
          "data": {
            "application/vnd.google.colaboratory.intrinsic+json": {
              "type": "string"
            },
            "text/plain": [
              "'oh oh'"
            ]
          },
          "metadata": {
            "tags": []
          },
          "execution_count": 96
        }
      ]
    },
    {
      "cell_type": "markdown",
      "metadata": {
        "id": "xecFKam1koE6"
      },
      "source": [
        "get count values in list"
      ]
    },
    {
      "cell_type": "code",
      "metadata": {
        "colab": {
          "base_uri": "https://localhost:8080/"
        },
        "id": "C5i5DKtbkq56",
        "outputId": "3d92f0b6-d71e-4128-caeb-d941b6e69f67"
      },
      "source": [
        "from pyspark.sql.functions import udf, explode\n",
        "from pyspark.ml.linalg import SparseVector, DenseVector\n",
        "from pyspark.sql.types import *\n",
        "\n",
        "@udf(ArrayType(IntegerType()))\n",
        "def TF_indices(tf):\n",
        "      K =  tf.indices.tolist()\n",
        "      return K\n",
        "\n",
        "@udf(ArrayType(DoubleType()))\n",
        "def TF_value(tf):\n",
        "   if isinstance(tf, SparseVector):\n",
        "      K =  tf.values.tolist()\n",
        "      return K\n",
        "\n",
        "bows_bi1 = bows_bi.select('bi',TF_indices('tf').alias('bi_ind'), TF_value('tf').alias('bi_count'))\n",
        "bows_bi1.show()"
      ],
      "execution_count": 124,
      "outputs": [
        {
          "output_type": "stream",
          "text": [
            "+--------------------+--------------------+--------------------+\n",
            "|                  bi|              bi_ind|            bi_count|\n",
            "+--------------------+--------------------+--------------------+\n",
            "|[could feel, feel...|[0, 1, 2, 3, 4, 5...|[399.0, 255.0, 16...|\n",
            "+--------------------+--------------------+--------------------+\n",
            "\n"
          ],
          "name": "stdout"
        }
      ]
    },
    {
      "cell_type": "code",
      "metadata": {
        "colab": {
          "base_uri": "https://localhost:8080/"
        },
        "id": "VXejlXKemiQ1",
        "outputId": "5f6bfefb-d03a-43f0-b08f-ca2895385a8b"
      },
      "source": [
        "combine = F.udf(lambda x, y: list(zip(x, y)),\n",
        "              ArrayType(StructType([StructField(\"bi_ind\", IntegerType()),\n",
        "                                    StructField(\"bi_count\", DoubleType())])))\n",
        "\n",
        "df = bows_bi1.withColumn(\"new\", combine(\"bi_ind\", \"bi_count\"))\\\n",
        "       .withColumn(\"new\", F.explode(\"new\"))\\\n",
        "       .select( F.col(\"new.bi_ind\").alias(\"bi_ind\"), F.col(\"new.bi_count\").alias(\"bi_count\"))\n",
        "df.show()"
      ],
      "execution_count": 125,
      "outputs": [
        {
          "output_type": "stream",
          "text": [
            "+------+--------+\n",
            "|bi_ind|bi_count|\n",
            "+------+--------+\n",
            "|     0|   399.0|\n",
            "|     1|   255.0|\n",
            "|     2|   168.0|\n",
            "|     3|   127.0|\n",
            "|     4|   119.0|\n",
            "|     5|   118.0|\n",
            "|     6|   115.0|\n",
            "|     7|    94.0|\n",
            "|     8|    93.0|\n",
            "|     9|    92.0|\n",
            "|    10|    87.0|\n",
            "|    11|    86.0|\n",
            "|    12|    79.0|\n",
            "|    13|    77.0|\n",
            "|    14|    76.0|\n",
            "|    15|    76.0|\n",
            "|    16|    70.0|\n",
            "|    17|    70.0|\n",
            "|    18|    69.0|\n",
            "|    19|    68.0|\n",
            "+------+--------+\n",
            "only showing top 20 rows\n",
            "\n"
          ],
          "name": "stdout"
        }
      ]
    },
    {
      "cell_type": "code",
      "metadata": {
        "colab": {
          "base_uri": "https://localhost:8080/"
        },
        "id": "LvFKS9y5rwuh",
        "outputId": "7ee93a6a-93e0-4ba9-f5de-11429ab1f912"
      },
      "source": [
        "# df.count()\n",
        "df.count()\n",
        "# type(cvmodel.vocabulary)"
      ],
      "execution_count": 126,
      "outputs": [
        {
          "output_type": "execute_result",
          "data": {
            "text/plain": [
              "313"
            ]
          },
          "metadata": {
            "tags": []
          },
          "execution_count": 126
        }
      ]
    },
    {
      "cell_type": "markdown",
      "metadata": {
        "id": "xDxLg_nmsnKo"
      },
      "source": [
        "get words instead of indices"
      ]
    },
    {
      "cell_type": "code",
      "metadata": {
        "colab": {
          "base_uri": "https://localhost:8080/"
        },
        "id": "AhD2hYQ3DP-z",
        "outputId": "f26de03d-22da-4bb3-ec0b-957c44e94549"
      },
      "source": [
        "len(cvmodel.vocabulary)"
      ],
      "execution_count": 127,
      "outputs": [
        {
          "output_type": "execute_result",
          "data": {
            "text/plain": [
              "313"
            ]
          },
          "metadata": {
            "tags": []
          },
          "execution_count": 127
        }
      ]
    },
    {
      "cell_type": "code",
      "metadata": {
        "colab": {
          "base_uri": "https://localhost:8080/"
        },
        "id": "BuPMq2Dusp_c",
        "outputId": "b88afc4c-a4eb-476e-a39f-d9e576215c9a"
      },
      "source": [
        "word = cvmodel.vocabulary\n",
        "\n",
        "@udf(StringType())\n",
        "def get_words_1(ind):\n",
        "    \n",
        "    k = word[ind]\n",
        "    return str(k)\n",
        "\n",
        "df1 = df.select('bi_ind',get_words_1('bi_ind').alias('word'),'bi_count')\n",
        "df1.show()"
      ],
      "execution_count": 128,
      "outputs": [
        {
          "output_type": "stream",
          "text": [
            "+------+--------------+--------+\n",
            "|bi_ind|          word|bi_count|\n",
            "+------+--------------+--------+\n",
            "|     0|         oh oh|   399.0|\n",
            "|     1|        let go|   255.0|\n",
            "|     2|     dont know|   168.0|\n",
            "|     3|      im gonna|   127.0|\n",
            "|     4|     feel like|   119.0|\n",
            "|     5|       know im|   118.0|\n",
            "|     6|     yeah yeah|   115.0|\n",
            "|     7|      cause im|    94.0|\n",
            "|     8|       ive get|    93.0|\n",
            "|     9|      far away|    92.0|\n",
            "|    10|         im go|    87.0|\n",
            "|    11|     youve get|    86.0|\n",
            "|    12|    never know|    79.0|\n",
            "|    13|   youll never|    77.0|\n",
            "|    14|    dont wanna|    76.0|\n",
            "|    15|      find way|    76.0|\n",
            "|    16|theres nothing|    75.0|\n",
            "|    17|     come back|    70.0|\n",
            "|    18|     love love|    69.0|\n",
            "|    19|   say goodbye|    68.0|\n",
            "+------+--------------+--------+\n",
            "only showing top 20 rows\n",
            "\n"
          ],
          "name": "stdout"
        }
      ]
    },
    {
      "cell_type": "markdown",
      "metadata": {
        "id": "sUjRvYMDw6l2"
      },
      "source": [
        "split the words in two unigrams"
      ]
    },
    {
      "cell_type": "code",
      "metadata": {
        "colab": {
          "base_uri": "https://localhost:8080/"
        },
        "id": "7AD3Psgww9-t",
        "outputId": "a46b2c22-e4b5-4b7f-fd91-1f801da6d4e1"
      },
      "source": [
        "df2 = df1.withColumn('uni1', F.split(df1['word'], ' ').getItem(0)) \\\n",
        "       .withColumn('uni2', F.split(df1['word'], ' ').getItem(1)) \\\n",
        "\n",
        "df2.show(truncate=False)"
      ],
      "execution_count": 130,
      "outputs": [
        {
          "output_type": "stream",
          "text": [
            "+------+--------------+--------+------+-------+\n",
            "|bi_ind|word          |bi_count|uni1  |uni2   |\n",
            "+------+--------------+--------+------+-------+\n",
            "|0     |oh oh         |399.0   |oh    |oh     |\n",
            "|1     |let go        |255.0   |let   |go     |\n",
            "|2     |dont know     |168.0   |dont  |know   |\n",
            "|3     |im gonna      |127.0   |im    |gonna  |\n",
            "|4     |feel like     |119.0   |feel  |like   |\n",
            "|5     |know im       |118.0   |know  |im     |\n",
            "|6     |yeah yeah     |115.0   |yeah  |yeah   |\n",
            "|7     |cause im      |94.0    |cause |im     |\n",
            "|8     |ive get       |93.0    |ive   |get    |\n",
            "|9     |far away      |92.0    |far   |away   |\n",
            "|10    |im go         |87.0    |im    |go     |\n",
            "|11    |youve get     |86.0    |youve |get    |\n",
            "|12    |never know    |79.0    |never |know   |\n",
            "|13    |youll never   |77.0    |youll |never  |\n",
            "|14    |dont wanna    |76.0    |dont  |wanna  |\n",
            "|15    |find way      |76.0    |find  |way    |\n",
            "|16    |theres nothing|74.0    |theres|nothing|\n",
            "|17    |come back     |70.0    |come  |back   |\n",
            "|18    |love love     |69.0    |love  |love   |\n",
            "|19    |say goodbye   |68.0    |say   |goodbye|\n",
            "+------+--------------+--------+------+-------+\n",
            "only showing top 20 rows\n",
            "\n"
          ],
          "name": "stdout"
        }
      ]
    },
    {
      "cell_type": "markdown",
      "metadata": {
        "id": "RM2TjQzfYK8-"
      },
      "source": [
        "## UNI"
      ]
    },
    {
      "cell_type": "code",
      "metadata": {
        "colab": {
          "base_uri": "https://localhost:8080/"
        },
        "id": "Rr1omFMtYOHi",
        "outputId": "9cd1ffad-5135-47e3-c7a8-ca4bcf930e2f"
      },
      "source": [
        "model_trans_onedoc = model_trans_tfIdf.groupby().agg(F.collect_list('uni').alias(\"doc\")).select('doc').withColumnRenamed('doc', 'uni')\n",
        "\n",
        "from pyspark.sql.functions import udf, explode\n",
        "from pyspark.ml.linalg import SparseVector, DenseVector\n",
        "from pyspark.sql.types import *\n",
        "\n",
        "@udf(ArrayType(StringType()))\n",
        "def oneDList(tf):\n",
        "      flat_list = [item for sublist in tf for item in sublist]\n",
        "      return flat_list\n",
        "model_trans_onedoc=model_trans_onedoc.select(oneDList('uni').alias('uni'))\n",
        "\n",
        "model_trans_onedoc.show()\n",
        "\n",
        "from pyspark.ml.feature import CountVectorizer, IDF\n",
        "\n",
        "count_vectorizer = CountVectorizer(inputCol='uni', outputCol='tf', minDF=10)\n",
        "cvmodel_1 = count_vectorizer.fit(model_trans_tfIdf)\n",
        "# idf = IDF(inputCol='tf', outputCol='idf')\n",
        "\n",
        "# finisher_idf = Finisher().setInputCols(['features']).setOutputCols(['tfidf']) finisher is for sparkNLP not spark ML\n",
        "# bow_pipeline = Pipeline().setStages([count_vectorizer, idf])\n",
        "# bow_pipeline = bow_pipeline.fit(model_trans_tfIdf)\n",
        "\n",
        "\n",
        "\n",
        "bows_uni = cvmodel_1.transform(model_trans_onedoc)\n",
        "bows_uni.show(10)"
      ],
      "execution_count": 132,
      "outputs": [
        {
          "output_type": "stream",
          "text": [
            "+--------------------+\n",
            "|                 uni|\n",
            "+--------------------+\n",
            "|[could, feel, tim...|\n",
            "+--------------------+\n",
            "\n",
            "+--------------------+--------------------+\n",
            "|                 uni|                  tf|\n",
            "+--------------------+--------------------+\n",
            "|[could, feel, tim...|(883,[0,1,2,3,4,5...|\n",
            "+--------------------+--------------------+\n",
            "\n"
          ],
          "name": "stdout"
        }
      ]
    },
    {
      "cell_type": "code",
      "metadata": {
        "id": "OJA-HItKdnPp"
      },
      "source": [
        "cvmodel_1.vocabulary"
      ],
      "execution_count": null,
      "outputs": []
    },
    {
      "cell_type": "code",
      "metadata": {
        "colab": {
          "base_uri": "https://localhost:8080/"
        },
        "id": "S3QVweCf2JrQ",
        "outputId": "5d868253-280e-436b-dbca-983972959c8c"
      },
      "source": [
        "from pyspark.sql.functions import udf, explode\n",
        "from pyspark.ml.linalg import SparseVector, DenseVector\n",
        "from pyspark.sql.types import *\n",
        "\n",
        "@udf(ArrayType(IntegerType()))\n",
        "def TF_indices(tf):\n",
        "      K =  tf.indices.tolist()\n",
        "      return K\n",
        "\n",
        "@udf(ArrayType(DoubleType()))\n",
        "def TF_value(tf):\n",
        "   if isinstance(tf, SparseVector):\n",
        "      K =  tf.values.tolist()\n",
        "      return K\n",
        "\n",
        "bows_uni1 = bows_uni.select('uni',TF_indices('tf').alias('uni_ind'), TF_value('tf').alias('uni_count'))\n",
        "bows_uni1.show()"
      ],
      "execution_count": 133,
      "outputs": [
        {
          "output_type": "stream",
          "text": [
            "+--------------------+--------------------+--------------------+\n",
            "|                 uni|             uni_ind|           uni_count|\n",
            "+--------------------+--------------------+--------------------+\n",
            "|[could, feel, tim...|[0, 1, 2, 3, 4, 5...|[2381.0, 1663.0, ...|\n",
            "+--------------------+--------------------+--------------------+\n",
            "\n"
          ],
          "name": "stdout"
        }
      ]
    },
    {
      "cell_type": "code",
      "metadata": {
        "colab": {
          "base_uri": "https://localhost:8080/"
        },
        "id": "BFn86CDy2pqw",
        "outputId": "db679be0-48e4-4ded-a205-748803207c91"
      },
      "source": [
        "combine = F.udf(lambda x, y: list(zip(x, y)),\n",
        "              ArrayType(StructType([StructField(\"uni_ind\", IntegerType()),\n",
        "                                    StructField(\"uni_count\", DoubleType())])))\n",
        "\n",
        "df_1 = bows_uni1.withColumn(\"new\", combine(\"uni_ind\", \"uni_count\"))\\\n",
        "       .withColumn(\"new\", F.explode(\"new\"))\\\n",
        "       .select( F.col(\"new.uni_ind\").alias(\"uni_ind\"), F.col(\"new.uni_count\").alias(\"uni_count\"))\n",
        "df_1.show()"
      ],
      "execution_count": 134,
      "outputs": [
        {
          "output_type": "stream",
          "text": [
            "+-------+---------+\n",
            "|uni_ind|uni_count|\n",
            "+-------+---------+\n",
            "|      0|   2381.0|\n",
            "|      1|   1663.0|\n",
            "|      2|   1607.0|\n",
            "|      3|   1592.0|\n",
            "|      4|   1193.0|\n",
            "|      5|   1129.0|\n",
            "|      6|   1088.0|\n",
            "|      7|   1079.0|\n",
            "|      8|   1043.0|\n",
            "|      9|   1011.0|\n",
            "|     10|    979.0|\n",
            "|     11|    956.0|\n",
            "|     12|    920.0|\n",
            "|     13|    897.0|\n",
            "|     14|    894.0|\n",
            "|     15|    877.0|\n",
            "|     16|    848.0|\n",
            "|     17|    814.0|\n",
            "|     18|    781.0|\n",
            "|     19|    763.0|\n",
            "+-------+---------+\n",
            "only showing top 20 rows\n",
            "\n"
          ],
          "name": "stdout"
        }
      ]
    },
    {
      "cell_type": "code",
      "metadata": {
        "colab": {
          "base_uri": "https://localhost:8080/"
        },
        "id": "dpy-nL3KC-p-",
        "outputId": "9d946741-fe6e-406c-9418-09caf140850c"
      },
      "source": [
        "df_1.count()"
      ],
      "execution_count": 135,
      "outputs": [
        {
          "output_type": "execute_result",
          "data": {
            "text/plain": [
              "883"
            ]
          },
          "metadata": {
            "tags": []
          },
          "execution_count": 135
        }
      ]
    },
    {
      "cell_type": "code",
      "metadata": {
        "colab": {
          "base_uri": "https://localhost:8080/"
        },
        "id": "0dPK7xPJ_k63",
        "outputId": "5fbcb814-25c9-46b1-a5cc-e3f513937a2c"
      },
      "source": [
        "len_wrd1 = len(cvmodel_1.vocabulary)\n",
        "print(len_wrd1)"
      ],
      "execution_count": 137,
      "outputs": [
        {
          "output_type": "stream",
          "text": [
            "883\n"
          ],
          "name": "stdout"
        }
      ]
    },
    {
      "cell_type": "code",
      "metadata": {
        "colab": {
          "base_uri": "https://localhost:8080/"
        },
        "id": "LcAnMu2W3TuX",
        "outputId": "444bf8d4-cc89-4a8a-e180-a78ac56fb4ba"
      },
      "source": [
        "word1 = cvmodel_1.vocabulary\n",
        "len_wrd1 = word1.count\n",
        "@udf(StringType())\n",
        "def get_words(ind):\n",
        "    \n",
        "    k = word1[ind]\n",
        "    return str(k)\n",
        "\n",
        "df_2 = df_1.select('uni_ind',get_words('uni_ind').alias('word_uni'),'uni_count')\n",
        "df_2.show()"
      ],
      "execution_count": 138,
      "outputs": [
        {
          "output_type": "stream",
          "text": [
            "+-------+--------+---------+\n",
            "|uni_ind|word_uni|uni_count|\n",
            "+-------+--------+---------+\n",
            "|      0|      im|   2381.0|\n",
            "|      1|    know|   1663.0|\n",
            "|      2|     get|   1607.0|\n",
            "|      3|      go|   1592.0|\n",
            "|      4|    like|   1193.0|\n",
            "|      5|    dont|   1118.0|\n",
            "|      6|      oh|   1088.0|\n",
            "|      7|    love|   1079.0|\n",
            "|      8|     say|   1043.0|\n",
            "|      9|   never|   1011.0|\n",
            "|     10|    time|    979.0|\n",
            "|     11|     see|    956.0|\n",
            "|     12|    come|    920.0|\n",
            "|     13|     one|    897.0|\n",
            "|     14|   youre|    894.0|\n",
            "|     15|    feel|    877.0|\n",
            "|     16|    make|    848.0|\n",
            "|     17|    take|    814.0|\n",
            "|     18|     let|    781.0|\n",
            "|     19|    cant|    770.0|\n",
            "+-------+--------+---------+\n",
            "only showing top 20 rows\n",
            "\n"
          ],
          "name": "stdout"
        }
      ]
    },
    {
      "cell_type": "markdown",
      "metadata": {
        "id": "BFXc_lw83wEc"
      },
      "source": [
        "Combine Uni and Bi"
      ]
    },
    {
      "cell_type": "code",
      "metadata": {
        "colab": {
          "base_uri": "https://localhost:8080/"
        },
        "id": "7yXAzsSh3yA-",
        "outputId": "e5a9ddca-9cd4-48cb-cbaf-f831d873c008"
      },
      "source": [
        "df2.show()\n",
        "df2.cache()\n",
        "df_2.show()\n",
        "df_2.cache()"
      ],
      "execution_count": 139,
      "outputs": [
        {
          "output_type": "stream",
          "text": [
            "+------+--------------+--------+------+-------+\n",
            "|bi_ind|          word|bi_count|  uni1|   uni2|\n",
            "+------+--------------+--------+------+-------+\n",
            "|     0|         oh oh|   399.0|    oh|     oh|\n",
            "|     1|        let go|   255.0|   let|     go|\n",
            "|     2|     dont know|   168.0|  dont|   know|\n",
            "|     3|      im gonna|   127.0|    im|  gonna|\n",
            "|     4|     feel like|   119.0|  feel|   like|\n",
            "|     5|       know im|   118.0|  know|     im|\n",
            "|     6|     yeah yeah|   115.0|  yeah|   yeah|\n",
            "|     7|      cause im|    94.0| cause|     im|\n",
            "|     8|       ive get|    93.0|   ive|    get|\n",
            "|     9|      far away|    92.0|   far|   away|\n",
            "|    10|         im go|    87.0|    im|     go|\n",
            "|    11|     youve get|    86.0| youve|    get|\n",
            "|    12|    never know|    79.0| never|   know|\n",
            "|    13|   youll never|    77.0| youll|  never|\n",
            "|    14|    dont wanna|    76.0|  dont|  wanna|\n",
            "|    15|      find way|    76.0|  find|    way|\n",
            "|    16|theres nothing|    68.0|theres|nothing|\n",
            "|    17|     come back|    70.0|  come|   back|\n",
            "|    18|     love love|    69.0|  love|   love|\n",
            "|    19|   say goodbye|    68.0|   say|goodbye|\n",
            "+------+--------------+--------+------+-------+\n",
            "only showing top 20 rows\n",
            "\n",
            "+-------+--------+---------+\n",
            "|uni_ind|word_uni|uni_count|\n",
            "+-------+--------+---------+\n",
            "|      0|      im|   2381.0|\n",
            "|      1|    know|   1663.0|\n",
            "|      2|     get|   1607.0|\n",
            "|      3|      go|   1592.0|\n",
            "|      4|    like|   1193.0|\n",
            "|      5|    dont|   1111.0|\n",
            "|      6|      oh|   1088.0|\n",
            "|      7|    love|   1079.0|\n",
            "|      8|     say|   1043.0|\n",
            "|      9|   never|   1011.0|\n",
            "|     10|    time|    979.0|\n",
            "|     11|     see|    956.0|\n",
            "|     12|    come|    920.0|\n",
            "|     13|     one|    897.0|\n",
            "|     14|   youre|    894.0|\n",
            "|     15|    feel|    877.0|\n",
            "|     16|    make|    848.0|\n",
            "|     17|    take|    814.0|\n",
            "|     18|     let|    781.0|\n",
            "|     19|    cant|    754.0|\n",
            "+-------+--------+---------+\n",
            "only showing top 20 rows\n",
            "\n"
          ],
          "name": "stdout"
        },
        {
          "output_type": "execute_result",
          "data": {
            "text/plain": [
              "DataFrame[uni_ind: int, word_uni: string, uni_count: double]"
            ]
          },
          "metadata": {
            "tags": []
          },
          "execution_count": 139
        }
      ]
    },
    {
      "cell_type": "code",
      "metadata": {
        "colab": {
          "base_uri": "https://localhost:8080/"
        },
        "id": "-u6OKr4r4D7x",
        "outputId": "136cf722-ded0-432f-da90-ec7bc484fb02"
      },
      "source": [
        "df_comb = df2.join(df_2, df2.uni1 == df_2.word_uni, how = 'left')\n",
        "df_comb=df_comb.select('word','uni1','uni2','bi_count','uni_count').withColumnRenamed('uni_count','uni1_count')\n",
        "\n",
        "df_comb = df_comb.join(df_2,df2.uni2 == df_2.word_uni, how = 'left')\n",
        "df_comb=df_comb.select('word','uni1','uni2','bi_count','uni1_count','uni_count').withColumnRenamed('uni_count','uni2_count')\n",
        "\n",
        "df_comb.show()"
      ],
      "execution_count": 143,
      "outputs": [
        {
          "output_type": "stream",
          "text": [
            "+--------------+------+-------+--------+----------+----------+\n",
            "|          word|  uni1|   uni2|bi_count|uni1_count|uni2_count|\n",
            "+--------------+------+-------+--------+----------+----------+\n",
            "|         oh oh|    oh|     oh|   399.0|    1088.0|    1088.0|\n",
            "|        let go|   let|     go|   255.0|     781.0|    1592.0|\n",
            "|     dont know|  dont|   know|   168.0|    1122.0|    1663.0|\n",
            "|      im gonna|    im|  gonna|   127.0|    2381.0|     415.0|\n",
            "|     feel like|  feel|   like|   119.0|     877.0|    1193.0|\n",
            "|       know im|  know|     im|   118.0|    1663.0|    2381.0|\n",
            "|     yeah yeah|  yeah|   yeah|   115.0|     643.0|     643.0|\n",
            "|      cause im| cause|     im|    94.0|     627.0|    2381.0|\n",
            "|       ive get|   ive|    get|    93.0|     518.0|    1607.0|\n",
            "|      far away|   far|   away|    92.0|     235.0|     749.0|\n",
            "|         im go|    im|     go|    87.0|    2381.0|    1592.0|\n",
            "|     youve get| youve|    get|    86.0|     260.0|    1607.0|\n",
            "|    never know| never|   know|    79.0|    1011.0|    1663.0|\n",
            "|   youll never| youll|  never|    77.0|     318.0|    1011.0|\n",
            "|    dont wanna|  dont|  wanna|    76.0|    1122.0|     429.0|\n",
            "|      find way|  find|    way|    76.0|     498.0|     675.0|\n",
            "|theres nothing|theres|nothing|    76.0|     326.0|     297.0|\n",
            "|     come back|  come|   back|    70.0|     920.0|     652.0|\n",
            "|     love love|  love|   love|    69.0|    1079.0|    1079.0|\n",
            "|   say goodbye|   say|goodbye|    68.0|    1043.0|     111.0|\n",
            "+--------------+------+-------+--------+----------+----------+\n",
            "only showing top 20 rows\n",
            "\n"
          ],
          "name": "stdout"
        }
      ]
    },
    {
      "cell_type": "markdown",
      "metadata": {
        "id": "OGmNJ8dMXZbB"
      },
      "source": [
        "## PMI"
      ]
    },
    {
      "cell_type": "code",
      "metadata": {
        "colab": {
          "base_uri": "https://localhost:8080/",
          "height": 204
        },
        "id": "IShz13H3JDtc",
        "outputId": "7259868d-cee6-47d1-e66e-cf92083b0887"
      },
      "source": [
        "df_pd = df_comb.toPandas()\n",
        "df_pd.head()"
      ],
      "execution_count": 145,
      "outputs": [
        {
          "output_type": "execute_result",
          "data": {
            "text/html": [
              "<div>\n",
              "<style scoped>\n",
              "    .dataframe tbody tr th:only-of-type {\n",
              "        vertical-align: middle;\n",
              "    }\n",
              "\n",
              "    .dataframe tbody tr th {\n",
              "        vertical-align: top;\n",
              "    }\n",
              "\n",
              "    .dataframe thead th {\n",
              "        text-align: right;\n",
              "    }\n",
              "</style>\n",
              "<table border=\"1\" class=\"dataframe\">\n",
              "  <thead>\n",
              "    <tr style=\"text-align: right;\">\n",
              "      <th></th>\n",
              "      <th>word</th>\n",
              "      <th>uni1</th>\n",
              "      <th>uni2</th>\n",
              "      <th>bi_count</th>\n",
              "      <th>uni1_count</th>\n",
              "      <th>uni2_count</th>\n",
              "    </tr>\n",
              "  </thead>\n",
              "  <tbody>\n",
              "    <tr>\n",
              "      <th>0</th>\n",
              "      <td>oh oh</td>\n",
              "      <td>oh</td>\n",
              "      <td>oh</td>\n",
              "      <td>399.0</td>\n",
              "      <td>1088.0</td>\n",
              "      <td>1088.0</td>\n",
              "    </tr>\n",
              "    <tr>\n",
              "      <th>1</th>\n",
              "      <td>let go</td>\n",
              "      <td>let</td>\n",
              "      <td>go</td>\n",
              "      <td>255.0</td>\n",
              "      <td>781.0</td>\n",
              "      <td>1592.0</td>\n",
              "    </tr>\n",
              "    <tr>\n",
              "      <th>2</th>\n",
              "      <td>dont know</td>\n",
              "      <td>dont</td>\n",
              "      <td>know</td>\n",
              "      <td>168.0</td>\n",
              "      <td>1122.0</td>\n",
              "      <td>1663.0</td>\n",
              "    </tr>\n",
              "    <tr>\n",
              "      <th>3</th>\n",
              "      <td>im gonna</td>\n",
              "      <td>im</td>\n",
              "      <td>gonna</td>\n",
              "      <td>127.0</td>\n",
              "      <td>2381.0</td>\n",
              "      <td>415.0</td>\n",
              "    </tr>\n",
              "    <tr>\n",
              "      <th>4</th>\n",
              "      <td>feel like</td>\n",
              "      <td>feel</td>\n",
              "      <td>like</td>\n",
              "      <td>119.0</td>\n",
              "      <td>877.0</td>\n",
              "      <td>1193.0</td>\n",
              "    </tr>\n",
              "  </tbody>\n",
              "</table>\n",
              "</div>"
            ],
            "text/plain": [
              "        word  uni1   uni2  bi_count  uni1_count  uni2_count\n",
              "0      oh oh    oh     oh     399.0      1088.0      1088.0\n",
              "1     let go   let     go     255.0       781.0      1592.0\n",
              "2  dont know  dont   know     168.0      1122.0      1663.0\n",
              "3   im gonna    im  gonna     127.0      2381.0       415.0\n",
              "4  feel like  feel   like     119.0       877.0      1193.0"
            ]
          },
          "metadata": {
            "tags": []
          },
          "execution_count": 145
        }
      ]
    },
    {
      "cell_type": "code",
      "metadata": {
        "id": "Ian-eDhoURSq"
      },
      "source": [
        "import math\n",
        "\n",
        "\n",
        "df_pd['PMI'] = df_pd.apply(lambda row: math.log( row.bi_count/(row.uni1_count*row.uni2_count)) , axis = 1)"
      ],
      "execution_count": 149,
      "outputs": []
    },
    {
      "cell_type": "code",
      "metadata": {
        "colab": {
          "base_uri": "https://localhost:8080/",
          "height": 204
        },
        "id": "-KrQU_u4Vu0N",
        "outputId": "1a7cf668-0ebb-4eae-ad3e-c51ea896fcef"
      },
      "source": [
        "df_pd.head()"
      ],
      "execution_count": 151,
      "outputs": [
        {
          "output_type": "execute_result",
          "data": {
            "text/html": [
              "<div>\n",
              "<style scoped>\n",
              "    .dataframe tbody tr th:only-of-type {\n",
              "        vertical-align: middle;\n",
              "    }\n",
              "\n",
              "    .dataframe tbody tr th {\n",
              "        vertical-align: top;\n",
              "    }\n",
              "\n",
              "    .dataframe thead th {\n",
              "        text-align: right;\n",
              "    }\n",
              "</style>\n",
              "<table border=\"1\" class=\"dataframe\">\n",
              "  <thead>\n",
              "    <tr style=\"text-align: right;\">\n",
              "      <th></th>\n",
              "      <th>word</th>\n",
              "      <th>uni1</th>\n",
              "      <th>uni2</th>\n",
              "      <th>bi_count</th>\n",
              "      <th>uni1_count</th>\n",
              "      <th>uni2_count</th>\n",
              "      <th>PMI</th>\n",
              "    </tr>\n",
              "  </thead>\n",
              "  <tbody>\n",
              "    <tr>\n",
              "      <th>0</th>\n",
              "      <td>oh oh</td>\n",
              "      <td>oh</td>\n",
              "      <td>oh</td>\n",
              "      <td>399.0</td>\n",
              "      <td>1088.0</td>\n",
              "      <td>1088.0</td>\n",
              "      <td>-7.995231</td>\n",
              "    </tr>\n",
              "    <tr>\n",
              "      <th>1</th>\n",
              "      <td>let go</td>\n",
              "      <td>let</td>\n",
              "      <td>go</td>\n",
              "      <td>255.0</td>\n",
              "      <td>781.0</td>\n",
              "      <td>1592.0</td>\n",
              "      <td>-8.492058</td>\n",
              "    </tr>\n",
              "    <tr>\n",
              "      <th>2</th>\n",
              "      <td>dont know</td>\n",
              "      <td>dont</td>\n",
              "      <td>know</td>\n",
              "      <td>168.0</td>\n",
              "      <td>1122.0</td>\n",
              "      <td>1663.0</td>\n",
              "      <td>-9.315283</td>\n",
              "    </tr>\n",
              "    <tr>\n",
              "      <th>3</th>\n",
              "      <td>im gonna</td>\n",
              "      <td>im</td>\n",
              "      <td>gonna</td>\n",
              "      <td>127.0</td>\n",
              "      <td>2381.0</td>\n",
              "      <td>415.0</td>\n",
              "      <td>-8.959367</td>\n",
              "    </tr>\n",
              "    <tr>\n",
              "      <th>4</th>\n",
              "      <td>feel like</td>\n",
              "      <td>feel</td>\n",
              "      <td>like</td>\n",
              "      <td>119.0</td>\n",
              "      <td>877.0</td>\n",
              "      <td>1193.0</td>\n",
              "      <td>-9.081610</td>\n",
              "    </tr>\n",
              "  </tbody>\n",
              "</table>\n",
              "</div>"
            ],
            "text/plain": [
              "        word  uni1   uni2  bi_count  uni1_count  uni2_count       PMI\n",
              "0      oh oh    oh     oh     399.0      1088.0      1088.0 -7.995231\n",
              "1     let go   let     go     255.0       781.0      1592.0 -8.492058\n",
              "2  dont know  dont   know     168.0      1122.0      1663.0 -9.315283\n",
              "3   im gonna    im  gonna     127.0      2381.0       415.0 -8.959367\n",
              "4  feel like  feel   like     119.0       877.0      1193.0 -9.081610"
            ]
          },
          "metadata": {
            "tags": []
          },
          "execution_count": 151
        }
      ]
    },
    {
      "cell_type": "code",
      "metadata": {
        "colab": {
          "base_uri": "https://localhost:8080/",
          "height": 204
        },
        "id": "piiLZgcnWnAU",
        "outputId": "ee7de1e2-09d0-461c-8a89-51662547aa82"
      },
      "source": [
        "df_pd.sort_values('PMI', 0,False).head()"
      ],
      "execution_count": 153,
      "outputs": [
        {
          "output_type": "execute_result",
          "data": {
            "text/html": [
              "<div>\n",
              "<style scoped>\n",
              "    .dataframe tbody tr th:only-of-type {\n",
              "        vertical-align: middle;\n",
              "    }\n",
              "\n",
              "    .dataframe tbody tr th {\n",
              "        vertical-align: top;\n",
              "    }\n",
              "\n",
              "    .dataframe thead th {\n",
              "        text-align: right;\n",
              "    }\n",
              "</style>\n",
              "<table border=\"1\" class=\"dataframe\">\n",
              "  <thead>\n",
              "    <tr style=\"text-align: right;\">\n",
              "      <th></th>\n",
              "      <th>word</th>\n",
              "      <th>uni1</th>\n",
              "      <th>uni2</th>\n",
              "      <th>bi_count</th>\n",
              "      <th>uni1_count</th>\n",
              "      <th>uni2_count</th>\n",
              "      <th>PMI</th>\n",
              "    </tr>\n",
              "  </thead>\n",
              "  <tbody>\n",
              "    <tr>\n",
              "      <th>300</th>\n",
              "      <td>natalie merchant</td>\n",
              "      <td>natalie</td>\n",
              "      <td>merchant</td>\n",
              "      <td>13.0</td>\n",
              "      <td>14.0</td>\n",
              "      <td>16.0</td>\n",
              "      <td>-2.846697</td>\n",
              "    </tr>\n",
              "    <tr>\n",
              "      <th>229</th>\n",
              "      <td>brand new</td>\n",
              "      <td>brand</td>\n",
              "      <td>new</td>\n",
              "      <td>19.0</td>\n",
              "      <td>25.0</td>\n",
              "      <td>139.0</td>\n",
              "      <td>-5.208911</td>\n",
              "    </tr>\n",
              "    <tr>\n",
              "      <th>140</th>\n",
              "      <td>id rather</td>\n",
              "      <td>id</td>\n",
              "      <td>rather</td>\n",
              "      <td>26.0</td>\n",
              "      <td>153.0</td>\n",
              "      <td>37.0</td>\n",
              "      <td>-5.383259</td>\n",
              "    </tr>\n",
              "    <tr>\n",
              "      <th>270</th>\n",
              "      <td>set free</td>\n",
              "      <td>set</td>\n",
              "      <td>free</td>\n",
              "      <td>16.0</td>\n",
              "      <td>77.0</td>\n",
              "      <td>84.0</td>\n",
              "      <td>-6.002033</td>\n",
              "    </tr>\n",
              "    <tr>\n",
              "      <th>255</th>\n",
              "      <td>someone else</td>\n",
              "      <td>someone</td>\n",
              "      <td>else</td>\n",
              "      <td>17.0</td>\n",
              "      <td>100.0</td>\n",
              "      <td>80.0</td>\n",
              "      <td>-6.153983</td>\n",
              "    </tr>\n",
              "  </tbody>\n",
              "</table>\n",
              "</div>"
            ],
            "text/plain": [
              "                 word     uni1      uni2  ...  uni1_count  uni2_count       PMI\n",
              "300  natalie merchant  natalie  merchant  ...        14.0        16.0 -2.846697\n",
              "229         brand new    brand       new  ...        25.0       139.0 -5.208911\n",
              "140         id rather       id    rather  ...       153.0        37.0 -5.383259\n",
              "270          set free      set      free  ...        77.0        84.0 -6.002033\n",
              "255      someone else  someone      else  ...       100.0        80.0 -6.153983\n",
              "\n",
              "[5 rows x 7 columns]"
            ]
          },
          "metadata": {
            "tags": []
          },
          "execution_count": 153
        }
      ]
    },
    {
      "cell_type": "markdown",
      "metadata": {
        "id": "1EZOEwAdQheP"
      },
      "source": [
        "# Vectorization"
      ]
    },
    {
      "cell_type": "markdown",
      "metadata": {
        "id": "9hFRMcLVeJTt"
      },
      "source": [
        "## BoW Method"
      ]
    },
    {
      "cell_type": "markdown",
      "metadata": {
        "id": "uIj-s44IViF9"
      },
      "source": [
        "Create a rank column TF*IDF \n",
        "Explore TF option too, it might give us better results."
      ]
    },
    {
      "cell_type": "code",
      "metadata": {
        "id": "-NZYQS9OPvsJ",
        "colab": {
          "base_uri": "https://localhost:8080/",
          "height": 468
        },
        "outputId": "b08c13cd-e2f4-4fe6-dd79-9991a1195b46"
      },
      "source": [
        "from pyspark.ml.feature import CountVectorizer, IDF\n",
        "\n",
        "count_vectorizer = CountVectorizer(inputCol='cleanTokens', outputCol='tf', minDF=10)\n",
        "cvmodel = count_vectorizer.fit(model_trans_tfIdf)\n",
        "idf = IDF(inputCol='tf', outputCol='idf')\n",
        "\n",
        "# finisher_idf = Finisher().setInputCols(['features']).setOutputCols(['tfidf']) finisher is for sparkNLP not spark ML\n",
        "bow_pipeline = Pipeline().setStages([count_vectorizer, idf])\n",
        "bow_pipeline = bow_pipeline.fit(model_trans_tfIdf)\n",
        "\n",
        "bows = bow_pipeline.transform(model_trans_tfIdf)\n",
        "bows.show()"
      ],
      "execution_count": null,
      "outputs": [
        {
          "output_type": "stream",
          "text": [
            "+--------------------+--------------------+-------+--------------------+--------------------+--------------------+\n",
            "|                 Key|                text|  Genre|         cleanTokens|                  tf|                 idf|\n",
            "+--------------------+--------------------+-------+--------------------+--------------------+--------------------+\n",
            "|10000 maniacs_Mor...|I could feel at t...|   Rock|[could, feel, tim...|(882,[0,1,3,4,8,1...|(882,[0,1,3,4,8,1...|\n",
            "|10000 maniacs_Bec...|Take me now, baby...|   Rock|[take, baby, hold...|(882,[0,6,7,10,12...|(882,[0,6,7,10,12...|\n",
            "|jamiroquai_Rock D...|And it's coming a...|    Pop|[come, baby, yeah...|(882,[0,1,2,3,4,5...|(882,[0,1,2,3,4,5...|\n",
            "|10000 maniacs_The...|These are. These ...|   Rock|[day, youll, reme...|(882,[1,9,11,15,1...|(882,[1,9,11,15,1...|\n",
            "|10000 maniacs_Eve...|Trudging slowly o...|   Rock|[grudge, slowly, ...|(882,[4,12,24,80,...|(882,[4,12,24,80,...|\n",
            "|10000 maniacs_Don...|Don't talk, I wil...|   Rock|[donut, talk, lis...|(882,[0,1,3,5,9,1...|(882,[0,1,3,5,9,1...|\n",
            "|black veil brides...|Have we begun to ...|   Rock|[begin, drift, aw...|(882,[2,3,4,6,8,1...|(882,[2,3,4,6,8,1...|\n",
            "|lynyrd skynyrd_I ...|Ain't no need to ...|   Rock|[aint, need, worr...|(882,[0,1,2,3,6,7...|(882,[0,1,2,3,6,7...|\n",
            "|10000 maniacs_Acr...|Well they left th...|   Rock|[well, leave, mor...|(882,[3,7,17,20,2...|(882,[3,7,17,20,2...|\n",
            "|10000 maniacs_Pla...|[ music: Dennis D...|   Rock|[music, dennis, d...|(882,[9,11,23,45,...|(882,[9,11,23,45,...|\n",
            "|10000 maniacs_Rai...|On bended kneeI'v...|   Rock|[bend, kneeive, l...|(882,[4,7,12,22,3...|(882,[4,7,12,22,3...|\n",
            "|twista_Back 2 School|[Tung Twista]. ba...|Hip Hop|[tung, twista, ba...|(882,[0,1,2,3,4,7...|(882,[0,1,2,3,4,7...|\n",
            "|10000 maniacs_Ant...|For whom do the b...|   Rock|[bell, toll, sent...|(882,[4,9,11,16,1...|(882,[4,9,11,16,1...|\n",
            "|10000 maniacs_All...|She walks alone o...|   Rock|[walk, alone, bri...|(882,[1,3,4,7,9,1...|(882,[1,3,4,7,9,1...|\n",
            "|10000 maniacs_Bac...|Jenny. Jenny you ...|   Rock|[jenny, jenny, do...|(882,[0,1,2,5,8,9...|(882,[0,1,2,5,8,9...|\n",
            "|cyndi lauper_True...|You with the sad ...|    Pop|[sad, eye, donut,...|(882,[1,4,5,6,7,1...|(882,[1,4,5,6,7,1...|\n",
            "|10000 maniacs_A R...|You were looking ...|   Rock|[look, away, west...|(882,[0,1,8,11,12...|(882,[0,1,8,11,12...|\n",
            "|rick astley_She M...|She makes me more...|    Pop|[make, could, eve...|(882,[0,4,7,9,11,...|(882,[0,4,7,9,11,...|\n",
            "|steve earle_Nothi...|I'm the keeper of...|   Rock|[im, keeper, hear...|(882,[0,5,8,10,19...|(882,[0,5,8,10,19...|\n",
            "|10000 maniacs_Mad...|\"the legs of Madd...|   Rock|[leg, maddox, kit...|(882,[3,11,16,21,...|(882,[3,11,16,21,...|\n",
            "+--------------------+--------------------+-------+--------------------+--------------------+--------------------+\n",
            "only showing top 20 rows\n",
            "\n"
          ],
          "name": "stdout"
        }
      ]
    },
    {
      "cell_type": "markdown",
      "metadata": {
        "id": "-aLQKOAm9W8E"
      },
      "source": [
        "Calculate TF-IDF Rank"
      ]
    },
    {
      "cell_type": "markdown",
      "metadata": {
        "id": "C7FB3cDqEU-t"
      },
      "source": [
        "Filter out row where length of TF and IDF is not same"
      ]
    },
    {
      "cell_type": "code",
      "metadata": {
        "id": "Ha6o3Cmk9WO9",
        "colab": {
          "base_uri": "https://localhost:8080/",
          "height": 488
        },
        "outputId": "d4c63e5a-2801-4c4f-a89b-fc6a0958a551"
      },
      "source": [
        "from pyspark.sql.functions import udf, explode\n",
        "from pyspark.ml.linalg import SparseVector, DenseVector\n",
        "from pyspark.sql.types import *\n",
        "\n",
        "@udf(ArrayType(IntegerType()))\n",
        "def TF_indices(tf):\n",
        "      K =  tf.indices.tolist()\n",
        "      return K\n",
        "\n",
        "@udf(ArrayType(DoubleType()))\n",
        "def TF_value(tf):\n",
        "   if isinstance(tf, SparseVector):\n",
        "      K =  tf.values.tolist()\n",
        "      return K\n",
        "\n",
        "@udf(ArrayType(IntegerType()))\n",
        "def IDF_indices(idf):\n",
        "      K =  idf.indices.tolist()\n",
        "      return K\n",
        "\n",
        "@udf(ArrayType(DoubleType()))\n",
        "def IDF_value(idf):\n",
        "   if isinstance(idf, SparseVector):\n",
        "      K =  idf.values.tolist()\n",
        "      return K\n",
        "\n",
        "@udf(IntegerType())\n",
        "def TF_len(tf):\n",
        "      K =  len(tf.indices.tolist())\n",
        "      return K\n",
        "\n",
        "@udf(IntegerType())\n",
        "def IDF_len(idf):\n",
        "      K =  len(idf.indices.tolist())\n",
        "      return K\n",
        "\n",
        "bows_Val = bows.select(\"Key\",\"text\",'Genre', TF_indices(\"tf\").alias(\"TF_Ind\"), TF_value(\"tf\").alias(\"TF_Val\"),IDF_indices(\"idf\").alias(\"IDF_Ind\"), IDF_value(\"idf\").alias(\"IDF_Val\"),TF_len(\"tf\").alias(\"TF_Len\"),IDF_len(\"idf\").alias(\"IDF_Len\") )\n",
        "bows_Val.show(truncate = True)\n"
      ],
      "execution_count": null,
      "outputs": [
        {
          "output_type": "stream",
          "text": [
            "+--------------------+--------------------+-------+--------------------+--------------------+--------------------+--------------------+------+-------+\n",
            "|                 Key|                text|  Genre|              TF_Ind|              TF_Val|             IDF_Ind|             IDF_Val|TF_Len|IDF_Len|\n",
            "+--------------------+--------------------+-------+--------------------+--------------------+--------------------+--------------------+------+-------+\n",
            "|10000 maniacs_Mor...|I could feel at t...|   Rock|[0, 1, 3, 4, 8, 1...|[1.0, 7.0, 1.0, 1...|[0, 1, 3, 4, 8, 1...|[0.58364677447042...|    29|     30|\n",
            "|10000 maniacs_Bec...|Take me now, baby...|   Rock|[0, 6, 7, 10, 12,...|[1.0, 1.0, 4.0, 1...|[0, 6, 7, 10, 12,...|[0.58364677447042...|    44|     44|\n",
            "|jamiroquai_Rock D...|And it's coming a...|    Pop|[0, 1, 2, 3, 4, 5...|[5.0, 1.0, 2.0, 1...|[0, 1, 2, 3, 4, 5...|[2.91823387235212...|    82|     81|\n",
            "|10000 maniacs_The...|These are. These ...|   Rock|[1, 9, 11, 15, 16...|[6.0, 2.0, 2.0, 2...|[1, 9, 11, 15, 16...|[3.36260940365524...|    38|     39|\n",
            "|10000 maniacs_Eve...|Trudging slowly o...|   Rock|[4, 12, 24, 80, 1...|[3.0, 5.0, 2.0, 1...|[4, 12, 24, 80, 1...|[2.64744047877511...|    23|     23|\n",
            "|10000 maniacs_Don...|Don't talk, I wil...|   Rock|[0, 1, 3, 5, 9, 1...|[1.0, 1.0, 1.0, 1...|[0, 1, 3, 5, 9, 1...|[0.58364677447042...|    69|     69|\n",
            "|black veil brides...|Have we begun to ...|   Rock|[2, 3, 4, 6, 8, 1...|[1.0, 2.0, 1.0, 4...|[2, 3, 4, 6, 8, 1...|[0.75623115598652...|    41|     41|\n",
            "|lynyrd skynyrd_I ...|Ain't no need to ...|   Rock|[0, 1, 2, 3, 6, 7...|[3.0, 2.0, 1.0, 1...|[0, 1, 2, 3, 6, 7...|[1.75094032341127...|    54|     54|\n",
            "|10000 maniacs_Acr...|Well they left th...|   Rock|[3, 7, 17, 20, 26...|[2.0, 1.0, 3.0, 1...|[3, 7, 17, 20, 26...|[1.32607475817714...|    38|     38|\n",
            "|10000 maniacs_Pla...|[ music: Dennis D...|   Rock|[9, 11, 23, 45, 7...|[1.0, 1.0, 3.0, 1...|[9, 11, 23, 45, 7...|[0.94228058289449...|    21|     21|\n",
            "|10000 maniacs_Rai...|On bended kneeI'v...|   Rock|[4, 7, 12, 22, 32...|[3.0, 2.0, 2.0, 1...|[4, 7, 12, 22, 32...|[2.64744047877511...|    36|     36|\n",
            "|twista_Back 2 School|[Tung Twista]. ba...|Hip Hop|[0, 1, 2, 3, 4, 7...|[2.0, 2.0, 2.0, 8...|[0, 1, 2, 3, 4, 7...|[1.16729354894085...|   104|    104|\n",
            "|10000 maniacs_Ant...|For whom do the b...|   Rock|[4, 9, 11, 16, 18...|[3.0, 1.0, 1.0, 1...|[4, 9, 11, 16, 18...|[2.64744047877511...|    53|     54|\n",
            "|10000 maniacs_All...|She walks alone o...|   Rock|[1, 3, 4, 7, 9, 1...|[1.0, 2.0, 1.0, 1...|[1, 3, 4, 7, 9, 1...|[0.56043490060920...|    66|     66|\n",
            "|10000 maniacs_Bac...|Jenny. Jenny you ...|   Rock|[0, 1, 2, 5, 8, 9...|[1.0, 6.0, 3.0, 3...|[0, 1, 2, 5, 8, 9...|[0.58364677447042...|    80|     80|\n",
            "|cyndi lauper_True...|You with the sad ...|    Pop|[1, 4, 5, 6, 7, 1...|[2.0, 3.0, 4.0, 1...|[1, 4, 5, 6, 7, 1...|[1.12086980121841...|    41|     40|\n",
            "|10000 maniacs_A R...|You were looking ...|   Rock|[0, 1, 8, 11, 12,...|[1.0, 2.0, 1.0, 1...|[0, 1, 8, 11, 12,...|[0.58364677447042...|    42|     42|\n",
            "|rick astley_She M...|She makes me more...|    Pop|[0, 4, 7, 9, 11, ...|[1.0, 1.0, 2.0, 1...|[0, 4, 7, 9, 11, ...|[0.58364677447042...|    42|     42|\n",
            "|steve earle_Nothi...|I'm the keeper of...|   Rock|[0, 5, 8, 10, 19,...|[14.0, 1.0, 1.0, ...|[0, 5, 8, 10, 19,...|[8.17105484258596...|    35|     35|\n",
            "|10000 maniacs_Mad...|\"the legs of Madd...|   Rock|[3, 11, 16, 21, 2...|[1.0, 2.0, 1.0, 1...|[3, 11, 16, 21, 2...|[0.66303737908857...|    73|     74|\n",
            "+--------------------+--------------------+-------+--------------------+--------------------+--------------------+--------------------+------+-------+\n",
            "only showing top 20 rows\n",
            "\n"
          ],
          "name": "stdout"
        }
      ]
    },
    {
      "cell_type": "code",
      "metadata": {
        "id": "o93NVfgPTCHu",
        "colab": {
          "base_uri": "https://localhost:8080/",
          "height": 468
        },
        "outputId": "8063a60b-2536-46bc-a4b7-460b47e6ba5f"
      },
      "source": [
        "from pyspark.sql.functions import udf, explode\n",
        "from pyspark.ml.linalg import SparseVector, DenseVector\n",
        "from pyspark.sql.types import *\n",
        "\n",
        "@udf(ArrayType(DoubleType()))\n",
        "def TFIDF_Rank(tf_val,idf_val):\n",
        "    tf_val = [float(i) for i in tf_val]\n",
        "    idf_val = [float(i) for i in idf_val]\n",
        "    products = [a * b for a, b in zip(tf_val, idf_val)]\n",
        "    return products\n",
        "\n",
        "bows_Mul = bows_Val.select(\"Key\",\"text\", \"Genre\", TFIDF_Rank(\"TF_Val\",\"IDF_Val\").alias(\"TF_IDF_Rank\"),\"IDF_Ind\")\n",
        "bows_Mul.show(truncate = True)\n",
        "    "
      ],
      "execution_count": null,
      "outputs": [
        {
          "output_type": "stream",
          "text": [
            "+--------------------+--------------------+-------+--------------------+--------------------+\n",
            "|                 Key|                text|  Genre|         TF_IDF_Rank|             IDF_Ind|\n",
            "+--------------------+--------------------+-------+--------------------+--------------------+\n",
            "|10000 maniacs_Mor...|I could feel at t...|   Rock|[0.58364677447042...|[0, 1, 3, 4, 8, 1...|\n",
            "|10000 maniacs_Bec...|Take me now, baby...|   Rock|[0.58364677447042...|[0, 6, 7, 10, 12,...|\n",
            "|jamiroquai_Rock D...|And it's coming a...|    Pop|[14.5911693617606...|[0, 1, 2, 3, 4, 5...|\n",
            "|10000 maniacs_The...|These are. These ...|   Rock|[20.1756564219314...|[1, 9, 11, 15, 16...|\n",
            "|10000 maniacs_Eve...|Trudging slowly o...|   Rock|[7.94232143632533...|[4, 12, 24, 80, 1...|\n",
            "|10000 maniacs_Don...|Don't talk, I wil...|   Rock|[0.58364677447042...|[0, 1, 3, 5, 9, 1...|\n",
            "|black veil brides...|Have we begun to ...|   Rock|[0.75623115598652...|[2, 3, 4, 6, 8, 1...|\n",
            "|lynyrd skynyrd_I ...|Ain't no need to ...|   Rock|[5.25282097023383...|[0, 1, 2, 3, 6, 7...|\n",
            "|10000 maniacs_Acr...|Well they left th...|   Rock|[2.65214951635429...|[3, 7, 17, 20, 26...|\n",
            "|10000 maniacs_Pla...|[ music: Dennis D...|   Rock|[0.94228058289449...|[9, 11, 23, 45, 7...|\n",
            "|10000 maniacs_Rai...|On bended kneeI'v...|   Rock|[7.94232143632533...|[4, 7, 12, 22, 32...|\n",
            "|twista_Back 2 School|[Tung Twista]. ba...|Hip Hop|[2.33458709788170...|[0, 1, 2, 3, 4, 7...|\n",
            "|10000 maniacs_Ant...|For whom do the b...|   Rock|[7.94232143632533...|[4, 9, 11, 16, 18...|\n",
            "|10000 maniacs_All...|She walks alone o...|   Rock|[0.56043490060920...|[1, 3, 4, 7, 9, 1...|\n",
            "|10000 maniacs_Bac...|Jenny. Jenny you ...|   Rock|[0.58364677447042...|[0, 1, 2, 5, 8, 9...|\n",
            "|cyndi lauper_True...|You with the sad ...|    Pop|[2.24173960243682...|[1, 4, 5, 6, 7, 1...|\n",
            "|10000 maniacs_A R...|You were looking ...|   Rock|[0.58364677447042...|[0, 1, 8, 11, 12,...|\n",
            "|rick astley_She M...|She makes me more...|    Pop|[0.58364677447042...|[0, 4, 7, 9, 11, ...|\n",
            "|steve earle_Nothi...|I'm the keeper of...|   Rock|[114.394767796203...|[0, 5, 8, 10, 19,...|\n",
            "|10000 maniacs_Mad...|\"the legs of Madd...|   Rock|[0.66303737908857...|[3, 11, 16, 21, 2...|\n",
            "+--------------------+--------------------+-------+--------------------+--------------------+\n",
            "only showing top 20 rows\n",
            "\n"
          ],
          "name": "stdout"
        }
      ]
    },
    {
      "cell_type": "code",
      "metadata": {
        "id": "72wLTyCciiQb",
        "colab": {
          "base_uri": "https://localhost:8080/",
          "height": 468
        },
        "outputId": "22992be8-1d0a-4e88-90b0-30518a592b8e"
      },
      "source": [
        "@udf(ArrayType(IntegerType()))\n",
        "# @udf(StringType())\n",
        "def Top3(rank,ind):\n",
        "    rank = [float(i) for i in rank]\n",
        "    ind = [int(i) for i in ind]\n",
        "    top_ind = sorted(range(len(rank)), key=lambda i: rank[i])[-3:] # this give indices where we have top 3 values in rank\n",
        "    top_wrd = [ind[i] for i in top_ind]\n",
        "    return top_wrd\n",
        "\n",
        "bows_wrdlevel = bows_Mul.select(\"Key\",\"Genre\", Top3(\"TF_IDF_Rank\",\"IDF_Ind\").alias(\"top_ind\"))\n",
        "bows_wrdlevel.show()"
      ],
      "execution_count": null,
      "outputs": [
        {
          "output_type": "stream",
          "text": [
            "+--------------------+-------+---------------+\n",
            "|                 Key|  Genre|        top_ind|\n",
            "+--------------------+-------+---------------+\n",
            "|10000 maniacs_Mor...|   Rock|    [1, 70, 59]|\n",
            "|10000 maniacs_Bec...|   Rock| [424, 54, 319]|\n",
            "|jamiroquai_Rock D...|    Pop|[294, 249, 588]|\n",
            "|10000 maniacs_The...|   Rock|  [174, 32, 61]|\n",
            "|10000 maniacs_Eve...|   Rock|[677, 775, 411]|\n",
            "|10000 maniacs_Don...|   Rock| [169, 44, 107]|\n",
            "|black veil brides...|   Rock|   [13, 147, 6]|\n",
            "|lynyrd skynyrd_I ...|   Rock|    [33, 6, 41]|\n",
            "|10000 maniacs_Acr...|   Rock|[226, 496, 297]|\n",
            "|10000 maniacs_Pla...|   Rock| [23, 832, 195]|\n",
            "|10000 maniacs_Rai...|   Rock|  [147, 53, 32]|\n",
            "|twista_Back 2 School|Hip Hop| [24, 188, 375]|\n",
            "|10000 maniacs_Ant...|   Rock| [678, 760, 95]|\n",
            "|10000 maniacs_All...|   Rock| [163, 155, 65]|\n",
            "|10000 maniacs_Bac...|   Rock|[370, 692, 351]|\n",
            "|cyndi lauper_True...|    Pop| [450, 11, 438]|\n",
            "|10000 maniacs_A R...|   Rock|  [65, 251, 63]|\n",
            "|rick astley_She M...|    Pop|   [18, 15, 30]|\n",
            "|steve earle_Nothi...|   Rock|  [130, 373, 0]|\n",
            "|10000 maniacs_Mad...|   Rock|[368, 734, 700]|\n",
            "+--------------------+-------+---------------+\n",
            "only showing top 20 rows\n",
            "\n"
          ],
          "name": "stdout"
        }
      ]
    },
    {
      "cell_type": "markdown",
      "metadata": {
        "id": "mzpsGf77KkNn"
      },
      "source": [
        "## Approach 1: Top 3 > Embeddings"
      ]
    },
    {
      "cell_type": "markdown",
      "metadata": {
        "id": "MlGaSbozA9O4"
      },
      "source": [
        "Vectorization create vector column object and we need to retrieve values and indices accordingly from it unlike python array/list\n",
        "This whole para shows how we can retrieve indices and ranking from feature column in various ways by applying UDF"
      ]
    },
    {
      "cell_type": "markdown",
      "metadata": {
        "id": "-2hrOM8MSdiM"
      },
      "source": [
        "Convert indices to word"
      ]
    },
    {
      "cell_type": "code",
      "metadata": {
        "id": "Fnp0qvaJSc3Z"
      },
      "source": [
        "from pyspark.sql import functions as F\n",
        "from operator import itemgetter\n",
        "\n",
        "vocab = cvmodel.vocabulary\n",
        "# udf_to_words = udf(get_words, ArrayType(StringType()))\n",
        "# use @udf if you have used that pattern, throughout your pynb\n",
        "@udf(ArrayType(StringType()))\n",
        "def get_words(token_in):\n",
        "    return itemgetter(*token_in)(vocab)\n",
        "    # return map(vocab.__getitem__, token_in)\n",
        "    # return vocab[token_in].tolist()\n"
      ],
      "execution_count": null,
      "outputs": []
    },
    {
      "cell_type": "markdown",
      "metadata": {
        "id": "xQjqJsLOolsf"
      },
      "source": [
        "This gives us top 3 word for each doc"
      ]
    },
    {
      "cell_type": "code",
      "metadata": {
        "id": "Cs754MWD5WeR",
        "colab": {
          "base_uri": "https://localhost:8080/",
          "height": 468
        },
        "outputId": "363d889a-4f07-4717-d55f-8163f5c5a105"
      },
      "source": [
        "bow_top3_wrd = bows_wrdlevel.select('Key','Genre',get_words(F.col('top_ind')).alias('word'))\n",
        "bow_top3_wrd.na.drop(subset=[\"word\"])\n",
        "bow_top3_wrd.show()\n",
        "# bow_top5_wrd.schema\n"
      ],
      "execution_count": null,
      "outputs": [
        {
          "output_type": "stream",
          "text": [
            "+--------------------+-------+--------------------+\n",
            "|                 Key|  Genre|                word|\n",
            "+--------------------+-------+--------------------+\n",
            "|10000 maniacs_Mor...|   Rock|[know, nothing, t...|\n",
            "|10000 maniacs_Bec...|   Rock|[lover, night, si...|\n",
            "|jamiroquai_Rock D...|    Pop| [canst, mile, page]|\n",
            "|10000 maniacs_The...|   Rock|  [true, day, youll]|\n",
            "|10000 maniacs_Eve...|   Rock|[silent, merchant...|\n",
            "|10000 maniacs_Don...|   Rock|[people, donut, r...|\n",
            "|black veil brides...|   Rock|     [one, save, oh]|\n",
            "|lynyrd skynyrd_I ...|   Rock|    [need, oh, baby]|\n",
            "|10000 maniacs_Acr...|   Rock|[part, across, star]|\n",
            "|10000 maniacs_Pla...|   Rock|[life, remind, tr...|\n",
            "|10000 maniacs_Rai...|   Rock|  [save, would, day]|\n",
            "|twista_Back 2 School|Hip Hop|    [back, use, hes]|\n",
            "|10000 maniacs_Ant...|   Rock|[friend, searchin...|\n",
            "|10000 maniacs_All...|   Rock|[sorry, hold, for...|\n",
            "|10000 maniacs_Bac...|   Rock|[second, storm, y...|\n",
            "|cyndi lauper_True...|    Pop|[see, true, outside]|\n",
            "|10000 maniacs_A R...|   Rock|  [hold, room, wait]|\n",
            "|rick astley_She M...|    Pop|   [let, feel, give]|\n",
            "|steve earle_Nothi...|   Rock|[without, nobody,...|\n",
            "|10000 maniacs_Mad...|   Rock|[lifer, animal, d...|\n",
            "+--------------------+-------+--------------------+\n",
            "only showing top 20 rows\n",
            "\n"
          ],
          "name": "stdout"
        }
      ]
    },
    {
      "cell_type": "markdown",
      "metadata": {
        "id": "NosRdofjkzdS"
      },
      "source": [
        "### Embedding"
      ]
    },
    {
      "cell_type": "markdown",
      "metadata": {
        "id": "6rATK2hvD4qW"
      },
      "source": [
        "embedding works on sentence as it tries to find out the relationship between words too and not just their count/occurence. Because of this we have Approach 2 where we are creating embedding first and then doing picking embeddings for top 3 words."
      ]
    },
    {
      "cell_type": "code",
      "metadata": {
        "id": "HVUyMvB_6gCq",
        "colab": {
          "base_uri": "https://localhost:8080/",
          "height": 374
        },
        "outputId": "0089707c-5998-4b3a-b5db-222ebae05d59"
      },
      "source": [
        "from pyspark.sql.functions import udf, explode\n",
        "#convert list to sentence\n",
        "@udf( StringType())\n",
        "def get_sentence(word_in):\n",
        "    return \" \".join(str(item) for item in word_in)\n",
        "\n",
        "# udf_to_doc = udf(get_sentence, StringType())\n",
        "\n",
        "bow_top_embd = bow_top3_wrd.select('Key','Genre', get_sentence(F.col('word')).alias('doc'))\n",
        "# bow_top_embd = bow_top_embd.filter((F.col('doc') != '') | F.col('doc') != ' ')\n",
        "bow_top_embd.na.drop(subset=[\"doc\"])\n",
        "from pyspark.sql.functions import trim\n",
        "bow_top_embd = bow_top_embd.withColumn(\"doc\", trim(bow_top_embd.doc))\n",
        "# bow_top_embd.filter(!(F.col('doc') == ' ')).show()\n",
        "bow_top_embd.show()"
      ],
      "execution_count": null,
      "outputs": [
        {
          "output_type": "error",
          "ename": "ModuleNotFoundError",
          "evalue": "ignored",
          "traceback": [
            "\u001b[0;31m---------------------------------------------------------------------------\u001b[0m",
            "\u001b[0;31mModuleNotFoundError\u001b[0m                       Traceback (most recent call last)",
            "\u001b[0;32m<ipython-input-1-8b8b4378fef1>\u001b[0m in \u001b[0;36m<module>\u001b[0;34m()\u001b[0m\n\u001b[0;32m----> 1\u001b[0;31m \u001b[0;32mfrom\u001b[0m \u001b[0mpyspark\u001b[0m\u001b[0;34m.\u001b[0m\u001b[0msql\u001b[0m\u001b[0;34m.\u001b[0m\u001b[0mfunctions\u001b[0m \u001b[0;32mimport\u001b[0m \u001b[0mudf\u001b[0m\u001b[0;34m,\u001b[0m \u001b[0mexplode\u001b[0m\u001b[0;34m\u001b[0m\u001b[0;34m\u001b[0m\u001b[0m\n\u001b[0m\u001b[1;32m      2\u001b[0m \u001b[0;31m#convert list to sentence\u001b[0m\u001b[0;34m\u001b[0m\u001b[0;34m\u001b[0m\u001b[0;34m\u001b[0m\u001b[0m\n\u001b[1;32m      3\u001b[0m \u001b[0;34m@\u001b[0m\u001b[0mudf\u001b[0m\u001b[0;34m(\u001b[0m \u001b[0mStringType\u001b[0m\u001b[0;34m(\u001b[0m\u001b[0;34m)\u001b[0m\u001b[0;34m)\u001b[0m\u001b[0;34m\u001b[0m\u001b[0;34m\u001b[0m\u001b[0m\n\u001b[1;32m      4\u001b[0m \u001b[0;32mdef\u001b[0m \u001b[0mget_sentence\u001b[0m\u001b[0;34m(\u001b[0m\u001b[0mword_in\u001b[0m\u001b[0;34m)\u001b[0m\u001b[0;34m:\u001b[0m\u001b[0;34m\u001b[0m\u001b[0;34m\u001b[0m\u001b[0m\n\u001b[1;32m      5\u001b[0m     \u001b[0;32mreturn\u001b[0m \u001b[0;34m\" \"\u001b[0m\u001b[0;34m.\u001b[0m\u001b[0mjoin\u001b[0m\u001b[0;34m(\u001b[0m\u001b[0mstr\u001b[0m\u001b[0;34m(\u001b[0m\u001b[0mitem\u001b[0m\u001b[0;34m)\u001b[0m \u001b[0;32mfor\u001b[0m \u001b[0mitem\u001b[0m \u001b[0;32min\u001b[0m \u001b[0mword_in\u001b[0m\u001b[0;34m)\u001b[0m\u001b[0;34m\u001b[0m\u001b[0;34m\u001b[0m\u001b[0m\n",
            "\u001b[0;31mModuleNotFoundError\u001b[0m: No module named 'pyspark'",
            "",
            "\u001b[0;31m---------------------------------------------------------------------------\u001b[0;32m\nNOTE: If your import is failing due to a missing package, you can\nmanually install dependencies using either !pip or !apt.\n\nTo view examples of installing some common dependencies, click the\n\"Open Examples\" button below.\n\u001b[0;31m---------------------------------------------------------------------------\u001b[0m\n"
          ]
        }
      ]
    },
    {
      "cell_type": "code",
      "metadata": {
        "id": "d-xGmdch_iZy",
        "colab": {
          "base_uri": "https://localhost:8080/",
          "height": 121
        },
        "outputId": "9c23db91-3243-4d9c-a197-a942226d02ca"
      },
      "source": [
        "bow_top_embd.printSchema()\n",
        "bow_top_embd.select('Genre').distinct().collect()"
      ],
      "execution_count": null,
      "outputs": [
        {
          "output_type": "stream",
          "text": [
            "root\n",
            " |-- Key: string (nullable = true)\n",
            " |-- Genre: string (nullable = true)\n",
            " |-- doc: string (nullable = true)\n",
            "\n"
          ],
          "name": "stdout"
        },
        {
          "output_type": "execute_result",
          "data": {
            "text/plain": [
              "[Row(Genre='Rock'), Row(Genre='Pop'), Row(Genre='Hip Hop')]"
            ]
          },
          "metadata": {
            "tags": []
          },
          "execution_count": 17
        }
      ]
    },
    {
      "cell_type": "markdown",
      "metadata": {
        "id": "KAcowO4ga4UJ"
      },
      "source": [
        "Embedding output here will be list of list 3*100 features"
      ]
    },
    {
      "cell_type": "code",
      "metadata": {
        "id": "qwKs9Ajzl0lM",
        "colab": {
          "base_uri": "https://localhost:8080/",
          "height": 347
        },
        "outputId": "29986a94-963d-46ac-a224-da6f04795cf9"
      },
      "source": [
        "assembler = DocumentAssembler().setInputCol('doc').setOutputCol(\"document\").setCleanupMode(\"shrink\")\n",
        "tokenizer = Tokenizer().setInputCols(['document']).setOutputCol('token')\n",
        "embed = WordEmbeddingsModel.pretrained().setInputCols(['document',\"token\"]).setOutputCol(\"embeddings\")\n",
        "embeddings_finisher = EmbeddingsFinisher().setInputCols([\"embeddings\"]).setOutputCols([\"embeddings\"]).setOutputAsVector(True).setCleanAnnotations(False)\n",
        "finisher = Finisher().setInputCols(['token']).setOutputCols(['token']).setOutputAsArray(True)\n",
        "# vec_assembler = VectorAssembler().setInputCols(['embeddings']).setOutputCol('features')\n",
        "pipeline_uni = Pipeline().setStages([\n",
        "    assembler, tokenizer,embed ,embeddings_finisher, finisher\n",
        "])\n",
        "model = pipeline_uni.fit(bow_top_embd)\n",
        "model_trans =  model.transform(bow_top_embd)#.persist()\n",
        "# model_trans.select('embeddings').show(truncate = False)\n",
        "model_trans.show(10)\n"
      ],
      "execution_count": null,
      "outputs": [
        {
          "output_type": "stream",
          "text": [
            "glove_100d download started this may take some time.\n",
            "Approximate size to download 145.3 MB\n",
            "[OK!]\n",
            "+--------------------+-----+--------------------+--------------------+--------------------+\n",
            "|                 Key|Genre|                 doc|               token|          embeddings|\n",
            "+--------------------+-----+--------------------+--------------------+--------------------+\n",
            "|10000 maniacs_Mor...| Rock|nothing theres shout|[nothing, theres,...|[[0.1090399995446...|\n",
            "|10000 maniacs_Bec...| Rock|  belong night lover|[belong, night, l...|[[0.0577719993889...|\n",
            "|jamiroquai_Rock D...|  Pop|    coming page rock|[coming, page, rock]|[[0.0667089968919...|\n",
            "|10000 maniacs_The...| Rock|    youll true bless|[youll, true, bless]|[[-0.556039988994...|\n",
            "|10000 maniacs_Eve...| Rock|everyday pack silent|[everyday, pack, ...|[[-0.350219994783...|\n",
            "|10000 maniacs_Don...| Rock|   really keep three|[really, keep, th...|[[-0.054349001497...|\n",
            "|black veil brides...| Rock|     oh save mistake| [oh, save, mistake]|[[-0.666649997234...|\n",
            "|lynyrd skynyrd_I ...| Rock|        baby oh need|    [baby, oh, need]|[[0.4974699914455...|\n",
            "|10000 maniacs_Acr...| Rock|anymore trouble part|[anymore, trouble...|[[0.3865799903869...|\n",
            "|10000 maniacs_Pla...| Rock|brain truth strength|[brain, truth, st...|[[-0.102439999580...|\n",
            "+--------------------+-----+--------------------+--------------------+--------------------+\n",
            "only showing top 10 rows\n",
            "\n"
          ],
          "name": "stdout"
        }
      ]
    },
    {
      "cell_type": "markdown",
      "metadata": {
        "id": "faXVlQDqa7_o"
      },
      "source": [
        "String Indexer to change string categories to label for classification"
      ]
    },
    {
      "cell_type": "code",
      "metadata": {
        "id": "aZg00gXxh9Td",
        "colab": {
          "base_uri": "https://localhost:8080/",
          "height": 208
        },
        "outputId": "3085c6bf-5b26-41a8-b856-146624fc5886"
      },
      "source": [
        "from pyspark.ml import Pipeline\n",
        "from pyspark.ml.feature import OneHotEncoder, StringIndexer, VectorAssembler\n",
        "label_stringIdx = StringIndexer(inputCol = \"Genre\", outputCol = \"label\" ,)\n",
        "pipeline = Pipeline(stages=[ label_stringIdx])\n",
        "# Fit the pipeline to training documents.\n",
        "pipelineFit = pipeline.fit(model_trans)\n",
        "dataset = pipelineFit.transform(model_trans)\n",
        "selectedCols = ['token','embeddings','label']\n",
        "dataset = dataset.select(selectedCols)\n",
        "dataset.show(5)\n",
        "# dataset.printSchema()\n"
      ],
      "execution_count": null,
      "outputs": [
        {
          "output_type": "stream",
          "text": [
            "+--------------------+--------------------+-----+\n",
            "|               token|          embeddings|label|\n",
            "+--------------------+--------------------+-----+\n",
            "|[theres, nothing,...|[[-0.123620003461...|  0.0|\n",
            "|[belong, night, l...|[[0.0577719993889...|  0.0|\n",
            "|[coming, page, rock]|[[0.0667089968919...|  1.0|\n",
            "|[youll, true, bless]|[[-0.556039988994...|  0.0|\n",
            "|[everyday, pack, ...|[[-0.350219994783...|  0.0|\n",
            "+--------------------+--------------------+-----+\n",
            "only showing top 5 rows\n",
            "\n"
          ],
          "name": "stdout"
        }
      ]
    },
    {
      "cell_type": "code",
      "metadata": {
        "id": "S_LJcEsc9bH5",
        "colab": {
          "base_uri": "https://localhost:8080/",
          "height": 35
        },
        "outputId": "7f1b9975-625a-4906-f44b-234c24eb3da4"
      },
      "source": [
        "dataset.select('label').distinct().collect()"
      ],
      "execution_count": null,
      "outputs": [
        {
          "output_type": "execute_result",
          "data": {
            "text/plain": [
              "[Row(label=0.0), Row(label=1.0), Row(label=2.0)]"
            ]
          },
          "metadata": {
            "tags": []
          },
          "execution_count": 20
        }
      ]
    },
    {
      "cell_type": "markdown",
      "metadata": {
        "id": "mQv0R9kSCgDn"
      },
      "source": [
        "Spark ML takes vector as input so need to convert our embedding output to vector. We are going to use dense vector here. "
      ]
    },
    {
      "cell_type": "code",
      "metadata": {
        "id": "yEyiQFt5z7mr",
        "colab": {
          "base_uri": "https://localhost:8080/",
          "height": 468
        },
        "outputId": "3898a24f-0f23-4cf2-e7eb-5dc37be47d93"
      },
      "source": [
        "import itertools\n",
        "import functools\n",
        "from pyspark.ml.linalg import Vectors, VectorUDT\n",
        "@udf(VectorUDT())\n",
        "# @udf(StringType())\n",
        "def get_Flatvector(embd_vec):\n",
        "  # embd_vec = list(embd_vec)\n",
        "  merged = list(itertools.chain(*embd_vec))\n",
        "  # merged = functools.reduce(operator.iconcat, embd_vec, [])\n",
        "  mer_floats = [float(np_float) for np_float in merged]\n",
        "  ver = Vectors.dense(mer_floats)\n",
        "  return ver\n",
        "  # return str(type(mer_floats[0]))\n",
        "  # return embd_vec[0].tolist()\n",
        "\n",
        "dataset_clsf = dataset.select('token',get_Flatvector(F.col('embeddings')).alias('features'),'label')\n",
        "dataset_clsf.na.drop(subset=[\"features\"])\n",
        "# dataset_clsf = dataset_clsf.where(\"'label' != ''\").where(\"'label' != ' '\")\n",
        "# dataset_clsf = dataset_clsf.filter(dataset_clsf.label == 0.0)\n",
        "dataset_clsf.show(truncate = True)\n",
        "\n",
        "# dataset.select(\"label\",flatten(\"embeddings\")).show(false)"
      ],
      "execution_count": null,
      "outputs": [
        {
          "output_type": "stream",
          "text": [
            "+--------------------+--------------------+-----+\n",
            "|               token|            features|label|\n",
            "+--------------------+--------------------+-----+\n",
            "|[theres, nothing,...|[-0.1236200034618...|  0.0|\n",
            "|[belong, night, l...|[0.05777199938893...|  0.0|\n",
            "|[coming, page, rock]|[0.06670899689197...|  1.0|\n",
            "|[youll, true, bless]|[-0.5560399889945...|  0.0|\n",
            "|[everyday, pack, ...|[-0.3502199947834...|  0.0|\n",
            "|[really, keep, th...|[-0.0543490014970...|  0.0|\n",
            "| [oh, save, mistake]|[-0.6666499972343...|  0.0|\n",
            "|    [baby, oh, need]|[0.49746999144554...|  0.0|\n",
            "|[anymore, trouble...|[0.38657999038696...|  0.0|\n",
            "|[brain, truth, st...|[-0.1024399995803...|  0.0|\n",
            "|[theyve, save, wo...|[0.0,0.0,0.0,0.0,...|  0.0|\n",
            "| [school, use, rock]|[0.80335998535156...|  2.0|\n",
            "|[heat, fire, surr...|[-0.8194400072097...|  0.0|\n",
            "|[forever, hold, s...|[-0.0296199992299...|  0.0|\n",
            "|[angel, style, shes]|[0.34995999932289...|  0.0|\n",
            "|[mama, true, afraid]|[0.27950999140739...|  1.0|\n",
            "|   [wait, room, dry]|[-0.1498499959707...|  0.0|\n",
            "|[give, maybe, alive]|[-0.0376080013811...|  1.0|\n",
            "|[shoot, without, im]|[-0.2886199951171...|  0.0|\n",
            "|  [table, hes, shut]|[-0.6145399808883...|  0.0|\n",
            "+--------------------+--------------------+-----+\n",
            "only showing top 20 rows\n",
            "\n"
          ],
          "name": "stdout"
        }
      ]
    },
    {
      "cell_type": "markdown",
      "metadata": {
        "id": "8ZHM_xzVDLHN"
      },
      "source": [
        "We need to ensure that the size of feature is 300. group by count of feature to check and remove unwanted rows. This is probably because TFIDF gave same rank to multiple words and we have more than 3 in some cases. in our case it was just one row"
      ]
    },
    {
      "cell_type": "code",
      "metadata": {
        "id": "gPzEK8Q0ODxD",
        "colab": {
          "base_uri": "https://localhost:8080/",
          "height": 468
        },
        "outputId": "4dc47a68-8837-4252-d446-6e5dfa1a7750"
      },
      "source": [
        "from pyspark.sql import functions as F\n",
        "import itertools\n",
        "import functools\n",
        "from pyspark.ml.linalg import Vectors, VectorUDT\n",
        "# @udf(VectorUDT())\n",
        "@udf(IntegerType())\n",
        "def get_Flatvector_len(embd_vec):\n",
        "  # embd_vec = list(embd_vec)\n",
        "  # merged = list(itertools.chain(*embd_vec))\n",
        "  # merged = functools.reduce(operator.iconcat, embd_vec, [])\n",
        "  # mer_floats = [float(np_float) for np_float in merged]\n",
        "  vec =Vectors.dense(embd_vec)\n",
        "  return (len(vec))\n",
        "  # return str(type(mer_floats[0]))\n",
        "  # return embd_vec[0].tolist()\n",
        "\n",
        "dataset_clsf_300 = dataset_clsf.select('token','features',get_Flatvector_len(F.col('features')).alias('feat_cnt'),'label')\n",
        "dataset_clsf_300.na.drop(subset=[\"feat_cnt\"])\n",
        "dataset_clsf_300.na.drop(subset=[\"features\"])\n",
        "dataset_clsf_300.na.drop(subset=[\"label\"])\n",
        "# dataset_clsf.show(truncate = True)\n",
        "# dataset_clsf = dataset_clsf.groupBy(\"features\").agg(F.count('features'))\n",
        "dataset_clsf_300 = dataset_clsf_300.filter((dataset_clsf_300.feat_cnt == 300) | (dataset_clsf_300.label != ' ') ).select('token','features','label')\n",
        "# dataset_clsf_300 = dataset_clsf_300.filter(dataset_clsf_300.label != ' ').select('features','label')\n",
        "# dataset_clsf_300 = dataset_clsf_300.filter(F.col('features') != ' ')\n",
        "# dataset_clsf_300.show(dataset_clsf_300.count() )\n",
        "# dataset_clsf_300.repartition(1).count()\n",
        "dataset_clsf_300.show()\n",
        "# dataset_clsf_300.count()\n",
        "# dataset_clsf_300.groupBy(\"feat_cnt\").agg(F.count('feat_cnt')).show()"
      ],
      "execution_count": null,
      "outputs": [
        {
          "output_type": "stream",
          "text": [
            "+--------------------+--------------------+-----+\n",
            "|               token|            features|label|\n",
            "+--------------------+--------------------+-----+\n",
            "|[theres, nothing,...|[-0.1236200034618...|  0.0|\n",
            "|[belong, night, l...|[0.05777199938893...|  0.0|\n",
            "|[coming, page, rock]|[0.06670899689197...|  1.0|\n",
            "|[youll, true, bless]|[-0.5560399889945...|  0.0|\n",
            "|[everyday, pack, ...|[-0.3502199947834...|  0.0|\n",
            "|[really, keep, th...|[-0.0543490014970...|  0.0|\n",
            "| [oh, save, mistake]|[-0.6666499972343...|  0.0|\n",
            "|    [baby, oh, need]|[0.49746999144554...|  0.0|\n",
            "|[anymore, trouble...|[0.38657999038696...|  0.0|\n",
            "|[brain, truth, st...|[-0.1024399995803...|  0.0|\n",
            "|[theyve, save, wo...|[0.0,0.0,0.0,0.0,...|  0.0|\n",
            "| [school, use, rock]|[0.80335998535156...|  2.0|\n",
            "|[heat, fire, surr...|[-0.8194400072097...|  0.0|\n",
            "|[forever, hold, s...|[-0.0296199992299...|  0.0|\n",
            "|[angel, style, shes]|[0.34995999932289...|  0.0|\n",
            "|[mama, true, afraid]|[0.27950999140739...|  1.0|\n",
            "|   [wait, room, dry]|[-0.1498499959707...|  0.0|\n",
            "|[give, maybe, alive]|[-0.0376080013811...|  1.0|\n",
            "|[shoot, without, im]|[-0.2886199951171...|  0.0|\n",
            "|  [table, hes, shut]|[-0.6145399808883...|  0.0|\n",
            "+--------------------+--------------------+-----+\n",
            "only showing top 20 rows\n",
            "\n"
          ],
          "name": "stdout"
        }
      ]
    },
    {
      "cell_type": "code",
      "metadata": {
        "id": "WU2wwXTqjHkE",
        "colab": {
          "base_uri": "https://localhost:8080/",
          "height": 295
        },
        "outputId": "66b2725c-880c-45b2-e552-542f6a638b0c"
      },
      "source": [
        "# set seed for reproducibility\n",
        "# train, test = dataset_clsf_300.randomSplit(weights=[0.6, 0.4], seed=100)\n",
        "# dataset_clsf_300 = dataset_clsf_300.where(\"'features' != ''\")\n",
        "(trainingData, testData) = dataset_clsf_300.select('token','features','label').randomSplit([0.7, 0.3], seed = 100)\n",
        "# print(\"Training Dataset Count: \" + str(trainingData.count()))\n",
        "# print(\"Test Dataset Count: \" + str(testData.count()))\n",
        "# train, test = dataset_clsf_300.randomSplit([0.6, 0.4], seed=100)\n",
        "trainingData.show(10)"
      ],
      "execution_count": null,
      "outputs": [
        {
          "output_type": "stream",
          "text": [
            "+--------------------+--------------------+-----+\n",
            "|               token|            features|label|\n",
            "+--------------------+--------------------+-----+\n",
            "|      [act, eye, uh]|[0.24027000367641...|  0.0|\n",
            "|[afraid, perfect,...|[0.20393000543117...|  0.0|\n",
            "|[afraid, perfect,...|[0.20393000543117...|  0.0|\n",
            "|[afraid, sweet, p...|[0.20393000543117...|  0.0|\n",
            "|   [ah, baby, steal]|[-1.4133000373840...|  1.0|\n",
            "|[ah, believe, fri...|[-1.4133000373840...|  0.0|\n",
            "| [alone, goin, help]|[0.38927999138832...|  0.0|\n",
            "|[alone, wrong, ni...|[0.38927999138832...|  0.0|\n",
            "|[already, round, ...|[0.13563999533653...|  0.0|\n",
            "|[already, round, ...|[0.13563999533653...|  0.0|\n",
            "+--------------------+--------------------+-----+\n",
            "only showing top 10 rows\n",
            "\n"
          ],
          "name": "stdout"
        }
      ]
    },
    {
      "cell_type": "markdown",
      "metadata": {
        "id": "RUZykjGRHitl"
      },
      "source": [
        "### Classification"
      ]
    },
    {
      "cell_type": "markdown",
      "metadata": {
        "id": "HAxiD5Y6_yMX"
      },
      "source": [
        "### Logistic Regression"
      ]
    },
    {
      "cell_type": "code",
      "metadata": {
        "id": "LV8uISUrjS-p",
        "colab": {
          "base_uri": "https://localhost:8080/",
          "height": 468
        },
        "outputId": "df4ce789-aa47-4a6f-c4a2-9cdcd6f4e216"
      },
      "source": [
        "from pyspark.ml.classification import LogisticRegression\n",
        "lr = LogisticRegression(featuresCol = 'features', labelCol = 'label',maxIter=20, regParam=0.3, elasticNetParam=0   )\n",
        "lrModel = lr.fit(trainingData )\n",
        "predictions = lrModel.transform(testData)\n",
        "predictions.show()"
      ],
      "execution_count": null,
      "outputs": [
        {
          "output_type": "stream",
          "text": [
            "+--------------------+--------------------+-----+--------------------+--------------------+----------+\n",
            "|               token|            features|label|       rawPrediction|         probability|prediction|\n",
            "+--------------------+--------------------+-----+--------------------+--------------------+----------+\n",
            "| [ago, rock, become]|[0.54666000604629...|  0.0|[1.41761643875231...|[0.79741206092989...|       0.0|\n",
            "|   [ah, yeah, crazy]|[-1.4133000373840...|  1.0|[-0.1186564800670...|[0.24700552033410...|       1.0|\n",
            "|[aint, call, always]|[-0.1444900035858...|  1.0|[1.66194859571792...|[0.83348033887642...|       0.0|\n",
            "|[alive, night, ever]|[-0.0055056000128...|  1.0|[1.50112892351291...|[0.80985501917549...|       0.0|\n",
            "|[already, young, ...|[0.13563999533653...|  0.0|[1.28606549779604...|[0.75176838242710...|       0.0|\n",
            "|  [alright, oh, try]|[0.34696000814437...|  1.0|[1.30015038665708...|[0.77115126204828...|       0.0|\n",
            "|[angel, style, shes]|[0.34995999932289...|  0.0|[1.67267610797735...|[0.82726193161393...|       0.0|\n",
            "| [angel, today, gun]|[0.34995999932289...|  0.0|[1.45533061587012...|[0.78274042762116...|       0.0|\n",
            "|[anymore, trouble...|[0.38657999038696...|  0.0|[1.94382655069015...|[0.85622207318998...|       0.0|\n",
            "|[anymore, trouble...|[0.38657999038696...|  0.0|[1.94382655069015...|[0.85622207318998...|       0.0|\n",
            "|    [baby, oh, need]|[0.49746999144554...|  0.0|[1.32920129829678...|[0.76951463006016...|       0.0|\n",
            "|   [baby, top, home]|[0.49746999144554...|  1.0|[1.16868913101335...|[0.58213944966820...|       0.0|\n",
            "|[baby, without, d...|[0.49746999144554...|  0.0|[1.69711544022955...|[0.75172016807629...|       0.0|\n",
            "|[ball, shoulder, ...|[-0.0365669988095...|  0.0|[1.11691901131013...|[0.68746424103510...|       0.0|\n",
            "| [beast, break, son]|[0.01666799932718...|  0.0|[1.82487505980117...|[0.87246776270177...|       0.0|\n",
            "|   [beg, id, misery]|[-0.5893800258636...|  0.0|[1.28354985563475...|[0.64803839692784...|       0.0|\n",
            "|[believe, tell, lip]|[0.11221999675035...|  0.0|[1.41785560912943...|[0.75585586462292...|       0.0|\n",
            "|[belong, night, l...|[0.05777199938893...|  0.0|[1.84725264155818...|[0.86335479231514...|       0.0|\n",
            "|   [bitch, last, ah]|[0.33096998929977...|  2.0|[1.37792096366267...|[0.63005728044327...|       0.0|\n",
            "|   [black, end, fun]|[-0.0574459992349...|  0.0|[1.44446352943006...|[0.75541221768381...|       0.0|\n",
            "+--------------------+--------------------+-----+--------------------+--------------------+----------+\n",
            "only showing top 20 rows\n",
            "\n"
          ],
          "name": "stdout"
        }
      ]
    },
    {
      "cell_type": "code",
      "metadata": {
        "id": "TyfuQBQXWGU5",
        "colab": {
          "base_uri": "https://localhost:8080/",
          "height": 35
        },
        "outputId": "4a129376-2e1a-4a66-b864-04ceadb84964"
      },
      "source": [
        "\n",
        "from pyspark.ml.evaluation import MulticlassClassificationEvaluator\n",
        "evaluator = MulticlassClassificationEvaluator(predictionCol=\"prediction\")\n",
        "evaluator.evaluate(predictions)\n",
        "# predictions.show()"
      ],
      "execution_count": null,
      "outputs": [
        {
          "output_type": "execute_result",
          "data": {
            "text/plain": [
              "0.735822417115046"
            ]
          },
          "metadata": {
            "tags": []
          },
          "execution_count": 26
        }
      ]
    },
    {
      "cell_type": "markdown",
      "metadata": {
        "id": "6o-XJS6wl-aa"
      },
      "source": [
        "#### Top Words"
      ]
    },
    {
      "cell_type": "code",
      "metadata": {
        "id": "xQRe_GDEmDif",
        "colab": {
          "base_uri": "https://localhost:8080/",
          "height": 485
        },
        "outputId": "3e4d532f-89aa-4217-ef64-2bc4dcbdc793"
      },
      "source": [
        "top_wrd_df = predictions.filter(predictions.label == predictions.prediction)\n",
        "top_wrd_df.show()\n",
        "top_wrd_df.count()"
      ],
      "execution_count": null,
      "outputs": [
        {
          "output_type": "stream",
          "text": [
            "+--------------------+--------------------+-----+--------------------+--------------------+----------+\n",
            "|               token|            features|label|       rawPrediction|         probability|prediction|\n",
            "+--------------------+--------------------+-----+--------------------+--------------------+----------+\n",
            "| [ago, rock, become]|[0.54666000604629...|  0.0|[1.41761643875231...|[0.79741206092989...|       0.0|\n",
            "|   [ah, yeah, crazy]|[-1.4133000373840...|  1.0|[-0.1186564800670...|[0.24700552033410...|       1.0|\n",
            "|[already, young, ...|[0.13563999533653...|  0.0|[1.28606549779604...|[0.75176838242710...|       0.0|\n",
            "|[angel, style, shes]|[0.34995999932289...|  0.0|[1.67267610797735...|[0.82726193161393...|       0.0|\n",
            "| [angel, today, gun]|[0.34995999932289...|  0.0|[1.45533061587012...|[0.78274042762116...|       0.0|\n",
            "|[anymore, trouble...|[0.38657999038696...|  0.0|[1.94382655069015...|[0.85622207318998...|       0.0|\n",
            "|[anymore, trouble...|[0.38657999038696...|  0.0|[1.94382655069015...|[0.85622207318998...|       0.0|\n",
            "|    [baby, oh, need]|[0.49746999144554...|  0.0|[1.32920129829678...|[0.76951463006016...|       0.0|\n",
            "|[baby, without, d...|[0.49746999144554...|  0.0|[1.69711544022955...|[0.75172016807629...|       0.0|\n",
            "|[ball, shoulder, ...|[-0.0365669988095...|  0.0|[1.11691901131013...|[0.68746424103510...|       0.0|\n",
            "| [beast, break, son]|[0.01666799932718...|  0.0|[1.82487505980117...|[0.87246776270177...|       0.0|\n",
            "|   [beg, id, misery]|[-0.5893800258636...|  0.0|[1.28354985563475...|[0.64803839692784...|       0.0|\n",
            "|[believe, tell, lip]|[0.11221999675035...|  0.0|[1.41785560912943...|[0.75585586462292...|       0.0|\n",
            "|[belong, night, l...|[0.05777199938893...|  0.0|[1.84725264155818...|[0.86335479231514...|       0.0|\n",
            "|   [black, end, fun]|[-0.0574459992349...|  0.0|[1.44446352943006...|[0.75541221768381...|       0.0|\n",
            "|  [bleed, fool, sad]|[-0.4471800029277...|  0.0|[1.49521178959504...|[0.79979021610794...|       0.0|\n",
            "|[bleed, theyre, s...|[-0.4471800029277...|  0.0|[1.69556310572523...|[0.86402610677672...|       0.0|\n",
            "|   [blue, baby, man]|[0.08643099665641...|  0.0|[1.28216764117520...|[0.72858928539329...|       0.0|\n",
            "|[bottle, didnt, w...|[-0.5597000122070...|  0.0|[1.73357193432681...|[0.82902047276713...|       0.0|\n",
            "|[bout, pick, daug...|[1.11590003967285...|  0.0|[1.86913614352986...|[0.87784143494802...|       0.0|\n",
            "+--------------------+--------------------+-----+--------------------+--------------------+----------+\n",
            "only showing top 20 rows\n",
            "\n"
          ],
          "name": "stdout"
        },
        {
          "output_type": "execute_result",
          "data": {
            "text/plain": [
              "220"
            ]
          },
          "metadata": {
            "tags": []
          },
          "execution_count": 38
        }
      ]
    },
    {
      "cell_type": "code",
      "metadata": {
        "id": "g4u5xK-up7L8",
        "colab": {
          "base_uri": "https://localhost:8080/",
          "height": 35
        },
        "outputId": "4940a147-af3c-4a21-c85f-bbd0c2eecd01"
      },
      "source": [
        "from pyspark.sql.window import Window\n",
        "from pyspark.sql.functions import rank, col\n",
        "\n",
        "window = Window.partitionBy(top_wrd_df['label']).orderBy(top_wrd_df['probability'].desc())\n",
        "\n",
        "top_wrd_df = top_wrd_df.select('*', rank().over(window).alias('rank')).filter(col('rank') <= 10)\n",
        "top_wrd_df.count()"
      ],
      "execution_count": null,
      "outputs": [
        {
          "output_type": "execute_result",
          "data": {
            "text/plain": [
              "21"
            ]
          },
          "metadata": {
            "tags": []
          },
          "execution_count": 39
        }
      ]
    },
    {
      "cell_type": "code",
      "metadata": {
        "id": "1RWwpxiftRkx",
        "colab": {
          "base_uri": "https://localhost:8080/",
          "height": 176
        },
        "outputId": "c9a229d3-4f06-4fb6-de91-dd46d79c7247"
      },
      "source": [
        "top_wrd_df_lst = top_wrd_df.groupBy('label').agg(F.collect_list(\"token\"))\n",
        "top_wrd_df_lst.show(truncate = False)"
      ],
      "execution_count": null,
      "outputs": [
        {
          "output_type": "stream",
          "text": [
            "+-----+-----------------------------------------------------------------------------------------------------------------------------------------------------------------------------------------------------------------------------+\n",
            "|label|collect_list(token)                                                                                                                                                                                                          |\n",
            "+-----+-----------------------------------------------------------------------------------------------------------------------------------------------------------------------------------------------------------------------------+\n",
            "|0.0  |[[human, mistake, watch], [put, fire, set], [spit, regret, round], [screen, yesterday, young], [stay, lot, till], [inside, deep, head], [fix, plain, thin], [black, fate, end], [circle, line, stone], [mirror, clear, away]]|\n",
            "|1.0  |[[oh, wasnt, cry], [love, hello, feelings], [oh, end, girl], [oh, care, wrong], [brother, foot, wanna], [oh, forget, remember], [chill, roll, like], [king, ring, weill], [bring, baby, gonna], [talk, bottle, yeah]]        |\n",
            "|2.0  |[[last, ah, yo]]                                                                                                                                                                                                             |\n",
            "+-----+-----------------------------------------------------------------------------------------------------------------------------------------------------------------------------------------------------------------------------+\n",
            "\n"
          ],
          "name": "stdout"
        }
      ]
    },
    {
      "cell_type": "code",
      "metadata": {
        "id": "G2UR533PbXDJ"
      },
      "source": [
        "# trainingSummary = lrModel.summary\n",
        "# roc = trainingSummary.roc.toPandas()\n",
        "# plt.plot(roc['FPR'],roc['TPR'])\n",
        "# plt.ylabel('False Positive Rate')\n",
        "# plt.xlabel('True Positive Rate')\n",
        "# plt.title('ROC Curve')\n",
        "# plt.show()\n",
        "# print('Training set areaUnderROC: ' + str(trainingSummary.areaUnderROC))"
      ],
      "execution_count": null,
      "outputs": []
    },
    {
      "cell_type": "markdown",
      "metadata": {
        "id": "hGBCO3WODyop"
      },
      "source": [
        "### Naive Bayes"
      ]
    },
    {
      "cell_type": "markdown",
      "metadata": {
        "id": "aJBCUrWuGDh9"
      },
      "source": [
        "We can only use Naive Bayes for positive values, we have negative too."
      ]
    },
    {
      "cell_type": "code",
      "metadata": {
        "id": "KtpfiSjaD4Gg"
      },
      "source": [
        "# from pyspark.ml.classification import NaiveBayes\n",
        "# nb = NaiveBayes(smoothing=1)\n",
        "# model = nb.fit(trainingData)\n",
        "# predictions = model.transform(testData)\n",
        "# # predictions.filter(predictions['prediction'] == 0) \\\n",
        "# #     .select(\"Descript\",\"Category\",\"probability\",\"label\",\"prediction\") \\\n",
        "# #     .orderBy(\"probability\", ascending=False) \\\n",
        "# #     .show(n = 10, truncate = 30)\n",
        "# predictions.show()"
      ],
      "execution_count": null,
      "outputs": []
    },
    {
      "cell_type": "markdown",
      "metadata": {
        "id": "xaC8xG-oFewU"
      },
      "source": [
        "### Random Forest"
      ]
    },
    {
      "cell_type": "code",
      "metadata": {
        "id": "g27o6p_mFhMa"
      },
      "source": [
        "from pyspark.ml.classification import RandomForestClassifier\n",
        "algo = RandomForestClassifier(featuresCol='features', labelCol='label')\n",
        "model = algo.fit(trainingData)\n",
        "predictions = model.transform(testData)\n",
        "predictions.show()\n"
      ],
      "execution_count": null,
      "outputs": []
    },
    {
      "cell_type": "code",
      "metadata": {
        "id": "s3XlC8QTG3tb"
      },
      "source": [
        "from pyspark.ml.evaluation import MulticlassClassificationEvaluator\n",
        "evaluator = MulticlassClassificationEvaluator(predictionCol=\"prediction\")\n",
        "accracy = evaluator.evaluate(predictions)\n",
        "accracy"
      ],
      "execution_count": null,
      "outputs": []
    },
    {
      "cell_type": "code",
      "metadata": {
        "id": "WfNX8oHhGrQj"
      },
      "source": [
        "# #important: need to cast to float type, and order by prediction, else it won't work\n",
        "# preds_and_labels = predictions.select(['prediction','d']).withColumn('label', F.col('d').cast(FloatType())).orderBy('prediction')\n",
        "\n",
        "# #select only prediction and label columns\n",
        "# preds_and_labels = preds_and_labels.select(['prediction','label'])\n",
        "\n",
        "# metrics = MultiClassMetrics(preds_and_labels.rdd.map(tuple))\n",
        "\n",
        "y_true = predictions.select(['label']).collect()\n",
        "y_pred = predictions.select(['prediction']).collect()\n",
        "\n",
        "from sklearn.metrics import classification_report, confusion_matrix\n",
        "print(classification_report(y_true, y_pred))"
      ],
      "execution_count": null,
      "outputs": []
    },
    {
      "cell_type": "markdown",
      "metadata": {
        "id": "P1K86GCzLAiN"
      },
      "source": [
        "## Approach 2: Embeddings > Top 3"
      ]
    },
    {
      "cell_type": "markdown",
      "metadata": {
        "id": "oIepLRQ1MMAa"
      },
      "source": [
        "Start with creating embeddings first"
      ]
    },
    {
      "cell_type": "code",
      "metadata": {
        "id": "mtQQZkBYrkWU",
        "colab": {
          "base_uri": "https://localhost:8080/",
          "height": 451
        },
        "outputId": "9fc415e8-e9da-4dd4-d979-4ae82ff8bc40"
      },
      "source": [
        "assembler = DocumentAssembler().setInputCol('text').setOutputCol('document')\n",
        "\n",
        "sentence_detector = SentenceDetector().setInputCols([\"document\"]).setOutputCol(\"sentence\")\n",
        "\n",
        "tokenizer = Tokenizer().setInputCols(['document']).setOutputCol('token')#.setTargetPattern('/\\b(\\?You were looking)\\b/')#.setExceptionsPath('/content/MyDrive/SparkNLP/entities.txt')\n",
        "\n",
        "spell_chk = NorvigSweetingModel().pretrained().setInputCols(['token']).setOutputCol('corrected')\n",
        "\n",
        "lemmatizer = LemmatizerModel().pretrained().setInputCols(['corrected']).setOutputCol('lemma')\n",
        "\n",
        "normalizer = Normalizer().setInputCols(['lemma']).setOutputCol('normalized').setLowercase(True)\n",
        "\n",
        "stop_wrd = list( stopwords.words('english'))\n",
        "\n",
        "stop_words_cleaner = StopWordsCleaner().setInputCols([\"normalized\"]).setOutputCol(\"cleanTokens\").setCaseSensitive(False).setStopWords(stop_wrd)\n",
        "\n",
        "embed = WordEmbeddingsModel.pretrained().setInputCols(['document',\"token\"]).setOutputCol(\"embeddings\")\n",
        "embeddings_finisher = EmbeddingsFinisher().setInputCols([\"embeddings\"]).setOutputCols([\"embeddings\"]).setOutputAsVector(True).setCleanAnnotations(False)\n",
        "\n",
        "finisher = Finisher().setInputCols(['cleanTokens']).setOutputCols(['cleanTokens']).setOutputAsArray(True).setCleanAnnotations(True)\n",
        "\n",
        "pipeline_embd = Pipeline().setStages([ assembler, tokenizer, spell_chk , lemmatizer, normalizer,stop_words_cleaner,embed,embeddings_finisher,finisher ]) \n",
        "model_trans_tfIdf_2 = pipeline_embd.fit(song_data) \n",
        "model_trans_tfIdf_2 = model_trans_tfIdf_2.transform(song_data) \n",
        "model_trans_tfIdf_2.show(10)\n",
        "# model_trans_tfIdf_2.select('embeddings').show(10,truncate = False)"
      ],
      "execution_count": null,
      "outputs": [
        {
          "output_type": "stream",
          "text": [
            "spellcheck_norvig download started this may take some time.\n",
            "Approximate size to download 4.2 MB\n",
            "[OK!]\n",
            "lemma_antbnc download started this may take some time.\n",
            "Approximate size to download 907.6 KB\n",
            "[OK!]\n",
            "glove_100d download started this may take some time.\n",
            "Approximate size to download 145.3 MB\n",
            "[OK!]\n",
            "+--------------------+--------------------+-----+--------------------+--------------------+\n",
            "|                 Key|                text|Genre|         cleanTokens|          embeddings|\n",
            "+--------------------+--------------------+-----+--------------------+--------------------+\n",
            "|10000 maniacs_Mor...|I could feel at t...| Rock|[could, feel, tim...|[[-0.046539001166...|\n",
            "|10000 maniacs_Bec...|Take me now, baby...| Rock|[take, baby, hold...|[[-0.270639985799...|\n",
            "|jamiroquai_Rock D...|And it's coming a...|  Pop|[come, baby, yeah...|[[-0.071952998638...|\n",
            "|10000 maniacs_The...|These are. These ...| Rock|[day, youll, reme...|[[-0.604569971561...|\n",
            "|10000 maniacs_Eve...|Trudging slowly o...| Rock|[grudge, slowly, ...|[[-0.136580005288...|\n",
            "|10000 maniacs_Don...|Don't talk, I wil...| Rock|[donut, talk, lis...|[[0.0,0.0,0.0,0.0...|\n",
            "|black veil brides...|Have we begun to ...| Rock|[begin, drift, aw...|[[0.1571100056171...|\n",
            "|lynyrd skynyrd_I ...|Ain't no need to ...| Rock|[aint, need, worr...|[[0.0,0.0,0.0,0.0...|\n",
            "|10000 maniacs_Acr...|Well they left th...| Rock|[well, leave, mor...|[[-0.530860006809...|\n",
            "|10000 maniacs_Pla...|[ music: Dennis D...| Rock|[music, dennis, d...|[[-0.287259995937...|\n",
            "+--------------------+--------------------+-----+--------------------+--------------------+\n",
            "only showing top 10 rows\n",
            "\n"
          ],
          "name": "stdout"
        }
      ]
    },
    {
      "cell_type": "markdown",
      "metadata": {
        "id": "EF2UIViJQbU9"
      },
      "source": [
        "1. Create TFIDF\n",
        "2. pick top 3 position where rank is max\n",
        "3. pick embeddings for that top 3 position\n",
        "4. map it to original words"
      ]
    },
    {
      "cell_type": "code",
      "metadata": {
        "id": "Vs0YLwqiQeXs",
        "colab": {
          "base_uri": "https://localhost:8080/",
          "height": 468
        },
        "outputId": "64b1fc61-2e22-4ae7-dd4f-2789cab60b8f"
      },
      "source": [
        "from pyspark.ml.feature import CountVectorizer, IDF\n",
        "\n",
        "count_vectorizer = CountVectorizer(inputCol='cleanTokens', outputCol='tf', minDF=10)\n",
        "cvmodel = count_vectorizer.fit(model_trans_tfIdf_2)\n",
        "idf = IDF(inputCol='tf', outputCol='idf', minDocFreq=10)\n",
        "# finisher_idf = Finisher().setInputCols(['features']).setOutputCols(['tfidf']) finisher is for sparkNLP not spark ML\n",
        "bow_pipeline_2 = Pipeline().setStages([count_vectorizer, idf])\n",
        "bow_pipeline_2 = bow_pipeline_2.fit(model_trans_tfIdf_2)\n",
        "\n",
        "bows_2 = bow_pipeline_2.transform(model_trans_tfIdf_2)\n",
        "bows_2.show()"
      ],
      "execution_count": null,
      "outputs": [
        {
          "output_type": "stream",
          "text": [
            "+--------------------+--------------------+-------+--------------------+--------------------+--------------------+--------------------+\n",
            "|                 Key|                text|  Genre|         cleanTokens|          embeddings|                  tf|                 idf|\n",
            "+--------------------+--------------------+-------+--------------------+--------------------+--------------------+--------------------+\n",
            "|10000 maniacs_Mor...|I could feel at t...|   Rock|[could, feel, tim...|[[-0.046539001166...|(882,[0,1,3,4,8,1...|(882,[0,1,3,4,8,1...|\n",
            "|10000 maniacs_Bec...|Take me now, baby...|   Rock|[take, baby, hold...|[[-0.270639985799...|(882,[0,6,7,10,12...|(882,[0,6,7,10,12...|\n",
            "|jamiroquai_Rock D...|And it's coming a...|    Pop|[come, baby, yeah...|[[-0.071952998638...|(882,[0,1,2,3,4,5...|(882,[0,1,2,3,4,5...|\n",
            "|10000 maniacs_The...|These are. These ...|   Rock|[day, youll, reme...|[[-0.604569971561...|(882,[1,9,11,15,1...|(882,[1,9,11,15,1...|\n",
            "|10000 maniacs_Eve...|Trudging slowly o...|   Rock|[grudge, slowly, ...|[[-0.136580005288...|(882,[4,12,24,80,...|(882,[4,12,24,80,...|\n",
            "|10000 maniacs_Don...|Don't talk, I wil...|   Rock|[donut, talk, lis...|[[0.0,0.0,0.0,0.0...|(882,[0,1,3,5,9,1...|(882,[0,1,3,5,9,1...|\n",
            "|black veil brides...|Have we begun to ...|   Rock|[begin, drift, aw...|[[0.1571100056171...|(882,[2,3,4,6,8,1...|(882,[2,3,4,6,8,1...|\n",
            "|lynyrd skynyrd_I ...|Ain't no need to ...|   Rock|[aint, need, worr...|[[0.0,0.0,0.0,0.0...|(882,[0,1,2,3,6,7...|(882,[0,1,2,3,6,7...|\n",
            "|10000 maniacs_Acr...|Well they left th...|   Rock|[well, leave, mor...|[[-0.530860006809...|(882,[3,7,17,20,2...|(882,[3,7,17,20,2...|\n",
            "|10000 maniacs_Pla...|[ music: Dennis D...|   Rock|[music, dennis, d...|[[-0.287259995937...|(882,[9,11,23,43,...|(882,[9,11,23,43,...|\n",
            "|10000 maniacs_Rai...|On bended kneeI'v...|   Rock|[bend, kneeive, l...|[[-0.218630000948...|(882,[4,7,12,22,3...|(882,[4,7,12,22,3...|\n",
            "|twista_Back 2 School|[Tung Twista]. ba...|Hip Hop|[tung, twista, ba...|[[0.0,0.0,0.0,0.0...|(882,[0,1,2,3,4,7...|(882,[0,1,2,3,4,7...|\n",
            "|10000 maniacs_Ant...|For whom do the b...|   Rock|[bell, toll, sent...|[[-0.144010007381...|(882,[4,9,11,16,1...|(882,[4,9,11,16,1...|\n",
            "|10000 maniacs_All...|She walks alone o...|   Rock|[walk, alone, bri...|[[0.3143599927425...|(882,[1,3,4,7,9,1...|(882,[1,3,4,7,9,1...|\n",
            "|10000 maniacs_Bac...|Jenny. Jenny you ...|   Rock|[jenny, jenny, do...|[[0.2653599977493...|(882,[0,1,2,5,8,9...|(882,[0,1,2,5,8,9...|\n",
            "|cyndi lauper_True...|You with the sad ...|    Pop|[sad, eye, donut,...|[[-0.498860001564...|(882,[1,4,5,6,7,1...|(882,[1,4,5,6,7,1...|\n",
            "|10000 maniacs_A R...|You were looking ...|   Rock|[look, away, west...|[[-0.498860001564...|(882,[0,1,8,11,12...|(882,[0,1,8,11,12...|\n",
            "|rick astley_She M...|She makes me more...|    Pop|[make, could, eve...|[[0.3143599927425...|(882,[0,4,7,9,11,...|(882,[0,4,7,9,11,...|\n",
            "|steve earle_Nothi...|I'm the keeper of...|   Rock|[im, keeper, hear...|[[0.0,0.0,0.0,0.0...|(882,[0,5,8,10,19...|(882,[0,5,8,10,19...|\n",
            "|10000 maniacs_Mad...|\"the legs of Madd...|   Rock|[leg, maddox, kit...|[[-0.304569989442...|(882,[3,11,16,21,...|(882,[3,11,16,21,...|\n",
            "+--------------------+--------------------+-------+--------------------+--------------------+--------------------+--------------------+\n",
            "only showing top 20 rows\n",
            "\n"
          ],
          "name": "stdout"
        }
      ]
    },
    {
      "cell_type": "code",
      "metadata": {
        "id": "MKCOyDvKz0ZD",
        "colab": {
          "base_uri": "https://localhost:8080/",
          "height": 488
        },
        "outputId": "b03297bc-7422-4864-a2a9-0ca49aaf4c63"
      },
      "source": [
        "from pyspark.sql.functions import udf, explode\n",
        "from pyspark.ml.linalg import SparseVector, DenseVector\n",
        "from pyspark.sql.types import *\n",
        "\n",
        "@udf(ArrayType(IntegerType()))\n",
        "def TF_indices(tf):\n",
        "      K =  tf.indices.tolist()\n",
        "      return K\n",
        "\n",
        "@udf(ArrayType(DoubleType()))\n",
        "def TF_value(tf):\n",
        "   if isinstance(tf, SparseVector):\n",
        "      K =  tf.values.tolist()\n",
        "      return K\n",
        "\n",
        "@udf(ArrayType(IntegerType()))\n",
        "def IDF_indices(idf):\n",
        "      K =  idf.indices.tolist()\n",
        "      return K\n",
        "\n",
        "@udf(ArrayType(DoubleType()))\n",
        "def IDF_value(idf):\n",
        "   if isinstance(idf, SparseVector):\n",
        "      K =  idf.values.tolist()\n",
        "      return K\n",
        "\n",
        "@udf(IntegerType())\n",
        "def TF_len(tf):\n",
        "      K =  len(tf.indices.tolist())\n",
        "      return K\n",
        "\n",
        "@udf(IntegerType())\n",
        "def IDF_len(idf):\n",
        "      K =  len(idf.indices.tolist())\n",
        "      return K\n",
        "\n",
        "bows_Val2 = bows_2.select(\"Key\",'Genre',\"embeddings\", TF_indices(\"tf\").alias(\"TF_Ind\"), TF_value(\"tf\").alias(\"TF_Val\"),IDF_indices(\"idf\").alias(\"IDF_Ind\"), IDF_value(\"idf\").alias(\"IDF_Val\"),TF_len(\"tf\").alias(\"TF_Len\"),IDF_len(\"idf\").alias(\"IDF_Len\") )\n",
        "bows_Val2.show(truncate = True)"
      ],
      "execution_count": null,
      "outputs": [
        {
          "output_type": "stream",
          "text": [
            "+--------------------+-------+--------------------+--------------------+--------------------+--------------------+--------------------+------+-------+\n",
            "|                 Key|  Genre|          embeddings|              TF_Ind|              TF_Val|             IDF_Ind|             IDF_Val|TF_Len|IDF_Len|\n",
            "+--------------------+-------+--------------------+--------------------+--------------------+--------------------+--------------------+------+-------+\n",
            "|10000 maniacs_Mor...|   Rock|[[-0.046539001166...|[0, 1, 3, 4, 8, 1...|[1.0, 7.0, 1.0, 1...|[0, 1, 3, 4, 8, 1...|[0.58364677447042...|    29|     29|\n",
            "|10000 maniacs_Bec...|   Rock|[[-0.270639985799...|[0, 6, 7, 10, 12,...|[1.0, 1.0, 4.0, 1...|[0, 6, 7, 10, 12,...|[0.58364677447042...|    44|     44|\n",
            "|jamiroquai_Rock D...|    Pop|[[-0.071952998638...|[0, 1, 2, 3, 4, 5...|[5.0, 1.0, 2.0, 1...|[0, 1, 2, 3, 4, 5...|[2.91823387235212...|    82|     81|\n",
            "|10000 maniacs_The...|   Rock|[[-0.604569971561...|[1, 9, 11, 15, 16...|[6.0, 2.0, 2.0, 2...|[1, 9, 11, 15, 16...|[3.36260940365524...|    38|     38|\n",
            "|10000 maniacs_Eve...|   Rock|[[-0.136580005288...|[4, 12, 24, 80, 1...|[3.0, 5.0, 2.0, 1...|[4, 12, 24, 80, 1...|[2.64744047877511...|    23|     23|\n",
            "|10000 maniacs_Don...|   Rock|[[0.0,0.0,0.0,0.0...|[0, 1, 3, 5, 9, 1...|[1.0, 1.0, 1.0, 1...|[0, 1, 3, 5, 9, 1...|[0.58364677447042...|    69|     69|\n",
            "|black veil brides...|   Rock|[[0.1571100056171...|[2, 3, 4, 6, 8, 1...|[1.0, 2.0, 1.0, 4...|[2, 3, 4, 6, 8, 1...|[0.75623115598652...|    42|     41|\n",
            "|lynyrd skynyrd_I ...|   Rock|[[0.0,0.0,0.0,0.0...|[0, 1, 2, 3, 6, 7...|[3.0, 2.0, 1.0, 1...|[0, 1, 2, 3, 6, 7...|[1.75094032341127...|    54|     54|\n",
            "|10000 maniacs_Acr...|   Rock|[[-0.530860006809...|[3, 7, 17, 20, 26...|[2.0, 1.0, 3.0, 1...|[3, 7, 17, 20, 26...|[1.32607475817714...|    38|     38|\n",
            "|10000 maniacs_Pla...|   Rock|[[-0.287259995937...|[9, 11, 23, 43, 7...|[1.0, 1.0, 3.0, 1...|[9, 11, 23, 43, 7...|[0.94228058289449...|    21|     21|\n",
            "|10000 maniacs_Rai...|   Rock|[[-0.218630000948...|[4, 7, 12, 22, 32...|[3.0, 2.0, 2.0, 1...|[4, 7, 12, 22, 32...|[2.64744047877511...|    36|     36|\n",
            "|twista_Back 2 School|Hip Hop|[[0.0,0.0,0.0,0.0...|[0, 1, 2, 3, 4, 7...|[2.0, 2.0, 2.0, 8...|[0, 1, 2, 3, 4, 7...|[1.16729354894085...|   104|    104|\n",
            "|10000 maniacs_Ant...|   Rock|[[-0.144010007381...|[4, 9, 11, 16, 18...|[3.0, 1.0, 1.0, 1...|[4, 9, 11, 16, 18...|[2.64744047877511...|    53|     53|\n",
            "|10000 maniacs_All...|   Rock|[[0.3143599927425...|[1, 3, 4, 7, 9, 1...|[1.0, 2.0, 1.0, 1...|[1, 3, 4, 7, 9, 1...|[0.56043490060920...|    66|     65|\n",
            "|10000 maniacs_Bac...|   Rock|[[0.2653599977493...|[0, 1, 2, 5, 8, 9...|[1.0, 6.0, 3.0, 3...|[0, 1, 2, 5, 8, 9...|[0.58364677447042...|    80|     80|\n",
            "|cyndi lauper_True...|    Pop|[[-0.498860001564...|[1, 4, 5, 6, 7, 1...|[2.0, 3.0, 4.0, 1...|[1, 4, 5, 6, 7, 1...|[1.12086980121841...|    41|     41|\n",
            "|10000 maniacs_A R...|   Rock|[[-0.498860001564...|[0, 1, 8, 11, 12,...|[1.0, 2.0, 1.0, 1...|[0, 1, 8, 11, 12,...|[0.58364677447042...|    42|     42|\n",
            "|rick astley_She M...|    Pop|[[0.3143599927425...|[0, 4, 7, 9, 11, ...|[1.0, 1.0, 2.0, 1...|[0, 4, 7, 9, 11, ...|[0.58364677447042...|    42|     42|\n",
            "|steve earle_Nothi...|   Rock|[[0.0,0.0,0.0,0.0...|[0, 5, 8, 10, 19,...|[14.0, 1.0, 1.0, ...|[0, 5, 8, 10, 19,...|[8.17105484258596...|    35|     35|\n",
            "|10000 maniacs_Mad...|   Rock|[[-0.304569989442...|[3, 11, 16, 21, 2...|[1.0, 2.0, 1.0, 1...|[3, 11, 16, 21, 2...|[0.66303737908857...|    73|     74|\n",
            "+--------------------+-------+--------------------+--------------------+--------------------+--------------------+--------------------+------+-------+\n",
            "only showing top 20 rows\n",
            "\n"
          ],
          "name": "stdout"
        }
      ]
    },
    {
      "cell_type": "code",
      "metadata": {
        "id": "eo9mFvMc0Nfz",
        "colab": {
          "base_uri": "https://localhost:8080/",
          "height": 468
        },
        "outputId": "73476090-6386-44d4-b0fc-74133d9f3973"
      },
      "source": [
        "# from pyspark.sql.functions import udf, explode\n",
        "# from pyspark.ml.linalg import SparseVector, DenseVector\n",
        "# from pyspark.sql.types import *\n",
        "\n",
        "@udf(ArrayType(DoubleType()))\n",
        "def TFIDF_Rank(tf_val,idf_val):\n",
        "    tf_val = [float(i) for i in tf_val]\n",
        "    idf_val = [float(i) for i in idf_val]\n",
        "    products = [a * b for a, b in zip(tf_val, idf_val)]\n",
        "    return products\n",
        "\n",
        "bows_Mul2 = bows_Val2.select(\"Key\", \"Genre\", \"embeddings\",TFIDF_Rank(\"TF_Val\",\"IDF_Val\").alias(\"TF_IDF_Rank\"),\"IDF_Ind\")\n",
        "bows_Mul2.show(truncate = True)"
      ],
      "execution_count": null,
      "outputs": [
        {
          "output_type": "stream",
          "text": [
            "+--------------------+-------+--------------------+--------------------+--------------------+\n",
            "|                 Key|  Genre|          embeddings|         TF_IDF_Rank|             IDF_Ind|\n",
            "+--------------------+-------+--------------------+--------------------+--------------------+\n",
            "|10000 maniacs_Mor...|   Rock|[[-0.046539001166...|[0.58364677447042...|[0, 1, 3, 4, 8, 1...|\n",
            "|10000 maniacs_Bec...|   Rock|[[-0.270639985799...|[0.58364677447042...|[0, 6, 7, 10, 12,...|\n",
            "|jamiroquai_Rock D...|    Pop|[[-0.071952998638...|[14.5911693617606...|[0, 1, 2, 3, 4, 5...|\n",
            "|10000 maniacs_The...|   Rock|[[-0.604569971561...|[20.1756564219314...|[1, 9, 11, 15, 16...|\n",
            "|10000 maniacs_Eve...|   Rock|[[-0.136580005288...|[7.94232143632533...|[4, 12, 24, 80, 1...|\n",
            "|10000 maniacs_Don...|   Rock|[[0.0,0.0,0.0,0.0...|[0.58364677447042...|[0, 1, 3, 5, 9, 1...|\n",
            "|black veil brides...|   Rock|[[0.1571100056171...|[0.75623115598652...|[2, 3, 4, 6, 8, 1...|\n",
            "|lynyrd skynyrd_I ...|   Rock|[[0.0,0.0,0.0,0.0...|[5.25282097023383...|[0, 1, 2, 3, 6, 7...|\n",
            "|10000 maniacs_Acr...|   Rock|[[-0.530860006809...|[2.65214951635429...|[3, 7, 17, 20, 26...|\n",
            "|10000 maniacs_Pla...|   Rock|[[-0.287259995937...|[0.94228058289449...|[9, 11, 23, 43, 7...|\n",
            "|10000 maniacs_Rai...|   Rock|[[-0.218630000948...|[7.94232143632533...|[4, 7, 12, 22, 32...|\n",
            "|twista_Back 2 School|Hip Hop|[[0.0,0.0,0.0,0.0...|[2.33458709788170...|[0, 1, 2, 3, 4, 7...|\n",
            "|10000 maniacs_Ant...|   Rock|[[-0.144010007381...|[7.94232143632533...|[4, 9, 11, 16, 18...|\n",
            "|10000 maniacs_All...|   Rock|[[0.3143599927425...|[0.56043490060920...|[1, 3, 4, 7, 9, 1...|\n",
            "|10000 maniacs_Bac...|   Rock|[[0.2653599977493...|[0.58364677447042...|[0, 1, 2, 5, 8, 9...|\n",
            "|cyndi lauper_True...|    Pop|[[-0.498860001564...|[2.24173960243682...|[1, 4, 5, 6, 7, 1...|\n",
            "|10000 maniacs_A R...|   Rock|[[-0.498860001564...|[0.58364677447042...|[0, 1, 8, 11, 12,...|\n",
            "|rick astley_She M...|    Pop|[[0.3143599927425...|[0.58364677447042...|[0, 4, 7, 9, 11, ...|\n",
            "|steve earle_Nothi...|   Rock|[[0.0,0.0,0.0,0.0...|[114.394767796203...|[0, 5, 8, 10, 19,...|\n",
            "|10000 maniacs_Mad...|   Rock|[[-0.304569989442...|[0.66303737908857...|[3, 11, 16, 21, 2...|\n",
            "+--------------------+-------+--------------------+--------------------+--------------------+\n",
            "only showing top 20 rows\n",
            "\n"
          ],
          "name": "stdout"
        }
      ]
    },
    {
      "cell_type": "code",
      "metadata": {
        "id": "l5EwUCWe0iDw",
        "colab": {
          "base_uri": "https://localhost:8080/",
          "height": 468
        },
        "outputId": "44ac361f-5cb4-4cd1-d919-aa65742d44f0"
      },
      "source": [
        "@udf(ArrayType(IntegerType()))\n",
        "# # @udf(StringType())\n",
        "def Top3_pos(rank,ind):\n",
        "    rank = [float(i) for i in rank]\n",
        "    ind = [int(i) for i in ind]\n",
        "    top_ind = sorted(range(len(rank)), key=lambda i: rank[i])[-3:] # this give indices where we have top 3 values in rank\n",
        "    # top_wrd = [ind[i] for i in top_ind]\n",
        "    return top_ind\n",
        "\n",
        "@udf(ArrayType(IntegerType()))\n",
        "def Top3_wrd(rank,ind):\n",
        "    rank = [float(i) for i in rank]\n",
        "    ind = [int(i) for i in ind]\n",
        "    top_ind = sorted(range(len(rank)), key=lambda i: rank[i])[-3:] # this give indices where we have top 3 values in rank\n",
        "    top_wrd = [ind[i] for i in top_ind]\n",
        "    return top_wrd\n",
        "\n",
        "bows_wrdlevel_2 = bows_Mul2.select(\"Key\",\"Genre\",\"embeddings\", Top3_pos(\"TF_IDF_Rank\",\"IDF_Ind\").alias(\"top3_pos\"),Top3_wrd(\"TF_IDF_Rank\",\"IDF_Ind\").alias(\"top3_wrd\"))\n",
        "bows_wrdlevel_2.show()"
      ],
      "execution_count": null,
      "outputs": [
        {
          "output_type": "stream",
          "text": [
            "+--------------------+-------+--------------------+------------+---------------+\n",
            "|                 Key|  Genre|          embeddings|    top3_pos|       top3_wrd|\n",
            "+--------------------+-------+--------------------+------------+---------------+\n",
            "|10000 maniacs_Mor...|   Rock|[[-0.046539001166...| [1, 16, 17]|    [1, 59, 70]|\n",
            "|10000 maniacs_Bec...|   Rock|[[-0.270639985799...|[33, 13, 30]| [424, 54, 321]|\n",
            "|jamiroquai_Rock D...|    Pop|[[-0.071952998638...|[74, 50, 75]|[585, 249, 608]|\n",
            "|10000 maniacs_The...|   Rock|[[-0.604569971561...|  [6, 19, 8]|  [32, 174, 61]|\n",
            "|10000 maniacs_Eve...|   Rock|[[-0.136580005288...|[18, 20, 11]|[677, 767, 413]|\n",
            "|10000 maniacs_Don...|   Rock|[[0.0,0.0,0.0,0.0...|[41, 19, 34]| [169, 45, 107]|\n",
            "|black veil brides...|   Rock|[[0.1571100056171...|  [5, 15, 3]|   [13, 147, 6]|\n",
            "|lynyrd skynyrd_I ...|   Rock|[[0.0,0.0,0.0,0.0...| [16, 4, 20]|    [33, 6, 41]|\n",
            "|10000 maniacs_Acr...|   Rock|[[-0.530860006809...|[24, 31, 27]|[226, 490, 298]|\n",
            "|10000 maniacs_Pla...|   Rock|[[-0.287259995937...|  [2, 19, 7]| [23, 832, 195]|\n",
            "|10000 maniacs_Rai...|   Rock|[[-0.218630000948...|  [17, 8, 4]|  [147, 53, 32]|\n",
            "|twista_Back 2 School|Hip Hop|[[0.0,0.0,0.0,0.0...|[14, 45, 69]| [24, 188, 378]|\n",
            "|10000 maniacs_Ant...|   Rock|[[-0.144010007381...| [21, 0, 47]|  [199, 4, 760]|\n",
            "|10000 maniacs_All...|   Rock|[[0.3143599927425...|[28, 29, 18]| [138, 155, 65]|\n",
            "|10000 maniacs_Bac...|   Rock|[[0.2653599977493...|[61, 74, 58]|[370, 691, 351]|\n",
            "|cyndi lauper_True...|    Pop|[[-0.498860001564...| [5, 26, 34]| [11, 174, 451]|\n",
            "|10000 maniacs_A R...|   Rock|[[-0.498860001564...|[16, 26, 15]|  [65, 251, 63]|\n",
            "|rick astley_She M...|    Pop|[[0.3143599927425...|  [8, 5, 12]|   [18, 15, 30]|\n",
            "|steve earle_Nothi...|   Rock|[[0.0,0.0,0.0,0.0...| [17, 29, 0]|  [130, 371, 0]|\n",
            "|10000 maniacs_Mad...|   Rock|[[-0.304569989442...|[39, 60, 59]|[368, 734, 706]|\n",
            "+--------------------+-------+--------------------+------------+---------------+\n",
            "only showing top 20 rows\n",
            "\n"
          ],
          "name": "stdout"
        }
      ]
    },
    {
      "cell_type": "markdown",
      "metadata": {
        "id": "XIiXVW-3scRz"
      },
      "source": [
        "Select embeddings at those top 3 positions"
      ]
    },
    {
      "cell_type": "code",
      "metadata": {
        "id": "FKGpybZJsfk2",
        "colab": {
          "base_uri": "https://localhost:8080/",
          "height": 488
        },
        "outputId": "29d66e4f-4e5f-4b13-fad2-b634ed13aeee"
      },
      "source": [
        "from collections import Counter\n",
        "from pyspark.sql.functions import udf, explode\n",
        "from pyspark.sql.functions import struct, array\n",
        "from pyspark.ml.linalg import SparseVector, DenseVector\n",
        "from pyspark.sql.types import *\n",
        "from pyspark.ml.linalg import Vectors, VectorUDT\n",
        "\n",
        "\n",
        "# @udf(ArrayType(ArrayType(FloatType())))\n",
        "# @udf(ArrayType(FloatType()))\n",
        "# @udf(StringType())\n",
        "# @udf(IntegerType())\n",
        "@udf(VectorUDT())\n",
        "def get_embd_top3(indices,embedd):\n",
        "  \n",
        "  # merged = list(itertools.chain(*embedd))\n",
        "  # merged = functools.reduce(operator.iconcat, embd_vec, [])\n",
        "  # mer_floats = [float(np_float) for np_float in merged]\n",
        "  # ver = Vectors.dense(mer_floats)\n",
        "  #create list of list from embedding using positions\n",
        "  # indices = [int(i) for i in indices]\n",
        "  # embedd = v[1]\n",
        "  embd_top3 = []\n",
        "  \n",
        "  for i in indices:\n",
        "    sublist = embedd[i].values.tolist()\n",
        "    sublist = [float(np_float) for np_float in sublist]\n",
        "    embd_top3.append(sublist)\n",
        "  \n",
        "  #flatten out the list\n",
        "  # merged = list(itertools.chain.from_iterable(embd_top3))\n",
        "  merged = [j for sub in embd_top3 for j in sub]\n",
        "  \n",
        "  #convert to vector and send\n",
        "  ver = Vectors.dense(merged)\n",
        "\n",
        "  # tp = type(merged)\n",
        "  return ver\n",
        "  # return str(type(ver))\n",
        "  # return len(merged) \n",
        "\n",
        "bows_embed_2 = bows_wrdlevel_2.select(\"Key\",\"Genre\", get_embd_top3(\"top3_pos\", \"embeddings\").alias(\"features\"))\n",
        "# bows_embed_2.na.drop(subset=[\"features\"])\n",
        "bows_embed_2.show(truncate = False)\n",
        "# bows_wrdlevel_2.select('embeddings').show(truncate = False)"
      ],
      "execution_count": null,
      "outputs": [
        {
          "output_type": "stream",
          "text": [
            "+-------------------------------------+-------+----------------------------------------------------------------------------------------------------------------------------------------------------------------------------------------------------------------------------------------------------------------------------------------------------------------------------------------------------------------------------------------------------------------------------------------------------------------------------------------------------------------------------------------------------------------------------------------------------------------------------------------------------------------------------------------------------------------------------------------------------------------------------------------------------------------------------------------------------------------------------------------------------------------------------------------------------------------------------------------------------------------------------------------------------------------------------------------------------------------------------------------------------------------------------------------------------------------------------------------------------------------------------------------------------------------------------------------------------------------------------------------------------------------------------------------------------------------------------------------------------------------------------------------------------------------------------------------------------------------------------------------------------------------------------------------------------------------------------------------------------------------------------------------------------------------------------------------------------------------------------------------------------------------------------------------------------------------------------------------------------------------------------------------------------------------------------------------------------------------------------------------------------------------------------------------------------------------------------------------------------------------------------------------------------------------------------------------------------------------------------------------------------------------------------------------------------------------------------------------------------------------------------------------------------------------------------------------------------------------------------------------------------------------------------------------------------------------------------------------------------------------------------------------------------------------------------------------------------------------------------------------------------------------------------------------------------------------------------------------------------------------------------------------------------------------------------------------------------------------------------------------------------------------------------------------------------------------------------------------------------------------------------------------------------------------------------------------------------------------------------------------------------------------------------------------------------------------------------------------------------------------------------------------------------------------------------------------------------------------------------------------------------------------------------------------------------------------------------------------------------------------------------------------------------------------------------------------------------------------------------------------------------------------------------------------------------------------------------------------------------------------------------------------------------------------------------------------------------------------------------------------------------------------------------------------------------------------------------------------------------------------------------------------------------------------------------------------------------------------------------------------------------------------------------------------------------------------------------------------------------------------------------------------------------------------------------------------------------------------------------------------------------------------------------------------------------------------------------------------------------------------------------------------------------------------------------------------------------------------------------------------------------------------------------------------------------------------------------------------------------------------------------------------------------------------------------------------------------------------------------------------------------------------------------------------------------------------------------------------------------------------------------------------------------------------------------------------------------------------------------------------------------------------------------------------------------------------------------------------------------------------------------------------------------------------------------------------------------------------------------------------------------------------------------------------------------------------------------------------------------------------------------------------------------------------------------------------------------------------------------------------------------------------------------------------------------------------------------------------------------------------------------------------------------------------------------------------------------------------------------------------------------------------------------------------------------------------------------------------------------+\n",
            "|Key                                  |Genre  |features                                                                                                                                                                                                                                                                                                                                                                                                                                                                                                                                                                                                                                                                                                                                                                                                                                                                                                                                                                                                                                                                                                                                                                                                                                                                                                                                                                                                                                                                                                                                                                                                                                                                                                                                                                                                                                                                                                                                                                                                                                                                                                                                                                                                                                                                                                                                                                                                                                                                                                                                                                                                                                                                                                                                                                                                                                                                                                                                                                                                                                                                                                                                                                                                                                                                                                                                                                                                                                                                                                                                                                                                                                                                                                                                                                                                                                                                                                                                                                                                                                                                                                                                                                                                                                                                                                                                                                                                                                                                                                                                                                                                                                                                                                                                                                                                                                                                                                                                                                                                                                                                                                                                                                                                                                                                                                                                                                                                                                                                                                                                                                                                                                                                                                                                                                                                                                                                                                                                                                                                                                                                                                                                                                                                                                            |\n",
            "+-------------------------------------+-------+----------------------------------------------------------------------------------------------------------------------------------------------------------------------------------------------------------------------------------------------------------------------------------------------------------------------------------------------------------------------------------------------------------------------------------------------------------------------------------------------------------------------------------------------------------------------------------------------------------------------------------------------------------------------------------------------------------------------------------------------------------------------------------------------------------------------------------------------------------------------------------------------------------------------------------------------------------------------------------------------------------------------------------------------------------------------------------------------------------------------------------------------------------------------------------------------------------------------------------------------------------------------------------------------------------------------------------------------------------------------------------------------------------------------------------------------------------------------------------------------------------------------------------------------------------------------------------------------------------------------------------------------------------------------------------------------------------------------------------------------------------------------------------------------------------------------------------------------------------------------------------------------------------------------------------------------------------------------------------------------------------------------------------------------------------------------------------------------------------------------------------------------------------------------------------------------------------------------------------------------------------------------------------------------------------------------------------------------------------------------------------------------------------------------------------------------------------------------------------------------------------------------------------------------------------------------------------------------------------------------------------------------------------------------------------------------------------------------------------------------------------------------------------------------------------------------------------------------------------------------------------------------------------------------------------------------------------------------------------------------------------------------------------------------------------------------------------------------------------------------------------------------------------------------------------------------------------------------------------------------------------------------------------------------------------------------------------------------------------------------------------------------------------------------------------------------------------------------------------------------------------------------------------------------------------------------------------------------------------------------------------------------------------------------------------------------------------------------------------------------------------------------------------------------------------------------------------------------------------------------------------------------------------------------------------------------------------------------------------------------------------------------------------------------------------------------------------------------------------------------------------------------------------------------------------------------------------------------------------------------------------------------------------------------------------------------------------------------------------------------------------------------------------------------------------------------------------------------------------------------------------------------------------------------------------------------------------------------------------------------------------------------------------------------------------------------------------------------------------------------------------------------------------------------------------------------------------------------------------------------------------------------------------------------------------------------------------------------------------------------------------------------------------------------------------------------------------------------------------------------------------------------------------------------------------------------------------------------------------------------------------------------------------------------------------------------------------------------------------------------------------------------------------------------------------------------------------------------------------------------------------------------------------------------------------------------------------------------------------------------------------------------------------------------------------------------------------------------------------------------------------------------------------------------------------------------------------------------------------------------------------------------------------------------------------------------------------------------------------------------------------------------------------------------------------------------------------------------------------------------------------------------------------------------------------------------------------------------------------------------------+\n",
            "|10000 maniacs_More Than This         |Rock   |[0.05869000032544136,0.40272998809814453,0.3863399922847748,-0.5888800024986267,-0.24626000225543976,-0.3104200065135956,0.013240000233054161,0.07545600086450577,0.22054000198841095,0.06422600150108337,-0.2823300063610077,0.6980100274085999,0.39535000920295715,-0.10333000123500824,-0.08488599956035614,-0.4986500144004822,0.23265999555587769,0.5915700197219849,-0.7534599900245667,0.07566899806261063,0.4355500042438507,-0.3230400085449219,0.5109900236129761,0.12269999831914902,0.010212999768555164,-0.17402000725269318,-0.5311800241470337,-0.5912399888038635,0.21893000602722168,-0.39508000016212463,0.1096699982881546,0.6465299725532532,-0.32986000180244446,0.20874999463558197,0.3120900094509125,0.3968999981880188,0.23555999994277954,0.14959000051021576,0.04461799934506416,-0.03985099866986275,-0.6700199842453003,-0.2665500044822693,-0.228860005736351,-0.7589100003242493,0.023181000724434853,0.06491299718618393,0.6395000219345093,-0.5109999775886536,0.149959996342659,-1.3028000593185425,0.13911999762058258,-0.04858800023794174,0.011076999828219414,1.2961000204086304,0.33386000990867615,-2.570499897003174,-0.28143998980522156,-0.2040800005197525,1.6793999671936035,1.0534000396728516,-0.24246999621391296,1.063099980354309,-0.3996399939060211,0.15578000247478485,1.1181000471115112,0.1907300055027008,0.4435499906539917,0.5940600037574768,-0.3441300094127655,-0.8905900120735168,0.25290000438690186,-0.844980001449585,-0.021412000060081482,-0.5343700051307678,0.16314999759197235,-0.3569999933242798,-0.1312199980020523,0.05780699849128723,-0.8130800127983093,0.47247999906539917,0.9139500260353088,-0.3151699900627136,-0.8087599873542786,-0.25029000639915466,-1.9391000270843506,-0.6684100031852722,0.7736300230026245,0.21205000579357147,-0.17102999985218048,-0.44721001386642456,-0.25470998883247375,-0.2139900028705597,-0.2714200019836426,-0.45612001419067383,-0.40669000148773193,0.1555200070142746,0.4151900112628937,-0.3597399890422821,0.4371800124645233,0.10120999813079834,0.08570300042629242,-0.22201000154018402,0.16569000482559204,0.1337299942970276,0.38238999247550964,0.3540099859237671,0.01286999974399805,0.22461000084877014,-0.4381699860095978,0.5016400218009949,-0.3587400019168854,-0.3498300015926361,0.05515599995851517,0.6964799761772156,-0.17958000302314758,0.06792599707841873,0.39100998640060425,0.1603900045156479,-0.26635000109672546,-0.2113800048828125,0.5369799733161926,0.49379000067710876,0.9366000294685364,0.6690199971199036,0.21793000400066376,-0.4664199948310852,0.22382999956607819,-0.3620400130748749,-0.17655999958515167,0.17479999363422394,-0.20366999506950378,0.13931000232696533,0.019832000136375427,-0.10412999987602234,-0.20243999361991882,0.550029993057251,-0.15459999442100525,0.986549973487854,-0.2686299979686737,-0.29089999198913574,-0.3286600112915039,-0.3418799936771393,-0.16943000257015228,-0.4200100004673004,-0.046727001667022705,-0.1632699966430664,0.7082399725914001,-0.7491099834442139,-0.09155900031328201,-0.9617800116539001,-0.19746999442577362,0.1028200015425682,0.5522099733352661,1.381600022315979,-0.6563599705696106,-3.250200033187866,-0.3155600130558014,-1.2055000066757202,1.770900011062622,0.4025999903678894,-0.7982699871063232,1.1597000360488892,-0.33041998744010925,0.3138200044631958,0.773859977722168,0.22595000267028809,0.5247099995613098,-0.034053001552820206,0.32047998905181885,0.07994800060987473,0.1775200068950653,-0.4942600131034851,-0.7004500031471252,-0.44569000601768494,0.17244000732898712,0.20277999341487885,0.023291999474167824,-0.20677000284194946,-1.0157999992370605,0.18324999511241913,0.567520022392273,0.31821000576019287,-0.6501100063323975,0.6827700138092041,-0.8658499717712402,-0.05939200147986412,-0.29264000058174133,-0.5566800236701965,-0.3470500111579895,-0.3289499878883362,0.4021500051021576,-0.12746000289916992,-0.20227999985218048,0.8736799955368042,-0.5450000166893005,0.7920500040054321,-0.20694999396800995,-0.0742729976773262,0.758080005645752,-0.3424299955368042,-0.03819400072097778,-0.24487000703811646,0.7281200289726257,-0.3996100127696991,0.08317200094461441,0.043953001499176025,-0.3914099931716919,0.3343999981880188,-0.5754500031471252,0.08745899796485901,0.28786998987197876,-0.06730999797582626,0.3090600073337555,-0.263839989900589,-0.13231000304222107,-0.20757000148296356,0.333950012922287,-0.33847999572753906,-0.3174299895763397,-0.4833599925041199,0.14640000462532043,-0.37303999066352844,0.345770001411438,0.05204100161790848,0.4494599997997284,-0.46970999240875244,0.026280000805854797,-0.5415499806404114,-0.15518000721931458,-0.14106999337673187,-0.03972199931740761,0.2827700078487396,0.14393000304698944,0.2346400022506714,-0.3102099895477295,0.08617299795150757,0.20397000014781952,0.5262399911880493,0.17163999378681183,-0.08237800002098083,-0.7178699970245361,-0.41530999541282654,0.2033499926328659,-0.12762999534606934,0.41367000341415405,0.5518699884414673,0.5790799856185913,-0.33476999402046204,-0.36559000611305237,-0.5485699772834778,-0.06289199739694595,0.26583999395370483,0.30204999446868896,0.9977499842643738,-0.8048099875450134,-3.0243000984191895,0.012539999559521675,-0.36941999197006226,2.2167000770568848,0.7220100164413452,-0.24977999925613403,0.9213600158691406,0.03451399877667427,0.46744999289512634,1.1079000234603882,-0.1935800015926361,-0.07457499951124191,0.23352999985218048,-0.05206200107932091,-0.22044000029563904,0.057162001729011536,-0.1580599993467331,-0.3079800009727478,-0.41624999046325684,0.379720002412796,0.1500599980354309,-0.5321199893951416,-0.20550000667572021,-1.2525999546051025,0.07162400335073471,0.7056499719619751,0.49744001030921936,-0.42063000798225403,0.2614800035953522,-1.5379999876022339,-0.30223000049591064,-0.07343800365924835,-0.2831200063228607,0.3710399866104126,-0.25216999650001526,0.016215000301599503,-0.01709900051355362,-0.3898400068283081,0.874239981174469,-0.7256900072097778,-0.5105800032615662,-0.5202800035476685,-0.14589999616146088,0.8277999758720398,0.2706199884414673]              |\n",
            "|10000 maniacs_Because The Night      |Rock   |[-0.21863000094890594,-0.42664000391960144,0.519599974155426,0.00431030010804534,0.5804499983787537,-0.1087300032377243,-0.3772599995136261,0.45660001039505005,-0.6062700152397156,-0.07577300071716309,0.11305999755859375,0.17702999711036682,0.16050000488758087,0.0745140016078949,0.636489987373352,-0.07885199785232544,0.7526800036430359,-0.2496200054883957,-0.5162799954414368,-0.33348000049591064,0.6675400137901306,-0.34182998538017273,0.6131600141525269,0.31668001413345337,0.6484599709510803,-0.07931199669837952,-0.06521899998188019,-0.17718000710010529,-0.3243899941444397,0.5186799764633179,-0.23423999547958374,0.34380999207496643,0.04685100167989731,0.7402499914169312,-0.47005000710487366,0.5368499755859375,-0.3554899990558624,0.407370001077652,-0.09342099726200104,-0.1343899965286255,-0.41969001293182373,-0.3004100024700165,0.2864600121974945,0.37419000267982483,-0.4605399966239929,-0.3070000112056732,-0.38580000400543213,-0.6931700110435486,-9.246100089512765E-4,-0.6198400259017944,0.11977999657392502,0.14949999749660492,0.17833000421524048,1.5312999486923218,-0.9244499802589417,-3.042799949645996,0.030760999768972397,-0.643589973449707,2.3824000358581543,0.5621899962425232,-0.5602099895477295,1.0263999700546265,-0.45142999291419983,0.14116999506950378,0.6594399809837341,0.37571999430656433,0.09833399951457977,0.38304001092910767,-0.07688199728727341,-0.2178100049495697,-0.29892000555992126,-0.4945800006389618,0.09523899853229523,-0.63059002161026,-0.06131099909543991,0.17767000198364258,-0.14050999283790588,0.47181999683380127,-0.9589099884033203,0.04533400014042854,0.8080000281333923,-0.02686700038611889,-0.27483001351356506,0.35541000962257385,-0.8289600014686584,-0.7883800268173218,-0.0797320008277893,0.22940999269485474,-0.45012998580932617,-0.3003999888896942,-0.5271599888801575,0.11358000338077545,-0.4990600049495697,0.8270000219345093,-0.5699099898338318,0.2514300048351288,-0.4026600122451782,-0.2914600074291229,1.381600022315979,0.18084000051021576,0.16274000704288483,0.11311999708414078,0.18291999399662018,0.47503000497817993,0.13765999674797058,-0.3559800088405609,-0.219760000705719,0.0655289962887764,-0.2980799973011017,-0.10717999935150146,0.2832599878311157,0.09245000034570694,0.35833001136779785,-0.2808600068092346,0.2999500036239624,-0.6086199879646301,-0.11749999970197678,-0.8461800217628479,-0.40233999490737915,0.6275200247764587,0.8082200288772583,0.36594000458717346,0.2198300063610077,-0.11017999798059464,0.3700999915599823,-0.40097999572753906,-0.2732599973678589,-0.469870001077652,0.3326300084590912,0.054405998438596725,0.026774000376462936,0.02793099917471409,0.3579399883747101,0.0962740033864975,0.43727999925613403,0.20016999542713165,0.3552500009536743,-0.39315998554229736,-0.10045000165700912,0.3843800127506256,-0.07032900303602219,-0.7765700221061707,0.3578000068664551,-0.20942999422550201,-0.3228299915790558,0.04554799944162369,0.14435000717639923,0.44530001282691956,-0.0685259997844696,-1.2348999977111816,0.2929700016975403,-0.5110999941825867,0.4533100128173828,1.2063000202178955,-0.5378400087356567,-2.509399890899658,-0.5221800208091736,-0.3432900011539459,1.676200032234192,0.6187599897384644,-0.2737399935722351,0.4239000082015991,-0.3209899961948395,0.305759996175766,0.06624600291252136,-0.1637900024652481,0.3275099992752075,0.35787999629974365,0.3102400004863739,0.33199000358581543,-0.44481000304222107,-0.016519999131560326,0.20545999705791473,-0.9674400091171265,-0.0779229998588562,-0.5824900269508362,-0.22703999280929565,-0.25731000304222107,-0.5663999915122986,0.31742000579833984,0.25824999809265137,0.509090006351471,-0.33379000425338745,-0.28744998574256897,-1.0428999662399292,0.0801519975066185,0.2660199999809265,1.0223000049591064,0.13638000190258026,-0.16270999610424042,0.20141999423503876,0.7279099822044373,0.03811100125312805,0.12525999546051025,-0.875469982624054,0.07955600321292877,-0.13923999667167664,-0.17339999973773956,0.047240000218153,0.10525999963283539,-0.542639970779419,0.4147599935531616,1.0321999788284302,-0.40244001150131226,0.4669100046157837,0.2181600034236908,-0.07486400008201599,0.47332000732421875,0.08099599927663803,-0.22078999876976013,-0.12807999551296234,-0.1143999993801117,0.5089100003242493,0.11568000167608261,0.028210999444127083,-0.3628000020980835,0.4382300078868866,0.04751100018620491,0.20282000303268433,0.4985699951648712,-0.10068000108003616,0.13268999755382538,0.16971999406814575,0.11653000116348267,0.3135499954223633,0.2571299970149994,0.09278299659490585,-0.5682600140571594,-0.5297499895095825,-0.05145600065588951,-0.673259973526001,0.9253299832344055,0.26930001378059387,0.2273399978876114,0.6636499762535095,0.26221001148223877,0.19719000160694122,0.26089999079704285,0.1877399981021881,-0.34540000557899475,-0.4263499975204468,0.13975000381469727,0.5633800029754639,-0.5690699815750122,0.12398000061511993,-0.12894000113010406,0.724839985370636,-0.2610499858856201,-0.2631399929523468,-0.4360499978065491,0.07890799641609192,-0.8414599895477295,0.5159500241279602,1.3997000455856323,-0.7645999789237976,-3.1452999114990234,-0.2920199930667877,-0.3124699890613556,1.5128999948501587,0.5243499875068665,0.21456000208854675,0.42451998591423035,-0.08841100335121155,-0.1780499964952469,1.187600016593933,0.10578999668359756,0.7657099962234497,0.21913999319076538,0.358240008354187,-0.11636000126600266,0.0932610034942627,-0.6248300075531006,-0.21897999942302704,0.21796000003814697,0.740559995174408,-0.43735000491142273,0.14342999458312988,0.14719000458717346,-1.1605000495910645,-0.05050799995660782,0.1267700046300888,-0.014395000413060188,-0.9867600202560425,-0.09129700064659119,-1.205399990081787,-0.11974000185728073,0.047846999019384384,-0.5400099754333496,0.5245699882507324,-0.709630012512207,-0.32528001070022583,-0.13459999859333038,-0.4131399989128113,0.33434998989105225,-0.007241200190037489,0.32253000140190125,-0.0442189984023571,-1.2969000339508057,0.7621700167655945,0.46349000930786133]                                   |\n",
            "|jamiroquai_Rock Dust Light Star      |Pop    |[0.007676700130105019,0.2577199935913086,0.2938700020313263,-0.41822001338005066,0.04647500067949295,0.3243600130081177,0.43424999713897705,0.5831199884414673,-0.08875799924135208,0.0893549993634224,-0.03361700102686882,0.5921599864959717,0.49904999136924744,0.5367699861526489,0.28266000747680664,0.14530999958515167,0.6903700232505798,-0.33177998661994934,-0.6680999994277954,0.41225001215934753,0.21528999507427216,0.2976599931716919,0.5562599897384644,0.11195000261068344,-0.0022160999942570925,-0.16152000427246094,0.42419999837875366,-0.4709100127220154,-0.40382999181747437,0.31536999344825745,0.7491300106048584,0.07358799874782562,-0.2302899956703186,0.27952998876571655,0.7210699915885925,-0.17583000659942627,0.0885310024023056,0.33531999588012695,0.2633900046348572,0.025603000074625015,-0.822130024433136,-0.38113999366760254,0.11630000174045563,-0.32468000054359436,0.1773100048303604,0.33131998777389526,0.23633000254631042,0.1089399978518486,-0.23348000645637512,-0.3633599877357483,0.6761999726295471,-0.07202400267124176,0.08886899799108505,0.8256800174713135,-0.6067900061607361,-2.0092999935150146,-0.9836500287055969,-0.7244600057601929,1.4737000465393066,0.7888500094413757,-0.2678700089454651,1.3380999565124512,0.26451998949050903,0.5315300226211548,0.8167799711227417,0.020476000383496284,0.6397600173950195,-0.044943999499082565,0.10130999982357025,-0.07023800164461136,-0.19989000260829926,0.24873000383377075,0.7217699885368347,0.04648600146174431,-1.2982999578525778E-5,-0.0337739996612072,0.11744000017642975,-0.15429000556468964,-1.1241999864578247,0.2698200047016144,0.3764199912548065,0.43342000246047974,-0.8146200180053711,-0.24209000170230865,-1.1008000373840332,-0.8519799709320068,0.6408600211143494,-0.3143799901008606,-0.8560199737548828,0.1667100042104721,0.09518399834632874,-0.5997200012207031,0.17708000540733337,0.10915999859571457,-0.2873300015926361,0.1612900048494339,-0.8450499773025513,-0.9745000004768372,0.46233999729156494,-0.40303000807762146,0.08570300042629242,-0.22201000154018402,0.16569000482559204,0.1337299942970276,0.38238999247550964,0.3540099859237671,0.01286999974399805,0.22461000084877014,-0.4381699860095978,0.5016400218009949,-0.3587400019168854,-0.3498300015926361,0.05515599995851517,0.6964799761772156,-0.17958000302314758,0.06792599707841873,0.39100998640060425,0.1603900045156479,-0.26635000109672546,-0.2113800048828125,0.5369799733161926,0.49379000067710876,0.9366000294685364,0.6690199971199036,0.21793000400066376,-0.4664199948310852,0.22382999956607819,-0.3620400130748749,-0.17655999958515167,0.17479999363422394,-0.20366999506950378,0.13931000232696533,0.019832000136375427,-0.10412999987602234,-0.20243999361991882,0.550029993057251,-0.15459999442100525,0.986549973487854,-0.2686299979686737,-0.29089999198913574,-0.3286600112915039,-0.3418799936771393,-0.16943000257015228,-0.4200100004673004,-0.046727001667022705,-0.1632699966430664,0.7082399725914001,-0.7491099834442139,-0.09155900031328201,-0.9617800116539001,-0.19746999442577362,0.1028200015425682,0.5522099733352661,1.381600022315979,-0.6563599705696106,-3.250200033187866,-0.3155600130558014,-1.2055000066757202,1.770900011062622,0.4025999903678894,-0.7982699871063232,1.1597000360488892,-0.33041998744010925,0.3138200044631958,0.773859977722168,0.22595000267028809,0.5247099995613098,-0.034053001552820206,0.32047998905181885,0.07994800060987473,0.1775200068950653,-0.4942600131034851,-0.7004500031471252,-0.44569000601768494,0.17244000732898712,0.20277999341487885,0.023291999474167824,-0.20677000284194946,-1.0157999992370605,0.18324999511241913,0.567520022392273,0.31821000576019287,-0.6501100063323975,0.6827700138092041,-0.8658499717712402,-0.05939200147986412,-0.29264000058174133,-0.5566800236701965,-0.3470500111579895,-0.3289499878883362,0.4021500051021576,-0.12746000289916992,-0.20227999985218048,0.8736799955368042,-0.5450000166893005,0.7920500040054321,-0.20694999396800995,-0.0742729976773262,0.758080005645752,-0.3424299955368042,-0.03819400072097778,-0.24487000703811646,0.7281200289726257,-0.3996100127696991,0.08317200094461441,0.043953001499176025,-0.3914099931716919,0.3343999981880188,-0.5754500031471252,0.08745899796485901,0.28786998987197876,-0.06730999797582626,0.3090600073337555,-0.263839989900589,-0.13231000304222107,-0.20757000148296356,0.333950012922287,-0.33847999572753906,-0.3174299895763397,-0.4833599925041199,0.14640000462532043,-0.37303999066352844,0.345770001411438,0.05204100161790848,0.4494599997997284,-0.46970999240875244,0.026280000805854797,-0.5415499806404114,-0.15518000721931458,-0.14106999337673187,-0.03972199931740761,0.2827700078487396,0.14393000304698944,0.2346400022506714,-0.3102099895477295,0.08617299795150757,0.20397000014781952,0.5262399911880493,0.17163999378681183,-0.08237800002098083,-0.7178699970245361,-0.41530999541282654,0.2033499926328659,-0.12762999534606934,0.41367000341415405,0.5518699884414673,0.5790799856185913,-0.33476999402046204,-0.36559000611305237,-0.5485699772834778,-0.06289199739694595,0.26583999395370483,0.30204999446868896,0.9977499842643738,-0.8048099875450134,-3.0243000984191895,0.012539999559521675,-0.36941999197006226,2.2167000770568848,0.7220100164413452,-0.24977999925613403,0.9213600158691406,0.03451399877667427,0.46744999289512634,1.1079000234603882,-0.1935800015926361,-0.07457499951124191,0.23352999985218048,-0.05206200107932091,-0.22044000029563904,0.057162001729011536,-0.1580599993467331,-0.3079800009727478,-0.41624999046325684,0.379720002412796,0.1500599980354309,-0.5321199893951416,-0.20550000667572021,-1.2525999546051025,0.07162400335073471,0.7056499719619751,0.49744001030921936,-0.42063000798225403,0.2614800035953522,-1.5379999876022339,-0.30223000049591064,-0.07343800365924835,-0.2831200063228607,0.3710399866104126,-0.25216999650001526,0.016215000301599503,-0.01709900051355362,-0.3898400068283081,0.874239981174469,-0.7256900072097778,-0.5105800032615662,-0.5202800035476685,-0.14589999616146088,0.8277999758720398,0.2706199884414673]           |\n",
            "|10000 maniacs_These Are Days         |Rock   |[-0.2670300006866455,0.4491100013256073,0.5547800064086914,-0.6900299787521362,0.046174999326467514,-0.4304400086402893,-0.2934800088405609,1.0148999691009521,-0.3375700116157532,-0.09638799726963043,-0.28176000714302063,0.4182800054550171,0.5835700035095215,-0.07878799736499786,-0.23510999977588654,-0.7417399883270264,0.682420015335083,0.7715200185775757,-0.8069800138473511,0.13537000119686127,0.1915699988603592,-0.5176600217819214,0.3076399862766266,0.686240017414093,0.15602999925613403,-0.13725000619888306,0.06421499699354172,-0.2531900107860565,0.333050012588501,-0.6133599877357483,-0.6091799736022949,0.7231600284576416,-0.29642000794410706,0.34351998567581177,0.3623400032520294,0.7416200041770935,0.30483999848365784,0.41837000846862793,-0.351639986038208,-0.4167500138282776,-0.32864999771118164,-0.5672900080680847,-0.11948999762535095,-0.7070299983024597,-0.2091600000858307,0.050620999187231064,0.05707800015807152,-0.5636299848556519,0.032940998673439026,-1.1897000074386597,0.04670000076293945,-0.4823499917984009,-0.12547999620437622,1.0880000591278076,0.0952330008149147,-2.526400089263916,-0.155689999461174,-0.08178699761629105,1.9322999715805054,0.7541300058364868,-0.2112099975347519,0.777899980545044,-0.41152000427246094,-0.01998800039291382,0.8328499794006348,0.45991000533103943,0.19577999413013458,1.1234999895095825,-0.21462999284267426,-1.0439000129699707,0.6465299725532532,-1.0830999612808228,-0.4731599986553192,-0.7650899887084961,0.22127999365329742,-0.3860900104045868,-0.24266000092029572,0.28376999497413635,-0.8266000151634216,-0.022102000191807747,0.9438999891281128,-0.4006899893283844,-0.653219997882843,-0.053925998508930206,-1.643399953842163,-0.5715799927711487,0.5072500109672546,0.24536000192165375,0.3271999955177307,-0.5395299792289734,-0.1252100020647049,0.07123400270938873,-0.1423500031232834,-0.4136500060558319,-0.6828799843788147,0.22851000726222992,0.5605599880218506,-0.8724700212478638,0.8382800221443176,0.4650000035762787,0.0,0.0,0.0,0.0,0.0,0.0,0.0,0.0,0.0,0.0,0.0,0.0,0.0,0.0,0.0,0.0,0.0,0.0,0.0,0.0,0.0,0.0,0.0,0.0,0.0,0.0,0.0,0.0,0.0,0.0,0.0,0.0,0.0,0.0,0.0,0.0,0.0,0.0,0.0,0.0,0.0,0.0,0.0,0.0,0.0,0.0,0.0,0.0,0.0,0.0,0.0,0.0,0.0,0.0,0.0,0.0,0.0,0.0,0.0,0.0,0.0,0.0,0.0,0.0,0.0,0.0,0.0,0.0,0.0,0.0,0.0,0.0,0.0,0.0,0.0,0.0,0.0,0.0,0.0,0.0,0.0,0.0,0.0,0.0,0.0,0.0,0.0,0.0,0.0,0.0,0.0,0.0,0.0,0.0,0.0,0.0,0.0,0.0,0.0,0.0,-0.3397899866104126,0.20940999686717987,0.46347999572753906,-0.6479200124740601,-0.3837699890136719,0.038033999502658844,0.1712699979543686,0.15977999567985535,0.46619001030921936,-0.019169000908732414,0.41479000449180603,-0.34349000453948975,0.26872000098228455,0.04464000090956688,0.4213100075721741,-0.4103200137615204,0.15458999574184418,0.022238999605178833,-0.6465299725532532,0.25255998969078064,0.043136000633239746,-0.1944500058889389,0.4651600122451782,0.4565100073814392,0.6858800053596497,0.09129499644041061,0.21875,-0.7035099864006042,0.16785000264644623,-0.35078999400138855,-0.12634000182151794,0.6638399958610535,-0.2581999897956848,0.03654199838638306,-0.1360500007867813,0.4025300145149231,0.14289000630378723,0.3813199996948242,-0.12283000349998474,-0.45886000990867615,-0.2528199851512909,-0.30432000756263733,-0.11214999854564667,-0.261819988489151,-0.22482000291347504,-0.44554001092910767,0.29910001158714294,-0.8561199903488159,-0.14503000676631927,-0.4908599853515625,0.008297299966216087,-0.17490999400615692,0.2752400040626526,1.4400999546051025,-0.2123900055885315,-2.8434998989105225,-0.2795799970626831,-0.4572199881076813,1.6385999917984009,0.7880799770355225,-0.552619993686676,0.6499999761581421,0.08642599731683731,0.3901199996471405,1.0631999969482422,-0.3537899851799011,0.4832800030708313,0.34599998593330383,0.8417400121688843,0.09870699793100357,-0.24212999641895294,-0.27052998542785645,0.04528699815273285,-0.40147000551223755,0.11394999921321869,0.006222600117325783,0.03667299821972847,0.018518000841140747,-1.021299958229065,-0.20805999636650085,0.640720009803772,-0.06876300275325775,-0.5863500237464905,0.33476001024246216,-1.1432000398635864,-0.11479999870061874,-0.2509100139141083,-0.45906999707221985,-0.09681899845600128,-0.17946000397205353,-0.06335099786520004,-0.6741200089454651,-0.06889499723911285,0.5360400080680847,-0.8777300119400024,0.3180199861526489,-0.3924199938774109,-0.2339400053024292,0.47297999262809753,-0.02880300022661686]                                                                                                                                                                                                                                                                                                                                                                                                                                                                                                                                                                                                                                                                                                                                                                                                                                                                                                                                                                                                                                                                                                                                                                                                                                                                                                                                                                                                                                                                                                                                                                                                                                                                                        |\n",
            "|10000 maniacs_Everyday Is Like Sunday|Rock   |[-0.2708599865436554,0.04400600120425224,-0.020260000601410866,-0.17395000159740448,0.6444000005722046,0.7121300101280212,0.35510000586509705,0.47137999534606934,-0.2963699996471405,0.5442699790000916,-0.7229400277137756,-0.0047611999325454235,0.04061099886894226,0.04323599860072136,0.29728999733924866,0.10724999755620956,0.4015600085258484,-0.536620020866394,0.03338199853897095,0.06739600002765656,0.6455600261688232,-0.08552300184965134,0.14102999866008759,0.09453900158405304,0.7494699954986572,-0.1940000057220459,-0.6873900294303894,-0.4174099862575531,-0.22807000577449799,0.11999999731779099,-0.4899899959564209,0.8094499707221985,0.045138001441955566,-0.11897999793291092,0.2016099989414215,0.3927600085735321,-0.20121000707149506,0.3135400116443634,0.7530400156974792,0.2590700089931488,-0.11565999686717987,-0.029318999499082565,0.9349899888038635,-0.3606700003147125,0.5242000222206116,0.23705999553203583,0.5271499752998352,0.2286899983882904,-0.5195800065994263,-0.7934899926185608,-0.20367999374866486,-0.5018699765205383,0.18748000264167786,0.9428200125694275,-0.4483399987220764,-3.6791999340057373,0.044183000922203064,-0.26750999689102173,2.199700117111206,0.2409999966621399,-0.03342499956488609,0.6955299973487854,-0.6447200179100037,-0.00722770020365715,0.8957499861717224,0.2001499980688095,0.46492999792099,0.6193299889564514,-0.10660000145435333,0.08691000193357468,-0.46230000257492065,0.18262000381946564,-0.15849000215530396,0.02079099975526333,0.19372999668121338,0.06342600286006927,-0.31672999262809753,-0.48177000880241394,-1.3847999572753906,0.13669000566005707,0.9685900211334229,0.04996500164270401,-0.27379998564720154,-0.03568600118160248,-1.0577000379562378,-0.24467000365257263,0.903659999370575,-0.12442000210285187,0.08077599853277206,-0.8340100049972534,0.5720099806785583,0.08894500136375427,-0.42531999945640564,-0.01825300045311451,-0.07999499887228012,-0.2858099937438965,-0.010889999568462372,-0.49230000376701355,0.6368700265884399,0.23642000555992126,-0.2926500141620636,-0.2775700092315674,0.15560999512672424,-0.014442999847233295,-0.2343199998140335,0.9468200206756592,-0.4469499886035919,0.7144799828529358,0.4652499854564667,0.0301900003105402,-0.5812100172042847,-0.34793001413345337,0.5810199975967407,0.05504100024700165,0.6676099896430969,-0.6065700054168701,1.1562000513076782,-0.5660600066184998,-0.66566002368927,0.8366600275039673,1.0426000356674194,0.5650500059127808,0.6630600094795227,-0.43059998750686646,-1.0334999561309814,-0.927869975566864,-0.3468100130558014,-0.507889986038208,-0.6927199959754944,-0.39998000860214233,-0.30733999609947205,-0.4608300030231476,0.8611800074577332,0.008894000202417374,0.3529700040817261,-0.506820023059845,-0.07495799660682678,0.11924999952316284,0.32405000925064087,-0.08727599680423737,-0.38312000036239624,-0.6322299838066101,0.29350000619888306,-0.5849599838256836,0.410290002822876,0.3149299919605255,0.45006000995635986,0.04478200152516365,0.34014999866485596,0.28268998861312866,-0.7741900086402893,-0.009248300455510616,0.39342001080513,1.108199954032898,-0.7921199798583984,-2.5952999591827393,-1.3451999425888062,-0.8467100262641907,0.7845100164413452,0.2956100106239319,0.4183200001716614,0.9153599739074707,-0.36899998784065247,-0.060607001185417175,0.6922900080680847,-0.20287999510765076,0.39737001061439514,-0.3052999973297119,-0.2336300015449524,0.14347000420093536,-0.08212000131607056,-0.5582900047302246,-0.03761199861764908,-0.7452399730682373,0.3539299964904785,0.0071078999899327755,0.9922900199890137,0.33643999695777893,-0.8270999789237976,0.0633779987692833,-0.09297700226306915,0.44398999214172363,-0.42726001143455505,-0.001263099955394864,-0.4864400029182434,0.39761999249458313,-0.5314499735832214,-0.6537700295448303,0.9187399744987488,-0.11665999889373779,0.8742799758911133,0.012966999784111977,-0.1448799967765808,0.6755200028419495,-1.301900029182434,0.402319997549057,-0.10261999815702438,0.9729800224304199,1.0123000144958496,0.2982900142669678,-0.5718399882316589,0.046348001807928085,0.8673200011253357,-0.5903499722480774,-0.6493200063705444,0.6588000059127808,-0.8278999924659729,0.22565999627113342,-0.019818000495433807,0.2121800035238266,0.3752700090408325,0.17482000589370728,0.2858799993991852,0.22922000288963318,-0.10478000342845917,-0.36858001351356506,-0.09760499745607376,0.5298900008201599,-0.023984000086784363,0.41082000732421875,-0.680679976940155,-0.11251000314950943,-0.3501499891281128,-0.29451000690460205,0.38231000304222107,0.9397600293159485,-0.736299991607666,-1.01419997215271,0.6060699820518494,-0.4646399915218353,0.8398399949073792,1.2551000118255615,0.499889999628067,0.041839998215436935,-0.3124600052833557,0.3882499933242798,-0.66211998462677,0.0026328000240027905,0.625190019607544,-0.7409999966621399,0.5718500018119812,-0.3599199950695038,0.21821999549865723,-0.7800700068473816,-0.7754799723625183,0.1330299973487854,-0.9259700179100037,-0.32256999611854553,-0.025227999314665794,-1.3961000442504883,0.22933000326156616,0.2695100009441376,-0.16118000447750092,0.8521400094032288,-0.0785679966211319,-2.285900115966797,0.8718600273132324,0.296970009803772,2.380000114440918,-0.19922000169754028,0.5503900051116943,1.6426000595092773,-0.31060001254081726,-0.029347000643610954,0.9393500089645386,0.5701799988746643,0.5862100124359131,-0.25936999917030334,0.3896600008010864,-0.5606200098991394,0.09914799779653549,0.46786001324653625,0.5448200106620789,-0.9599300026893616,0.6297299861907959,0.4391399919986725,-0.2858099937438965,-0.48357000946998596,-0.415149986743927,0.1803400069475174,0.4331800043582916,0.5131000280380249,-0.37042999267578125,-0.1584700047969818,-1.5992000102996826,-0.21375000476837158,-0.14180000126361847,-0.1423099935054779,-0.12466000020503998,-0.05291200056672096,-0.6273599863052368,0.8597599864006042,1.2702000141143799,0.045308999717235565,-0.544700026512146,-0.5543000102043152,0.25635001063346863,-0.3566499948501587,0.9292500019073486,0.8995299935340881]                                      |\n",
            "|10000 maniacs_Don't Talk             |Rock   |[0.05423000082373619,0.2747899889945984,0.9830899834632874,-0.46604999899864197,0.3600499927997589,0.5409899950027466,-0.7687100172042847,0.48511001467704773,0.23597000539302826,-0.8337799906730652,-0.6215599775314331,0.06960900127887726,0.9296900033950806,0.5745900273323059,0.2001200020313263,0.1630299985408783,-0.4080199897289276,0.5798400044441223,0.3793799877166748,-0.5369399785995483,-0.4884200096130371,0.28303998708724976,-0.4889099895954132,-0.28773000836372375,1.2680000066757202,1.1850999593734741,0.16885000467300415,-0.3403399884700775,0.6955599784851074,-0.3111799955368042,0.7186800241470337,0.1453399956226349,-0.12223000079393387,-0.11907000094652176,0.04066399857401848,-0.20271000266075134,-0.09329400211572647,0.2762799859046936,0.7339400053024292,0.16821999847888947,-0.053964998573064804,-0.9146199822425842,-0.007071999832987785,-0.10681000351905823,-0.16064000129699707,0.29082000255584717,0.10293000191450119,0.6890599727630615,0.1906599998474121,-0.9000599980354309,-0.13868999481201172,-0.27713000774383545,0.1095300018787384,1.5148999691009521,-0.28944000601768494,-1.875499963760376,0.3729200065135956,0.265749990940094,0.7271599769592285,-0.03838200122117996,0.5191400051116943,1.8102999925613403,-0.3567599952220917,0.2575500011444092,0.38413000106811523,0.18431000411510468,0.6445099711418152,0.12064000219106674,-0.03618599846959114,-0.4362199902534485,0.6861000061035156,0.6413599848747253,0.32778000831604004,-0.768750011920929,0.12633000314235687,-0.2037999927997589,-0.17780999839305878,0.13662999868392944,0.08172900229692459,-0.41857999563217163,0.8627399802207947,0.2576499879360199,-0.3202199935913086,0.36469000577926636,-1.4386999607086182,-1.0029000043869019,-0.13979999721050262,0.4267899990081787,0.2575699985027313,0.5923600196838379,0.44936999678611755,0.08227100223302841,0.3062500059604645,0.005402499809861183,-0.29078999161720276,0.5327600240707397,-0.7523000240325928,-0.12460999935865402,-0.45017001032829285,0.01651100069284439,-0.14451999962329865,0.560230016708374,0.2054000049829483,-0.2666400074958801,-0.25668999552726746,0.5254799723625183,-0.4598200023174286,0.21998000144958496,-0.013937000185251236,-0.242249995470047,0.1808300018310547,0.071322001516819,0.38370001316070557,-0.3664099872112274,0.5130400061607361,-0.3724600076675415,-0.1989700049161911,-0.05515599995851517,0.020736999809741974,0.7006199955940247,0.8170700073242188,-0.0999549999833107,0.1698800027370453,-0.25001001358032227,-0.26899999380111694,-0.6977699995040894,-0.03584200143814087,-0.5082200169563293,-0.0059414999559521675,-0.32951000332832336,0.18911999464035034,0.08452700078487396,-0.43160998821258545,-0.028210999444127083,-0.1986899971961975,0.47912999987602234,0.06472600251436234,0.29787999391555786,-0.27285000681877136,0.12601999938488007,-0.960070013999939,-0.4534499943256378,0.18871000409126282,-0.419840008020401,0.0460520014166832,-0.24216000735759735,0.47940000891685486,-0.22271999716758728,-0.05594500154256821,-0.4789699912071228,0.09028299897909164,-0.05913199856877327,-0.24844999611377716,1.0303000211715698,-0.4304099977016449,-2.4089999198913574,0.1749899983406067,-0.6154099702835083,1.8243000507354736,0.7712000012397766,0.24063000082969666,1.6521999835968018,-0.039427999407052994,0.5118100047111511,0.7280399799346924,-0.3018200099468231,0.8137199878692627,0.32864001393318176,0.6735000014305115,-0.3971700072288513,-0.4519200026988983,-0.038743000477552414,-0.11954999715089798,-0.21258999407291412,0.20071999728679657,0.29861998558044434,-0.030866000801324844,0.18320000171661377,-1.3020000457763672,0.19519999623298645,1.1923999786376953,-0.3882400095462799,-0.3306500017642975,0.0014673999976366758,-1.7257000207901,0.10661999881267548,0.31828001141548157,0.010223000310361385,-0.43215999007225037,-0.1543000042438507,0.22102999687194824,-0.14725999534130096,-0.49401000142097473,-0.4188700020313263,-1.0335999727249146,-0.3440299928188324,-0.7746300101280212,-0.3639500141143799,0.9160900115966797,0.8209499716758728,-0.20362000167369843,0.18005000054836273,0.3849700093269348,-0.25075000524520874,-0.5789700150489807,0.7437400221824646,-0.5034800171852112,0.12916000187397003,0.2145799994468689,-0.48993000388145447,0.4481399953365326,0.2617399990558624,0.23130999505519867,0.045441001653671265,-0.3698199987411499,-0.08006399869918823,-0.044103000313043594,0.8707200288772583,-0.8646900057792664,0.43456000089645386,0.18318000435829163,-0.35293999314308167,-0.14719000458717346,-0.4828900098800659,0.01311499997973442,0.5119600296020508,-0.4988900125026703,-0.6147900223731995,0.9929100275039673,-0.4829300045967102,-0.1706099957227707,0.9025899767875671,0.03516799956560135,0.2218099981546402,-0.2639400064945221,0.4299300014972687,0.21877999603748322,0.09192399680614471,0.5386499762535095,-0.48249998688697815,-0.2777999937534332,-0.4868299961090088,-0.22235000133514404,-0.6721000075340271,-0.27518999576568604,-0.18504999577999115,-0.36118000745773315,0.026089999824762344,-0.10414999723434448,-0.9132999777793884,0.025848999619483948,0.12714999914169312,-0.09761200100183487,0.8769000172615051,0.09350299835205078,-2.0272998809814453,0.001088000019080937,0.31025999784469604,1.7510000467300415,0.2344300001859665,-0.04854699969291687,0.4238300025463104,-0.7230899930000305,-0.2888700067996979,1.3560999631881714,0.6166099905967712,0.76555997133255,0.888159990310669,-0.440530002117157,-0.25352001190185547,-0.02460700087249279,-0.13555000722408295,-0.08532000333070755,-0.5457500219345093,0.18199999630451202,0.0998070016503334,-0.20788000524044037,-0.17558999359607697,0.14319999516010284,0.048229001462459564,0.744949996471405,-0.5962399840354919,-0.7297000288963318,-0.05309399962425232,-1.356600046157837,-0.06252899765968323,0.021609999239444733,0.4043799936771393,-0.06387999653816223,-0.17330999672412872,-0.34602001309394836,0.19518999755382538,-0.10340999811887741,-0.6171299815177917,-0.47012001276016235,-0.47863999009132385,0.19383999705314636,0.19208000600337982,-0.143669992685318,0.29043999314308167]       |\n",
            "|black veil brides_Our Destiny        |Rock   |[-0.10379000008106232,-0.014791999943554401,0.5993300080299377,-0.513159990310669,-0.03646299988031387,0.6588000059127808,-0.5790600180625916,0.17818999290466309,0.23662999272346497,-0.21383999288082123,0.5533900260925293,0.5359699726104736,0.041443999856710434,0.16095000505447388,0.017092999070882797,-0.3724200129508972,0.017974000424146652,0.39267998933792114,-0.2326499968767166,0.1817999929189682,0.6640499830245972,0.9816300272941589,0.4233900010585785,0.030580999329686165,0.3501499891281128,0.25519001483917236,-0.7118200063705444,-0.42184001207351685,0.13067999482154846,-0.4745199978351593,-0.08174999803304672,0.1573999971151352,-0.13262000679969788,0.22678999602794647,-0.16885000467300415,-0.11122000217437744,-0.3227199912071228,-0.02097800001502037,-0.43345001339912415,0.1720000058412552,-0.6736599802970886,-0.7905200123786926,0.10555999726057053,-0.4219000041484833,-0.12385000288486481,-0.0634860023856163,-0.1784300059080124,0.5635899901390076,0.16986000537872314,-0.17803999781608582,0.13955999910831451,-0.20169000327587128,0.07898499816656113,1.4496999979019165,0.23555999994277954,-2.6013998985290527,-0.5285999774932861,-0.11636000126600266,1.718400001525879,0.33254000544548035,0.12135999649763107,1.1601999998092651,-0.2913999855518341,0.4712499976158142,0.4186899960041046,0.3527100086212158,0.4786899983882904,-0.042281001806259155,-0.18294000625610352,0.17960000038146973,-0.24431000649929047,-0.3404200077056885,0.20337000489234924,-0.9367600083351135,0.01307700015604496,0.08033899962902069,-0.3660399913787842,-0.44005000591278076,-0.3539299964904785,0.1590700000524521,0.5580700039863586,0.14920000731945038,-0.864329993724823,0.0403049997985363,-1.0938999652862549,-0.26385998725891113,-0.2949399948120117,0.2569600045681,-0.3371799886226654,-0.08646800369024277,-0.2424599975347519,-0.2111400067806244,0.09963200241327286,0.12815000116825104,-0.7871400117874146,-0.5178499817848206,-0.10943999886512756,0.9763000011444092,0.5703200101852417,0.1358100026845932,-0.46952998638153076,0.3843199908733368,0.5483300089836121,-0.6340100169181824,0.01013300009071827,0.11364000290632248,0.10611999779939651,0.5852900147438049,0.032301999628543854,-0.1227400004863739,0.030264999717473984,0.5266199707984924,1.0398000478744507,-0.08214300125837326,0.1911800056695938,-0.8378400206565857,0.5076299905776978,0.44488000869750977,-0.7260400056838989,0.03689299896359444,0.2421099990606308,-0.28878000378608704,0.33656999468803406,0.13655999302864075,0.1457899957895279,-0.13221000134944916,0.09842800348997116,-0.4527600109577179,-0.13029000163078308,0.015761999413371086,-0.010161000303924084,0.4966999888420105,-0.28461000323295593,0.2965500056743622,0.9297900199890137,0.4244700074195862,-0.08277300000190735,0.30437999963760376,-0.39219000935554504,-0.30584999918937683,-0.4320099949836731,-0.2733300030231476,0.2438800036907196,-0.580810010433197,0.22678999602794647,0.027225999161601067,0.5347300171852112,-0.3752700090408325,-0.161190003156662,-1.1234999895095825,0.1276800036430359,-0.6989799737930298,0.4134100079536438,1.229099988937378,-0.4124799966812134,-2.5172998905181885,-0.1535400003194809,-0.04310699924826622,1.9111000299453735,0.8075399994850159,-0.14758999645709991,0.9609000086784363,-0.8426700234413147,0.08442199975252151,1.2616000175476074,-0.10937999933958054,0.5484600067138672,0.7525500059127808,-0.07128900289535522,-0.739870011806488,0.09480799734592438,-0.9758899807929993,0.007872099988162518,-0.23928000032901764,0.2881999909877777,-0.41516000032424927,0.034366000443696976,0.11969999969005585,-1.2142000198364258,-0.11305999755859375,0.528469979763031,-0.4227299988269806,-0.9337800145149231,-0.04664500057697296,-2.121999979019165,-0.3409999907016754,0.6422899961471558,-0.10097000002861023,-0.22875000536441803,-1.0776000022888184,-0.6804400086402893,-0.26372000575065613,-0.18331000208854675,-0.051631998270750046,-0.3083600103855133,0.06653700023889542,0.2042199969291687,-0.6891400218009949,0.4510999917984009,0.2512499988079071,-0.18970000743865967,0.05002399906516075,0.1908400058746338,-0.04918399825692177,-0.08973699808120728,0.2100600004196167,-0.5495200157165527,0.09837699681520462,-0.20135000348091125,0.34240999817848206,-0.09267699718475342,0.16099999845027924,-0.1326799988746643,-0.2815999984741211,0.18737000226974487,-0.42958998680114746,0.9603899717330933,0.13971999287605286,-1.0780999660491943,0.4051800072193146,0.5053899884223938,-0.5506399869918823,0.4844000041484833,0.38043999671936035,-0.0029054998885840178,-0.3494200110435486,-0.09969600290060043,-0.7836800217628479,1.0362999439239502,-0.2313999980688095,-0.4712100028991699,0.5712599754333496,-0.2145400047302246,0.35958001017570496,-0.48319000005722046,1.087499976158142,0.2852399945259094,0.12447000294923782,-0.03924800083041191,-0.07673200219869614,-0.7634299993515015,-0.32409000396728516,-0.5748999714851379,-1.0893000364303589,-0.4181100130081177,0.451200008392334,0.12111999839544296,-0.513670027256012,-0.13348999619483948,-1.1377999782562256,-0.2876800000667572,0.16774000227451324,0.5580400228500366,1.538699984550476,0.018859000876545906,-2.972100019454956,-0.24216000735759735,-0.9249500036239624,2.199199914932251,0.28233999013900757,-0.34779998660087585,0.5162100195884705,-0.43386998772621155,0.36851999163627625,0.7457299828529358,0.07210200279951096,0.2793099880218506,0.9256899952888489,-0.050335999578237534,-0.8585600256919861,-0.13580000400543213,-0.9255099892616272,-0.33991000056266785,-1.0393999814987183,-0.06720300018787384,-0.21378999948501587,-0.47690001130104065,0.21377000212669373,-0.8400800228118896,0.052535999566316605,0.5929800271987915,0.29603999853134155,-0.6764400005340576,0.13916000723838806,-1.5504000186920166,-0.20765000581741333,0.7221999764442444,0.5205600261688232,-0.07622099667787552,-0.1519400030374527,-0.13133999705314636,0.0586169995367527,-0.3186900019645691,-0.6141899824142456,-0.6239299774169922,-0.41547998785972595,-0.03817500174045563,-0.3980399966239929,0.4764699935913086,-0.1598300039768219]         |\n",
            "|lynyrd skynyrd_I Need You            |Rock   |[-0.18102000653743744,-0.7210599780082703,0.41297999024391174,0.08614999800920486,-0.24945999681949615,-0.017868999391794205,0.2388100028038025,-0.017890000715851784,0.09776999801397324,-0.3914799988269806,0.2668299973011017,0.15986000001430511,0.5623400211334229,1.0410000085830688,-0.4562700092792511,-0.19426000118255615,0.20597000420093536,0.9892200231552124,0.5100700259208679,0.625,0.28185001015663147,0.8490899801254272,0.5609400272369385,0.23479999601840973,-0.40191999077796936,0.7536799907684326,-0.47400999069213867,-0.09183699637651443,0.38262999057769775,-0.5873600244522095,-0.5299599766731262,-0.3848699927330017,1.0398999452590942,1.0855000019073486,0.06516300141811371,-0.27625998854637146,-0.20784999430179596,0.05205399915575981,1.1502000093460083,-0.7669000029563904,1.1051000356674194,0.358379989862442,0.3500699996948242,0.2600800096988678,-0.2760399878025055,-0.2637900114059448,-0.1885399967432022,0.35561999678611755,0.977840006351471,0.12021999806165695,-0.3240000009536743,0.27518999576568604,0.19169999659061432,-0.05164400115609169,-1.3198000192642212,0.32534000277519226,0.6776999831199646,1.3961000442504883,0.20307999849319458,-0.6288700103759766,0.48385998606681824,0.647159993648529,-1.031599998474121,-0.4398399889469147,-0.5694500207901001,0.35163000226020813,-0.29809001088142395,-0.15918000042438507,-0.3692600131034851,-0.6432300209999084,0.46202999353408813,0.3518100082874298,-0.014655999839305878,-0.5426599979400635,0.20868000388145447,0.7877500057220459,0.08949299901723862,-0.0792739987373352,0.17133000493049622,-0.8774799704551697,-0.7446100115776062,0.2927600145339966,-1.152400016784668,-0.6386399865150452,-0.4059999883174896,-0.23288999497890472,-0.328000009059906,-0.21108999848365784,-0.3205200135707855,0.5684800148010254,-0.43112000823020935,0.058288998901844025,0.08138000220060349,-0.023271000012755394,1.0403000116348267,-0.5021100044250488,0.544160008430481,0.9025499820709229,0.39945998787879944,0.3451699912548065,-0.0029325000941753387,0.6303600072860718,0.5148199796676636,-0.4327299892902374,-0.9035699963569641,-0.1319199949502945,-1.1771999597549438,-0.6497799754142761,0.6100199818611145,-0.4728200137615204,-0.468639999628067,0.39013001322746277,0.058699000626802444,-0.2221599966287613,-0.3771800100803375,-0.27469000220298767,-0.6229599714279175,0.44258999824523926,0.03438200056552887,0.21070000529289246,-0.1441500037908554,0.6522600054740906,-0.36640000343322754,-0.29861998558044434,-0.35293999314308167,0.28575998544692993,-0.16877999901771545,-0.4194999933242798,0.35133999586105347,-0.12189999967813492,-0.10790000110864639,0.1501699984073639,0.1151600033044815,-0.15086999535560608,-0.3355399966239929,0.12564000487327576,-0.014840999618172646,0.30037999153137207,0.6126199960708618,-0.23478999733924866,-0.562279999256134,-0.1308699995279312,0.040341999381780624,-0.6526100039482117,0.07711199671030045,-0.4096499979496002,0.708840012550354,0.030981000512838364,-0.3377299904823303,-1.267799973487854,0.5468599796295166,-0.01568800024688244,-0.6889899969100952,0.5028600096702576,0.2862800061702728,-1.4889999628067017,0.3470099866390228,-0.2229200005531311,0.5944700241088867,0.21539999544620514,-0.07255899906158447,0.6772099733352661,-0.11020000278949738,-0.14350999891757965,0.5775200128555298,0.7322800159454346,0.5301399827003479,0.0626939982175827,0.008291900157928467,-0.1809999942779541,0.08220800012350082,-0.16116000711917877,-0.39684998989105225,-0.3645800054073334,-0.33048000931739807,0.4021199941635132,0.18279999494552612,0.05381600186228752,-0.5047799944877625,0.2295600026845932,0.5371699929237366,-0.5051699876785278,-0.6229199767112732,-0.1736000031232834,-1.3875000476837158,-0.4415299892425537,-0.3748700022697449,0.3289099931716919,-0.7161999940872192,-0.3212999999523163,-0.04893999919295311,0.0921040028333664,-0.0981609970331192,-0.6409800052642822,-0.6834999918937683,0.1474599987268448,0.3243499994277954,-0.15467000007629395,0.24526000022888184,0.2935299873352051,-0.3397899866104126,0.20940999686717987,0.46347999572753906,-0.6479200124740601,-0.3837699890136719,0.038033999502658844,0.1712699979543686,0.15977999567985535,0.46619001030921936,-0.019169000908732414,0.41479000449180603,-0.34349000453948975,0.26872000098228455,0.04464000090956688,0.4213100075721741,-0.4103200137615204,0.15458999574184418,0.022238999605178833,-0.6465299725532532,0.25255998969078064,0.043136000633239746,-0.1944500058889389,0.4651600122451782,0.4565100073814392,0.6858800053596497,0.09129499644041061,0.21875,-0.7035099864006042,0.16785000264644623,-0.35078999400138855,-0.12634000182151794,0.6638399958610535,-0.2581999897956848,0.03654199838638306,-0.1360500007867813,0.4025300145149231,0.14289000630378723,0.3813199996948242,-0.12283000349998474,-0.45886000990867615,-0.2528199851512909,-0.30432000756263733,-0.11214999854564667,-0.261819988489151,-0.22482000291347504,-0.44554001092910767,0.29910001158714294,-0.8561199903488159,-0.14503000676631927,-0.4908599853515625,0.008297299966216087,-0.17490999400615692,0.2752400040626526,1.4400999546051025,-0.2123900055885315,-2.8434998989105225,-0.2795799970626831,-0.4572199881076813,1.6385999917984009,0.7880799770355225,-0.552619993686676,0.6499999761581421,0.08642599731683731,0.3901199996471405,1.0631999969482422,-0.3537899851799011,0.4832800030708313,0.34599998593330383,0.8417400121688843,0.09870699793100357,-0.24212999641895294,-0.27052998542785645,0.04528699815273285,-0.40147000551223755,0.11394999921321869,0.006222600117325783,0.03667299821972847,0.018518000841140747,-1.021299958229065,-0.20805999636650085,0.640720009803772,-0.06876300275325775,-0.5863500237464905,0.33476001024246216,-1.1432000398635864,-0.11479999870061874,-0.2509100139141083,-0.45906999707221985,-0.09681899845600128,-0.17946000397205353,-0.06335099786520004,-0.6741200089454651,-0.06889499723911285,0.5360400080680847,-0.8777300119400024,0.3180199861526489,-0.3924199938774109,-0.2339400053024292,0.47297999262809753,-0.02880300022661686]                                     |\n",
            "|10000 maniacs_Across The Fields      |Rock   |[-0.21004000306129456,-0.39664000272750854,0.009013599716126919,-0.02521900087594986,-0.5801100134849548,0.39678001403808594,0.3897300064563751,1.113700032234192,-0.48502999544143677,-0.3287299871444702,0.17238999903202057,0.11755000054836273,0.385809987783432,-0.14112000167369843,0.4054499864578247,-0.6812099814414978,-0.38642001152038574,-0.7136499881744385,-0.3875199854373932,-0.38398000597953796,0.6973599791526794,-0.17573000490665436,-0.22088000178337097,0.012020999565720558,0.2715800106525421,0.24397000670433044,-0.04468299821019173,0.24435000121593475,0.04707600176334381,0.4489699900150299,-0.4157400131225586,-0.3502199947834015,-0.002840599976480007,0.38168999552726746,-0.267410010099411,0.37481001019477844,-0.13531999289989471,-0.3978100121021271,0.5907899737358093,0.07521700114011765,-0.7135199904441833,-0.6194599866867065,0.12055999785661697,0.31951001286506653,-0.14967000484466553,0.015389000065624714,-0.5435500144958496,-0.33625999093055725,0.6230700016021729,-1.3609000444412231,-0.0622589997947216,-0.20475000143051147,0.6815599799156189,0.7664899826049805,-0.32510000467300415,-2.3306000232696533,-0.7650600075721741,0.3949899971485138,2.018199920654297,0.7970499992370605,-0.5278199911117554,0.9406800270080566,-0.4497300088405609,-0.27854999899864197,-0.32534998655319214,-0.12876999378204346,0.20508000254631042,-0.08548100292682648,0.11664000153541565,0.11364000290632248,-0.7215099930763245,-0.5134400129318237,0.14902999997138977,-0.41863998770713806,-0.062199000269174576,0.9650099873542786,0.07344000041484833,0.12730999290943146,-0.6435400247573853,-0.1970600038766861,0.14744000136852264,0.049084000289440155,-0.2782999873161316,-0.13364000618457794,-0.6905900239944458,-0.6766700148582458,-0.2018599957227707,0.5901299715042114,-0.04030999913811684,0.3692399859428406,1.1999000310897827,0.18738999962806702,0.12449999898672104,0.7848700284957886,-1.2508000135421753,0.5845299959182739,0.22540999948978424,0.06454700231552124,0.4699999988079071,0.5999299883842468,0.08570300042629242,-0.22201000154018402,0.16569000482559204,0.1337299942970276,0.38238999247550964,0.3540099859237671,0.01286999974399805,0.22461000084877014,-0.4381699860095978,0.5016400218009949,-0.3587400019168854,-0.3498300015926361,0.05515599995851517,0.6964799761772156,-0.17958000302314758,0.06792599707841873,0.39100998640060425,0.1603900045156479,-0.26635000109672546,-0.2113800048828125,0.5369799733161926,0.49379000067710876,0.9366000294685364,0.6690199971199036,0.21793000400066376,-0.4664199948310852,0.22382999956607819,-0.3620400130748749,-0.17655999958515167,0.17479999363422394,-0.20366999506950378,0.13931000232696533,0.019832000136375427,-0.10412999987602234,-0.20243999361991882,0.550029993057251,-0.15459999442100525,0.986549973487854,-0.2686299979686737,-0.29089999198913574,-0.3286600112915039,-0.3418799936771393,-0.16943000257015228,-0.4200100004673004,-0.046727001667022705,-0.1632699966430664,0.7082399725914001,-0.7491099834442139,-0.09155900031328201,-0.9617800116539001,-0.19746999442577362,0.1028200015425682,0.5522099733352661,1.381600022315979,-0.6563599705696106,-3.250200033187866,-0.3155600130558014,-1.2055000066757202,1.770900011062622,0.4025999903678894,-0.7982699871063232,1.1597000360488892,-0.33041998744010925,0.3138200044631958,0.773859977722168,0.22595000267028809,0.5247099995613098,-0.034053001552820206,0.32047998905181885,0.07994800060987473,0.1775200068950653,-0.4942600131034851,-0.7004500031471252,-0.44569000601768494,0.17244000732898712,0.20277999341487885,0.023291999474167824,-0.20677000284194946,-1.0157999992370605,0.18324999511241913,0.567520022392273,0.31821000576019287,-0.6501100063323975,0.6827700138092041,-0.8658499717712402,-0.05939200147986412,-0.29264000058174133,-0.5566800236701965,-0.3470500111579895,-0.3289499878883362,0.4021500051021576,-0.12746000289916992,-0.20227999985218048,0.8736799955368042,-0.5450000166893005,0.7920500040054321,-0.20694999396800995,-0.0742729976773262,0.758080005645752,-0.3424299955368042,-0.07027299702167511,0.39570000767707825,0.5013200044631958,-0.33858001232147217,-0.24030999839305878,0.16798999905586243,0.34926000237464905,0.30972999334335327,-0.3009200096130371,-0.5947399735450745,0.2146099954843521,0.23191000521183014,0.16801999509334564,-0.17396000027656555,0.11016999930143356,-0.10937000066041946,-0.3245700001716614,0.4605900049209595,0.037429001182317734,-0.3763499855995178,0.21633000671863556,0.6593899726867676,0.12166000157594681,-0.49254000186920166,0.2264699935913086,-0.16527999937534332,-0.18059000372886658,-0.6386600136756897,-0.21604999899864197,-0.21671000123023987,0.033222999423742294,0.24347999691963196,-0.21565000712871552,0.18994000554084778,0.6946300268173218,-0.055684998631477356,-0.42089998722076416,0.10171999782323837,0.23991000652313232,0.23592999577522278,-0.18637999892234802,-0.5018200278282166,0.33522000908851624,-0.3485400080680847,-0.19606000185012817,-0.16323000192642212,0.365119993686676,1.0291999578475952,0.5520600080490112,-0.9842299818992615,0.47220999002456665,-0.3966499865055084,0.20182999968528748,0.985319972038269,-0.2170799970626831,-2.183799982070923,-0.4466400146484375,0.2994900047779083,0.4753200113773346,0.57396000623703,-0.2200399935245514,1.1445000171661377,-0.6340100169181824,0.18887999653816223,-0.13531999289989471,0.040716998279094696,0.3471600115299225,0.3092299997806549,-0.622219979763031,0.20999999344348907,0.4946799874305725,-0.014984999783337116,0.12133999913930893,-0.569890022277832,0.3277300000190735,0.11873999983072281,-0.30720001459121704,0.17143000662326813,0.06906499713659286,-0.23904000222682953,0.5095199942588806,0.2828199863433838,-0.48034998774528503,-0.20653000473976135,-1.4313000440597534,-1.3575999736785889,0.04404599964618683,-0.15971000492572784,-0.8624699711799622,-0.17475000023841858,0.3752799928188324,-0.38324999809265137,-0.05214099958539009,-0.036125000566244125,-0.546779990196228,0.04024500027298927,-0.5127900242805481,0.2354000061750412,-0.29337000846862793,0.20182999968528748]     |\n",
            "|10000 maniacs_Planned Obsolescence   |Rock   |[-0.5455800294876099,1.096500039100647,1.510599970817566,-0.47269999980926514,-0.15546999871730804,0.21748000383377075,-0.36125001311302185,0.12726999819278717,-0.5114799737930298,-0.3552800118923187,0.5978699922561646,-0.5317400097846985,-0.0464010015130043,0.6533600091934204,0.1037599965929985,0.3051300048828125,0.3838300108909607,-0.22856999933719635,-0.7890400290489197,1.006600022315979,0.2033900022506714,-0.0020182000007480383,0.21936999261379242,0.6477100253105164,0.4053100049495697,0.588129997253418,-0.022485999390482903,-0.439520001411438,0.15481999516487122,-0.4884899854660034,-0.60316002368927,0.36197999119758606,-0.4565500020980835,-0.5136899948120117,-0.2846199870109558,0.19641000032424927,0.42976000905036926,0.4608300030231476,-0.22080999612808228,-0.34077000617980957,-0.21216000616550446,-0.3624599874019623,-0.149399995803833,-0.6643099784851074,-0.13962000608444214,-0.25126001238822937,-0.4993000030517578,-0.29225000739097595,-0.3674899935722351,-0.42177000641822815,0.3574199974536896,0.28964000940322876,-0.14962999522686005,1.3741999864578247,-0.8080400228500366,-2.782099962234497,0.12325000017881393,0.4185200035572052,1.0374000072479248,0.501259982585907,-0.9882199764251709,0.7678800225257874,-0.3097899854183197,-0.5597500205039978,1.0844999551773071,-0.18400999903678894,0.2668299973011017,0.39754000306129456,0.22833000123500824,0.43424999713897705,-0.12324000149965286,0.2117300033569336,-0.40470999479293823,-0.44547998905181885,0.2736699879169464,-0.1378999948501587,0.6913700103759766,0.32499000430107117,-1.3609999418258667,-0.977400004863739,0.48217999935150146,-0.7672200202941895,-0.40092000365257263,-0.21289999783039093,-0.8201500177383423,-0.03941499814391136,-0.37735000252723694,-0.5714399814605713,0.07042700052261353,-0.09109599888324738,0.016800999641418457,0.3815400004386902,0.3940599858760834,0.38043999671936035,-0.5894299745559692,-0.021364999935030937,0.17363999783992767,-0.9037399888038635,0.48135998845100403,0.030378000810742378,0.38767001032829285,0.5266600251197815,0.32148000597953796,-0.059078000485897064,0.014547999948263168,1.2165000438690186,-0.2881999909877777,-0.9839299917221069,0.5709999799728394,0.5029600262641907,-0.8572800159454346,-0.012365000322461128,0.5252699851989746,0.635420024394989,-0.08652299642562866,-0.6421999931335449,0.5156800150871277,0.1707099974155426,-1.4124000072479248,0.4157400131225586,0.07729800045490265,-0.47172999382019043,0.16752000153064728,0.10463999956846237,0.28657999634742737,-0.24440999329090118,0.40884000062942505,-0.5944200158119202,-0.2098899930715561,0.1183599978685379,-0.45124998688697815,0.637220025062561,-0.47512000799179077,-0.10123000293970108,-0.4292699992656708,-0.0843140035867691,-0.05714299902319908,0.6424800157546997,-0.5321699976921082,-0.030254999175667763,-1.61489999294281,0.16909000277519226,0.05036399886012077,-0.1231599971652031,-1.166200041770935,-1.4332000017166138,0.40661999583244324,0.7139400243759155,-0.5351099967956543,-0.9419500231742859,0.6392099857330322,0.8520399928092957,0.11756999790668488,0.2793999910354614,-0.37898001074790955,-1.4048999547958374,0.641290009021759,0.0777520015835762,1.4300999641418457,0.036430999636650085,0.060694001615047455,-0.001116400002501905,0.22120000422000885,-1.1700999736785889,0.8797900080680847,0.2776699960231781,0.5812699794769287,-0.6031799912452698,0.48539999127388,0.3761399984359741,-0.12392999976873398,0.1530199944972992,0.489300012588501,0.5434600114822388,-0.3926199972629547,-0.2671999931335449,-0.7006099820137024,-0.37828999757766724,-0.7979999780654907,-0.24582000076770782,-0.8555799722671509,-0.0410350002348423,-0.21130000054836273,0.18788999319076538,-0.5372800230979919,0.47110000252723694,-0.7328699827194214,-0.4619700014591217,0.46724000573158264,-0.34757000207901,-0.28271999955177307,-0.6421999931335449,0.43476998805999756,0.28995999693870544,-0.4364199936389923,-0.6923999786376953,-0.5175700187683105,-1.0257999897003174,0.5870699882507324,0.6618199944496155,0.27656999230384827,0.25992000102996826,-0.33855998516082764,-0.676609992980957,0.1069599986076355,-0.3945100009441376,-0.06242699921131134,-0.9394000172615051,-0.06467500329017639,0.2105800062417984,0.13944999873638153,-0.2400600016117096,0.22628000378608704,0.1268399953842163,-0.8047599792480469,-0.6517900228500366,0.37606000900268555,-0.66007000207901,-0.3604399859905243,0.5807300209999084,0.23555000126361847,-0.09120900183916092,0.5784400105476379,-1.192199945449829,0.45691999793052673,0.09508799761533737,-1.3250999450683594,-0.2877799868583679,0.30267998576164246,0.3826499879360199,-0.39351001381874084,0.31527000665664673,-0.2682099938392639,-1.354699969291687,0.154789999127388,-0.24602000415325165,0.19151000678539276,0.13436000049114227,0.6492000222206116,-0.4326399862766266,0.25143998861312866,-0.6739299893379211,0.11761000007390976,0.3306399881839752,1.0546000003814697,-0.1398400068283081,-0.2761499881744385,-0.24466000497341156,0.4234899878501892,0.6405900120735168,-0.43004000186920166,0.5804100036621094,0.3827899992465973,0.1350499987602234,-0.7965099811553955,-0.44075000286102295,-1.6050000190734863,-0.909030020236969,1.0872999429702759,0.6056100130081177,-0.2056100070476532,-0.04600699990987778,-0.16384999454021454,0.4477599859237671,-0.30035001039505005,-0.41308000683784485,-0.025577999651432037,0.41519999504089355,0.5371599793434143,-0.07023999840021133,-0.32420000433921814,-0.19475999474525452,0.2821800112724304,-0.6725999712944031,0.15185999870300293,-0.12234999984502792,-0.0011756999883800745,-0.3236300051212311,-0.9649999737739563,-0.23315000534057617,0.6524099707603455,0.2249400019645691,0.25582000613212585,1.2209999561309814,-0.23051999509334564,-0.8432499766349792,-0.11309000104665756,-1.3594000339508057,0.37634000182151794,-0.9775800108909607,-0.13986000418663025,-0.22914999723434448,1.100100040435791,-0.7752599716186523,-0.2927899956703186,0.2690199911594391,-0.1424800008535385,-0.11823000013828278,-0.1318099945783615,-0.14482000470161438]                              |\n",
            "|10000 maniacs_Rainy Day              |Rock   |[-0.366890013217926,0.4153999984264374,0.13478000462055206,-0.17840999364852905,-0.40049999952316284,0.20646999776363373,0.4274199903011322,1.128999948501587,-0.8398100137710571,-0.47955000400543213,0.021114999428391457,-0.1831900030374527,0.24587999284267426,-0.029047999531030655,0.2968299984931946,-0.44613000750541687,0.17493000626564026,-0.1661899983882904,-0.4957300126552582,-0.02654699981212616,0.7636899948120117,-0.20810000598430634,0.2649399936199188,0.3308500051498413,0.570389986038208,0.12831999361515045,-0.2832399904727936,0.07865200191736221,0.3833000063896179,-0.07401199638843536,-0.5672500133514404,-0.25826001167297363,0.14012999832630157,0.11077000200748444,-0.21628999710083008,0.40637001395225525,-0.45739999413490295,0.27935999631881714,0.16717000305652618,-0.16388000547885895,-0.6918399930000305,-0.3149299919605255,0.6559200286865234,-0.002242600079625845,-0.016975000500679016,0.10777000337839127,-0.18928000330924988,-0.7707899808883667,0.2433300018310547,-1.1467000246047974,0.1293099969625473,-0.5966799855232239,0.5235000252723694,1.0476000308990479,-0.8351699709892273,-2.626800060272217,-0.32837000489234924,0.2476699948310852,2.1535000801086426,0.6056100130081177,-0.5401899814605713,0.9973700046539307,-0.18483999371528625,-0.47044000029563904,-0.01926499977707863,0.341949999332428,0.3100599944591522,-0.31499001383781433,0.29989999532699585,-0.37646999955177307,-0.10040999948978424,-0.4837299883365631,-0.38982000946998596,-0.3442400097846985,-0.12195000052452087,0.5894500017166138,-0.15674999356269836,-0.3377400040626526,-1.044600009918213,-0.03792700171470642,0.3823699951171875,-0.06373299658298492,-0.1298999935388565,0.12898999452590942,-1.462499976158142,-0.22875000536441803,-0.36410000920295715,-0.10337000340223312,0.23736999928951263,-0.2349800020456314,0.15801000595092773,0.038339000195264816,0.013423999771475792,0.32534998655319214,-1.1755000352859497,0.04969500005245209,0.5722699761390686,0.024380000308156013,0.22105999290943146,0.4316900074481964,0.0,0.0,0.0,0.0,0.0,0.0,0.0,0.0,0.0,0.0,0.0,0.0,0.0,0.0,0.0,0.0,0.0,0.0,0.0,0.0,0.0,0.0,0.0,0.0,0.0,0.0,0.0,0.0,0.0,0.0,0.0,0.0,0.0,0.0,0.0,0.0,0.0,0.0,0.0,0.0,0.0,0.0,0.0,0.0,0.0,0.0,0.0,0.0,0.0,0.0,0.0,0.0,0.0,0.0,0.0,0.0,0.0,0.0,0.0,0.0,0.0,0.0,0.0,0.0,0.0,0.0,0.0,0.0,0.0,0.0,0.0,0.0,0.0,0.0,0.0,0.0,0.0,0.0,0.0,0.0,0.0,0.0,0.0,0.0,0.0,0.0,0.0,0.0,0.0,0.0,0.0,0.0,0.0,0.0,0.0,0.0,0.0,0.0,0.0,0.0,0.059073999524116516,-0.04270699992775917,0.25870001316070557,-0.18367999792099,0.8146799802780151,0.5829200148582458,-0.26082998514175415,0.8200200200080872,-0.23465000092983246,-0.33098000288009644,0.25084999203681946,0.0702269971370697,0.24188999831676483,0.09426899999380112,0.39473000168800354,-0.3485099971294403,0.34428998827934265,0.2363699972629547,-0.4575200080871582,-0.45037001371383667,0.149959996342659,0.668470025062561,0.461760014295578,0.5229099988937378,0.2214999943971634,0.016203999519348145,-0.04167800024151802,-0.3375999927520752,-0.029949000105261803,-0.19352999329566956,-0.2831999957561493,0.6665099859237671,-0.14100000262260437,-0.24017000198364258,-0.1097399964928627,-0.050707001239061356,-0.2962599992752075,-0.1962900012731552,-0.4491400122642517,0.3146800100803375,-0.3723300099372864,-0.4456000030040741,-0.46963000297546387,0.12732000648975372,-0.18592000007629395,0.04587100073695183,-0.013381999917328358,-0.04818899929523468,0.5294299721717834,-0.3490599989891052,-0.18347999453544617,0.5449100136756897,0.09052400290966034,1.100600004196167,-0.17810000479221344,-2.8729000091552734,-0.09574999660253525,-0.3303700089454651,2.3164000511169434,0.24153000116348267,0.0705690011382103,1.2079999446868896,0.13550999760627747,0.008423199877142906,0.4470199942588806,-0.06372199952602386,0.19930000603199005,-0.328000009059906,0.5166500210762024,-0.16744999587535858,-0.025259999558329582,-0.2293500006198883,0.35126999020576477,-1.0707000494003296,0.25036999583244324,-0.13702000677585602,-0.24065999686717987,-0.18860000371932983,-0.7476000189781189,-0.14332999289035797,0.9281399846076965,0.8912400007247925,-0.31393998861312866,0.4028399884700775,-1.2105000019073486,0.2675800025463104,0.10446000099182129,-0.2170100063085556,-0.6328499913215637,-0.13102999329566956,-0.29635000228881836,0.16082000732421875,-0.6347500085830688,0.6249200105667114,-0.25714001059532166,-0.24292999505996704,0.3291800022125244,0.10145000368356705,0.506089985370636,-0.008160299621522427]                                                                                                                                                                                                                                                                                                                                                                                                                                                                                                                                                                                                                                                                                                                                                                                                                                                                                                                                                                                                                                                                                                                                                                                                                                                                                                                                                                                                                                                                                                                                                                                                                                                         |\n",
            "|twista_Back 2 School                 |Hip Hop|[-0.35214000940322876,0.040449999272823334,0.6980100274085999,-0.1499900072813034,0.2909500002861023,0.6081900000572205,-0.7081699967384338,0.06295499950647354,0.8370000123977661,-0.7049199938774109,0.5642600059509277,-0.0951479971408844,0.01283000037074089,-0.5344799757003784,0.19840000569820404,0.590179979801178,0.18226000666618347,0.4368799924850464,-0.07538100332021713,0.7845699787139893,-0.5893300175666809,-0.657480001449585,0.07363700121641159,-0.14729000627994537,0.5423099994659424,-0.02739500068128109,-0.6736800074577332,-0.5028799772262573,0.14737999439239502,-0.3651899993419647,-0.003752100048586726,1.5220999717712402,-0.49132001399993896,0.07242599874734879,0.09786099940538406,0.2503400146961212,-0.18353000283241272,-0.6145700216293335,0.5343999862670898,-0.4914500117301941,0.10120999813079834,-0.0187389999628067,-0.36559998989105225,-0.26096999645233154,-0.8782100081443787,0.10591000318527222,-0.5615000128746033,-0.20758000016212463,0.5358200073242188,0.10920999944210052,-0.12925000488758087,0.07065100222826004,-0.001512099988758564,0.12543000280857086,0.2660300135612488,-1.1057000160217285,-0.15335999429225922,-0.06678900122642517,1.5032000541687012,-0.29649999737739563,0.3829300105571747,0.22577999532222748,0.5393099784851074,0.05279700085520744,0.25742998719215393,0.6396099925041199,0.5215100049972534,0.23680999875068665,-0.10199999809265137,-0.1328199952840805,0.36625000834465027,-0.14196999371051788,0.10620000213384628,-0.35427001118659973,0.1870799958705902,0.16061000525951385,0.08197800070047379,-0.38964998722076416,0.3982200026512146,-0.26085999608039856,0.5888699889183044,-0.5729299783706665,-0.5827199816703796,-0.16023999452590942,-1.007099986076355,-0.007225799839943647,0.2539600133895874,0.19762000441551208,0.14445999264717102,0.07034900039434433,0.05096900090575218,0.5583000183105469,0.4036099910736084,-0.8945000171661377,0.23547999560832977,-0.10268999636173248,0.1973699927330017,-0.041120998561382294,-0.06136300042271614,0.27292999625205994,-0.03819400072097778,-0.24487000703811646,0.7281200289726257,-0.3996100127696991,0.08317200094461441,0.043953001499176025,-0.3914099931716919,0.3343999981880188,-0.5754500031471252,0.08745899796485901,0.28786998987197876,-0.06730999797582626,0.3090600073337555,-0.263839989900589,-0.13231000304222107,-0.20757000148296356,0.333950012922287,-0.33847999572753906,-0.3174299895763397,-0.4833599925041199,0.14640000462532043,-0.37303999066352844,0.345770001411438,0.05204100161790848,0.4494599997997284,-0.46970999240875244,0.026280000805854797,-0.5415499806404114,-0.15518000721931458,-0.14106999337673187,-0.03972199931740761,0.2827700078487396,0.14393000304698944,0.2346400022506714,-0.3102099895477295,0.08617299795150757,0.20397000014781952,0.5262399911880493,0.17163999378681183,-0.08237800002098083,-0.7178699970245361,-0.41530999541282654,0.2033499926328659,-0.12762999534606934,0.41367000341415405,0.5518699884414673,0.5790799856185913,-0.33476999402046204,-0.36559000611305237,-0.5485699772834778,-0.06289199739694595,0.26583999395370483,0.30204999446868896,0.9977499842643738,-0.8048099875450134,-3.0243000984191895,0.012539999559521675,-0.36941999197006226,2.2167000770568848,0.7220100164413452,-0.24977999925613403,0.9213600158691406,0.03451399877667427,0.46744999289512634,1.1079000234603882,-0.1935800015926361,-0.07457499951124191,0.23352999985218048,-0.05206200107932091,-0.22044000029563904,0.057162001729011536,-0.1580599993467331,-0.3079800009727478,-0.41624999046325684,0.379720002412796,0.1500599980354309,-0.5321199893951416,-0.20550000667572021,-1.2525999546051025,0.07162400335073471,0.7056499719619751,0.49744001030921936,-0.42063000798225403,0.2614800035953522,-1.5379999876022339,-0.30223000049591064,-0.07343800365924835,-0.2831200063228607,0.3710399866104126,-0.25216999650001526,0.016215000301599503,-0.01709900051355362,-0.3898400068283081,0.874239981174469,-0.7256900072097778,-0.5105800032615662,-0.5202800035476685,-0.14589999616146088,0.8277999758720398,0.2706199884414673,0.7176300287246704,0.4713200032711029,0.6919500231742859,-1.003499984741211,-0.6569499969482422,0.5012800097465515,0.04446500167250633,0.21678000688552856,-0.1332699954509735,0.1244100034236908,-0.22988000512123108,-0.21710999310016632,-0.09352599829435349,-0.052407000213861465,0.4440000057220459,0.3668000102043152,0.14124999940395355,0.37139999866485596,0.24589000642299652,1.041599988937378,-0.08441100269556046,0.12881000339984894,-0.3084299862384796,-0.4991700053215027,0.5583400130271912,0.8137699961662292,-0.49503999948501587,-0.6363199949264526,0.06510300189256668,0.5601199865341187,-0.018695000559091568,0.8689000010490417,0.8711299896240234,0.3302299976348877,0.5664299726486206,-0.16216999292373657,-0.7872899770736694,-0.21032999455928802,0.9506700038909912,-0.729390025138855,-0.05963600054383278,0.43924999237060547,-0.06339699774980545,-0.6603699922561646,-0.8229600191116333,0.35242000222206116,-0.0873820036649704,0.27882999181747437,0.5872300267219543,-0.4324299991130829,-0.9568300247192383,-0.33827000856399536,-0.06279200315475464,0.5251100063323975,-0.11490000039339066,-1.7230000495910645,-0.37839001417160034,0.28363001346588135,0.7398999929428101,0.07952199876308441,0.7502999901771545,1.1598999500274658,-1.0116000175476074,-0.2488899976015091,0.8870000243186951,-0.03226200118660927,0.8650799989700317,0.14782999455928802,-0.3142400085926056,0.3215700089931488,0.535319983959198,0.09882400184869766,-0.42633000016212463,0.41639000177383423,-0.29120999574661255,0.9947199821472168,0.27775999903678894,-0.1036200001835823,0.3275899887084961,0.0014965999871492386,-0.046376001089811325,-0.023492999374866486,-0.330049991607666,-0.4596799910068512,-0.5313699841499329,0.1360899955034256,-0.7010300159454346,-0.2904300093650818,-0.3745099902153015,-0.41148000955581665,-0.29798001050949097,0.30660000443458557,0.011607999913394451,-0.3558200001716614,-0.6134300231933594,-0.1811400055885315,-0.34808000922203064,0.0050760000012815,0.06999099999666214,-0.07589899748563766]|\n",
            "|10000 maniacs_Anthem For Doomed Youth|Rock   |[-0.3397899866104126,0.20940999686717987,0.46347999572753906,-0.6479200124740601,-0.3837699890136719,0.038033999502658844,0.1712699979543686,0.15977999567985535,0.46619001030921936,-0.019169000908732414,0.41479000449180603,-0.34349000453948975,0.26872000098228455,0.04464000090956688,0.4213100075721741,-0.4103200137615204,0.15458999574184418,0.022238999605178833,-0.6465299725532532,0.25255998969078064,0.043136000633239746,-0.1944500058889389,0.4651600122451782,0.4565100073814392,0.6858800053596497,0.09129499644041061,0.21875,-0.7035099864006042,0.16785000264644623,-0.35078999400138855,-0.12634000182151794,0.6638399958610535,-0.2581999897956848,0.03654199838638306,-0.1360500007867813,0.4025300145149231,0.14289000630378723,0.3813199996948242,-0.12283000349998474,-0.45886000990867615,-0.2528199851512909,-0.30432000756263733,-0.11214999854564667,-0.261819988489151,-0.22482000291347504,-0.44554001092910767,0.29910001158714294,-0.8561199903488159,-0.14503000676631927,-0.4908599853515625,0.008297299966216087,-0.17490999400615692,0.2752400040626526,1.4400999546051025,-0.2123900055885315,-2.8434998989105225,-0.2795799970626831,-0.4572199881076813,1.6385999917984009,0.7880799770355225,-0.552619993686676,0.6499999761581421,0.08642599731683731,0.3901199996471405,1.0631999969482422,-0.3537899851799011,0.4832800030708313,0.34599998593330383,0.8417400121688843,0.09870699793100357,-0.24212999641895294,-0.27052998542785645,0.04528699815273285,-0.40147000551223755,0.11394999921321869,0.006222600117325783,0.03667299821972847,0.018518000841140747,-1.021299958229065,-0.20805999636650085,0.640720009803772,-0.06876300275325775,-0.5863500237464905,0.33476001024246216,-1.1432000398635864,-0.11479999870061874,-0.2509100139141083,-0.45906999707221985,-0.09681899845600128,-0.17946000397205353,-0.06335099786520004,-0.6741200089454651,-0.06889499723911285,0.5360400080680847,-0.8777300119400024,0.3180199861526489,-0.3924199938774109,-0.2339400053024292,0.47297999262809753,-0.02880300022661686,-0.03819400072097778,-0.24487000703811646,0.7281200289726257,-0.3996100127696991,0.08317200094461441,0.043953001499176025,-0.3914099931716919,0.3343999981880188,-0.5754500031471252,0.08745899796485901,0.28786998987197876,-0.06730999797582626,0.3090600073337555,-0.263839989900589,-0.13231000304222107,-0.20757000148296356,0.333950012922287,-0.33847999572753906,-0.3174299895763397,-0.4833599925041199,0.14640000462532043,-0.37303999066352844,0.345770001411438,0.05204100161790848,0.4494599997997284,-0.46970999240875244,0.026280000805854797,-0.5415499806404114,-0.15518000721931458,-0.14106999337673187,-0.03972199931740761,0.2827700078487396,0.14393000304698944,0.2346400022506714,-0.3102099895477295,0.08617299795150757,0.20397000014781952,0.5262399911880493,0.17163999378681183,-0.08237800002098083,-0.7178699970245361,-0.41530999541282654,0.2033499926328659,-0.12762999534606934,0.41367000341415405,0.5518699884414673,0.5790799856185913,-0.33476999402046204,-0.36559000611305237,-0.5485699772834778,-0.06289199739694595,0.26583999395370483,0.30204999446868896,0.9977499842643738,-0.8048099875450134,-3.0243000984191895,0.012539999559521675,-0.36941999197006226,2.2167000770568848,0.7220100164413452,-0.24977999925613403,0.9213600158691406,0.03451399877667427,0.46744999289512634,1.1079000234603882,-0.1935800015926361,-0.07457499951124191,0.23352999985218048,-0.05206200107932091,-0.22044000029563904,0.057162001729011536,-0.1580599993467331,-0.3079800009727478,-0.41624999046325684,0.379720002412796,0.1500599980354309,-0.5321199893951416,-0.20550000667572021,-1.2525999546051025,0.07162400335073471,0.7056499719619751,0.49744001030921936,-0.42063000798225403,0.2614800035953522,-1.5379999876022339,-0.30223000049591064,-0.07343800365924835,-0.2831200063228607,0.3710399866104126,-0.25216999650001526,0.016215000301599503,-0.01709900051355362,-0.3898400068283081,0.874239981174469,-0.7256900072097778,-0.5105800032615662,-0.5202800035476685,-0.14589999616146088,0.8277999758720398,0.2706199884414673,0.0,0.0,0.0,0.0,0.0,0.0,0.0,0.0,0.0,0.0,0.0,0.0,0.0,0.0,0.0,0.0,0.0,0.0,0.0,0.0,0.0,0.0,0.0,0.0,0.0,0.0,0.0,0.0,0.0,0.0,0.0,0.0,0.0,0.0,0.0,0.0,0.0,0.0,0.0,0.0,0.0,0.0,0.0,0.0,0.0,0.0,0.0,0.0,0.0,0.0,0.0,0.0,0.0,0.0,0.0,0.0,0.0,0.0,0.0,0.0,0.0,0.0,0.0,0.0,0.0,0.0,0.0,0.0,0.0,0.0,0.0,0.0,0.0,0.0,0.0,0.0,0.0,0.0,0.0,0.0,0.0,0.0,0.0,0.0,0.0,0.0,0.0,0.0,0.0,0.0,0.0,0.0,0.0,0.0,0.0,0.0,0.0,0.0,0.0,0.0]                                                                                                                                                                                                                                                                                                                                                                                                                                                                                                                                                                                                                                                                                                                                                                                                                                                                                                                                                                                                                                                                                                                                                                                                                                                                                                                                                                                                                                                                                                                                                                                                                                                                   |\n",
            "|10000 maniacs_All That Never Happens |Rock   |[0.31435999274253845,0.1531199961900711,0.18258999288082123,-0.09589000046253204,0.1319500058889389,0.4428200125694275,-0.14013999700546265,0.8487899899482727,0.5705400109291077,0.20212000608444214,0.3575200140476227,0.2790200114250183,0.2424200028181076,0.5928599834442139,0.0709109976887703,-0.223580002784729,0.2904700040817261,0.2583700120449066,-0.5238800048828125,0.20739999413490295,-0.19031000137329102,0.07852300256490707,0.37389999628067017,0.13412000238895416,0.6006699800491333,0.7033200263977051,-0.538100004196167,-1.517799973487854,0.49623000621795654,-0.3138900101184845,-0.4069100022315979,1.1136000156402588,0.4727799892425537,0.3202599883079529,-0.07738400250673294,0.2922700047492981,-0.28672000765800476,0.13303999602794647,0.10367999970912933,-0.2659200131893158,-1.0749000310897827,-0.1974100023508072,0.1175599992275238,-0.5535500049591064,-0.269679993391037,-0.06938199698925018,-0.08730000257492065,-0.6108599901199341,0.7916899919509888,-0.45728999376296997,-0.2103700041770935,-0.44648998975753784,1.0217000246047974,1.4455000162124634,-0.15591999888420105,-2.902899980545044,-0.14452999830245972,-0.2266799956560135,0.8571500182151794,1.1398999691009521,0.18196000158786774,1.0707000494003296,-0.35308000445365906,0.1441500037908554,0.6391599774360657,-0.3527500033378601,0.7269200086593628,0.30608999729156494,0.26229000091552734,0.43191999197006226,0.13708999752998352,-0.12223999947309494,0.11473000049591064,0.21212999522686005,0.22664999961853027,0.8510000109672546,-0.10736999660730362,-0.4954499900341034,-0.8858399987220764,-0.5438699722290039,0.17201000452041626,-0.02536899968981743,-0.08052700012922287,0.33842000365257263,-1.9701000452041626,-1.4076000452041626,-0.07444299757480621,-0.21232999861240387,-0.659060001373291,-0.6036400198936462,0.012477000243961811,-0.7422999739646912,0.9570299983024597,0.4105699956417084,-0.533519983291626,0.6574699878692627,-0.5649200081825256,-0.04272500053048134,0.06096699833869934,0.7434499859809875,-0.02961999922990799,0.02501000091433525,0.5562800168991089,-0.4010699987411499,0.31202998757362366,0.7289800047874451,-0.16203999519348145,0.030799999833106995,0.35242000222206116,-0.6022099852561951,-0.030427999794483185,0.8610699772834778,0.7062399983406067,-0.14869000017642975,-0.2883700132369995,-0.6762999892234802,0.8030999898910522,0.7310100197792053,-0.08086799830198288,0.3576599955558777,0.22464999556541443,0.36487001180648804,0.024096999317407608,-0.00721239997074008,0.4534299969673157,0.8581699728965759,-0.21828000247478485,-0.5925800204277039,1.003100037574768,0.006334300152957439,0.5164300203323364,0.2428400069475174,-0.1377899944782257,0.04668600112199783,-0.3069700002670288,-0.037772998213768005,-0.23124000430107117,-0.7301099896430969,-0.22248999774456024,-1.1748000383377075,0.3019999861717224,0.0852309986948967,0.1752299964427948,0.028651999309659004,-0.31338000297546387,-0.2346699982881546,0.40314000844955444,0.9238799810409546,-0.24223999679088593,-1.3849999904632568,0.015852000564336777,-0.49981001019477844,0.13853999972343445,1.1617000102996826,0.3523299992084503,-1.5062999725341797,0.2845500111579895,0.6772500276565552,0.4438599944114685,0.21196000277996063,-0.13162000477313995,1.1687999963760376,-0.7486600279808044,-0.8265100121498108,0.7591999769210815,0.4924899935722351,0.7870299816131592,0.4392800033092499,-0.06396599858999252,-0.5500100255012512,0.4577000141143799,-0.15289999544620514,0.05807200074195862,0.14943000674247742,0.10822000354528427,-0.2584399878978729,0.3964399993419647,0.05096700042486191,-0.3624500036239624,-0.09429100155830383,-0.5459499955177307,-0.05931700021028519,0.220660001039505,0.7271599769592285,-0.36983001232147217,0.7110000252723694,-0.5200499892234802,-0.3729499876499176,-0.37942999601364136,0.40011000633239746,-0.6768400073051453,0.16771000623703003,0.5351200103759766,-0.07684099674224854,-0.5937399864196777,-0.1316400021314621,0.1535400003194809,-0.004301299806684256,-0.23465999960899353,0.08447899669408798,-0.22874000668525696,0.36871999502182007,0.3189600110054016,-0.742389976978302,0.027424000203609467,0.7989799976348877,-0.0824429988861084,0.7408599853515625,-0.029152000322937965,-0.22086000442504883,-0.25652000308036804,0.24451999366283417,0.5215399861335754,-2.7352001052349806E-4,-0.08807600289583206,-0.544439971446991,0.38624998927116394,0.06367100030183792,-0.27382999658584595,0.7522000074386597,0.5420799851417542,-0.16791999340057373,0.869979977607727,0.21323999762535095,0.6439800262451172,-0.35220998525619507,0.40224000811576843,0.14569999277591705,0.8392999768257141,0.746749997138977,-0.27531999349594116,0.6007599830627441,0.0987899973988533,0.8876299858093262,0.944130003452301,0.33671000599861145,0.39812999963760376,0.19961999356746674,-0.02372400090098381,-0.8974800109863281,-0.25988999009132385,0.321260005235672,-0.6106500029563904,0.36344999074935913,0.07180800288915634,-0.4258899986743927,-0.5762799978256226,-0.5839700102806091,-0.164900004863739,-1.058899998664856,-0.5229600071907043,-0.3332599997520447,0.6245700120925903,0.39041000604629517,0.1409599930047989,-2.5525999069213867,0.00575859984382987,-0.6376500129699707,1.180999994277954,0.07541300356388092,0.07261999696493149,1.4134999513626099,-0.2723099887371063,-1.3854999542236328,1.09089994430542,0.43547001481056213,0.5166500210762024,-0.5107300281524658,0.1685200035572052,-0.32412999868392944,-0.1393900066614151,-0.2963100075721741,0.23773999512195587,-0.008658300153911114,0.027087999507784843,0.24738000333309174,-0.2913700044155121,-0.16888000071048737,0.157260000705719,-0.12054000049829483,0.5682399868965149,-0.03160399943590164,0.1658799946308136,0.661300003528595,-1.2611000537872314,0.4406200051307678,0.18880000710487366,-0.04357900097966194,-0.3021000027656555,0.5595200061798096,0.2252199947834015,-0.4477899968624115,0.47641000151634216,-0.04768899828195572,-0.9112399816513062,-0.46053001284599304,-0.42239999771118164,0.2876800000667572,1.131100058555603,0.0635640025138855]                                              |\n",
            "|10000 maniacs_Back O' The Moon       |Rock   |[0.34220001101493835,0.9193099737167358,0.7526999711990356,-0.004428400192409754,0.028651999309659004,0.6675500273704529,-0.5945500135421753,0.08459100127220154,0.022404000163078308,0.4291200041770935,-0.2515000104904175,0.07692199945449829,0.37222999334335327,0.24416999518871307,0.4437299966812134,-0.6759300231933594,0.477539986371994,-0.11800000071525574,-0.5787299871444702,0.6439700126647949,0.059331998229026794,1.051900029182434,0.7724599838256836,0.14067000150680542,0.34025999903678894,-1.142300009727478,0.07839100062847137,-0.7317900061607361,-0.2787899971008301,-0.03613699972629547,0.04950600117444992,-0.03860599920153618,0.40931999683380127,-0.0899370014667511,0.5824499726295471,0.21866999566555023,0.2808600068092346,0.7888200283050537,0.4768100082874298,-0.5872799754142761,-1.0700000524520874,0.30320999026298523,-0.18365000188350677,0.0164560005068779,0.6832299828529358,-0.16870999336242676,-0.5280399918556213,0.10356000065803528,-0.25731998682022095,-0.7317500114440918,-0.07664799690246582,-0.5918599963188171,0.6504200100898743,1.2116999626159668,-0.02798900008201599,-2.0627999305725098,0.13432000577449799,-0.680899977684021,1.107800006866455,0.12594999372959137,0.3012999892234802,0.8370699882507324,-0.5750100016593933,-0.9100300073623657,0.7984899878501892,0.6484900116920471,0.6181899905204773,-0.5317699909210205,0.2687000036239624,-0.20433999598026276,-0.11668000370264053,0.038548000156879425,-0.24094000458717346,-0.13313999772071838,0.09821999818086624,0.5079299807548523,-0.21667000651359558,-0.2952300012111664,-0.10764999687671661,-0.09544999897480011,-0.045118000358343124,0.998449981212616,-0.1998099982738495,0.8021500110626221,-0.9767299890518188,0.6011300086975098,0.4027099907398224,-0.7157899737358093,-0.6436700224876404,-0.3900800049304962,0.5400999784469604,-0.9676399827003479,1.0791000127792358,-0.480459988117218,-0.8963099718093872,-0.22244000434875488,-0.44832998514175415,-0.3808799982070923,0.9586300253868103,-0.7975900173187256,-0.03819400072097778,-0.24487000703811646,0.7281200289726257,-0.3996100127696991,0.08317200094461441,0.043953001499176025,-0.3914099931716919,0.3343999981880188,-0.5754500031471252,0.08745899796485901,0.28786998987197876,-0.06730999797582626,0.3090600073337555,-0.263839989900589,-0.13231000304222107,-0.20757000148296356,0.333950012922287,-0.33847999572753906,-0.3174299895763397,-0.4833599925041199,0.14640000462532043,-0.37303999066352844,0.345770001411438,0.05204100161790848,0.4494599997997284,-0.46970999240875244,0.026280000805854797,-0.5415499806404114,-0.15518000721931458,-0.14106999337673187,-0.03972199931740761,0.2827700078487396,0.14393000304698944,0.2346400022506714,-0.3102099895477295,0.08617299795150757,0.20397000014781952,0.5262399911880493,0.17163999378681183,-0.08237800002098083,-0.7178699970245361,-0.41530999541282654,0.2033499926328659,-0.12762999534606934,0.41367000341415405,0.5518699884414673,0.5790799856185913,-0.33476999402046204,-0.36559000611305237,-0.5485699772834778,-0.06289199739694595,0.26583999395370483,0.30204999446868896,0.9977499842643738,-0.8048099875450134,-3.0243000984191895,0.012539999559521675,-0.36941999197006226,2.2167000770568848,0.7220100164413452,-0.24977999925613403,0.9213600158691406,0.03451399877667427,0.46744999289512634,1.1079000234603882,-0.1935800015926361,-0.07457499951124191,0.23352999985218048,-0.05206200107932091,-0.22044000029563904,0.057162001729011536,-0.1580599993467331,-0.3079800009727478,-0.41624999046325684,0.379720002412796,0.1500599980354309,-0.5321199893951416,-0.20550000667572021,-1.2525999546051025,0.07162400335073471,0.7056499719619751,0.49744001030921936,-0.42063000798225403,0.2614800035953522,-1.5379999876022339,-0.30223000049591064,-0.07343800365924835,-0.2831200063228607,0.3710399866104126,-0.25216999650001526,0.016215000301599503,-0.01709900051355362,-0.3898400068283081,0.874239981174469,-0.7256900072097778,-0.5105800032615662,-0.5202800035476685,-0.14589999616146088,0.8277999758720398,0.2706199884414673,0.004880399908870459,0.3146899938583374,0.19325000047683716,-0.04778899997472763,-0.22479000687599182,0.43022000789642334,-0.058097999542951584,0.5598899722099304,0.15602000057697296,-0.23510000109672546,-0.019021999090909958,-0.33302998542785645,0.33849000930786133,-0.03793900087475777,0.38062000274658203,0.4131399989128113,-0.4768500030040741,0.11811000108718872,0.37950000166893005,0.41484999656677246,0.838670015335083,0.5211300253868103,0.18877999484539032,-1.0175000429153442,0.35267001390457153,-0.2790200114250183,0.16301000118255615,0.256989985704422,0.05056599900126457,-0.39142000675201416,-0.3829500079154968,0.3077400028705597,-0.2074200063943863,-0.9464899897575378,-0.5303599834442139,-0.08310700207948685,-0.4753499925136566,-0.0492670014500618,0.5252299904823303,-0.7156199812889099,0.4556800127029419,0.25534000992774963,0.17659999430179596,-0.32326000928878784,-0.5944700241088867,-0.1981000006198883,0.11952000111341476,0.5905900001525879,-0.1876700073480606,-0.1462000012397766,0.5131300091743469,-0.6475499868392944,0.503790020942688,0.42785999178886414,-0.012280000373721123,-1.7156000137329102,0.40709999203681946,0.36305999755859375,0.4309000074863434,0.26985999941825867,-0.1768999993801117,0.6868399977684021,-0.0976099967956543,0.1377899944782257,0.8963199853897095,-0.3662300109863281,0.4856399893760681,-0.14347000420093536,0.14562000334262848,-0.1820800006389618,-0.5590699911117554,-0.3061099946498871,-0.20316000282764435,-0.26548001170158386,0.3664500117301941,0.4338400065898895,-0.004328299779444933,-0.9024800062179565,0.014436000026762486,0.07666199654340744,-0.24769000709056854,-0.21782000362873077,0.072502002120018,-0.4711199998855591,-0.8100399971008301,-0.08935999870300293,0.2780799865722656,-0.492139995098114,-0.5678099989891052,-0.6693599820137024,-0.40281999111175537,0.480569988489151,-0.008194499649107456,-0.3560299873352051,-0.35954999923706055,-0.27118000388145447,-0.9640600085258484,-0.3154999911785126,-0.1939699947834015,-0.16293999552726746]          |\n",
            "|cyndi lauper_True Colors             |Pop    |[-0.07195299863815308,0.23127000033855438,0.02373100072145462,-0.506380021572113,0.3392300009727478,0.19589999318122864,-0.3294300138950348,0.1836400032043457,-0.18057000637054443,0.2896299958229065,0.20448000729084015,-0.5496000051498413,0.2739900052547455,0.5832700133323669,0.20467999577522278,-0.4922800064086914,0.1997399926185608,-0.07023700326681137,-0.8804900050163269,0.2948499917984009,0.1407099962234497,-0.10090000182390213,0.9944900274276733,0.36972999572753906,0.44554001092910767,0.2899799942970276,-0.13760000467300415,-0.5636500120162964,-0.029364999383687973,-0.412200003862381,-0.25268998742103577,0.6318100094795227,-0.44767001271247864,0.24363000690937042,-0.10813000053167343,0.2516399919986725,0.46966999769210815,0.37549999356269836,-0.2361299991607666,-0.14128999412059784,-0.44536998867988586,-0.6573699712753296,-0.042420998215675354,-0.2863599956035614,-0.28810998797416687,0.0637660026550293,0.20281000435352325,-0.5354200005531311,0.4130699932575226,-0.5972200036048889,-0.38613998889923096,0.19389000535011292,-0.17809000611305237,1.6618000268936157,-0.011819000355899334,-2.373699903488159,0.05842699855566025,-0.26980000734329224,1.2822999954223633,0.8192499876022339,-0.22322000563144684,0.7293199896812439,-0.05321099981665611,0.4350700080394745,0.8501099944114685,-0.42934998869895935,0.926639974117279,0.3905099928379059,1.058500051498413,-0.24560999870300293,-0.18264999985694885,-0.532800018787384,0.0595179982483387,-0.6601899862289429,0.18990999460220337,0.28835999965667725,-0.2433999925851822,0.5278400182723999,-0.6576200127601624,-0.14080999791622162,1.0491000413894653,0.5134000182151794,-0.23815999925136566,0.6989499926567078,-1.4812999963760376,-0.24869999289512634,-0.17936000227928162,-0.059137001633644104,-0.08055999875068665,-0.48781999945640564,0.014487000182271004,-0.6258999705314636,-0.32366999983787537,0.4186199903488159,-1.0807000398635864,0.4674200117588043,-0.4993099868297577,-0.7189499735832214,0.868939995765686,0.1953900009393692,-0.3397899866104126,0.20940999686717987,0.46347999572753906,-0.6479200124740601,-0.3837699890136719,0.038033999502658844,0.1712699979543686,0.15977999567985535,0.46619001030921936,-0.019169000908732414,0.41479000449180603,-0.34349000453948975,0.26872000098228455,0.04464000090956688,0.4213100075721741,-0.4103200137615204,0.15458999574184418,0.022238999605178833,-0.6465299725532532,0.25255998969078064,0.043136000633239746,-0.1944500058889389,0.4651600122451782,0.4565100073814392,0.6858800053596497,0.09129499644041061,0.21875,-0.7035099864006042,0.16785000264644623,-0.35078999400138855,-0.12634000182151794,0.6638399958610535,-0.2581999897956848,0.03654199838638306,-0.1360500007867813,0.4025300145149231,0.14289000630378723,0.3813199996948242,-0.12283000349998474,-0.45886000990867615,-0.2528199851512909,-0.30432000756263733,-0.11214999854564667,-0.261819988489151,-0.22482000291347504,-0.44554001092910767,0.29910001158714294,-0.8561199903488159,-0.14503000676631927,-0.4908599853515625,0.008297299966216087,-0.17490999400615692,0.2752400040626526,1.4400999546051025,-0.2123900055885315,-2.8434998989105225,-0.2795799970626831,-0.4572199881076813,1.6385999917984009,0.7880799770355225,-0.552619993686676,0.6499999761581421,0.08642599731683731,0.3901199996471405,1.0631999969482422,-0.3537899851799011,0.4832800030708313,0.34599998593330383,0.8417400121688843,0.09870699793100357,-0.24212999641895294,-0.27052998542785645,0.04528699815273285,-0.40147000551223755,0.11394999921321869,0.006222600117325783,0.03667299821972847,0.018518000841140747,-1.021299958229065,-0.20805999636650085,0.640720009803772,-0.06876300275325775,-0.5863500237464905,0.33476001024246216,-1.1432000398635864,-0.11479999870061874,-0.2509100139141083,-0.45906999707221985,-0.09681899845600128,-0.17946000397205353,-0.06335099786520004,-0.6741200089454651,-0.06889499723911285,0.5360400080680847,-0.8777300119400024,0.3180199861526489,-0.3924199938774109,-0.2339400053024292,0.47297999262809753,-0.02880300022661686,-0.3397899866104126,0.20940999686717987,0.46347999572753906,-0.6479200124740601,-0.3837699890136719,0.038033999502658844,0.1712699979543686,0.15977999567985535,0.46619001030921936,-0.019169000908732414,0.41479000449180603,-0.34349000453948975,0.26872000098228455,0.04464000090956688,0.4213100075721741,-0.4103200137615204,0.15458999574184418,0.022238999605178833,-0.6465299725532532,0.25255998969078064,0.043136000633239746,-0.1944500058889389,0.4651600122451782,0.4565100073814392,0.6858800053596497,0.09129499644041061,0.21875,-0.7035099864006042,0.16785000264644623,-0.35078999400138855,-0.12634000182151794,0.6638399958610535,-0.2581999897956848,0.03654199838638306,-0.1360500007867813,0.4025300145149231,0.14289000630378723,0.3813199996948242,-0.12283000349998474,-0.45886000990867615,-0.2528199851512909,-0.30432000756263733,-0.11214999854564667,-0.261819988489151,-0.22482000291347504,-0.44554001092910767,0.29910001158714294,-0.8561199903488159,-0.14503000676631927,-0.4908599853515625,0.008297299966216087,-0.17490999400615692,0.2752400040626526,1.4400999546051025,-0.2123900055885315,-2.8434998989105225,-0.2795799970626831,-0.4572199881076813,1.6385999917984009,0.7880799770355225,-0.552619993686676,0.6499999761581421,0.08642599731683731,0.3901199996471405,1.0631999969482422,-0.3537899851799011,0.4832800030708313,0.34599998593330383,0.8417400121688843,0.09870699793100357,-0.24212999641895294,-0.27052998542785645,0.04528699815273285,-0.40147000551223755,0.11394999921321869,0.006222600117325783,0.03667299821972847,0.018518000841140747,-1.021299958229065,-0.20805999636650085,0.640720009803772,-0.06876300275325775,-0.5863500237464905,0.33476001024246216,-1.1432000398635864,-0.11479999870061874,-0.2509100139141083,-0.45906999707221985,-0.09681899845600128,-0.17946000397205353,-0.06335099786520004,-0.6741200089454651,-0.06889499723911285,0.5360400080680847,-0.8777300119400024,0.3180199861526489,-0.3924199938774109,-0.2339400053024292,0.47297999262809753,-0.02880300022661686]                 |\n",
            "|10000 maniacs_A Room For Everything  |Rock   |[0.17934000492095947,0.05611199885606766,0.29493001103401184,-0.11838000267744064,0.35690000653266907,0.4359700083732605,-0.1080700010061264,0.5104600191116333,-0.6998100280761719,0.20592999458312988,0.0013408999657258391,-0.33687999844551086,-0.40926000475883484,-0.606220006942749,0.40825000405311584,0.5508700013160706,0.027814000844955444,0.41538000106811523,0.7493600249290466,0.09580399841070175,-0.1851000040769577,-0.41545000672340393,-0.047015998512506485,-0.23134000599384308,0.9460700154304504,0.20618000626564026,-0.35207000374794006,0.5457599759101868,-0.21063999831676483,-1.1340999603271484,-0.7092999815940857,-0.12496999651193619,-0.26374998688697815,-0.29175999760627747,0.3149000108242035,-0.43487000465393066,-0.4549500048160553,-0.18443000316619873,-0.3843899965286255,0.05883200094103813,0.5004500150680542,0.2523300051689148,-0.09845999628305435,0.35931000113487244,0.2220499962568283,0.13743999600410461,0.4927400052547455,-0.008224899880588055,0.6110100150108337,-0.037776000797748566,-0.11294999718666077,-0.07175999879837036,0.2471799999475479,0.10937000066041946,0.21899999678134918,-1.0981999635696411,0.1272200047969818,0.5659599900245667,0.2172199934720993,-0.4221799969673157,-0.6568999886512756,0.985319972038269,-0.3070800006389618,0.22288000583648682,-0.5906299948692322,-0.228410005569458,0.7669500112533569,-0.5295400023460388,-0.2470400035381317,-0.293040007352829,0.413100004196167,0.1565600037574768,-0.24911999702453613,-0.06607799977064133,0.24414999783039093,0.04022900015115738,-0.4242100119590759,-0.3109099864959717,0.41784000396728516,-0.2651199996471405,0.7621200084686279,0.2090499997138977,0.2827099859714508,-0.04823499917984009,-0.5767300128936768,-0.3451800048351288,0.5515099763870239,0.10066000372171402,-0.010770999826490879,-0.4556899964809418,0.2716900110244751,0.13547000288963318,-0.33133000135421753,-0.10187000036239624,-0.46946999430656433,-0.27109000086784363,-1.1198999881744385,-0.8121799826622009,-0.1271899938583374,0.6371899843215942,0.1155799999833107,1.0311000347137451,0.5298799872398376,-0.42673999071121216,0.7847200036048889,0.7602099776268005,-1.0286999940872192,-0.6521499752998352,-0.11088000237941742,-0.6055499911308289,-0.5360299944877625,-0.151309996843338,-0.32714998722076416,0.422650009393692,-0.026265999302268028,-0.010417000390589237,-0.8023800253868103,0.35721999406814575,-0.12756000459194183,0.5468599796295166,0.09260399639606476,-0.0932060033082962,0.18982000648975372,-0.663860023021698,0.44266998767852783,-0.1128700003027916,0.16338999569416046,0.7183799743652344,0.7554500102996826,0.7864199876785278,0.5015100240707397,0.03275499865412712,-0.21246999502182007,0.4133000075817108,-0.14665000140666962,-0.31915000081062317,0.3853299915790558,0.2985199987888336,0.5276600122451782,-0.14086000621318817,-0.7475900053977966,0.132860004901886,-0.39656001329421997,0.5751399993896484,0.20458999276161194,-0.6963499784469604,-0.3526400029659271,-0.47936001420021057,0.034384001046419144,-0.49362999200820923,-0.2454099953174591,0.098021000623703,0.20545999705791473,0.5134000182151794,0.6527299880981445,-1.301200032234192,0.7290300130844116,-0.14079000055789948,0.09772799909114838,0.23767000436782837,0.3964099884033203,1.0369999408721924,-0.1576700061559677,-0.29548999667167664,0.31720998883247375,-0.14484000205993652,0.5036299824714661,0.15971000492572784,0.010919000022113323,-0.40397000312805176,0.7243599891662598,0.14071999490261078,-0.330020010471344,-0.9341999888420105,0.2462099939584732,0.27423998713493347,-0.0756400004029274,-0.3001300096511841,-0.05819199979305267,-0.7874799966812134,-0.18628999590873718,-0.6073899865150452,0.23291000723838806,0.267630010843277,-1.5393999814987183,-0.11681000143289566,-0.07573699951171875,0.3899900019168854,0.2859799861907959,0.22663000226020813,0.14080999791622162,0.13134999573230743,-0.30943000316619873,-0.001227900036610663,-0.32491999864578247,0.25165000557899475,-1.1618000268936157,-0.582069993019104,0.6089100241661072,0.34046998620033264,0.23494000732898712,0.1521500051021576,0.1735299974679947,-1.0908000469207764,0.6519100069999695,0.3013699948787689,0.1009799987077713,0.4652999937534332,-0.2557699978351593,-0.25442999601364136,0.1937599927186966,0.30125001072883606,0.3269599974155426,-0.12206000089645386,-0.05889900028705597,-0.6081799864768982,-0.167930006980896,0.3409999907016754,0.024914000183343887,-0.3580799996852875,0.29280000925064087,0.8180999755859375,0.5303500294685364,-0.26100000739097595,0.07477699965238571,-0.0260390006005764,-0.8331000208854675,-0.1930599957704544,0.15222999453544617,0.5276700258255005,-0.2358500063419342,0.3233500123023987,0.2629700005054474,-0.19156000018119812,0.3356100022792816,0.39173999428749084,-0.48096001148223877,-0.009860699996352196,0.08606799691915512,0.8557299971580505,0.09233900159597397,-0.1227400004863739,0.16558000445365906,-0.2581700086593628,-0.3055500090122223,0.16806000471115112,0.2267100065946579,-0.9250500202178955,0.13042999804019928,-0.3468799889087677,0.09296099841594696,0.32561999559402466,0.07794400304555893,1.236199975013733,0.3093299865722656,-2.6561999320983887,-0.013964000158011913,0.4263499975204468,1.327299952507019,0.20381000638008118,-0.4048900008201599,0.11236000061035156,0.15758000314235687,0.4148299992084503,0.991100013256073,0.7153499722480774,1.0091999769210815,-0.2154799997806549,0.25525999069213867,0.9856600165367126,-0.04600999876856804,-0.04827199876308441,-0.206619992852211,-0.041391998529434204,0.014035999774932861,-0.04497599974274635,-0.2145099937915802,0.7717900276184082,-0.09334100037813187,-0.35040000081062317,0.5338600277900696,0.15011000633239746,-0.5803200006484985,0.0944880023598671,-1.1607999801635742,0.17935000360012054,-0.07176800072193146,0.06550099700689316,0.06666299700737,-0.40643998980522156,-0.2690899968147278,0.2845099866390228,-0.47890999913215637,0.1755100041627884,-0.44971999526023865,-0.28143998980522156,0.09896299988031387,0.3375700116157532,1.3487000465393066,0.27414000034332275]                            |\n",
            "|rick astley_She Makes Me             |Pop    |[-0.46952998638153076,0.3843199908733368,0.5483300089836121,-0.6340100169181824,0.01013300009071827,0.11364000290632248,0.10611999779939651,0.5852900147438049,0.032301999628543854,-0.1227400004863739,0.030264999717473984,0.5266199707984924,1.0398000478744507,-0.08214300125837326,0.1911800056695938,-0.8378400206565857,0.5076299905776978,0.44488000869750977,-0.7260400056838989,0.03689299896359444,0.2421099990606308,-0.28878000378608704,0.33656999468803406,0.13655999302864075,0.1457899957895279,-0.13221000134944916,0.09842800348997116,-0.4527600109577179,-0.13029000163078308,0.015761999413371086,-0.010161000303924084,0.4966999888420105,-0.28461000323295593,0.2965500056743622,0.9297900199890137,0.4244700074195862,-0.08277300000190735,0.30437999963760376,-0.39219000935554504,-0.30584999918937683,-0.4320099949836731,-0.2733300030231476,0.2438800036907196,-0.580810010433197,0.22678999602794647,0.027225999161601067,0.5347300171852112,-0.3752700090408325,-0.161190003156662,-1.1234999895095825,0.1276800036430359,-0.6989799737930298,0.4134100079536438,1.229099988937378,-0.4124799966812134,-2.5172998905181885,-0.1535400003194809,-0.04310699924826622,1.9111000299453735,0.8075399994850159,-0.14758999645709991,0.9609000086784363,-0.8426700234413147,0.08442199975252151,1.2616000175476074,-0.10937999933958054,0.5484600067138672,0.7525500059127808,-0.07128900289535522,-0.739870011806488,0.09480799734592438,-0.9758899807929993,0.007872099988162518,-0.23928000032901764,0.2881999909877777,-0.41516000032424927,0.034366000443696976,0.11969999969005585,-1.2142000198364258,-0.11305999755859375,0.528469979763031,-0.4227299988269806,-0.9337800145149231,-0.04664500057697296,-2.121999979019165,-0.3409999907016754,0.6422899961471558,-0.10097000002861023,-0.22875000536441803,-1.0776000022888184,-0.6804400086402893,-0.26372000575065613,-0.18331000208854675,-0.051631998270750046,-0.3083600103855133,0.06653700023889542,0.2042199969291687,-0.6891400218009949,0.4510999917984009,0.2512499988079071,-0.046539001166820526,0.6196600198745728,0.5664700269699097,-0.46584001183509827,-1.1890000104904175,0.4459899961948395,0.06603500247001648,0.3190999925136566,0.14678999781608582,-0.22119000554084778,0.792389988899231,0.2990500032901764,0.1607300043106079,0.025324000045657158,0.18678000569343567,-0.31000998616218567,-0.2810800075531006,0.6051499843597412,-1.0654000043869019,0.5247600078582764,0.06415200233459473,1.0357999801635742,-0.40779000520706177,-0.3801099956035614,0.3080100119113922,0.5996400117874146,-0.2699100077152252,-0.7603499889373779,0.9422199726104736,-0.46919000148773193,-0.18277999758720398,0.9065200090408325,0.7967100143432617,0.24824999272823334,0.2571299970149994,0.623199999332428,-0.4476799964904785,0.6535699963569641,0.7690200209617615,-0.5122900009155273,-0.44332998991012573,-0.21866999566555023,0.38370001316070557,-1.148300051689148,-0.9439799785614014,-0.1506199985742569,0.3001199960708618,-0.57805997133255,0.2017499953508377,-1.65910005569458,-0.07919500023126602,0.026422999799251556,0.22051000595092773,0.9971399903297424,-0.5753899812698364,-2.726599931716919,0.3144800066947937,0.7052199840545654,1.438099980354309,0.9912599921226501,0.13976000249385834,1.3473999500274658,-1.1753000020980835,0.00395030016079545,1.0298000574111938,0.06463699787855148,0.9088699817657471,0.828719973564148,-0.4700300097465515,-0.10575000196695328,0.5916000008583069,-0.4221000075340271,0.5733100175857544,-0.5411400198936462,0.10768000036478043,0.3978399932384491,-0.04874400049448013,0.06459599733352661,-0.6143699884414673,-0.28600001335144043,0.5066999793052673,-0.49757999181747437,-0.8156999945640564,0.16407999396324158,-1.9630000591278076,-0.2669300138950348,-0.3759300112724304,-0.9584699869155884,-0.8583999872207642,-0.7157700061798096,-0.32343000173568726,-0.4312100112438202,0.41391998529434204,0.28374001383781433,-0.709309995174408,0.1500300019979477,-0.21539999544620514,-0.37615999579429626,-0.03250199928879738,0.8062000274658203,0.05671900138258934,0.13333000242710114,0.7268999814987183,-0.4633600115776062,-0.5933399796485901,0.7174599766731262,-0.11794999986886978,0.2161400020122528,0.43035998940467834,-0.6705300211906433,0.5748000144958496,0.26826998591423035,0.02465900033712387,0.1606599986553192,0.20399999618530273,-0.3924599885940552,-0.6329399943351746,0.6291499733924866,-0.7634000182151794,1.1581000089645386,0.3621799945831299,0.3193199932575226,-0.6561300158500671,-0.4779700040817261,0.29884999990463257,0.6243500113487244,-0.46059998869895935,-0.9627599716186523,1.2214000225067139,-0.23151999711990356,-0.06888899952173233,0.6351900100708008,0.7754600048065186,0.331279993057251,-0.3522000014781952,0.74235999584198,-0.6670299768447876,0.32260000705718994,0.4348999857902527,-0.6015400290489197,-0.4206700026988983,0.021990999579429626,0.16378000378608704,-0.956820011138916,-0.6446400284767151,-0.09411100298166275,-0.27105000615119934,-0.23311999440193176,-0.3845300078392029,-1.2664999961853027,-0.18288999795913696,0.5043200254440308,-0.054260000586509705,1.1871999502182007,-0.4714300036430359,-2.6561999320983887,0.44916999340057373,0.6721799969673157,1.4074000120162964,0.001917900051921606,0.40658000111579895,1.4286999702453613,-1.063099980354309,-0.21713000535964966,0.4779999852180481,0.13169999420642853,1.249400019645691,0.7297999858856201,-0.20880000293254852,0.2544899880886078,0.12296999990940094,0.34922000765800476,0.2405100017786026,-0.810230016708374,0.5204700231552124,0.6880099773406982,0.06778399646282196,-0.2213200032711029,-0.12176000326871872,-0.16237999498844147,0.5318899750709534,-0.3294300138950348,-0.5381799936294556,-0.22957000136375427,-1.4103000164031982,0.01649400033056736,-0.1349399983882904,-0.036251001060009,-0.7738500237464905,-0.3517799973487854,-0.11230000108480453,-0.37400001287460327,0.5513899922370911,-0.19572000205516815,-0.08704999834299088,-0.3146899938583374,-0.42256999015808105,-0.03528600186109543,-0.024910999462008476,0.6213099956512451]                                                |\n",
            "|steve earle_Nothin' Without You      |Rock   |[0.7130500078201294,0.2199299931526184,0.6724100112915039,0.09105099737644196,0.2898600101470947,0.8937600255012512,0.48695001006126404,-0.37839001417160034,0.48201999068260193,-0.3745799958705902,-0.4449799954891205,0.5356900095939636,0.11349999904632568,0.5169699788093567,-0.09330599755048752,0.12665000557899475,0.2616100013256073,-0.3581700026988983,-0.1832199990749359,1.3737000226974487,-0.026203999295830727,-0.32673999667167664,-0.2747200131416321,0.1445399969816208,0.6801599860191345,0.8430299758911133,-0.5388299822807312,-0.7687699794769287,0.6430100202560425,0.4185900092124939,-0.25725001096725464,0.5466600060462952,0.514240026473999,-0.2768400013446808,-0.10147999972105026,0.5989800095558167,-0.320499986410141,-0.2631799876689911,0.5438600182533264,-0.6132000088691711,0.034446001052856445,0.43285998702049255,0.30234000086784363,-0.5281999707221985,0.6494200229644775,-0.1436000019311905,-0.9046300053596497,0.006113800220191479,0.5978099703788757,0.0068927002139389515,0.16301000118255615,0.034317001700401306,0.5022600293159485,1.1926000118255615,0.10492999851703644,-1.039199948310852,-0.5477100014686584,0.39945998787879944,0.02276100032031536,0.008250400424003601,0.5982699990272522,0.5289999842643738,-0.300709992647171,-0.4149399995803833,0.5180500149726868,-0.09481000155210495,0.7812899947166443,-0.06960300356149673,0.16874000430107117,-0.14983999729156494,-0.3115200102329254,-0.10719999670982361,0.1734199970960617,-0.08342400193214417,-0.48208001255989075,-0.17244000732898712,0.31801000237464905,-0.6534199714660645,-0.17398999631404877,0.08011200278997421,-0.2056400030851364,0.6674399971961975,0.7039099931716919,-0.1406099945306778,-0.8458899855613708,-0.40163999795913696,-0.3235499858856201,0.1545100063085556,-0.20882999897003174,-0.8836600184440613,-0.06539499759674072,0.3255699872970581,1.0628000497817993,0.06398200243711472,0.09643500298261642,-0.15865999460220337,-0.6778799891471863,-0.36232998967170715,-0.2669000029563904,-0.23194999992847443,0.0,0.0,0.0,0.0,0.0,0.0,0.0,0.0,0.0,0.0,0.0,0.0,0.0,0.0,0.0,0.0,0.0,0.0,0.0,0.0,0.0,0.0,0.0,0.0,0.0,0.0,0.0,0.0,0.0,0.0,0.0,0.0,0.0,0.0,0.0,0.0,0.0,0.0,0.0,0.0,0.0,0.0,0.0,0.0,0.0,0.0,0.0,0.0,0.0,0.0,0.0,0.0,0.0,0.0,0.0,0.0,0.0,0.0,0.0,0.0,0.0,0.0,0.0,0.0,0.0,0.0,0.0,0.0,0.0,0.0,0.0,0.0,0.0,0.0,0.0,0.0,0.0,0.0,0.0,0.0,0.0,0.0,0.0,0.0,0.0,0.0,0.0,0.0,0.0,0.0,0.0,0.0,0.0,0.0,0.0,0.0,0.0,0.0,0.0,0.0,0.0,0.0,0.0,0.0,0.0,0.0,0.0,0.0,0.0,0.0,0.0,0.0,0.0,0.0,0.0,0.0,0.0,0.0,0.0,0.0,0.0,0.0,0.0,0.0,0.0,0.0,0.0,0.0,0.0,0.0,0.0,0.0,0.0,0.0,0.0,0.0,0.0,0.0,0.0,0.0,0.0,0.0,0.0,0.0,0.0,0.0,0.0,0.0,0.0,0.0,0.0,0.0,0.0,0.0,0.0,0.0,0.0,0.0,0.0,0.0,0.0,0.0,0.0,0.0,0.0,0.0,0.0,0.0,0.0,0.0,0.0,0.0,0.0,0.0,0.0,0.0,0.0,0.0,0.0,0.0,0.0,0.0,0.0,0.0,0.0,0.0,0.0,0.0,0.0,0.0,0.0,0.0,0.0,0.0,0.0,0.0,0.0,0.0,0.0,0.0]                                                                                                                                                                                                                                                                                                                                                                                                                                                                                                                                                                                                                                                                                                                                                                                                                                                                                                                                                                                                                                                                                                                                                                                                                                                                                                                                                                                                                                                                                                                                                                                                                                                                                                                                                                                                                                                                                                                                                                                                                                                                                                                                                                                                                                                                                                                                                                                                                                                                                                                                                                                                                                                                                                                                                                                                                                                                                                                                                                                                                                                                                                                                                                                                                                                                                                                                            |\n",
            "|10000 maniacs_Maddox Table           |Rock   |[-0.07195299863815308,0.23127000033855438,0.02373100072145462,-0.506380021572113,0.3392300009727478,0.19589999318122864,-0.3294300138950348,0.1836400032043457,-0.18057000637054443,0.2896299958229065,0.20448000729084015,-0.5496000051498413,0.2739900052547455,0.5832700133323669,0.20467999577522278,-0.4922800064086914,0.1997399926185608,-0.07023700326681137,-0.8804900050163269,0.2948499917984009,0.1407099962234497,-0.10090000182390213,0.9944900274276733,0.36972999572753906,0.44554001092910767,0.2899799942970276,-0.13760000467300415,-0.5636500120162964,-0.029364999383687973,-0.412200003862381,-0.25268998742103577,0.6318100094795227,-0.44767001271247864,0.24363000690937042,-0.10813000053167343,0.2516399919986725,0.46966999769210815,0.37549999356269836,-0.2361299991607666,-0.14128999412059784,-0.44536998867988586,-0.6573699712753296,-0.042420998215675354,-0.2863599956035614,-0.28810998797416687,0.0637660026550293,0.20281000435352325,-0.5354200005531311,0.4130699932575226,-0.5972200036048889,-0.38613998889923096,0.19389000535011292,-0.17809000611305237,1.6618000268936157,-0.011819000355899334,-2.373699903488159,0.05842699855566025,-0.26980000734329224,1.2822999954223633,0.8192499876022339,-0.22322000563144684,0.7293199896812439,-0.05321099981665611,0.4350700080394745,0.8501099944114685,-0.42934998869895935,0.926639974117279,0.3905099928379059,1.058500051498413,-0.24560999870300293,-0.18264999985694885,-0.532800018787384,0.0595179982483387,-0.6601899862289429,0.18990999460220337,0.28835999965667725,-0.2433999925851822,0.5278400182723999,-0.6576200127601624,-0.14080999791622162,1.0491000413894653,0.5134000182151794,-0.23815999925136566,0.6989499926567078,-1.4812999963760376,-0.24869999289512634,-0.17936000227928162,-0.059137001633644104,-0.08055999875068665,-0.48781999945640564,0.014487000182271004,-0.6258999705314636,-0.32366999983787537,0.4186199903488159,-1.0807000398635864,0.4674200117588043,-0.4993099868297577,-0.7189499735832214,0.868939995765686,0.1953900009393692,0.08570300042629242,-0.22201000154018402,0.16569000482559204,0.1337299942970276,0.38238999247550964,0.3540099859237671,0.01286999974399805,0.22461000084877014,-0.4381699860095978,0.5016400218009949,-0.3587400019168854,-0.3498300015926361,0.05515599995851517,0.6964799761772156,-0.17958000302314758,0.06792599707841873,0.39100998640060425,0.1603900045156479,-0.26635000109672546,-0.2113800048828125,0.5369799733161926,0.49379000067710876,0.9366000294685364,0.6690199971199036,0.21793000400066376,-0.4664199948310852,0.22382999956607819,-0.3620400130748749,-0.17655999958515167,0.17479999363422394,-0.20366999506950378,0.13931000232696533,0.019832000136375427,-0.10412999987602234,-0.20243999361991882,0.550029993057251,-0.15459999442100525,0.986549973487854,-0.2686299979686737,-0.29089999198913574,-0.3286600112915039,-0.3418799936771393,-0.16943000257015228,-0.4200100004673004,-0.046727001667022705,-0.1632699966430664,0.7082399725914001,-0.7491099834442139,-0.09155900031328201,-0.9617800116539001,-0.19746999442577362,0.1028200015425682,0.5522099733352661,1.381600022315979,-0.6563599705696106,-3.250200033187866,-0.3155600130558014,-1.2055000066757202,1.770900011062622,0.4025999903678894,-0.7982699871063232,1.1597000360488892,-0.33041998744010925,0.3138200044631958,0.773859977722168,0.22595000267028809,0.5247099995613098,-0.034053001552820206,0.32047998905181885,0.07994800060987473,0.1775200068950653,-0.4942600131034851,-0.7004500031471252,-0.44569000601768494,0.17244000732898712,0.20277999341487885,0.023291999474167824,-0.20677000284194946,-1.0157999992370605,0.18324999511241913,0.567520022392273,0.31821000576019287,-0.6501100063323975,0.6827700138092041,-0.8658499717712402,-0.05939200147986412,-0.29264000058174133,-0.5566800236701965,-0.3470500111579895,-0.3289499878883362,0.4021500051021576,-0.12746000289916992,-0.20227999985218048,0.8736799955368042,-0.5450000166893005,0.7920500040054321,-0.20694999396800995,-0.0742729976773262,0.758080005645752,-0.3424299955368042,-0.1880200058221817,0.9600099921226501,0.6696100234985352,0.158160001039505,0.2556599974632263,-0.9764000177383423,-0.9704200029373169,-0.8142399787902832,0.712090015411377,0.07011000066995621,-0.1829500049352646,0.8339700102806091,-0.23273000121116638,0.16680000722408295,0.8563799858093262,-0.17607000470161438,-0.7930999994277954,-0.23327000439167023,-0.6639400124549866,0.4085499942302704,0.24706000089645386,0.9809399843215942,-0.5683599710464478,-0.018996000289916992,-0.18825000524520874,0.37042999267578125,-0.28356999158859253,-0.43762001395225525,0.3797000050544739,0.06369400024414062,-0.20286999642848969,-0.43794000148773193,-0.5718899965286255,-0.4313099980354309,0.4905500113964081,0.39691999554634094,0.048427000641822815,-0.16335999965667725,-0.18432000279426575,0.4899100065231323,-0.6275399923324585,-0.5598300099372864,-0.3940199911594391,0.19548000395298004,-0.9164800047874451,0.6298800110816956,0.3728500008583069,0.9330999851226807,0.36061999201774597,-0.1629599928855896,0.026705000549554825,0.034756001085042953,-0.35780999064445496,0.947350025177002,0.020495999604463577,-1.8485000133514404,0.8538600206375122,-1.0479999780654907,1.5374000072479248,0.6543700098991394,0.4708699882030487,1.003499984741211,-0.6253299713134766,0.1292800009250641,0.8952299952507019,-0.001024700002744794,-0.039142001420259476,-0.6781399846076965,-0.1335500031709671,-0.3772200047969818,0.6417099833488464,0.12430000305175781,-0.10169000178575516,-0.36812999844551086,0.001913400017656386,0.19325000047683716,-0.25075000524520874,-0.2887299954891205,-0.3549099862575531,0.4284699857234955,-0.06882599741220474,0.8173199892044067,-0.28088998794555664,-0.19098000228405,-0.538129985332489,-0.2881599962711334,0.10943000018596649,0.11191999912261963,-0.44122999906539917,0.4014599919319153,0.31992998719215393,0.7713099718093872,-1.0419000387191772,-0.25262999534606934,0.5552099943161011,-0.05188500136137009,-0.09661400318145752,0.08162499964237213,0.010859999805688858,0.5544999837875366]                     |\n",
            "+-------------------------------------+-------+----------------------------------------------------------------------------------------------------------------------------------------------------------------------------------------------------------------------------------------------------------------------------------------------------------------------------------------------------------------------------------------------------------------------------------------------------------------------------------------------------------------------------------------------------------------------------------------------------------------------------------------------------------------------------------------------------------------------------------------------------------------------------------------------------------------------------------------------------------------------------------------------------------------------------------------------------------------------------------------------------------------------------------------------------------------------------------------------------------------------------------------------------------------------------------------------------------------------------------------------------------------------------------------------------------------------------------------------------------------------------------------------------------------------------------------------------------------------------------------------------------------------------------------------------------------------------------------------------------------------------------------------------------------------------------------------------------------------------------------------------------------------------------------------------------------------------------------------------------------------------------------------------------------------------------------------------------------------------------------------------------------------------------------------------------------------------------------------------------------------------------------------------------------------------------------------------------------------------------------------------------------------------------------------------------------------------------------------------------------------------------------------------------------------------------------------------------------------------------------------------------------------------------------------------------------------------------------------------------------------------------------------------------------------------------------------------------------------------------------------------------------------------------------------------------------------------------------------------------------------------------------------------------------------------------------------------------------------------------------------------------------------------------------------------------------------------------------------------------------------------------------------------------------------------------------------------------------------------------------------------------------------------------------------------------------------------------------------------------------------------------------------------------------------------------------------------------------------------------------------------------------------------------------------------------------------------------------------------------------------------------------------------------------------------------------------------------------------------------------------------------------------------------------------------------------------------------------------------------------------------------------------------------------------------------------------------------------------------------------------------------------------------------------------------------------------------------------------------------------------------------------------------------------------------------------------------------------------------------------------------------------------------------------------------------------------------------------------------------------------------------------------------------------------------------------------------------------------------------------------------------------------------------------------------------------------------------------------------------------------------------------------------------------------------------------------------------------------------------------------------------------------------------------------------------------------------------------------------------------------------------------------------------------------------------------------------------------------------------------------------------------------------------------------------------------------------------------------------------------------------------------------------------------------------------------------------------------------------------------------------------------------------------------------------------------------------------------------------------------------------------------------------------------------------------------------------------------------------------------------------------------------------------------------------------------------------------------------------------------------------------------------------------------------------------------------------------------------------------------------------------------------------------------------------------------------------------------------------------------------------------------------------------------------------------------------------------------------------------------------------------------------------------------------------------------------------------------------------------------------------------------------------------------------------------------------------------------------------------------------------+\n",
            "only showing top 20 rows\n",
            "\n"
          ],
          "name": "stdout"
        }
      ]
    },
    {
      "cell_type": "markdown",
      "metadata": {
        "id": "L6wMl9Jcb5P9"
      },
      "source": [
        "1. filter out column != 300\n",
        "2. stringlabel indexer"
      ]
    },
    {
      "cell_type": "code",
      "metadata": {
        "id": "7CxcmRrqb4u8",
        "colab": {
          "base_uri": "https://localhost:8080/",
          "height": 468
        },
        "outputId": "1d880e6b-7ef2-4665-f1c7-acfb9574b0f8"
      },
      "source": [
        "from pyspark.sql import functions as F\n",
        "import itertools\n",
        "import functools\n",
        "from pyspark.ml.linalg import Vectors, VectorUDT\n",
        "# @udf(VectorUDT())\n",
        "@udf(IntegerType())\n",
        "def get_Flatvector_len_2(embd_vec):\n",
        "  # embd_vec = list(embd_vec)\n",
        "  # merged = list(itertools.chain(*embd_vec))\n",
        "  # merged = functools.reduce(operator.iconcat, embd_vec, [])\n",
        "  # mer_floats = [float(np_float) for np_float in merged]\n",
        "  vec =Vectors.dense(embd_vec)\n",
        "  return (len(vec))\n",
        "  # return str(type(mer_floats[0]))\n",
        "  # return embd_vec[0].tolist()\n",
        "\n",
        "dataset_clsf_300_2 = bows_embed_2.select('features',get_Flatvector_len_2(F.col('features')).alias('feat_cnt'),'Genre')\n",
        "dataset_clsf_300_2.na.drop(subset=[\"feat_cnt\"])\n",
        "dataset_clsf_300_2.na.drop(subset=[\"features\"])\n",
        "# dataset_clsf_300.na.drop(subset=[\"label\"])\n",
        "# dataset_clsf.show(truncate = True)\n",
        "# dataset_clsf = dataset_clsf.groupBy(\"features\").agg(F.count('features'))\n",
        "dataset_clsf_300_2 = dataset_clsf_300_2.filter((dataset_clsf_300_2.feat_cnt == 300) | (dataset_clsf_300_2.Genre != ' ') ).select('features','Genre')\n",
        "# dataset_clsf_300 = dataset_clsf_300.filter(dataset_clsf_300.label != ' ').select('features','label')\n",
        "# dataset_clsf_300 = dataset_clsf_300.filter(F.col('features') != ' ')\n",
        "# dataset_clsf_300.show(dataset_clsf_300.count() )\n",
        "# dataset_clsf_300.repartition(1).count()\n",
        "\n",
        "dataset_clsf_300_2.show()\n",
        "# dataset_clsf_300.groupBy(\"feat_cnt\").agg(F.count('feat_cnt')).show()"
      ],
      "execution_count": null,
      "outputs": [
        {
          "output_type": "stream",
          "text": [
            "+--------------------+-------+\n",
            "|            features|  Genre|\n",
            "+--------------------+-------+\n",
            "|[0.05869000032544...|   Rock|\n",
            "|[-0.2186300009489...|   Rock|\n",
            "|[-0.1416600048542...|    Pop|\n",
            "|[-0.0381940007209...|   Rock|\n",
            "|[-0.2708599865436...|   Rock|\n",
            "|[0.05423000082373...|   Rock|\n",
            "|[-0.1037900000810...|   Rock|\n",
            "|[-0.1810200065374...|   Rock|\n",
            "|[-0.2100400030612...|   Rock|\n",
            "|[-0.5455800294876...|   Rock|\n",
            "|[-0.3668900132179...|   Rock|\n",
            "|[-0.3521400094032...|Hip Hop|\n",
            "|[-0.1440100073814...|   Rock|\n",
            "|[0.31435999274253...|   Rock|\n",
            "|[0.34220001101493...|   Rock|\n",
            "|[-0.3397899866104...|    Pop|\n",
            "|[0.17934000492095...|   Rock|\n",
            "|[-0.4695299863815...|    Pop|\n",
            "|[0.71305000782012...|   Rock|\n",
            "|[-0.0719529986381...|   Rock|\n",
            "+--------------------+-------+\n",
            "only showing top 20 rows\n",
            "\n"
          ],
          "name": "stdout"
        }
      ]
    },
    {
      "cell_type": "code",
      "metadata": {
        "id": "y-FW5vXljN77",
        "colab": {
          "base_uri": "https://localhost:8080/",
          "height": 225
        },
        "outputId": "a272254f-0d69-4416-fd85-a320b85718cf"
      },
      "source": [
        "from pyspark.ml import Pipeline\n",
        "from pyspark.ml.feature import OneHotEncoder, StringIndexer, VectorAssembler\n",
        "label_stringIdx = StringIndexer(inputCol = \"Genre\", outputCol = \"label\" ,)\n",
        "pipeline = Pipeline(stages=[ label_stringIdx])\n",
        "# Fit the pipeline to training documents.\n",
        "pipelineFit = pipeline.fit(dataset_clsf_300_2)\n",
        "dataset = pipelineFit.transform(dataset_clsf_300_2)\n",
        "selectedCols = ['features','label']\n",
        "dataset = dataset.select(selectedCols)\n",
        "dataset.show(5)\n",
        "dataset.select('label').distinct().collect()"
      ],
      "execution_count": null,
      "outputs": [
        {
          "output_type": "stream",
          "text": [
            "+--------------------+-----+\n",
            "|            features|label|\n",
            "+--------------------+-----+\n",
            "|[0.05869000032544...|  0.0|\n",
            "|[-0.2186300009489...|  0.0|\n",
            "|[-0.2163199931383...|  1.0|\n",
            "|[-0.0381940007209...|  0.0|\n",
            "|[-0.2708599865436...|  0.0|\n",
            "+--------------------+-----+\n",
            "only showing top 5 rows\n",
            "\n"
          ],
          "name": "stdout"
        },
        {
          "output_type": "execute_result",
          "data": {
            "text/plain": [
              "[Row(label=0.0), Row(label=1.0), Row(label=2.0)]"
            ]
          },
          "metadata": {
            "tags": []
          },
          "execution_count": 32
        }
      ]
    },
    {
      "cell_type": "markdown",
      "metadata": {
        "id": "Br5RBPtrkaMp"
      },
      "source": [
        "continue classification from here............................."
      ]
    },
    {
      "cell_type": "markdown",
      "metadata": {
        "id": "HL9bNDoRYBFY"
      },
      "source": [
        "# Approach 3: Create Labels (unsuprevised) > Topic Modeling"
      ]
    }
  ]
}